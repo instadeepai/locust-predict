{
 "cells": [
  {
   "cell_type": "markdown",
   "metadata": {},
   "source": [
    "# Visualization for Pseudo-Absence Generation\n",
    "\n",
    "In this notebook the output of different pseudo-absence data generation techniques can be visualized."
   ]
  },
  {
   "cell_type": "code",
   "execution_count": null,
   "metadata": {},
   "outputs": [],
   "source": [
    "# install packages (if needed)\n",
    "\n",
    "# install.packages('comprehenr')\n",
    "# install.packages(\"raster\", dependencies=TRUE)\n",
    "# install.packages('stringr')\n",
    "# install.packages('ncdf4')\n",
    "# install.packages('dplyr')\n",
    "# install.packages(\"ggplot2\")"
   ]
  },
  {
   "cell_type": "code",
   "execution_count": null,
   "metadata": {},
   "outputs": [],
   "source": [
    "library(raster)\n",
    "library(ncdf4)\n",
    "library(rgdal)\n",
    "library(comprehenr)\n",
    "library(glue)\n",
    "library(stringr)\n",
    "library(mopa)\n",
    "library(dplyr)\n",
    "library(ggplot2)\n",
    "library(MASS)"
   ]
  },
  {
   "cell_type": "code",
   "execution_count": null,
   "metadata": {},
   "outputs": [],
   "source": [
    "# path to FAO Hoppers dataset\n",
    "FAO_DATA_PATH <- 'Hoppers.csv'\n",
    "# path to NASA NOAH Dataset\n",
    "NASA_DATA_PATH <- '/mnt/disks/nasa/NASA'"
   ]
  },
  {
   "cell_type": "code",
   "execution_count": null,
   "metadata": {},
   "outputs": [],
   "source": [
    "env_profilers <- list('SoilMoi0_10cm_inst')\n",
    "countries = ccodes()\n",
    "african_countries <- countries[countries$continent == 'Africa',]$NAME\n",
    "\n",
    "\n",
    "get_countrySPDF <- function(country)\n",
    "{\n",
    "    if (typeof(country) == 'list'){\n",
    "        countrySPDF <- getData(\"GADM\",country=country[[1]],level=0) \n",
    "        for (country_ in tail(country, -1)){\n",
    "            countrySPDF <- raster::bind(countrySPDF, getData(\"GADM\",country=country_[[1]],level=0))\n",
    "        }\n",
    "    } else if (typeof(country) == 'character'){\n",
    "        countrySPDF <- getData(\"GADM\",country=country,level=0)\n",
    "    }\n",
    "    return(countrySPDF)\n",
    "}\n",
    "\n",
    "subsetCountry <- function(country, data){\n",
    "    countrySPDF <- get_countrySPDF(country)\n",
    "    locs <- data.frame(x=data$x, y=data$y)\n",
    "    coordinates(locs) <- c(\"x\",\"y\")\n",
    "    projection(locs) <- CRS(\"+proj=longlat +init=epsg:4326\")\n",
    "    projection(countrySPDF) <- CRS(\"+proj=longlat +init=epsg:4326\")\n",
    "    countryID <- over(locs, countrySPDF)\n",
    "    data_subset <- data\n",
    "    data_subset['country'] <- countryID$NAME_0\n",
    "    \n",
    "    if (typeof(country) == 'list'){\n",
    "        data_subset <- data_subset[data_subset$country %in% country,]\n",
    "    } else if (typeof(country) == 'character'){\n",
    "        data_subset <- data_subset[data_subset$country == country,]\n",
    "    }\n",
    "    \n",
    "    return(data_subset)\n",
    "}\n",
    "\n",
    "cropCountry <- function(baseRaster, country)\n",
    "{\n",
    "    countrySPDF <- get_countrySPDF(country)\n",
    "    croppedRaster <- mask(crop(baseRaster, extent(countrySPDF)), countrySPDF)\n",
    "    return(croppedRaster)\n",
    "}\n",
    "\n",
    "aggregateSM_NASA <- function(year, month, basePath, env_profilers){\n",
    "    base_name <- glue(\"{basePath}/GLDAS_NOAH025_3H.A{year}{str_pad(month, width=2, pad='0')}\")\n",
    "    dekad1 <- unlist(to_list(for (day in 1:10) Sys.glob(glue(\"{base_name}{sprintf('%02d', day)}*.nc4\"))))\n",
    "    dekad2 <- unlist(to_list(for (day in 11:20) Sys.glob(glue(\"{base_name}{sprintf('%02d', day)}*.nc4\"))))\n",
    "    dekad3 <- unlist(to_list(for (day in 21:31) Sys.glob(glue(\"{base_name}{sprintf('%02d', day)}*.nc4\"))))\n",
    "    dekad1_stacks <- list()\n",
    "    dekad2_stacks <- list()\n",
    "    dekad3_stacks <- list()\n",
    "    i <- 1\n",
    "    for (env_variable in env_profilers){\n",
    "        dekad1_stacks[[i]] <- calc(stack(dekad1, varname=env_variable), mean)\n",
    "        dekad2_stacks[[i]] <- calc(stack(dekad2, varname=env_variable), mean)\n",
    "        dekad3_stacks[[i]] <- calc(stack(dekad3, varname=env_variable), mean)\n",
    "        i <- i + 1\n",
    "    }\n",
    "    dekad1_stacks <- stack(dekad1_stacks)\n",
    "    names(dekad1_stacks) <- paste0(env_profilers, \"_dekad1\")\n",
    "    dekad2_stacks <- stack(dekad2_stacks)\n",
    "    names(dekad2_stacks) <- paste0(env_profilers, \"_dekad2\")\n",
    "    dekad3_stacks <- stack(dekad3_stacks)\n",
    "    names(dekad3_stacks) <- paste0(env_profilers, \"_dekad3\")\n",
    "    \n",
    "    sm <- stack(dekad1_stacks, dekad2_stacks, dekad3_stacks)\n",
    "    return(sm)\n",
    "}\n",
    "                             \n"
   ]
  },
  {
   "cell_type": "code",
   "execution_count": null,
   "metadata": {},
   "outputs": [],
   "source": [
    "swarms_fao_data <- read.csv(file = FAO_DATA_PATH)\n",
    "head(swarms_fao_data)"
   ]
  },
  {
   "cell_type": "code",
   "execution_count": null,
   "metadata": {},
   "outputs": [],
   "source": [
    "country <- list('Mauritania', 'Mali')\n",
    "country_data <- swarms_fao_data\n",
    "date <- as.POSIXct(country_data[['STARTDATE']], format = \"%Y/%m/%d %H:%M:%S\")\n",
    "country_data[['yearmonth']] <- format(date, format=\"%Y%m\")\n",
    "country_data[['year']] <- format(date, format=\"%Y\")\n",
    "country_data[['month']] <- format(date, format=\"%m\")\n",
    "country_data[['day']] <- format(date, format=\"%d\")"
   ]
  },
  {
   "cell_type": "code",
   "execution_count": null,
   "metadata": {},
   "outputs": [],
   "source": [
    "unique(country_data$COUNTRY)"
   ]
  },
  {
   "cell_type": "code",
   "execution_count": null,
   "metadata": {},
   "outputs": [],
   "source": [
    "unique(country_data$year)"
   ]
  },
  {
   "cell_type": "code",
   "execution_count": null,
   "metadata": {},
   "outputs": [],
   "source": [
    "fao_yearmonths <- as.numeric(unique(country_data$yearmonth))\n",
    "nasa_yearmonths <- fao_yearmonths[fao_yearmonths >= 200000 & fao_yearmonths <= 201100]"
   ]
  },
  {
   "cell_type": "code",
   "execution_count": null,
   "metadata": {},
   "outputs": [],
   "source": [
    "barplot(table(country_data$year), col= \"purple\")"
   ]
  },
  {
   "cell_type": "code",
   "execution_count": null,
   "metadata": {},
   "outputs": [],
   "source": [
    "barplot(table(country_data[(country_data$year >= 2000),]$yearmonth), col= \"purple\")"
   ]
  },
  {
   "cell_type": "code",
   "execution_count": null,
   "metadata": {},
   "outputs": [],
   "source": [
    "subset_year <- country_data[country_data$year == '2003',]\n",
    "barplot(table(subset_year$yearmonth), col= \"purple\")"
   ]
  },
  {
   "cell_type": "markdown",
   "metadata": {},
   "source": [
    "## Visualize PA Generation"
   ]
  },
  {
   "cell_type": "code",
   "execution_count": null,
   "metadata": {},
   "outputs": [],
   "source": [
    "yearmonth  <- 200311\n",
    "                             \n",
    "month <- yearmonth %% 100\n",
    "year <- yearmonth %/% 100\n",
    "\n",
    "country <- as.list(african_countries)\n",
    "countrySPDF <- get_countrySPDF(country)\n",
    "env_data <- cropCountry(aggregateSM_NASA(year, month, NASA_DATA_PATH, env_profilers), country)\n",
    "\n",
    "dataset <- read.csv(file = FAO_DATA_PATH)\n",
    "date <- as.POSIXct(dataset[['STARTDATE']], format = \"%Y/%m/%d %H:%M:%S\")\n",
    "dataset[['yearmonth']] <- format(date, format=\"%Y%m\")\n",
    "dataset[['year']] <- as.numeric(format(date, format=\"%Y\"))\n",
    "dataset[['month']] <- as.numeric(format(date, format=\"%m\"))\n",
    "dataset[['day']] <- as.numeric(format(date, format=\"%d\"))\n",
    "train_val <- dataset[((dataset$year >= 2000) & (dataset$year < 2015)),]\n",
    "train_val['y'] <- train_val$Y\n",
    "train_val['x'] <- train_val$X\n",
    "\n",
    "train_val_subset <- subsetCountry(country, train_val)\n",
    "data_subset <- train_val_subset[(train_val_subset$yearmonth == as.character(yearmonth)),]\n",
    "presence <- data_subset[(data_subset$LOCPRESENT == 1),]\n",
    "true_absence <- data_subset[(data_subset$LOCPRESENT == 2),]\n",
    "geo_locs <- data.frame(x=presence$X, y=presence$Y)\n",
    "geo_locs_len <- dim(geo_locs)[1]\n",
    "bg <- backgroundGrid(env_data)"
   ]
  },
  {
   "cell_type": "code",
   "execution_count": null,
   "metadata": {
    "scrolled": true
   },
   "outputs": [],
   "source": [
    "plot(env_data)"
   ]
  },
  {
   "cell_type": "code",
   "execution_count": null,
   "metadata": {
    "scrolled": true
   },
   "outputs": [],
   "source": [
    "bg_extents <- backgroundRadius(xy = geo_locs, background = bg$xy, \n",
    "       start = 0.083*3, by = 0.083*3, \n",
    "       unit = \"decimal degrees\")\n",
    "random_generated_data <-pseudoAbsences(xy = geo_locs, background = bg$xy, \n",
    "               exclusion.buffer = 0.083*3, \n",
    "               prevalence = 0.5, kmeans = FALSE)\n",
    "\n",
    "random_plus_generated_data <-pseudoAbsences(xy = geo_locs, background = bg_extents, \n",
    "                                       exclusion.buffer = 0.083*3, \n",
    "                                       prevalence = 0.5, kmeans = FALSE)"
   ]
  },
  {
   "cell_type": "code",
   "execution_count": null,
   "metadata": {},
   "outputs": [],
   "source": [
    "bg_profiled <- OCSVMprofiling(xy = geo_locs, \n",
    "                varstack = calc(raster::subset(env_data, c('SoilMoi0_10cm_inst_dekad1', 'SoilMoi0_10cm_inst_dekad2', 'SoilMoi0_10cm_inst_dekad3')), mean), \n",
    "                background = bg$xy)\n",
    "bg_extents <- backgroundRadius(xy = geo_locs, background = bg_profiled$absence, \n",
    "       start = 0.083*3, by = 0.083*3, \n",
    "       unit = \"decimal degrees\")\n",
    "# generate data using environmental profiling\n",
    "ep_random_generated_data <-pseudoAbsences(xy = geo_locs, background = bg_profiled$absence, \n",
    "                   exclusion.buffer = 0.083*3, \n",
    "                   prevalence = 0.5, kmeans = FALSE)\n",
    "\n",
    "ep_random_plus_generated_data <-pseudoAbsences(xy = geo_locs, background = bg_extents, \n",
    "                   exclusion.buffer = 0.083*3, \n",
    "                   prevalence = 0.5, kmeans = FALSE)\n"
   ]
  },
  {
   "cell_type": "code",
   "execution_count": null,
   "metadata": {},
   "outputs": [],
   "source": [
    "#pdf(file = \"plots/rs.pdf\")\n",
    "par(mar=c(11,3.5,2,1))\n",
    "\n",
    "country <- list('Niger', 'Mauritania', 'Mali', 'Algeria', 'Western Sahara', 'Morocco')\n",
    "background_to_plot <- subsetCountry(country, data.frame(bg$xy))\n",
    "background_to_plot <- data.frame(x=background_to_plot$x, y=background_to_plot$y)\n",
    "\n",
    "plot(background_to_plot, pch=\"*\", asp = 1, cex = 0.25, \n",
    "     axes=FALSE, bty=\"n\", xlab=\"(a)\", ylab='', cex.lab=2.0,)\n",
    "\n",
    "data_to_plot <- subsetCountry(country, random_generated_data$species1$PA01[[1]])\n",
    "\n",
    "\n",
    "points(filter(data_to_plot, v == 1), col= \"blue\", pch = \".\", cex = 2.5)\n",
    "points(filter(data_to_plot, v == 0), col= \"red\", pch = \".\", cex = 2.5)\n",
    "plot(get_countrySPDF(country), add=TRUE, cex = 0.05, border='grey')\n",
    "\n",
    "# dev.off()"
   ]
  },
  {
   "cell_type": "code",
   "execution_count": null,
   "metadata": {},
   "outputs": [],
   "source": [
    "# pdf(file = \"plots/rsep.pdf\")\n",
    "par(mar=c(11,3.5,2,1))\n",
    "\n",
    "country <- list('Niger', 'Mauritania', 'Mali', 'Algeria', 'Western Sahara', 'Morocco')\n",
    "background_to_plot <- subsetCountry(country, data.frame(bg_profiled$absence))\n",
    "background_to_plot <- data.frame(x=background_to_plot$x, y=background_to_plot$y)\n",
    "\n",
    "plot(background_to_plot, pch=\"*\", asp = 1, cex = 0.25, \n",
    "     axes=FALSE, bty=\"n\", xlab=\"(b)\", ylab='', cex.lab=2.0,)\n",
    "\n",
    "data_to_plot <- subsetCountry(country, ep_random_generated_data$species1$PA01[[1]])\n",
    "\n",
    "points(filter(data_to_plot, v == 1), col= \"blue\", pch = \".\", cex = 2.5)\n",
    "points(filter(data_to_plot, v == 0), col= \"red\", pch = \".\", cex = 2.5)\n",
    "plot(get_countrySPDF(country), add=TRUE, cex = 0.05, border='grey')\n",
    "\n",
    "# dev.off()"
   ]
  },
  {
   "cell_type": "code",
   "execution_count": null,
   "metadata": {},
   "outputs": [],
   "source": [
    "# pdf(file = \"plots/rs_plus.pdf\")\n",
    "par(mar=c(11,3.5,2,1))\n",
    "\n",
    "country <- list('Niger', 'Mauritania', 'Mali', 'Algeria', 'Western Sahara', 'Morocco')\n",
    "background_to_plot <- subsetCountry(country, data.frame(bg$xy))\n",
    "background_to_plot <- data.frame(x=background_to_plot$x, y=background_to_plot$y)\n",
    "\n",
    "plot(background_to_plot, pch=\"*\", asp = 1, cex = 0.25, \n",
    "     axes=FALSE, bty=\"n\", xlab=\"(c)\", ylab='', cex.lab=2.0,)\n",
    "\n",
    "data_to_plot <- subsetCountry(country, random_plus_generated_data$species1$PA01[[1]])\n",
    "\n",
    "points(filter(data_to_plot, v == 1), col= \"blue\", pch = \".\", cex = 2.5)\n",
    "points(filter(data_to_plot, v == 0), col= \"red\", pch = \".\", cex = 2.5)\n",
    "plot(get_countrySPDF(country), add=TRUE, cex = 0.05, border='grey')\n",
    "\n",
    "# dev.off()"
   ]
  },
  {
   "cell_type": "code",
   "execution_count": null,
   "metadata": {},
   "outputs": [],
   "source": [
    "# pdf(file = \"plots/rsep_plus.pdf\")\n",
    "par(mar=c(11,3.5,2,1))\n",
    "\n",
    "country <- list('Niger', 'Mauritania', 'Mali', 'Algeria', 'Western Sahara', 'Morocco')\n",
    "background_to_plot <- subsetCountry(country, data.frame(bg_profiled$absence))\n",
    "background_to_plot <- data.frame(x=background_to_plot$x, y=background_to_plot$y)\n",
    "\n",
    "plot(background_to_plot, pch=\"*\", asp = 1, cex = 0.25, \n",
    "     axes=FALSE, bty=\"n\", xlab=\"(d)\", ylab='', cex.lab=2.0,)\n",
    "\n",
    "data_to_plot <- subsetCountry(country, ep_random_plus_generated_data$species1$PA01[[1]])\n",
    "\n",
    "points(filter(data_to_plot, v == 1), col= \"blue\", pch = \".\", cex = 2.5)\n",
    "points(filter(data_to_plot, v == 0), col= \"red\", pch = \".\", cex = 2.5)\n",
    "plot(get_countrySPDF(country), add=TRUE, cex = 0.05, border='grey')\n",
    "\n",
    "# dev.off()"
   ]
  },
  {
   "cell_type": "code",
   "execution_count": null,
   "metadata": {},
   "outputs": [],
   "source": [
    "#pdf(file = \"plots/rs.pdf\")\n",
    "# par(mar=c(11,3.5,2,1))\n",
    "\n",
    "country <- as.list(african_countries)\n",
    "background_to_plot <- subsetCountry(country, data.frame(bg$xy))\n",
    "background_to_plot <- data.frame(x=background_to_plot$x, y=background_to_plot$y)\n",
    "\n",
    "plot(background_to_plot, pch=\"*\", asp = 1, cex = 0.05, \n",
    "     axes=FALSE, bty=\"n\", xlab='', ylab='', cex.lab=2.0,, main='RS')\n",
    "\n",
    "data_to_plot <- subsetCountry(country, random_generated_data$species1$PA01[[1]])\n",
    "\n",
    "points(filter(data_to_plot, v == 1), col= \"blue\", pch = \".\", cex = 2.5)\n",
    "points(filter(data_to_plot, v == 0), col= \"red\", pch = \".\", cex = 2.5)\n",
    "plot(get_countrySPDF(country), add=TRUE, cex = 0.05, border='grey')\n",
    "\n",
    "# dev.off()"
   ]
  },
  {
   "cell_type": "code",
   "execution_count": null,
   "metadata": {},
   "outputs": [],
   "source": [
    "# pdf(file = \"plots/rs_plus.pdf\")\n",
    "# par(mar=c(11,3.5,2,1))\n",
    "\n",
    "country <- as.list(african_countries)\n",
    "background_to_plot <- subsetCountry(country, data.frame(bg$xy))\n",
    "background_to_plot <- data.frame(x=background_to_plot$x, y=background_to_plot$y)\n",
    "\n",
    "plot(background_to_plot, pch=\"*\", asp = 1, cex = 0.05, \n",
    "     axes=FALSE, bty=\"n\", xlab='', ylab='', cex.lab=2.0, main='RS+')\n",
    "\n",
    "data_to_plot <- subsetCountry(country, random_plus_generated_data$species1$PA01[[1]])\n",
    "\n",
    "points(filter(data_to_plot, v == 1), col= \"blue\", pch = \".\", cex = 2.5)\n",
    "points(filter(data_to_plot, v == 0), col= \"red\", pch = \".\", cex = 2.5)\n",
    "plot(get_countrySPDF(country), add=TRUE, cex = 0.05, border='grey')\n",
    "\n",
    "# dev.off()"
   ]
  },
  {
   "cell_type": "code",
   "execution_count": null,
   "metadata": {},
   "outputs": [],
   "source": [
    "# pdf(file = \"plots/rsep.pdf\")\n",
    "# par(mar=c(11,3.5,2,1))\n",
    "\n",
    "country <- as.list(african_countries)\n",
    "background_to_plot <- subsetCountry(country, data.frame(bg_profiled$absence))\n",
    "background_to_plot <- data.frame(x=background_to_plot$x, y=background_to_plot$y)\n",
    "\n",
    "plot(background_to_plot, pch=\"*\", asp = 1, cex = 0.05, axes=FALSE, bty=\"n\", \n",
    "     xlab='', ylab='', cex.lab=2.0, main=\"RSEP\")\n",
    "\n",
    "data_to_plot <- subsetCountry(country, ep_random_generated_data$species1$PA01[[1]])\n",
    "\n",
    "points(filter(data_to_plot, v == 1), col= \"blue\", pch = \".\", cex = 1.5)\n",
    "points(filter(data_to_plot, v == 0), col= \"red\", pch = \".\", cex = 1.5)\n",
    "plot(get_countrySPDF(country), add=TRUE, cex = 0.05, border='grey')\n",
    "\n",
    "# dev.off()"
   ]
  },
  {
   "cell_type": "code",
   "execution_count": null,
   "metadata": {},
   "outputs": [],
   "source": [
    "# pdf(file = \"plots/rsep_plus.pdf\")\n",
    "# par(mar=c(11,3.5,2,1))\n",
    "\n",
    "country <- as.list(african_countries)\n",
    "background_to_plot <- subsetCountry(country, data.frame(bg_profiled$absence))\n",
    "background_to_plot <- data.frame(x=background_to_plot$x, y=background_to_plot$y)\n",
    "\n",
    "plot(background_to_plot, pch=\"*\", asp = 1, cex = 0.05, \n",
    "     axes=FALSE, bty=\"n\", xlab='', ylab='', cex.lab=2.0, main=\"RSEP+\")\n",
    "\n",
    "data_to_plot <- subsetCountry(country, ep_random_plus_generated_data$species1$PA01[[1]])\n",
    "\n",
    "points(filter(data_to_plot, v == 1), col= \"blue\", pch = \".\", cex = 2.5)\n",
    "points(filter(data_to_plot, v == 0), col= \"red\", pch = \".\", cex = 2.5)\n",
    "plot(get_countrySPDF(country), add=TRUE, cex = 0.05, border='grey')\n",
    "\n",
    "# dev.off()"
   ]
  },
  {
   "cell_type": "code",
   "execution_count": null,
   "metadata": {},
   "outputs": [],
   "source": []
  }
 ],
 "metadata": {
  "kernelspec": {
   "display_name": "R",
   "language": "R",
   "name": "ir"
  },
  "language_info": {
   "codemirror_mode": "r",
   "file_extension": ".r",
   "mimetype": "text/x-r-source",
   "name": "R",
   "pygments_lexer": "r",
   "version": "3.6.3"
  }
 },
 "nbformat": 4,
 "nbformat_minor": 4
}
