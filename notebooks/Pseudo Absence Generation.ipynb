{
 "cells": [
  {
   "cell_type": "markdown",
   "metadata": {},
   "source": [
    "# Pseudo-Absence Generation\n",
    "\n",
    "In this notebook pseudo-absence data is generated using the techniques described in this [paper](https://www.sciencedirect.com/science/article/abs/pii/S030438001500215X)\n"
   ]
  },
  {
   "cell_type": "code",
   "execution_count": 5,
   "metadata": {},
   "outputs": [],
   "source": [
    "# install packages\n",
    "\n",
    "# install.packages('comprehenr')\n",
    "# install.packages(\"raster\", dependencies=TRUE)\n",
    "# install.packages('stringr')\n",
    "# install.packages('ncdf4')\n",
    "# install.packages('dplyr')"
   ]
  },
  {
   "cell_type": "code",
   "execution_count": 1,
   "metadata": {},
   "outputs": [
    {
     "name": "stderr",
     "output_type": "stream",
     "text": [
      "Loading required package: sp\n",
      "\n",
      "Please note that rgdal will be retired by the end of 2023,\n",
      "plan transition to sf/stars/terra functions using GDAL and PROJ\n",
      "at your earliest convenience.\n",
      "\n",
      "rgdal: version: 1.5-25, (SVN revision 1143)\n",
      "Geospatial Data Abstraction Library extensions to R successfully loaded\n",
      "Loaded GDAL runtime: GDAL 2.4.0, released 2018/12/14\n",
      "Path to GDAL shared files: /usr/share/gdal\n",
      "GDAL binary built with GEOS: TRUE \n",
      "Loaded PROJ runtime: Rel. 5.2.0, September 15th, 2018, [PJ_VERSION: 520]\n",
      "Path to PROJ shared files: (autodetected)\n",
      "Linking to sp version:1.4-5\n",
      "\n",
      "\n",
      "Attaching package: ‘glue’\n",
      "\n",
      "\n",
      "The following object is masked from ‘package:raster’:\n",
      "\n",
      "    trim\n",
      "\n",
      "\n",
      "\n",
      "Attaching package: ‘dplyr’\n",
      "\n",
      "\n",
      "The following object is masked from ‘package:glue’:\n",
      "\n",
      "    collapse\n",
      "\n",
      "\n",
      "The following objects are masked from ‘package:raster’:\n",
      "\n",
      "    intersect, select, union\n",
      "\n",
      "\n",
      "The following objects are masked from ‘package:stats’:\n",
      "\n",
      "    filter, lag\n",
      "\n",
      "\n",
      "The following objects are masked from ‘package:base’:\n",
      "\n",
      "    intersect, setdiff, setequal, union\n",
      "\n",
      "\n"
     ]
    }
   ],
   "source": [
    "library(raster)\n",
    "library(ncdf4)\n",
    "library(rgdal)\n",
    "library(comprehenr)\n",
    "library(glue)\n",
    "library(stringr)\n",
    "library(mopa)\n",
    "library(dplyr)"
   ]
  },
  {
   "cell_type": "code",
   "execution_count": 2,
   "metadata": {},
   "outputs": [],
   "source": [
    "env_profilers <- list(\n",
    "#     'Swnet_tavg', \n",
    "#     'Lwnet_tavg', \n",
    "#     'Qle_tavg', \n",
    "#     'Qh_tavg', \n",
    "#     'Qg_tavg', \n",
    "#     'Snowf_tavg', \n",
    "#     'Rainf_tavg', \n",
    "#     'Evap_tavg', \n",
    "#     'Qs_acc', \n",
    "#     'Qsb_acc', \n",
    "#     'Qsm_acc', \n",
    "#     'AvgSurfT_inst', \n",
    "#     'Albedo_inst', \n",
    "#     'SWE_inst', \n",
    "#     'SnowDepth_inst', \n",
    "    'SoilMoi0_10cm_inst'\n",
    "#     'SoilMoi10_40cm_inst', \n",
    "#     'SoilTMP0_10cm_inst', \n",
    "#     'SoilTMP10_40cm_inst', \n",
    "#     'SoilTMP40_100cm_inst', \n",
    "#     'SoilTMP100_200cm_inst', \n",
    "#     'PotEvap_tavg', \n",
    "#     'ECanop_tavg', \n",
    "#     'Tveg_tavg', \n",
    "#     'ESoil_tavg', \n",
    "#     'RootMoist_inst', \n",
    "#     'CanopInt_inst', \n",
    "#     'Wind_f_inst', \n",
    "#     'Rainf_f_tavg', \n",
    "#     'Tair_f_inst'\n",
    "#     'Qair_f_inst', \n",
    "#     'Psurf_f_inst', \n",
    "#     'SWdown_f_tavg', \n",
    "#     'LWdown_f_tavg'\n",
    ")"
   ]
  },
  {
   "cell_type": "code",
   "execution_count": 3,
   "metadata": {},
   "outputs": [
    {
     "data": {
      "text/html": [
       "1"
      ],
      "text/latex": [
       "1"
      ],
      "text/markdown": [
       "1"
      ],
      "text/plain": [
       "[1] 1"
      ]
     },
     "metadata": {},
     "output_type": "display_data"
    }
   ],
   "source": [
    "length(env_profilers)"
   ]
  },
  {
   "cell_type": "code",
   "execution_count": 4,
   "metadata": {},
   "outputs": [],
   "source": [
    "get_countrySPDF <- function(country)\n",
    "{\n",
    "    if (typeof(country) == 'list'){\n",
    "        countrySPDF <- getData(\"GADM\",country=country[[1]],level=0) \n",
    "        for (country_ in tail(country, -1)){\n",
    "            countrySPDF <- raster::bind(countrySPDF, getData(\"GADM\",country=country_[[1]],level=0))\n",
    "        }\n",
    "    } else if (typeof(country) == 'character'){\n",
    "        countrySPDF <- getData(\"GADM\",country=country,level=0)\n",
    "    }\n",
    "    return(countrySPDF)\n",
    "}\n",
    "\n",
    "\n",
    "cropCountry <- function(baseRaster, country)\n",
    "{\n",
    "    countrySPDF <- get_countrySPDF(country)\n",
    "    croppedRaster <- mask(crop(baseRaster, extent(countrySPDF)), countrySPDF)\n",
    "    return(croppedRaster)\n",
    "}\n",
    "\n",
    "\n",
    "aggregateSM_NASA <- function(year, month, basePath, env_profilers){\n",
    "    base_name <- glue(\"{basePath}/GLDAS_NOAH025_3H.A{year}{str_pad(month, width=2, pad='0')}\")\n",
    "    dekad1 <- unlist(to_list(for (day in 1:10) Sys.glob(glue(\"{base_name}{sprintf('%02d', day)}*.nc4\"))))\n",
    "    dekad2 <- unlist(to_list(for (day in 11:20) Sys.glob(glue(\"{base_name}{sprintf('%02d', day)}*.nc4\"))))\n",
    "    dekad3 <- unlist(to_list(for (day in 21:31) Sys.glob(glue(\"{base_name}{sprintf('%02d', day)}*.nc4\"))))\n",
    "    \n",
    "    dekad1_stacks <- list()\n",
    "    dekad2_stacks <- list()\n",
    "    dekad3_stacks <- list()\n",
    "    i <- 1\n",
    "    for (env_variable in env_profilers){\n",
    "        dekad1_stacks[[i]] <- calc(stack(dekad1, varname=env_variable), mean)\n",
    "        dekad2_stacks[[i]] <- calc(stack(dekad2, varname=env_variable), mean)\n",
    "        dekad3_stacks[[i]] <- calc(stack(dekad3, varname=env_variable), mean)\n",
    "        i <- i + 1\n",
    "    }\n",
    "    dekad1_stacks <- stack(dekad1_stacks)\n",
    "    names(dekad1_stacks) <- paste0(env_profilers, \"_dekad1\")\n",
    "    dekad2_stacks <- stack(dekad2_stacks)\n",
    "    names(dekad2_stacks) <- paste0(env_profilers, \"_dekad2\")\n",
    "    dekad3_stacks <- stack(dekad3_stacks)\n",
    "    names(dekad3_stacks) <- paste0(env_profilers, \"_dekad3\")\n",
    "    \n",
    "    sm <- stack(dekad1_stacks, dekad2_stacks, dekad3_stacks)\n",
    "    return(sm)\n",
    "}\n",
    "                          \n",
    "subsetCountry <- function(country, data){\n",
    "    countrySPDF <- get_countrySPDF(country)\n",
    "    locs <- data.frame(x=data$X, y=data$Y)\n",
    "    coordinates(locs) <- c(\"x\",\"y\")\n",
    "    projection(locs) <- CRS(\"+proj=longlat +init=epsg:4326\")\n",
    "    projection(countrySPDF) <- CRS(\"+proj=longlat +init=epsg:4326\")\n",
    "    countryID <- over(locs, countrySPDF)\n",
    "    data_subset <- data\n",
    "    data_subset['country'] <- countryID$NAME_0\n",
    "    \n",
    "    if (typeof(country) == 'list'){\n",
    "        data_subset <- data_subset[data_subset$country %in% country,]\n",
    "    } else if (typeof(country) == 'character'){\n",
    "        data_subset <- data_subset[data_subset$country == country,]\n",
    "    }\n",
    "    \n",
    "    return(data_subset)\n",
    "}\n",
    "\n",
    "\n",
    "finalize_data <- function(pa_generation, data, no_generation){\n",
    "    if (no_generation){\n",
    "        final_data <- data.frame(x=pa_generation$x, y=pa_generation$y, presence=pa_generation$v)\n",
    "    } else {\n",
    "        final_data <- data.frame(x=pa_generation$species1$PA01[[1]]$x, y=pa_generation$species1$PA01[[1]]$y, presence=pa_generation$species1$PA01[[1]]$v)\n",
    "    }\n",
    "    final_data['year'] = data$year\n",
    "    final_data['month'] = data$month\n",
    "    final_data['day'] = 0    \n",
    "    final_data[final_data$presence != 0, 'day'] <- data$day\n",
    "    \n",
    "#     countrySPDF <- get_countrySPDF(country)\n",
    "#     locs <- data.frame(x=data$X, y=data$Y)\n",
    "#     coordinates(locs) <- c(\"x\",\"y\")\n",
    "#     projection(locs) <- CRS(\"+proj=longlat +init=epsg:4326\")\n",
    "#     projection(countrySPDF) <- CRS(\"+proj=longlat +init=epsg:4326\")\n",
    "#     countryID <- over(locs, countrySPDF)\n",
    "#     final_data['country'] <- countryID$NAME_0\n",
    "    \n",
    "    if (! no_generation){\n",
    "        random_days <- sampleInt(28, length(final_data[final_data$presence != 1, 'day']), replace=TRUE)\n",
    "        final_data[final_data$presence != 1, 'day'] <- random_days\n",
    "\n",
    "    }\n",
    "    return(final_data)\n",
    "}\n",
    "\n",
    "\n",
    "extract_values <- function(locs, raster_data){\n",
    "    sp <- SpatialPoints(locs)\n",
    "    data <- extract(raster_data, sp, method='bilinear')\n",
    "    return(data)\n",
    "}"
   ]
  },
  {
   "cell_type": "code",
   "execution_count": 5,
   "metadata": {},
   "outputs": [],
   "source": [
    "get_soil_profile <- function(basePath, raster_extent, country) {\n",
    "    clay0_5 <- cropCountry(raster(glue('{basePath}/clay_0-5cm_mean.tif')), country)\n",
    "    extent(clay0_5) <- raster_extent\n",
    "#     res(clay0_5) <- c(0.01, 0.01)\n",
    "\n",
    "    clay5_15 <- cropCountry(raster(glue('{basePath}/clay_5-15cm_mean.tif')), country)\n",
    "    extent(clay5_15) <- raster_extent\n",
    "#     res(clay5_15) <- c(0.01, 0.01)\n",
    "\n",
    "    sand0_5 <- cropCountry(raster(glue('{basePath}/sand_0-5cm_mean.tif')), country)\n",
    "    extent(sand0_5) <- raster_extent\n",
    "#     res(sand0_5) <- c(0.01, 0.01)\n",
    "\n",
    "    sand5_15 <- cropCountry(raster(glue('{basePath}/sand_5-15cm_mean.tif')), country)\n",
    "    extent(sand5_15) <- raster_extent\n",
    "#     res(sand5_15) <- c(0.01, 0.01)\n",
    "\n",
    "    silt0_5 <- cropCountry(raster(glue('{basePath}/silt_0-5cm_mean.tif')), country)\n",
    "    extent(silt0_5) <- raster_extent\n",
    "#     res(silt0_5) <- c(0.01, 0.01)\n",
    "\n",
    "    silt5_15 <- cropCountry(raster(glue('{basePath}/silt_5-15cm_mean.tif')), country)\n",
    "    extent(silt5_15) <- raster_extent\n",
    "#     res(silt5_15) <- c(0.01, 0.01)\n",
    "\n",
    "    soil_profile <- stack(c(clay0_5, clay5_15, sand0_5, sand5_15, silt0_5, silt5_15))\n",
    "    soil_profile <- soil_profile/1000\n",
    "    soil_profile[is.na(soil_profile)] <- 0\n",
    "    return(soil_profile)\n",
    "}"
   ]
  },
  {
   "cell_type": "code",
   "execution_count": 6,
   "metadata": {},
   "outputs": [
    {
     "data": {
      "text/html": [
       "<table class=\"dataframe\">\n",
       "<caption>A data.frame: 6 × 156</caption>\n",
       "<thead>\n",
       "\t<tr><th></th><th scope=col>X</th><th scope=col>Y</th><th scope=col>OBJECTID</th><th scope=col>STARTDATE</th><th scope=col>TmSTARTDAT</th><th scope=col>FINISHDATE</th><th scope=col>TmFINISHDA</th><th scope=col>EXACTDATE</th><th scope=col>PARTMONTH</th><th scope=col>LOCNAME</th><th scope=col>⋯</th><th scope=col>CTLAPPVEHI</th><th scope=col>CTLAPPAIR</th><th scope=col>CTLAPPMECH</th><th scope=col>CTLAPPUNK</th><th scope=col>CTLESTKILL</th><th scope=col>CAT</th><th scope=col>yearmonth</th><th scope=col>year</th><th scope=col>month</th><th scope=col>day</th></tr>\n",
       "\t<tr><th></th><th scope=col>&lt;dbl&gt;</th><th scope=col>&lt;dbl&gt;</th><th scope=col>&lt;int&gt;</th><th scope=col>&lt;fct&gt;</th><th scope=col>&lt;fct&gt;</th><th scope=col>&lt;fct&gt;</th><th scope=col>&lt;fct&gt;</th><th scope=col>&lt;fct&gt;</th><th scope=col>&lt;fct&gt;</th><th scope=col>&lt;fct&gt;</th><th scope=col>⋯</th><th scope=col>&lt;int&gt;</th><th scope=col>&lt;int&gt;</th><th scope=col>&lt;int&gt;</th><th scope=col>&lt;int&gt;</th><th scope=col>&lt;int&gt;</th><th scope=col>&lt;fct&gt;</th><th scope=col>&lt;chr&gt;</th><th scope=col>&lt;dbl&gt;</th><th scope=col>&lt;dbl&gt;</th><th scope=col>&lt;dbl&gt;</th></tr>\n",
       "</thead>\n",
       "<tbody>\n",
       "\t<tr><th scope=row>1</th><td> 37.333333</td><td>19.31667</td><td>1</td><td>1985/12/30 00:00:00+00</td><td>12:00</td><td>1985/12/30 00:00:00+00</td><td>12:00</td><td>No </td><td>Late  </td><td>Khor Hambokeib</td><td>⋯</td><td>0</td><td>0</td><td>0</td><td>0</td><td>0</td><td>Hopper</td><td>198512</td><td>1985</td><td>12</td><td>30</td></tr>\n",
       "\t<tr><th scope=row>2</th><td> 37.350000</td><td>19.23333</td><td>2</td><td>1985/12/30 00:00:00+00</td><td>12:00</td><td>1985/12/30 00:00:00+00</td><td>12:00</td><td>No </td><td>Late  </td><td>Khor Handub   </td><td>⋯</td><td>0</td><td>0</td><td>0</td><td>0</td><td>0</td><td>Hopper</td><td>198512</td><td>1985</td><td>12</td><td>30</td></tr>\n",
       "\t<tr><th scope=row>3</th><td>-14.917778</td><td>16.95167</td><td>3</td><td>1985/10/18 00:00:00+00</td><td>12:00</td><td>1985/10/18 00:00:00+00</td><td>12:00</td><td>No </td><td>Middle</td><td>              </td><td>⋯</td><td>0</td><td>0</td><td>0</td><td>0</td><td>0</td><td>Hopper</td><td>198510</td><td>1985</td><td>10</td><td>18</td></tr>\n",
       "\t<tr><th scope=row>4</th><td> -0.381650</td><td>18.66083</td><td>4</td><td>1985/10/15 00:00:00+00</td><td>12:00</td><td>1985/10/15 00:00:00+00</td><td>12:00</td><td>Yes</td><td>      </td><td>              </td><td>⋯</td><td>0</td><td>0</td><td>0</td><td>0</td><td>0</td><td>Hopper</td><td>198510</td><td>1985</td><td>10</td><td>15</td></tr>\n",
       "\t<tr><th scope=row>5</th><td>  1.522778</td><td>20.93833</td><td>5</td><td>1985/11/06 00:00:00+00</td><td>12:00</td><td>1985/11/06 00:00:00+00</td><td>12:00</td><td>No </td><td>Early </td><td>              </td><td>⋯</td><td>0</td><td>0</td><td>0</td><td>0</td><td>0</td><td>Hopper</td><td>198511</td><td>1985</td><td>11</td><td> 6</td></tr>\n",
       "\t<tr><th scope=row>6</th><td>  4.216111</td><td>18.63500</td><td>6</td><td>1985/11/15 00:00:00+00</td><td>12:00</td><td>1985/11/15 00:00:00+00</td><td>12:00</td><td>Yes</td><td>      </td><td>              </td><td>⋯</td><td>0</td><td>0</td><td>0</td><td>0</td><td>0</td><td>Hopper</td><td>198511</td><td>1985</td><td>11</td><td>15</td></tr>\n",
       "</tbody>\n",
       "</table>\n"
      ],
      "text/latex": [
       "A data.frame: 6 × 156\n",
       "\\begin{tabular}{r|lllllllllllllllllllll}\n",
       "  & X & Y & OBJECTID & STARTDATE & TmSTARTDAT & FINISHDATE & TmFINISHDA & EXACTDATE & PARTMONTH & LOCNAME & ⋯ & CTLAPPVEHI & CTLAPPAIR & CTLAPPMECH & CTLAPPUNK & CTLESTKILL & CAT & yearmonth & year & month & day\\\\\n",
       "  & <dbl> & <dbl> & <int> & <fct> & <fct> & <fct> & <fct> & <fct> & <fct> & <fct> & ⋯ & <int> & <int> & <int> & <int> & <int> & <fct> & <chr> & <dbl> & <dbl> & <dbl>\\\\\n",
       "\\hline\n",
       "\t1 &  37.333333 & 19.31667 & 1 & 1985/12/30 00:00:00+00 & 12:00 & 1985/12/30 00:00:00+00 & 12:00 & No  & Late   & Khor Hambokeib & ⋯ & 0 & 0 & 0 & 0 & 0 & Hopper & 198512 & 1985 & 12 & 30\\\\\n",
       "\t2 &  37.350000 & 19.23333 & 2 & 1985/12/30 00:00:00+00 & 12:00 & 1985/12/30 00:00:00+00 & 12:00 & No  & Late   & Khor Handub    & ⋯ & 0 & 0 & 0 & 0 & 0 & Hopper & 198512 & 1985 & 12 & 30\\\\\n",
       "\t3 & -14.917778 & 16.95167 & 3 & 1985/10/18 00:00:00+00 & 12:00 & 1985/10/18 00:00:00+00 & 12:00 & No  & Middle &                & ⋯ & 0 & 0 & 0 & 0 & 0 & Hopper & 198510 & 1985 & 10 & 18\\\\\n",
       "\t4 &  -0.381650 & 18.66083 & 4 & 1985/10/15 00:00:00+00 & 12:00 & 1985/10/15 00:00:00+00 & 12:00 & Yes &        &                & ⋯ & 0 & 0 & 0 & 0 & 0 & Hopper & 198510 & 1985 & 10 & 15\\\\\n",
       "\t5 &   1.522778 & 20.93833 & 5 & 1985/11/06 00:00:00+00 & 12:00 & 1985/11/06 00:00:00+00 & 12:00 & No  & Early  &                & ⋯ & 0 & 0 & 0 & 0 & 0 & Hopper & 198511 & 1985 & 11 &  6\\\\\n",
       "\t6 &   4.216111 & 18.63500 & 6 & 1985/11/15 00:00:00+00 & 12:00 & 1985/11/15 00:00:00+00 & 12:00 & Yes &        &                & ⋯ & 0 & 0 & 0 & 0 & 0 & Hopper & 198511 & 1985 & 11 & 15\\\\\n",
       "\\end{tabular}\n"
      ],
      "text/markdown": [
       "\n",
       "A data.frame: 6 × 156\n",
       "\n",
       "| <!--/--> | X &lt;dbl&gt; | Y &lt;dbl&gt; | OBJECTID &lt;int&gt; | STARTDATE &lt;fct&gt; | TmSTARTDAT &lt;fct&gt; | FINISHDATE &lt;fct&gt; | TmFINISHDA &lt;fct&gt; | EXACTDATE &lt;fct&gt; | PARTMONTH &lt;fct&gt; | LOCNAME &lt;fct&gt; | ⋯ ⋯ | CTLAPPVEHI &lt;int&gt; | CTLAPPAIR &lt;int&gt; | CTLAPPMECH &lt;int&gt; | CTLAPPUNK &lt;int&gt; | CTLESTKILL &lt;int&gt; | CAT &lt;fct&gt; | yearmonth &lt;chr&gt; | year &lt;dbl&gt; | month &lt;dbl&gt; | day &lt;dbl&gt; |\n",
       "|---|---|---|---|---|---|---|---|---|---|---|---|---|---|---|---|---|---|---|---|---|---|\n",
       "| 1 |  37.333333 | 19.31667 | 1 | 1985/12/30 00:00:00+00 | 12:00 | 1985/12/30 00:00:00+00 | 12:00 | No  | Late   | Khor Hambokeib | ⋯ | 0 | 0 | 0 | 0 | 0 | Hopper | 198512 | 1985 | 12 | 30 |\n",
       "| 2 |  37.350000 | 19.23333 | 2 | 1985/12/30 00:00:00+00 | 12:00 | 1985/12/30 00:00:00+00 | 12:00 | No  | Late   | Khor Handub    | ⋯ | 0 | 0 | 0 | 0 | 0 | Hopper | 198512 | 1985 | 12 | 30 |\n",
       "| 3 | -14.917778 | 16.95167 | 3 | 1985/10/18 00:00:00+00 | 12:00 | 1985/10/18 00:00:00+00 | 12:00 | No  | Middle | <!----> | ⋯ | 0 | 0 | 0 | 0 | 0 | Hopper | 198510 | 1985 | 10 | 18 |\n",
       "| 4 |  -0.381650 | 18.66083 | 4 | 1985/10/15 00:00:00+00 | 12:00 | 1985/10/15 00:00:00+00 | 12:00 | Yes | <!----> | <!----> | ⋯ | 0 | 0 | 0 | 0 | 0 | Hopper | 198510 | 1985 | 10 | 15 |\n",
       "| 5 |   1.522778 | 20.93833 | 5 | 1985/11/06 00:00:00+00 | 12:00 | 1985/11/06 00:00:00+00 | 12:00 | No  | Early  | <!----> | ⋯ | 0 | 0 | 0 | 0 | 0 | Hopper | 198511 | 1985 | 11 |  6 |\n",
       "| 6 |   4.216111 | 18.63500 | 6 | 1985/11/15 00:00:00+00 | 12:00 | 1985/11/15 00:00:00+00 | 12:00 | Yes | <!----> | <!----> | ⋯ | 0 | 0 | 0 | 0 | 0 | Hopper | 198511 | 1985 | 11 | 15 |\n",
       "\n"
      ],
      "text/plain": [
       "  X          Y        OBJECTID STARTDATE              TmSTARTDAT\n",
       "1  37.333333 19.31667 1        1985/12/30 00:00:00+00 12:00     \n",
       "2  37.350000 19.23333 2        1985/12/30 00:00:00+00 12:00     \n",
       "3 -14.917778 16.95167 3        1985/10/18 00:00:00+00 12:00     \n",
       "4  -0.381650 18.66083 4        1985/10/15 00:00:00+00 12:00     \n",
       "5   1.522778 20.93833 5        1985/11/06 00:00:00+00 12:00     \n",
       "6   4.216111 18.63500 6        1985/11/15 00:00:00+00 12:00     \n",
       "  FINISHDATE             TmFINISHDA EXACTDATE PARTMONTH LOCNAME        ⋯\n",
       "1 1985/12/30 00:00:00+00 12:00      No        Late      Khor Hambokeib ⋯\n",
       "2 1985/12/30 00:00:00+00 12:00      No        Late      Khor Handub    ⋯\n",
       "3 1985/10/18 00:00:00+00 12:00      No        Middle                   ⋯\n",
       "4 1985/10/15 00:00:00+00 12:00      Yes                                ⋯\n",
       "5 1985/11/06 00:00:00+00 12:00      No        Early                    ⋯\n",
       "6 1985/11/15 00:00:00+00 12:00      Yes                                ⋯\n",
       "  CTLAPPVEHI CTLAPPAIR CTLAPPMECH CTLAPPUNK CTLESTKILL CAT    yearmonth year\n",
       "1 0          0         0          0         0          Hopper 198512    1985\n",
       "2 0          0         0          0         0          Hopper 198512    1985\n",
       "3 0          0         0          0         0          Hopper 198510    1985\n",
       "4 0          0         0          0         0          Hopper 198510    1985\n",
       "5 0          0         0          0         0          Hopper 198511    1985\n",
       "6 0          0         0          0         0          Hopper 198511    1985\n",
       "  month day\n",
       "1 12    30 \n",
       "2 12    30 \n",
       "3 10    18 \n",
       "4 10    15 \n",
       "5 11     6 \n",
       "6 11    15 "
      ]
     },
     "metadata": {},
     "output_type": "display_data"
    }
   ],
   "source": [
    "dataset <- read.csv(file = 'Hoppers.csv')\n",
    "date <- as.POSIXct(dataset[['STARTDATE']], format = \"%Y/%m/%d %H:%M:%S\")\n",
    "dataset[['yearmonth']] <- format(date, format=\"%Y%m\")\n",
    "dataset[['year']] <- as.numeric(format(date, format=\"%Y\"))\n",
    "dataset[['month']] <- as.numeric(format(date, format=\"%m\"))\n",
    "dataset[['day']] <- as.numeric(format(date, format=\"%d\"))\n",
    "head(dataset)"
   ]
  },
  {
   "cell_type": "code",
   "execution_count": 7,
   "metadata": {},
   "outputs": [],
   "source": [
    "train_val <- dataset[((dataset$year >= 2000) & (dataset$year < 2015)),]\n",
    "test <- dataset[(dataset$year >= 2015), ]"
   ]
  },
  {
   "cell_type": "code",
   "execution_count": 8,
   "metadata": {},
   "outputs": [
    {
     "data": {
      "text/html": [
       "<style>\n",
       ".list-inline {list-style: none; margin:0; padding: 0}\n",
       ".list-inline>li {display: inline-block}\n",
       ".list-inline>li:not(:last-child)::after {content: \"\\00b7\"; padding: 0 .5ex}\n",
       "</style>\n",
       "<ol class=list-inline><li>2014</li><li>2021</li></ol>\n"
      ],
      "text/latex": [
       "\\begin{enumerate*}\n",
       "\\item 2014\n",
       "\\item 2021\n",
       "\\end{enumerate*}\n"
      ],
      "text/markdown": [
       "1. 2014\n",
       "2. 2021\n",
       "\n",
       "\n"
      ],
      "text/plain": [
       "[1] 2014 2021"
      ]
     },
     "metadata": {},
     "output_type": "display_data"
    }
   ],
   "source": [
    "c(max(train_val$year), max(test$year))"
   ]
  },
  {
   "cell_type": "code",
   "execution_count": 9,
   "metadata": {},
   "outputs": [],
   "source": [
    "# countries = ccodes()\n",
    "# african_countries <- countries[countries$continent == 'Africa',]$NAME\n",
    "# print(african_countries)"
   ]
  },
  {
   "cell_type": "code",
   "execution_count": 14,
   "metadata": {},
   "outputs": [],
   "source": [
    "country_ids <- list('NG', 'OM', 'SA', 'SO', 'SU', 'IN', 'PA', 'ER', 'ET', 'IR', 'MR' ) #as.list(african_countries) #list('Mauritania', 'Mali')\n",
    "l <- ccodes()\n",
    "country <- list('Mauritania', 'Mali') #, 'Saudi Arabia') #as.list(l[l$ISO2 %in% country,]$NAME)\n",
    "soil_profile <- get_soil_profile('full_isric_data', extent(get_countrySPDF(country)), country)\n",
    "train_val_subset <- subsetCountry(country, train_val)\n",
    "test_subset <- subsetCountry(country, test)"
   ]
  },
  {
   "cell_type": "code",
   "execution_count": 15,
   "metadata": {},
   "outputs": [
    {
     "data": {
      "text/html": [
       "<style>\n",
       ".list-inline {list-style: none; margin:0; padding: 0}\n",
       ".list-inline>li {display: inline-block}\n",
       ".list-inline>li:not(:last-child)::after {content: \"\\00b7\"; padding: 0 .5ex}\n",
       "</style>\n",
       "<ol class=list-inline><li>'Mauritania'</li><li>'Mali'</li></ol>\n"
      ],
      "text/latex": [
       "\\begin{enumerate*}\n",
       "\\item 'Mauritania'\n",
       "\\item 'Mali'\n",
       "\\end{enumerate*}\n"
      ],
      "text/markdown": [
       "1. 'Mauritania'\n",
       "2. 'Mali'\n",
       "\n",
       "\n"
      ],
      "text/plain": [
       "[1] \"Mauritania\" \"Mali\"      "
      ]
     },
     "metadata": {},
     "output_type": "display_data"
    }
   ],
   "source": [
    "unique(train_val_subset$country)"
   ]
  },
  {
   "cell_type": "code",
   "execution_count": 16,
   "metadata": {},
   "outputs": [
    {
     "data": {
      "text/html": [
       "<table class=\"dataframe\">\n",
       "<caption>A data.frame: 11072 × 157</caption>\n",
       "<thead>\n",
       "\t<tr><th></th><th scope=col>X</th><th scope=col>Y</th><th scope=col>OBJECTID</th><th scope=col>STARTDATE</th><th scope=col>TmSTARTDAT</th><th scope=col>FINISHDATE</th><th scope=col>TmFINISHDA</th><th scope=col>EXACTDATE</th><th scope=col>PARTMONTH</th><th scope=col>LOCNAME</th><th scope=col>⋯</th><th scope=col>CTLAPPAIR</th><th scope=col>CTLAPPMECH</th><th scope=col>CTLAPPUNK</th><th scope=col>CTLESTKILL</th><th scope=col>CAT</th><th scope=col>yearmonth</th><th scope=col>year</th><th scope=col>month</th><th scope=col>day</th><th scope=col>country</th></tr>\n",
       "\t<tr><th></th><th scope=col>&lt;dbl&gt;</th><th scope=col>&lt;dbl&gt;</th><th scope=col>&lt;int&gt;</th><th scope=col>&lt;fct&gt;</th><th scope=col>&lt;fct&gt;</th><th scope=col>&lt;fct&gt;</th><th scope=col>&lt;fct&gt;</th><th scope=col>&lt;fct&gt;</th><th scope=col>&lt;fct&gt;</th><th scope=col>&lt;fct&gt;</th><th scope=col>⋯</th><th scope=col>&lt;int&gt;</th><th scope=col>&lt;int&gt;</th><th scope=col>&lt;int&gt;</th><th scope=col>&lt;int&gt;</th><th scope=col>&lt;fct&gt;</th><th scope=col>&lt;chr&gt;</th><th scope=col>&lt;dbl&gt;</th><th scope=col>&lt;dbl&gt;</th><th scope=col>&lt;dbl&gt;</th><th scope=col>&lt;chr&gt;</th></tr>\n",
       "</thead>\n",
       "<tbody>\n",
       "\t<tr><th scope=row>4512</th><td>-13.89944</td><td>19.15694</td><td>4512</td><td>2000/11/27 00:00:00+00</td><td>00:00</td><td>2000/11/27 00:00:00+00</td><td>00:00</td><td>Yes</td><td>NA</td><td> </td><td>⋯</td><td>0</td><td>0</td><td>0</td><td>0</td><td>Hopper</td><td>200011</td><td>2000</td><td>11</td><td>27</td><td>Mauritania</td></tr>\n",
       "\t<tr><th scope=row>4513</th><td>-13.91028</td><td>19.14444</td><td>4513</td><td>2000/11/27 00:00:00+00</td><td>00:00</td><td>2000/11/27 00:00:00+00</td><td>00:00</td><td>Yes</td><td>NA</td><td> </td><td>⋯</td><td>0</td><td>0</td><td>0</td><td>0</td><td>Hopper</td><td>200011</td><td>2000</td><td>11</td><td>27</td><td>Mauritania</td></tr>\n",
       "\t<tr><th scope=row>4514</th><td>-13.92306</td><td>19.14667</td><td>4514</td><td>2000/11/27 00:00:00+00</td><td>00:00</td><td>2000/11/27 00:00:00+00</td><td>00:00</td><td>Yes</td><td>NA</td><td> </td><td>⋯</td><td>0</td><td>0</td><td>0</td><td>0</td><td>Hopper</td><td>200011</td><td>2000</td><td>11</td><td>27</td><td>Mauritania</td></tr>\n",
       "\t<tr><th scope=row>4515</th><td>-12.94583</td><td>19.14639</td><td>4515</td><td>2000/11/28 00:00:00+00</td><td>00:00</td><td>2000/11/28 00:00:00+00</td><td>00:00</td><td>Yes</td><td>NA</td><td> </td><td>⋯</td><td>0</td><td>0</td><td>0</td><td>0</td><td>Hopper</td><td>200011</td><td>2000</td><td>11</td><td>28</td><td>Mauritania</td></tr>\n",
       "\t<tr><th scope=row>4516</th><td>-12.94972</td><td>19.13306</td><td>4516</td><td>2000/11/28 00:00:00+00</td><td>00:00</td><td>2000/11/28 00:00:00+00</td><td>00:00</td><td>Yes</td><td>NA</td><td> </td><td>⋯</td><td>0</td><td>0</td><td>0</td><td>0</td><td>Hopper</td><td>200011</td><td>2000</td><td>11</td><td>28</td><td>Mauritania</td></tr>\n",
       "\t<tr><th scope=row>4517</th><td>-13.94778</td><td>19.17194</td><td>4517</td><td>2000/11/29 00:00:00+00</td><td>00:00</td><td>2000/11/29 00:00:00+00</td><td>00:00</td><td>Yes</td><td>NA</td><td> </td><td>⋯</td><td>0</td><td>0</td><td>0</td><td>0</td><td>Hopper</td><td>200011</td><td>2000</td><td>11</td><td>29</td><td>Mauritania</td></tr>\n",
       "\t<tr><th scope=row>4518</th><td>-13.95194</td><td>19.19611</td><td>4518</td><td>2000/11/29 00:00:00+00</td><td>00:00</td><td>2000/11/29 00:00:00+00</td><td>00:00</td><td>Yes</td><td>NA</td><td> </td><td>⋯</td><td>0</td><td>0</td><td>0</td><td>0</td><td>Hopper</td><td>200011</td><td>2000</td><td>11</td><td>29</td><td>Mauritania</td></tr>\n",
       "\t<tr><th scope=row>4519</th><td>-13.87833</td><td>19.15500</td><td>4519</td><td>2000/11/29 00:00:00+00</td><td>00:00</td><td>2000/11/29 00:00:00+00</td><td>00:00</td><td>Yes</td><td>NA</td><td> </td><td>⋯</td><td>0</td><td>0</td><td>0</td><td>0</td><td>Hopper</td><td>200011</td><td>2000</td><td>11</td><td>29</td><td>Mauritania</td></tr>\n",
       "\t<tr><th scope=row>4520</th><td>-13.86917</td><td>19.15833</td><td>4520</td><td>2000/11/29 00:00:00+00</td><td>00:00</td><td>2000/11/29 00:00:00+00</td><td>00:00</td><td>Yes</td><td>NA</td><td> </td><td>⋯</td><td>0</td><td>0</td><td>0</td><td>0</td><td>Hopper</td><td>200011</td><td>2000</td><td>11</td><td>29</td><td>Mauritania</td></tr>\n",
       "\t<tr><th scope=row>4521</th><td>-12.93889</td><td>19.13000</td><td>4521</td><td>2000/11/29 00:00:00+00</td><td>00:00</td><td>2000/11/29 00:00:00+00</td><td>00:00</td><td>Yes</td><td>NA</td><td> </td><td>⋯</td><td>0</td><td>0</td><td>0</td><td>0</td><td>Hopper</td><td>200011</td><td>2000</td><td>11</td><td>29</td><td>Mauritania</td></tr>\n",
       "\t<tr><th scope=row>4522</th><td>-12.96389</td><td>19.12778</td><td>4522</td><td>2000/11/29 00:00:00+00</td><td>00:00</td><td>2000/11/29 00:00:00+00</td><td>00:00</td><td>Yes</td><td>NA</td><td> </td><td>⋯</td><td>0</td><td>0</td><td>0</td><td>0</td><td>Hopper</td><td>200011</td><td>2000</td><td>11</td><td>29</td><td>Mauritania</td></tr>\n",
       "\t<tr><th scope=row>4523</th><td>-13.85056</td><td>19.15472</td><td>4523</td><td>2000/11/30 00:00:00+00</td><td>00:00</td><td>2000/11/30 00:00:00+00</td><td>00:00</td><td>Yes</td><td>NA</td><td> </td><td>⋯</td><td>0</td><td>0</td><td>0</td><td>0</td><td>Hopper</td><td>200011</td><td>2000</td><td>11</td><td>30</td><td>Mauritania</td></tr>\n",
       "\t<tr><th scope=row>4524</th><td>-13.86167</td><td>19.16222</td><td>4524</td><td>2000/11/30 00:00:00+00</td><td>00:00</td><td>2000/11/30 00:00:00+00</td><td>00:00</td><td>Yes</td><td>NA</td><td> </td><td>⋯</td><td>0</td><td>0</td><td>0</td><td>0</td><td>Hopper</td><td>200011</td><td>2000</td><td>11</td><td>30</td><td>Mauritania</td></tr>\n",
       "\t<tr><th scope=row>4525</th><td>-13.84556</td><td>19.16056</td><td>4525</td><td>2000/11/30 00:00:00+00</td><td>00:00</td><td>2000/11/30 00:00:00+00</td><td>00:00</td><td>Yes</td><td>NA</td><td> </td><td>⋯</td><td>0</td><td>0</td><td>0</td><td>0</td><td>Hopper</td><td>200011</td><td>2000</td><td>11</td><td>30</td><td>Mauritania</td></tr>\n",
       "\t<tr><th scope=row>4526</th><td>-13.83472</td><td>19.17139</td><td>4526</td><td>2000/11/30 00:00:00+00</td><td>00:00</td><td>2000/11/30 00:00:00+00</td><td>00:00</td><td>Yes</td><td>NA</td><td> </td><td>⋯</td><td>0</td><td>0</td><td>0</td><td>0</td><td>Hopper</td><td>200011</td><td>2000</td><td>11</td><td>30</td><td>Mauritania</td></tr>\n",
       "\t<tr><th scope=row>4527</th><td>-14.09833</td><td>19.36667</td><td>4527</td><td>2000/11/22 00:00:00+00</td><td>00:00</td><td>2000/11/22 00:00:00+00</td><td>00:00</td><td>Yes</td><td>NA</td><td> </td><td>⋯</td><td>0</td><td>0</td><td>0</td><td>0</td><td>Hopper</td><td>200011</td><td>2000</td><td>11</td><td>22</td><td>Mauritania</td></tr>\n",
       "\t<tr><th scope=row>4528</th><td>-13.91083</td><td>19.15250</td><td>4528</td><td>2000/11/23 00:00:00+00</td><td>00:00</td><td>2000/11/23 00:00:00+00</td><td>00:00</td><td>Yes</td><td>NA</td><td> </td><td>⋯</td><td>0</td><td>0</td><td>0</td><td>0</td><td>Hopper</td><td>200011</td><td>2000</td><td>11</td><td>23</td><td>Mauritania</td></tr>\n",
       "\t<tr><th scope=row>4529</th><td>-13.76250</td><td>18.82722</td><td>4529</td><td>2000/11/24 00:00:00+00</td><td>00:00</td><td>2000/11/24 00:00:00+00</td><td>00:00</td><td>Yes</td><td>NA</td><td> </td><td>⋯</td><td>0</td><td>0</td><td>0</td><td>0</td><td>Hopper</td><td>200011</td><td>2000</td><td>11</td><td>24</td><td>Mauritania</td></tr>\n",
       "\t<tr><th scope=row>4530</th><td>-14.82333</td><td>19.49361</td><td>4530</td><td>2000/11/26 00:00:00+00</td><td>00:00</td><td>2000/11/26 00:00:00+00</td><td>00:00</td><td>Yes</td><td>NA</td><td> </td><td>⋯</td><td>0</td><td>0</td><td>0</td><td>0</td><td>Hopper</td><td>200011</td><td>2000</td><td>11</td><td>26</td><td>Mauritania</td></tr>\n",
       "\t<tr><th scope=row>4531</th><td>-15.45583</td><td>20.58194</td><td>4531</td><td>2000/01/11 00:00:00+00</td><td>00:00</td><td>2000/01/11 00:00:00+00</td><td>00:00</td><td>Yes</td><td>NA</td><td> </td><td>⋯</td><td>0</td><td>0</td><td>0</td><td>0</td><td>Hopper</td><td>200001</td><td>2000</td><td> 1</td><td>11</td><td>Mauritania</td></tr>\n",
       "\t<tr><th scope=row>4532</th><td>-13.03750</td><td>18.97500</td><td>4532</td><td>2000/11/01 00:00:00+00</td><td>00:00</td><td>2000/11/01 00:00:00+00</td><td>00:00</td><td>Yes</td><td>NA</td><td> </td><td>⋯</td><td>0</td><td>0</td><td>0</td><td>0</td><td>Hopper</td><td>200011</td><td>2000</td><td>11</td><td> 1</td><td>Mauritania</td></tr>\n",
       "\t<tr><th scope=row>4533</th><td>-14.30333</td><td>18.74583</td><td>4533</td><td>2000/11/01 00:00:00+00</td><td>00:00</td><td>2000/11/01 00:00:00+00</td><td>00:00</td><td>Yes</td><td>NA</td><td> </td><td>⋯</td><td>0</td><td>0</td><td>0</td><td>0</td><td>Hopper</td><td>200011</td><td>2000</td><td>11</td><td> 1</td><td>Mauritania</td></tr>\n",
       "\t<tr><th scope=row>4534</th><td>-14.35556</td><td>18.74611</td><td>4534</td><td>2000/11/01 00:00:00+00</td><td>00:00</td><td>2000/11/01 00:00:00+00</td><td>00:00</td><td>Yes</td><td>NA</td><td> </td><td>⋯</td><td>0</td><td>0</td><td>0</td><td>0</td><td>Hopper</td><td>200011</td><td>2000</td><td>11</td><td> 1</td><td>Mauritania</td></tr>\n",
       "\t<tr><th scope=row>4535</th><td>-14.28944</td><td>18.73833</td><td>4535</td><td>2000/11/02 00:00:00+00</td><td>00:00</td><td>2000/11/02 00:00:00+00</td><td>00:00</td><td>Yes</td><td>NA</td><td> </td><td>⋯</td><td>0</td><td>0</td><td>0</td><td>0</td><td>Hopper</td><td>200011</td><td>2000</td><td>11</td><td> 2</td><td>Mauritania</td></tr>\n",
       "\t<tr><th scope=row>4536</th><td>-14.24750</td><td>18.74528</td><td>4536</td><td>2000/11/02 00:00:00+00</td><td>00:00</td><td>2000/11/02 00:00:00+00</td><td>00:00</td><td>Yes</td><td>NA</td><td> </td><td>⋯</td><td>0</td><td>0</td><td>0</td><td>0</td><td>Hopper</td><td>200011</td><td>2000</td><td>11</td><td> 2</td><td>Mauritania</td></tr>\n",
       "\t<tr><th scope=row>4537</th><td>-14.24556</td><td>18.74250</td><td>4537</td><td>2000/11/03 00:00:00+00</td><td>00:00</td><td>2000/11/03 00:00:00+00</td><td>00:00</td><td>Yes</td><td>NA</td><td> </td><td>⋯</td><td>0</td><td>0</td><td>0</td><td>0</td><td>Hopper</td><td>200011</td><td>2000</td><td>11</td><td> 3</td><td>Mauritania</td></tr>\n",
       "\t<tr><th scope=row>4538</th><td>-14.27167</td><td>18.73833</td><td>4538</td><td>2000/11/03 00:00:00+00</td><td>00:00</td><td>2000/11/03 00:00:00+00</td><td>00:00</td><td>Yes</td><td>NA</td><td> </td><td>⋯</td><td>0</td><td>0</td><td>0</td><td>0</td><td>Hopper</td><td>200011</td><td>2000</td><td>11</td><td> 3</td><td>Mauritania</td></tr>\n",
       "\t<tr><th scope=row>4539</th><td>-13.02861</td><td>18.97528</td><td>4539</td><td>2000/11/05 00:00:00+00</td><td>00:00</td><td>2000/11/05 00:00:00+00</td><td>00:00</td><td>Yes</td><td>NA</td><td> </td><td>⋯</td><td>0</td><td>0</td><td>0</td><td>0</td><td>Hopper</td><td>200011</td><td>2000</td><td>11</td><td> 5</td><td>Mauritania</td></tr>\n",
       "\t<tr><th scope=row>4540</th><td>-13.02806</td><td>18.97861</td><td>4540</td><td>2000/11/06 00:00:00+00</td><td>00:00</td><td>2000/11/06 00:00:00+00</td><td>00:00</td><td>Yes</td><td>NA</td><td> </td><td>⋯</td><td>0</td><td>0</td><td>0</td><td>0</td><td>Hopper</td><td>200011</td><td>2000</td><td>11</td><td> 6</td><td>Mauritania</td></tr>\n",
       "\t<tr><th scope=row>4541</th><td>-13.03028</td><td>18.99333</td><td>4541</td><td>2000/11/06 00:00:00+00</td><td>00:00</td><td>2000/11/06 00:00:00+00</td><td>00:00</td><td>Yes</td><td>NA</td><td> </td><td>⋯</td><td>0</td><td>0</td><td>0</td><td>0</td><td>Hopper</td><td>200011</td><td>2000</td><td>11</td><td> 6</td><td>Mauritania</td></tr>\n",
       "\t<tr><th scope=row>⋮</th><td>⋮</td><td>⋮</td><td>⋮</td><td>⋮</td><td>⋮</td><td>⋮</td><td>⋮</td><td>⋮</td><td>⋮</td><td>⋮</td><td>⋱</td><td>⋮</td><td>⋮</td><td>⋮</td><td>⋮</td><td>⋮</td><td>⋮</td><td>⋮</td><td>⋮</td><td>⋮</td><td>⋮</td></tr>\n",
       "\t<tr><th scope=row>30323</th><td>-15.158889</td><td>18.89722</td><td>30323</td><td>2013/11/15 00:00:00+00</td><td>16:40</td><td>2013/11/15 00:00:00+00</td><td>16:40</td><td>No</td><td>Middle</td><td>        </td><td>⋯</td><td>0</td><td>0</td><td>0</td><td>0</td><td>Hopper</td><td>201311</td><td>2013</td><td>11</td><td>15</td><td>Mauritania</td></tr>\n",
       "\t<tr><th scope=row>30324</th><td>-15.136667</td><td>18.89111</td><td>30324</td><td>2013/11/15 00:00:00+00</td><td>08:47</td><td>2013/11/15 00:00:00+00</td><td>08:47</td><td>No</td><td>Middle</td><td>        </td><td>⋯</td><td>0</td><td>0</td><td>0</td><td>0</td><td>Hopper</td><td>201311</td><td>2013</td><td>11</td><td>15</td><td>Mauritania</td></tr>\n",
       "\t<tr><th scope=row>30325</th><td>-15.147222</td><td>18.89917</td><td>30325</td><td>2013/11/15 00:00:00+00</td><td>11:20</td><td>2013/11/15 00:00:00+00</td><td>11:20</td><td>No</td><td>Middle</td><td>        </td><td>⋯</td><td>0</td><td>0</td><td>0</td><td>0</td><td>Hopper</td><td>201311</td><td>2013</td><td>11</td><td>15</td><td>Mauritania</td></tr>\n",
       "\t<tr><th scope=row>30326</th><td>-14.813611</td><td>18.99778</td><td>30326</td><td>2013/11/15 00:00:00+00</td><td>13:11</td><td>2013/11/15 00:00:00+00</td><td>13:11</td><td>No</td><td>Middle</td><td>        </td><td>⋯</td><td>0</td><td>0</td><td>0</td><td>0</td><td>Hopper</td><td>201311</td><td>2013</td><td>11</td><td>15</td><td>Mauritania</td></tr>\n",
       "\t<tr><th scope=row>31575</th><td>-13.796111</td><td>18.41361</td><td>31575</td><td>2014/09/11 00:00:00+00</td><td>10:48</td><td>2014/09/11 00:00:00+00</td><td>10:48</td><td>No</td><td>Middle</td><td>        </td><td>⋯</td><td>0</td><td>0</td><td>0</td><td>0</td><td>Hopper</td><td>201409</td><td>2014</td><td> 9</td><td>11</td><td>Mauritania</td></tr>\n",
       "\t<tr><th scope=row>31576</th><td>-13.635278</td><td>18.50556</td><td>31576</td><td>2014/09/12 00:00:00+00</td><td>08:00</td><td>2014/09/12 00:00:00+00</td><td>08:00</td><td>No</td><td>Middle</td><td>        </td><td>⋯</td><td>0</td><td>0</td><td>0</td><td>0</td><td>Hopper</td><td>201409</td><td>2014</td><td> 9</td><td>12</td><td>Mauritania</td></tr>\n",
       "\t<tr><th scope=row>31618</th><td>-14.650278</td><td>18.86750</td><td>31618</td><td>2014/10/28 00:00:00+00</td><td>08:33</td><td>2014/10/28 00:00:00+00</td><td>08:33</td><td>No</td><td>Late  </td><td>        </td><td>⋯</td><td>0</td><td>0</td><td>0</td><td>0</td><td>Hopper</td><td>201410</td><td>2014</td><td>10</td><td>28</td><td>Mauritania</td></tr>\n",
       "\t<tr><th scope=row>31619</th><td>-13.778611</td><td>19.05167</td><td>31619</td><td>2014/11/21 00:00:00+00</td><td>10:28</td><td>2014/11/21 00:00:00+00</td><td>10:28</td><td>No</td><td>Late  </td><td>        </td><td>⋯</td><td>0</td><td>0</td><td>0</td><td>0</td><td>Hopper</td><td>201411</td><td>2014</td><td>11</td><td>21</td><td>Mauritania</td></tr>\n",
       "\t<tr><th scope=row>31620</th><td>-13.888333</td><td>18.88861</td><td>31620</td><td>2014/11/25 00:00:00+00</td><td>15:49</td><td>2014/11/25 00:00:00+00</td><td>15:49</td><td>No</td><td>Late  </td><td>        </td><td>⋯</td><td>0</td><td>0</td><td>0</td><td>0</td><td>Hopper</td><td>201411</td><td>2014</td><td>11</td><td>25</td><td>Mauritania</td></tr>\n",
       "\t<tr><th scope=row>31621</th><td>-13.856111</td><td>19.02722</td><td>31621</td><td>2014/11/26 00:00:00+00</td><td>09:27</td><td>2014/11/26 00:00:00+00</td><td>09:27</td><td>No</td><td>Late  </td><td>        </td><td>⋯</td><td>0</td><td>0</td><td>0</td><td>0</td><td>Hopper</td><td>201411</td><td>2014</td><td>11</td><td>26</td><td>Mauritania</td></tr>\n",
       "\t<tr><th scope=row>31680</th><td>-13.767222</td><td>18.92333</td><td>31680</td><td>2014/12/12 00:00:00+00</td><td>16:38</td><td>2014/12/12 00:00:00+00</td><td>16:38</td><td>No</td><td>Middle</td><td>        </td><td>⋯</td><td>0</td><td>0</td><td>0</td><td>0</td><td>Hopper</td><td>201412</td><td>2014</td><td>12</td><td>12</td><td>Mauritania</td></tr>\n",
       "\t<tr><th scope=row>31809</th><td>-13.855000</td><td>19.03083</td><td>31809</td><td>2014/11/30 00:00:00+00</td><td>17:09</td><td>2014/11/30 00:00:00+00</td><td>17:09</td><td>No</td><td>Late  </td><td>        </td><td>⋯</td><td>0</td><td>0</td><td>0</td><td>0</td><td>Hopper</td><td>201411</td><td>2014</td><td>11</td><td>30</td><td>Mauritania</td></tr>\n",
       "\t<tr><th scope=row>31813</th><td>-13.837778</td><td>18.28167</td><td>31813</td><td>2014/10/09 00:00:00+00</td><td>11:13</td><td>2014/10/09 00:00:00+00</td><td>11:13</td><td>No</td><td>Early </td><td>        </td><td>⋯</td><td>0</td><td>0</td><td>0</td><td>0</td><td>Hopper</td><td>201410</td><td>2014</td><td>10</td><td> 9</td><td>Mauritania</td></tr>\n",
       "\t<tr><th scope=row>31825</th><td>-13.779167</td><td>19.05167</td><td>31825</td><td>2014/11/02 00:00:00+00</td><td>10:06</td><td>2014/11/02 00:00:00+00</td><td>10:06</td><td>No</td><td>Early </td><td>        </td><td>⋯</td><td>0</td><td>0</td><td>0</td><td>0</td><td>Hopper</td><td>201411</td><td>2014</td><td>11</td><td> 2</td><td>Mauritania</td></tr>\n",
       "\t<tr><th scope=row>31838</th><td> -3.983333</td><td>21.90000</td><td>31838</td><td>2014/09/15 00:00:00+00</td><td>12:00</td><td>2014/09/15 00:00:00+00</td><td>12:00</td><td>No</td><td>NA    </td><td>Marcouba</td><td>⋯</td><td>0</td><td>0</td><td>0</td><td>0</td><td>Hopper</td><td>201409</td><td>2014</td><td> 9</td><td>15</td><td>Mali      </td></tr>\n",
       "\t<tr><th scope=row>31842</th><td>-13.818889</td><td>18.36778</td><td>31842</td><td>2014/09/11 00:00:00+00</td><td>09:38</td><td>2014/09/11 00:00:00+00</td><td>09:38</td><td>No</td><td>Middle</td><td>        </td><td>⋯</td><td>0</td><td>0</td><td>0</td><td>0</td><td>Hopper</td><td>201409</td><td>2014</td><td> 9</td><td>11</td><td>Mauritania</td></tr>\n",
       "\t<tr><th scope=row>31852</th><td>-14.675556</td><td>18.49556</td><td>31852</td><td>2014/10/23 00:00:00+00</td><td>18:08</td><td>2014/10/23 00:00:00+00</td><td>18:08</td><td>No</td><td>Late  </td><td>        </td><td>⋯</td><td>0</td><td>0</td><td>0</td><td>0</td><td>Hopper</td><td>201410</td><td>2014</td><td>10</td><td>23</td><td>Mauritania</td></tr>\n",
       "\t<tr><th scope=row>31853</th><td>-14.706944</td><td>18.46306</td><td>31853</td><td>2014/10/22 00:00:00+00</td><td>17:35</td><td>2014/10/22 00:00:00+00</td><td>17:35</td><td>No</td><td>Late  </td><td>        </td><td>⋯</td><td>0</td><td>0</td><td>0</td><td>0</td><td>Hopper</td><td>201410</td><td>2014</td><td>10</td><td>22</td><td>Mauritania</td></tr>\n",
       "\t<tr><th scope=row>31854</th><td>-14.710833</td><td>18.48111</td><td>31854</td><td>2014/10/22 00:00:00+00</td><td>10:07</td><td>2014/10/22 00:00:00+00</td><td>10:07</td><td>No</td><td>Late  </td><td>        </td><td>⋯</td><td>0</td><td>0</td><td>0</td><td>0</td><td>Hopper</td><td>201410</td><td>2014</td><td>10</td><td>22</td><td>Mauritania</td></tr>\n",
       "\t<tr><th scope=row>31855</th><td>-14.667778</td><td>18.49500</td><td>31855</td><td>2014/10/22 00:00:00+00</td><td>08:38</td><td>2014/10/22 00:00:00+00</td><td>08:38</td><td>No</td><td>Late  </td><td>        </td><td>⋯</td><td>0</td><td>0</td><td>0</td><td>0</td><td>Hopper</td><td>201410</td><td>2014</td><td>10</td><td>22</td><td>Mauritania</td></tr>\n",
       "\t<tr><th scope=row>31856</th><td>-14.682778</td><td>18.48806</td><td>31856</td><td>2014/10/30 00:00:00+00</td><td>16:41</td><td>2014/10/30 00:00:00+00</td><td>16:41</td><td>No</td><td>Late  </td><td>        </td><td>⋯</td><td>0</td><td>0</td><td>0</td><td>0</td><td>Hopper</td><td>201410</td><td>2014</td><td>10</td><td>30</td><td>Mauritania</td></tr>\n",
       "\t<tr><th scope=row>31857</th><td>-13.799444</td><td>18.40917</td><td>31857</td><td>2014/10/22 00:00:00+00</td><td>12:55</td><td>2014/10/22 00:00:00+00</td><td>12:55</td><td>No</td><td>Late  </td><td>        </td><td>⋯</td><td>0</td><td>0</td><td>0</td><td>0</td><td>Hopper</td><td>201410</td><td>2014</td><td>10</td><td>22</td><td>Mauritania</td></tr>\n",
       "\t<tr><th scope=row>31858</th><td>-14.733611</td><td>18.46667</td><td>31858</td><td>2014/10/31 00:00:00+00</td><td>16:53</td><td>2014/10/31 00:00:00+00</td><td>16:53</td><td>No</td><td>Late  </td><td>        </td><td>⋯</td><td>0</td><td>0</td><td>0</td><td>0</td><td>Hopper</td><td>201410</td><td>2014</td><td>10</td><td>31</td><td>Mauritania</td></tr>\n",
       "\t<tr><th scope=row>31859</th><td>-14.667500</td><td>18.49444</td><td>31859</td><td>2014/10/31 00:00:00+00</td><td>11:00</td><td>2014/10/31 00:00:00+00</td><td>11:00</td><td>No</td><td>Late  </td><td>        </td><td>⋯</td><td>0</td><td>0</td><td>0</td><td>0</td><td>Hopper</td><td>201410</td><td>2014</td><td>10</td><td>31</td><td>Mauritania</td></tr>\n",
       "\t<tr><th scope=row>31860</th><td>-14.692778</td><td>18.49611</td><td>31860</td><td>2014/10/31 00:00:00+00</td><td>10:03</td><td>2014/10/31 00:00:00+00</td><td>10:03</td><td>No</td><td>Late  </td><td>        </td><td>⋯</td><td>0</td><td>0</td><td>0</td><td>0</td><td>Hopper</td><td>201410</td><td>2014</td><td>10</td><td>31</td><td>Mauritania</td></tr>\n",
       "\t<tr><th scope=row>31861</th><td>-14.732222</td><td>18.45806</td><td>31861</td><td>2014/10/27 00:00:00+00</td><td>17:55</td><td>2014/10/27 00:00:00+00</td><td>17:55</td><td>No</td><td>Late  </td><td>        </td><td>⋯</td><td>0</td><td>0</td><td>0</td><td>0</td><td>Hopper</td><td>201410</td><td>2014</td><td>10</td><td>27</td><td>Mauritania</td></tr>\n",
       "\t<tr><th scope=row>31862</th><td>-14.692500</td><td>18.49611</td><td>31862</td><td>2014/10/27 00:00:00+00</td><td>12:24</td><td>2014/10/27 00:00:00+00</td><td>12:24</td><td>No</td><td>Late  </td><td>        </td><td>⋯</td><td>0</td><td>0</td><td>0</td><td>0</td><td>Hopper</td><td>201410</td><td>2014</td><td>10</td><td>27</td><td>Mauritania</td></tr>\n",
       "\t<tr><th scope=row>31863</th><td>-14.716667</td><td>18.48389</td><td>31863</td><td>2014/10/27 00:00:00+00</td><td>09:52</td><td>2014/10/27 00:00:00+00</td><td>09:52</td><td>No</td><td>Late  </td><td>        </td><td>⋯</td><td>0</td><td>0</td><td>0</td><td>0</td><td>Hopper</td><td>201410</td><td>2014</td><td>10</td><td>27</td><td>Mauritania</td></tr>\n",
       "\t<tr><th scope=row>31864</th><td>-14.696389</td><td>18.48167</td><td>31864</td><td>2014/10/24 00:00:00+00</td><td>11:27</td><td>2014/10/24 00:00:00+00</td><td>11:27</td><td>No</td><td>Late  </td><td>        </td><td>⋯</td><td>0</td><td>0</td><td>0</td><td>0</td><td>Hopper</td><td>201410</td><td>2014</td><td>10</td><td>24</td><td>Mauritania</td></tr>\n",
       "\t<tr><th scope=row>31865</th><td>-14.693611</td><td>18.49611</td><td>31865</td><td>2014/10/24 00:00:00+00</td><td>10:51</td><td>2014/10/24 00:00:00+00</td><td>10:51</td><td>No</td><td>Late  </td><td>        </td><td>⋯</td><td>0</td><td>0</td><td>0</td><td>0</td><td>Hopper</td><td>201410</td><td>2014</td><td>10</td><td>24</td><td>Mauritania</td></tr>\n",
       "</tbody>\n",
       "</table>\n"
      ],
      "text/latex": [
       "A data.frame: 11072 × 157\n",
       "\\begin{tabular}{r|lllllllllllllllllllll}\n",
       "  & X & Y & OBJECTID & STARTDATE & TmSTARTDAT & FINISHDATE & TmFINISHDA & EXACTDATE & PARTMONTH & LOCNAME & ⋯ & CTLAPPAIR & CTLAPPMECH & CTLAPPUNK & CTLESTKILL & CAT & yearmonth & year & month & day & country\\\\\n",
       "  & <dbl> & <dbl> & <int> & <fct> & <fct> & <fct> & <fct> & <fct> & <fct> & <fct> & ⋯ & <int> & <int> & <int> & <int> & <fct> & <chr> & <dbl> & <dbl> & <dbl> & <chr>\\\\\n",
       "\\hline\n",
       "\t4512 & -13.89944 & 19.15694 & 4512 & 2000/11/27 00:00:00+00 & 00:00 & 2000/11/27 00:00:00+00 & 00:00 & Yes & NA &   & ⋯ & 0 & 0 & 0 & 0 & Hopper & 200011 & 2000 & 11 & 27 & Mauritania\\\\\n",
       "\t4513 & -13.91028 & 19.14444 & 4513 & 2000/11/27 00:00:00+00 & 00:00 & 2000/11/27 00:00:00+00 & 00:00 & Yes & NA &   & ⋯ & 0 & 0 & 0 & 0 & Hopper & 200011 & 2000 & 11 & 27 & Mauritania\\\\\n",
       "\t4514 & -13.92306 & 19.14667 & 4514 & 2000/11/27 00:00:00+00 & 00:00 & 2000/11/27 00:00:00+00 & 00:00 & Yes & NA &   & ⋯ & 0 & 0 & 0 & 0 & Hopper & 200011 & 2000 & 11 & 27 & Mauritania\\\\\n",
       "\t4515 & -12.94583 & 19.14639 & 4515 & 2000/11/28 00:00:00+00 & 00:00 & 2000/11/28 00:00:00+00 & 00:00 & Yes & NA &   & ⋯ & 0 & 0 & 0 & 0 & Hopper & 200011 & 2000 & 11 & 28 & Mauritania\\\\\n",
       "\t4516 & -12.94972 & 19.13306 & 4516 & 2000/11/28 00:00:00+00 & 00:00 & 2000/11/28 00:00:00+00 & 00:00 & Yes & NA &   & ⋯ & 0 & 0 & 0 & 0 & Hopper & 200011 & 2000 & 11 & 28 & Mauritania\\\\\n",
       "\t4517 & -13.94778 & 19.17194 & 4517 & 2000/11/29 00:00:00+00 & 00:00 & 2000/11/29 00:00:00+00 & 00:00 & Yes & NA &   & ⋯ & 0 & 0 & 0 & 0 & Hopper & 200011 & 2000 & 11 & 29 & Mauritania\\\\\n",
       "\t4518 & -13.95194 & 19.19611 & 4518 & 2000/11/29 00:00:00+00 & 00:00 & 2000/11/29 00:00:00+00 & 00:00 & Yes & NA &   & ⋯ & 0 & 0 & 0 & 0 & Hopper & 200011 & 2000 & 11 & 29 & Mauritania\\\\\n",
       "\t4519 & -13.87833 & 19.15500 & 4519 & 2000/11/29 00:00:00+00 & 00:00 & 2000/11/29 00:00:00+00 & 00:00 & Yes & NA &   & ⋯ & 0 & 0 & 0 & 0 & Hopper & 200011 & 2000 & 11 & 29 & Mauritania\\\\\n",
       "\t4520 & -13.86917 & 19.15833 & 4520 & 2000/11/29 00:00:00+00 & 00:00 & 2000/11/29 00:00:00+00 & 00:00 & Yes & NA &   & ⋯ & 0 & 0 & 0 & 0 & Hopper & 200011 & 2000 & 11 & 29 & Mauritania\\\\\n",
       "\t4521 & -12.93889 & 19.13000 & 4521 & 2000/11/29 00:00:00+00 & 00:00 & 2000/11/29 00:00:00+00 & 00:00 & Yes & NA &   & ⋯ & 0 & 0 & 0 & 0 & Hopper & 200011 & 2000 & 11 & 29 & Mauritania\\\\\n",
       "\t4522 & -12.96389 & 19.12778 & 4522 & 2000/11/29 00:00:00+00 & 00:00 & 2000/11/29 00:00:00+00 & 00:00 & Yes & NA &   & ⋯ & 0 & 0 & 0 & 0 & Hopper & 200011 & 2000 & 11 & 29 & Mauritania\\\\\n",
       "\t4523 & -13.85056 & 19.15472 & 4523 & 2000/11/30 00:00:00+00 & 00:00 & 2000/11/30 00:00:00+00 & 00:00 & Yes & NA &   & ⋯ & 0 & 0 & 0 & 0 & Hopper & 200011 & 2000 & 11 & 30 & Mauritania\\\\\n",
       "\t4524 & -13.86167 & 19.16222 & 4524 & 2000/11/30 00:00:00+00 & 00:00 & 2000/11/30 00:00:00+00 & 00:00 & Yes & NA &   & ⋯ & 0 & 0 & 0 & 0 & Hopper & 200011 & 2000 & 11 & 30 & Mauritania\\\\\n",
       "\t4525 & -13.84556 & 19.16056 & 4525 & 2000/11/30 00:00:00+00 & 00:00 & 2000/11/30 00:00:00+00 & 00:00 & Yes & NA &   & ⋯ & 0 & 0 & 0 & 0 & Hopper & 200011 & 2000 & 11 & 30 & Mauritania\\\\\n",
       "\t4526 & -13.83472 & 19.17139 & 4526 & 2000/11/30 00:00:00+00 & 00:00 & 2000/11/30 00:00:00+00 & 00:00 & Yes & NA &   & ⋯ & 0 & 0 & 0 & 0 & Hopper & 200011 & 2000 & 11 & 30 & Mauritania\\\\\n",
       "\t4527 & -14.09833 & 19.36667 & 4527 & 2000/11/22 00:00:00+00 & 00:00 & 2000/11/22 00:00:00+00 & 00:00 & Yes & NA &   & ⋯ & 0 & 0 & 0 & 0 & Hopper & 200011 & 2000 & 11 & 22 & Mauritania\\\\\n",
       "\t4528 & -13.91083 & 19.15250 & 4528 & 2000/11/23 00:00:00+00 & 00:00 & 2000/11/23 00:00:00+00 & 00:00 & Yes & NA &   & ⋯ & 0 & 0 & 0 & 0 & Hopper & 200011 & 2000 & 11 & 23 & Mauritania\\\\\n",
       "\t4529 & -13.76250 & 18.82722 & 4529 & 2000/11/24 00:00:00+00 & 00:00 & 2000/11/24 00:00:00+00 & 00:00 & Yes & NA &   & ⋯ & 0 & 0 & 0 & 0 & Hopper & 200011 & 2000 & 11 & 24 & Mauritania\\\\\n",
       "\t4530 & -14.82333 & 19.49361 & 4530 & 2000/11/26 00:00:00+00 & 00:00 & 2000/11/26 00:00:00+00 & 00:00 & Yes & NA &   & ⋯ & 0 & 0 & 0 & 0 & Hopper & 200011 & 2000 & 11 & 26 & Mauritania\\\\\n",
       "\t4531 & -15.45583 & 20.58194 & 4531 & 2000/01/11 00:00:00+00 & 00:00 & 2000/01/11 00:00:00+00 & 00:00 & Yes & NA &   & ⋯ & 0 & 0 & 0 & 0 & Hopper & 200001 & 2000 &  1 & 11 & Mauritania\\\\\n",
       "\t4532 & -13.03750 & 18.97500 & 4532 & 2000/11/01 00:00:00+00 & 00:00 & 2000/11/01 00:00:00+00 & 00:00 & Yes & NA &   & ⋯ & 0 & 0 & 0 & 0 & Hopper & 200011 & 2000 & 11 &  1 & Mauritania\\\\\n",
       "\t4533 & -14.30333 & 18.74583 & 4533 & 2000/11/01 00:00:00+00 & 00:00 & 2000/11/01 00:00:00+00 & 00:00 & Yes & NA &   & ⋯ & 0 & 0 & 0 & 0 & Hopper & 200011 & 2000 & 11 &  1 & Mauritania\\\\\n",
       "\t4534 & -14.35556 & 18.74611 & 4534 & 2000/11/01 00:00:00+00 & 00:00 & 2000/11/01 00:00:00+00 & 00:00 & Yes & NA &   & ⋯ & 0 & 0 & 0 & 0 & Hopper & 200011 & 2000 & 11 &  1 & Mauritania\\\\\n",
       "\t4535 & -14.28944 & 18.73833 & 4535 & 2000/11/02 00:00:00+00 & 00:00 & 2000/11/02 00:00:00+00 & 00:00 & Yes & NA &   & ⋯ & 0 & 0 & 0 & 0 & Hopper & 200011 & 2000 & 11 &  2 & Mauritania\\\\\n",
       "\t4536 & -14.24750 & 18.74528 & 4536 & 2000/11/02 00:00:00+00 & 00:00 & 2000/11/02 00:00:00+00 & 00:00 & Yes & NA &   & ⋯ & 0 & 0 & 0 & 0 & Hopper & 200011 & 2000 & 11 &  2 & Mauritania\\\\\n",
       "\t4537 & -14.24556 & 18.74250 & 4537 & 2000/11/03 00:00:00+00 & 00:00 & 2000/11/03 00:00:00+00 & 00:00 & Yes & NA &   & ⋯ & 0 & 0 & 0 & 0 & Hopper & 200011 & 2000 & 11 &  3 & Mauritania\\\\\n",
       "\t4538 & -14.27167 & 18.73833 & 4538 & 2000/11/03 00:00:00+00 & 00:00 & 2000/11/03 00:00:00+00 & 00:00 & Yes & NA &   & ⋯ & 0 & 0 & 0 & 0 & Hopper & 200011 & 2000 & 11 &  3 & Mauritania\\\\\n",
       "\t4539 & -13.02861 & 18.97528 & 4539 & 2000/11/05 00:00:00+00 & 00:00 & 2000/11/05 00:00:00+00 & 00:00 & Yes & NA &   & ⋯ & 0 & 0 & 0 & 0 & Hopper & 200011 & 2000 & 11 &  5 & Mauritania\\\\\n",
       "\t4540 & -13.02806 & 18.97861 & 4540 & 2000/11/06 00:00:00+00 & 00:00 & 2000/11/06 00:00:00+00 & 00:00 & Yes & NA &   & ⋯ & 0 & 0 & 0 & 0 & Hopper & 200011 & 2000 & 11 &  6 & Mauritania\\\\\n",
       "\t4541 & -13.03028 & 18.99333 & 4541 & 2000/11/06 00:00:00+00 & 00:00 & 2000/11/06 00:00:00+00 & 00:00 & Yes & NA &   & ⋯ & 0 & 0 & 0 & 0 & Hopper & 200011 & 2000 & 11 &  6 & Mauritania\\\\\n",
       "\t⋮ & ⋮ & ⋮ & ⋮ & ⋮ & ⋮ & ⋮ & ⋮ & ⋮ & ⋮ & ⋮ & ⋱ & ⋮ & ⋮ & ⋮ & ⋮ & ⋮ & ⋮ & ⋮ & ⋮ & ⋮ & ⋮\\\\\n",
       "\t30323 & -15.158889 & 18.89722 & 30323 & 2013/11/15 00:00:00+00 & 16:40 & 2013/11/15 00:00:00+00 & 16:40 & No & Middle &          & ⋯ & 0 & 0 & 0 & 0 & Hopper & 201311 & 2013 & 11 & 15 & Mauritania\\\\\n",
       "\t30324 & -15.136667 & 18.89111 & 30324 & 2013/11/15 00:00:00+00 & 08:47 & 2013/11/15 00:00:00+00 & 08:47 & No & Middle &          & ⋯ & 0 & 0 & 0 & 0 & Hopper & 201311 & 2013 & 11 & 15 & Mauritania\\\\\n",
       "\t30325 & -15.147222 & 18.89917 & 30325 & 2013/11/15 00:00:00+00 & 11:20 & 2013/11/15 00:00:00+00 & 11:20 & No & Middle &          & ⋯ & 0 & 0 & 0 & 0 & Hopper & 201311 & 2013 & 11 & 15 & Mauritania\\\\\n",
       "\t30326 & -14.813611 & 18.99778 & 30326 & 2013/11/15 00:00:00+00 & 13:11 & 2013/11/15 00:00:00+00 & 13:11 & No & Middle &          & ⋯ & 0 & 0 & 0 & 0 & Hopper & 201311 & 2013 & 11 & 15 & Mauritania\\\\\n",
       "\t31575 & -13.796111 & 18.41361 & 31575 & 2014/09/11 00:00:00+00 & 10:48 & 2014/09/11 00:00:00+00 & 10:48 & No & Middle &          & ⋯ & 0 & 0 & 0 & 0 & Hopper & 201409 & 2014 &  9 & 11 & Mauritania\\\\\n",
       "\t31576 & -13.635278 & 18.50556 & 31576 & 2014/09/12 00:00:00+00 & 08:00 & 2014/09/12 00:00:00+00 & 08:00 & No & Middle &          & ⋯ & 0 & 0 & 0 & 0 & Hopper & 201409 & 2014 &  9 & 12 & Mauritania\\\\\n",
       "\t31618 & -14.650278 & 18.86750 & 31618 & 2014/10/28 00:00:00+00 & 08:33 & 2014/10/28 00:00:00+00 & 08:33 & No & Late   &          & ⋯ & 0 & 0 & 0 & 0 & Hopper & 201410 & 2014 & 10 & 28 & Mauritania\\\\\n",
       "\t31619 & -13.778611 & 19.05167 & 31619 & 2014/11/21 00:00:00+00 & 10:28 & 2014/11/21 00:00:00+00 & 10:28 & No & Late   &          & ⋯ & 0 & 0 & 0 & 0 & Hopper & 201411 & 2014 & 11 & 21 & Mauritania\\\\\n",
       "\t31620 & -13.888333 & 18.88861 & 31620 & 2014/11/25 00:00:00+00 & 15:49 & 2014/11/25 00:00:00+00 & 15:49 & No & Late   &          & ⋯ & 0 & 0 & 0 & 0 & Hopper & 201411 & 2014 & 11 & 25 & Mauritania\\\\\n",
       "\t31621 & -13.856111 & 19.02722 & 31621 & 2014/11/26 00:00:00+00 & 09:27 & 2014/11/26 00:00:00+00 & 09:27 & No & Late   &          & ⋯ & 0 & 0 & 0 & 0 & Hopper & 201411 & 2014 & 11 & 26 & Mauritania\\\\\n",
       "\t31680 & -13.767222 & 18.92333 & 31680 & 2014/12/12 00:00:00+00 & 16:38 & 2014/12/12 00:00:00+00 & 16:38 & No & Middle &          & ⋯ & 0 & 0 & 0 & 0 & Hopper & 201412 & 2014 & 12 & 12 & Mauritania\\\\\n",
       "\t31809 & -13.855000 & 19.03083 & 31809 & 2014/11/30 00:00:00+00 & 17:09 & 2014/11/30 00:00:00+00 & 17:09 & No & Late   &          & ⋯ & 0 & 0 & 0 & 0 & Hopper & 201411 & 2014 & 11 & 30 & Mauritania\\\\\n",
       "\t31813 & -13.837778 & 18.28167 & 31813 & 2014/10/09 00:00:00+00 & 11:13 & 2014/10/09 00:00:00+00 & 11:13 & No & Early  &          & ⋯ & 0 & 0 & 0 & 0 & Hopper & 201410 & 2014 & 10 &  9 & Mauritania\\\\\n",
       "\t31825 & -13.779167 & 19.05167 & 31825 & 2014/11/02 00:00:00+00 & 10:06 & 2014/11/02 00:00:00+00 & 10:06 & No & Early  &          & ⋯ & 0 & 0 & 0 & 0 & Hopper & 201411 & 2014 & 11 &  2 & Mauritania\\\\\n",
       "\t31838 &  -3.983333 & 21.90000 & 31838 & 2014/09/15 00:00:00+00 & 12:00 & 2014/09/15 00:00:00+00 & 12:00 & No & NA     & Marcouba & ⋯ & 0 & 0 & 0 & 0 & Hopper & 201409 & 2014 &  9 & 15 & Mali      \\\\\n",
       "\t31842 & -13.818889 & 18.36778 & 31842 & 2014/09/11 00:00:00+00 & 09:38 & 2014/09/11 00:00:00+00 & 09:38 & No & Middle &          & ⋯ & 0 & 0 & 0 & 0 & Hopper & 201409 & 2014 &  9 & 11 & Mauritania\\\\\n",
       "\t31852 & -14.675556 & 18.49556 & 31852 & 2014/10/23 00:00:00+00 & 18:08 & 2014/10/23 00:00:00+00 & 18:08 & No & Late   &          & ⋯ & 0 & 0 & 0 & 0 & Hopper & 201410 & 2014 & 10 & 23 & Mauritania\\\\\n",
       "\t31853 & -14.706944 & 18.46306 & 31853 & 2014/10/22 00:00:00+00 & 17:35 & 2014/10/22 00:00:00+00 & 17:35 & No & Late   &          & ⋯ & 0 & 0 & 0 & 0 & Hopper & 201410 & 2014 & 10 & 22 & Mauritania\\\\\n",
       "\t31854 & -14.710833 & 18.48111 & 31854 & 2014/10/22 00:00:00+00 & 10:07 & 2014/10/22 00:00:00+00 & 10:07 & No & Late   &          & ⋯ & 0 & 0 & 0 & 0 & Hopper & 201410 & 2014 & 10 & 22 & Mauritania\\\\\n",
       "\t31855 & -14.667778 & 18.49500 & 31855 & 2014/10/22 00:00:00+00 & 08:38 & 2014/10/22 00:00:00+00 & 08:38 & No & Late   &          & ⋯ & 0 & 0 & 0 & 0 & Hopper & 201410 & 2014 & 10 & 22 & Mauritania\\\\\n",
       "\t31856 & -14.682778 & 18.48806 & 31856 & 2014/10/30 00:00:00+00 & 16:41 & 2014/10/30 00:00:00+00 & 16:41 & No & Late   &          & ⋯ & 0 & 0 & 0 & 0 & Hopper & 201410 & 2014 & 10 & 30 & Mauritania\\\\\n",
       "\t31857 & -13.799444 & 18.40917 & 31857 & 2014/10/22 00:00:00+00 & 12:55 & 2014/10/22 00:00:00+00 & 12:55 & No & Late   &          & ⋯ & 0 & 0 & 0 & 0 & Hopper & 201410 & 2014 & 10 & 22 & Mauritania\\\\\n",
       "\t31858 & -14.733611 & 18.46667 & 31858 & 2014/10/31 00:00:00+00 & 16:53 & 2014/10/31 00:00:00+00 & 16:53 & No & Late   &          & ⋯ & 0 & 0 & 0 & 0 & Hopper & 201410 & 2014 & 10 & 31 & Mauritania\\\\\n",
       "\t31859 & -14.667500 & 18.49444 & 31859 & 2014/10/31 00:00:00+00 & 11:00 & 2014/10/31 00:00:00+00 & 11:00 & No & Late   &          & ⋯ & 0 & 0 & 0 & 0 & Hopper & 201410 & 2014 & 10 & 31 & Mauritania\\\\\n",
       "\t31860 & -14.692778 & 18.49611 & 31860 & 2014/10/31 00:00:00+00 & 10:03 & 2014/10/31 00:00:00+00 & 10:03 & No & Late   &          & ⋯ & 0 & 0 & 0 & 0 & Hopper & 201410 & 2014 & 10 & 31 & Mauritania\\\\\n",
       "\t31861 & -14.732222 & 18.45806 & 31861 & 2014/10/27 00:00:00+00 & 17:55 & 2014/10/27 00:00:00+00 & 17:55 & No & Late   &          & ⋯ & 0 & 0 & 0 & 0 & Hopper & 201410 & 2014 & 10 & 27 & Mauritania\\\\\n",
       "\t31862 & -14.692500 & 18.49611 & 31862 & 2014/10/27 00:00:00+00 & 12:24 & 2014/10/27 00:00:00+00 & 12:24 & No & Late   &          & ⋯ & 0 & 0 & 0 & 0 & Hopper & 201410 & 2014 & 10 & 27 & Mauritania\\\\\n",
       "\t31863 & -14.716667 & 18.48389 & 31863 & 2014/10/27 00:00:00+00 & 09:52 & 2014/10/27 00:00:00+00 & 09:52 & No & Late   &          & ⋯ & 0 & 0 & 0 & 0 & Hopper & 201410 & 2014 & 10 & 27 & Mauritania\\\\\n",
       "\t31864 & -14.696389 & 18.48167 & 31864 & 2014/10/24 00:00:00+00 & 11:27 & 2014/10/24 00:00:00+00 & 11:27 & No & Late   &          & ⋯ & 0 & 0 & 0 & 0 & Hopper & 201410 & 2014 & 10 & 24 & Mauritania\\\\\n",
       "\t31865 & -14.693611 & 18.49611 & 31865 & 2014/10/24 00:00:00+00 & 10:51 & 2014/10/24 00:00:00+00 & 10:51 & No & Late   &          & ⋯ & 0 & 0 & 0 & 0 & Hopper & 201410 & 2014 & 10 & 24 & Mauritania\\\\\n",
       "\\end{tabular}\n"
      ],
      "text/markdown": [
       "\n",
       "A data.frame: 11072 × 157\n",
       "\n",
       "| <!--/--> | X &lt;dbl&gt; | Y &lt;dbl&gt; | OBJECTID &lt;int&gt; | STARTDATE &lt;fct&gt; | TmSTARTDAT &lt;fct&gt; | FINISHDATE &lt;fct&gt; | TmFINISHDA &lt;fct&gt; | EXACTDATE &lt;fct&gt; | PARTMONTH &lt;fct&gt; | LOCNAME &lt;fct&gt; | ⋯ ⋯ | CTLAPPAIR &lt;int&gt; | CTLAPPMECH &lt;int&gt; | CTLAPPUNK &lt;int&gt; | CTLESTKILL &lt;int&gt; | CAT &lt;fct&gt; | yearmonth &lt;chr&gt; | year &lt;dbl&gt; | month &lt;dbl&gt; | day &lt;dbl&gt; | country &lt;chr&gt; |\n",
       "|---|---|---|---|---|---|---|---|---|---|---|---|---|---|---|---|---|---|---|---|---|---|\n",
       "| 4512 | -13.89944 | 19.15694 | 4512 | 2000/11/27 00:00:00+00 | 00:00 | 2000/11/27 00:00:00+00 | 00:00 | Yes | NA | <!----> | ⋯ | 0 | 0 | 0 | 0 | Hopper | 200011 | 2000 | 11 | 27 | Mauritania |\n",
       "| 4513 | -13.91028 | 19.14444 | 4513 | 2000/11/27 00:00:00+00 | 00:00 | 2000/11/27 00:00:00+00 | 00:00 | Yes | NA | <!----> | ⋯ | 0 | 0 | 0 | 0 | Hopper | 200011 | 2000 | 11 | 27 | Mauritania |\n",
       "| 4514 | -13.92306 | 19.14667 | 4514 | 2000/11/27 00:00:00+00 | 00:00 | 2000/11/27 00:00:00+00 | 00:00 | Yes | NA | <!----> | ⋯ | 0 | 0 | 0 | 0 | Hopper | 200011 | 2000 | 11 | 27 | Mauritania |\n",
       "| 4515 | -12.94583 | 19.14639 | 4515 | 2000/11/28 00:00:00+00 | 00:00 | 2000/11/28 00:00:00+00 | 00:00 | Yes | NA | <!----> | ⋯ | 0 | 0 | 0 | 0 | Hopper | 200011 | 2000 | 11 | 28 | Mauritania |\n",
       "| 4516 | -12.94972 | 19.13306 | 4516 | 2000/11/28 00:00:00+00 | 00:00 | 2000/11/28 00:00:00+00 | 00:00 | Yes | NA | <!----> | ⋯ | 0 | 0 | 0 | 0 | Hopper | 200011 | 2000 | 11 | 28 | Mauritania |\n",
       "| 4517 | -13.94778 | 19.17194 | 4517 | 2000/11/29 00:00:00+00 | 00:00 | 2000/11/29 00:00:00+00 | 00:00 | Yes | NA | <!----> | ⋯ | 0 | 0 | 0 | 0 | Hopper | 200011 | 2000 | 11 | 29 | Mauritania |\n",
       "| 4518 | -13.95194 | 19.19611 | 4518 | 2000/11/29 00:00:00+00 | 00:00 | 2000/11/29 00:00:00+00 | 00:00 | Yes | NA | <!----> | ⋯ | 0 | 0 | 0 | 0 | Hopper | 200011 | 2000 | 11 | 29 | Mauritania |\n",
       "| 4519 | -13.87833 | 19.15500 | 4519 | 2000/11/29 00:00:00+00 | 00:00 | 2000/11/29 00:00:00+00 | 00:00 | Yes | NA | <!----> | ⋯ | 0 | 0 | 0 | 0 | Hopper | 200011 | 2000 | 11 | 29 | Mauritania |\n",
       "| 4520 | -13.86917 | 19.15833 | 4520 | 2000/11/29 00:00:00+00 | 00:00 | 2000/11/29 00:00:00+00 | 00:00 | Yes | NA | <!----> | ⋯ | 0 | 0 | 0 | 0 | Hopper | 200011 | 2000 | 11 | 29 | Mauritania |\n",
       "| 4521 | -12.93889 | 19.13000 | 4521 | 2000/11/29 00:00:00+00 | 00:00 | 2000/11/29 00:00:00+00 | 00:00 | Yes | NA | <!----> | ⋯ | 0 | 0 | 0 | 0 | Hopper | 200011 | 2000 | 11 | 29 | Mauritania |\n",
       "| 4522 | -12.96389 | 19.12778 | 4522 | 2000/11/29 00:00:00+00 | 00:00 | 2000/11/29 00:00:00+00 | 00:00 | Yes | NA | <!----> | ⋯ | 0 | 0 | 0 | 0 | Hopper | 200011 | 2000 | 11 | 29 | Mauritania |\n",
       "| 4523 | -13.85056 | 19.15472 | 4523 | 2000/11/30 00:00:00+00 | 00:00 | 2000/11/30 00:00:00+00 | 00:00 | Yes | NA | <!----> | ⋯ | 0 | 0 | 0 | 0 | Hopper | 200011 | 2000 | 11 | 30 | Mauritania |\n",
       "| 4524 | -13.86167 | 19.16222 | 4524 | 2000/11/30 00:00:00+00 | 00:00 | 2000/11/30 00:00:00+00 | 00:00 | Yes | NA | <!----> | ⋯ | 0 | 0 | 0 | 0 | Hopper | 200011 | 2000 | 11 | 30 | Mauritania |\n",
       "| 4525 | -13.84556 | 19.16056 | 4525 | 2000/11/30 00:00:00+00 | 00:00 | 2000/11/30 00:00:00+00 | 00:00 | Yes | NA | <!----> | ⋯ | 0 | 0 | 0 | 0 | Hopper | 200011 | 2000 | 11 | 30 | Mauritania |\n",
       "| 4526 | -13.83472 | 19.17139 | 4526 | 2000/11/30 00:00:00+00 | 00:00 | 2000/11/30 00:00:00+00 | 00:00 | Yes | NA | <!----> | ⋯ | 0 | 0 | 0 | 0 | Hopper | 200011 | 2000 | 11 | 30 | Mauritania |\n",
       "| 4527 | -14.09833 | 19.36667 | 4527 | 2000/11/22 00:00:00+00 | 00:00 | 2000/11/22 00:00:00+00 | 00:00 | Yes | NA | <!----> | ⋯ | 0 | 0 | 0 | 0 | Hopper | 200011 | 2000 | 11 | 22 | Mauritania |\n",
       "| 4528 | -13.91083 | 19.15250 | 4528 | 2000/11/23 00:00:00+00 | 00:00 | 2000/11/23 00:00:00+00 | 00:00 | Yes | NA | <!----> | ⋯ | 0 | 0 | 0 | 0 | Hopper | 200011 | 2000 | 11 | 23 | Mauritania |\n",
       "| 4529 | -13.76250 | 18.82722 | 4529 | 2000/11/24 00:00:00+00 | 00:00 | 2000/11/24 00:00:00+00 | 00:00 | Yes | NA | <!----> | ⋯ | 0 | 0 | 0 | 0 | Hopper | 200011 | 2000 | 11 | 24 | Mauritania |\n",
       "| 4530 | -14.82333 | 19.49361 | 4530 | 2000/11/26 00:00:00+00 | 00:00 | 2000/11/26 00:00:00+00 | 00:00 | Yes | NA | <!----> | ⋯ | 0 | 0 | 0 | 0 | Hopper | 200011 | 2000 | 11 | 26 | Mauritania |\n",
       "| 4531 | -15.45583 | 20.58194 | 4531 | 2000/01/11 00:00:00+00 | 00:00 | 2000/01/11 00:00:00+00 | 00:00 | Yes | NA | <!----> | ⋯ | 0 | 0 | 0 | 0 | Hopper | 200001 | 2000 |  1 | 11 | Mauritania |\n",
       "| 4532 | -13.03750 | 18.97500 | 4532 | 2000/11/01 00:00:00+00 | 00:00 | 2000/11/01 00:00:00+00 | 00:00 | Yes | NA | <!----> | ⋯ | 0 | 0 | 0 | 0 | Hopper | 200011 | 2000 | 11 |  1 | Mauritania |\n",
       "| 4533 | -14.30333 | 18.74583 | 4533 | 2000/11/01 00:00:00+00 | 00:00 | 2000/11/01 00:00:00+00 | 00:00 | Yes | NA | <!----> | ⋯ | 0 | 0 | 0 | 0 | Hopper | 200011 | 2000 | 11 |  1 | Mauritania |\n",
       "| 4534 | -14.35556 | 18.74611 | 4534 | 2000/11/01 00:00:00+00 | 00:00 | 2000/11/01 00:00:00+00 | 00:00 | Yes | NA | <!----> | ⋯ | 0 | 0 | 0 | 0 | Hopper | 200011 | 2000 | 11 |  1 | Mauritania |\n",
       "| 4535 | -14.28944 | 18.73833 | 4535 | 2000/11/02 00:00:00+00 | 00:00 | 2000/11/02 00:00:00+00 | 00:00 | Yes | NA | <!----> | ⋯ | 0 | 0 | 0 | 0 | Hopper | 200011 | 2000 | 11 |  2 | Mauritania |\n",
       "| 4536 | -14.24750 | 18.74528 | 4536 | 2000/11/02 00:00:00+00 | 00:00 | 2000/11/02 00:00:00+00 | 00:00 | Yes | NA | <!----> | ⋯ | 0 | 0 | 0 | 0 | Hopper | 200011 | 2000 | 11 |  2 | Mauritania |\n",
       "| 4537 | -14.24556 | 18.74250 | 4537 | 2000/11/03 00:00:00+00 | 00:00 | 2000/11/03 00:00:00+00 | 00:00 | Yes | NA | <!----> | ⋯ | 0 | 0 | 0 | 0 | Hopper | 200011 | 2000 | 11 |  3 | Mauritania |\n",
       "| 4538 | -14.27167 | 18.73833 | 4538 | 2000/11/03 00:00:00+00 | 00:00 | 2000/11/03 00:00:00+00 | 00:00 | Yes | NA | <!----> | ⋯ | 0 | 0 | 0 | 0 | Hopper | 200011 | 2000 | 11 |  3 | Mauritania |\n",
       "| 4539 | -13.02861 | 18.97528 | 4539 | 2000/11/05 00:00:00+00 | 00:00 | 2000/11/05 00:00:00+00 | 00:00 | Yes | NA | <!----> | ⋯ | 0 | 0 | 0 | 0 | Hopper | 200011 | 2000 | 11 |  5 | Mauritania |\n",
       "| 4540 | -13.02806 | 18.97861 | 4540 | 2000/11/06 00:00:00+00 | 00:00 | 2000/11/06 00:00:00+00 | 00:00 | Yes | NA | <!----> | ⋯ | 0 | 0 | 0 | 0 | Hopper | 200011 | 2000 | 11 |  6 | Mauritania |\n",
       "| 4541 | -13.03028 | 18.99333 | 4541 | 2000/11/06 00:00:00+00 | 00:00 | 2000/11/06 00:00:00+00 | 00:00 | Yes | NA | <!----> | ⋯ | 0 | 0 | 0 | 0 | Hopper | 200011 | 2000 | 11 |  6 | Mauritania |\n",
       "| ⋮ | ⋮ | ⋮ | ⋮ | ⋮ | ⋮ | ⋮ | ⋮ | ⋮ | ⋮ | ⋮ | ⋱ | ⋮ | ⋮ | ⋮ | ⋮ | ⋮ | ⋮ | ⋮ | ⋮ | ⋮ | ⋮ |\n",
       "| 30323 | -15.158889 | 18.89722 | 30323 | 2013/11/15 00:00:00+00 | 16:40 | 2013/11/15 00:00:00+00 | 16:40 | No | Middle | <!----> | ⋯ | 0 | 0 | 0 | 0 | Hopper | 201311 | 2013 | 11 | 15 | Mauritania |\n",
       "| 30324 | -15.136667 | 18.89111 | 30324 | 2013/11/15 00:00:00+00 | 08:47 | 2013/11/15 00:00:00+00 | 08:47 | No | Middle | <!----> | ⋯ | 0 | 0 | 0 | 0 | Hopper | 201311 | 2013 | 11 | 15 | Mauritania |\n",
       "| 30325 | -15.147222 | 18.89917 | 30325 | 2013/11/15 00:00:00+00 | 11:20 | 2013/11/15 00:00:00+00 | 11:20 | No | Middle | <!----> | ⋯ | 0 | 0 | 0 | 0 | Hopper | 201311 | 2013 | 11 | 15 | Mauritania |\n",
       "| 30326 | -14.813611 | 18.99778 | 30326 | 2013/11/15 00:00:00+00 | 13:11 | 2013/11/15 00:00:00+00 | 13:11 | No | Middle | <!----> | ⋯ | 0 | 0 | 0 | 0 | Hopper | 201311 | 2013 | 11 | 15 | Mauritania |\n",
       "| 31575 | -13.796111 | 18.41361 | 31575 | 2014/09/11 00:00:00+00 | 10:48 | 2014/09/11 00:00:00+00 | 10:48 | No | Middle | <!----> | ⋯ | 0 | 0 | 0 | 0 | Hopper | 201409 | 2014 |  9 | 11 | Mauritania |\n",
       "| 31576 | -13.635278 | 18.50556 | 31576 | 2014/09/12 00:00:00+00 | 08:00 | 2014/09/12 00:00:00+00 | 08:00 | No | Middle | <!----> | ⋯ | 0 | 0 | 0 | 0 | Hopper | 201409 | 2014 |  9 | 12 | Mauritania |\n",
       "| 31618 | -14.650278 | 18.86750 | 31618 | 2014/10/28 00:00:00+00 | 08:33 | 2014/10/28 00:00:00+00 | 08:33 | No | Late   | <!----> | ⋯ | 0 | 0 | 0 | 0 | Hopper | 201410 | 2014 | 10 | 28 | Mauritania |\n",
       "| 31619 | -13.778611 | 19.05167 | 31619 | 2014/11/21 00:00:00+00 | 10:28 | 2014/11/21 00:00:00+00 | 10:28 | No | Late   | <!----> | ⋯ | 0 | 0 | 0 | 0 | Hopper | 201411 | 2014 | 11 | 21 | Mauritania |\n",
       "| 31620 | -13.888333 | 18.88861 | 31620 | 2014/11/25 00:00:00+00 | 15:49 | 2014/11/25 00:00:00+00 | 15:49 | No | Late   | <!----> | ⋯ | 0 | 0 | 0 | 0 | Hopper | 201411 | 2014 | 11 | 25 | Mauritania |\n",
       "| 31621 | -13.856111 | 19.02722 | 31621 | 2014/11/26 00:00:00+00 | 09:27 | 2014/11/26 00:00:00+00 | 09:27 | No | Late   | <!----> | ⋯ | 0 | 0 | 0 | 0 | Hopper | 201411 | 2014 | 11 | 26 | Mauritania |\n",
       "| 31680 | -13.767222 | 18.92333 | 31680 | 2014/12/12 00:00:00+00 | 16:38 | 2014/12/12 00:00:00+00 | 16:38 | No | Middle | <!----> | ⋯ | 0 | 0 | 0 | 0 | Hopper | 201412 | 2014 | 12 | 12 | Mauritania |\n",
       "| 31809 | -13.855000 | 19.03083 | 31809 | 2014/11/30 00:00:00+00 | 17:09 | 2014/11/30 00:00:00+00 | 17:09 | No | Late   | <!----> | ⋯ | 0 | 0 | 0 | 0 | Hopper | 201411 | 2014 | 11 | 30 | Mauritania |\n",
       "| 31813 | -13.837778 | 18.28167 | 31813 | 2014/10/09 00:00:00+00 | 11:13 | 2014/10/09 00:00:00+00 | 11:13 | No | Early  | <!----> | ⋯ | 0 | 0 | 0 | 0 | Hopper | 201410 | 2014 | 10 |  9 | Mauritania |\n",
       "| 31825 | -13.779167 | 19.05167 | 31825 | 2014/11/02 00:00:00+00 | 10:06 | 2014/11/02 00:00:00+00 | 10:06 | No | Early  | <!----> | ⋯ | 0 | 0 | 0 | 0 | Hopper | 201411 | 2014 | 11 |  2 | Mauritania |\n",
       "| 31838 |  -3.983333 | 21.90000 | 31838 | 2014/09/15 00:00:00+00 | 12:00 | 2014/09/15 00:00:00+00 | 12:00 | No | NA     | Marcouba | ⋯ | 0 | 0 | 0 | 0 | Hopper | 201409 | 2014 |  9 | 15 | Mali       |\n",
       "| 31842 | -13.818889 | 18.36778 | 31842 | 2014/09/11 00:00:00+00 | 09:38 | 2014/09/11 00:00:00+00 | 09:38 | No | Middle | <!----> | ⋯ | 0 | 0 | 0 | 0 | Hopper | 201409 | 2014 |  9 | 11 | Mauritania |\n",
       "| 31852 | -14.675556 | 18.49556 | 31852 | 2014/10/23 00:00:00+00 | 18:08 | 2014/10/23 00:00:00+00 | 18:08 | No | Late   | <!----> | ⋯ | 0 | 0 | 0 | 0 | Hopper | 201410 | 2014 | 10 | 23 | Mauritania |\n",
       "| 31853 | -14.706944 | 18.46306 | 31853 | 2014/10/22 00:00:00+00 | 17:35 | 2014/10/22 00:00:00+00 | 17:35 | No | Late   | <!----> | ⋯ | 0 | 0 | 0 | 0 | Hopper | 201410 | 2014 | 10 | 22 | Mauritania |\n",
       "| 31854 | -14.710833 | 18.48111 | 31854 | 2014/10/22 00:00:00+00 | 10:07 | 2014/10/22 00:00:00+00 | 10:07 | No | Late   | <!----> | ⋯ | 0 | 0 | 0 | 0 | Hopper | 201410 | 2014 | 10 | 22 | Mauritania |\n",
       "| 31855 | -14.667778 | 18.49500 | 31855 | 2014/10/22 00:00:00+00 | 08:38 | 2014/10/22 00:00:00+00 | 08:38 | No | Late   | <!----> | ⋯ | 0 | 0 | 0 | 0 | Hopper | 201410 | 2014 | 10 | 22 | Mauritania |\n",
       "| 31856 | -14.682778 | 18.48806 | 31856 | 2014/10/30 00:00:00+00 | 16:41 | 2014/10/30 00:00:00+00 | 16:41 | No | Late   | <!----> | ⋯ | 0 | 0 | 0 | 0 | Hopper | 201410 | 2014 | 10 | 30 | Mauritania |\n",
       "| 31857 | -13.799444 | 18.40917 | 31857 | 2014/10/22 00:00:00+00 | 12:55 | 2014/10/22 00:00:00+00 | 12:55 | No | Late   | <!----> | ⋯ | 0 | 0 | 0 | 0 | Hopper | 201410 | 2014 | 10 | 22 | Mauritania |\n",
       "| 31858 | -14.733611 | 18.46667 | 31858 | 2014/10/31 00:00:00+00 | 16:53 | 2014/10/31 00:00:00+00 | 16:53 | No | Late   | <!----> | ⋯ | 0 | 0 | 0 | 0 | Hopper | 201410 | 2014 | 10 | 31 | Mauritania |\n",
       "| 31859 | -14.667500 | 18.49444 | 31859 | 2014/10/31 00:00:00+00 | 11:00 | 2014/10/31 00:00:00+00 | 11:00 | No | Late   | <!----> | ⋯ | 0 | 0 | 0 | 0 | Hopper | 201410 | 2014 | 10 | 31 | Mauritania |\n",
       "| 31860 | -14.692778 | 18.49611 | 31860 | 2014/10/31 00:00:00+00 | 10:03 | 2014/10/31 00:00:00+00 | 10:03 | No | Late   | <!----> | ⋯ | 0 | 0 | 0 | 0 | Hopper | 201410 | 2014 | 10 | 31 | Mauritania |\n",
       "| 31861 | -14.732222 | 18.45806 | 31861 | 2014/10/27 00:00:00+00 | 17:55 | 2014/10/27 00:00:00+00 | 17:55 | No | Late   | <!----> | ⋯ | 0 | 0 | 0 | 0 | Hopper | 201410 | 2014 | 10 | 27 | Mauritania |\n",
       "| 31862 | -14.692500 | 18.49611 | 31862 | 2014/10/27 00:00:00+00 | 12:24 | 2014/10/27 00:00:00+00 | 12:24 | No | Late   | <!----> | ⋯ | 0 | 0 | 0 | 0 | Hopper | 201410 | 2014 | 10 | 27 | Mauritania |\n",
       "| 31863 | -14.716667 | 18.48389 | 31863 | 2014/10/27 00:00:00+00 | 09:52 | 2014/10/27 00:00:00+00 | 09:52 | No | Late   | <!----> | ⋯ | 0 | 0 | 0 | 0 | Hopper | 201410 | 2014 | 10 | 27 | Mauritania |\n",
       "| 31864 | -14.696389 | 18.48167 | 31864 | 2014/10/24 00:00:00+00 | 11:27 | 2014/10/24 00:00:00+00 | 11:27 | No | Late   | <!----> | ⋯ | 0 | 0 | 0 | 0 | Hopper | 201410 | 2014 | 10 | 24 | Mauritania |\n",
       "| 31865 | -14.693611 | 18.49611 | 31865 | 2014/10/24 00:00:00+00 | 10:51 | 2014/10/24 00:00:00+00 | 10:51 | No | Late   | <!----> | ⋯ | 0 | 0 | 0 | 0 | Hopper | 201410 | 2014 | 10 | 24 | Mauritania |\n",
       "\n"
      ],
      "text/plain": [
       "      X          Y        OBJECTID STARTDATE              TmSTARTDAT\n",
       "4512  -13.89944  19.15694 4512     2000/11/27 00:00:00+00 00:00     \n",
       "4513  -13.91028  19.14444 4513     2000/11/27 00:00:00+00 00:00     \n",
       "4514  -13.92306  19.14667 4514     2000/11/27 00:00:00+00 00:00     \n",
       "4515  -12.94583  19.14639 4515     2000/11/28 00:00:00+00 00:00     \n",
       "4516  -12.94972  19.13306 4516     2000/11/28 00:00:00+00 00:00     \n",
       "4517  -13.94778  19.17194 4517     2000/11/29 00:00:00+00 00:00     \n",
       "4518  -13.95194  19.19611 4518     2000/11/29 00:00:00+00 00:00     \n",
       "4519  -13.87833  19.15500 4519     2000/11/29 00:00:00+00 00:00     \n",
       "4520  -13.86917  19.15833 4520     2000/11/29 00:00:00+00 00:00     \n",
       "4521  -12.93889  19.13000 4521     2000/11/29 00:00:00+00 00:00     \n",
       "4522  -12.96389  19.12778 4522     2000/11/29 00:00:00+00 00:00     \n",
       "4523  -13.85056  19.15472 4523     2000/11/30 00:00:00+00 00:00     \n",
       "4524  -13.86167  19.16222 4524     2000/11/30 00:00:00+00 00:00     \n",
       "4525  -13.84556  19.16056 4525     2000/11/30 00:00:00+00 00:00     \n",
       "4526  -13.83472  19.17139 4526     2000/11/30 00:00:00+00 00:00     \n",
       "4527  -14.09833  19.36667 4527     2000/11/22 00:00:00+00 00:00     \n",
       "4528  -13.91083  19.15250 4528     2000/11/23 00:00:00+00 00:00     \n",
       "4529  -13.76250  18.82722 4529     2000/11/24 00:00:00+00 00:00     \n",
       "4530  -14.82333  19.49361 4530     2000/11/26 00:00:00+00 00:00     \n",
       "4531  -15.45583  20.58194 4531     2000/01/11 00:00:00+00 00:00     \n",
       "4532  -13.03750  18.97500 4532     2000/11/01 00:00:00+00 00:00     \n",
       "4533  -14.30333  18.74583 4533     2000/11/01 00:00:00+00 00:00     \n",
       "4534  -14.35556  18.74611 4534     2000/11/01 00:00:00+00 00:00     \n",
       "4535  -14.28944  18.73833 4535     2000/11/02 00:00:00+00 00:00     \n",
       "4536  -14.24750  18.74528 4536     2000/11/02 00:00:00+00 00:00     \n",
       "4537  -14.24556  18.74250 4537     2000/11/03 00:00:00+00 00:00     \n",
       "4538  -14.27167  18.73833 4538     2000/11/03 00:00:00+00 00:00     \n",
       "4539  -13.02861  18.97528 4539     2000/11/05 00:00:00+00 00:00     \n",
       "4540  -13.02806  18.97861 4540     2000/11/06 00:00:00+00 00:00     \n",
       "4541  -13.03028  18.99333 4541     2000/11/06 00:00:00+00 00:00     \n",
       "⋮     ⋮          ⋮        ⋮        ⋮                      ⋮         \n",
       "30323 -15.158889 18.89722 30323    2013/11/15 00:00:00+00 16:40     \n",
       "30324 -15.136667 18.89111 30324    2013/11/15 00:00:00+00 08:47     \n",
       "30325 -15.147222 18.89917 30325    2013/11/15 00:00:00+00 11:20     \n",
       "30326 -14.813611 18.99778 30326    2013/11/15 00:00:00+00 13:11     \n",
       "31575 -13.796111 18.41361 31575    2014/09/11 00:00:00+00 10:48     \n",
       "31576 -13.635278 18.50556 31576    2014/09/12 00:00:00+00 08:00     \n",
       "31618 -14.650278 18.86750 31618    2014/10/28 00:00:00+00 08:33     \n",
       "31619 -13.778611 19.05167 31619    2014/11/21 00:00:00+00 10:28     \n",
       "31620 -13.888333 18.88861 31620    2014/11/25 00:00:00+00 15:49     \n",
       "31621 -13.856111 19.02722 31621    2014/11/26 00:00:00+00 09:27     \n",
       "31680 -13.767222 18.92333 31680    2014/12/12 00:00:00+00 16:38     \n",
       "31809 -13.855000 19.03083 31809    2014/11/30 00:00:00+00 17:09     \n",
       "31813 -13.837778 18.28167 31813    2014/10/09 00:00:00+00 11:13     \n",
       "31825 -13.779167 19.05167 31825    2014/11/02 00:00:00+00 10:06     \n",
       "31838  -3.983333 21.90000 31838    2014/09/15 00:00:00+00 12:00     \n",
       "31842 -13.818889 18.36778 31842    2014/09/11 00:00:00+00 09:38     \n",
       "31852 -14.675556 18.49556 31852    2014/10/23 00:00:00+00 18:08     \n",
       "31853 -14.706944 18.46306 31853    2014/10/22 00:00:00+00 17:35     \n",
       "31854 -14.710833 18.48111 31854    2014/10/22 00:00:00+00 10:07     \n",
       "31855 -14.667778 18.49500 31855    2014/10/22 00:00:00+00 08:38     \n",
       "31856 -14.682778 18.48806 31856    2014/10/30 00:00:00+00 16:41     \n",
       "31857 -13.799444 18.40917 31857    2014/10/22 00:00:00+00 12:55     \n",
       "31858 -14.733611 18.46667 31858    2014/10/31 00:00:00+00 16:53     \n",
       "31859 -14.667500 18.49444 31859    2014/10/31 00:00:00+00 11:00     \n",
       "31860 -14.692778 18.49611 31860    2014/10/31 00:00:00+00 10:03     \n",
       "31861 -14.732222 18.45806 31861    2014/10/27 00:00:00+00 17:55     \n",
       "31862 -14.692500 18.49611 31862    2014/10/27 00:00:00+00 12:24     \n",
       "31863 -14.716667 18.48389 31863    2014/10/27 00:00:00+00 09:52     \n",
       "31864 -14.696389 18.48167 31864    2014/10/24 00:00:00+00 11:27     \n",
       "31865 -14.693611 18.49611 31865    2014/10/24 00:00:00+00 10:51     \n",
       "      FINISHDATE             TmFINISHDA EXACTDATE PARTMONTH LOCNAME  ⋯\n",
       "4512  2000/11/27 00:00:00+00 00:00      Yes       NA                 ⋯\n",
       "4513  2000/11/27 00:00:00+00 00:00      Yes       NA                 ⋯\n",
       "4514  2000/11/27 00:00:00+00 00:00      Yes       NA                 ⋯\n",
       "4515  2000/11/28 00:00:00+00 00:00      Yes       NA                 ⋯\n",
       "4516  2000/11/28 00:00:00+00 00:00      Yes       NA                 ⋯\n",
       "4517  2000/11/29 00:00:00+00 00:00      Yes       NA                 ⋯\n",
       "4518  2000/11/29 00:00:00+00 00:00      Yes       NA                 ⋯\n",
       "4519  2000/11/29 00:00:00+00 00:00      Yes       NA                 ⋯\n",
       "4520  2000/11/29 00:00:00+00 00:00      Yes       NA                 ⋯\n",
       "4521  2000/11/29 00:00:00+00 00:00      Yes       NA                 ⋯\n",
       "4522  2000/11/29 00:00:00+00 00:00      Yes       NA                 ⋯\n",
       "4523  2000/11/30 00:00:00+00 00:00      Yes       NA                 ⋯\n",
       "4524  2000/11/30 00:00:00+00 00:00      Yes       NA                 ⋯\n",
       "4525  2000/11/30 00:00:00+00 00:00      Yes       NA                 ⋯\n",
       "4526  2000/11/30 00:00:00+00 00:00      Yes       NA                 ⋯\n",
       "4527  2000/11/22 00:00:00+00 00:00      Yes       NA                 ⋯\n",
       "4528  2000/11/23 00:00:00+00 00:00      Yes       NA                 ⋯\n",
       "4529  2000/11/24 00:00:00+00 00:00      Yes       NA                 ⋯\n",
       "4530  2000/11/26 00:00:00+00 00:00      Yes       NA                 ⋯\n",
       "4531  2000/01/11 00:00:00+00 00:00      Yes       NA                 ⋯\n",
       "4532  2000/11/01 00:00:00+00 00:00      Yes       NA                 ⋯\n",
       "4533  2000/11/01 00:00:00+00 00:00      Yes       NA                 ⋯\n",
       "4534  2000/11/01 00:00:00+00 00:00      Yes       NA                 ⋯\n",
       "4535  2000/11/02 00:00:00+00 00:00      Yes       NA                 ⋯\n",
       "4536  2000/11/02 00:00:00+00 00:00      Yes       NA                 ⋯\n",
       "4537  2000/11/03 00:00:00+00 00:00      Yes       NA                 ⋯\n",
       "4538  2000/11/03 00:00:00+00 00:00      Yes       NA                 ⋯\n",
       "4539  2000/11/05 00:00:00+00 00:00      Yes       NA                 ⋯\n",
       "4540  2000/11/06 00:00:00+00 00:00      Yes       NA                 ⋯\n",
       "4541  2000/11/06 00:00:00+00 00:00      Yes       NA                 ⋯\n",
       "⋮     ⋮                      ⋮          ⋮         ⋮         ⋮        ⋱\n",
       "30323 2013/11/15 00:00:00+00 16:40      No        Middle             ⋯\n",
       "30324 2013/11/15 00:00:00+00 08:47      No        Middle             ⋯\n",
       "30325 2013/11/15 00:00:00+00 11:20      No        Middle             ⋯\n",
       "30326 2013/11/15 00:00:00+00 13:11      No        Middle             ⋯\n",
       "31575 2014/09/11 00:00:00+00 10:48      No        Middle             ⋯\n",
       "31576 2014/09/12 00:00:00+00 08:00      No        Middle             ⋯\n",
       "31618 2014/10/28 00:00:00+00 08:33      No        Late               ⋯\n",
       "31619 2014/11/21 00:00:00+00 10:28      No        Late               ⋯\n",
       "31620 2014/11/25 00:00:00+00 15:49      No        Late               ⋯\n",
       "31621 2014/11/26 00:00:00+00 09:27      No        Late               ⋯\n",
       "31680 2014/12/12 00:00:00+00 16:38      No        Middle             ⋯\n",
       "31809 2014/11/30 00:00:00+00 17:09      No        Late               ⋯\n",
       "31813 2014/10/09 00:00:00+00 11:13      No        Early              ⋯\n",
       "31825 2014/11/02 00:00:00+00 10:06      No        Early              ⋯\n",
       "31838 2014/09/15 00:00:00+00 12:00      No        NA        Marcouba ⋯\n",
       "31842 2014/09/11 00:00:00+00 09:38      No        Middle             ⋯\n",
       "31852 2014/10/23 00:00:00+00 18:08      No        Late               ⋯\n",
       "31853 2014/10/22 00:00:00+00 17:35      No        Late               ⋯\n",
       "31854 2014/10/22 00:00:00+00 10:07      No        Late               ⋯\n",
       "31855 2014/10/22 00:00:00+00 08:38      No        Late               ⋯\n",
       "31856 2014/10/30 00:00:00+00 16:41      No        Late               ⋯\n",
       "31857 2014/10/22 00:00:00+00 12:55      No        Late               ⋯\n",
       "31858 2014/10/31 00:00:00+00 16:53      No        Late               ⋯\n",
       "31859 2014/10/31 00:00:00+00 11:00      No        Late               ⋯\n",
       "31860 2014/10/31 00:00:00+00 10:03      No        Late               ⋯\n",
       "31861 2014/10/27 00:00:00+00 17:55      No        Late               ⋯\n",
       "31862 2014/10/27 00:00:00+00 12:24      No        Late               ⋯\n",
       "31863 2014/10/27 00:00:00+00 09:52      No        Late               ⋯\n",
       "31864 2014/10/24 00:00:00+00 11:27      No        Late               ⋯\n",
       "31865 2014/10/24 00:00:00+00 10:51      No        Late               ⋯\n",
       "      CTLAPPAIR CTLAPPMECH CTLAPPUNK CTLESTKILL CAT    yearmonth year month day\n",
       "4512  0         0          0         0          Hopper 200011    2000 11    27 \n",
       "4513  0         0          0         0          Hopper 200011    2000 11    27 \n",
       "4514  0         0          0         0          Hopper 200011    2000 11    27 \n",
       "4515  0         0          0         0          Hopper 200011    2000 11    28 \n",
       "4516  0         0          0         0          Hopper 200011    2000 11    28 \n",
       "4517  0         0          0         0          Hopper 200011    2000 11    29 \n",
       "4518  0         0          0         0          Hopper 200011    2000 11    29 \n",
       "4519  0         0          0         0          Hopper 200011    2000 11    29 \n",
       "4520  0         0          0         0          Hopper 200011    2000 11    29 \n",
       "4521  0         0          0         0          Hopper 200011    2000 11    29 \n",
       "4522  0         0          0         0          Hopper 200011    2000 11    29 \n",
       "4523  0         0          0         0          Hopper 200011    2000 11    30 \n",
       "4524  0         0          0         0          Hopper 200011    2000 11    30 \n",
       "4525  0         0          0         0          Hopper 200011    2000 11    30 \n",
       "4526  0         0          0         0          Hopper 200011    2000 11    30 \n",
       "4527  0         0          0         0          Hopper 200011    2000 11    22 \n",
       "4528  0         0          0         0          Hopper 200011    2000 11    23 \n",
       "4529  0         0          0         0          Hopper 200011    2000 11    24 \n",
       "4530  0         0          0         0          Hopper 200011    2000 11    26 \n",
       "4531  0         0          0         0          Hopper 200001    2000  1    11 \n",
       "4532  0         0          0         0          Hopper 200011    2000 11     1 \n",
       "4533  0         0          0         0          Hopper 200011    2000 11     1 \n",
       "4534  0         0          0         0          Hopper 200011    2000 11     1 \n",
       "4535  0         0          0         0          Hopper 200011    2000 11     2 \n",
       "4536  0         0          0         0          Hopper 200011    2000 11     2 \n",
       "4537  0         0          0         0          Hopper 200011    2000 11     3 \n",
       "4538  0         0          0         0          Hopper 200011    2000 11     3 \n",
       "4539  0         0          0         0          Hopper 200011    2000 11     5 \n",
       "4540  0         0          0         0          Hopper 200011    2000 11     6 \n",
       "4541  0         0          0         0          Hopper 200011    2000 11     6 \n",
       "⋮     ⋮         ⋮          ⋮         ⋮          ⋮      ⋮         ⋮    ⋮     ⋮  \n",
       "30323 0         0          0         0          Hopper 201311    2013 11    15 \n",
       "30324 0         0          0         0          Hopper 201311    2013 11    15 \n",
       "30325 0         0          0         0          Hopper 201311    2013 11    15 \n",
       "30326 0         0          0         0          Hopper 201311    2013 11    15 \n",
       "31575 0         0          0         0          Hopper 201409    2014  9    11 \n",
       "31576 0         0          0         0          Hopper 201409    2014  9    12 \n",
       "31618 0         0          0         0          Hopper 201410    2014 10    28 \n",
       "31619 0         0          0         0          Hopper 201411    2014 11    21 \n",
       "31620 0         0          0         0          Hopper 201411    2014 11    25 \n",
       "31621 0         0          0         0          Hopper 201411    2014 11    26 \n",
       "31680 0         0          0         0          Hopper 201412    2014 12    12 \n",
       "31809 0         0          0         0          Hopper 201411    2014 11    30 \n",
       "31813 0         0          0         0          Hopper 201410    2014 10     9 \n",
       "31825 0         0          0         0          Hopper 201411    2014 11     2 \n",
       "31838 0         0          0         0          Hopper 201409    2014  9    15 \n",
       "31842 0         0          0         0          Hopper 201409    2014  9    11 \n",
       "31852 0         0          0         0          Hopper 201410    2014 10    23 \n",
       "31853 0         0          0         0          Hopper 201410    2014 10    22 \n",
       "31854 0         0          0         0          Hopper 201410    2014 10    22 \n",
       "31855 0         0          0         0          Hopper 201410    2014 10    22 \n",
       "31856 0         0          0         0          Hopper 201410    2014 10    30 \n",
       "31857 0         0          0         0          Hopper 201410    2014 10    22 \n",
       "31858 0         0          0         0          Hopper 201410    2014 10    31 \n",
       "31859 0         0          0         0          Hopper 201410    2014 10    31 \n",
       "31860 0         0          0         0          Hopper 201410    2014 10    31 \n",
       "31861 0         0          0         0          Hopper 201410    2014 10    27 \n",
       "31862 0         0          0         0          Hopper 201410    2014 10    27 \n",
       "31863 0         0          0         0          Hopper 201410    2014 10    27 \n",
       "31864 0         0          0         0          Hopper 201410    2014 10    24 \n",
       "31865 0         0          0         0          Hopper 201410    2014 10    24 \n",
       "      country   \n",
       "4512  Mauritania\n",
       "4513  Mauritania\n",
       "4514  Mauritania\n",
       "4515  Mauritania\n",
       "4516  Mauritania\n",
       "4517  Mauritania\n",
       "4518  Mauritania\n",
       "4519  Mauritania\n",
       "4520  Mauritania\n",
       "4521  Mauritania\n",
       "4522  Mauritania\n",
       "4523  Mauritania\n",
       "4524  Mauritania\n",
       "4525  Mauritania\n",
       "4526  Mauritania\n",
       "4527  Mauritania\n",
       "4528  Mauritania\n",
       "4529  Mauritania\n",
       "4530  Mauritania\n",
       "4531  Mauritania\n",
       "4532  Mauritania\n",
       "4533  Mauritania\n",
       "4534  Mauritania\n",
       "4535  Mauritania\n",
       "4536  Mauritania\n",
       "4537  Mauritania\n",
       "4538  Mauritania\n",
       "4539  Mauritania\n",
       "4540  Mauritania\n",
       "4541  Mauritania\n",
       "⋮     ⋮         \n",
       "30323 Mauritania\n",
       "30324 Mauritania\n",
       "30325 Mauritania\n",
       "30326 Mauritania\n",
       "31575 Mauritania\n",
       "31576 Mauritania\n",
       "31618 Mauritania\n",
       "31619 Mauritania\n",
       "31620 Mauritania\n",
       "31621 Mauritania\n",
       "31680 Mauritania\n",
       "31809 Mauritania\n",
       "31813 Mauritania\n",
       "31825 Mauritania\n",
       "31838 Mali      \n",
       "31842 Mauritania\n",
       "31852 Mauritania\n",
       "31853 Mauritania\n",
       "31854 Mauritania\n",
       "31855 Mauritania\n",
       "31856 Mauritania\n",
       "31857 Mauritania\n",
       "31858 Mauritania\n",
       "31859 Mauritania\n",
       "31860 Mauritania\n",
       "31861 Mauritania\n",
       "31862 Mauritania\n",
       "31863 Mauritania\n",
       "31864 Mauritania\n",
       "31865 Mauritania"
      ]
     },
     "metadata": {},
     "output_type": "display_data"
    }
   ],
   "source": [
    "train_val_subset"
   ]
  },
  {
   "cell_type": "code",
   "execution_count": 17,
   "metadata": {},
   "outputs": [
    {
     "data": {
      "text/html": [
       "<style>\n",
       ".list-inline {list-style: none; margin:0; padding: 0}\n",
       ".list-inline>li {display: inline-block}\n",
       ".list-inline>li:not(:last-child)::after {content: \"\\00b7\"; padding: 0 .5ex}\n",
       "</style>\n",
       "<ol class=list-inline><li>2000</li><li>2001</li><li>2002</li><li>2003</li><li>2004</li><li>2005</li><li>2006</li><li>2007</li><li>2008</li><li>2009</li><li>2010</li><li>2011</li><li>2012</li><li>2013</li><li>2014</li></ol>\n"
      ],
      "text/latex": [
       "\\begin{enumerate*}\n",
       "\\item 2000\n",
       "\\item 2001\n",
       "\\item 2002\n",
       "\\item 2003\n",
       "\\item 2004\n",
       "\\item 2005\n",
       "\\item 2006\n",
       "\\item 2007\n",
       "\\item 2008\n",
       "\\item 2009\n",
       "\\item 2010\n",
       "\\item 2011\n",
       "\\item 2012\n",
       "\\item 2013\n",
       "\\item 2014\n",
       "\\end{enumerate*}\n"
      ],
      "text/markdown": [
       "1. 2000\n",
       "2. 2001\n",
       "3. 2002\n",
       "4. 2003\n",
       "5. 2004\n",
       "6. 2005\n",
       "7. 2006\n",
       "8. 2007\n",
       "9. 2008\n",
       "10. 2009\n",
       "11. 2010\n",
       "12. 2011\n",
       "13. 2012\n",
       "14. 2013\n",
       "15. 2014\n",
       "\n",
       "\n"
      ],
      "text/plain": [
       " [1] 2000 2001 2002 2003 2004 2005 2006 2007 2008 2009 2010 2011 2012 2013 2014"
      ]
     },
     "metadata": {},
     "output_type": "display_data"
    }
   ],
   "source": [
    "unique(train_val_subset$year)"
   ]
  },
  {
   "cell_type": "code",
   "execution_count": 18,
   "metadata": {},
   "outputs": [],
   "source": [
    "nasa_pa_generation <- function(basePath, country_data, yearmonths, method, env_profilers){\n",
    "\n",
    "    dataframe_chunks <- list()\n",
    "    i <- 1\n",
    "    no_generation_limit <- 3 # 0-3\n",
    "    random_generation_limit <- 50 # 3 - 50\n",
    "    for (yearmonth in yearmonths){\n",
    "        print(yearmonth)\n",
    "        month <- yearmonth %% 100\n",
    "        year <- yearmonth %/% 100\n",
    "        \n",
    "        success <- FALSE\n",
    "        tryCatch({\n",
    "            sm <- cropCountry(aggregateSM_NASA(year, month, basePath, env_profilers), country)\n",
    "            env_data <- stack(sm, resample(soil_profile, sm))\n",
    "            success <- TRUE\n",
    "        }, error = function(e){\n",
    "            print(paste('Error: ', e))\n",
    "        })\n",
    "        if (! success) next\n",
    "\n",
    "        data_subset <- country_data[(country_data$yearmonth == as.character(yearmonth)),]\n",
    "        presence <- data_subset[(data_subset$LOCPRESENT == 1),]\n",
    "        true_absence <- data_subset[(data_subset$LOCPRESENT == 2),]\n",
    "        geo_locs <- data.frame(x=presence$X, y=presence$Y)\n",
    "        geo_locs_len <- dim(geo_locs)[1]\n",
    "        bg <- backgroundGrid(env_data)\n",
    "        \n",
    "        success <- FALSE\n",
    "        tryCatch({\n",
    "            if (geo_locs_len < 1){\n",
    "                next\n",
    "            }\n",
    "            else{\n",
    "                if (method == 'random'){\n",
    "                    if (geo_locs_len <= no_generation_limit){\n",
    "                        generated_data <- geo_locs\n",
    "                        generated_data['v'] = 1\n",
    "                    } else{\n",
    "                        bg_extents <- backgroundRadius(xy = geo_locs, background = bg$xy, \n",
    "                               start = 0.083*5, by = 0.083*20, \n",
    "                               unit = \"decimal degrees\")\n",
    "                        generated_data <-pseudoAbsences(xy = geo_locs, background = bg_extents, \n",
    "                                       exclusion.buffer = 0.083*1, \n",
    "                                       prevalence = 0.5, kmeans = FALSE)\n",
    "                    }\n",
    "                }\n",
    "                else if (method == \"ep_random\"){\n",
    "                    if (geo_locs_len <= no_generation_limit){\n",
    "                        generated_data <- geo_locs\n",
    "                        generated_data['v'] = 1\n",
    "                    }\n",
    "                    else if ((geo_locs_len > no_generation_limit) & (geo_locs_len <= random_generation_limit)) {\n",
    "                        # generate data randomly\n",
    "                        bg_extents <- backgroundRadius(xy = geo_locs, background = bg$xy, \n",
    "                               start = 0.083*5, by = 0.083*20, \n",
    "                               unit = \"decimal degrees\")\n",
    "                        generated_data <-pseudoAbsences(xy = geo_locs, background = bg_extents[[1]]$km50, \n",
    "                                           exclusion.buffer = 0.083*1, \n",
    "                                           prevalence = 0.5, kmeans = FALSE)\n",
    "                    } else {\n",
    "                        bg_profiled <- OCSVMprofiling(xy = geo_locs, varstack = env_data, \n",
    "                                              background = bg$xy)\n",
    "                        bg_extents <- backgroundRadius(xy = geo_locs, background = bg_profiled$absence, \n",
    "                               start = 0.083*5, by = 0.083*20, \n",
    "                               unit = \"decimal degrees\")\n",
    "                        # generate data using environmental profiling\n",
    "                        generated_data <-pseudoAbsences(xy = geo_locs, background = bg_extents, \n",
    "                                           exclusion.buffer = 0.083*1, \n",
    "                                           prevalence = 0.5, kmeans = FALSE, \n",
    "                                           varstack = env_data)\n",
    "                    }\n",
    "                }\n",
    "                else if (method == \"ep_kmeans\"){\n",
    "                    if (geo_locs_len <= no_generation_limit){\n",
    "                        generated_data <- geo_locs\n",
    "                        generated_data['v'] = 1\n",
    "                    }\n",
    "                    else if ((geo_locs_len > no_generation_limit) & (geo_locs_len <= random_generation_limit)) {\n",
    "                        # generate data randomly\n",
    "                        bg_extents <- backgroundRadius(xy = geo_locs, background = bg$xy, \n",
    "                               start = 0.083*5, by = 0.083*20, \n",
    "                               unit = \"decimal degrees\")\n",
    "                        generated_data <-pseudoAbsences(xy = geo_locs, background = bg_extents, \n",
    "                                           exclusion.buffer = 0.083*1, \n",
    "                                           prevalence = 0.5, kmeans = FALSE)\n",
    "                    } else {\n",
    "                        bg_profiled <- OCSVMprofiling(xy = geo_locs, varstack = env_data, \n",
    "                                              background = bg$xy)\n",
    "                        bg_extents <- backgroundRadius(xy = geo_locs, background = bg_profiled$absence, \n",
    "                               start = 0.083*10, by = 0.083*20, \n",
    "                               unit = \"decimal degrees\")\n",
    "                        # generate data using environmental profiling\n",
    "                        generated_data <-pseudoAbsences(xy = geo_locs, background = bg_extents, \n",
    "                                           exclusion.buffer = 0.083*1, \n",
    "                                           prevalence = 0.5, kmeans = TRUE, \n",
    "                                           varstack = env_data)\n",
    "                    }\n",
    "                }\n",
    "            }  \n",
    "            success <- TRUE\n",
    "        }, error = function(e){\n",
    "            print(paste('Error: ', e))\n",
    "        })\n",
    "        if (! success) next\n",
    "        \n",
    "        generated_data <- finalize_data(generated_data, presence, geo_locs_len <= no_generation_limit)\n",
    "        true_absence_geo_locs <- data.frame(x=true_absence$X, y=true_absence$Y)\n",
    "        if (dim(true_absence_geo_locs)[1] > 0){\n",
    "            true_absence_geo_locs['v'] = 2\n",
    "            true_absence <- finalize_data(true_absence_geo_locs, true_absence, TRUE)\n",
    "            final_data <- dplyr::bind_rows(generated_data, true_absence)\n",
    "        } else {\n",
    "            final_data <- generated_data\n",
    "        }\n",
    "        raster_data <- extract_values(data.frame(x=final_data$x, y=final_data$y), env_data)\n",
    "        final_data <- cbind(final_data, raster_data)\n",
    "\n",
    "\n",
    "        dataframe_chunks[[i]] <- final_data\n",
    "        i <- i + 1\n",
    "    }\n",
    "    return(dplyr::bind_rows(dataframe_chunks))\n",
    "}"
   ]
  },
  {
   "cell_type": "code",
   "execution_count": 19,
   "metadata": {},
   "outputs": [],
   "source": [
    "basePath <- '/mnt/disks/nasa/NASA'\n",
    "# basePath <- 'NASA Data'"
   ]
  },
  {
   "cell_type": "markdown",
   "metadata": {},
   "source": [
    "### Generate Random"
   ]
  },
  {
   "cell_type": "code",
   "execution_count": 20,
   "metadata": {},
   "outputs": [
    {
     "data": {
      "text/html": [
       "<style>\n",
       ".list-inline {list-style: none; margin:0; padding: 0}\n",
       ".list-inline>li {display: inline-block}\n",
       ".list-inline>li:not(:last-child)::after {content: \"\\00b7\"; padding: 0 .5ex}\n",
       "</style>\n",
       "<ol class=list-inline><li>201510</li><li>201511</li><li>201512</li><li>201509</li><li>201610</li><li>201603</li><li>201609</li><li>201611</li><li>201604</li><li>201605</li><li>201602</li><li>201601</li><li>201606</li><li>201607</li><li>201608</li><li>201612</li><li>201701</li><li>201702</li><li>201709</li><li>201712</li><li>201710</li><li>201711</li><li>201707</li><li>201810</li><li>201811</li><li>201812</li><li>201901</li><li>201903</li><li>201904</li><li>201908</li><li>201910</li><li>201911</li><li>201912</li><li>202001</li><li>202010</li><li>202011</li><li>202012</li><li>202101</li></ol>\n"
      ],
      "text/latex": [
       "\\begin{enumerate*}\n",
       "\\item 201510\n",
       "\\item 201511\n",
       "\\item 201512\n",
       "\\item 201509\n",
       "\\item 201610\n",
       "\\item 201603\n",
       "\\item 201609\n",
       "\\item 201611\n",
       "\\item 201604\n",
       "\\item 201605\n",
       "\\item 201602\n",
       "\\item 201601\n",
       "\\item 201606\n",
       "\\item 201607\n",
       "\\item 201608\n",
       "\\item 201612\n",
       "\\item 201701\n",
       "\\item 201702\n",
       "\\item 201709\n",
       "\\item 201712\n",
       "\\item 201710\n",
       "\\item 201711\n",
       "\\item 201707\n",
       "\\item 201810\n",
       "\\item 201811\n",
       "\\item 201812\n",
       "\\item 201901\n",
       "\\item 201903\n",
       "\\item 201904\n",
       "\\item 201908\n",
       "\\item 201910\n",
       "\\item 201911\n",
       "\\item 201912\n",
       "\\item 202001\n",
       "\\item 202010\n",
       "\\item 202011\n",
       "\\item 202012\n",
       "\\item 202101\n",
       "\\end{enumerate*}\n"
      ],
      "text/markdown": [
       "1. 201510\n",
       "2. 201511\n",
       "3. 201512\n",
       "4. 201509\n",
       "5. 201610\n",
       "6. 201603\n",
       "7. 201609\n",
       "8. 201611\n",
       "9. 201604\n",
       "10. 201605\n",
       "11. 201602\n",
       "12. 201601\n",
       "13. 201606\n",
       "14. 201607\n",
       "15. 201608\n",
       "16. 201612\n",
       "17. 201701\n",
       "18. 201702\n",
       "19. 201709\n",
       "20. 201712\n",
       "21. 201710\n",
       "22. 201711\n",
       "23. 201707\n",
       "24. 201810\n",
       "25. 201811\n",
       "26. 201812\n",
       "27. 201901\n",
       "28. 201903\n",
       "29. 201904\n",
       "30. 201908\n",
       "31. 201910\n",
       "32. 201911\n",
       "33. 201912\n",
       "34. 202001\n",
       "35. 202010\n",
       "36. 202011\n",
       "37. 202012\n",
       "38. 202101\n",
       "\n",
       "\n"
      ],
      "text/plain": [
       " [1] 201510 201511 201512 201509 201610 201603 201609 201611 201604 201605\n",
       "[11] 201602 201601 201606 201607 201608 201612 201701 201702 201709 201712\n",
       "[21] 201710 201711 201707 201810 201811 201812 201901 201903 201904 201908\n",
       "[31] 201910 201911 201912 202001 202010 202011 202012 202101"
      ]
     },
     "metadata": {},
     "output_type": "display_data"
    }
   ],
   "source": [
    "as.numeric(unique(test_subset$yearmonth))"
   ]
  },
  {
   "cell_type": "code",
   "execution_count": 21,
   "metadata": {},
   "outputs": [
    {
     "data": {
      "text/html": [
       "<style>\n",
       ".list-inline {list-style: none; margin:0; padding: 0}\n",
       ".list-inline>li {display: inline-block}\n",
       ".list-inline>li:not(:last-child)::after {content: \"\\00b7\"; padding: 0 .5ex}\n",
       "</style>\n",
       "<ol class=list-inline><li>200011</li><li>200001</li><li>200012</li><li>200010</li><li>200003</li><li>200002</li><li>200008</li><li>200004</li><li>200009</li><li>200101</li><li>200110</li><li>200111</li><li>200112</li><li>200102</li><li>200108</li><li>200109</li><li>200211</li><li>200212</li><li>200210</li><li>200201</li><li>200208</li><li>200209</li><li>200311</li><li>200312</li><li>200301</li><li>200302</li><li>200308</li><li>200309</li><li>200310</li><li>200401</li><li>200303</li><li>200307</li><li>200412</li><li>200411</li><li>200410</li><li>200406</li><li>200408</li><li>200402</li><li>200404</li><li>200403</li><li>200409</li><li>200405</li><li>200407</li><li>200512</li><li>200511</li><li>200508</li><li>200509</li><li>200510</li><li>200601</li><li>200507</li><li>200612</li><li>200610</li><li>200611</li><li>200608</li><li>200609</li><li>200604</li><li>200602</li><li>200603</li><li>200712</li><li>200701</li><li>200711</li><li>200709</li><li>200710</li><li>200801</li><li>200702</li><li>200812</li><li>200811</li><li>200804</li><li>200803</li><li>200805</li><li>200802</li><li>200810</li><li>200809</li><li>200808</li><li>200901</li><li>200910</li><li>200909</li><li>200911</li><li>200912</li><li>200908</li><li>200907</li><li>200902</li><li>200903</li><li>201011</li><li>201010</li><li>201012</li><li>201008</li><li>201009</li><li>201001</li><li>201002</li><li>201101</li><li>201103</li><li>201102</li><li>201104</li><li>201105</li><li>201109</li><li>201111</li><li>201108</li><li>201110</li><li>201211</li><li>201212</li><li>201210</li><li>201208</li><li>201207</li><li>201209</li><li>201301</li><li>201311</li><li>201310</li><li>201312</li><li>201308</li><li>201309</li><li>201409</li><li>201410</li><li>201411</li><li>201412</li></ol>\n"
      ],
      "text/latex": [
       "\\begin{enumerate*}\n",
       "\\item 200011\n",
       "\\item 200001\n",
       "\\item 200012\n",
       "\\item 200010\n",
       "\\item 200003\n",
       "\\item 200002\n",
       "\\item 200008\n",
       "\\item 200004\n",
       "\\item 200009\n",
       "\\item 200101\n",
       "\\item 200110\n",
       "\\item 200111\n",
       "\\item 200112\n",
       "\\item 200102\n",
       "\\item 200108\n",
       "\\item 200109\n",
       "\\item 200211\n",
       "\\item 200212\n",
       "\\item 200210\n",
       "\\item 200201\n",
       "\\item 200208\n",
       "\\item 200209\n",
       "\\item 200311\n",
       "\\item 200312\n",
       "\\item 200301\n",
       "\\item 200302\n",
       "\\item 200308\n",
       "\\item 200309\n",
       "\\item 200310\n",
       "\\item 200401\n",
       "\\item 200303\n",
       "\\item 200307\n",
       "\\item 200412\n",
       "\\item 200411\n",
       "\\item 200410\n",
       "\\item 200406\n",
       "\\item 200408\n",
       "\\item 200402\n",
       "\\item 200404\n",
       "\\item 200403\n",
       "\\item 200409\n",
       "\\item 200405\n",
       "\\item 200407\n",
       "\\item 200512\n",
       "\\item 200511\n",
       "\\item 200508\n",
       "\\item 200509\n",
       "\\item 200510\n",
       "\\item 200601\n",
       "\\item 200507\n",
       "\\item 200612\n",
       "\\item 200610\n",
       "\\item 200611\n",
       "\\item 200608\n",
       "\\item 200609\n",
       "\\item 200604\n",
       "\\item 200602\n",
       "\\item 200603\n",
       "\\item 200712\n",
       "\\item 200701\n",
       "\\item 200711\n",
       "\\item 200709\n",
       "\\item 200710\n",
       "\\item 200801\n",
       "\\item 200702\n",
       "\\item 200812\n",
       "\\item 200811\n",
       "\\item 200804\n",
       "\\item 200803\n",
       "\\item 200805\n",
       "\\item 200802\n",
       "\\item 200810\n",
       "\\item 200809\n",
       "\\item 200808\n",
       "\\item 200901\n",
       "\\item 200910\n",
       "\\item 200909\n",
       "\\item 200911\n",
       "\\item 200912\n",
       "\\item 200908\n",
       "\\item 200907\n",
       "\\item 200902\n",
       "\\item 200903\n",
       "\\item 201011\n",
       "\\item 201010\n",
       "\\item 201012\n",
       "\\item 201008\n",
       "\\item 201009\n",
       "\\item 201001\n",
       "\\item 201002\n",
       "\\item 201101\n",
       "\\item 201103\n",
       "\\item 201102\n",
       "\\item 201104\n",
       "\\item 201105\n",
       "\\item 201109\n",
       "\\item 201111\n",
       "\\item 201108\n",
       "\\item 201110\n",
       "\\item 201211\n",
       "\\item 201212\n",
       "\\item 201210\n",
       "\\item 201208\n",
       "\\item 201207\n",
       "\\item 201209\n",
       "\\item 201301\n",
       "\\item 201311\n",
       "\\item 201310\n",
       "\\item 201312\n",
       "\\item 201308\n",
       "\\item 201309\n",
       "\\item 201409\n",
       "\\item 201410\n",
       "\\item 201411\n",
       "\\item 201412\n",
       "\\end{enumerate*}\n"
      ],
      "text/markdown": [
       "1. 200011\n",
       "2. 200001\n",
       "3. 200012\n",
       "4. 200010\n",
       "5. 200003\n",
       "6. 200002\n",
       "7. 200008\n",
       "8. 200004\n",
       "9. 200009\n",
       "10. 200101\n",
       "11. 200110\n",
       "12. 200111\n",
       "13. 200112\n",
       "14. 200102\n",
       "15. 200108\n",
       "16. 200109\n",
       "17. 200211\n",
       "18. 200212\n",
       "19. 200210\n",
       "20. 200201\n",
       "21. 200208\n",
       "22. 200209\n",
       "23. 200311\n",
       "24. 200312\n",
       "25. 200301\n",
       "26. 200302\n",
       "27. 200308\n",
       "28. 200309\n",
       "29. 200310\n",
       "30. 200401\n",
       "31. 200303\n",
       "32. 200307\n",
       "33. 200412\n",
       "34. 200411\n",
       "35. 200410\n",
       "36. 200406\n",
       "37. 200408\n",
       "38. 200402\n",
       "39. 200404\n",
       "40. 200403\n",
       "41. 200409\n",
       "42. 200405\n",
       "43. 200407\n",
       "44. 200512\n",
       "45. 200511\n",
       "46. 200508\n",
       "47. 200509\n",
       "48. 200510\n",
       "49. 200601\n",
       "50. 200507\n",
       "51. 200612\n",
       "52. 200610\n",
       "53. 200611\n",
       "54. 200608\n",
       "55. 200609\n",
       "56. 200604\n",
       "57. 200602\n",
       "58. 200603\n",
       "59. 200712\n",
       "60. 200701\n",
       "61. 200711\n",
       "62. 200709\n",
       "63. 200710\n",
       "64. 200801\n",
       "65. 200702\n",
       "66. 200812\n",
       "67. 200811\n",
       "68. 200804\n",
       "69. 200803\n",
       "70. 200805\n",
       "71. 200802\n",
       "72. 200810\n",
       "73. 200809\n",
       "74. 200808\n",
       "75. 200901\n",
       "76. 200910\n",
       "77. 200909\n",
       "78. 200911\n",
       "79. 200912\n",
       "80. 200908\n",
       "81. 200907\n",
       "82. 200902\n",
       "83. 200903\n",
       "84. 201011\n",
       "85. 201010\n",
       "86. 201012\n",
       "87. 201008\n",
       "88. 201009\n",
       "89. 201001\n",
       "90. 201002\n",
       "91. 201101\n",
       "92. 201103\n",
       "93. 201102\n",
       "94. 201104\n",
       "95. 201105\n",
       "96. 201109\n",
       "97. 201111\n",
       "98. 201108\n",
       "99. 201110\n",
       "100. 201211\n",
       "101. 201212\n",
       "102. 201210\n",
       "103. 201208\n",
       "104. 201207\n",
       "105. 201209\n",
       "106. 201301\n",
       "107. 201311\n",
       "108. 201310\n",
       "109. 201312\n",
       "110. 201308\n",
       "111. 201309\n",
       "112. 201409\n",
       "113. 201410\n",
       "114. 201411\n",
       "115. 201412\n",
       "\n",
       "\n"
      ],
      "text/plain": [
       "  [1] 200011 200001 200012 200010 200003 200002 200008 200004 200009 200101\n",
       " [11] 200110 200111 200112 200102 200108 200109 200211 200212 200210 200201\n",
       " [21] 200208 200209 200311 200312 200301 200302 200308 200309 200310 200401\n",
       " [31] 200303 200307 200412 200411 200410 200406 200408 200402 200404 200403\n",
       " [41] 200409 200405 200407 200512 200511 200508 200509 200510 200601 200507\n",
       " [51] 200612 200610 200611 200608 200609 200604 200602 200603 200712 200701\n",
       " [61] 200711 200709 200710 200801 200702 200812 200811 200804 200803 200805\n",
       " [71] 200802 200810 200809 200808 200901 200910 200909 200911 200912 200908\n",
       " [81] 200907 200902 200903 201011 201010 201012 201008 201009 201001 201002\n",
       " [91] 201101 201103 201102 201104 201105 201109 201111 201108 201110 201211\n",
       "[101] 201212 201210 201208 201207 201209 201301 201311 201310 201312 201308\n",
       "[111] 201309 201409 201410 201411 201412"
      ]
     },
     "metadata": {},
     "output_type": "display_data"
    }
   ],
   "source": [
    "as.numeric(unique(train_val_subset$yearmonth))"
   ]
  },
  {
   "cell_type": "code",
   "execution_count": 22,
   "metadata": {},
   "outputs": [
    {
     "name": "stdout",
     "output_type": "stream",
     "text": [
      "[1] 201510\n",
      "[1] \"creating background point-grids for species 1 out of 1\"\n"
     ]
    },
    {
     "name": "stderr",
     "output_type": "stream",
     "text": [
      "[2021-09-21 07:11:47] Generating pseudo-absences for species 1\n",
      "\n",
      ":::[2021-09-21 07:11:47] Realization 1\n",
      "\n"
     ]
    },
    {
     "name": "stdout",
     "output_type": "stream",
     "text": [
      "[1] 201511\n",
      "[1] \"creating background point-grids for species 1 out of 1\"\n"
     ]
    },
    {
     "name": "stderr",
     "output_type": "stream",
     "text": [
      "[2021-09-21 07:13:02] Generating pseudo-absences for species 1\n",
      "\n",
      ":::[2021-09-21 07:13:02] Realization 1\n",
      "\n",
      "Background km50 is too small for sampling and will be ignored\n",
      "\n"
     ]
    },
    {
     "name": "stdout",
     "output_type": "stream",
     "text": [
      "[1] 201512\n",
      "[1] \"creating background point-grids for species 1 out of 1\"\n"
     ]
    },
    {
     "name": "stderr",
     "output_type": "stream",
     "text": [
      "[2021-09-21 07:14:21] Generating pseudo-absences for species 1\n",
      "\n",
      ":::[2021-09-21 07:14:21] Realization 1\n",
      "\n"
     ]
    },
    {
     "name": "stdout",
     "output_type": "stream",
     "text": [
      "[1] 201509\n",
      "[1] \"creating background point-grids for species 1 out of 1\"\n"
     ]
    },
    {
     "name": "stderr",
     "output_type": "stream",
     "text": [
      "[2021-09-21 07:15:41] Generating pseudo-absences for species 1\n",
      "\n",
      ":::[2021-09-21 07:15:41] Realization 1\n",
      "\n"
     ]
    },
    {
     "name": "stdout",
     "output_type": "stream",
     "text": [
      "[1] 201610\n",
      "[1] \"creating background point-grids for species 1 out of 1\"\n"
     ]
    },
    {
     "name": "stderr",
     "output_type": "stream",
     "text": [
      "[2021-09-21 07:17:04] Generating pseudo-absences for species 1\n",
      "\n",
      ":::[2021-09-21 07:17:04] Realization 1\n",
      "\n",
      "Background km50 is too small for sampling and will be ignored\n",
      "\n"
     ]
    },
    {
     "name": "stdout",
     "output_type": "stream",
     "text": [
      "[1] 201603\n",
      "[1] \"creating background point-grids for species 1 out of 1\"\n"
     ]
    },
    {
     "name": "stderr",
     "output_type": "stream",
     "text": [
      "[2021-09-21 07:18:49] Generating pseudo-absences for species 1\n",
      "\n",
      ":::[2021-09-21 07:18:49] Realization 1\n",
      "\n"
     ]
    },
    {
     "name": "stdout",
     "output_type": "stream",
     "text": [
      "[1] 201609\n",
      "[1] \"creating background point-grids for species 1 out of 1\"\n"
     ]
    },
    {
     "name": "stderr",
     "output_type": "stream",
     "text": [
      "[2021-09-21 07:20:17] Generating pseudo-absences for species 1\n",
      "\n",
      ":::[2021-09-21 07:20:17] Realization 1\n",
      "\n"
     ]
    },
    {
     "name": "stdout",
     "output_type": "stream",
     "text": [
      "[1] 201611\n",
      "[1] \"creating background point-grids for species 1 out of 1\"\n"
     ]
    },
    {
     "name": "stderr",
     "output_type": "stream",
     "text": [
      "[2021-09-21 07:21:45] Generating pseudo-absences for species 1\n",
      "\n",
      ":::[2021-09-21 07:21:45] Realization 1\n",
      "\n",
      "Background km50 is too small for sampling and will be ignored\n",
      "\n"
     ]
    },
    {
     "name": "stdout",
     "output_type": "stream",
     "text": [
      "[1] 201604\n",
      "[1] \"creating background point-grids for species 1 out of 1\"\n"
     ]
    },
    {
     "name": "stderr",
     "output_type": "stream",
     "text": [
      "[2021-09-21 07:23:16] Generating pseudo-absences for species 1\n",
      "\n",
      ":::[2021-09-21 07:23:16] Realization 1\n",
      "\n",
      "Background km50 is too small for sampling and will be ignored\n",
      "\n"
     ]
    },
    {
     "name": "stdout",
     "output_type": "stream",
     "text": [
      "[1] 201605\n",
      "[1] \"creating background point-grids for species 1 out of 1\"\n"
     ]
    },
    {
     "name": "stderr",
     "output_type": "stream",
     "text": [
      "[2021-09-21 07:24:45] Generating pseudo-absences for species 1\n",
      "\n",
      ":::[2021-09-21 07:24:45] Realization 1\n",
      "\n"
     ]
    },
    {
     "name": "stdout",
     "output_type": "stream",
     "text": [
      "[1] 201602\n",
      "[1] \"creating background point-grids for species 1 out of 1\"\n"
     ]
    },
    {
     "name": "stderr",
     "output_type": "stream",
     "text": [
      "[2021-09-21 07:26:12] Generating pseudo-absences for species 1\n",
      "\n",
      ":::[2021-09-21 07:26:12] Realization 1\n",
      "\n"
     ]
    },
    {
     "name": "stdout",
     "output_type": "stream",
     "text": [
      "[1] 201601\n",
      "[1] \"creating background point-grids for species 1 out of 1\"\n"
     ]
    },
    {
     "name": "stderr",
     "output_type": "stream",
     "text": [
      "[2021-09-21 07:27:43] Generating pseudo-absences for species 1\n",
      "\n",
      ":::[2021-09-21 07:27:43] Realization 1\n",
      "\n"
     ]
    },
    {
     "name": "stdout",
     "output_type": "stream",
     "text": [
      "[1] 201606\n",
      "[1] 201607\n",
      "[1] 201608\n",
      "[1] \"creating background point-grids for species 1 out of 1\"\n"
     ]
    },
    {
     "name": "stderr",
     "output_type": "stream",
     "text": [
      "[2021-09-21 07:32:16] Generating pseudo-absences for species 1\n",
      "\n",
      ":::[2021-09-21 07:32:16] Realization 1\n",
      "\n"
     ]
    },
    {
     "name": "stdout",
     "output_type": "stream",
     "text": [
      "[1] 201612\n",
      "[1] \"creating background point-grids for species 1 out of 1\"\n"
     ]
    },
    {
     "name": "stderr",
     "output_type": "stream",
     "text": [
      "[2021-09-21 07:33:52] Generating pseudo-absences for species 1\n",
      "\n",
      ":::[2021-09-21 07:33:52] Realization 1\n",
      "\n",
      "Background km50 is too small for sampling and will be ignored\n",
      "\n"
     ]
    },
    {
     "name": "stdout",
     "output_type": "stream",
     "text": [
      "[1] 201701\n",
      "[1] \"creating background point-grids for species 1 out of 1\"\n"
     ]
    },
    {
     "name": "stderr",
     "output_type": "stream",
     "text": [
      "[2021-09-21 07:35:25] Generating pseudo-absences for species 1\n",
      "\n",
      ":::[2021-09-21 07:35:25] Realization 1\n",
      "\n"
     ]
    },
    {
     "name": "stdout",
     "output_type": "stream",
     "text": [
      "[1] 201702\n",
      "[1] 201709\n",
      "[1] \"creating background point-grids for species 1 out of 1\"\n"
     ]
    },
    {
     "name": "stderr",
     "output_type": "stream",
     "text": [
      "[2021-09-21 07:38:25] Generating pseudo-absences for species 1\n",
      "\n",
      ":::[2021-09-21 07:38:25] Realization 1\n",
      "\n"
     ]
    },
    {
     "name": "stdout",
     "output_type": "stream",
     "text": [
      "[1] 201712\n",
      "[1] 201710\n",
      "[1] \"creating background point-grids for species 1 out of 1\"\n"
     ]
    },
    {
     "name": "stderr",
     "output_type": "stream",
     "text": [
      "[2021-09-21 07:41:39] Generating pseudo-absences for species 1\n",
      "\n",
      ":::[2021-09-21 07:41:39] Realization 1\n",
      "\n"
     ]
    },
    {
     "name": "stdout",
     "output_type": "stream",
     "text": [
      "[1] 201711\n",
      "[1] 201707\n",
      "[1] 201810\n",
      "[1] \"creating background point-grids for species 1 out of 1\"\n"
     ]
    },
    {
     "name": "stderr",
     "output_type": "stream",
     "text": [
      "[2021-09-21 07:46:40] Generating pseudo-absences for species 1\n",
      "\n",
      ":::[2021-09-21 07:46:40] Realization 1\n",
      "\n"
     ]
    },
    {
     "name": "stdout",
     "output_type": "stream",
     "text": [
      "[1] 201811\n",
      "[1] \"creating background point-grids for species 1 out of 1\"\n"
     ]
    },
    {
     "name": "stderr",
     "output_type": "stream",
     "text": [
      "[2021-09-21 07:48:17] Generating pseudo-absences for species 1\n",
      "\n",
      ":::[2021-09-21 07:48:17] Realization 1\n",
      "\n"
     ]
    },
    {
     "name": "stdout",
     "output_type": "stream",
     "text": [
      "[1] 201812\n",
      "[1] \"creating background point-grids for species 1 out of 1\"\n"
     ]
    },
    {
     "name": "stderr",
     "output_type": "stream",
     "text": [
      "[2021-09-21 07:50:06] Generating pseudo-absences for species 1\n",
      "\n",
      ":::[2021-09-21 07:50:06] Realization 1\n",
      "\n"
     ]
    },
    {
     "name": "stdout",
     "output_type": "stream",
     "text": [
      "[1] 201904\n",
      "[1] \"creating background point-grids for species 1 out of 1\"\n"
     ]
    },
    {
     "name": "stderr",
     "output_type": "stream",
     "text": [
      "[2021-09-21 07:55:26] Generating pseudo-absences for species 1\n",
      "\n",
      ":::[2021-09-21 07:55:26] Realization 1\n",
      "\n"
     ]
    },
    {
     "name": "stdout",
     "output_type": "stream",
     "text": [
      "[1] 201908\n",
      "[1] 201910\n",
      "[1] \"creating background point-grids for species 1 out of 1\"\n"
     ]
    },
    {
     "name": "stderr",
     "output_type": "stream",
     "text": [
      "[2021-09-21 07:59:05] Generating pseudo-absences for species 1\n",
      "\n",
      ":::[2021-09-21 07:59:05] Realization 1\n",
      "\n"
     ]
    },
    {
     "name": "stdout",
     "output_type": "stream",
     "text": [
      "[1] 201911\n",
      "[1] \"creating background point-grids for species 1 out of 1\"\n"
     ]
    },
    {
     "name": "stderr",
     "output_type": "stream",
     "text": [
      "[2021-09-21 08:00:55] Generating pseudo-absences for species 1\n",
      "\n",
      ":::[2021-09-21 08:00:55] Realization 1\n",
      "\n"
     ]
    },
    {
     "name": "stdout",
     "output_type": "stream",
     "text": [
      "[1] 201912\n",
      "[1] \"creating background point-grids for species 1 out of 1\"\n"
     ]
    },
    {
     "name": "stderr",
     "output_type": "stream",
     "text": [
      "[2021-09-21 08:02:50] Generating pseudo-absences for species 1\n",
      "\n",
      ":::[2021-09-21 08:02:50] Realization 1\n",
      "\n",
      "Background km50 is too small for sampling and will be ignored\n",
      "\n"
     ]
    },
    {
     "name": "stdout",
     "output_type": "stream",
     "text": [
      "[1] 202001\n",
      "[1] 202010\n",
      "[1] \"creating background point-grids for species 1 out of 1\"\n"
     ]
    },
    {
     "name": "stderr",
     "output_type": "stream",
     "text": [
      "[2021-09-21 08:06:49] Generating pseudo-absences for species 1\n",
      "\n",
      ":::[2021-09-21 08:06:49] Realization 1\n",
      "\n"
     ]
    },
    {
     "name": "stdout",
     "output_type": "stream",
     "text": [
      "[1] 202011\n",
      "[1] \"creating background point-grids for species 1 out of 1\"\n"
     ]
    },
    {
     "name": "stderr",
     "output_type": "stream",
     "text": [
      "[2021-09-21 08:08:45] Generating pseudo-absences for species 1\n",
      "\n",
      ":::[2021-09-21 08:08:45] Realization 1\n",
      "\n",
      "Background km50 is too small for sampling and will be ignored\n",
      "\n"
     ]
    },
    {
     "name": "stdout",
     "output_type": "stream",
     "text": [
      "[1] 202012\n",
      "[1] \"creating background point-grids for species 1 out of 1\"\n"
     ]
    },
    {
     "name": "stderr",
     "output_type": "stream",
     "text": [
      "[2021-09-21 08:10:45] Generating pseudo-absences for species 1\n",
      "\n",
      ":::[2021-09-21 08:10:45] Realization 1\n",
      "\n"
     ]
    },
    {
     "name": "stdout",
     "output_type": "stream",
     "text": [
      "[1] 202101\n"
     ]
    }
   ],
   "source": [
    "test_gen <- nasa_pa_generation(basePath, test_subset, as.numeric(unique(test_subset$yearmonth)), 'random', env_profilers)"
   ]
  },
  {
   "cell_type": "code",
   "execution_count": 23,
   "metadata": {},
   "outputs": [
    {
     "data": {
      "text/html": [
       "<table class=\"dataframe\">\n",
       "<caption>A data.frame: 3264 × 15</caption>\n",
       "<thead>\n",
       "\t<tr><th scope=col>x</th><th scope=col>y</th><th scope=col>presence</th><th scope=col>year</th><th scope=col>month</th><th scope=col>day</th><th scope=col>SoilMoi0_10cm_inst_dekad1</th><th scope=col>SoilMoi0_10cm_inst_dekad2</th><th scope=col>SoilMoi0_10cm_inst_dekad3</th><th scope=col>clay_0.5cm_mean</th><th scope=col>clay_5.15cm_mean</th><th scope=col>sand_0.5cm_mean</th><th scope=col>sand_5.15cm_mean</th><th scope=col>silt_0.5cm_mean</th><th scope=col>silt_5.15cm_mean</th></tr>\n",
       "\t<tr><th scope=col>&lt;dbl&gt;</th><th scope=col>&lt;dbl&gt;</th><th scope=col>&lt;dbl&gt;</th><th scope=col>&lt;dbl&gt;</th><th scope=col>&lt;dbl&gt;</th><th scope=col>&lt;dbl&gt;</th><th scope=col>&lt;dbl&gt;</th><th scope=col>&lt;dbl&gt;</th><th scope=col>&lt;dbl&gt;</th><th scope=col>&lt;dbl&gt;</th><th scope=col>&lt;dbl&gt;</th><th scope=col>&lt;dbl&gt;</th><th scope=col>&lt;dbl&gt;</th><th scope=col>&lt;dbl&gt;</th><th scope=col>&lt;dbl&gt;</th></tr>\n",
       "</thead>\n",
       "<tbody>\n",
       "\t<tr><td>-14.525278</td><td>18.11000</td><td>1</td><td>2015</td><td>10</td><td>19</td><td> 6.509741</td><td> 6.264692</td><td> 7.191211</td><td>0.2237804</td><td>0.2206993</td><td>0.6134937</td><td>0.6184359</td><td>0.1627266</td><td>0.1608605</td></tr>\n",
       "\t<tr><td>-14.534167</td><td>18.12389</td><td>1</td><td>2015</td><td>10</td><td>19</td><td> 6.052448</td><td> 5.890046</td><td> 6.985578</td><td>0.2256825</td><td>0.2226590</td><td>0.6084904</td><td>0.6133977</td><td>0.1658286</td><td>0.1639382</td></tr>\n",
       "\t<tr><td>-14.369444</td><td>19.74750</td><td>1</td><td>2015</td><td>10</td><td>23</td><td>11.631600</td><td>11.093846</td><td>12.787071</td><td>0.1451429</td><td>0.1492571</td><td>0.6091758</td><td>0.6049553</td><td>0.2450131</td><td>0.2451067</td></tr>\n",
       "\t<tr><td>-14.021944</td><td>19.62639</td><td>1</td><td>2015</td><td>10</td><td>27</td><td> 9.991642</td><td> 9.434800</td><td>10.192380</td><td>0.1639236</td><td>0.1687236</td><td>0.6156020</td><td>0.6125561</td><td>0.2195952</td><td>0.2178435</td></tr>\n",
       "\t<tr><td>-14.083333</td><td>19.77583</td><td>1</td><td>2015</td><td>10</td><td>27</td><td>11.938381</td><td>11.392351</td><td>12.442991</td><td>0.1533333</td><td>0.1568739</td><td>0.6139158</td><td>0.6104353</td><td>0.2324357</td><td>0.2323789</td></tr>\n",
       "\t<tr><td>-14.365000</td><td>19.77028</td><td>1</td><td>2015</td><td>10</td><td>25</td><td>11.707907</td><td>11.191413</td><td>12.861095</td><td>0.1439763</td><td>0.1479170</td><td>0.6082985</td><td>0.6041855</td><td>0.2470803</td><td>0.2472422</td></tr>\n",
       "\t<tr><td>-14.361389</td><td>19.76972</td><td>1</td><td>2015</td><td>10</td><td>21</td><td>11.709399</td><td>11.192108</td><td>12.860637</td><td>0.1441209</td><td>0.1480607</td><td>0.6084434</td><td>0.6043412</td><td>0.2468004</td><td>0.2469524</td></tr>\n",
       "\t<tr><td>-14.290556</td><td>19.91750</td><td>1</td><td>2015</td><td>10</td><td>29</td><td>12.644180</td><td>12.186436</td><td>13.501651</td><td>0.1401176</td><td>0.1433034</td><td>0.6054943</td><td>0.6013461</td><td>0.2540506</td><td>0.2550118</td></tr>\n",
       "\t<tr><td>-13.967500</td><td>19.02111</td><td>1</td><td>2015</td><td>10</td><td>31</td><td>10.673976</td><td> 9.567369</td><td>10.251418</td><td>0.2093382</td><td>0.2182331</td><td>0.5794448</td><td>0.5721163</td><td>0.2108617</td><td>0.2092813</td></tr>\n",
       "\t<tr><td>-12.766667</td><td>18.12056</td><td>1</td><td>2015</td><td>10</td><td>31</td><td> 8.466154</td><td> 7.715625</td><td> 9.076551</td><td>0.2638299</td><td>0.2567824</td><td>0.5295042</td><td>0.5359720</td><td>0.2066835</td><td>0.2072403</td></tr>\n",
       "\t<tr><td> -9.657222</td><td>17.39361</td><td>1</td><td>2015</td><td>10</td><td> 5</td><td>10.930745</td><td> 9.258330</td><td> 8.432817</td><td>0.2594525</td><td>0.2662501</td><td>0.5037401</td><td>0.4998439</td><td>0.2368249</td><td>0.2338905</td></tr>\n",
       "\t<tr><td>-14.756667</td><td>19.64167</td><td>1</td><td>2015</td><td>10</td><td>30</td><td>10.926953</td><td>10.390022</td><td>12.265986</td><td>0.1516363</td><td>0.1545793</td><td>0.6022358</td><td>0.5965116</td><td>0.2460933</td><td>0.2488572</td></tr>\n",
       "\t<tr><td>-13.330000</td><td>19.56389</td><td>1</td><td>2015</td><td>10</td><td>31</td><td> 8.315571</td><td> 7.921348</td><td> 7.344172</td><td>0.1828957</td><td>0.1841592</td><td>0.6039159</td><td>0.6045985</td><td>0.2128477</td><td>0.2108958</td></tr>\n",
       "\t<tr><td>-12.767222</td><td>18.08167</td><td>1</td><td>2015</td><td>10</td><td>31</td><td> 9.635915</td><td> 8.605998</td><td> 9.724067</td><td>0.2624794</td><td>0.2545781</td><td>0.5312221</td><td>0.5386508</td><td>0.2063141</td><td>0.2067678</td></tr>\n",
       "\t<tr><td>-13.875000</td><td>18.87500</td><td>0</td><td>2015</td><td>10</td><td>11</td><td> 8.249800</td><td> 6.376362</td><td> 8.092864</td><td>0.2242642</td><td>0.2366662</td><td>0.5739523</td><td>0.5658879</td><td>0.2017796</td><td>0.1974314</td></tr>\n",
       "\t<tr><td>-12.625000</td><td>17.87500</td><td>0</td><td>2015</td><td>10</td><td> 6</td><td>10.230725</td><td> 8.685287</td><td> 8.594545</td><td>0.2386415</td><td>0.2261249</td><td>0.5492419</td><td>0.5619061</td><td>0.2121230</td><td>0.2119670</td></tr>\n",
       "\t<tr><td>-13.375000</td><td>19.87500</td><td>0</td><td>2015</td><td>10</td><td> 1</td><td> 8.643288</td><td> 8.247875</td><td> 7.344636</td><td>0.1774830</td><td>0.1755415</td><td>0.6045285</td><td>0.6075478</td><td>0.2159503</td><td>0.2148716</td></tr>\n",
       "\t<tr><td>-14.625000</td><td>17.87500</td><td>0</td><td>2015</td><td>10</td><td> 9</td><td>10.416350</td><td> 9.184600</td><td> 7.856443</td><td>0.2285549</td><td>0.2235660</td><td>0.6207503</td><td>0.6275367</td><td>0.1506816</td><td>0.1488968</td></tr>\n",
       "\t<tr><td>-14.375000</td><td>18.12500</td><td>0</td><td>2015</td><td>10</td><td>24</td><td> 5.995500</td><td> 5.872975</td><td> 6.961216</td><td>0.2047568</td><td>0.2009351</td><td>0.6597293</td><td>0.6646880</td><td>0.1355284</td><td>0.1343858</td></tr>\n",
       "\t<tr><td>-13.625000</td><td>19.12500</td><td>0</td><td>2015</td><td>10</td><td> 9</td><td> 8.002025</td><td> 7.359013</td><td> 6.843398</td><td>0.2023400</td><td>0.2144632</td><td>0.5846304</td><td>0.5746167</td><td>0.2130375</td><td>0.2109149</td></tr>\n",
       "\t<tr><td>-13.125000</td><td>19.87500</td><td>0</td><td>2015</td><td>10</td><td>12</td><td>14.233163</td><td>13.729875</td><td>12.431478</td><td>0.1785631</td><td>0.1770665</td><td>0.6061571</td><td>0.6111788</td><td>0.2130345</td><td>0.2094795</td></tr>\n",
       "\t<tr><td>-13.875000</td><td>19.87500</td><td>0</td><td>2015</td><td>10</td><td>10</td><td>14.639375</td><td>13.848025</td><td>11.828943</td><td>0.1594447</td><td>0.1619625</td><td>0.5993067</td><td>0.5945627</td><td>0.2394928</td><td>0.2417183</td></tr>\n",
       "\t<tr><td>-12.375000</td><td>18.37500</td><td>0</td><td>2015</td><td>10</td><td>25</td><td>16.070438</td><td>14.441737</td><td>17.813261</td><td>0.2357088</td><td>0.2318153</td><td>0.5433221</td><td>0.5501464</td><td>0.1954751</td><td>0.1925508</td></tr>\n",
       "\t<tr><td> -9.625000</td><td>17.62500</td><td>0</td><td>2015</td><td>10</td><td> 8</td><td>11.011138</td><td> 9.261188</td><td> 8.326352</td><td>0.2661031</td><td>0.2678884</td><td>0.5126145</td><td>0.5138195</td><td>0.2213032</td><td>0.2182762</td></tr>\n",
       "\t<tr><td>-12.625000</td><td>18.12500</td><td>0</td><td>2015</td><td>10</td><td>21</td><td> 8.332137</td><td> 7.600138</td><td> 8.975693</td><td>0.2619760</td><td>0.2541088</td><td>0.5242740</td><td>0.5317532</td><td>0.2137658</td><td>0.2141176</td></tr>\n",
       "\t<tr><td>-12.625000</td><td>18.37500</td><td>0</td><td>2015</td><td>10</td><td> 5</td><td> 8.264575</td><td> 7.616188</td><td> 9.013125</td><td>0.2496478</td><td>0.2507085</td><td>0.5507263</td><td>0.5477638</td><td>0.1996375</td><td>0.2015472</td></tr>\n",
       "\t<tr><td>-14.375000</td><td>18.87500</td><td>0</td><td>2015</td><td>10</td><td>15</td><td> 5.761588</td><td> 5.678425</td><td> 6.926205</td><td>0.2070172</td><td>0.2157647</td><td>0.5692920</td><td>0.5562813</td><td>0.2237040</td><td>0.2279712</td></tr>\n",
       "\t<tr><td>-14.125000</td><td>18.37500</td><td>0</td><td>2015</td><td>10</td><td>20</td><td> 5.937125</td><td> 5.862575</td><td> 7.002602</td><td>0.2235222</td><td>0.2366008</td><td>0.5968266</td><td>0.5827554</td><td>0.1796616</td><td>0.1806564</td></tr>\n",
       "\t<tr><td>-13.743056</td><td>18.91167</td><td>1</td><td>2015</td><td>11</td><td> 3</td><td> 5.950949</td><td> 4.648172</td><td> 3.801113</td><td>0.2222097</td><td>0.2360294</td><td>0.5744186</td><td>0.5650385</td><td>0.2033411</td><td>0.1988880</td></tr>\n",
       "\t<tr><td>-13.592500</td><td>18.13639</td><td>1</td><td>2015</td><td>11</td><td> 3</td><td> 6.557728</td><td> 5.167624</td><td> 4.287125</td><td>0.2517733</td><td>0.2620197</td><td>0.5634530</td><td>0.5556133</td><td>0.1847717</td><td>0.1823614</td></tr>\n",
       "\t<tr><td>⋮</td><td>⋮</td><td>⋮</td><td>⋮</td><td>⋮</td><td>⋮</td><td>⋮</td><td>⋮</td><td>⋮</td><td>⋮</td><td>⋮</td><td>⋮</td><td>⋮</td><td>⋮</td><td>⋮</td></tr>\n",
       "\t<tr><td>-13.62500</td><td>18.62500</td><td>0</td><td>2020</td><td>12</td><td>17</td><td>3.021675</td><td>2.732275</td><td>2.515375</td><td>0.2307413</td><td>0.2459209</td><td>0.5853923</td><td>0.5753639</td><td>0.1838834</td><td>0.1787261</td></tr>\n",
       "\t<tr><td> -0.12500</td><td>19.87500</td><td>0</td><td>2020</td><td>12</td><td>24</td><td>8.614875</td><td>8.412800</td><td>8.276932</td><td>0.2231048</td><td>0.2198438</td><td>0.5232687</td><td>0.5284986</td><td>0.2529669</td><td>0.2509903</td></tr>\n",
       "\t<tr><td>-15.37500</td><td>18.12500</td><td>0</td><td>2020</td><td>12</td><td>28</td><td>9.052075</td><td>8.734150</td><td>8.505488</td><td>0.2199720</td><td>0.2193022</td><td>0.5586274</td><td>0.5616530</td><td>0.2214000</td><td>0.2190335</td></tr>\n",
       "\t<tr><td>-14.12500</td><td>17.87500</td><td>0</td><td>2020</td><td>12</td><td> 4</td><td>9.689175</td><td>9.165325</td><td>8.813341</td><td>0.1959119</td><td>0.1974597</td><td>0.6773681</td><td>0.6781799</td><td>0.1267149</td><td>0.1243404</td></tr>\n",
       "\t<tr><td>  0.87500</td><td>19.87500</td><td>0</td><td>2020</td><td>12</td><td>23</td><td>8.365175</td><td>8.203862</td><td>8.136887</td><td>0.2456121</td><td>0.2415330</td><td>0.4931139</td><td>0.4994566</td><td>0.2612741</td><td>0.2590179</td></tr>\n",
       "\t<tr><td>-13.12500</td><td>20.37500</td><td>0</td><td>2020</td><td>12</td><td>17</td><td>6.862550</td><td>6.605787</td><td>6.401489</td><td>0.1919777</td><td>0.1908562</td><td>0.5742690</td><td>0.5749107</td><td>0.2321949</td><td>0.2326844</td></tr>\n",
       "\t<tr><td>-15.62500</td><td>18.62500</td><td>0</td><td>2020</td><td>12</td><td>20</td><td>9.151750</td><td>8.822900</td><td>8.590046</td><td>0.2113137</td><td>0.2183006</td><td>0.5345765</td><td>0.5319390</td><td>0.2541109</td><td>0.2497658</td></tr>\n",
       "\t<tr><td>-14.62500</td><td>19.37500</td><td>0</td><td>2020</td><td>12</td><td>17</td><td>7.492075</td><td>7.015100</td><td>6.679454</td><td>0.1680057</td><td>0.1722970</td><td>0.5940260</td><td>0.5864782</td><td>0.2371279</td><td>0.2404026</td></tr>\n",
       "\t<tr><td>-15.37500</td><td>20.12500</td><td>0</td><td>2020</td><td>12</td><td> 7</td><td>7.416775</td><td>6.996438</td><td>6.714568</td><td>0.1436647</td><td>0.1455936</td><td>0.6275014</td><td>0.6247947</td><td>0.2288404</td><td>0.2296242</td></tr>\n",
       "\t<tr><td>  0.62500</td><td>18.62500</td><td>0</td><td>2020</td><td>12</td><td> 6</td><td>8.767025</td><td>8.529600</td><td>8.530193</td><td>0.2697929</td><td>0.2720516</td><td>0.4859869</td><td>0.4880485</td><td>0.2442337</td><td>0.2399221</td></tr>\n",
       "\t<tr><td>-13.37500</td><td>19.62500</td><td>0</td><td>2020</td><td>12</td><td> 2</td><td>2.985713</td><td>2.720712</td><td>2.523636</td><td>0.1812156</td><td>0.1806123</td><td>0.6066569</td><td>0.6090907</td><td>0.2117027</td><td>0.2098723</td></tr>\n",
       "\t<tr><td>-14.12500</td><td>18.12500</td><td>0</td><td>2020</td><td>12</td><td>25</td><td>9.502350</td><td>9.040400</td><td>8.725602</td><td>0.2171501</td><td>0.2212436</td><td>0.6407967</td><td>0.6368084</td><td>0.1420590</td><td>0.1419497</td></tr>\n",
       "\t<tr><td>-14.62500</td><td>19.62500</td><td>0</td><td>2020</td><td>12</td><td>21</td><td>7.396800</td><td>6.943263</td><td>6.625795</td><td>0.1545431</td><td>0.1589768</td><td>0.5933888</td><td>0.5858946</td><td>0.2519738</td><td>0.2550056</td></tr>\n",
       "\t<tr><td>-14.62500</td><td>18.62500</td><td>0</td><td>2020</td><td>12</td><td> 4</td><td>9.401450</td><td>8.973375</td><td>8.678454</td><td>0.2200304</td><td>0.2259532</td><td>0.5727102</td><td>0.5663601</td><td>0.2072401</td><td>0.2076715</td></tr>\n",
       "\t<tr><td>-15.12500</td><td>19.87500</td><td>0</td><td>2020</td><td>12</td><td> 8</td><td>3.569675</td><td>3.136812</td><td>2.839364</td><td>0.1390825</td><td>0.1415603</td><td>0.6308718</td><td>0.6286624</td><td>0.2300547</td><td>0.2297771</td></tr>\n",
       "\t<tr><td>-15.87500</td><td>18.62500</td><td>0</td><td>2020</td><td>12</td><td>19</td><td>9.024438</td><td>8.717587</td><td>8.502750</td><td>0.1955359</td><td>0.2000503</td><td>0.4949955</td><td>0.4942757</td><td>0.2483983</td><td>0.2448868</td></tr>\n",
       "\t<tr><td>-13.12500</td><td>19.62500</td><td>0</td><td>2020</td><td>12</td><td>23</td><td>6.839862</td><td>6.559187</td><td>6.356977</td><td>0.1833549</td><td>0.1831158</td><td>0.6049039</td><td>0.6087001</td><td>0.2111548</td><td>0.2075806</td></tr>\n",
       "\t<tr><td>  0.12500</td><td>18.87500</td><td>0</td><td>2020</td><td>12</td><td>28</td><td>9.040075</td><td>8.755013</td><td>8.744057</td><td>0.2487456</td><td>0.2495215</td><td>0.4953279</td><td>0.4948277</td><td>0.2559180</td><td>0.2556722</td></tr>\n",
       "\t<tr><td>  0.12500</td><td>19.12500</td><td>0</td><td>2020</td><td>12</td><td> 7</td><td>8.821012</td><td>8.582788</td><td>8.455432</td><td>0.2436978</td><td>0.2420971</td><td>0.5042271</td><td>0.5070727</td><td>0.2520831</td><td>0.2508441</td></tr>\n",
       "\t<tr><td> -0.12500</td><td>19.37500</td><td>0</td><td>2020</td><td>12</td><td>13</td><td>8.645475</td><td>8.426000</td><td>8.288546</td><td>0.2297741</td><td>0.2252368</td><td>0.5167171</td><td>0.5263046</td><td>0.2535146</td><td>0.2484641</td></tr>\n",
       "\t<tr><td>-14.37500</td><td>18.12500</td><td>0</td><td>2020</td><td>12</td><td> 6</td><td>3.843975</td><td>3.352037</td><td>3.008330</td><td>0.2047568</td><td>0.2009351</td><td>0.6597293</td><td>0.6646880</td><td>0.1355284</td><td>0.1343858</td></tr>\n",
       "\t<tr><td>-15.87500</td><td>18.12500</td><td>0</td><td>2020</td><td>12</td><td>12</td><td>3.409312</td><td>3.042175</td><td>2.785636</td><td>0.1764219</td><td>0.1735343</td><td>0.4345951</td><td>0.4396942</td><td>0.1889041</td><td>0.1867012</td></tr>\n",
       "\t<tr><td>-14.12500</td><td>18.62500</td><td>0</td><td>2020</td><td>12</td><td>12</td><td>3.795125</td><td>3.317725</td><td>2.968693</td><td>0.2197374</td><td>0.2318514</td><td>0.5784754</td><td>0.5666617</td><td>0.2017835</td><td>0.2014699</td></tr>\n",
       "\t<tr><td>-14.12500</td><td>18.37500</td><td>0</td><td>2020</td><td>12</td><td>11</td><td>3.903600</td><td>3.403487</td><td>3.044841</td><td>0.2235222</td><td>0.2366008</td><td>0.5968266</td><td>0.5827554</td><td>0.1796616</td><td>0.1806564</td></tr>\n",
       "\t<tr><td>  0.37500</td><td>19.12500</td><td>0</td><td>2020</td><td>12</td><td>28</td><td>8.674750</td><td>8.466087</td><td>8.361375</td><td>0.2622125</td><td>0.2596153</td><td>0.4857197</td><td>0.4891911</td><td>0.2520668</td><td>0.2511819</td></tr>\n",
       "\t<tr><td>-13.87500</td><td>19.12500</td><td>0</td><td>2020</td><td>12</td><td>22</td><td>6.963937</td><td>6.665587</td><td>6.439295</td><td>0.2021214</td><td>0.2106041</td><td>0.5876991</td><td>0.5802892</td><td>0.2096808</td><td>0.2085878</td></tr>\n",
       "\t<tr><td>-15.37500</td><td>19.62500</td><td>0</td><td>2020</td><td>12</td><td>17</td><td>3.463288</td><td>3.048837</td><td>2.759693</td><td>0.1565149</td><td>0.1586643</td><td>0.6213999</td><td>0.6179980</td><td>0.2220983</td><td>0.2233326</td></tr>\n",
       "\t<tr><td>-15.87500</td><td>19.87500</td><td>0</td><td>2020</td><td>12</td><td>18</td><td>3.552012</td><td>3.137775</td><td>2.846489</td><td>0.1814600</td><td>0.1826553</td><td>0.5941641</td><td>0.5939562</td><td>0.2243930</td><td>0.2233729</td></tr>\n",
       "\t<tr><td>-13.97694</td><td>19.89083</td><td>1</td><td>2021</td><td> 1</td><td>13</td><td>6.365230</td><td>6.237965</td><td>6.124628</td><td>0.1537124</td><td>0.1562784</td><td>0.6037946</td><td>0.5992991</td><td>0.2415210</td><td>0.2434498</td></tr>\n",
       "\t<tr><td>-13.97694</td><td>19.89083</td><td>1</td><td>2021</td><td> 1</td><td>12</td><td>6.365230</td><td>6.237965</td><td>6.124628</td><td>0.1537124</td><td>0.1562784</td><td>0.6037946</td><td>0.5992991</td><td>0.2415210</td><td>0.2434498</td></tr>\n",
       "</tbody>\n",
       "</table>\n"
      ],
      "text/latex": [
       "A data.frame: 3264 × 15\n",
       "\\begin{tabular}{lllllllllllllll}\n",
       " x & y & presence & year & month & day & SoilMoi0\\_10cm\\_inst\\_dekad1 & SoilMoi0\\_10cm\\_inst\\_dekad2 & SoilMoi0\\_10cm\\_inst\\_dekad3 & clay\\_0.5cm\\_mean & clay\\_5.15cm\\_mean & sand\\_0.5cm\\_mean & sand\\_5.15cm\\_mean & silt\\_0.5cm\\_mean & silt\\_5.15cm\\_mean\\\\\n",
       " <dbl> & <dbl> & <dbl> & <dbl> & <dbl> & <dbl> & <dbl> & <dbl> & <dbl> & <dbl> & <dbl> & <dbl> & <dbl> & <dbl> & <dbl>\\\\\n",
       "\\hline\n",
       "\t -14.525278 & 18.11000 & 1 & 2015 & 10 & 19 &  6.509741 &  6.264692 &  7.191211 & 0.2237804 & 0.2206993 & 0.6134937 & 0.6184359 & 0.1627266 & 0.1608605\\\\\n",
       "\t -14.534167 & 18.12389 & 1 & 2015 & 10 & 19 &  6.052448 &  5.890046 &  6.985578 & 0.2256825 & 0.2226590 & 0.6084904 & 0.6133977 & 0.1658286 & 0.1639382\\\\\n",
       "\t -14.369444 & 19.74750 & 1 & 2015 & 10 & 23 & 11.631600 & 11.093846 & 12.787071 & 0.1451429 & 0.1492571 & 0.6091758 & 0.6049553 & 0.2450131 & 0.2451067\\\\\n",
       "\t -14.021944 & 19.62639 & 1 & 2015 & 10 & 27 &  9.991642 &  9.434800 & 10.192380 & 0.1639236 & 0.1687236 & 0.6156020 & 0.6125561 & 0.2195952 & 0.2178435\\\\\n",
       "\t -14.083333 & 19.77583 & 1 & 2015 & 10 & 27 & 11.938381 & 11.392351 & 12.442991 & 0.1533333 & 0.1568739 & 0.6139158 & 0.6104353 & 0.2324357 & 0.2323789\\\\\n",
       "\t -14.365000 & 19.77028 & 1 & 2015 & 10 & 25 & 11.707907 & 11.191413 & 12.861095 & 0.1439763 & 0.1479170 & 0.6082985 & 0.6041855 & 0.2470803 & 0.2472422\\\\\n",
       "\t -14.361389 & 19.76972 & 1 & 2015 & 10 & 21 & 11.709399 & 11.192108 & 12.860637 & 0.1441209 & 0.1480607 & 0.6084434 & 0.6043412 & 0.2468004 & 0.2469524\\\\\n",
       "\t -14.290556 & 19.91750 & 1 & 2015 & 10 & 29 & 12.644180 & 12.186436 & 13.501651 & 0.1401176 & 0.1433034 & 0.6054943 & 0.6013461 & 0.2540506 & 0.2550118\\\\\n",
       "\t -13.967500 & 19.02111 & 1 & 2015 & 10 & 31 & 10.673976 &  9.567369 & 10.251418 & 0.2093382 & 0.2182331 & 0.5794448 & 0.5721163 & 0.2108617 & 0.2092813\\\\\n",
       "\t -12.766667 & 18.12056 & 1 & 2015 & 10 & 31 &  8.466154 &  7.715625 &  9.076551 & 0.2638299 & 0.2567824 & 0.5295042 & 0.5359720 & 0.2066835 & 0.2072403\\\\\n",
       "\t  -9.657222 & 17.39361 & 1 & 2015 & 10 &  5 & 10.930745 &  9.258330 &  8.432817 & 0.2594525 & 0.2662501 & 0.5037401 & 0.4998439 & 0.2368249 & 0.2338905\\\\\n",
       "\t -14.756667 & 19.64167 & 1 & 2015 & 10 & 30 & 10.926953 & 10.390022 & 12.265986 & 0.1516363 & 0.1545793 & 0.6022358 & 0.5965116 & 0.2460933 & 0.2488572\\\\\n",
       "\t -13.330000 & 19.56389 & 1 & 2015 & 10 & 31 &  8.315571 &  7.921348 &  7.344172 & 0.1828957 & 0.1841592 & 0.6039159 & 0.6045985 & 0.2128477 & 0.2108958\\\\\n",
       "\t -12.767222 & 18.08167 & 1 & 2015 & 10 & 31 &  9.635915 &  8.605998 &  9.724067 & 0.2624794 & 0.2545781 & 0.5312221 & 0.5386508 & 0.2063141 & 0.2067678\\\\\n",
       "\t -13.875000 & 18.87500 & 0 & 2015 & 10 & 11 &  8.249800 &  6.376362 &  8.092864 & 0.2242642 & 0.2366662 & 0.5739523 & 0.5658879 & 0.2017796 & 0.1974314\\\\\n",
       "\t -12.625000 & 17.87500 & 0 & 2015 & 10 &  6 & 10.230725 &  8.685287 &  8.594545 & 0.2386415 & 0.2261249 & 0.5492419 & 0.5619061 & 0.2121230 & 0.2119670\\\\\n",
       "\t -13.375000 & 19.87500 & 0 & 2015 & 10 &  1 &  8.643288 &  8.247875 &  7.344636 & 0.1774830 & 0.1755415 & 0.6045285 & 0.6075478 & 0.2159503 & 0.2148716\\\\\n",
       "\t -14.625000 & 17.87500 & 0 & 2015 & 10 &  9 & 10.416350 &  9.184600 &  7.856443 & 0.2285549 & 0.2235660 & 0.6207503 & 0.6275367 & 0.1506816 & 0.1488968\\\\\n",
       "\t -14.375000 & 18.12500 & 0 & 2015 & 10 & 24 &  5.995500 &  5.872975 &  6.961216 & 0.2047568 & 0.2009351 & 0.6597293 & 0.6646880 & 0.1355284 & 0.1343858\\\\\n",
       "\t -13.625000 & 19.12500 & 0 & 2015 & 10 &  9 &  8.002025 &  7.359013 &  6.843398 & 0.2023400 & 0.2144632 & 0.5846304 & 0.5746167 & 0.2130375 & 0.2109149\\\\\n",
       "\t -13.125000 & 19.87500 & 0 & 2015 & 10 & 12 & 14.233163 & 13.729875 & 12.431478 & 0.1785631 & 0.1770665 & 0.6061571 & 0.6111788 & 0.2130345 & 0.2094795\\\\\n",
       "\t -13.875000 & 19.87500 & 0 & 2015 & 10 & 10 & 14.639375 & 13.848025 & 11.828943 & 0.1594447 & 0.1619625 & 0.5993067 & 0.5945627 & 0.2394928 & 0.2417183\\\\\n",
       "\t -12.375000 & 18.37500 & 0 & 2015 & 10 & 25 & 16.070438 & 14.441737 & 17.813261 & 0.2357088 & 0.2318153 & 0.5433221 & 0.5501464 & 0.1954751 & 0.1925508\\\\\n",
       "\t  -9.625000 & 17.62500 & 0 & 2015 & 10 &  8 & 11.011138 &  9.261188 &  8.326352 & 0.2661031 & 0.2678884 & 0.5126145 & 0.5138195 & 0.2213032 & 0.2182762\\\\\n",
       "\t -12.625000 & 18.12500 & 0 & 2015 & 10 & 21 &  8.332137 &  7.600138 &  8.975693 & 0.2619760 & 0.2541088 & 0.5242740 & 0.5317532 & 0.2137658 & 0.2141176\\\\\n",
       "\t -12.625000 & 18.37500 & 0 & 2015 & 10 &  5 &  8.264575 &  7.616188 &  9.013125 & 0.2496478 & 0.2507085 & 0.5507263 & 0.5477638 & 0.1996375 & 0.2015472\\\\\n",
       "\t -14.375000 & 18.87500 & 0 & 2015 & 10 & 15 &  5.761588 &  5.678425 &  6.926205 & 0.2070172 & 0.2157647 & 0.5692920 & 0.5562813 & 0.2237040 & 0.2279712\\\\\n",
       "\t -14.125000 & 18.37500 & 0 & 2015 & 10 & 20 &  5.937125 &  5.862575 &  7.002602 & 0.2235222 & 0.2366008 & 0.5968266 & 0.5827554 & 0.1796616 & 0.1806564\\\\\n",
       "\t -13.743056 & 18.91167 & 1 & 2015 & 11 &  3 &  5.950949 &  4.648172 &  3.801113 & 0.2222097 & 0.2360294 & 0.5744186 & 0.5650385 & 0.2033411 & 0.1988880\\\\\n",
       "\t -13.592500 & 18.13639 & 1 & 2015 & 11 &  3 &  6.557728 &  5.167624 &  4.287125 & 0.2517733 & 0.2620197 & 0.5634530 & 0.5556133 & 0.1847717 & 0.1823614\\\\\n",
       "\t ⋮ & ⋮ & ⋮ & ⋮ & ⋮ & ⋮ & ⋮ & ⋮ & ⋮ & ⋮ & ⋮ & ⋮ & ⋮ & ⋮ & ⋮\\\\\n",
       "\t -13.62500 & 18.62500 & 0 & 2020 & 12 & 17 & 3.021675 & 2.732275 & 2.515375 & 0.2307413 & 0.2459209 & 0.5853923 & 0.5753639 & 0.1838834 & 0.1787261\\\\\n",
       "\t  -0.12500 & 19.87500 & 0 & 2020 & 12 & 24 & 8.614875 & 8.412800 & 8.276932 & 0.2231048 & 0.2198438 & 0.5232687 & 0.5284986 & 0.2529669 & 0.2509903\\\\\n",
       "\t -15.37500 & 18.12500 & 0 & 2020 & 12 & 28 & 9.052075 & 8.734150 & 8.505488 & 0.2199720 & 0.2193022 & 0.5586274 & 0.5616530 & 0.2214000 & 0.2190335\\\\\n",
       "\t -14.12500 & 17.87500 & 0 & 2020 & 12 &  4 & 9.689175 & 9.165325 & 8.813341 & 0.1959119 & 0.1974597 & 0.6773681 & 0.6781799 & 0.1267149 & 0.1243404\\\\\n",
       "\t   0.87500 & 19.87500 & 0 & 2020 & 12 & 23 & 8.365175 & 8.203862 & 8.136887 & 0.2456121 & 0.2415330 & 0.4931139 & 0.4994566 & 0.2612741 & 0.2590179\\\\\n",
       "\t -13.12500 & 20.37500 & 0 & 2020 & 12 & 17 & 6.862550 & 6.605787 & 6.401489 & 0.1919777 & 0.1908562 & 0.5742690 & 0.5749107 & 0.2321949 & 0.2326844\\\\\n",
       "\t -15.62500 & 18.62500 & 0 & 2020 & 12 & 20 & 9.151750 & 8.822900 & 8.590046 & 0.2113137 & 0.2183006 & 0.5345765 & 0.5319390 & 0.2541109 & 0.2497658\\\\\n",
       "\t -14.62500 & 19.37500 & 0 & 2020 & 12 & 17 & 7.492075 & 7.015100 & 6.679454 & 0.1680057 & 0.1722970 & 0.5940260 & 0.5864782 & 0.2371279 & 0.2404026\\\\\n",
       "\t -15.37500 & 20.12500 & 0 & 2020 & 12 &  7 & 7.416775 & 6.996438 & 6.714568 & 0.1436647 & 0.1455936 & 0.6275014 & 0.6247947 & 0.2288404 & 0.2296242\\\\\n",
       "\t   0.62500 & 18.62500 & 0 & 2020 & 12 &  6 & 8.767025 & 8.529600 & 8.530193 & 0.2697929 & 0.2720516 & 0.4859869 & 0.4880485 & 0.2442337 & 0.2399221\\\\\n",
       "\t -13.37500 & 19.62500 & 0 & 2020 & 12 &  2 & 2.985713 & 2.720712 & 2.523636 & 0.1812156 & 0.1806123 & 0.6066569 & 0.6090907 & 0.2117027 & 0.2098723\\\\\n",
       "\t -14.12500 & 18.12500 & 0 & 2020 & 12 & 25 & 9.502350 & 9.040400 & 8.725602 & 0.2171501 & 0.2212436 & 0.6407967 & 0.6368084 & 0.1420590 & 0.1419497\\\\\n",
       "\t -14.62500 & 19.62500 & 0 & 2020 & 12 & 21 & 7.396800 & 6.943263 & 6.625795 & 0.1545431 & 0.1589768 & 0.5933888 & 0.5858946 & 0.2519738 & 0.2550056\\\\\n",
       "\t -14.62500 & 18.62500 & 0 & 2020 & 12 &  4 & 9.401450 & 8.973375 & 8.678454 & 0.2200304 & 0.2259532 & 0.5727102 & 0.5663601 & 0.2072401 & 0.2076715\\\\\n",
       "\t -15.12500 & 19.87500 & 0 & 2020 & 12 &  8 & 3.569675 & 3.136812 & 2.839364 & 0.1390825 & 0.1415603 & 0.6308718 & 0.6286624 & 0.2300547 & 0.2297771\\\\\n",
       "\t -15.87500 & 18.62500 & 0 & 2020 & 12 & 19 & 9.024438 & 8.717587 & 8.502750 & 0.1955359 & 0.2000503 & 0.4949955 & 0.4942757 & 0.2483983 & 0.2448868\\\\\n",
       "\t -13.12500 & 19.62500 & 0 & 2020 & 12 & 23 & 6.839862 & 6.559187 & 6.356977 & 0.1833549 & 0.1831158 & 0.6049039 & 0.6087001 & 0.2111548 & 0.2075806\\\\\n",
       "\t   0.12500 & 18.87500 & 0 & 2020 & 12 & 28 & 9.040075 & 8.755013 & 8.744057 & 0.2487456 & 0.2495215 & 0.4953279 & 0.4948277 & 0.2559180 & 0.2556722\\\\\n",
       "\t   0.12500 & 19.12500 & 0 & 2020 & 12 &  7 & 8.821012 & 8.582788 & 8.455432 & 0.2436978 & 0.2420971 & 0.5042271 & 0.5070727 & 0.2520831 & 0.2508441\\\\\n",
       "\t  -0.12500 & 19.37500 & 0 & 2020 & 12 & 13 & 8.645475 & 8.426000 & 8.288546 & 0.2297741 & 0.2252368 & 0.5167171 & 0.5263046 & 0.2535146 & 0.2484641\\\\\n",
       "\t -14.37500 & 18.12500 & 0 & 2020 & 12 &  6 & 3.843975 & 3.352037 & 3.008330 & 0.2047568 & 0.2009351 & 0.6597293 & 0.6646880 & 0.1355284 & 0.1343858\\\\\n",
       "\t -15.87500 & 18.12500 & 0 & 2020 & 12 & 12 & 3.409312 & 3.042175 & 2.785636 & 0.1764219 & 0.1735343 & 0.4345951 & 0.4396942 & 0.1889041 & 0.1867012\\\\\n",
       "\t -14.12500 & 18.62500 & 0 & 2020 & 12 & 12 & 3.795125 & 3.317725 & 2.968693 & 0.2197374 & 0.2318514 & 0.5784754 & 0.5666617 & 0.2017835 & 0.2014699\\\\\n",
       "\t -14.12500 & 18.37500 & 0 & 2020 & 12 & 11 & 3.903600 & 3.403487 & 3.044841 & 0.2235222 & 0.2366008 & 0.5968266 & 0.5827554 & 0.1796616 & 0.1806564\\\\\n",
       "\t   0.37500 & 19.12500 & 0 & 2020 & 12 & 28 & 8.674750 & 8.466087 & 8.361375 & 0.2622125 & 0.2596153 & 0.4857197 & 0.4891911 & 0.2520668 & 0.2511819\\\\\n",
       "\t -13.87500 & 19.12500 & 0 & 2020 & 12 & 22 & 6.963937 & 6.665587 & 6.439295 & 0.2021214 & 0.2106041 & 0.5876991 & 0.5802892 & 0.2096808 & 0.2085878\\\\\n",
       "\t -15.37500 & 19.62500 & 0 & 2020 & 12 & 17 & 3.463288 & 3.048837 & 2.759693 & 0.1565149 & 0.1586643 & 0.6213999 & 0.6179980 & 0.2220983 & 0.2233326\\\\\n",
       "\t -15.87500 & 19.87500 & 0 & 2020 & 12 & 18 & 3.552012 & 3.137775 & 2.846489 & 0.1814600 & 0.1826553 & 0.5941641 & 0.5939562 & 0.2243930 & 0.2233729\\\\\n",
       "\t -13.97694 & 19.89083 & 1 & 2021 &  1 & 13 & 6.365230 & 6.237965 & 6.124628 & 0.1537124 & 0.1562784 & 0.6037946 & 0.5992991 & 0.2415210 & 0.2434498\\\\\n",
       "\t -13.97694 & 19.89083 & 1 & 2021 &  1 & 12 & 6.365230 & 6.237965 & 6.124628 & 0.1537124 & 0.1562784 & 0.6037946 & 0.5992991 & 0.2415210 & 0.2434498\\\\\n",
       "\\end{tabular}\n"
      ],
      "text/markdown": [
       "\n",
       "A data.frame: 3264 × 15\n",
       "\n",
       "| x &lt;dbl&gt; | y &lt;dbl&gt; | presence &lt;dbl&gt; | year &lt;dbl&gt; | month &lt;dbl&gt; | day &lt;dbl&gt; | SoilMoi0_10cm_inst_dekad1 &lt;dbl&gt; | SoilMoi0_10cm_inst_dekad2 &lt;dbl&gt; | SoilMoi0_10cm_inst_dekad3 &lt;dbl&gt; | clay_0.5cm_mean &lt;dbl&gt; | clay_5.15cm_mean &lt;dbl&gt; | sand_0.5cm_mean &lt;dbl&gt; | sand_5.15cm_mean &lt;dbl&gt; | silt_0.5cm_mean &lt;dbl&gt; | silt_5.15cm_mean &lt;dbl&gt; |\n",
       "|---|---|---|---|---|---|---|---|---|---|---|---|---|---|---|\n",
       "| -14.525278 | 18.11000 | 1 | 2015 | 10 | 19 |  6.509741 |  6.264692 |  7.191211 | 0.2237804 | 0.2206993 | 0.6134937 | 0.6184359 | 0.1627266 | 0.1608605 |\n",
       "| -14.534167 | 18.12389 | 1 | 2015 | 10 | 19 |  6.052448 |  5.890046 |  6.985578 | 0.2256825 | 0.2226590 | 0.6084904 | 0.6133977 | 0.1658286 | 0.1639382 |\n",
       "| -14.369444 | 19.74750 | 1 | 2015 | 10 | 23 | 11.631600 | 11.093846 | 12.787071 | 0.1451429 | 0.1492571 | 0.6091758 | 0.6049553 | 0.2450131 | 0.2451067 |\n",
       "| -14.021944 | 19.62639 | 1 | 2015 | 10 | 27 |  9.991642 |  9.434800 | 10.192380 | 0.1639236 | 0.1687236 | 0.6156020 | 0.6125561 | 0.2195952 | 0.2178435 |\n",
       "| -14.083333 | 19.77583 | 1 | 2015 | 10 | 27 | 11.938381 | 11.392351 | 12.442991 | 0.1533333 | 0.1568739 | 0.6139158 | 0.6104353 | 0.2324357 | 0.2323789 |\n",
       "| -14.365000 | 19.77028 | 1 | 2015 | 10 | 25 | 11.707907 | 11.191413 | 12.861095 | 0.1439763 | 0.1479170 | 0.6082985 | 0.6041855 | 0.2470803 | 0.2472422 |\n",
       "| -14.361389 | 19.76972 | 1 | 2015 | 10 | 21 | 11.709399 | 11.192108 | 12.860637 | 0.1441209 | 0.1480607 | 0.6084434 | 0.6043412 | 0.2468004 | 0.2469524 |\n",
       "| -14.290556 | 19.91750 | 1 | 2015 | 10 | 29 | 12.644180 | 12.186436 | 13.501651 | 0.1401176 | 0.1433034 | 0.6054943 | 0.6013461 | 0.2540506 | 0.2550118 |\n",
       "| -13.967500 | 19.02111 | 1 | 2015 | 10 | 31 | 10.673976 |  9.567369 | 10.251418 | 0.2093382 | 0.2182331 | 0.5794448 | 0.5721163 | 0.2108617 | 0.2092813 |\n",
       "| -12.766667 | 18.12056 | 1 | 2015 | 10 | 31 |  8.466154 |  7.715625 |  9.076551 | 0.2638299 | 0.2567824 | 0.5295042 | 0.5359720 | 0.2066835 | 0.2072403 |\n",
       "|  -9.657222 | 17.39361 | 1 | 2015 | 10 |  5 | 10.930745 |  9.258330 |  8.432817 | 0.2594525 | 0.2662501 | 0.5037401 | 0.4998439 | 0.2368249 | 0.2338905 |\n",
       "| -14.756667 | 19.64167 | 1 | 2015 | 10 | 30 | 10.926953 | 10.390022 | 12.265986 | 0.1516363 | 0.1545793 | 0.6022358 | 0.5965116 | 0.2460933 | 0.2488572 |\n",
       "| -13.330000 | 19.56389 | 1 | 2015 | 10 | 31 |  8.315571 |  7.921348 |  7.344172 | 0.1828957 | 0.1841592 | 0.6039159 | 0.6045985 | 0.2128477 | 0.2108958 |\n",
       "| -12.767222 | 18.08167 | 1 | 2015 | 10 | 31 |  9.635915 |  8.605998 |  9.724067 | 0.2624794 | 0.2545781 | 0.5312221 | 0.5386508 | 0.2063141 | 0.2067678 |\n",
       "| -13.875000 | 18.87500 | 0 | 2015 | 10 | 11 |  8.249800 |  6.376362 |  8.092864 | 0.2242642 | 0.2366662 | 0.5739523 | 0.5658879 | 0.2017796 | 0.1974314 |\n",
       "| -12.625000 | 17.87500 | 0 | 2015 | 10 |  6 | 10.230725 |  8.685287 |  8.594545 | 0.2386415 | 0.2261249 | 0.5492419 | 0.5619061 | 0.2121230 | 0.2119670 |\n",
       "| -13.375000 | 19.87500 | 0 | 2015 | 10 |  1 |  8.643288 |  8.247875 |  7.344636 | 0.1774830 | 0.1755415 | 0.6045285 | 0.6075478 | 0.2159503 | 0.2148716 |\n",
       "| -14.625000 | 17.87500 | 0 | 2015 | 10 |  9 | 10.416350 |  9.184600 |  7.856443 | 0.2285549 | 0.2235660 | 0.6207503 | 0.6275367 | 0.1506816 | 0.1488968 |\n",
       "| -14.375000 | 18.12500 | 0 | 2015 | 10 | 24 |  5.995500 |  5.872975 |  6.961216 | 0.2047568 | 0.2009351 | 0.6597293 | 0.6646880 | 0.1355284 | 0.1343858 |\n",
       "| -13.625000 | 19.12500 | 0 | 2015 | 10 |  9 |  8.002025 |  7.359013 |  6.843398 | 0.2023400 | 0.2144632 | 0.5846304 | 0.5746167 | 0.2130375 | 0.2109149 |\n",
       "| -13.125000 | 19.87500 | 0 | 2015 | 10 | 12 | 14.233163 | 13.729875 | 12.431478 | 0.1785631 | 0.1770665 | 0.6061571 | 0.6111788 | 0.2130345 | 0.2094795 |\n",
       "| -13.875000 | 19.87500 | 0 | 2015 | 10 | 10 | 14.639375 | 13.848025 | 11.828943 | 0.1594447 | 0.1619625 | 0.5993067 | 0.5945627 | 0.2394928 | 0.2417183 |\n",
       "| -12.375000 | 18.37500 | 0 | 2015 | 10 | 25 | 16.070438 | 14.441737 | 17.813261 | 0.2357088 | 0.2318153 | 0.5433221 | 0.5501464 | 0.1954751 | 0.1925508 |\n",
       "|  -9.625000 | 17.62500 | 0 | 2015 | 10 |  8 | 11.011138 |  9.261188 |  8.326352 | 0.2661031 | 0.2678884 | 0.5126145 | 0.5138195 | 0.2213032 | 0.2182762 |\n",
       "| -12.625000 | 18.12500 | 0 | 2015 | 10 | 21 |  8.332137 |  7.600138 |  8.975693 | 0.2619760 | 0.2541088 | 0.5242740 | 0.5317532 | 0.2137658 | 0.2141176 |\n",
       "| -12.625000 | 18.37500 | 0 | 2015 | 10 |  5 |  8.264575 |  7.616188 |  9.013125 | 0.2496478 | 0.2507085 | 0.5507263 | 0.5477638 | 0.1996375 | 0.2015472 |\n",
       "| -14.375000 | 18.87500 | 0 | 2015 | 10 | 15 |  5.761588 |  5.678425 |  6.926205 | 0.2070172 | 0.2157647 | 0.5692920 | 0.5562813 | 0.2237040 | 0.2279712 |\n",
       "| -14.125000 | 18.37500 | 0 | 2015 | 10 | 20 |  5.937125 |  5.862575 |  7.002602 | 0.2235222 | 0.2366008 | 0.5968266 | 0.5827554 | 0.1796616 | 0.1806564 |\n",
       "| -13.743056 | 18.91167 | 1 | 2015 | 11 |  3 |  5.950949 |  4.648172 |  3.801113 | 0.2222097 | 0.2360294 | 0.5744186 | 0.5650385 | 0.2033411 | 0.1988880 |\n",
       "| -13.592500 | 18.13639 | 1 | 2015 | 11 |  3 |  6.557728 |  5.167624 |  4.287125 | 0.2517733 | 0.2620197 | 0.5634530 | 0.5556133 | 0.1847717 | 0.1823614 |\n",
       "| ⋮ | ⋮ | ⋮ | ⋮ | ⋮ | ⋮ | ⋮ | ⋮ | ⋮ | ⋮ | ⋮ | ⋮ | ⋮ | ⋮ | ⋮ |\n",
       "| -13.62500 | 18.62500 | 0 | 2020 | 12 | 17 | 3.021675 | 2.732275 | 2.515375 | 0.2307413 | 0.2459209 | 0.5853923 | 0.5753639 | 0.1838834 | 0.1787261 |\n",
       "|  -0.12500 | 19.87500 | 0 | 2020 | 12 | 24 | 8.614875 | 8.412800 | 8.276932 | 0.2231048 | 0.2198438 | 0.5232687 | 0.5284986 | 0.2529669 | 0.2509903 |\n",
       "| -15.37500 | 18.12500 | 0 | 2020 | 12 | 28 | 9.052075 | 8.734150 | 8.505488 | 0.2199720 | 0.2193022 | 0.5586274 | 0.5616530 | 0.2214000 | 0.2190335 |\n",
       "| -14.12500 | 17.87500 | 0 | 2020 | 12 |  4 | 9.689175 | 9.165325 | 8.813341 | 0.1959119 | 0.1974597 | 0.6773681 | 0.6781799 | 0.1267149 | 0.1243404 |\n",
       "|   0.87500 | 19.87500 | 0 | 2020 | 12 | 23 | 8.365175 | 8.203862 | 8.136887 | 0.2456121 | 0.2415330 | 0.4931139 | 0.4994566 | 0.2612741 | 0.2590179 |\n",
       "| -13.12500 | 20.37500 | 0 | 2020 | 12 | 17 | 6.862550 | 6.605787 | 6.401489 | 0.1919777 | 0.1908562 | 0.5742690 | 0.5749107 | 0.2321949 | 0.2326844 |\n",
       "| -15.62500 | 18.62500 | 0 | 2020 | 12 | 20 | 9.151750 | 8.822900 | 8.590046 | 0.2113137 | 0.2183006 | 0.5345765 | 0.5319390 | 0.2541109 | 0.2497658 |\n",
       "| -14.62500 | 19.37500 | 0 | 2020 | 12 | 17 | 7.492075 | 7.015100 | 6.679454 | 0.1680057 | 0.1722970 | 0.5940260 | 0.5864782 | 0.2371279 | 0.2404026 |\n",
       "| -15.37500 | 20.12500 | 0 | 2020 | 12 |  7 | 7.416775 | 6.996438 | 6.714568 | 0.1436647 | 0.1455936 | 0.6275014 | 0.6247947 | 0.2288404 | 0.2296242 |\n",
       "|   0.62500 | 18.62500 | 0 | 2020 | 12 |  6 | 8.767025 | 8.529600 | 8.530193 | 0.2697929 | 0.2720516 | 0.4859869 | 0.4880485 | 0.2442337 | 0.2399221 |\n",
       "| -13.37500 | 19.62500 | 0 | 2020 | 12 |  2 | 2.985713 | 2.720712 | 2.523636 | 0.1812156 | 0.1806123 | 0.6066569 | 0.6090907 | 0.2117027 | 0.2098723 |\n",
       "| -14.12500 | 18.12500 | 0 | 2020 | 12 | 25 | 9.502350 | 9.040400 | 8.725602 | 0.2171501 | 0.2212436 | 0.6407967 | 0.6368084 | 0.1420590 | 0.1419497 |\n",
       "| -14.62500 | 19.62500 | 0 | 2020 | 12 | 21 | 7.396800 | 6.943263 | 6.625795 | 0.1545431 | 0.1589768 | 0.5933888 | 0.5858946 | 0.2519738 | 0.2550056 |\n",
       "| -14.62500 | 18.62500 | 0 | 2020 | 12 |  4 | 9.401450 | 8.973375 | 8.678454 | 0.2200304 | 0.2259532 | 0.5727102 | 0.5663601 | 0.2072401 | 0.2076715 |\n",
       "| -15.12500 | 19.87500 | 0 | 2020 | 12 |  8 | 3.569675 | 3.136812 | 2.839364 | 0.1390825 | 0.1415603 | 0.6308718 | 0.6286624 | 0.2300547 | 0.2297771 |\n",
       "| -15.87500 | 18.62500 | 0 | 2020 | 12 | 19 | 9.024438 | 8.717587 | 8.502750 | 0.1955359 | 0.2000503 | 0.4949955 | 0.4942757 | 0.2483983 | 0.2448868 |\n",
       "| -13.12500 | 19.62500 | 0 | 2020 | 12 | 23 | 6.839862 | 6.559187 | 6.356977 | 0.1833549 | 0.1831158 | 0.6049039 | 0.6087001 | 0.2111548 | 0.2075806 |\n",
       "|   0.12500 | 18.87500 | 0 | 2020 | 12 | 28 | 9.040075 | 8.755013 | 8.744057 | 0.2487456 | 0.2495215 | 0.4953279 | 0.4948277 | 0.2559180 | 0.2556722 |\n",
       "|   0.12500 | 19.12500 | 0 | 2020 | 12 |  7 | 8.821012 | 8.582788 | 8.455432 | 0.2436978 | 0.2420971 | 0.5042271 | 0.5070727 | 0.2520831 | 0.2508441 |\n",
       "|  -0.12500 | 19.37500 | 0 | 2020 | 12 | 13 | 8.645475 | 8.426000 | 8.288546 | 0.2297741 | 0.2252368 | 0.5167171 | 0.5263046 | 0.2535146 | 0.2484641 |\n",
       "| -14.37500 | 18.12500 | 0 | 2020 | 12 |  6 | 3.843975 | 3.352037 | 3.008330 | 0.2047568 | 0.2009351 | 0.6597293 | 0.6646880 | 0.1355284 | 0.1343858 |\n",
       "| -15.87500 | 18.12500 | 0 | 2020 | 12 | 12 | 3.409312 | 3.042175 | 2.785636 | 0.1764219 | 0.1735343 | 0.4345951 | 0.4396942 | 0.1889041 | 0.1867012 |\n",
       "| -14.12500 | 18.62500 | 0 | 2020 | 12 | 12 | 3.795125 | 3.317725 | 2.968693 | 0.2197374 | 0.2318514 | 0.5784754 | 0.5666617 | 0.2017835 | 0.2014699 |\n",
       "| -14.12500 | 18.37500 | 0 | 2020 | 12 | 11 | 3.903600 | 3.403487 | 3.044841 | 0.2235222 | 0.2366008 | 0.5968266 | 0.5827554 | 0.1796616 | 0.1806564 |\n",
       "|   0.37500 | 19.12500 | 0 | 2020 | 12 | 28 | 8.674750 | 8.466087 | 8.361375 | 0.2622125 | 0.2596153 | 0.4857197 | 0.4891911 | 0.2520668 | 0.2511819 |\n",
       "| -13.87500 | 19.12500 | 0 | 2020 | 12 | 22 | 6.963937 | 6.665587 | 6.439295 | 0.2021214 | 0.2106041 | 0.5876991 | 0.5802892 | 0.2096808 | 0.2085878 |\n",
       "| -15.37500 | 19.62500 | 0 | 2020 | 12 | 17 | 3.463288 | 3.048837 | 2.759693 | 0.1565149 | 0.1586643 | 0.6213999 | 0.6179980 | 0.2220983 | 0.2233326 |\n",
       "| -15.87500 | 19.87500 | 0 | 2020 | 12 | 18 | 3.552012 | 3.137775 | 2.846489 | 0.1814600 | 0.1826553 | 0.5941641 | 0.5939562 | 0.2243930 | 0.2233729 |\n",
       "| -13.97694 | 19.89083 | 1 | 2021 |  1 | 13 | 6.365230 | 6.237965 | 6.124628 | 0.1537124 | 0.1562784 | 0.6037946 | 0.5992991 | 0.2415210 | 0.2434498 |\n",
       "| -13.97694 | 19.89083 | 1 | 2021 |  1 | 12 | 6.365230 | 6.237965 | 6.124628 | 0.1537124 | 0.1562784 | 0.6037946 | 0.5992991 | 0.2415210 | 0.2434498 |\n",
       "\n"
      ],
      "text/plain": [
       "     x          y        presence year month day SoilMoi0_10cm_inst_dekad1\n",
       "1    -14.525278 18.11000 1        2015 10    19   6.509741                \n",
       "2    -14.534167 18.12389 1        2015 10    19   6.052448                \n",
       "3    -14.369444 19.74750 1        2015 10    23  11.631600                \n",
       "4    -14.021944 19.62639 1        2015 10    27   9.991642                \n",
       "5    -14.083333 19.77583 1        2015 10    27  11.938381                \n",
       "6    -14.365000 19.77028 1        2015 10    25  11.707907                \n",
       "7    -14.361389 19.76972 1        2015 10    21  11.709399                \n",
       "8    -14.290556 19.91750 1        2015 10    29  12.644180                \n",
       "9    -13.967500 19.02111 1        2015 10    31  10.673976                \n",
       "10   -12.766667 18.12056 1        2015 10    31   8.466154                \n",
       "11    -9.657222 17.39361 1        2015 10     5  10.930745                \n",
       "12   -14.756667 19.64167 1        2015 10    30  10.926953                \n",
       "13   -13.330000 19.56389 1        2015 10    31   8.315571                \n",
       "14   -12.767222 18.08167 1        2015 10    31   9.635915                \n",
       "15   -13.875000 18.87500 0        2015 10    11   8.249800                \n",
       "16   -12.625000 17.87500 0        2015 10     6  10.230725                \n",
       "17   -13.375000 19.87500 0        2015 10     1   8.643288                \n",
       "18   -14.625000 17.87500 0        2015 10     9  10.416350                \n",
       "19   -14.375000 18.12500 0        2015 10    24   5.995500                \n",
       "20   -13.625000 19.12500 0        2015 10     9   8.002025                \n",
       "21   -13.125000 19.87500 0        2015 10    12  14.233163                \n",
       "22   -13.875000 19.87500 0        2015 10    10  14.639375                \n",
       "23   -12.375000 18.37500 0        2015 10    25  16.070438                \n",
       "24    -9.625000 17.62500 0        2015 10     8  11.011138                \n",
       "25   -12.625000 18.12500 0        2015 10    21   8.332137                \n",
       "26   -12.625000 18.37500 0        2015 10     5   8.264575                \n",
       "27   -14.375000 18.87500 0        2015 10    15   5.761588                \n",
       "28   -14.125000 18.37500 0        2015 10    20   5.937125                \n",
       "29   -13.743056 18.91167 1        2015 11     3   5.950949                \n",
       "30   -13.592500 18.13639 1        2015 11     3   6.557728                \n",
       "⋮    ⋮          ⋮        ⋮        ⋮    ⋮     ⋮   ⋮                        \n",
       "3235 -13.62500  18.62500 0        2020 12    17  3.021675                 \n",
       "3236  -0.12500  19.87500 0        2020 12    24  8.614875                 \n",
       "3237 -15.37500  18.12500 0        2020 12    28  9.052075                 \n",
       "3238 -14.12500  17.87500 0        2020 12     4  9.689175                 \n",
       "3239   0.87500  19.87500 0        2020 12    23  8.365175                 \n",
       "3240 -13.12500  20.37500 0        2020 12    17  6.862550                 \n",
       "3241 -15.62500  18.62500 0        2020 12    20  9.151750                 \n",
       "3242 -14.62500  19.37500 0        2020 12    17  7.492075                 \n",
       "3243 -15.37500  20.12500 0        2020 12     7  7.416775                 \n",
       "3244   0.62500  18.62500 0        2020 12     6  8.767025                 \n",
       "3245 -13.37500  19.62500 0        2020 12     2  2.985713                 \n",
       "3246 -14.12500  18.12500 0        2020 12    25  9.502350                 \n",
       "3247 -14.62500  19.62500 0        2020 12    21  7.396800                 \n",
       "3248 -14.62500  18.62500 0        2020 12     4  9.401450                 \n",
       "3249 -15.12500  19.87500 0        2020 12     8  3.569675                 \n",
       "3250 -15.87500  18.62500 0        2020 12    19  9.024438                 \n",
       "3251 -13.12500  19.62500 0        2020 12    23  6.839862                 \n",
       "3252   0.12500  18.87500 0        2020 12    28  9.040075                 \n",
       "3253   0.12500  19.12500 0        2020 12     7  8.821012                 \n",
       "3254  -0.12500  19.37500 0        2020 12    13  8.645475                 \n",
       "3255 -14.37500  18.12500 0        2020 12     6  3.843975                 \n",
       "3256 -15.87500  18.12500 0        2020 12    12  3.409312                 \n",
       "3257 -14.12500  18.62500 0        2020 12    12  3.795125                 \n",
       "3258 -14.12500  18.37500 0        2020 12    11  3.903600                 \n",
       "3259   0.37500  19.12500 0        2020 12    28  8.674750                 \n",
       "3260 -13.87500  19.12500 0        2020 12    22  6.963937                 \n",
       "3261 -15.37500  19.62500 0        2020 12    17  3.463288                 \n",
       "3262 -15.87500  19.87500 0        2020 12    18  3.552012                 \n",
       "3263 -13.97694  19.89083 1        2021  1    13  6.365230                 \n",
       "3264 -13.97694  19.89083 1        2021  1    12  6.365230                 \n",
       "     SoilMoi0_10cm_inst_dekad2 SoilMoi0_10cm_inst_dekad3 clay_0.5cm_mean\n",
       "1     6.264692                  7.191211                 0.2237804      \n",
       "2     5.890046                  6.985578                 0.2256825      \n",
       "3    11.093846                 12.787071                 0.1451429      \n",
       "4     9.434800                 10.192380                 0.1639236      \n",
       "5    11.392351                 12.442991                 0.1533333      \n",
       "6    11.191413                 12.861095                 0.1439763      \n",
       "7    11.192108                 12.860637                 0.1441209      \n",
       "8    12.186436                 13.501651                 0.1401176      \n",
       "9     9.567369                 10.251418                 0.2093382      \n",
       "10    7.715625                  9.076551                 0.2638299      \n",
       "11    9.258330                  8.432817                 0.2594525      \n",
       "12   10.390022                 12.265986                 0.1516363      \n",
       "13    7.921348                  7.344172                 0.1828957      \n",
       "14    8.605998                  9.724067                 0.2624794      \n",
       "15    6.376362                  8.092864                 0.2242642      \n",
       "16    8.685287                  8.594545                 0.2386415      \n",
       "17    8.247875                  7.344636                 0.1774830      \n",
       "18    9.184600                  7.856443                 0.2285549      \n",
       "19    5.872975                  6.961216                 0.2047568      \n",
       "20    7.359013                  6.843398                 0.2023400      \n",
       "21   13.729875                 12.431478                 0.1785631      \n",
       "22   13.848025                 11.828943                 0.1594447      \n",
       "23   14.441737                 17.813261                 0.2357088      \n",
       "24    9.261188                  8.326352                 0.2661031      \n",
       "25    7.600138                  8.975693                 0.2619760      \n",
       "26    7.616188                  9.013125                 0.2496478      \n",
       "27    5.678425                  6.926205                 0.2070172      \n",
       "28    5.862575                  7.002602                 0.2235222      \n",
       "29    4.648172                  3.801113                 0.2222097      \n",
       "30    5.167624                  4.287125                 0.2517733      \n",
       "⋮    ⋮                         ⋮                         ⋮              \n",
       "3235 2.732275                  2.515375                  0.2307413      \n",
       "3236 8.412800                  8.276932                  0.2231048      \n",
       "3237 8.734150                  8.505488                  0.2199720      \n",
       "3238 9.165325                  8.813341                  0.1959119      \n",
       "3239 8.203862                  8.136887                  0.2456121      \n",
       "3240 6.605787                  6.401489                  0.1919777      \n",
       "3241 8.822900                  8.590046                  0.2113137      \n",
       "3242 7.015100                  6.679454                  0.1680057      \n",
       "3243 6.996438                  6.714568                  0.1436647      \n",
       "3244 8.529600                  8.530193                  0.2697929      \n",
       "3245 2.720712                  2.523636                  0.1812156      \n",
       "3246 9.040400                  8.725602                  0.2171501      \n",
       "3247 6.943263                  6.625795                  0.1545431      \n",
       "3248 8.973375                  8.678454                  0.2200304      \n",
       "3249 3.136812                  2.839364                  0.1390825      \n",
       "3250 8.717587                  8.502750                  0.1955359      \n",
       "3251 6.559187                  6.356977                  0.1833549      \n",
       "3252 8.755013                  8.744057                  0.2487456      \n",
       "3253 8.582788                  8.455432                  0.2436978      \n",
       "3254 8.426000                  8.288546                  0.2297741      \n",
       "3255 3.352037                  3.008330                  0.2047568      \n",
       "3256 3.042175                  2.785636                  0.1764219      \n",
       "3257 3.317725                  2.968693                  0.2197374      \n",
       "3258 3.403487                  3.044841                  0.2235222      \n",
       "3259 8.466087                  8.361375                  0.2622125      \n",
       "3260 6.665587                  6.439295                  0.2021214      \n",
       "3261 3.048837                  2.759693                  0.1565149      \n",
       "3262 3.137775                  2.846489                  0.1814600      \n",
       "3263 6.237965                  6.124628                  0.1537124      \n",
       "3264 6.237965                  6.124628                  0.1537124      \n",
       "     clay_5.15cm_mean sand_0.5cm_mean sand_5.15cm_mean silt_0.5cm_mean\n",
       "1    0.2206993        0.6134937       0.6184359        0.1627266      \n",
       "2    0.2226590        0.6084904       0.6133977        0.1658286      \n",
       "3    0.1492571        0.6091758       0.6049553        0.2450131      \n",
       "4    0.1687236        0.6156020       0.6125561        0.2195952      \n",
       "5    0.1568739        0.6139158       0.6104353        0.2324357      \n",
       "6    0.1479170        0.6082985       0.6041855        0.2470803      \n",
       "7    0.1480607        0.6084434       0.6043412        0.2468004      \n",
       "8    0.1433034        0.6054943       0.6013461        0.2540506      \n",
       "9    0.2182331        0.5794448       0.5721163        0.2108617      \n",
       "10   0.2567824        0.5295042       0.5359720        0.2066835      \n",
       "11   0.2662501        0.5037401       0.4998439        0.2368249      \n",
       "12   0.1545793        0.6022358       0.5965116        0.2460933      \n",
       "13   0.1841592        0.6039159       0.6045985        0.2128477      \n",
       "14   0.2545781        0.5312221       0.5386508        0.2063141      \n",
       "15   0.2366662        0.5739523       0.5658879        0.2017796      \n",
       "16   0.2261249        0.5492419       0.5619061        0.2121230      \n",
       "17   0.1755415        0.6045285       0.6075478        0.2159503      \n",
       "18   0.2235660        0.6207503       0.6275367        0.1506816      \n",
       "19   0.2009351        0.6597293       0.6646880        0.1355284      \n",
       "20   0.2144632        0.5846304       0.5746167        0.2130375      \n",
       "21   0.1770665        0.6061571       0.6111788        0.2130345      \n",
       "22   0.1619625        0.5993067       0.5945627        0.2394928      \n",
       "23   0.2318153        0.5433221       0.5501464        0.1954751      \n",
       "24   0.2678884        0.5126145       0.5138195        0.2213032      \n",
       "25   0.2541088        0.5242740       0.5317532        0.2137658      \n",
       "26   0.2507085        0.5507263       0.5477638        0.1996375      \n",
       "27   0.2157647        0.5692920       0.5562813        0.2237040      \n",
       "28   0.2366008        0.5968266       0.5827554        0.1796616      \n",
       "29   0.2360294        0.5744186       0.5650385        0.2033411      \n",
       "30   0.2620197        0.5634530       0.5556133        0.1847717      \n",
       "⋮    ⋮                ⋮               ⋮                ⋮              \n",
       "3235 0.2459209        0.5853923       0.5753639        0.1838834      \n",
       "3236 0.2198438        0.5232687       0.5284986        0.2529669      \n",
       "3237 0.2193022        0.5586274       0.5616530        0.2214000      \n",
       "3238 0.1974597        0.6773681       0.6781799        0.1267149      \n",
       "3239 0.2415330        0.4931139       0.4994566        0.2612741      \n",
       "3240 0.1908562        0.5742690       0.5749107        0.2321949      \n",
       "3241 0.2183006        0.5345765       0.5319390        0.2541109      \n",
       "3242 0.1722970        0.5940260       0.5864782        0.2371279      \n",
       "3243 0.1455936        0.6275014       0.6247947        0.2288404      \n",
       "3244 0.2720516        0.4859869       0.4880485        0.2442337      \n",
       "3245 0.1806123        0.6066569       0.6090907        0.2117027      \n",
       "3246 0.2212436        0.6407967       0.6368084        0.1420590      \n",
       "3247 0.1589768        0.5933888       0.5858946        0.2519738      \n",
       "3248 0.2259532        0.5727102       0.5663601        0.2072401      \n",
       "3249 0.1415603        0.6308718       0.6286624        0.2300547      \n",
       "3250 0.2000503        0.4949955       0.4942757        0.2483983      \n",
       "3251 0.1831158        0.6049039       0.6087001        0.2111548      \n",
       "3252 0.2495215        0.4953279       0.4948277        0.2559180      \n",
       "3253 0.2420971        0.5042271       0.5070727        0.2520831      \n",
       "3254 0.2252368        0.5167171       0.5263046        0.2535146      \n",
       "3255 0.2009351        0.6597293       0.6646880        0.1355284      \n",
       "3256 0.1735343        0.4345951       0.4396942        0.1889041      \n",
       "3257 0.2318514        0.5784754       0.5666617        0.2017835      \n",
       "3258 0.2366008        0.5968266       0.5827554        0.1796616      \n",
       "3259 0.2596153        0.4857197       0.4891911        0.2520668      \n",
       "3260 0.2106041        0.5876991       0.5802892        0.2096808      \n",
       "3261 0.1586643        0.6213999       0.6179980        0.2220983      \n",
       "3262 0.1826553        0.5941641       0.5939562        0.2243930      \n",
       "3263 0.1562784        0.6037946       0.5992991        0.2415210      \n",
       "3264 0.1562784        0.6037946       0.5992991        0.2415210      \n",
       "     silt_5.15cm_mean\n",
       "1    0.1608605       \n",
       "2    0.1639382       \n",
       "3    0.2451067       \n",
       "4    0.2178435       \n",
       "5    0.2323789       \n",
       "6    0.2472422       \n",
       "7    0.2469524       \n",
       "8    0.2550118       \n",
       "9    0.2092813       \n",
       "10   0.2072403       \n",
       "11   0.2338905       \n",
       "12   0.2488572       \n",
       "13   0.2108958       \n",
       "14   0.2067678       \n",
       "15   0.1974314       \n",
       "16   0.2119670       \n",
       "17   0.2148716       \n",
       "18   0.1488968       \n",
       "19   0.1343858       \n",
       "20   0.2109149       \n",
       "21   0.2094795       \n",
       "22   0.2417183       \n",
       "23   0.1925508       \n",
       "24   0.2182762       \n",
       "25   0.2141176       \n",
       "26   0.2015472       \n",
       "27   0.2279712       \n",
       "28   0.1806564       \n",
       "29   0.1988880       \n",
       "30   0.1823614       \n",
       "⋮    ⋮               \n",
       "3235 0.1787261       \n",
       "3236 0.2509903       \n",
       "3237 0.2190335       \n",
       "3238 0.1243404       \n",
       "3239 0.2590179       \n",
       "3240 0.2326844       \n",
       "3241 0.2497658       \n",
       "3242 0.2404026       \n",
       "3243 0.2296242       \n",
       "3244 0.2399221       \n",
       "3245 0.2098723       \n",
       "3246 0.1419497       \n",
       "3247 0.2550056       \n",
       "3248 0.2076715       \n",
       "3249 0.2297771       \n",
       "3250 0.2448868       \n",
       "3251 0.2075806       \n",
       "3252 0.2556722       \n",
       "3253 0.2508441       \n",
       "3254 0.2484641       \n",
       "3255 0.1343858       \n",
       "3256 0.1867012       \n",
       "3257 0.2014699       \n",
       "3258 0.1806564       \n",
       "3259 0.2511819       \n",
       "3260 0.2085878       \n",
       "3261 0.2233326       \n",
       "3262 0.2233729       \n",
       "3263 0.2434498       \n",
       "3264 0.2434498       "
      ]
     },
     "metadata": {},
     "output_type": "display_data"
    }
   ],
   "source": [
    "write.csv(test_gen,'test_random_v1.csv')\n",
    "test_gen"
   ]
  },
  {
   "cell_type": "code",
   "execution_count": null,
   "metadata": {},
   "outputs": [
    {
     "name": "stdout",
     "output_type": "stream",
     "text": [
      "[1] 200011\n",
      "[1] \"creating background point-grids for species 1 out of 1\"\n"
     ]
    },
    {
     "name": "stderr",
     "output_type": "stream",
     "text": [
      "[2021-09-21 08:14:45] Generating pseudo-absences for species 1\n",
      "\n",
      ":::[2021-09-21 08:14:45] Realization 1\n",
      "\n",
      "Background km50 is too small for sampling and will be ignored\n",
      "\n"
     ]
    },
    {
     "name": "stdout",
     "output_type": "stream",
     "text": [
      "[1] 200001\n",
      "[1] \"creating background point-grids for species 1 out of 1\"\n"
     ]
    },
    {
     "name": "stderr",
     "output_type": "stream",
     "text": [
      "[2021-09-21 08:16:49] Generating pseudo-absences for species 1\n",
      "\n",
      ":::[2021-09-21 08:16:49] Realization 1\n",
      "\n"
     ]
    },
    {
     "name": "stdout",
     "output_type": "stream",
     "text": [
      "[1] 200012\n",
      "[1] \"creating background point-grids for species 1 out of 1\"\n"
     ]
    },
    {
     "name": "stderr",
     "output_type": "stream",
     "text": [
      "[2021-09-21 08:18:51] Generating pseudo-absences for species 1\n",
      "\n",
      ":::[2021-09-21 08:18:51] Realization 1\n",
      "\n"
     ]
    },
    {
     "name": "stdout",
     "output_type": "stream",
     "text": [
      "[1] 200010\n",
      "[1] \"creating background point-grids for species 1 out of 1\"\n"
     ]
    },
    {
     "name": "stderr",
     "output_type": "stream",
     "text": [
      "[2021-09-21 08:20:56] Generating pseudo-absences for species 1\n",
      "\n",
      ":::[2021-09-21 08:20:56] Realization 1\n",
      "\n"
     ]
    },
    {
     "name": "stdout",
     "output_type": "stream",
     "text": [
      "[1] 200003\n",
      "[1] \"creating background point-grids for species 1 out of 1\"\n"
     ]
    },
    {
     "name": "stderr",
     "output_type": "stream",
     "text": [
      "[2021-09-21 08:23:02] Generating pseudo-absences for species 1\n",
      "\n",
      ":::[2021-09-21 08:23:02] Realization 1\n",
      "\n",
      "Background km50 is too small for sampling and will be ignored\n",
      "\n"
     ]
    },
    {
     "name": "stdout",
     "output_type": "stream",
     "text": [
      "[1] 200002\n",
      "[1] \"creating background point-grids for species 1 out of 1\"\n"
     ]
    },
    {
     "name": "stderr",
     "output_type": "stream",
     "text": [
      "[2021-09-21 08:25:03] Generating pseudo-absences for species 1\n",
      "\n",
      ":::[2021-09-21 08:25:03] Realization 1\n",
      "\n"
     ]
    },
    {
     "name": "stdout",
     "output_type": "stream",
     "text": [
      "[1] 200008\n",
      "[1] \"creating background point-grids for species 1 out of 1\"\n"
     ]
    },
    {
     "name": "stderr",
     "output_type": "stream",
     "text": [
      "[2021-09-21 08:27:11] Generating pseudo-absences for species 1\n",
      "\n",
      ":::[2021-09-21 08:27:11] Realization 1\n",
      "\n"
     ]
    },
    {
     "name": "stdout",
     "output_type": "stream",
     "text": [
      "[1] 200004\n",
      "[1] \"creating background point-grids for species 1 out of 1\"\n"
     ]
    },
    {
     "name": "stderr",
     "output_type": "stream",
     "text": [
      "[2021-09-21 08:29:15] Generating pseudo-absences for species 1\n",
      "\n",
      ":::[2021-09-21 08:29:15] Realization 1\n",
      "\n"
     ]
    },
    {
     "name": "stdout",
     "output_type": "stream",
     "text": [
      "[1] 200009\n",
      "[1] \"creating background point-grids for species 1 out of 1\"\n"
     ]
    },
    {
     "name": "stderr",
     "output_type": "stream",
     "text": [
      "[2021-09-21 08:31:22] Generating pseudo-absences for species 1\n",
      "\n",
      ":::[2021-09-21 08:31:22] Realization 1\n",
      "\n"
     ]
    },
    {
     "name": "stdout",
     "output_type": "stream",
     "text": [
      "[1] 200101\n",
      "[1] \"creating background point-grids for species 1 out of 1\"\n"
     ]
    },
    {
     "name": "stderr",
     "output_type": "stream",
     "text": [
      "[2021-09-21 08:33:30] Generating pseudo-absences for species 1\n",
      "\n",
      ":::[2021-09-21 08:33:30] Realization 1\n",
      "\n"
     ]
    },
    {
     "name": "stdout",
     "output_type": "stream",
     "text": [
      "[1] 200110\n",
      "[1] \"creating background point-grids for species 1 out of 1\"\n"
     ]
    },
    {
     "name": "stderr",
     "output_type": "stream",
     "text": [
      "[2021-09-21 08:35:41] Generating pseudo-absences for species 1\n",
      "\n",
      ":::[2021-09-21 08:35:41] Realization 1\n",
      "\n"
     ]
    },
    {
     "name": "stdout",
     "output_type": "stream",
     "text": [
      "[1] 200111\n",
      "[1] \"creating background point-grids for species 1 out of 1\"\n"
     ]
    },
    {
     "name": "stderr",
     "output_type": "stream",
     "text": [
      "[2021-09-21 08:37:45] Generating pseudo-absences for species 1\n",
      "\n",
      ":::[2021-09-21 08:37:45] Realization 1\n",
      "\n"
     ]
    },
    {
     "name": "stdout",
     "output_type": "stream",
     "text": [
      "[1] 200112\n",
      "[1] \"creating background point-grids for species 1 out of 1\"\n"
     ]
    },
    {
     "name": "stderr",
     "output_type": "stream",
     "text": [
      "[2021-09-21 08:39:57] Generating pseudo-absences for species 1\n",
      "\n",
      ":::[2021-09-21 08:39:57] Realization 1\n",
      "\n"
     ]
    },
    {
     "name": "stdout",
     "output_type": "stream",
     "text": [
      "[1] 200102\n",
      "[1] \"creating background point-grids for species 1 out of 1\"\n"
     ]
    },
    {
     "name": "stderr",
     "output_type": "stream",
     "text": [
      "[2021-09-21 08:41:56] Generating pseudo-absences for species 1\n",
      "\n",
      ":::[2021-09-21 08:41:56] Realization 1\n",
      "\n"
     ]
    },
    {
     "name": "stdout",
     "output_type": "stream",
     "text": [
      "[1] 200108\n",
      "[1] 200109\n",
      "[1] 200211\n",
      "[1] \"creating background point-grids for species 1 out of 1\"\n"
     ]
    },
    {
     "name": "stderr",
     "output_type": "stream",
     "text": [
      "[2021-09-21 08:48:29] Generating pseudo-absences for species 1\n",
      "\n",
      ":::[2021-09-21 08:48:29] Realization 1\n",
      "\n"
     ]
    },
    {
     "name": "stdout",
     "output_type": "stream",
     "text": [
      "[1] 200212\n",
      "[1] \"creating background point-grids for species 1 out of 1\"\n"
     ]
    },
    {
     "name": "stderr",
     "output_type": "stream",
     "text": [
      "[2021-09-21 08:50:50] Generating pseudo-absences for species 1\n",
      "\n",
      ":::[2021-09-21 08:50:50] Realization 1\n",
      "\n"
     ]
    },
    {
     "name": "stdout",
     "output_type": "stream",
     "text": [
      "[1] 200210\n",
      "[1] \"creating background point-grids for species 1 out of 1\"\n"
     ]
    },
    {
     "name": "stderr",
     "output_type": "stream",
     "text": [
      "[2021-09-21 08:53:14] Generating pseudo-absences for species 1\n",
      "\n",
      ":::[2021-09-21 08:53:14] Realization 1\n",
      "\n"
     ]
    },
    {
     "name": "stdout",
     "output_type": "stream",
     "text": [
      "[1] 200201\n",
      "[1] 200208\n",
      "[1] 200209\n",
      "[1] \"creating background point-grids for species 1 out of 1\"\n"
     ]
    },
    {
     "name": "stderr",
     "output_type": "stream",
     "text": [
      "[2021-09-21 09:00:22] Generating pseudo-absences for species 1\n",
      "\n",
      ":::[2021-09-21 09:00:22] Realization 1\n",
      "\n"
     ]
    },
    {
     "name": "stdout",
     "output_type": "stream",
     "text": [
      "[1] 200311\n",
      "[1] \"creating background point-grids for species 1 out of 1\"\n"
     ]
    },
    {
     "name": "stderr",
     "output_type": "stream",
     "text": [
      "[2021-09-21 09:02:47] Generating pseudo-absences for species 1\n",
      "\n",
      ":::[2021-09-21 09:02:47] Realization 1\n",
      "\n",
      "Background km50 is too small for sampling and will be ignored\n",
      "\n"
     ]
    },
    {
     "name": "stdout",
     "output_type": "stream",
     "text": [
      "[1] 200312\n",
      "[1] \"creating background point-grids for species 1 out of 1\"\n"
     ]
    },
    {
     "name": "stderr",
     "output_type": "stream",
     "text": [
      "[2021-09-21 09:05:22] Generating pseudo-absences for species 1\n",
      "\n",
      ":::[2021-09-21 09:05:22] Realization 1\n",
      "\n",
      "Background km50 is too small for sampling and will be ignored\n",
      "\n"
     ]
    },
    {
     "name": "stdout",
     "output_type": "stream",
     "text": [
      "[1] 200301\n",
      "[1] 200302\n",
      "[1] \"creating background point-grids for species 1 out of 1\"\n"
     ]
    },
    {
     "name": "stderr",
     "output_type": "stream",
     "text": [
      "[2021-09-21 09:10:09] Generating pseudo-absences for species 1\n",
      "\n",
      ":::[2021-09-21 09:10:09] Realization 1\n",
      "\n"
     ]
    },
    {
     "name": "stdout",
     "output_type": "stream",
     "text": [
      "[1] 200308\n",
      "[1] \"creating background point-grids for species 1 out of 1\"\n"
     ]
    },
    {
     "name": "stderr",
     "output_type": "stream",
     "text": [
      "[2021-09-21 09:12:41] Generating pseudo-absences for species 1\n",
      "\n",
      ":::[2021-09-21 09:12:41] Realization 1\n",
      "\n"
     ]
    },
    {
     "name": "stdout",
     "output_type": "stream",
     "text": [
      "[1] 200309\n",
      "[1] \"creating background point-grids for species 1 out of 1\"\n"
     ]
    },
    {
     "name": "stderr",
     "output_type": "stream",
     "text": [
      "[2021-09-21 09:15:08] Generating pseudo-absences for species 1\n",
      "\n",
      ":::[2021-09-21 09:15:08] Realization 1\n",
      "\n"
     ]
    },
    {
     "name": "stdout",
     "output_type": "stream",
     "text": [
      "[1] 200310\n",
      "[1] \"creating background point-grids for species 1 out of 1\"\n"
     ]
    },
    {
     "name": "stderr",
     "output_type": "stream",
     "text": [
      "[2021-09-21 09:17:41] Generating pseudo-absences for species 1\n",
      "\n",
      ":::[2021-09-21 09:17:41] Realization 1\n",
      "\n"
     ]
    },
    {
     "name": "stdout",
     "output_type": "stream",
     "text": [
      "[1] 200401\n",
      "[1] \"creating background point-grids for species 1 out of 1\"\n"
     ]
    },
    {
     "name": "stderr",
     "output_type": "stream",
     "text": [
      "[2021-09-21 09:20:13] Generating pseudo-absences for species 1\n",
      "\n",
      ":::[2021-09-21 09:20:13] Realization 1\n",
      "\n",
      "Background km50 is too small for sampling and will be ignored\n",
      "\n"
     ]
    },
    {
     "name": "stdout",
     "output_type": "stream",
     "text": [
      "[1] 200303\n",
      "[1] 200307\n",
      "[1] 200412\n",
      "[1] \"creating background point-grids for species 1 out of 1\"\n"
     ]
    },
    {
     "name": "stderr",
     "output_type": "stream",
     "text": [
      "[2021-09-21 09:27:47] Generating pseudo-absences for species 1\n",
      "\n",
      ":::[2021-09-21 09:27:47] Realization 1\n",
      "\n"
     ]
    },
    {
     "name": "stdout",
     "output_type": "stream",
     "text": [
      "[1] 200411\n",
      "[1] \"creating background point-grids for species 1 out of 1\"\n"
     ]
    },
    {
     "name": "stderr",
     "output_type": "stream",
     "text": [
      "[2021-09-21 09:30:18] Generating pseudo-absences for species 1\n",
      "\n",
      ":::[2021-09-21 09:30:18] Realization 1\n",
      "\n"
     ]
    },
    {
     "name": "stdout",
     "output_type": "stream",
     "text": [
      "[1] 200410\n",
      "[1] \"creating background point-grids for species 1 out of 1\"\n"
     ]
    },
    {
     "name": "stderr",
     "output_type": "stream",
     "text": [
      "[2021-09-21 09:32:53] Generating pseudo-absences for species 1\n",
      "\n",
      ":::[2021-09-21 09:32:53] Realization 1\n",
      "\n"
     ]
    },
    {
     "name": "stdout",
     "output_type": "stream",
     "text": [
      "[1] 200406\n",
      "[1] \"creating background point-grids for species 1 out of 1\"\n"
     ]
    },
    {
     "name": "stderr",
     "output_type": "stream",
     "text": [
      "[2021-09-21 09:35:30] Generating pseudo-absences for species 1\n",
      "\n",
      ":::[2021-09-21 09:35:30] Realization 1\n",
      "\n"
     ]
    },
    {
     "name": "stdout",
     "output_type": "stream",
     "text": [
      "[1] 200408\n",
      "[1] \"creating background point-grids for species 1 out of 1\"\n"
     ]
    },
    {
     "name": "stderr",
     "output_type": "stream",
     "text": [
      "[2021-09-21 09:38:09] Generating pseudo-absences for species 1\n",
      "\n",
      ":::[2021-09-21 09:38:09] Realization 1\n",
      "\n"
     ]
    },
    {
     "name": "stdout",
     "output_type": "stream",
     "text": [
      "[1] 200402\n",
      "[1] \"creating background point-grids for species 1 out of 1\"\n"
     ]
    },
    {
     "name": "stderr",
     "output_type": "stream",
     "text": [
      "[2021-09-21 09:40:37] Generating pseudo-absences for species 1\n",
      "\n",
      ":::[2021-09-21 09:40:37] Realization 1\n",
      "\n",
      "Background km50 is too small for sampling and will be ignored\n",
      "\n"
     ]
    },
    {
     "name": "stdout",
     "output_type": "stream",
     "text": [
      "[1] 200404\n",
      "[1] \"creating background point-grids for species 1 out of 1\"\n"
     ]
    },
    {
     "name": "stderr",
     "output_type": "stream",
     "text": [
      "[2021-09-21 09:43:17] Generating pseudo-absences for species 1\n",
      "\n",
      ":::[2021-09-21 09:43:17] Realization 1\n",
      "\n",
      "Background km50 is too small for sampling and will be ignored\n",
      "\n"
     ]
    },
    {
     "name": "stdout",
     "output_type": "stream",
     "text": [
      "[1] 200403\n",
      "[1] \"creating background point-grids for species 1 out of 1\"\n"
     ]
    },
    {
     "name": "stderr",
     "output_type": "stream",
     "text": [
      "[2021-09-21 09:46:01] Generating pseudo-absences for species 1\n",
      "\n",
      ":::[2021-09-21 09:46:01] Realization 1\n",
      "\n",
      "Background km50 is too small for sampling and will be ignored\n",
      "\n"
     ]
    },
    {
     "name": "stdout",
     "output_type": "stream",
     "text": [
      "[1] 200409\n",
      "[1] \"creating background point-grids for species 1 out of 1\"\n"
     ]
    },
    {
     "name": "stderr",
     "output_type": "stream",
     "text": [
      "[2021-09-21 09:48:47] Generating pseudo-absences for species 1\n",
      "\n",
      ":::[2021-09-21 09:48:47] Realization 1\n",
      "\n",
      "Background km50 is too small for sampling and will be ignored\n",
      "\n"
     ]
    },
    {
     "name": "stdout",
     "output_type": "stream",
     "text": [
      "[1] 200405\n",
      "[1] \"creating background point-grids for species 1 out of 1\"\n"
     ]
    },
    {
     "name": "stderr",
     "output_type": "stream",
     "text": [
      "[2021-09-21 09:51:32] Generating pseudo-absences for species 1\n",
      "\n",
      ":::[2021-09-21 09:51:32] Realization 1\n",
      "\n",
      "Background km50 is too small for sampling and will be ignored\n",
      "\n"
     ]
    },
    {
     "name": "stdout",
     "output_type": "stream",
     "text": [
      "[1] 200407\n",
      "[1] 200512\n",
      "[1] \"creating background point-grids for species 1 out of 1\"\n"
     ]
    },
    {
     "name": "stderr",
     "output_type": "stream",
     "text": [
      "[2021-09-21 09:57:10] Generating pseudo-absences for species 1\n",
      "\n",
      ":::[2021-09-21 09:57:10] Realization 1\n",
      "\n",
      "Background km50 is too small for sampling and will be ignored\n",
      "\n"
     ]
    },
    {
     "name": "stdout",
     "output_type": "stream",
     "text": [
      "[1] 200511\n",
      "[1] \"creating background point-grids for species 1 out of 1\"\n"
     ]
    },
    {
     "name": "stderr",
     "output_type": "stream",
     "text": [
      "[2021-09-21 09:59:58] Generating pseudo-absences for species 1\n",
      "\n",
      ":::[2021-09-21 09:59:58] Realization 1\n",
      "\n",
      "Background km50 is too small for sampling and will be ignored\n",
      "\n"
     ]
    },
    {
     "name": "stdout",
     "output_type": "stream",
     "text": [
      "[1] 200508\n",
      "[1] 200509\n",
      "[1] \"creating background point-grids for species 1 out of 1\"\n"
     ]
    },
    {
     "name": "stderr",
     "output_type": "stream",
     "text": [
      "[2021-09-21 10:05:38] Generating pseudo-absences for species 1\n",
      "\n",
      ":::[2021-09-21 10:05:38] Realization 1\n",
      "\n"
     ]
    },
    {
     "name": "stdout",
     "output_type": "stream",
     "text": [
      "[1] 200510\n",
      "[1] \"creating background point-grids for species 1 out of 1\"\n"
     ]
    },
    {
     "name": "stderr",
     "output_type": "stream",
     "text": [
      "[2021-09-21 10:08:30] Generating pseudo-absences for species 1\n",
      "\n",
      ":::[2021-09-21 10:08:30] Realization 1\n",
      "\n"
     ]
    },
    {
     "name": "stdout",
     "output_type": "stream",
     "text": [
      "[1] 200601\n",
      "[1] \"creating background point-grids for species 1 out of 1\"\n"
     ]
    },
    {
     "name": "stderr",
     "output_type": "stream",
     "text": [
      "[2021-09-21 10:11:22] Generating pseudo-absences for species 1\n",
      "\n",
      ":::[2021-09-21 10:11:22] Realization 1\n",
      "\n",
      "Background km50 is too small for sampling and will be ignored\n",
      "\n"
     ]
    },
    {
     "name": "stdout",
     "output_type": "stream",
     "text": [
      "[1] 200507\n",
      "[1] 200612\n",
      "[1] \"creating background point-grids for species 1 out of 1\"\n"
     ]
    },
    {
     "name": "stderr",
     "output_type": "stream",
     "text": [
      "[2021-09-21 10:17:09] Generating pseudo-absences for species 1\n",
      "\n",
      ":::[2021-09-21 10:17:09] Realization 1\n",
      "\n"
     ]
    },
    {
     "name": "stdout",
     "output_type": "stream",
     "text": [
      "[1] 200610\n",
      "[1] \"creating background point-grids for species 1 out of 1\"\n"
     ]
    },
    {
     "name": "stderr",
     "output_type": "stream",
     "text": [
      "[2021-09-21 10:20:02] Generating pseudo-absences for species 1\n",
      "\n",
      ":::[2021-09-21 10:20:02] Realization 1\n",
      "\n"
     ]
    },
    {
     "name": "stdout",
     "output_type": "stream",
     "text": [
      "[1] 200611\n",
      "[1] \"creating background point-grids for species 1 out of 1\"\n"
     ]
    },
    {
     "name": "stderr",
     "output_type": "stream",
     "text": [
      "[2021-09-21 10:22:54] Generating pseudo-absences for species 1\n",
      "\n",
      ":::[2021-09-21 10:22:54] Realization 1\n",
      "\n",
      "Background km50 is too small for sampling and will be ignored\n",
      "\n"
     ]
    },
    {
     "name": "stdout",
     "output_type": "stream",
     "text": [
      "[1] 200608\n",
      "[1] \"creating background point-grids for species 1 out of 1\"\n"
     ]
    },
    {
     "name": "stderr",
     "output_type": "stream",
     "text": [
      "[2021-09-21 10:25:55] Generating pseudo-absences for species 1\n",
      "\n",
      ":::[2021-09-21 10:25:55] Realization 1\n",
      "\n"
     ]
    },
    {
     "name": "stdout",
     "output_type": "stream",
     "text": [
      "[1] 200609\n",
      "[1] \"creating background point-grids for species 1 out of 1\"\n"
     ]
    },
    {
     "name": "stderr",
     "output_type": "stream",
     "text": [
      "[2021-09-21 10:28:46] Generating pseudo-absences for species 1\n",
      "\n",
      ":::[2021-09-21 10:28:46] Realization 1\n",
      "\n",
      "Background km50 is too small for sampling and will be ignored\n",
      "\n"
     ]
    },
    {
     "name": "stdout",
     "output_type": "stream",
     "text": [
      "[1] 200604\n",
      "[1] \"creating background point-grids for species 1 out of 1\"\n"
     ]
    },
    {
     "name": "stderr",
     "output_type": "stream",
     "text": [
      "[2021-09-21 10:31:43] Generating pseudo-absences for species 1\n",
      "\n",
      ":::[2021-09-21 10:31:43] Realization 1\n",
      "\n",
      "Background km50 is too small for sampling and will be ignored\n",
      "\n"
     ]
    },
    {
     "name": "stdout",
     "output_type": "stream",
     "text": [
      "[1] 200602\n",
      "[1] \"creating background point-grids for species 1 out of 1\"\n"
     ]
    },
    {
     "name": "stderr",
     "output_type": "stream",
     "text": [
      "[2021-09-21 10:34:25] Generating pseudo-absences for species 1\n",
      "\n",
      ":::[2021-09-21 10:34:25] Realization 1\n",
      "\n"
     ]
    },
    {
     "name": "stdout",
     "output_type": "stream",
     "text": [
      "[1] 200603\n",
      "[1] \"creating background point-grids for species 1 out of 1\"\n"
     ]
    },
    {
     "name": "stderr",
     "output_type": "stream",
     "text": [
      "[2021-09-21 10:37:26] Generating pseudo-absences for species 1\n",
      "\n",
      ":::[2021-09-21 10:37:26] Realization 1\n",
      "\n"
     ]
    },
    {
     "name": "stdout",
     "output_type": "stream",
     "text": [
      "[1] 200712\n",
      "[1] \"creating background point-grids for species 1 out of 1\"\n"
     ]
    },
    {
     "name": "stderr",
     "output_type": "stream",
     "text": [
      "[2021-09-21 10:40:28] Generating pseudo-absences for species 1\n",
      "\n",
      ":::[2021-09-21 10:40:28] Realization 1\n",
      "\n"
     ]
    },
    {
     "name": "stdout",
     "output_type": "stream",
     "text": [
      "[1] 200701\n",
      "[1] 200711\n",
      "[1] \"creating background point-grids for species 1 out of 1\"\n"
     ]
    },
    {
     "name": "stderr",
     "output_type": "stream",
     "text": [
      "[2021-09-21 10:46:28] Generating pseudo-absences for species 1\n",
      "\n",
      ":::[2021-09-21 10:46:28] Realization 1\n",
      "\n"
     ]
    },
    {
     "name": "stdout",
     "output_type": "stream",
     "text": [
      "[1] 200709\n",
      "[1] \"creating background point-grids for species 1 out of 1\"\n"
     ]
    },
    {
     "name": "stderr",
     "output_type": "stream",
     "text": [
      "[2021-09-21 10:49:25] Generating pseudo-absences for species 1\n",
      "\n",
      ":::[2021-09-21 10:49:25] Realization 1\n",
      "\n"
     ]
    },
    {
     "name": "stdout",
     "output_type": "stream",
     "text": [
      "[1] 200710\n",
      "[1] \"creating background point-grids for species 1 out of 1\"\n"
     ]
    },
    {
     "name": "stderr",
     "output_type": "stream",
     "text": [
      "[2021-09-21 10:52:29] Generating pseudo-absences for species 1\n",
      "\n",
      ":::[2021-09-21 10:52:29] Realization 1\n",
      "\n"
     ]
    },
    {
     "name": "stdout",
     "output_type": "stream",
     "text": [
      "[1] 200801\n",
      "[1] \"creating background point-grids for species 1 out of 1\"\n"
     ]
    },
    {
     "name": "stderr",
     "output_type": "stream",
     "text": [
      "[2021-09-21 10:55:38] Generating pseudo-absences for species 1\n",
      "\n",
      ":::[2021-09-21 10:55:38] Realization 1\n",
      "\n"
     ]
    },
    {
     "name": "stdout",
     "output_type": "stream",
     "text": [
      "[1] 200702\n",
      "[1] \"creating background point-grids for species 1 out of 1\"\n"
     ]
    },
    {
     "name": "stderr",
     "output_type": "stream",
     "text": [
      "[2021-09-21 10:58:26] Generating pseudo-absences for species 1\n",
      "\n",
      ":::[2021-09-21 10:58:26] Realization 1\n",
      "\n"
     ]
    },
    {
     "name": "stdout",
     "output_type": "stream",
     "text": [
      "[1] 200812\n",
      "[1] \"creating background point-grids for species 1 out of 1\"\n"
     ]
    },
    {
     "name": "stderr",
     "output_type": "stream",
     "text": [
      "[2021-09-21 11:01:31] Generating pseudo-absences for species 1\n",
      "\n",
      ":::[2021-09-21 11:01:31] Realization 1\n",
      "\n",
      "Background km50 is too small for sampling and will be ignored\n",
      "\n"
     ]
    },
    {
     "name": "stdout",
     "output_type": "stream",
     "text": [
      "[1] 200811\n",
      "[1] \"creating background point-grids for species 1 out of 1\"\n"
     ]
    },
    {
     "name": "stderr",
     "output_type": "stream",
     "text": [
      "[2021-09-21 11:04:32] Generating pseudo-absences for species 1\n",
      "\n",
      ":::[2021-09-21 11:04:32] Realization 1\n",
      "\n"
     ]
    },
    {
     "name": "stdout",
     "output_type": "stream",
     "text": [
      "[1] 200804\n",
      "[1] \"creating background point-grids for species 1 out of 1\"\n"
     ]
    },
    {
     "name": "stderr",
     "output_type": "stream",
     "text": [
      "[2021-09-21 11:07:33] Generating pseudo-absences for species 1\n",
      "\n",
      ":::[2021-09-21 11:07:33] Realization 1\n",
      "\n",
      "Background km50 is too small for sampling and will be ignored\n",
      "\n"
     ]
    },
    {
     "name": "stdout",
     "output_type": "stream",
     "text": [
      "[1] 200803\n",
      "[1] \"creating background point-grids for species 1 out of 1\"\n"
     ]
    },
    {
     "name": "stderr",
     "output_type": "stream",
     "text": [
      "[2021-09-21 11:10:43] Generating pseudo-absences for species 1\n",
      "\n",
      ":::[2021-09-21 11:10:43] Realization 1\n",
      "\n"
     ]
    },
    {
     "name": "stdout",
     "output_type": "stream",
     "text": [
      "[1] 200805\n",
      "[1] \"creating background point-grids for species 1 out of 1\"\n"
     ]
    },
    {
     "name": "stderr",
     "output_type": "stream",
     "text": [
      "[2021-09-21 11:13:54] Generating pseudo-absences for species 1\n",
      "\n",
      ":::[2021-09-21 11:13:54] Realization 1\n",
      "\n"
     ]
    },
    {
     "name": "stdout",
     "output_type": "stream",
     "text": [
      "[1] 200802\n",
      "[1] \"creating background point-grids for species 1 out of 1\"\n"
     ]
    },
    {
     "name": "stderr",
     "output_type": "stream",
     "text": [
      "[2021-09-21 11:16:53] Generating pseudo-absences for species 1\n",
      "\n",
      ":::[2021-09-21 11:16:53] Realization 1\n",
      "\n"
     ]
    },
    {
     "name": "stdout",
     "output_type": "stream",
     "text": [
      "[1] 200810\n",
      "[1] \"creating background point-grids for species 1 out of 1\"\n"
     ]
    },
    {
     "name": "stderr",
     "output_type": "stream",
     "text": [
      "[2021-09-21 11:20:05] Generating pseudo-absences for species 1\n",
      "\n",
      ":::[2021-09-21 11:20:05] Realization 1\n",
      "\n"
     ]
    },
    {
     "name": "stdout",
     "output_type": "stream",
     "text": [
      "[1] 200809\n",
      "[1] \"creating background point-grids for species 1 out of 1\"\n"
     ]
    },
    {
     "name": "stderr",
     "output_type": "stream",
     "text": [
      "[2021-09-21 11:23:12] Generating pseudo-absences for species 1\n",
      "\n",
      ":::[2021-09-21 11:23:12] Realization 1\n",
      "\n"
     ]
    },
    {
     "name": "stdout",
     "output_type": "stream",
     "text": [
      "[1] 200808\n",
      "[1] \"creating background point-grids for species 1 out of 1\"\n"
     ]
    },
    {
     "name": "stderr",
     "output_type": "stream",
     "text": [
      "[2021-09-21 11:26:25] Generating pseudo-absences for species 1\n",
      "\n",
      ":::[2021-09-21 11:26:25] Realization 1\n",
      "\n"
     ]
    },
    {
     "name": "stdout",
     "output_type": "stream",
     "text": [
      "[1] 200901\n",
      "[1] \"creating background point-grids for species 1 out of 1\"\n"
     ]
    },
    {
     "name": "stderr",
     "output_type": "stream",
     "text": [
      "[2021-09-21 11:29:37] Generating pseudo-absences for species 1\n",
      "\n",
      ":::[2021-09-21 11:29:37] Realization 1\n",
      "\n"
     ]
    },
    {
     "name": "stdout",
     "output_type": "stream",
     "text": [
      "[1] 200910\n",
      "[1] \"creating background point-grids for species 1 out of 1\"\n"
     ]
    },
    {
     "name": "stderr",
     "output_type": "stream",
     "text": [
      "[2021-09-21 11:32:51] Generating pseudo-absences for species 1\n",
      "\n",
      ":::[2021-09-21 11:32:51] Realization 1\n",
      "\n",
      "Background km50 is too small for sampling and will be ignored\n",
      "\n"
     ]
    },
    {
     "name": "stdout",
     "output_type": "stream",
     "text": [
      "[1] 200909\n",
      "[1] \"creating background point-grids for species 1 out of 1\"\n"
     ]
    },
    {
     "name": "stderr",
     "output_type": "stream",
     "text": [
      "[2021-09-21 11:36:00] Generating pseudo-absences for species 1\n",
      "\n",
      ":::[2021-09-21 11:36:00] Realization 1\n",
      "\n"
     ]
    }
   ],
   "source": [
    "train_val_gen <- nasa_pa_generation(basePath, train_val_subset, as.numeric(unique(train_val_subset$yearmonth)), 'random', env_profilers)"
   ]
  },
  {
   "cell_type": "code",
   "execution_count": 30,
   "metadata": {
    "scrolled": true
   },
   "outputs": [
    {
     "data": {
      "text/html": [
       "<table class=\"dataframe\">\n",
       "<caption>A data.frame: 16159 × 15</caption>\n",
       "<thead>\n",
       "\t<tr><th scope=col>x</th><th scope=col>y</th><th scope=col>presence</th><th scope=col>year</th><th scope=col>month</th><th scope=col>day</th><th scope=col>SoilMoi0_10cm_inst_dekad1</th><th scope=col>SoilMoi0_10cm_inst_dekad2</th><th scope=col>SoilMoi0_10cm_inst_dekad3</th><th scope=col>clay_0.5cm_mean</th><th scope=col>clay_5.15cm_mean</th><th scope=col>sand_0.5cm_mean</th><th scope=col>sand_5.15cm_mean</th><th scope=col>silt_0.5cm_mean</th><th scope=col>silt_5.15cm_mean</th></tr>\n",
       "\t<tr><th scope=col>&lt;dbl&gt;</th><th scope=col>&lt;dbl&gt;</th><th scope=col>&lt;dbl&gt;</th><th scope=col>&lt;dbl&gt;</th><th scope=col>&lt;dbl&gt;</th><th scope=col>&lt;dbl&gt;</th><th scope=col>&lt;dbl&gt;</th><th scope=col>&lt;dbl&gt;</th><th scope=col>&lt;dbl&gt;</th><th scope=col>&lt;dbl&gt;</th><th scope=col>&lt;dbl&gt;</th><th scope=col>&lt;dbl&gt;</th><th scope=col>&lt;dbl&gt;</th><th scope=col>&lt;dbl&gt;</th><th scope=col>&lt;dbl&gt;</th></tr>\n",
       "</thead>\n",
       "<tbody>\n",
       "\t<tr><td>-15.45583</td><td>20.58194</td><td>1</td><td>2000</td><td>1</td><td>11</td><td> 8.912033</td><td> 8.880046</td><td>10.657040</td><td>0.1347601</td><td>0.1405453</td><td>0.6511468</td><td>0.6479411</td><td>0.2140997</td><td>0.2115278</td></tr>\n",
       "\t<tr><td>-10.93333</td><td>25.38333</td><td>1</td><td>2000</td><td>1</td><td>29</td><td>10.845142</td><td>10.790489</td><td>11.725162</td><td>0.1615377</td><td>0.1532316</td><td>0.6154153</td><td>0.6215836</td><td>0.2230543</td><td>0.2251888</td></tr>\n",
       "\t<tr><td>-16.04528</td><td>19.47111</td><td>1</td><td>2000</td><td>1</td><td> 4</td><td> 4.783819</td><td> 5.027987</td><td> 7.008550</td><td>0.1788870</td><td>0.1824752</td><td>0.5549563</td><td>0.5544556</td><td>0.2293090</td><td>0.2269686</td></tr>\n",
       "\t<tr><td>-14.76083</td><td>18.96639</td><td>1</td><td>2000</td><td>1</td><td> 2</td><td> 6.515716</td><td> 6.332933</td><td> 6.969298</td><td>0.1957404</td><td>0.1997934</td><td>0.5749793</td><td>0.5656550</td><td>0.2291442</td><td>0.2344186</td></tr>\n",
       "\t<tr><td>-15.44028</td><td>20.64306</td><td>1</td><td>2000</td><td>1</td><td>17</td><td> 9.319436</td><td> 9.276956</td><td>11.089324</td><td>0.1344158</td><td>0.1405118</td><td>0.6536095</td><td>0.6509237</td><td>0.2119822</td><td>0.2085770</td></tr>\n",
       "\t<tr><td>-15.58278</td><td>20.85333</td><td>1</td><td>2000</td><td>1</td><td>16</td><td> 9.341120</td><td> 9.259498</td><td>11.697745</td><td>0.1424898</td><td>0.1469887</td><td>0.6479274</td><td>0.6469692</td><td>0.2095990</td><td>0.2060225</td></tr>\n",
       "\t<tr><td>-15.48306</td><td>20.59444</td><td>1</td><td>2000</td><td>1</td><td>14</td><td> 9.107726</td><td> 9.074269</td><td>10.909244</td><td>0.1345819</td><td>0.1403452</td><td>0.6509386</td><td>0.6474940</td><td>0.2144860</td><td>0.2121725</td></tr>\n",
       "\t<tr><td>-11.05639</td><td>25.47250</td><td>1</td><td>2000</td><td>1</td><td>12</td><td>11.407526</td><td>11.267804</td><td>12.192828</td><td>0.1635954</td><td>0.1557374</td><td>0.6096864</td><td>0.6164168</td><td>0.2267271</td><td>0.2278491</td></tr>\n",
       "\t<tr><td>-15.43361</td><td>20.59389</td><td>1</td><td>2000</td><td>1</td><td>12</td><td> 8.971724</td><td> 8.937010</td><td>10.684989</td><td>0.1345469</td><td>0.1405091</td><td>0.6523396</td><td>0.6494226</td><td>0.2131207</td><td>0.2100839</td></tr>\n",
       "\t<tr><td>-15.60167</td><td>20.86306</td><td>1</td><td>2000</td><td>1</td><td> 6</td><td> 9.353610</td><td> 9.268899</td><td>11.764984</td><td>0.1433194</td><td>0.1476657</td><td>0.6472426</td><td>0.6463960</td><td>0.2094563</td><td>0.2059162</td></tr>\n",
       "\t<tr><td>-16.03333</td><td>19.43333</td><td>1</td><td>2000</td><td>1</td><td> 5</td><td> 4.649342</td><td> 4.891929</td><td> 6.840271</td><td>0.1796133</td><td>0.1833093</td><td>0.5593265</td><td>0.5585482</td><td>0.2312920</td><td>0.2289976</td></tr>\n",
       "\t<tr><td>-16.00000</td><td>19.46667</td><td>1</td><td>2000</td><td>1</td><td> 5</td><td> 4.995105</td><td> 5.238616</td><td> 7.203553</td><td>0.1796492</td><td>0.1832044</td><td>0.5640744</td><td>0.5633490</td><td>0.2296451</td><td>0.2273576</td></tr>\n",
       "\t<tr><td>-15.41861</td><td>20.58417</td><td>1</td><td>2000</td><td>1</td><td> 3</td><td> 8.813143</td><td> 8.779607</td><td>10.493659</td><td>0.1347093</td><td>0.1406594</td><td>0.6522551</td><td>0.6494600</td><td>0.2130428</td><td>0.2098977</td></tr>\n",
       "\t<tr><td>-15.43722</td><td>20.60972</td><td>1</td><td>2000</td><td>1</td><td>22</td><td> 9.156696</td><td> 9.119384</td><td>10.886478</td><td>0.1342787</td><td>0.1403430</td><td>0.6530227</td><td>0.6501320</td><td>0.2127061</td><td>0.2095399</td></tr>\n",
       "\t<tr><td>-15.48417</td><td>20.60361</td><td>1</td><td>2000</td><td>1</td><td>14</td><td> 9.185939</td><td> 9.150795</td><td>10.995546</td><td>0.1344469</td><td>0.1402689</td><td>0.6512831</td><td>0.6478669</td><td>0.2142767</td><td>0.2118756</td></tr>\n",
       "\t<tr><td>-15.42361</td><td>20.65417</td><td>1</td><td>2000</td><td>1</td><td>19</td><td> 9.301100</td><td> 9.256903</td><td>11.055736</td><td>0.1345693</td><td>0.1407002</td><td>0.6541432</td><td>0.6517222</td><td>0.2112948</td><td>0.2075903</td></tr>\n",
       "\t<tr><td>-11.06583</td><td>25.34278</td><td>1</td><td>2000</td><td>1</td><td>18</td><td>11.200150</td><td>11.066052</td><td>11.978078</td><td>0.1608928</td><td>0.1535461</td><td>0.6187419</td><td>0.6245171</td><td>0.2203704</td><td>0.2219424</td></tr>\n",
       "\t<tr><td>  1.37500</td><td>15.37500</td><td>0</td><td>2000</td><td>1</td><td> 8</td><td> 2.972719</td><td> 2.730237</td><td> 2.533921</td><td>0.1836390</td><td>0.1893788</td><td>0.5336048</td><td>0.5295161</td><td>0.1399597</td><td>0.1390261</td></tr>\n",
       "\t<tr><td> -4.62500</td><td>14.62500</td><td>0</td><td>2000</td><td>1</td><td>28</td><td> 9.707812</td><td> 9.202325</td><td> 8.832659</td><td>0.2890172</td><td>0.2964602</td><td>0.4920011</td><td>0.4872985</td><td>0.2135601</td><td>0.2108154</td></tr>\n",
       "\t<tr><td> -7.12500</td><td>21.62500</td><td>0</td><td>2000</td><td>1</td><td>10</td><td> 2.000000</td><td> 2.437475</td><td> 3.502557</td><td>0.2493587</td><td>0.2478025</td><td>0.5767443</td><td>0.5790692</td><td>0.1739045</td><td>0.1731123</td></tr>\n",
       "\t<tr><td> -4.87500</td><td>22.12500</td><td>0</td><td>2000</td><td>1</td><td>10</td><td> 5.610485</td><td> 5.711587</td><td> 6.147966</td><td>0.2302589</td><td>0.2211134</td><td>0.5858581</td><td>0.5987991</td><td>0.1839229</td><td>0.1801052</td></tr>\n",
       "\t<tr><td> -4.62500</td><td>22.62500</td><td>0</td><td>2000</td><td>1</td><td> 1</td><td> 7.505188</td><td> 7.655150</td><td> 8.094159</td><td>0.2204410</td><td>0.2178283</td><td>0.5805619</td><td>0.5903037</td><td>0.1989789</td><td>0.1918645</td></tr>\n",
       "\t<tr><td>-12.12500</td><td>21.12500</td><td>0</td><td>2000</td><td>1</td><td> 9</td><td>14.218016</td><td>14.129063</td><td>15.261284</td><td>0.2059738</td><td>0.1995476</td><td>0.5548426</td><td>0.5586162</td><td>0.2391885</td><td>0.2418335</td></tr>\n",
       "\t<tr><td>-11.62500</td><td>21.62500</td><td>0</td><td>2000</td><td>1</td><td> 4</td><td> 2.774984</td><td> 2.759325</td><td> 4.070114</td><td>0.1910899</td><td>0.1924024</td><td>0.5752959</td><td>0.5757759</td><td>0.2336247</td><td>0.2318287</td></tr>\n",
       "\t<tr><td> -8.37500</td><td>19.12500</td><td>0</td><td>2000</td><td>1</td><td>17</td><td> 2.371484</td><td> 2.290987</td><td> 2.224705</td><td>0.2407629</td><td>0.2402108</td><td>0.6101309</td><td>0.6079378</td><td>0.1491052</td><td>0.1518468</td></tr>\n",
       "\t<tr><td>-10.12500</td><td>17.87500</td><td>0</td><td>2000</td><td>1</td><td>21</td><td> 4.931406</td><td> 4.775475</td><td> 4.729000</td><td>0.2418580</td><td>0.2405760</td><td>0.5382299</td><td>0.5469157</td><td>0.2199013</td><td>0.2125116</td></tr>\n",
       "\t<tr><td> -1.12500</td><td>17.87500</td><td>0</td><td>2000</td><td>1</td><td>13</td><td> 9.441235</td><td> 9.210100</td><td> 9.004545</td><td>0.3461639</td><td>0.3363680</td><td>0.4174303</td><td>0.4287263</td><td>0.2363973</td><td>0.2349073</td></tr>\n",
       "\t<tr><td> -1.12500</td><td>15.62500</td><td>0</td><td>2000</td><td>1</td><td>23</td><td>12.895047</td><td>11.603250</td><td>10.678022</td><td>0.2323464</td><td>0.2362863</td><td>0.6060830</td><td>0.6012298</td><td>0.1615771</td><td>0.1624887</td></tr>\n",
       "\t<tr><td>  3.62500</td><td>16.62500</td><td>0</td><td>2000</td><td>1</td><td>14</td><td>12.854375</td><td>12.541862</td><td>12.264148</td><td>0.3204480</td><td>0.3251764</td><td>0.4561631</td><td>0.4537696</td><td>0.2234182</td><td>0.2210661</td></tr>\n",
       "\t<tr><td> -1.87500</td><td>21.62500</td><td>0</td><td>2000</td><td>1</td><td>17</td><td> 6.065328</td><td> 6.270025</td><td> 6.510716</td><td>0.2565471</td><td>0.2569708</td><td>0.5610763</td><td>0.5646288</td><td>0.1823688</td><td>0.1784033</td></tr>\n",
       "\t<tr><td>⋮</td><td>⋮</td><td>⋮</td><td>⋮</td><td>⋮</td><td>⋮</td><td>⋮</td><td>⋮</td><td>⋮</td><td>⋮</td><td>⋮</td><td>⋮</td><td>⋮</td><td>⋮</td><td>⋮</td></tr>\n",
       "\t<tr><td>-14.70694</td><td>18.46306</td><td>1</td><td>2014</td><td>10</td><td>22</td><td>12.824729</td><td>10.250554</td><td> 8.466221</td><td>0.22216431</td><td>0.22816916</td><td>0.5709839</td><td>0.5669447</td><td>0.2068514</td><td>0.2048756</td></tr>\n",
       "\t<tr><td>-14.71083</td><td>18.48111</td><td>1</td><td>2014</td><td>10</td><td>22</td><td>13.240364</td><td>10.618102</td><td> 8.806762</td><td>0.22187255</td><td>0.22791522</td><td>0.5709628</td><td>0.5667411</td><td>0.2071635</td><td>0.2053314</td></tr>\n",
       "\t<tr><td>-14.66778</td><td>18.49500</td><td>1</td><td>2014</td><td>10</td><td>22</td><td>12.929258</td><td>10.336619</td><td> 8.528174</td><td>0.22191446</td><td>0.22787075</td><td>0.5716044</td><td>0.5670164</td><td>0.2064754</td><td>0.2051038</td></tr>\n",
       "\t<tr><td>-14.68278</td><td>18.48806</td><td>1</td><td>2014</td><td>10</td><td>30</td><td>12.973035</td><td>10.377733</td><td> 8.573062</td><td>0.22193462</td><td>0.22791996</td><td>0.5713726</td><td>0.5669374</td><td>0.2066889</td><td>0.2051326</td></tr>\n",
       "\t<tr><td>-13.79944</td><td>18.40917</td><td>1</td><td>2014</td><td>10</td><td>22</td><td> 6.047372</td><td> 4.905077</td><td> 4.007863</td><td>0.23382858</td><td>0.24912895</td><td>0.5836525</td><td>0.5691915</td><td>0.1825175</td><td>0.1816789</td></tr>\n",
       "\t<tr><td>-14.73361</td><td>18.46667</td><td>1</td><td>2014</td><td>10</td><td>31</td><td>13.347711</td><td>10.716155</td><td> 8.906003</td><td>0.22194342</td><td>0.22801224</td><td>0.5706261</td><td>0.5666708</td><td>0.2074320</td><td>0.2053034</td></tr>\n",
       "\t<tr><td>-14.66750</td><td>18.49444</td><td>1</td><td>2014</td><td>10</td><td>31</td><td>12.911847</td><td>10.321214</td><td> 8.513886</td><td>0.22192473</td><td>0.22787969</td><td>0.5716068</td><td>0.5670238</td><td>0.2064627</td><td>0.2050875</td></tr>\n",
       "\t<tr><td>-14.69278</td><td>18.49611</td><td>1</td><td>2014</td><td>10</td><td>31</td><td>13.289243</td><td>10.658407</td><td> 8.835973</td><td>0.22175401</td><td>0.22777520</td><td>0.5712484</td><td>0.5667711</td><td>0.2069940</td><td>0.2054421</td></tr>\n",
       "\t<tr><td>-14.73222</td><td>18.45806</td><td>1</td><td>2014</td><td>10</td><td>27</td><td>13.180905</td><td>10.568579</td><td> 8.768977</td><td>0.22207611</td><td>0.22812557</td><td>0.5706344</td><td>0.5667664</td><td>0.2072914</td><td>0.2050953</td></tr>\n",
       "\t<tr><td>-14.69250</td><td>18.49611</td><td>1</td><td>2014</td><td>10</td><td>27</td><td>13.285547</td><td>10.655099</td><td> 8.832799</td><td>0.22175560</td><td>0.22777608</td><td>0.5712524</td><td>0.5667737</td><td>0.2069884</td><td>0.2054387</td></tr>\n",
       "\t<tr><td>-14.71667</td><td>18.48389</td><td>1</td><td>2014</td><td>10</td><td>27</td><td>13.380321</td><td>10.742568</td><td> 8.924024</td><td>0.22179673</td><td>0.22785793</td><td>0.5708855</td><td>0.5666612</td><td>0.2073169</td><td>0.2054678</td></tr>\n",
       "\t<tr><td>-14.69639</td><td>18.48167</td><td>1</td><td>2014</td><td>10</td><td>24</td><td>13.033143</td><td>10.432950</td><td> 8.629976</td><td>0.22195089</td><td>0.22796025</td><td>0.5711663</td><td>0.5668691</td><td>0.2068804</td><td>0.2051597</td></tr>\n",
       "\t<tr><td>-14.69361</td><td>18.49611</td><td>1</td><td>2014</td><td>10</td><td>24</td><td>13.300332</td><td>10.668330</td><td> 8.845495</td><td>0.22174924</td><td>0.22777255</td><td>0.5712364</td><td>0.5667632</td><td>0.2070108</td><td>0.2054526</td></tr>\n",
       "\t<tr><td>-11.37500</td><td>15.62500</td><td>0</td><td>2014</td><td>10</td><td> 6</td><td>22.236462</td><td>21.920662</td><td>17.273785</td><td>0.17757114</td><td>0.19099840</td><td>0.6501642</td><td>0.6409078</td><td>0.1722661</td><td>0.1681052</td></tr>\n",
       "\t<tr><td> -8.12500</td><td>24.87500</td><td>0</td><td>2014</td><td>10</td><td>20</td><td>11.710450</td><td>10.717213</td><td>10.320307</td><td>0.20660895</td><td>0.21060037</td><td>0.5669718</td><td>0.5625237</td><td>0.2264302</td><td>0.2268917</td></tr>\n",
       "\t<tr><td>-15.62500</td><td>18.12500</td><td>0</td><td>2014</td><td>10</td><td>26</td><td> 6.656413</td><td> 5.080213</td><td> 4.076295</td><td>0.21904380</td><td>0.21575212</td><td>0.5507165</td><td>0.5564858</td><td>0.2293114</td><td>0.2268402</td></tr>\n",
       "\t<tr><td>-10.62500</td><td>12.62500</td><td>0</td><td>2014</td><td>10</td><td>14</td><td>30.347876</td><td>28.170738</td><td>26.577967</td><td>0.20582457</td><td>0.22493284</td><td>0.4337247</td><td>0.4257135</td><td>0.3604661</td><td>0.3493738</td></tr>\n",
       "\t<tr><td> -6.37500</td><td>10.87500</td><td>0</td><td>2014</td><td>10</td><td>28</td><td>31.484751</td><td>31.292400</td><td>29.117943</td><td>0.26112883</td><td>0.26488640</td><td>0.4652858</td><td>0.4538091</td><td>0.2734307</td><td>0.2811388</td></tr>\n",
       "\t<tr><td>-15.37500</td><td>20.87500</td><td>0</td><td>2014</td><td>10</td><td> 9</td><td> 9.587925</td><td> 9.069950</td><td> 8.732579</td><td>0.13769748</td><td>0.14330631</td><td>0.6549906</td><td>0.6546293</td><td>0.2073083</td><td>0.2020587</td></tr>\n",
       "\t<tr><td>-14.37500</td><td>20.12500</td><td>0</td><td>2014</td><td>10</td><td> 3</td><td> 5.830350</td><td> 5.179800</td><td> 4.807205</td><td>0.13637587</td><td>0.14088133</td><td>0.6034097</td><td>0.5974127</td><td>0.2602260</td><td>0.2617155</td></tr>\n",
       "\t<tr><td>-12.37500</td><td>17.12500</td><td>0</td><td>2014</td><td>10</td><td>18</td><td>16.656450</td><td>13.730038</td><td>11.586387</td><td>0.23706218</td><td>0.23612495</td><td>0.5108780</td><td>0.5113709</td><td>0.2515097</td><td>0.2519602</td></tr>\n",
       "\t<tr><td>-10.87500</td><td>16.87500</td><td>0</td><td>2014</td><td>10</td><td>24</td><td>19.451176</td><td>18.264362</td><td>14.566920</td><td>0.20179759</td><td>0.20750565</td><td>0.5749336</td><td>0.5761032</td><td>0.2222887</td><td>0.2154263</td></tr>\n",
       "\t<tr><td> -9.37500</td><td>15.62500</td><td>0</td><td>2014</td><td>10</td><td>13</td><td> 9.932537</td><td> 9.648012</td><td> 7.225670</td><td>0.14858208</td><td>0.15640196</td><td>0.7313612</td><td>0.7247514</td><td>0.1200791</td><td>0.1188395</td></tr>\n",
       "\t<tr><td> -9.12500</td><td>12.62500</td><td>0</td><td>2014</td><td>10</td><td>18</td><td>27.982338</td><td>25.766838</td><td>21.946171</td><td>0.17181504</td><td>0.19399666</td><td>0.3211359</td><td>0.3080710</td><td>0.3890647</td><td>0.3799513</td></tr>\n",
       "\t<tr><td> -4.12500</td><td>19.62500</td><td>0</td><td>2014</td><td>10</td><td> 3</td><td> 4.675625</td><td> 3.954525</td><td> 4.479352</td><td>0.25893704</td><td>0.25580561</td><td>0.5402180</td><td>0.5458740</td><td>0.2008404</td><td>0.1983173</td></tr>\n",
       "\t<tr><td> -8.12500</td><td>14.62500</td><td>0</td><td>2014</td><td>10</td><td> 8</td><td>12.211150</td><td>10.220875</td><td> 7.873386</td><td>0.15498191</td><td>0.16443620</td><td>0.6652264</td><td>0.6578302</td><td>0.1797814</td><td>0.1777396</td></tr>\n",
       "\t<tr><td> -8.87500</td><td>19.62500</td><td>0</td><td>2014</td><td>10</td><td> 5</td><td> 4.424037</td><td> 3.863200</td><td> 3.372636</td><td>0.23042020</td><td>0.22850198</td><td>0.6051086</td><td>0.6047847</td><td>0.1644891</td><td>0.1666972</td></tr>\n",
       "\t<tr><td> -8.62500</td><td>23.87500</td><td>0</td><td>2014</td><td>10</td><td> 4</td><td> 8.566788</td><td> 7.910987</td><td> 7.487170</td><td>0.28587236</td><td>0.27932569</td><td>0.4965368</td><td>0.5003037</td><td>0.2175981</td><td>0.2203792</td></tr>\n",
       "\t<tr><td> -4.62500</td><td>12.12500</td><td>0</td><td>2014</td><td>10</td><td>26</td><td>29.380775</td><td>28.246113</td><td>24.522125</td><td>0.07398199</td><td>0.07686629</td><td>0.2270402</td><td>0.2260971</td><td>0.1538788</td><td>0.1543533</td></tr>\n",
       "\t<tr><td>-13.76722</td><td>18.92333</td><td>1</td><td>2014</td><td>12</td><td>12</td><td> 3.115639</td><td> 2.884916</td><td> 2.703484</td><td>0.22090967</td><td>0.23417837</td><td>0.5753409</td><td>0.5662516</td><td>0.2036972</td><td>0.1995044</td></tr>\n",
       "</tbody>\n",
       "</table>\n"
      ],
      "text/latex": [
       "A data.frame: 16159 × 15\n",
       "\\begin{tabular}{lllllllllllllll}\n",
       " x & y & presence & year & month & day & SoilMoi0\\_10cm\\_inst\\_dekad1 & SoilMoi0\\_10cm\\_inst\\_dekad2 & SoilMoi0\\_10cm\\_inst\\_dekad3 & clay\\_0.5cm\\_mean & clay\\_5.15cm\\_mean & sand\\_0.5cm\\_mean & sand\\_5.15cm\\_mean & silt\\_0.5cm\\_mean & silt\\_5.15cm\\_mean\\\\\n",
       " <dbl> & <dbl> & <dbl> & <dbl> & <dbl> & <dbl> & <dbl> & <dbl> & <dbl> & <dbl> & <dbl> & <dbl> & <dbl> & <dbl> & <dbl>\\\\\n",
       "\\hline\n",
       "\t -15.45583 & 20.58194 & 1 & 2000 & 1 & 11 &  8.912033 &  8.880046 & 10.657040 & 0.1347601 & 0.1405453 & 0.6511468 & 0.6479411 & 0.2140997 & 0.2115278\\\\\n",
       "\t -10.93333 & 25.38333 & 1 & 2000 & 1 & 29 & 10.845142 & 10.790489 & 11.725162 & 0.1615377 & 0.1532316 & 0.6154153 & 0.6215836 & 0.2230543 & 0.2251888\\\\\n",
       "\t -16.04528 & 19.47111 & 1 & 2000 & 1 &  4 &  4.783819 &  5.027987 &  7.008550 & 0.1788870 & 0.1824752 & 0.5549563 & 0.5544556 & 0.2293090 & 0.2269686\\\\\n",
       "\t -14.76083 & 18.96639 & 1 & 2000 & 1 &  2 &  6.515716 &  6.332933 &  6.969298 & 0.1957404 & 0.1997934 & 0.5749793 & 0.5656550 & 0.2291442 & 0.2344186\\\\\n",
       "\t -15.44028 & 20.64306 & 1 & 2000 & 1 & 17 &  9.319436 &  9.276956 & 11.089324 & 0.1344158 & 0.1405118 & 0.6536095 & 0.6509237 & 0.2119822 & 0.2085770\\\\\n",
       "\t -15.58278 & 20.85333 & 1 & 2000 & 1 & 16 &  9.341120 &  9.259498 & 11.697745 & 0.1424898 & 0.1469887 & 0.6479274 & 0.6469692 & 0.2095990 & 0.2060225\\\\\n",
       "\t -15.48306 & 20.59444 & 1 & 2000 & 1 & 14 &  9.107726 &  9.074269 & 10.909244 & 0.1345819 & 0.1403452 & 0.6509386 & 0.6474940 & 0.2144860 & 0.2121725\\\\\n",
       "\t -11.05639 & 25.47250 & 1 & 2000 & 1 & 12 & 11.407526 & 11.267804 & 12.192828 & 0.1635954 & 0.1557374 & 0.6096864 & 0.6164168 & 0.2267271 & 0.2278491\\\\\n",
       "\t -15.43361 & 20.59389 & 1 & 2000 & 1 & 12 &  8.971724 &  8.937010 & 10.684989 & 0.1345469 & 0.1405091 & 0.6523396 & 0.6494226 & 0.2131207 & 0.2100839\\\\\n",
       "\t -15.60167 & 20.86306 & 1 & 2000 & 1 &  6 &  9.353610 &  9.268899 & 11.764984 & 0.1433194 & 0.1476657 & 0.6472426 & 0.6463960 & 0.2094563 & 0.2059162\\\\\n",
       "\t -16.03333 & 19.43333 & 1 & 2000 & 1 &  5 &  4.649342 &  4.891929 &  6.840271 & 0.1796133 & 0.1833093 & 0.5593265 & 0.5585482 & 0.2312920 & 0.2289976\\\\\n",
       "\t -16.00000 & 19.46667 & 1 & 2000 & 1 &  5 &  4.995105 &  5.238616 &  7.203553 & 0.1796492 & 0.1832044 & 0.5640744 & 0.5633490 & 0.2296451 & 0.2273576\\\\\n",
       "\t -15.41861 & 20.58417 & 1 & 2000 & 1 &  3 &  8.813143 &  8.779607 & 10.493659 & 0.1347093 & 0.1406594 & 0.6522551 & 0.6494600 & 0.2130428 & 0.2098977\\\\\n",
       "\t -15.43722 & 20.60972 & 1 & 2000 & 1 & 22 &  9.156696 &  9.119384 & 10.886478 & 0.1342787 & 0.1403430 & 0.6530227 & 0.6501320 & 0.2127061 & 0.2095399\\\\\n",
       "\t -15.48417 & 20.60361 & 1 & 2000 & 1 & 14 &  9.185939 &  9.150795 & 10.995546 & 0.1344469 & 0.1402689 & 0.6512831 & 0.6478669 & 0.2142767 & 0.2118756\\\\\n",
       "\t -15.42361 & 20.65417 & 1 & 2000 & 1 & 19 &  9.301100 &  9.256903 & 11.055736 & 0.1345693 & 0.1407002 & 0.6541432 & 0.6517222 & 0.2112948 & 0.2075903\\\\\n",
       "\t -11.06583 & 25.34278 & 1 & 2000 & 1 & 18 & 11.200150 & 11.066052 & 11.978078 & 0.1608928 & 0.1535461 & 0.6187419 & 0.6245171 & 0.2203704 & 0.2219424\\\\\n",
       "\t   1.37500 & 15.37500 & 0 & 2000 & 1 &  8 &  2.972719 &  2.730237 &  2.533921 & 0.1836390 & 0.1893788 & 0.5336048 & 0.5295161 & 0.1399597 & 0.1390261\\\\\n",
       "\t  -4.62500 & 14.62500 & 0 & 2000 & 1 & 28 &  9.707812 &  9.202325 &  8.832659 & 0.2890172 & 0.2964602 & 0.4920011 & 0.4872985 & 0.2135601 & 0.2108154\\\\\n",
       "\t  -7.12500 & 21.62500 & 0 & 2000 & 1 & 10 &  2.000000 &  2.437475 &  3.502557 & 0.2493587 & 0.2478025 & 0.5767443 & 0.5790692 & 0.1739045 & 0.1731123\\\\\n",
       "\t  -4.87500 & 22.12500 & 0 & 2000 & 1 & 10 &  5.610485 &  5.711587 &  6.147966 & 0.2302589 & 0.2211134 & 0.5858581 & 0.5987991 & 0.1839229 & 0.1801052\\\\\n",
       "\t  -4.62500 & 22.62500 & 0 & 2000 & 1 &  1 &  7.505188 &  7.655150 &  8.094159 & 0.2204410 & 0.2178283 & 0.5805619 & 0.5903037 & 0.1989789 & 0.1918645\\\\\n",
       "\t -12.12500 & 21.12500 & 0 & 2000 & 1 &  9 & 14.218016 & 14.129063 & 15.261284 & 0.2059738 & 0.1995476 & 0.5548426 & 0.5586162 & 0.2391885 & 0.2418335\\\\\n",
       "\t -11.62500 & 21.62500 & 0 & 2000 & 1 &  4 &  2.774984 &  2.759325 &  4.070114 & 0.1910899 & 0.1924024 & 0.5752959 & 0.5757759 & 0.2336247 & 0.2318287\\\\\n",
       "\t  -8.37500 & 19.12500 & 0 & 2000 & 1 & 17 &  2.371484 &  2.290987 &  2.224705 & 0.2407629 & 0.2402108 & 0.6101309 & 0.6079378 & 0.1491052 & 0.1518468\\\\\n",
       "\t -10.12500 & 17.87500 & 0 & 2000 & 1 & 21 &  4.931406 &  4.775475 &  4.729000 & 0.2418580 & 0.2405760 & 0.5382299 & 0.5469157 & 0.2199013 & 0.2125116\\\\\n",
       "\t  -1.12500 & 17.87500 & 0 & 2000 & 1 & 13 &  9.441235 &  9.210100 &  9.004545 & 0.3461639 & 0.3363680 & 0.4174303 & 0.4287263 & 0.2363973 & 0.2349073\\\\\n",
       "\t  -1.12500 & 15.62500 & 0 & 2000 & 1 & 23 & 12.895047 & 11.603250 & 10.678022 & 0.2323464 & 0.2362863 & 0.6060830 & 0.6012298 & 0.1615771 & 0.1624887\\\\\n",
       "\t   3.62500 & 16.62500 & 0 & 2000 & 1 & 14 & 12.854375 & 12.541862 & 12.264148 & 0.3204480 & 0.3251764 & 0.4561631 & 0.4537696 & 0.2234182 & 0.2210661\\\\\n",
       "\t  -1.87500 & 21.62500 & 0 & 2000 & 1 & 17 &  6.065328 &  6.270025 &  6.510716 & 0.2565471 & 0.2569708 & 0.5610763 & 0.5646288 & 0.1823688 & 0.1784033\\\\\n",
       "\t ⋮ & ⋮ & ⋮ & ⋮ & ⋮ & ⋮ & ⋮ & ⋮ & ⋮ & ⋮ & ⋮ & ⋮ & ⋮ & ⋮ & ⋮\\\\\n",
       "\t -14.70694 & 18.46306 & 1 & 2014 & 10 & 22 & 12.824729 & 10.250554 &  8.466221 & 0.22216431 & 0.22816916 & 0.5709839 & 0.5669447 & 0.2068514 & 0.2048756\\\\\n",
       "\t -14.71083 & 18.48111 & 1 & 2014 & 10 & 22 & 13.240364 & 10.618102 &  8.806762 & 0.22187255 & 0.22791522 & 0.5709628 & 0.5667411 & 0.2071635 & 0.2053314\\\\\n",
       "\t -14.66778 & 18.49500 & 1 & 2014 & 10 & 22 & 12.929258 & 10.336619 &  8.528174 & 0.22191446 & 0.22787075 & 0.5716044 & 0.5670164 & 0.2064754 & 0.2051038\\\\\n",
       "\t -14.68278 & 18.48806 & 1 & 2014 & 10 & 30 & 12.973035 & 10.377733 &  8.573062 & 0.22193462 & 0.22791996 & 0.5713726 & 0.5669374 & 0.2066889 & 0.2051326\\\\\n",
       "\t -13.79944 & 18.40917 & 1 & 2014 & 10 & 22 &  6.047372 &  4.905077 &  4.007863 & 0.23382858 & 0.24912895 & 0.5836525 & 0.5691915 & 0.1825175 & 0.1816789\\\\\n",
       "\t -14.73361 & 18.46667 & 1 & 2014 & 10 & 31 & 13.347711 & 10.716155 &  8.906003 & 0.22194342 & 0.22801224 & 0.5706261 & 0.5666708 & 0.2074320 & 0.2053034\\\\\n",
       "\t -14.66750 & 18.49444 & 1 & 2014 & 10 & 31 & 12.911847 & 10.321214 &  8.513886 & 0.22192473 & 0.22787969 & 0.5716068 & 0.5670238 & 0.2064627 & 0.2050875\\\\\n",
       "\t -14.69278 & 18.49611 & 1 & 2014 & 10 & 31 & 13.289243 & 10.658407 &  8.835973 & 0.22175401 & 0.22777520 & 0.5712484 & 0.5667711 & 0.2069940 & 0.2054421\\\\\n",
       "\t -14.73222 & 18.45806 & 1 & 2014 & 10 & 27 & 13.180905 & 10.568579 &  8.768977 & 0.22207611 & 0.22812557 & 0.5706344 & 0.5667664 & 0.2072914 & 0.2050953\\\\\n",
       "\t -14.69250 & 18.49611 & 1 & 2014 & 10 & 27 & 13.285547 & 10.655099 &  8.832799 & 0.22175560 & 0.22777608 & 0.5712524 & 0.5667737 & 0.2069884 & 0.2054387\\\\\n",
       "\t -14.71667 & 18.48389 & 1 & 2014 & 10 & 27 & 13.380321 & 10.742568 &  8.924024 & 0.22179673 & 0.22785793 & 0.5708855 & 0.5666612 & 0.2073169 & 0.2054678\\\\\n",
       "\t -14.69639 & 18.48167 & 1 & 2014 & 10 & 24 & 13.033143 & 10.432950 &  8.629976 & 0.22195089 & 0.22796025 & 0.5711663 & 0.5668691 & 0.2068804 & 0.2051597\\\\\n",
       "\t -14.69361 & 18.49611 & 1 & 2014 & 10 & 24 & 13.300332 & 10.668330 &  8.845495 & 0.22174924 & 0.22777255 & 0.5712364 & 0.5667632 & 0.2070108 & 0.2054526\\\\\n",
       "\t -11.37500 & 15.62500 & 0 & 2014 & 10 &  6 & 22.236462 & 21.920662 & 17.273785 & 0.17757114 & 0.19099840 & 0.6501642 & 0.6409078 & 0.1722661 & 0.1681052\\\\\n",
       "\t  -8.12500 & 24.87500 & 0 & 2014 & 10 & 20 & 11.710450 & 10.717213 & 10.320307 & 0.20660895 & 0.21060037 & 0.5669718 & 0.5625237 & 0.2264302 & 0.2268917\\\\\n",
       "\t -15.62500 & 18.12500 & 0 & 2014 & 10 & 26 &  6.656413 &  5.080213 &  4.076295 & 0.21904380 & 0.21575212 & 0.5507165 & 0.5564858 & 0.2293114 & 0.2268402\\\\\n",
       "\t -10.62500 & 12.62500 & 0 & 2014 & 10 & 14 & 30.347876 & 28.170738 & 26.577967 & 0.20582457 & 0.22493284 & 0.4337247 & 0.4257135 & 0.3604661 & 0.3493738\\\\\n",
       "\t  -6.37500 & 10.87500 & 0 & 2014 & 10 & 28 & 31.484751 & 31.292400 & 29.117943 & 0.26112883 & 0.26488640 & 0.4652858 & 0.4538091 & 0.2734307 & 0.2811388\\\\\n",
       "\t -15.37500 & 20.87500 & 0 & 2014 & 10 &  9 &  9.587925 &  9.069950 &  8.732579 & 0.13769748 & 0.14330631 & 0.6549906 & 0.6546293 & 0.2073083 & 0.2020587\\\\\n",
       "\t -14.37500 & 20.12500 & 0 & 2014 & 10 &  3 &  5.830350 &  5.179800 &  4.807205 & 0.13637587 & 0.14088133 & 0.6034097 & 0.5974127 & 0.2602260 & 0.2617155\\\\\n",
       "\t -12.37500 & 17.12500 & 0 & 2014 & 10 & 18 & 16.656450 & 13.730038 & 11.586387 & 0.23706218 & 0.23612495 & 0.5108780 & 0.5113709 & 0.2515097 & 0.2519602\\\\\n",
       "\t -10.87500 & 16.87500 & 0 & 2014 & 10 & 24 & 19.451176 & 18.264362 & 14.566920 & 0.20179759 & 0.20750565 & 0.5749336 & 0.5761032 & 0.2222887 & 0.2154263\\\\\n",
       "\t  -9.37500 & 15.62500 & 0 & 2014 & 10 & 13 &  9.932537 &  9.648012 &  7.225670 & 0.14858208 & 0.15640196 & 0.7313612 & 0.7247514 & 0.1200791 & 0.1188395\\\\\n",
       "\t  -9.12500 & 12.62500 & 0 & 2014 & 10 & 18 & 27.982338 & 25.766838 & 21.946171 & 0.17181504 & 0.19399666 & 0.3211359 & 0.3080710 & 0.3890647 & 0.3799513\\\\\n",
       "\t  -4.12500 & 19.62500 & 0 & 2014 & 10 &  3 &  4.675625 &  3.954525 &  4.479352 & 0.25893704 & 0.25580561 & 0.5402180 & 0.5458740 & 0.2008404 & 0.1983173\\\\\n",
       "\t  -8.12500 & 14.62500 & 0 & 2014 & 10 &  8 & 12.211150 & 10.220875 &  7.873386 & 0.15498191 & 0.16443620 & 0.6652264 & 0.6578302 & 0.1797814 & 0.1777396\\\\\n",
       "\t  -8.87500 & 19.62500 & 0 & 2014 & 10 &  5 &  4.424037 &  3.863200 &  3.372636 & 0.23042020 & 0.22850198 & 0.6051086 & 0.6047847 & 0.1644891 & 0.1666972\\\\\n",
       "\t  -8.62500 & 23.87500 & 0 & 2014 & 10 &  4 &  8.566788 &  7.910987 &  7.487170 & 0.28587236 & 0.27932569 & 0.4965368 & 0.5003037 & 0.2175981 & 0.2203792\\\\\n",
       "\t  -4.62500 & 12.12500 & 0 & 2014 & 10 & 26 & 29.380775 & 28.246113 & 24.522125 & 0.07398199 & 0.07686629 & 0.2270402 & 0.2260971 & 0.1538788 & 0.1543533\\\\\n",
       "\t -13.76722 & 18.92333 & 1 & 2014 & 12 & 12 &  3.115639 &  2.884916 &  2.703484 & 0.22090967 & 0.23417837 & 0.5753409 & 0.5662516 & 0.2036972 & 0.1995044\\\\\n",
       "\\end{tabular}\n"
      ],
      "text/markdown": [
       "\n",
       "A data.frame: 16159 × 15\n",
       "\n",
       "| x &lt;dbl&gt; | y &lt;dbl&gt; | presence &lt;dbl&gt; | year &lt;dbl&gt; | month &lt;dbl&gt; | day &lt;dbl&gt; | SoilMoi0_10cm_inst_dekad1 &lt;dbl&gt; | SoilMoi0_10cm_inst_dekad2 &lt;dbl&gt; | SoilMoi0_10cm_inst_dekad3 &lt;dbl&gt; | clay_0.5cm_mean &lt;dbl&gt; | clay_5.15cm_mean &lt;dbl&gt; | sand_0.5cm_mean &lt;dbl&gt; | sand_5.15cm_mean &lt;dbl&gt; | silt_0.5cm_mean &lt;dbl&gt; | silt_5.15cm_mean &lt;dbl&gt; |\n",
       "|---|---|---|---|---|---|---|---|---|---|---|---|---|---|---|\n",
       "| -15.45583 | 20.58194 | 1 | 2000 | 1 | 11 |  8.912033 |  8.880046 | 10.657040 | 0.1347601 | 0.1405453 | 0.6511468 | 0.6479411 | 0.2140997 | 0.2115278 |\n",
       "| -10.93333 | 25.38333 | 1 | 2000 | 1 | 29 | 10.845142 | 10.790489 | 11.725162 | 0.1615377 | 0.1532316 | 0.6154153 | 0.6215836 | 0.2230543 | 0.2251888 |\n",
       "| -16.04528 | 19.47111 | 1 | 2000 | 1 |  4 |  4.783819 |  5.027987 |  7.008550 | 0.1788870 | 0.1824752 | 0.5549563 | 0.5544556 | 0.2293090 | 0.2269686 |\n",
       "| -14.76083 | 18.96639 | 1 | 2000 | 1 |  2 |  6.515716 |  6.332933 |  6.969298 | 0.1957404 | 0.1997934 | 0.5749793 | 0.5656550 | 0.2291442 | 0.2344186 |\n",
       "| -15.44028 | 20.64306 | 1 | 2000 | 1 | 17 |  9.319436 |  9.276956 | 11.089324 | 0.1344158 | 0.1405118 | 0.6536095 | 0.6509237 | 0.2119822 | 0.2085770 |\n",
       "| -15.58278 | 20.85333 | 1 | 2000 | 1 | 16 |  9.341120 |  9.259498 | 11.697745 | 0.1424898 | 0.1469887 | 0.6479274 | 0.6469692 | 0.2095990 | 0.2060225 |\n",
       "| -15.48306 | 20.59444 | 1 | 2000 | 1 | 14 |  9.107726 |  9.074269 | 10.909244 | 0.1345819 | 0.1403452 | 0.6509386 | 0.6474940 | 0.2144860 | 0.2121725 |\n",
       "| -11.05639 | 25.47250 | 1 | 2000 | 1 | 12 | 11.407526 | 11.267804 | 12.192828 | 0.1635954 | 0.1557374 | 0.6096864 | 0.6164168 | 0.2267271 | 0.2278491 |\n",
       "| -15.43361 | 20.59389 | 1 | 2000 | 1 | 12 |  8.971724 |  8.937010 | 10.684989 | 0.1345469 | 0.1405091 | 0.6523396 | 0.6494226 | 0.2131207 | 0.2100839 |\n",
       "| -15.60167 | 20.86306 | 1 | 2000 | 1 |  6 |  9.353610 |  9.268899 | 11.764984 | 0.1433194 | 0.1476657 | 0.6472426 | 0.6463960 | 0.2094563 | 0.2059162 |\n",
       "| -16.03333 | 19.43333 | 1 | 2000 | 1 |  5 |  4.649342 |  4.891929 |  6.840271 | 0.1796133 | 0.1833093 | 0.5593265 | 0.5585482 | 0.2312920 | 0.2289976 |\n",
       "| -16.00000 | 19.46667 | 1 | 2000 | 1 |  5 |  4.995105 |  5.238616 |  7.203553 | 0.1796492 | 0.1832044 | 0.5640744 | 0.5633490 | 0.2296451 | 0.2273576 |\n",
       "| -15.41861 | 20.58417 | 1 | 2000 | 1 |  3 |  8.813143 |  8.779607 | 10.493659 | 0.1347093 | 0.1406594 | 0.6522551 | 0.6494600 | 0.2130428 | 0.2098977 |\n",
       "| -15.43722 | 20.60972 | 1 | 2000 | 1 | 22 |  9.156696 |  9.119384 | 10.886478 | 0.1342787 | 0.1403430 | 0.6530227 | 0.6501320 | 0.2127061 | 0.2095399 |\n",
       "| -15.48417 | 20.60361 | 1 | 2000 | 1 | 14 |  9.185939 |  9.150795 | 10.995546 | 0.1344469 | 0.1402689 | 0.6512831 | 0.6478669 | 0.2142767 | 0.2118756 |\n",
       "| -15.42361 | 20.65417 | 1 | 2000 | 1 | 19 |  9.301100 |  9.256903 | 11.055736 | 0.1345693 | 0.1407002 | 0.6541432 | 0.6517222 | 0.2112948 | 0.2075903 |\n",
       "| -11.06583 | 25.34278 | 1 | 2000 | 1 | 18 | 11.200150 | 11.066052 | 11.978078 | 0.1608928 | 0.1535461 | 0.6187419 | 0.6245171 | 0.2203704 | 0.2219424 |\n",
       "|   1.37500 | 15.37500 | 0 | 2000 | 1 |  8 |  2.972719 |  2.730237 |  2.533921 | 0.1836390 | 0.1893788 | 0.5336048 | 0.5295161 | 0.1399597 | 0.1390261 |\n",
       "|  -4.62500 | 14.62500 | 0 | 2000 | 1 | 28 |  9.707812 |  9.202325 |  8.832659 | 0.2890172 | 0.2964602 | 0.4920011 | 0.4872985 | 0.2135601 | 0.2108154 |\n",
       "|  -7.12500 | 21.62500 | 0 | 2000 | 1 | 10 |  2.000000 |  2.437475 |  3.502557 | 0.2493587 | 0.2478025 | 0.5767443 | 0.5790692 | 0.1739045 | 0.1731123 |\n",
       "|  -4.87500 | 22.12500 | 0 | 2000 | 1 | 10 |  5.610485 |  5.711587 |  6.147966 | 0.2302589 | 0.2211134 | 0.5858581 | 0.5987991 | 0.1839229 | 0.1801052 |\n",
       "|  -4.62500 | 22.62500 | 0 | 2000 | 1 |  1 |  7.505188 |  7.655150 |  8.094159 | 0.2204410 | 0.2178283 | 0.5805619 | 0.5903037 | 0.1989789 | 0.1918645 |\n",
       "| -12.12500 | 21.12500 | 0 | 2000 | 1 |  9 | 14.218016 | 14.129063 | 15.261284 | 0.2059738 | 0.1995476 | 0.5548426 | 0.5586162 | 0.2391885 | 0.2418335 |\n",
       "| -11.62500 | 21.62500 | 0 | 2000 | 1 |  4 |  2.774984 |  2.759325 |  4.070114 | 0.1910899 | 0.1924024 | 0.5752959 | 0.5757759 | 0.2336247 | 0.2318287 |\n",
       "|  -8.37500 | 19.12500 | 0 | 2000 | 1 | 17 |  2.371484 |  2.290987 |  2.224705 | 0.2407629 | 0.2402108 | 0.6101309 | 0.6079378 | 0.1491052 | 0.1518468 |\n",
       "| -10.12500 | 17.87500 | 0 | 2000 | 1 | 21 |  4.931406 |  4.775475 |  4.729000 | 0.2418580 | 0.2405760 | 0.5382299 | 0.5469157 | 0.2199013 | 0.2125116 |\n",
       "|  -1.12500 | 17.87500 | 0 | 2000 | 1 | 13 |  9.441235 |  9.210100 |  9.004545 | 0.3461639 | 0.3363680 | 0.4174303 | 0.4287263 | 0.2363973 | 0.2349073 |\n",
       "|  -1.12500 | 15.62500 | 0 | 2000 | 1 | 23 | 12.895047 | 11.603250 | 10.678022 | 0.2323464 | 0.2362863 | 0.6060830 | 0.6012298 | 0.1615771 | 0.1624887 |\n",
       "|   3.62500 | 16.62500 | 0 | 2000 | 1 | 14 | 12.854375 | 12.541862 | 12.264148 | 0.3204480 | 0.3251764 | 0.4561631 | 0.4537696 | 0.2234182 | 0.2210661 |\n",
       "|  -1.87500 | 21.62500 | 0 | 2000 | 1 | 17 |  6.065328 |  6.270025 |  6.510716 | 0.2565471 | 0.2569708 | 0.5610763 | 0.5646288 | 0.1823688 | 0.1784033 |\n",
       "| ⋮ | ⋮ | ⋮ | ⋮ | ⋮ | ⋮ | ⋮ | ⋮ | ⋮ | ⋮ | ⋮ | ⋮ | ⋮ | ⋮ | ⋮ |\n",
       "| -14.70694 | 18.46306 | 1 | 2014 | 10 | 22 | 12.824729 | 10.250554 |  8.466221 | 0.22216431 | 0.22816916 | 0.5709839 | 0.5669447 | 0.2068514 | 0.2048756 |\n",
       "| -14.71083 | 18.48111 | 1 | 2014 | 10 | 22 | 13.240364 | 10.618102 |  8.806762 | 0.22187255 | 0.22791522 | 0.5709628 | 0.5667411 | 0.2071635 | 0.2053314 |\n",
       "| -14.66778 | 18.49500 | 1 | 2014 | 10 | 22 | 12.929258 | 10.336619 |  8.528174 | 0.22191446 | 0.22787075 | 0.5716044 | 0.5670164 | 0.2064754 | 0.2051038 |\n",
       "| -14.68278 | 18.48806 | 1 | 2014 | 10 | 30 | 12.973035 | 10.377733 |  8.573062 | 0.22193462 | 0.22791996 | 0.5713726 | 0.5669374 | 0.2066889 | 0.2051326 |\n",
       "| -13.79944 | 18.40917 | 1 | 2014 | 10 | 22 |  6.047372 |  4.905077 |  4.007863 | 0.23382858 | 0.24912895 | 0.5836525 | 0.5691915 | 0.1825175 | 0.1816789 |\n",
       "| -14.73361 | 18.46667 | 1 | 2014 | 10 | 31 | 13.347711 | 10.716155 |  8.906003 | 0.22194342 | 0.22801224 | 0.5706261 | 0.5666708 | 0.2074320 | 0.2053034 |\n",
       "| -14.66750 | 18.49444 | 1 | 2014 | 10 | 31 | 12.911847 | 10.321214 |  8.513886 | 0.22192473 | 0.22787969 | 0.5716068 | 0.5670238 | 0.2064627 | 0.2050875 |\n",
       "| -14.69278 | 18.49611 | 1 | 2014 | 10 | 31 | 13.289243 | 10.658407 |  8.835973 | 0.22175401 | 0.22777520 | 0.5712484 | 0.5667711 | 0.2069940 | 0.2054421 |\n",
       "| -14.73222 | 18.45806 | 1 | 2014 | 10 | 27 | 13.180905 | 10.568579 |  8.768977 | 0.22207611 | 0.22812557 | 0.5706344 | 0.5667664 | 0.2072914 | 0.2050953 |\n",
       "| -14.69250 | 18.49611 | 1 | 2014 | 10 | 27 | 13.285547 | 10.655099 |  8.832799 | 0.22175560 | 0.22777608 | 0.5712524 | 0.5667737 | 0.2069884 | 0.2054387 |\n",
       "| -14.71667 | 18.48389 | 1 | 2014 | 10 | 27 | 13.380321 | 10.742568 |  8.924024 | 0.22179673 | 0.22785793 | 0.5708855 | 0.5666612 | 0.2073169 | 0.2054678 |\n",
       "| -14.69639 | 18.48167 | 1 | 2014 | 10 | 24 | 13.033143 | 10.432950 |  8.629976 | 0.22195089 | 0.22796025 | 0.5711663 | 0.5668691 | 0.2068804 | 0.2051597 |\n",
       "| -14.69361 | 18.49611 | 1 | 2014 | 10 | 24 | 13.300332 | 10.668330 |  8.845495 | 0.22174924 | 0.22777255 | 0.5712364 | 0.5667632 | 0.2070108 | 0.2054526 |\n",
       "| -11.37500 | 15.62500 | 0 | 2014 | 10 |  6 | 22.236462 | 21.920662 | 17.273785 | 0.17757114 | 0.19099840 | 0.6501642 | 0.6409078 | 0.1722661 | 0.1681052 |\n",
       "|  -8.12500 | 24.87500 | 0 | 2014 | 10 | 20 | 11.710450 | 10.717213 | 10.320307 | 0.20660895 | 0.21060037 | 0.5669718 | 0.5625237 | 0.2264302 | 0.2268917 |\n",
       "| -15.62500 | 18.12500 | 0 | 2014 | 10 | 26 |  6.656413 |  5.080213 |  4.076295 | 0.21904380 | 0.21575212 | 0.5507165 | 0.5564858 | 0.2293114 | 0.2268402 |\n",
       "| -10.62500 | 12.62500 | 0 | 2014 | 10 | 14 | 30.347876 | 28.170738 | 26.577967 | 0.20582457 | 0.22493284 | 0.4337247 | 0.4257135 | 0.3604661 | 0.3493738 |\n",
       "|  -6.37500 | 10.87500 | 0 | 2014 | 10 | 28 | 31.484751 | 31.292400 | 29.117943 | 0.26112883 | 0.26488640 | 0.4652858 | 0.4538091 | 0.2734307 | 0.2811388 |\n",
       "| -15.37500 | 20.87500 | 0 | 2014 | 10 |  9 |  9.587925 |  9.069950 |  8.732579 | 0.13769748 | 0.14330631 | 0.6549906 | 0.6546293 | 0.2073083 | 0.2020587 |\n",
       "| -14.37500 | 20.12500 | 0 | 2014 | 10 |  3 |  5.830350 |  5.179800 |  4.807205 | 0.13637587 | 0.14088133 | 0.6034097 | 0.5974127 | 0.2602260 | 0.2617155 |\n",
       "| -12.37500 | 17.12500 | 0 | 2014 | 10 | 18 | 16.656450 | 13.730038 | 11.586387 | 0.23706218 | 0.23612495 | 0.5108780 | 0.5113709 | 0.2515097 | 0.2519602 |\n",
       "| -10.87500 | 16.87500 | 0 | 2014 | 10 | 24 | 19.451176 | 18.264362 | 14.566920 | 0.20179759 | 0.20750565 | 0.5749336 | 0.5761032 | 0.2222887 | 0.2154263 |\n",
       "|  -9.37500 | 15.62500 | 0 | 2014 | 10 | 13 |  9.932537 |  9.648012 |  7.225670 | 0.14858208 | 0.15640196 | 0.7313612 | 0.7247514 | 0.1200791 | 0.1188395 |\n",
       "|  -9.12500 | 12.62500 | 0 | 2014 | 10 | 18 | 27.982338 | 25.766838 | 21.946171 | 0.17181504 | 0.19399666 | 0.3211359 | 0.3080710 | 0.3890647 | 0.3799513 |\n",
       "|  -4.12500 | 19.62500 | 0 | 2014 | 10 |  3 |  4.675625 |  3.954525 |  4.479352 | 0.25893704 | 0.25580561 | 0.5402180 | 0.5458740 | 0.2008404 | 0.1983173 |\n",
       "|  -8.12500 | 14.62500 | 0 | 2014 | 10 |  8 | 12.211150 | 10.220875 |  7.873386 | 0.15498191 | 0.16443620 | 0.6652264 | 0.6578302 | 0.1797814 | 0.1777396 |\n",
       "|  -8.87500 | 19.62500 | 0 | 2014 | 10 |  5 |  4.424037 |  3.863200 |  3.372636 | 0.23042020 | 0.22850198 | 0.6051086 | 0.6047847 | 0.1644891 | 0.1666972 |\n",
       "|  -8.62500 | 23.87500 | 0 | 2014 | 10 |  4 |  8.566788 |  7.910987 |  7.487170 | 0.28587236 | 0.27932569 | 0.4965368 | 0.5003037 | 0.2175981 | 0.2203792 |\n",
       "|  -4.62500 | 12.12500 | 0 | 2014 | 10 | 26 | 29.380775 | 28.246113 | 24.522125 | 0.07398199 | 0.07686629 | 0.2270402 | 0.2260971 | 0.1538788 | 0.1543533 |\n",
       "| -13.76722 | 18.92333 | 1 | 2014 | 12 | 12 |  3.115639 |  2.884916 |  2.703484 | 0.22090967 | 0.23417837 | 0.5753409 | 0.5662516 | 0.2036972 | 0.1995044 |\n",
       "\n"
      ],
      "text/plain": [
       "      x         y        presence year month day SoilMoi0_10cm_inst_dekad1\n",
       "1     -15.45583 20.58194 1        2000 1     11   8.912033                \n",
       "2     -10.93333 25.38333 1        2000 1     29  10.845142                \n",
       "3     -16.04528 19.47111 1        2000 1      4   4.783819                \n",
       "4     -14.76083 18.96639 1        2000 1      2   6.515716                \n",
       "5     -15.44028 20.64306 1        2000 1     17   9.319436                \n",
       "6     -15.58278 20.85333 1        2000 1     16   9.341120                \n",
       "7     -15.48306 20.59444 1        2000 1     14   9.107726                \n",
       "8     -11.05639 25.47250 1        2000 1     12  11.407526                \n",
       "9     -15.43361 20.59389 1        2000 1     12   8.971724                \n",
       "10    -15.60167 20.86306 1        2000 1      6   9.353610                \n",
       "11    -16.03333 19.43333 1        2000 1      5   4.649342                \n",
       "12    -16.00000 19.46667 1        2000 1      5   4.995105                \n",
       "13    -15.41861 20.58417 1        2000 1      3   8.813143                \n",
       "14    -15.43722 20.60972 1        2000 1     22   9.156696                \n",
       "15    -15.48417 20.60361 1        2000 1     14   9.185939                \n",
       "16    -15.42361 20.65417 1        2000 1     19   9.301100                \n",
       "17    -11.06583 25.34278 1        2000 1     18  11.200150                \n",
       "18      1.37500 15.37500 0        2000 1      8   2.972719                \n",
       "19     -4.62500 14.62500 0        2000 1     28   9.707812                \n",
       "20     -7.12500 21.62500 0        2000 1     10   2.000000                \n",
       "21     -4.87500 22.12500 0        2000 1     10   5.610485                \n",
       "22     -4.62500 22.62500 0        2000 1      1   7.505188                \n",
       "23    -12.12500 21.12500 0        2000 1      9  14.218016                \n",
       "24    -11.62500 21.62500 0        2000 1      4   2.774984                \n",
       "25     -8.37500 19.12500 0        2000 1     17   2.371484                \n",
       "26    -10.12500 17.87500 0        2000 1     21   4.931406                \n",
       "27     -1.12500 17.87500 0        2000 1     13   9.441235                \n",
       "28     -1.12500 15.62500 0        2000 1     23  12.895047                \n",
       "29      3.62500 16.62500 0        2000 1     14  12.854375                \n",
       "30     -1.87500 21.62500 0        2000 1     17   6.065328                \n",
       "⋮     ⋮         ⋮        ⋮        ⋮    ⋮     ⋮   ⋮                        \n",
       "16130 -14.70694 18.46306 1        2014 10    22  12.824729                \n",
       "16131 -14.71083 18.48111 1        2014 10    22  13.240364                \n",
       "16132 -14.66778 18.49500 1        2014 10    22  12.929258                \n",
       "16133 -14.68278 18.48806 1        2014 10    30  12.973035                \n",
       "16134 -13.79944 18.40917 1        2014 10    22   6.047372                \n",
       "16135 -14.73361 18.46667 1        2014 10    31  13.347711                \n",
       "16136 -14.66750 18.49444 1        2014 10    31  12.911847                \n",
       "16137 -14.69278 18.49611 1        2014 10    31  13.289243                \n",
       "16138 -14.73222 18.45806 1        2014 10    27  13.180905                \n",
       "16139 -14.69250 18.49611 1        2014 10    27  13.285547                \n",
       "16140 -14.71667 18.48389 1        2014 10    27  13.380321                \n",
       "16141 -14.69639 18.48167 1        2014 10    24  13.033143                \n",
       "16142 -14.69361 18.49611 1        2014 10    24  13.300332                \n",
       "16143 -11.37500 15.62500 0        2014 10     6  22.236462                \n",
       "16144  -8.12500 24.87500 0        2014 10    20  11.710450                \n",
       "16145 -15.62500 18.12500 0        2014 10    26   6.656413                \n",
       "16146 -10.62500 12.62500 0        2014 10    14  30.347876                \n",
       "16147  -6.37500 10.87500 0        2014 10    28  31.484751                \n",
       "16148 -15.37500 20.87500 0        2014 10     9   9.587925                \n",
       "16149 -14.37500 20.12500 0        2014 10     3   5.830350                \n",
       "16150 -12.37500 17.12500 0        2014 10    18  16.656450                \n",
       "16151 -10.87500 16.87500 0        2014 10    24  19.451176                \n",
       "16152  -9.37500 15.62500 0        2014 10    13   9.932537                \n",
       "16153  -9.12500 12.62500 0        2014 10    18  27.982338                \n",
       "16154  -4.12500 19.62500 0        2014 10     3   4.675625                \n",
       "16155  -8.12500 14.62500 0        2014 10     8  12.211150                \n",
       "16156  -8.87500 19.62500 0        2014 10     5   4.424037                \n",
       "16157  -8.62500 23.87500 0        2014 10     4   8.566788                \n",
       "16158  -4.62500 12.12500 0        2014 10    26  29.380775                \n",
       "16159 -13.76722 18.92333 1        2014 12    12   3.115639                \n",
       "      SoilMoi0_10cm_inst_dekad2 SoilMoi0_10cm_inst_dekad3 clay_0.5cm_mean\n",
       "1      8.880046                 10.657040                 0.1347601      \n",
       "2     10.790489                 11.725162                 0.1615377      \n",
       "3      5.027987                  7.008550                 0.1788870      \n",
       "4      6.332933                  6.969298                 0.1957404      \n",
       "5      9.276956                 11.089324                 0.1344158      \n",
       "6      9.259498                 11.697745                 0.1424898      \n",
       "7      9.074269                 10.909244                 0.1345819      \n",
       "8     11.267804                 12.192828                 0.1635954      \n",
       "9      8.937010                 10.684989                 0.1345469      \n",
       "10     9.268899                 11.764984                 0.1433194      \n",
       "11     4.891929                  6.840271                 0.1796133      \n",
       "12     5.238616                  7.203553                 0.1796492      \n",
       "13     8.779607                 10.493659                 0.1347093      \n",
       "14     9.119384                 10.886478                 0.1342787      \n",
       "15     9.150795                 10.995546                 0.1344469      \n",
       "16     9.256903                 11.055736                 0.1345693      \n",
       "17    11.066052                 11.978078                 0.1608928      \n",
       "18     2.730237                  2.533921                 0.1836390      \n",
       "19     9.202325                  8.832659                 0.2890172      \n",
       "20     2.437475                  3.502557                 0.2493587      \n",
       "21     5.711587                  6.147966                 0.2302589      \n",
       "22     7.655150                  8.094159                 0.2204410      \n",
       "23    14.129063                 15.261284                 0.2059738      \n",
       "24     2.759325                  4.070114                 0.1910899      \n",
       "25     2.290987                  2.224705                 0.2407629      \n",
       "26     4.775475                  4.729000                 0.2418580      \n",
       "27     9.210100                  9.004545                 0.3461639      \n",
       "28    11.603250                 10.678022                 0.2323464      \n",
       "29    12.541862                 12.264148                 0.3204480      \n",
       "30     6.270025                  6.510716                 0.2565471      \n",
       "⋮     ⋮                         ⋮                         ⋮              \n",
       "16130 10.250554                  8.466221                 0.22216431     \n",
       "16131 10.618102                  8.806762                 0.22187255     \n",
       "16132 10.336619                  8.528174                 0.22191446     \n",
       "16133 10.377733                  8.573062                 0.22193462     \n",
       "16134  4.905077                  4.007863                 0.23382858     \n",
       "16135 10.716155                  8.906003                 0.22194342     \n",
       "16136 10.321214                  8.513886                 0.22192473     \n",
       "16137 10.658407                  8.835973                 0.22175401     \n",
       "16138 10.568579                  8.768977                 0.22207611     \n",
       "16139 10.655099                  8.832799                 0.22175560     \n",
       "16140 10.742568                  8.924024                 0.22179673     \n",
       "16141 10.432950                  8.629976                 0.22195089     \n",
       "16142 10.668330                  8.845495                 0.22174924     \n",
       "16143 21.920662                 17.273785                 0.17757114     \n",
       "16144 10.717213                 10.320307                 0.20660895     \n",
       "16145  5.080213                  4.076295                 0.21904380     \n",
       "16146 28.170738                 26.577967                 0.20582457     \n",
       "16147 31.292400                 29.117943                 0.26112883     \n",
       "16148  9.069950                  8.732579                 0.13769748     \n",
       "16149  5.179800                  4.807205                 0.13637587     \n",
       "16150 13.730038                 11.586387                 0.23706218     \n",
       "16151 18.264362                 14.566920                 0.20179759     \n",
       "16152  9.648012                  7.225670                 0.14858208     \n",
       "16153 25.766838                 21.946171                 0.17181504     \n",
       "16154  3.954525                  4.479352                 0.25893704     \n",
       "16155 10.220875                  7.873386                 0.15498191     \n",
       "16156  3.863200                  3.372636                 0.23042020     \n",
       "16157  7.910987                  7.487170                 0.28587236     \n",
       "16158 28.246113                 24.522125                 0.07398199     \n",
       "16159  2.884916                  2.703484                 0.22090967     \n",
       "      clay_5.15cm_mean sand_0.5cm_mean sand_5.15cm_mean silt_0.5cm_mean\n",
       "1     0.1405453        0.6511468       0.6479411        0.2140997      \n",
       "2     0.1532316        0.6154153       0.6215836        0.2230543      \n",
       "3     0.1824752        0.5549563       0.5544556        0.2293090      \n",
       "4     0.1997934        0.5749793       0.5656550        0.2291442      \n",
       "5     0.1405118        0.6536095       0.6509237        0.2119822      \n",
       "6     0.1469887        0.6479274       0.6469692        0.2095990      \n",
       "7     0.1403452        0.6509386       0.6474940        0.2144860      \n",
       "8     0.1557374        0.6096864       0.6164168        0.2267271      \n",
       "9     0.1405091        0.6523396       0.6494226        0.2131207      \n",
       "10    0.1476657        0.6472426       0.6463960        0.2094563      \n",
       "11    0.1833093        0.5593265       0.5585482        0.2312920      \n",
       "12    0.1832044        0.5640744       0.5633490        0.2296451      \n",
       "13    0.1406594        0.6522551       0.6494600        0.2130428      \n",
       "14    0.1403430        0.6530227       0.6501320        0.2127061      \n",
       "15    0.1402689        0.6512831       0.6478669        0.2142767      \n",
       "16    0.1407002        0.6541432       0.6517222        0.2112948      \n",
       "17    0.1535461        0.6187419       0.6245171        0.2203704      \n",
       "18    0.1893788        0.5336048       0.5295161        0.1399597      \n",
       "19    0.2964602        0.4920011       0.4872985        0.2135601      \n",
       "20    0.2478025        0.5767443       0.5790692        0.1739045      \n",
       "21    0.2211134        0.5858581       0.5987991        0.1839229      \n",
       "22    0.2178283        0.5805619       0.5903037        0.1989789      \n",
       "23    0.1995476        0.5548426       0.5586162        0.2391885      \n",
       "24    0.1924024        0.5752959       0.5757759        0.2336247      \n",
       "25    0.2402108        0.6101309       0.6079378        0.1491052      \n",
       "26    0.2405760        0.5382299       0.5469157        0.2199013      \n",
       "27    0.3363680        0.4174303       0.4287263        0.2363973      \n",
       "28    0.2362863        0.6060830       0.6012298        0.1615771      \n",
       "29    0.3251764        0.4561631       0.4537696        0.2234182      \n",
       "30    0.2569708        0.5610763       0.5646288        0.1823688      \n",
       "⋮     ⋮                ⋮               ⋮                ⋮              \n",
       "16130 0.22816916       0.5709839       0.5669447        0.2068514      \n",
       "16131 0.22791522       0.5709628       0.5667411        0.2071635      \n",
       "16132 0.22787075       0.5716044       0.5670164        0.2064754      \n",
       "16133 0.22791996       0.5713726       0.5669374        0.2066889      \n",
       "16134 0.24912895       0.5836525       0.5691915        0.1825175      \n",
       "16135 0.22801224       0.5706261       0.5666708        0.2074320      \n",
       "16136 0.22787969       0.5716068       0.5670238        0.2064627      \n",
       "16137 0.22777520       0.5712484       0.5667711        0.2069940      \n",
       "16138 0.22812557       0.5706344       0.5667664        0.2072914      \n",
       "16139 0.22777608       0.5712524       0.5667737        0.2069884      \n",
       "16140 0.22785793       0.5708855       0.5666612        0.2073169      \n",
       "16141 0.22796025       0.5711663       0.5668691        0.2068804      \n",
       "16142 0.22777255       0.5712364       0.5667632        0.2070108      \n",
       "16143 0.19099840       0.6501642       0.6409078        0.1722661      \n",
       "16144 0.21060037       0.5669718       0.5625237        0.2264302      \n",
       "16145 0.21575212       0.5507165       0.5564858        0.2293114      \n",
       "16146 0.22493284       0.4337247       0.4257135        0.3604661      \n",
       "16147 0.26488640       0.4652858       0.4538091        0.2734307      \n",
       "16148 0.14330631       0.6549906       0.6546293        0.2073083      \n",
       "16149 0.14088133       0.6034097       0.5974127        0.2602260      \n",
       "16150 0.23612495       0.5108780       0.5113709        0.2515097      \n",
       "16151 0.20750565       0.5749336       0.5761032        0.2222887      \n",
       "16152 0.15640196       0.7313612       0.7247514        0.1200791      \n",
       "16153 0.19399666       0.3211359       0.3080710        0.3890647      \n",
       "16154 0.25580561       0.5402180       0.5458740        0.2008404      \n",
       "16155 0.16443620       0.6652264       0.6578302        0.1797814      \n",
       "16156 0.22850198       0.6051086       0.6047847        0.1644891      \n",
       "16157 0.27932569       0.4965368       0.5003037        0.2175981      \n",
       "16158 0.07686629       0.2270402       0.2260971        0.1538788      \n",
       "16159 0.23417837       0.5753409       0.5662516        0.2036972      \n",
       "      silt_5.15cm_mean\n",
       "1     0.2115278       \n",
       "2     0.2251888       \n",
       "3     0.2269686       \n",
       "4     0.2344186       \n",
       "5     0.2085770       \n",
       "6     0.2060225       \n",
       "7     0.2121725       \n",
       "8     0.2278491       \n",
       "9     0.2100839       \n",
       "10    0.2059162       \n",
       "11    0.2289976       \n",
       "12    0.2273576       \n",
       "13    0.2098977       \n",
       "14    0.2095399       \n",
       "15    0.2118756       \n",
       "16    0.2075903       \n",
       "17    0.2219424       \n",
       "18    0.1390261       \n",
       "19    0.2108154       \n",
       "20    0.1731123       \n",
       "21    0.1801052       \n",
       "22    0.1918645       \n",
       "23    0.2418335       \n",
       "24    0.2318287       \n",
       "25    0.1518468       \n",
       "26    0.2125116       \n",
       "27    0.2349073       \n",
       "28    0.1624887       \n",
       "29    0.2210661       \n",
       "30    0.1784033       \n",
       "⋮     ⋮               \n",
       "16130 0.2048756       \n",
       "16131 0.2053314       \n",
       "16132 0.2051038       \n",
       "16133 0.2051326       \n",
       "16134 0.1816789       \n",
       "16135 0.2053034       \n",
       "16136 0.2050875       \n",
       "16137 0.2054421       \n",
       "16138 0.2050953       \n",
       "16139 0.2054387       \n",
       "16140 0.2054678       \n",
       "16141 0.2051597       \n",
       "16142 0.2054526       \n",
       "16143 0.1681052       \n",
       "16144 0.2268917       \n",
       "16145 0.2268402       \n",
       "16146 0.3493738       \n",
       "16147 0.2811388       \n",
       "16148 0.2020587       \n",
       "16149 0.2617155       \n",
       "16150 0.2519602       \n",
       "16151 0.2154263       \n",
       "16152 0.1188395       \n",
       "16153 0.3799513       \n",
       "16154 0.1983173       \n",
       "16155 0.1777396       \n",
       "16156 0.1666972       \n",
       "16157 0.2203792       \n",
       "16158 0.1543533       \n",
       "16159 0.1995044       "
      ]
     },
     "metadata": {},
     "output_type": "display_data"
    }
   ],
   "source": [
    "write.csv(train_val_gen,'train_val_random_v1.csv')\n",
    "train_val_gen"
   ]
  },
  {
   "cell_type": "code",
   "execution_count": null,
   "metadata": {},
   "outputs": [],
   "source": []
  },
  {
   "cell_type": "markdown",
   "metadata": {},
   "source": [
    "### Generate with Environmental Profiling + Random"
   ]
  },
  {
   "cell_type": "code",
   "execution_count": null,
   "metadata": {},
   "outputs": [],
   "source": [
    "train_val_gen <- nasa_pa_generation(basePath, train_val_subset, as.numeric(unique(train_val_subset$yearmonth)), 'ep_random', env_profilers)"
   ]
  },
  {
   "cell_type": "code",
   "execution_count": null,
   "metadata": {},
   "outputs": [],
   "source": [
    "test_gen <- nasa_pa_generation(basePath, test_subset, as.numeric(unique(test_subset$yearmonth)), 'ep_random', env_profilers)"
   ]
  },
  {
   "cell_type": "code",
   "execution_count": null,
   "metadata": {},
   "outputs": [],
   "source": [
    "write.csv(train_val_gen,'train_val_gen_ep_random_v1.csv')\n",
    "write.csv(test_gen,'test_ep_random_v1.csv')"
   ]
  },
  {
   "cell_type": "markdown",
   "metadata": {},
   "source": [
    "### Generate with Environmental Profiling + KMeans"
   ]
  },
  {
   "cell_type": "code",
   "execution_count": null,
   "metadata": {},
   "outputs": [],
   "source": [
    "train_val_gen <- nasa_pa_generation(basePath, train_val_subset, as.numeric(unique(train_val_subset$yearmonth)), 'ep_kmeans', env_profilers)"
   ]
  },
  {
   "cell_type": "code",
   "execution_count": null,
   "metadata": {},
   "outputs": [],
   "source": [
    "test_gen <- nasa_pa_generation(basePath, test_subset, as.numeric(unique(test_subset$yearmonth)), 'ep_kmeans', env_profilers)"
   ]
  },
  {
   "cell_type": "code",
   "execution_count": null,
   "metadata": {},
   "outputs": [],
   "source": [
    "write.csv(train_val_gen,'train_val_gen_ep_kmeans_v1.csv')\n",
    "write.csv(test_gen,'test_ep_kmeans_v1.csv')"
   ]
  }
 ],
 "metadata": {
  "kernelspec": {
   "display_name": "R",
   "language": "R",
   "name": "ir"
  },
  "language_info": {
   "codemirror_mode": "r",
   "file_extension": ".r",
   "mimetype": "text/x-r-source",
   "name": "R",
   "pygments_lexer": "r",
   "version": "3.6.3"
  }
 },
 "nbformat": 4,
 "nbformat_minor": 4
}
