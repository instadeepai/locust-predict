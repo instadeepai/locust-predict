{
 "cells": [
  {
   "cell_type": "markdown",
   "metadata": {},
   "source": [
    "# Pseudo-Absence Generation\n",
    "\n",
    "In this notebook pseudo-absence data is generated using the techniques described in this [paper](https://www.sciencedirect.com/science/article/abs/pii/S030438001500215X)\n"
   ]
  },
  {
   "cell_type": "code",
   "execution_count": null,
   "metadata": {},
   "outputs": [],
   "source": [
    "# install packages\n",
    "\n",
    "# install.packages('comprehenr')\n",
    "# install.packages(\"raster\", dependencies=TRUE)\n",
    "# install.packages('stringr')\n",
    "# install.packages('ncdf4')\n",
    "# install.packages('dplyr')"
   ]
  },
  {
   "cell_type": "code",
   "execution_count": null,
   "metadata": {},
   "outputs": [],
   "source": [
    "library(raster)\n",
    "library(ncdf4)\n",
    "library(rgdal)\n",
    "library(comprehenr)\n",
    "library(glue)\n",
    "library(stringr)\n",
    "library(mopa)\n",
    "library(dplyr)\n",
    "library(parallel)\n",
    "library(MASS)"
   ]
  },
  {
   "cell_type": "code",
   "execution_count": null,
   "metadata": {},
   "outputs": [],
   "source": [
    "env_profilers <- list(\n",
    "    'SoilMoi0_10cm_inst'\n",
    ")"
   ]
  },
  {
   "cell_type": "code",
   "execution_count": null,
   "metadata": {},
   "outputs": [],
   "source": [
    "get_countrySPDF <- function(country)\n",
    "{\n",
    "    if (typeof(country) == 'list'){\n",
    "        countrySPDF <- getData(\"GADM\",country=country[[1]],level=0) \n",
    "        for (country_ in tail(country, -1)){\n",
    "            countrySPDF <- raster::bind(countrySPDF, getData(\"GADM\",country=country_[[1]],level=0))\n",
    "        }\n",
    "    } else if (typeof(country) == 'character'){\n",
    "        countrySPDF <- getData(\"GADM\",country=country,level=0)\n",
    "    }\n",
    "    return(countrySPDF)\n",
    "}\n",
    "\n",
    "\n",
    "cropCountry <- function(baseRaster, country)\n",
    "{\n",
    "    countrySPDF <- get_countrySPDF(country)\n",
    "    croppedRaster <- mask(crop(baseRaster, extent(countrySPDF)), countrySPDF)\n",
    "    return(croppedRaster)\n",
    "}\n",
    "\n",
    "\n",
    "aggregateSM_NASA <- function(year, month, basePath, env_profilers){\n",
    "    base_name <- glue(\"{basePath}/GLDAS_NOAH025_3H.A{year}{str_pad(month, width=2, pad='0')}\")\n",
    "    dekad1 <- unlist(to_list(for (day in 1:10) Sys.glob(glue(\"{base_name}{sprintf('%02d', day)}*.nc4\"))))\n",
    "    dekad2 <- unlist(to_list(for (day in 11:20) Sys.glob(glue(\"{base_name}{sprintf('%02d', day)}*.nc4\"))))\n",
    "    dekad3 <- unlist(to_list(for (day in 21:31) Sys.glob(glue(\"{base_name}{sprintf('%02d', day)}*.nc4\"))))\n",
    "    \n",
    "    dekad1_stacks <- list()\n",
    "    dekad2_stacks <- list()\n",
    "    dekad3_stacks <- list()\n",
    "    i <- 1\n",
    "    for (env_variable in env_profilers){\n",
    "        dekad1_stacks[[i]] <- calc(stack(dekad1, varname=env_variable), mean)\n",
    "        dekad2_stacks[[i]] <- calc(stack(dekad2, varname=env_variable), mean)\n",
    "        dekad3_stacks[[i]] <- calc(stack(dekad3, varname=env_variable), mean)\n",
    "        i <- i + 1\n",
    "    }\n",
    "    dekad1_stacks <- stack(dekad1_stacks)\n",
    "    names(dekad1_stacks) <- paste0(env_profilers, \"_dekad1\")\n",
    "    dekad2_stacks <- stack(dekad2_stacks)\n",
    "    names(dekad2_stacks) <- paste0(env_profilers, \"_dekad2\")\n",
    "    dekad3_stacks <- stack(dekad3_stacks)\n",
    "    names(dekad3_stacks) <- paste0(env_profilers, \"_dekad3\")\n",
    "    \n",
    "    sm <- stack(dekad1_stacks, dekad2_stacks, dekad3_stacks)\n",
    "    return(sm)\n",
    "}\n",
    "                          \n",
    "subsetCountry <- function(country, data){\n",
    "    countrySPDF <- get_countrySPDF(country)\n",
    "    locs <- data.frame(x=data$X, y=data$Y)\n",
    "    coordinates(locs) <- c(\"x\",\"y\")\n",
    "    projection(locs) <- CRS(\"+proj=longlat +init=epsg:4326\")\n",
    "    projection(countrySPDF) <- CRS(\"+proj=longlat +init=epsg:4326\")\n",
    "    countryID <- over(locs, countrySPDF)\n",
    "    data_subset <- data\n",
    "    data_subset['country'] <- countryID$NAME_0\n",
    "    \n",
    "    if (typeof(country) == 'list'){\n",
    "        data_subset <- data_subset[data_subset$country %in% country,]\n",
    "    } else if (typeof(country) == 'character'){\n",
    "        data_subset <- data_subset[data_subset$country == country,]\n",
    "    }\n",
    "    \n",
    "    return(data_subset)\n",
    "}\n",
    "\n",
    "finalize_data2 <- function(pa_generation, data){\n",
    "    final_data <- data.frame(x=pa_generation$x, y=pa_generation$y, presence=pa_generation$v, method=pa_generation$method)\n",
    "    final_data['year'] = data$year\n",
    "    final_data['month'] = data$month\n",
    "    final_data['day'] = 0    \n",
    "    final_data[final_data$presence != 0, 'day'] <- data$day\n",
    "    \n",
    "    if (length(final_data[final_data$presence == 0, 'day']) > 0){\n",
    "        random_days <- sampleInt(28, length(final_data[final_data$presence == 0, 'day']), replace=TRUE)\n",
    "        final_data[final_data$presence == 0, 'day'] <- random_days\n",
    "\n",
    "    }\n",
    "    return(final_data)\n",
    "}\n",
    "                             \n",
    "extract_values <- function(locs, raster_data){\n",
    "    sp <- SpatialPoints(locs)\n",
    "    data <- extract(raster_data, sp, method='bilinear')\n",
    "    return(data)\n",
    "}\n",
    "                             \n",
    "clean_chunks <- function(datachunks){\n",
    "    data <- list()\n",
    "    i <- 1\n",
    "    \n",
    "    for (chunk in datachunks){\n",
    "        if (class(chunk) == 'data.frame'){\n",
    "            data[[i]] <- chunk\n",
    "            i <- i+1\n",
    "        }\n",
    "    }\n",
    "    return(data)\n",
    "}"
   ]
  },
  {
   "cell_type": "code",
   "execution_count": null,
   "metadata": {},
   "outputs": [],
   "source": [
    "get_soil_profile <- function(basePath) {\n",
    "    clay0_5 <- raster(glue('{basePath}/clay_0-5cm_mean.tif'))\n",
    "    clay5_15 <- raster(glue('{basePath}/clay_5-15cm_mean.tif'))\n",
    "    sand0_5 <- raster(glue('{basePath}/sand_0-5cm_mean.tif'))\n",
    "    sand5_15 <- raster(glue('{basePath}/sand_5-15cm_mean.tif'))\n",
    "    silt0_5 <- raster(glue('{basePath}/silt_0-5cm_mean.tif'))\n",
    "    silt5_15 <- raster(glue('{basePath}/silt_5-15cm_mean.tif'))\n",
    "    soil_profile <- stack(c(clay0_5, clay5_15, sand0_5, sand5_15, silt0_5, silt5_15))\n",
    "    return(soil_profile)\n",
    "}"
   ]
  },
  {
   "cell_type": "code",
   "execution_count": null,
   "metadata": {},
   "outputs": [],
   "source": [
    "dataset <- read.csv(file = 'Hoppers.csv')\n",
    "date <- as.POSIXct(dataset[['STARTDATE']], format = \"%Y/%m/%d %H:%M:%S\")\n",
    "dataset[['yearmonth']] <- format(date, format=\"%Y%m\")\n",
    "dataset[['year']] <- as.numeric(format(date, format=\"%Y\"))\n",
    "dataset[['month']] <- as.numeric(format(date, format=\"%m\"))\n",
    "dataset[['day']] <- as.numeric(format(date, format=\"%d\"))\n",
    "head(dataset)"
   ]
  },
  {
   "cell_type": "code",
   "execution_count": null,
   "metadata": {},
   "outputs": [],
   "source": [
    "train_val <- dataset[((dataset$year >= 2000) & (dataset$year < 2015)),]\n",
    "test <- dataset[(dataset$year >= 2015), ]"
   ]
  },
  {
   "cell_type": "code",
   "execution_count": null,
   "metadata": {},
   "outputs": [],
   "source": [
    "unique(train_val$year)"
   ]
  },
  {
   "cell_type": "code",
   "execution_count": null,
   "metadata": {},
   "outputs": [],
   "source": [
    "unique(test$year)"
   ]
  },
  {
   "cell_type": "code",
   "execution_count": null,
   "metadata": {},
   "outputs": [],
   "source": [
    "countries = ccodes()\n",
    "african_countries <- countries[countries$continent == 'Africa',]$NAME\n",
    "print(african_countries)"
   ]
  },
  {
   "cell_type": "code",
   "execution_count": null,
   "metadata": {},
   "outputs": [],
   "source": [
    "country <- as.list(african_countries)\n",
    "soil_profile <- get_soil_profile('isric_soilprofile_datasets')\n",
    "train_val_subset <- subsetCountry(country, train_val)\n",
    "test_subset <- subsetCountry(country, test)"
   ]
  },
  {
   "cell_type": "code",
   "execution_count": null,
   "metadata": {},
   "outputs": [],
   "source": [
    "unique(train_val_subset$country)"
   ]
  },
  {
   "cell_type": "code",
   "execution_count": null,
   "metadata": {},
   "outputs": [],
   "source": [
    "unique(test_subset$country)"
   ]
  },
  {
   "cell_type": "code",
   "execution_count": null,
   "metadata": {},
   "outputs": [],
   "source": [
    "nasa_pa_generation <- function(yearmonth){\n",
    "    print(yearmonth)\n",
    "    no_generation_limit <- 400 # do generation only when there is at least 400 observations for a yearmonth\n",
    "\n",
    "    month <- yearmonth %% 100\n",
    "    year <- yearmonth %/% 100\n",
    "\n",
    "    success <- FALSE\n",
    "    tryCatch({\n",
    "        sm <- cropCountry(aggregateSM_NASA(year, month, basePath, env_profilers), country)\n",
    "        env_data <- sm \n",
    "        success <- TRUE\n",
    "    }, error = function(e){\n",
    "        print(paste('Error: ', e))\n",
    "    })\n",
    "    if (! success) next\n",
    "\n",
    "    data_subset <- country_data[(country_data$yearmonth == as.character(yearmonth)),]\n",
    "    presence <- data_subset[(data_subset$LOCPRESENT == 1),]\n",
    "    true_absence <- data_subset[(data_subset$LOCPRESENT == 2),]\n",
    "    geo_locs <- data.frame(x=presence$X, y=presence$Y)\n",
    "    geo_locs_len <- dim(geo_locs)[1]\n",
    "    bg <- backgroundGrid(env_data)\n",
    "\n",
    "    success <- FALSE\n",
    "    dataset <- list()\n",
    "    i <- 1\n",
    "    tryCatch({\n",
    "        for (method in c('random', \"ep_random\", 'random+', \"ep_random+\")){\n",
    "\n",
    "            if (geo_locs_len >= 1) {\n",
    "                if (method == 'random'){\n",
    "                    if (geo_locs_len <= no_generation_limit){\n",
    "                        random_generated_data <- geo_locs\n",
    "                        random_generated_data['v'] = 1\n",
    "                        random_generated_data['method'] = method\n",
    "                    } else{\n",
    "                        random_generated_data <-pseudoAbsences(xy = geo_locs, background = bg$xy, \n",
    "                                       exclusion.buffer = 0.083*3, \n",
    "                                       prevalence = 0.5, kmeans = FALSE)\n",
    "                        random_generated_data <- data.frame(x=random_generated_data$species1$PA01[[1]]$x, y=random_generated_data$species1$PA01[[1]]$y, v=random_generated_data$species1$PA01[[1]]$v)\n",
    "                        random_generated_data['method'] = method\n",
    "                    }\n",
    "                    dataset[[i]] <- random_generated_data\n",
    "                    i <- i+1\n",
    "                }\n",
    "                \n",
    "                else if (method == 'random+'){\n",
    "                    if (geo_locs_len <= no_generation_limit){\n",
    "                        random_generated_data <- geo_locs\n",
    "                        random_generated_data['v'] = 1\n",
    "                        random_generated_data['method'] = method\n",
    "                    } else{\n",
    "                        bg_extents <- backgroundRadius(xy = geo_locs, background = bg$xy, \n",
    "                               start = 0.083*3, by = 0.083*3, \n",
    "                               unit = \"decimal degrees\")\n",
    "                        random_plus_generated_data <-pseudoAbsences(xy = geo_locs, background = bg_extents, \n",
    "                                       exclusion.buffer = 0.083*3, \n",
    "                                       prevalence = 0.5, kmeans = FALSE)\n",
    "                        random_plus_generated_data <- data.frame(x=random_plus_generated_data$species1$PA01[[1]]$x, y=random_plus_generated_data$species1$PA01[[1]]$y, v=random_plus_generated_data$species1$PA01[[1]]$v)\n",
    "                        random_plus_generated_data['method'] = method\n",
    "                    }\n",
    "                    dataset[[i]] <- random_plus_generated_data\n",
    "                    i <- i+1\n",
    "                }\n",
    "                \n",
    "                else if (method == \"ep_random\"){\n",
    "                    if (geo_locs_len <= no_generation_limit){\n",
    "                        ep_random_generated_data <- geo_locs\n",
    "                        ep_random_generated_data['v'] = 1\n",
    "                        ep_random_generated_data['method'] = method\n",
    "                    }\n",
    "\n",
    "                    else {\n",
    "                        bg_profiled <- OCSVMprofiling(xy = geo_locs, \n",
    "                                        varstack = calc(raster::subset(env_data, c('SoilMoi0_10cm_inst_dekad1', 'SoilMoi0_10cm_inst_dekad2', 'SoilMoi0_10cm_inst_dekad3')), mean), \n",
    "                                        background = bg$xy)\n",
    "                        # generate data using environmental profiling\n",
    "                        ep_random_generated_data <-pseudoAbsences(xy = geo_locs, background = bg_profiled$absence, \n",
    "                                           exclusion.buffer = 0.083*3, \n",
    "                                           prevalence = 0.5, kmeans = FALSE)\n",
    "                        ep_random_generated_data <- data.frame(x=ep_random_generated_data$species1$PA01[[1]]$x, y=ep_random_generated_data$species1$PA01[[1]]$y, v=ep_random_generated_data$species1$PA01[[1]]$v)\n",
    "                        ep_random_generated_data['method'] = method\n",
    "                    }\n",
    "                    dataset[[i]] <- ep_random_generated_data\n",
    "                    i <- i+1\n",
    "                }\n",
    "                else if (method == \"ep_random+\"){\n",
    "                    if (geo_locs_len <= no_generation_limit){\n",
    "                        ep_random_generated_data <- geo_locs\n",
    "                        ep_random_generated_data['v'] = 1\n",
    "                        ep_random_generated_data['method'] = method\n",
    "                    }\n",
    "\n",
    "                    else {\n",
    "                        bg_profiled <- OCSVMprofiling(xy = geo_locs, \n",
    "                                        varstack = calc(raster::subset(env_data, c('SoilMoi0_10cm_inst_dekad1', 'SoilMoi0_10cm_inst_dekad2', 'SoilMoi0_10cm_inst_dekad3')), mean), \n",
    "                                        background = bg$xy)\n",
    "                        bg_extents <- backgroundRadius(xy = geo_locs, background = bg_profiled$absence, \n",
    "                               start = 0.083*3, by = 0.083*3, \n",
    "                               unit = \"decimal degrees\")\n",
    "                        # generate data using environmental profiling\n",
    "                        ep_random_plus_generated_data <-pseudoAbsences(xy = geo_locs, background = bg_extents, \n",
    "                                           exclusion.buffer = 0.083*3, \n",
    "                                           prevalence = 0.5, kmeans = FALSE)\n",
    "                        ep_random_plus_generated_data <- data.frame(x=ep_random_plus_generated_data$species1$PA01[[1]]$x, y=ep_random_plus_generated_data$species1$PA01[[1]]$y, v=ep_random_plus_generated_data$species1$PA01[[1]]$v)\n",
    "                        ep_random_plus_generated_data['method'] = method\n",
    "                    }\n",
    "                    dataset[[i]] <- ep_random_plus_generated_data\n",
    "                    i <- i+1\n",
    "                }\n",
    "            }  \n",
    "            success <- TRUE\n",
    "        }\n",
    "    }, error = function(e){\n",
    "        print(paste('Error: ', e))\n",
    "\n",
    "    })\n",
    "    generated_data <- dplyr::bind_rows(clean_chunks(dataset))\n",
    "    if (success){\n",
    "        generated_data <- finalize_data2(generated_data, presence)\n",
    "        true_absence_geo_locs <- data.frame(x=true_absence$X, y=true_absence$Y)\n",
    "        if (dim(true_absence_geo_locs)[1] > 0){\n",
    "            true_absence_geo_locs['v'] = 2\n",
    "            true_absence_geo_locs['method'] = 'true_absence'\n",
    "            true_absence <- finalize_data2(true_absence_geo_locs, true_absence)\n",
    "            final_data <- dplyr::bind_rows(generated_data, true_absence)\n",
    "        } else {\n",
    "            final_data <- generated_data\n",
    "        }\n",
    "        raster_data <- extract_values(data.frame(x=final_data$x, y=final_data$y), env_data)\n",
    "        final_data <- cbind(final_data, raster_data)\n",
    "        pf <- extract(soil_profile, data.frame(x=final_data$x, y=final_data$y))\n",
    "        final_data <- dplyr::bind_cols(final_data, data.frame(pf))\n",
    "        return(final_data)\n",
    "    }\n",
    "}"
   ]
  },
  {
   "cell_type": "code",
   "execution_count": null,
   "metadata": {},
   "outputs": [],
   "source": [
    "# path to NASA NOAH Dataset\n",
    "basePath <- '/mnt/disks/nasa/NASA'"
   ]
  },
  {
   "cell_type": "markdown",
   "metadata": {},
   "source": [
    "### Generate All Data"
   ]
  },
  {
   "cell_type": "markdown",
   "metadata": {},
   "source": [
    "### Test with a single yearmonth"
   ]
  },
  {
   "cell_type": "code",
   "execution_count": null,
   "metadata": {
    "scrolled": true
   },
   "outputs": [],
   "source": [
    "country_data <- train_val_subset\n",
    "sample <- nasa_pa_generation(200311)"
   ]
  },
  {
   "cell_type": "code",
   "execution_count": null,
   "metadata": {
    "scrolled": true
   },
   "outputs": [],
   "source": [
    "sample"
   ]
  },
  {
   "cell_type": "code",
   "execution_count": null,
   "metadata": {},
   "outputs": [],
   "source": [
    "unique(sample$method)"
   ]
  },
  {
   "cell_type": "markdown",
   "metadata": {},
   "source": [
    "### Generate for test"
   ]
  },
  {
   "cell_type": "code",
   "execution_count": null,
   "metadata": {},
   "outputs": [],
   "source": [
    "country_data <- test_subset\n",
    "yearmonths <- as.numeric(unique(test_subset$yearmonth))\n",
    "\n",
    "system.time(\n",
    "  dataframe_chunks1 <- mclapply(yearmonths, nasa_pa_generation2, mc.cores = 7)\n",
    ")\n",
    "\n",
    "test_gen <- dplyr::bind_rows(clean_chunks(dataframe_chunks1))"
   ]
  },
  {
   "cell_type": "code",
   "execution_count": null,
   "metadata": {},
   "outputs": [],
   "source": [
    "write.csv(test_gen,'test_gen.csv')"
   ]
  },
  {
   "cell_type": "markdown",
   "metadata": {},
   "source": [
    "### Generate for train"
   ]
  },
  {
   "cell_type": "code",
   "execution_count": null,
   "metadata": {},
   "outputs": [],
   "source": [
    "country_data <- train_val_subset\n",
    "yearmonths <- as.numeric(unique(train_val_subset$yearmonth))\n",
    "\n",
    "system.time(\n",
    "  dataframe_chunks2 <- mclapply(yearmonths, nasa_pa_generation2, mc.cores = 7)\n",
    ")\n",
    "train_val_gen <- dplyr::bind_rows(clean_chunks(dataframe_chunks2))"
   ]
  },
  {
   "cell_type": "code",
   "execution_count": null,
   "metadata": {},
   "outputs": [],
   "source": [
    "write.csv(train_val_gen,'train_val_gen.csv')"
   ]
  }
 ],
 "metadata": {
  "kernelspec": {
   "display_name": "R",
   "language": "R",
   "name": "ir"
  },
  "language_info": {
   "codemirror_mode": "r",
   "file_extension": ".r",
   "mimetype": "text/x-r-source",
   "name": "R",
   "pygments_lexer": "r",
   "version": "3.6.3"
  }
 },
 "nbformat": 4,
 "nbformat_minor": 4
}
