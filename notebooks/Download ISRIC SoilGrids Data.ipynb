{
 "cells": [
  {
   "cell_type": "markdown",
   "metadata": {},
   "source": [
    "# Download ISRIC SoilGrids Dataset with GDAL"
   ]
  },
  {
   "cell_type": "markdown",
   "metadata": {},
   "source": [
    "Refer [here](https://gdal.org/download.html) for installation of GDAL"
   ]
  },
  {
   "cell_type": "markdown",
   "metadata": {},
   "source": [
    "# Sand 0-5 cm"
   ]
  },
  {
   "cell_type": "code",
   "execution_count": null,
   "metadata": {},
   "outputs": [],
   "source": [
    "!gdal_translate \\\n",
    "    -co \"TILED=YES\" -co \"COMPRESS=DEFLATE\" -co \"PREDICTOR=2\" -co \"BIGTIFF=YES\" \\\n",
    "    \"/vsicurl?max_retry=3&retry_delay=1&list_dir=no&url=https://files.isric.org/soilgrids/latest/data/sand/sand_0-5cm_mean.vrt\" \\\n",
    "    \"sand_0-5cm_mean.tif\"\n"
   ]
  },
  {
   "cell_type": "code",
   "execution_count": null,
   "metadata": {},
   "outputs": [],
   "source": [
    "!gdalwarp -overwrite -t_srs EPSG:4326 \"sand_0-5cm_mean.tif\" \"sand_0-5cm_mean.tif\""
   ]
  },
  {
   "cell_type": "markdown",
   "metadata": {},
   "source": [
    "# Sand 5-15 cm"
   ]
  },
  {
   "cell_type": "code",
   "execution_count": null,
   "metadata": {},
   "outputs": [],
   "source": [
    "!gdal_translate \\\n",
    "    -co \"TILED=YES\" -co \"COMPRESS=DEFLATE\" -co \"PREDICTOR=2\" -co \"BIGTIFF=YES\" \\\n",
    "    \"/vsicurl?max_retry=3&retry_delay=1&list_dir=no&url=https://files.isric.org/soilgrids/latest/data/sand/sand_5-15cm_mean.vrt\" \\\n",
    "    \"sand_5-15cm_mean.tif\"\n"
   ]
  },
  {
   "cell_type": "code",
   "execution_count": null,
   "metadata": {},
   "outputs": [],
   "source": [
    "!gdalwarp -overwrite -t_srs EPSG:4326 \"sand_5-15cm_mean.tif\" \"sand_5-15cm_mean.tif\""
   ]
  },
  {
   "cell_type": "markdown",
   "metadata": {},
   "source": [
    "# Clay 0-5 cm"
   ]
  },
  {
   "cell_type": "code",
   "execution_count": null,
   "metadata": {},
   "outputs": [],
   "source": [
    "!gdal_translate \\\n",
    "    -co \"TILED=YES\" -co \"COMPRESS=DEFLATE\" -co \"PREDICTOR=2\" -co \"BIGTIFF=YES\" \\\n",
    "    \"/vsicurl?max_retry=3&retry_delay=1&list_dir=no&url=https://files.isric.org/soilgrids/latest/data/clay/clay_0-5cm_mean.vrt\" \\\n",
    "    \"clay_0-5cm_mean.tif\"\n"
   ]
  },
  {
   "cell_type": "code",
   "execution_count": null,
   "metadata": {},
   "outputs": [],
   "source": [
    "!gdalwarp -overwrite -t_srs EPSG:4326 \"clay_0-5cm_mean.tif\" \"clay_0-5cm_mean.tif\""
   ]
  },
  {
   "cell_type": "markdown",
   "metadata": {},
   "source": [
    "# Clay 5-15 cm"
   ]
  },
  {
   "cell_type": "code",
   "execution_count": null,
   "metadata": {},
   "outputs": [],
   "source": [
    "!gdal_translate \\\n",
    "    -co \"TILED=YES\" -co \"COMPRESS=DEFLATE\" -co \"PREDICTOR=2\" -co \"BIGTIFF=YES\" \\\n",
    "    \"/vsicurl?max_retry=3&retry_delay=1&list_dir=no&url=https://files.isric.org/soilgrids/latest/data/clay/clay_5-15cm_mean.vrt\" \\\n",
    "    \"clay_5-15cm_mean.tif\"\n"
   ]
  },
  {
   "cell_type": "code",
   "execution_count": null,
   "metadata": {},
   "outputs": [],
   "source": [
    "!gdalwarp -overwrite -t_srs EPSG:4326 \"clay_5-15cm_mean.tif\" \"clay_5-15cm_mean.tif\""
   ]
  },
  {
   "cell_type": "markdown",
   "metadata": {},
   "source": [
    "# Silt 0-5 cm"
   ]
  },
  {
   "cell_type": "code",
   "execution_count": null,
   "metadata": {},
   "outputs": [],
   "source": [
    "!gdal_translate \\\n",
    "    -co \"TILED=YES\" -co \"COMPRESS=DEFLATE\" -co \"PREDICTOR=2\" -co \"BIGTIFF=YES\" \\\n",
    "    \"/vsicurl?max_retry=3&retry_delay=1&list_dir=no&url=https://files.isric.org/soilgrids/latest/data/silt/silt_0-5cm_mean.vrt\" \\\n",
    "    \"silt_0-5cm_mean.tif\"\n"
   ]
  },
  {
   "cell_type": "code",
   "execution_count": null,
   "metadata": {},
   "outputs": [],
   "source": [
    "!gdalwarp -overwrite -t_srs EPSG:4326 \"silt_0-5cm_mean.tif\" \"silt_0-5cm_mean.tif\""
   ]
  },
  {
   "cell_type": "markdown",
   "metadata": {},
   "source": [
    "# Silt 5-15 cm"
   ]
  },
  {
   "cell_type": "code",
   "execution_count": null,
   "metadata": {},
   "outputs": [],
   "source": [
    "!gdal_translate \\\n",
    "    -co \"TILED=YES\" -co \"COMPRESS=DEFLATE\" -co \"PREDICTOR=2\" -co \"BIGTIFF=YES\" \\\n",
    "    \"/vsicurl?max_retry=3&retry_delay=1&list_dir=no&url=https://files.isric.org/soilgrids/latest/data/silt/silt_5-15cm_mean.vrt\" \\\n",
    "    \"silt_5-15cm_mean.tif\"\n"
   ]
  },
  {
   "cell_type": "code",
   "execution_count": null,
   "metadata": {},
   "outputs": [],
   "source": [
    "!gdalwarp -overwrite -t_srs EPSG:4326 \"silt_5-15cm_mean.tif\" \"silt_5-15cm_mean.tif\""
   ]
  }
 ],
 "metadata": {
  "kernelspec": {
   "display_name": "Python 3",
   "language": "python",
   "name": "python3"
  },
  "language_info": {
   "codemirror_mode": {
    "name": "ipython",
    "version": 3
   },
   "file_extension": ".py",
   "mimetype": "text/x-python",
   "name": "python",
   "nbconvert_exporter": "python",
   "pygments_lexer": "ipython3",
   "version": "3.7.10"
  }
 },
 "nbformat": 4,
 "nbformat_minor": 4
}
