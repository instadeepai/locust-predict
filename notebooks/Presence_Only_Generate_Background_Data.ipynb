{
 "cells": [
  {
   "cell_type": "markdown",
   "id": "12df70a5",
   "metadata": {},
   "source": [
    "# Presence only data modelling - Generate Random Points\n",
    "This notebook generates the background data points required for presence only models. For more on background points, read [this](https://rspatial.org/raster/sdm/3_sdm_absence-background.html)."
   ]
  },
  {
   "cell_type": "markdown",
   "id": "ca124070",
   "metadata": {},
   "source": [
    "## Downloads and imports"
   ]
  },
  {
   "cell_type": "code",
   "execution_count": 15,
   "id": "f770528d",
   "metadata": {
    "collapsed": true
   },
   "outputs": [
    {
     "name": "stderr",
     "output_type": "stream",
     "text": [
      "Warning message:\n",
      "“package ‘mopa’ is not available (for R version 3.6.1)”Updating HTML index of packages in '.Library'\n",
      "Making 'packages.html' ... done\n"
     ]
    }
   ],
   "source": [
    "install.packages(c(\"dismo\",\"maptools\",\"glmnet\",\"maxnet\",\"raster\",\"sp\",\"pryr\",\"rworldmap\"))"
   ]
  },
  {
   "cell_type": "code",
   "execution_count": 5,
   "id": "f41b4443",
   "metadata": {},
   "outputs": [
    {
     "name": "stderr",
     "output_type": "stream",
     "text": [
      "Loading required package: maps\n"
     ]
    }
   ],
   "source": [
    "library(maxnet)\n",
    "library(glmnet)\n",
    "library(dismo)\n",
    "require(maps)"
   ]
  },
  {
   "cell_type": "markdown",
   "id": "3a7ff13f",
   "metadata": {},
   "source": [
    "## Get data"
   ]
  },
  {
   "cell_type": "code",
   "execution_count": 3,
   "id": "a09a7d8f",
   "metadata": {},
   "outputs": [],
   "source": [
    "train <- read.csv(\"../data/train_val_random.csv\", header=TRUE)\n",
    "test  <- read.csv(\"../data/test_random.csv\", header=TRUE)\n",
    "\n",
    "# Presense only train data\n",
    "train_only_presence <- train[train$presence == \"1\", ]"
   ]
  },
  {
   "cell_type": "code",
   "execution_count": 4,
   "id": "8c9ffb1f",
   "metadata": {},
   "outputs": [],
   "source": [
    "training_data_dates <- train_only_presence[\"observation_date\"]"
   ]
  },
  {
   "cell_type": "markdown",
   "id": "ca11f333",
   "metadata": {},
   "source": [
    "Get countries from coords - https://stackoverflow.com/questions/14334970/convert-latitude-and-longitude-coordinates-to-country-name-in-r"
   ]
  },
  {
   "cell_type": "code",
   "execution_count": 5,
   "id": "c673fef2",
   "metadata": {},
   "outputs": [
    {
     "name": "stderr",
     "output_type": "stream",
     "text": [
      "### Welcome to rworldmap ###\n",
      "For a short introduction type : \t vignette('rworldmap')\n"
     ]
    }
   ],
   "source": [
    "library(sp)\n",
    "library(rworldmap)\n",
    "\n",
    "\n",
    "# The single argument to this function, points, is a data.frame in which:\n",
    "#   - column 1 contains the longitude in degrees\n",
    "#   - column 2 contains the latitude in degrees\n",
    "coords2country = function(points)\n",
    "{  \n",
    "  countriesSP <- getMap(resolution='low')\n",
    "    \n",
    "  #setting CRS directly to that from rworldmap\n",
    "  pointsSP = SpatialPoints(points, proj4string=CRS(proj4string(countriesSP)))  \n",
    "\n",
    "\n",
    "  # use 'over' to get indices of the Polygons object containing each point \n",
    "  indices = over(pointsSP, countriesSP)\n",
    "    \n",
    "  print(unique(cbind(as.character(indices$ADMIN), as.character(indices$REGION))))\n",
    "\n",
    "  return((indices$ADMIN))\n",
    "}"
   ]
  },
  {
   "cell_type": "markdown",
   "id": "2ab3f4f3",
   "metadata": {},
   "source": [
    "#### List of countries in train data"
   ]
  },
  {
   "cell_type": "code",
   "execution_count": 7,
   "id": "4f228093",
   "metadata": {},
   "outputs": [
    {
     "name": "stdout",
     "output_type": "stream",
     "text": [
      "      [,1]             [,2]    \n",
      " [1,] \"Mauritania\"     \"Africa\"\n",
      " [2,] \"Mali\"           \"Africa\"\n",
      " [3,] \"Somaliland\"     \"Africa\"\n",
      " [4,] \"Egypt\"          \"Africa\"\n",
      " [5,] \"Morocco\"        \"Africa\"\n",
      " [6,] \"Algeria\"        \"Africa\"\n",
      " [7,] \"Sudan\"          \"Africa\"\n",
      " [8,] \"Niger\"          \"Africa\"\n",
      " [9,] \"Eritrea\"        \"Africa\"\n",
      "[10,] \"Senegal\"        \"Africa\"\n",
      "[11,] \"Libya\"          \"Africa\"\n",
      "[12,] \"Western Sahara\" \"Africa\"\n",
      "[13,] NA               NA      \n",
      "[14,] \"Tunisia\"        \"Africa\"\n",
      "[15,] \"Cape Verde\"     \"Africa\"\n",
      "[16,] \"Chad\"           \"Africa\"\n",
      "[17,] \"Ethiopia\"       \"Africa\"\n",
      "[18,] \"Kenya\"          \"Africa\"\n",
      "[19,] \"Somalia\"        \"Africa\"\n",
      "[20,] \"Gaza\"           \"Europe\"\n",
      "[21,] \"Djibouti\"       \"Africa\"\n"
     ]
    }
   ],
   "source": [
    "train_countries = unique(coords2country(train[c(\"x\",\"y\")]))"
   ]
  },
  {
   "cell_type": "markdown",
   "id": "87378525",
   "metadata": {},
   "source": [
    "#### List of countries in test data"
   ]
  },
  {
   "cell_type": "code",
   "execution_count": 8,
   "id": "4506790c",
   "metadata": {},
   "outputs": [
    {
     "name": "stdout",
     "output_type": "stream",
     "text": [
      "      [,1]             [,2]    \n",
      " [1,] \"Niger\"          \"Africa\"\n",
      " [2,] \"Mauritania\"     \"Africa\"\n",
      " [3,] \"Algeria\"        \"Africa\"\n",
      " [4,] \"Eritrea\"        \"Africa\"\n",
      " [5,] \"Sudan\"          \"Africa\"\n",
      " [6,] \"Egypt\"          \"Africa\"\n",
      " [7,] \"Chad\"           \"Africa\"\n",
      " [8,] \"Ethiopia\"       \"Africa\"\n",
      " [9,] \"Morocco\"        \"Africa\"\n",
      "[10,] \"Western Sahara\" \"Africa\"\n",
      "[11,] \"Somaliland\"     \"Africa\"\n",
      "[12,] \"Mali\"           \"Africa\"\n",
      "[13,] \"Libya\"          \"Africa\"\n",
      "[14,] NA               NA      \n",
      "[15,] \"Kenya\"          \"Africa\"\n",
      "[16,] \"Somalia\"        \"Africa\"\n",
      "[17,] \"Uganda\"         \"Africa\"\n",
      "[18,] \"Djibouti\"       \"Africa\"\n",
      "[19,] \"South Sudan\"    \"Africa\"\n"
     ]
    }
   ],
   "source": [
    "test_countries = unique(coords2country(test[c(\"x\",\"y\")]))"
   ]
  },
  {
   "cell_type": "markdown",
   "id": "b05c313f",
   "metadata": {},
   "source": [
    "#### Countries that don't match"
   ]
  },
  {
   "cell_type": "code",
   "execution_count": 10,
   "id": "fe698ff7",
   "metadata": {},
   "outputs": [
    {
     "data": {
      "text/html": [
       "FALSE"
      ],
      "text/latex": [
       "FALSE"
      ],
      "text/markdown": [
       "FALSE"
      ],
      "text/plain": [
       "[1] FALSE"
      ]
     },
     "metadata": {},
     "output_type": "display_data"
    },
    {
     "data": {
      "text/html": [
       "<ol class=list-inline>\n",
       "\t<li>Uganda</li>\n",
       "\t<li>South Sudan</li>\n",
       "</ol>\n",
       "\n",
       "<details>\n",
       "\t<summary style=display:list-item;cursor:pointer>\n",
       "\t\t<strong>Levels</strong>:\n",
       "\t</summary>\n",
       "\t<ol class=list-inline>\n",
       "\t\t<li>'Afghanistan'</li>\n",
       "\t\t<li>'Aland'</li>\n",
       "\t\t<li>'Albania'</li>\n",
       "\t\t<li>'Algeria'</li>\n",
       "\t\t<li>'American Samoa'</li>\n",
       "\t\t<li>'Andorra'</li>\n",
       "\t\t<li>'Angola'</li>\n",
       "\t\t<li>'Anguilla'</li>\n",
       "\t\t<li>'Antarctica'</li>\n",
       "\t\t<li>'Antigua and Barbuda'</li>\n",
       "\t\t<li>'Argentina'</li>\n",
       "\t\t<li>'Armenia'</li>\n",
       "\t\t<li>'Aruba'</li>\n",
       "\t\t<li>'Ashmore and Cartier Islands'</li>\n",
       "\t\t<li>'Australia'</li>\n",
       "\t\t<li>'Austria'</li>\n",
       "\t\t<li>'Azerbaijan'</li>\n",
       "\t\t<li>'Bahrain'</li>\n",
       "\t\t<li>'Bangladesh'</li>\n",
       "\t\t<li>'Barbados'</li>\n",
       "\t\t<li>'Belarus'</li>\n",
       "\t\t<li>'Belgium'</li>\n",
       "\t\t<li>'Belize'</li>\n",
       "\t\t<li>'Benin'</li>\n",
       "\t\t<li>'Bermuda'</li>\n",
       "\t\t<li>'Bhutan'</li>\n",
       "\t\t<li>'Bolivia'</li>\n",
       "\t\t<li>'Bosnia and Herzegovina'</li>\n",
       "\t\t<li>'Botswana'</li>\n",
       "\t\t<li>'Brazil'</li>\n",
       "\t\t<li>'British Indian Ocean Territory'</li>\n",
       "\t\t<li>'British Virgin Islands'</li>\n",
       "\t\t<li>'Brunei'</li>\n",
       "\t\t<li>'Bulgaria'</li>\n",
       "\t\t<li>'Burkina Faso'</li>\n",
       "\t\t<li>'Burundi'</li>\n",
       "\t\t<li>'Cambodia'</li>\n",
       "\t\t<li>'Cameroon'</li>\n",
       "\t\t<li>'Canada'</li>\n",
       "\t\t<li>'Cape Verde'</li>\n",
       "\t\t<li>'Cayman Islands'</li>\n",
       "\t\t<li>'Central African Republic'</li>\n",
       "\t\t<li>'Chad'</li>\n",
       "\t\t<li>'Chile'</li>\n",
       "\t\t<li>'China'</li>\n",
       "\t\t<li>'Colombia'</li>\n",
       "\t\t<li>'Comoros'</li>\n",
       "\t\t<li>'Cook Islands'</li>\n",
       "\t\t<li>'Costa Rica'</li>\n",
       "\t\t<li>'Croatia'</li>\n",
       "\t\t<li>'Cuba'</li>\n",
       "\t\t<li>'Curacao'</li>\n",
       "\t\t<li>'Cyprus'</li>\n",
       "\t\t<li>'Czech Republic'</li>\n",
       "\t\t<li>'Democratic Republic of the Congo'</li>\n",
       "\t\t<li>'Denmark'</li>\n",
       "\t\t<li>'Djibouti'</li>\n",
       "\t\t<li>'Dominica'</li>\n",
       "\t\t<li>'Dominican Republic'</li>\n",
       "\t\t<li>'East Timor'</li>\n",
       "\t\t<li>'Ecuador'</li>\n",
       "\t\t<li>'Egypt'</li>\n",
       "\t\t<li>'El Salvador'</li>\n",
       "\t\t<li>'Equatorial Guinea'</li>\n",
       "\t\t<li>'Eritrea'</li>\n",
       "\t\t<li>'Estonia'</li>\n",
       "\t\t<li>'Ethiopia'</li>\n",
       "\t\t<li>'Falkland Islands'</li>\n",
       "\t\t<li>'Faroe Islands'</li>\n",
       "\t\t<li>'Federated States of Micronesia'</li>\n",
       "\t\t<li>'Fiji'</li>\n",
       "\t\t<li>'Finland'</li>\n",
       "\t\t<li>'France'</li>\n",
       "\t\t<li>'French Guiana'</li>\n",
       "\t\t<li>'French Polynesia'</li>\n",
       "\t\t<li>'French Southern and Antarctic Lands'</li>\n",
       "\t\t<li>'Gabon'</li>\n",
       "\t\t<li>'Gambia'</li>\n",
       "\t\t<li>'Gaza'</li>\n",
       "\t\t<li>'Georgia'</li>\n",
       "\t\t<li>'Germany'</li>\n",
       "\t\t<li>'Ghana'</li>\n",
       "\t\t<li>'Greece'</li>\n",
       "\t\t<li>'Greenland'</li>\n",
       "\t\t<li>'Grenada'</li>\n",
       "\t\t<li>'Guam'</li>\n",
       "\t\t<li>'Guatemala'</li>\n",
       "\t\t<li>'Guernsey'</li>\n",
       "\t\t<li>'Guinea'</li>\n",
       "\t\t<li>'Guinea Bissau'</li>\n",
       "\t\t<li>'Guyana'</li>\n",
       "\t\t<li>'Haiti'</li>\n",
       "\t\t<li>'Heard Island and McDonald Islands'</li>\n",
       "\t\t<li>'Honduras'</li>\n",
       "\t\t<li>'Hong Kong S.A.R.'</li>\n",
       "\t\t<li>'Hungary'</li>\n",
       "\t\t<li>'Iceland'</li>\n",
       "\t\t<li>'India'</li>\n",
       "\t\t<li>'Indian Ocean Territories'</li>\n",
       "\t\t<li>'Indonesia'</li>\n",
       "\t\t<li>'Iran'</li>\n",
       "\t\t<li>'Iraq'</li>\n",
       "\t\t<li>'Ireland'</li>\n",
       "\t\t<li>'Isle of Man'</li>\n",
       "\t\t<li>'Israel'</li>\n",
       "\t\t<li>'Italy'</li>\n",
       "\t\t<li>'Ivory Coast'</li>\n",
       "\t\t<li>'Jamaica'</li>\n",
       "\t\t<li>'Japan'</li>\n",
       "\t\t<li>'Jersey'</li>\n",
       "\t\t<li>'Jordan'</li>\n",
       "\t\t<li>'Kazakhstan'</li>\n",
       "\t\t<li>'Kenya'</li>\n",
       "\t\t<li>'Kiribati'</li>\n",
       "\t\t<li>'Kosovo'</li>\n",
       "\t\t<li>'Kuwait'</li>\n",
       "\t\t<li>'Kyrgyzstan'</li>\n",
       "\t\t<li>'Laos'</li>\n",
       "\t\t<li>'Latvia'</li>\n",
       "\t\t<li>'Lebanon'</li>\n",
       "\t\t<li>'Lesotho'</li>\n",
       "\t\t<li>'Liberia'</li>\n",
       "\t\t<li>'Libya'</li>\n",
       "\t\t<li>'Liechtenstein'</li>\n",
       "\t\t<li>'Lithuania'</li>\n",
       "\t\t<li>'Luxembourg'</li>\n",
       "\t\t<li>'Macau S.A.R'</li>\n",
       "\t\t<li>'Macedonia'</li>\n",
       "\t\t<li>'Madagascar'</li>\n",
       "\t\t<li>'Malawi'</li>\n",
       "\t\t<li>'Malaysia'</li>\n",
       "\t\t<li>'Maldives'</li>\n",
       "\t\t<li>'Mali'</li>\n",
       "\t\t<li>'Malta'</li>\n",
       "\t\t<li>'Marshall Islands'</li>\n",
       "\t\t<li>'Mauritania'</li>\n",
       "\t\t<li>'Mauritius'</li>\n",
       "\t\t<li>'Mexico'</li>\n",
       "\t\t<li>'Moldova'</li>\n",
       "\t\t<li>'Monaco'</li>\n",
       "\t\t<li>'Mongolia'</li>\n",
       "\t\t<li>'Montenegro'</li>\n",
       "\t\t<li>'Montserrat'</li>\n",
       "\t\t<li>'Morocco'</li>\n",
       "\t\t<li>'Mozambique'</li>\n",
       "\t\t<li>'Myanmar'</li>\n",
       "\t\t<li>'Namibia'</li>\n",
       "\t\t<li>'Nauru'</li>\n",
       "\t\t<li>'Nepal'</li>\n",
       "\t\t<li>'Netherlands'</li>\n",
       "\t\t<li>'New Caledonia'</li>\n",
       "\t\t<li>'New Zealand'</li>\n",
       "\t\t<li>'Nicaragua'</li>\n",
       "\t\t<li>'Niger'</li>\n",
       "\t\t<li>'Nigeria'</li>\n",
       "\t\t<li>'Niue'</li>\n",
       "\t\t<li>'Norfolk Island'</li>\n",
       "\t\t<li>'North Korea'</li>\n",
       "\t\t<li>'Northern Cyprus'</li>\n",
       "\t\t<li>'Northern Mariana Islands'</li>\n",
       "\t\t<li>'Norway'</li>\n",
       "\t\t<li>'Oman'</li>\n",
       "\t\t<li>'Pakistan'</li>\n",
       "\t\t<li>'Palau'</li>\n",
       "\t\t<li>'Panama'</li>\n",
       "\t\t<li>'Papua New Guinea'</li>\n",
       "\t\t<li>'Paraguay'</li>\n",
       "\t\t<li>'Peru'</li>\n",
       "\t\t<li>'Philippines'</li>\n",
       "\t\t<li>'Pitcairn Islands'</li>\n",
       "\t\t<li>'Poland'</li>\n",
       "\t\t<li>'Portugal'</li>\n",
       "\t\t<li>'Puerto Rico'</li>\n",
       "\t\t<li>'Qatar'</li>\n",
       "\t\t<li>'Republic of Serbia'</li>\n",
       "\t\t<li>'Republic of the Congo'</li>\n",
       "\t\t<li>'Romania'</li>\n",
       "\t\t<li>'Russia'</li>\n",
       "\t\t<li>'Rwanda'</li>\n",
       "\t\t<li>'Saint Barthelemy'</li>\n",
       "\t\t<li>'Saint Helena'</li>\n",
       "\t\t<li>'Saint Kitts and Nevis'</li>\n",
       "\t\t<li>'Saint Lucia'</li>\n",
       "\t\t<li>'Saint Martin'</li>\n",
       "\t\t<li>'Saint Pierre and Miquelon'</li>\n",
       "\t\t<li>'Saint Vincent and the Grenadines'</li>\n",
       "\t\t<li>'Samoa'</li>\n",
       "\t\t<li>'San Marino'</li>\n",
       "\t\t<li>'Sao Tome and Principe'</li>\n",
       "\t\t<li>'Saudi Arabia'</li>\n",
       "\t\t<li>'Senegal'</li>\n",
       "\t\t<li>'Seychelles'</li>\n",
       "\t\t<li>'Siachen Glacier'</li>\n",
       "\t\t<li>'Sierra Leone'</li>\n",
       "\t\t<li>'Singapore'</li>\n",
       "\t\t<li>'Sint Maarten'</li>\n",
       "\t\t<li>'Slovakia'</li>\n",
       "\t\t<li>'Slovenia'</li>\n",
       "\t\t<li>'Solomon Islands'</li>\n",
       "\t\t<li>'Somalia'</li>\n",
       "\t\t<li>'Somaliland'</li>\n",
       "\t\t<li>'South Africa'</li>\n",
       "\t\t<li>'South Georgia and South Sandwich Islands'</li>\n",
       "\t\t<li>'South Korea'</li>\n",
       "\t\t<li>'South Sudan'</li>\n",
       "\t\t<li>'Spain'</li>\n",
       "\t\t<li>'Sri Lanka'</li>\n",
       "\t\t<li>'Sudan'</li>\n",
       "\t\t<li>'Suriname'</li>\n",
       "\t\t<li>'Swaziland'</li>\n",
       "\t\t<li>'Sweden'</li>\n",
       "\t\t<li>'Switzerland'</li>\n",
       "\t\t<li>'Syria'</li>\n",
       "\t\t<li>'Taiwan'</li>\n",
       "\t\t<li>'Tajikistan'</li>\n",
       "\t\t<li>'Thailand'</li>\n",
       "\t\t<li>'The Bahamas'</li>\n",
       "\t\t<li>'Togo'</li>\n",
       "\t\t<li>'Tonga'</li>\n",
       "\t\t<li>'Trinidad and Tobago'</li>\n",
       "\t\t<li>'Tunisia'</li>\n",
       "\t\t<li>'Turkey'</li>\n",
       "\t\t<li>'Turkmenistan'</li>\n",
       "\t\t<li>'Turks and Caicos Islands'</li>\n",
       "\t\t<li>'Tuvalu'</li>\n",
       "\t\t<li>'Uganda'</li>\n",
       "\t\t<li>'Ukraine'</li>\n",
       "\t\t<li>'United Arab Emirates'</li>\n",
       "\t\t<li>'United Kingdom'</li>\n",
       "\t\t<li>'United Republic of Tanzania'</li>\n",
       "\t\t<li>'United States of America'</li>\n",
       "\t\t<li>'United States Virgin Islands'</li>\n",
       "\t\t<li>'Uruguay'</li>\n",
       "\t\t<li>'Uzbekistan'</li>\n",
       "\t\t<li>'Vanuatu'</li>\n",
       "\t\t<li>'Vatican'</li>\n",
       "\t\t<li>'Venezuela'</li>\n",
       "\t\t<li>'Vietnam'</li>\n",
       "\t\t<li>'Wallis and Futuna'</li>\n",
       "\t\t<li>'West Bank'</li>\n",
       "\t\t<li>'Western Sahara'</li>\n",
       "\t\t<li>'Yemen'</li>\n",
       "\t\t<li>'Zambia'</li>\n",
       "\t\t<li>'Zimbabwe'</li>\n",
       "\t</ol>\n",
       "</details>"
      ],
      "text/latex": [
       "\\begin{enumerate*}\n",
       "\\item Uganda\n",
       "\\item South Sudan\n",
       "\\end{enumerate*}\n",
       "\n",
       "\\emph{Levels}: \\begin{enumerate*}\n",
       "\\item 'Afghanistan'\n",
       "\\item 'Aland'\n",
       "\\item 'Albania'\n",
       "\\item 'Algeria'\n",
       "\\item 'American Samoa'\n",
       "\\item 'Andorra'\n",
       "\\item 'Angola'\n",
       "\\item 'Anguilla'\n",
       "\\item 'Antarctica'\n",
       "\\item 'Antigua and Barbuda'\n",
       "\\item 'Argentina'\n",
       "\\item 'Armenia'\n",
       "\\item 'Aruba'\n",
       "\\item 'Ashmore and Cartier Islands'\n",
       "\\item 'Australia'\n",
       "\\item 'Austria'\n",
       "\\item 'Azerbaijan'\n",
       "\\item 'Bahrain'\n",
       "\\item 'Bangladesh'\n",
       "\\item 'Barbados'\n",
       "\\item 'Belarus'\n",
       "\\item 'Belgium'\n",
       "\\item 'Belize'\n",
       "\\item 'Benin'\n",
       "\\item 'Bermuda'\n",
       "\\item 'Bhutan'\n",
       "\\item 'Bolivia'\n",
       "\\item 'Bosnia and Herzegovina'\n",
       "\\item 'Botswana'\n",
       "\\item 'Brazil'\n",
       "\\item 'British Indian Ocean Territory'\n",
       "\\item 'British Virgin Islands'\n",
       "\\item 'Brunei'\n",
       "\\item 'Bulgaria'\n",
       "\\item 'Burkina Faso'\n",
       "\\item 'Burundi'\n",
       "\\item 'Cambodia'\n",
       "\\item 'Cameroon'\n",
       "\\item 'Canada'\n",
       "\\item 'Cape Verde'\n",
       "\\item 'Cayman Islands'\n",
       "\\item 'Central African Republic'\n",
       "\\item 'Chad'\n",
       "\\item 'Chile'\n",
       "\\item 'China'\n",
       "\\item 'Colombia'\n",
       "\\item 'Comoros'\n",
       "\\item 'Cook Islands'\n",
       "\\item 'Costa Rica'\n",
       "\\item 'Croatia'\n",
       "\\item 'Cuba'\n",
       "\\item 'Curacao'\n",
       "\\item 'Cyprus'\n",
       "\\item 'Czech Republic'\n",
       "\\item 'Democratic Republic of the Congo'\n",
       "\\item 'Denmark'\n",
       "\\item 'Djibouti'\n",
       "\\item 'Dominica'\n",
       "\\item 'Dominican Republic'\n",
       "\\item 'East Timor'\n",
       "\\item 'Ecuador'\n",
       "\\item 'Egypt'\n",
       "\\item 'El Salvador'\n",
       "\\item 'Equatorial Guinea'\n",
       "\\item 'Eritrea'\n",
       "\\item 'Estonia'\n",
       "\\item 'Ethiopia'\n",
       "\\item 'Falkland Islands'\n",
       "\\item 'Faroe Islands'\n",
       "\\item 'Federated States of Micronesia'\n",
       "\\item 'Fiji'\n",
       "\\item 'Finland'\n",
       "\\item 'France'\n",
       "\\item 'French Guiana'\n",
       "\\item 'French Polynesia'\n",
       "\\item 'French Southern and Antarctic Lands'\n",
       "\\item 'Gabon'\n",
       "\\item 'Gambia'\n",
       "\\item 'Gaza'\n",
       "\\item 'Georgia'\n",
       "\\item 'Germany'\n",
       "\\item 'Ghana'\n",
       "\\item 'Greece'\n",
       "\\item 'Greenland'\n",
       "\\item 'Grenada'\n",
       "\\item 'Guam'\n",
       "\\item 'Guatemala'\n",
       "\\item 'Guernsey'\n",
       "\\item 'Guinea'\n",
       "\\item 'Guinea Bissau'\n",
       "\\item 'Guyana'\n",
       "\\item 'Haiti'\n",
       "\\item 'Heard Island and McDonald Islands'\n",
       "\\item 'Honduras'\n",
       "\\item 'Hong Kong S.A.R.'\n",
       "\\item 'Hungary'\n",
       "\\item 'Iceland'\n",
       "\\item 'India'\n",
       "\\item 'Indian Ocean Territories'\n",
       "\\item 'Indonesia'\n",
       "\\item 'Iran'\n",
       "\\item 'Iraq'\n",
       "\\item 'Ireland'\n",
       "\\item 'Isle of Man'\n",
       "\\item 'Israel'\n",
       "\\item 'Italy'\n",
       "\\item 'Ivory Coast'\n",
       "\\item 'Jamaica'\n",
       "\\item 'Japan'\n",
       "\\item 'Jersey'\n",
       "\\item 'Jordan'\n",
       "\\item 'Kazakhstan'\n",
       "\\item 'Kenya'\n",
       "\\item 'Kiribati'\n",
       "\\item 'Kosovo'\n",
       "\\item 'Kuwait'\n",
       "\\item 'Kyrgyzstan'\n",
       "\\item 'Laos'\n",
       "\\item 'Latvia'\n",
       "\\item 'Lebanon'\n",
       "\\item 'Lesotho'\n",
       "\\item 'Liberia'\n",
       "\\item 'Libya'\n",
       "\\item 'Liechtenstein'\n",
       "\\item 'Lithuania'\n",
       "\\item 'Luxembourg'\n",
       "\\item 'Macau S.A.R'\n",
       "\\item 'Macedonia'\n",
       "\\item 'Madagascar'\n",
       "\\item 'Malawi'\n",
       "\\item 'Malaysia'\n",
       "\\item 'Maldives'\n",
       "\\item 'Mali'\n",
       "\\item 'Malta'\n",
       "\\item 'Marshall Islands'\n",
       "\\item 'Mauritania'\n",
       "\\item 'Mauritius'\n",
       "\\item 'Mexico'\n",
       "\\item 'Moldova'\n",
       "\\item 'Monaco'\n",
       "\\item 'Mongolia'\n",
       "\\item 'Montenegro'\n",
       "\\item 'Montserrat'\n",
       "\\item 'Morocco'\n",
       "\\item 'Mozambique'\n",
       "\\item 'Myanmar'\n",
       "\\item 'Namibia'\n",
       "\\item 'Nauru'\n",
       "\\item 'Nepal'\n",
       "\\item 'Netherlands'\n",
       "\\item 'New Caledonia'\n",
       "\\item 'New Zealand'\n",
       "\\item 'Nicaragua'\n",
       "\\item 'Niger'\n",
       "\\item 'Nigeria'\n",
       "\\item 'Niue'\n",
       "\\item 'Norfolk Island'\n",
       "\\item 'North Korea'\n",
       "\\item 'Northern Cyprus'\n",
       "\\item 'Northern Mariana Islands'\n",
       "\\item 'Norway'\n",
       "\\item 'Oman'\n",
       "\\item 'Pakistan'\n",
       "\\item 'Palau'\n",
       "\\item 'Panama'\n",
       "\\item 'Papua New Guinea'\n",
       "\\item 'Paraguay'\n",
       "\\item 'Peru'\n",
       "\\item 'Philippines'\n",
       "\\item 'Pitcairn Islands'\n",
       "\\item 'Poland'\n",
       "\\item 'Portugal'\n",
       "\\item 'Puerto Rico'\n",
       "\\item 'Qatar'\n",
       "\\item 'Republic of Serbia'\n",
       "\\item 'Republic of the Congo'\n",
       "\\item 'Romania'\n",
       "\\item 'Russia'\n",
       "\\item 'Rwanda'\n",
       "\\item 'Saint Barthelemy'\n",
       "\\item 'Saint Helena'\n",
       "\\item 'Saint Kitts and Nevis'\n",
       "\\item 'Saint Lucia'\n",
       "\\item 'Saint Martin'\n",
       "\\item 'Saint Pierre and Miquelon'\n",
       "\\item 'Saint Vincent and the Grenadines'\n",
       "\\item 'Samoa'\n",
       "\\item 'San Marino'\n",
       "\\item 'Sao Tome and Principe'\n",
       "\\item 'Saudi Arabia'\n",
       "\\item 'Senegal'\n",
       "\\item 'Seychelles'\n",
       "\\item 'Siachen Glacier'\n",
       "\\item 'Sierra Leone'\n",
       "\\item 'Singapore'\n",
       "\\item 'Sint Maarten'\n",
       "\\item 'Slovakia'\n",
       "\\item 'Slovenia'\n",
       "\\item 'Solomon Islands'\n",
       "\\item 'Somalia'\n",
       "\\item 'Somaliland'\n",
       "\\item 'South Africa'\n",
       "\\item 'South Georgia and South Sandwich Islands'\n",
       "\\item 'South Korea'\n",
       "\\item 'South Sudan'\n",
       "\\item 'Spain'\n",
       "\\item 'Sri Lanka'\n",
       "\\item 'Sudan'\n",
       "\\item 'Suriname'\n",
       "\\item 'Swaziland'\n",
       "\\item 'Sweden'\n",
       "\\item 'Switzerland'\n",
       "\\item 'Syria'\n",
       "\\item 'Taiwan'\n",
       "\\item 'Tajikistan'\n",
       "\\item 'Thailand'\n",
       "\\item 'The Bahamas'\n",
       "\\item 'Togo'\n",
       "\\item 'Tonga'\n",
       "\\item 'Trinidad and Tobago'\n",
       "\\item 'Tunisia'\n",
       "\\item 'Turkey'\n",
       "\\item 'Turkmenistan'\n",
       "\\item 'Turks and Caicos Islands'\n",
       "\\item 'Tuvalu'\n",
       "\\item 'Uganda'\n",
       "\\item 'Ukraine'\n",
       "\\item 'United Arab Emirates'\n",
       "\\item 'United Kingdom'\n",
       "\\item 'United Republic of Tanzania'\n",
       "\\item 'United States of America'\n",
       "\\item 'United States Virgin Islands'\n",
       "\\item 'Uruguay'\n",
       "\\item 'Uzbekistan'\n",
       "\\item 'Vanuatu'\n",
       "\\item 'Vatican'\n",
       "\\item 'Venezuela'\n",
       "\\item 'Vietnam'\n",
       "\\item 'Wallis and Futuna'\n",
       "\\item 'West Bank'\n",
       "\\item 'Western Sahara'\n",
       "\\item 'Yemen'\n",
       "\\item 'Zambia'\n",
       "\\item 'Zimbabwe'\n",
       "\\end{enumerate*}\n"
      ],
      "text/markdown": [
       "1. Uganda\n",
       "2. South Sudan\n",
       "\n",
       "\n",
       "\n",
       "**Levels**: 1. 'Afghanistan'\n",
       "2. 'Aland'\n",
       "3. 'Albania'\n",
       "4. 'Algeria'\n",
       "5. 'American Samoa'\n",
       "6. 'Andorra'\n",
       "7. 'Angola'\n",
       "8. 'Anguilla'\n",
       "9. 'Antarctica'\n",
       "10. 'Antigua and Barbuda'\n",
       "11. 'Argentina'\n",
       "12. 'Armenia'\n",
       "13. 'Aruba'\n",
       "14. 'Ashmore and Cartier Islands'\n",
       "15. 'Australia'\n",
       "16. 'Austria'\n",
       "17. 'Azerbaijan'\n",
       "18. 'Bahrain'\n",
       "19. 'Bangladesh'\n",
       "20. 'Barbados'\n",
       "21. 'Belarus'\n",
       "22. 'Belgium'\n",
       "23. 'Belize'\n",
       "24. 'Benin'\n",
       "25. 'Bermuda'\n",
       "26. 'Bhutan'\n",
       "27. 'Bolivia'\n",
       "28. 'Bosnia and Herzegovina'\n",
       "29. 'Botswana'\n",
       "30. 'Brazil'\n",
       "31. 'British Indian Ocean Territory'\n",
       "32. 'British Virgin Islands'\n",
       "33. 'Brunei'\n",
       "34. 'Bulgaria'\n",
       "35. 'Burkina Faso'\n",
       "36. 'Burundi'\n",
       "37. 'Cambodia'\n",
       "38. 'Cameroon'\n",
       "39. 'Canada'\n",
       "40. 'Cape Verde'\n",
       "41. 'Cayman Islands'\n",
       "42. 'Central African Republic'\n",
       "43. 'Chad'\n",
       "44. 'Chile'\n",
       "45. 'China'\n",
       "46. 'Colombia'\n",
       "47. 'Comoros'\n",
       "48. 'Cook Islands'\n",
       "49. 'Costa Rica'\n",
       "50. 'Croatia'\n",
       "51. 'Cuba'\n",
       "52. 'Curacao'\n",
       "53. 'Cyprus'\n",
       "54. 'Czech Republic'\n",
       "55. 'Democratic Republic of the Congo'\n",
       "56. 'Denmark'\n",
       "57. 'Djibouti'\n",
       "58. 'Dominica'\n",
       "59. 'Dominican Republic'\n",
       "60. 'East Timor'\n",
       "61. 'Ecuador'\n",
       "62. 'Egypt'\n",
       "63. 'El Salvador'\n",
       "64. 'Equatorial Guinea'\n",
       "65. 'Eritrea'\n",
       "66. 'Estonia'\n",
       "67. 'Ethiopia'\n",
       "68. 'Falkland Islands'\n",
       "69. 'Faroe Islands'\n",
       "70. 'Federated States of Micronesia'\n",
       "71. 'Fiji'\n",
       "72. 'Finland'\n",
       "73. 'France'\n",
       "74. 'French Guiana'\n",
       "75. 'French Polynesia'\n",
       "76. 'French Southern and Antarctic Lands'\n",
       "77. 'Gabon'\n",
       "78. 'Gambia'\n",
       "79. 'Gaza'\n",
       "80. 'Georgia'\n",
       "81. 'Germany'\n",
       "82. 'Ghana'\n",
       "83. 'Greece'\n",
       "84. 'Greenland'\n",
       "85. 'Grenada'\n",
       "86. 'Guam'\n",
       "87. 'Guatemala'\n",
       "88. 'Guernsey'\n",
       "89. 'Guinea'\n",
       "90. 'Guinea Bissau'\n",
       "91. 'Guyana'\n",
       "92. 'Haiti'\n",
       "93. 'Heard Island and McDonald Islands'\n",
       "94. 'Honduras'\n",
       "95. 'Hong Kong S.A.R.'\n",
       "96. 'Hungary'\n",
       "97. 'Iceland'\n",
       "98. 'India'\n",
       "99. 'Indian Ocean Territories'\n",
       "100. 'Indonesia'\n",
       "101. 'Iran'\n",
       "102. 'Iraq'\n",
       "103. 'Ireland'\n",
       "104. 'Isle of Man'\n",
       "105. 'Israel'\n",
       "106. 'Italy'\n",
       "107. 'Ivory Coast'\n",
       "108. 'Jamaica'\n",
       "109. 'Japan'\n",
       "110. 'Jersey'\n",
       "111. 'Jordan'\n",
       "112. 'Kazakhstan'\n",
       "113. 'Kenya'\n",
       "114. 'Kiribati'\n",
       "115. 'Kosovo'\n",
       "116. 'Kuwait'\n",
       "117. 'Kyrgyzstan'\n",
       "118. 'Laos'\n",
       "119. 'Latvia'\n",
       "120. 'Lebanon'\n",
       "121. 'Lesotho'\n",
       "122. 'Liberia'\n",
       "123. 'Libya'\n",
       "124. 'Liechtenstein'\n",
       "125. 'Lithuania'\n",
       "126. 'Luxembourg'\n",
       "127. 'Macau S.A.R'\n",
       "128. 'Macedonia'\n",
       "129. 'Madagascar'\n",
       "130. 'Malawi'\n",
       "131. 'Malaysia'\n",
       "132. 'Maldives'\n",
       "133. 'Mali'\n",
       "134. 'Malta'\n",
       "135. 'Marshall Islands'\n",
       "136. 'Mauritania'\n",
       "137. 'Mauritius'\n",
       "138. 'Mexico'\n",
       "139. 'Moldova'\n",
       "140. 'Monaco'\n",
       "141. 'Mongolia'\n",
       "142. 'Montenegro'\n",
       "143. 'Montserrat'\n",
       "144. 'Morocco'\n",
       "145. 'Mozambique'\n",
       "146. 'Myanmar'\n",
       "147. 'Namibia'\n",
       "148. 'Nauru'\n",
       "149. 'Nepal'\n",
       "150. 'Netherlands'\n",
       "151. 'New Caledonia'\n",
       "152. 'New Zealand'\n",
       "153. 'Nicaragua'\n",
       "154. 'Niger'\n",
       "155. 'Nigeria'\n",
       "156. 'Niue'\n",
       "157. 'Norfolk Island'\n",
       "158. 'North Korea'\n",
       "159. 'Northern Cyprus'\n",
       "160. 'Northern Mariana Islands'\n",
       "161. 'Norway'\n",
       "162. 'Oman'\n",
       "163. 'Pakistan'\n",
       "164. 'Palau'\n",
       "165. 'Panama'\n",
       "166. 'Papua New Guinea'\n",
       "167. 'Paraguay'\n",
       "168. 'Peru'\n",
       "169. 'Philippines'\n",
       "170. 'Pitcairn Islands'\n",
       "171. 'Poland'\n",
       "172. 'Portugal'\n",
       "173. 'Puerto Rico'\n",
       "174. 'Qatar'\n",
       "175. 'Republic of Serbia'\n",
       "176. 'Republic of the Congo'\n",
       "177. 'Romania'\n",
       "178. 'Russia'\n",
       "179. 'Rwanda'\n",
       "180. 'Saint Barthelemy'\n",
       "181. 'Saint Helena'\n",
       "182. 'Saint Kitts and Nevis'\n",
       "183. 'Saint Lucia'\n",
       "184. 'Saint Martin'\n",
       "185. 'Saint Pierre and Miquelon'\n",
       "186. 'Saint Vincent and the Grenadines'\n",
       "187. 'Samoa'\n",
       "188. 'San Marino'\n",
       "189. 'Sao Tome and Principe'\n",
       "190. 'Saudi Arabia'\n",
       "191. 'Senegal'\n",
       "192. 'Seychelles'\n",
       "193. 'Siachen Glacier'\n",
       "194. 'Sierra Leone'\n",
       "195. 'Singapore'\n",
       "196. 'Sint Maarten'\n",
       "197. 'Slovakia'\n",
       "198. 'Slovenia'\n",
       "199. 'Solomon Islands'\n",
       "200. 'Somalia'\n",
       "201. 'Somaliland'\n",
       "202. 'South Africa'\n",
       "203. 'South Georgia and South Sandwich Islands'\n",
       "204. 'South Korea'\n",
       "205. 'South Sudan'\n",
       "206. 'Spain'\n",
       "207. 'Sri Lanka'\n",
       "208. 'Sudan'\n",
       "209. 'Suriname'\n",
       "210. 'Swaziland'\n",
       "211. 'Sweden'\n",
       "212. 'Switzerland'\n",
       "213. 'Syria'\n",
       "214. 'Taiwan'\n",
       "215. 'Tajikistan'\n",
       "216. 'Thailand'\n",
       "217. 'The Bahamas'\n",
       "218. 'Togo'\n",
       "219. 'Tonga'\n",
       "220. 'Trinidad and Tobago'\n",
       "221. 'Tunisia'\n",
       "222. 'Turkey'\n",
       "223. 'Turkmenistan'\n",
       "224. 'Turks and Caicos Islands'\n",
       "225. 'Tuvalu'\n",
       "226. 'Uganda'\n",
       "227. 'Ukraine'\n",
       "228. 'United Arab Emirates'\n",
       "229. 'United Kingdom'\n",
       "230. 'United Republic of Tanzania'\n",
       "231. 'United States of America'\n",
       "232. 'United States Virgin Islands'\n",
       "233. 'Uruguay'\n",
       "234. 'Uzbekistan'\n",
       "235. 'Vanuatu'\n",
       "236. 'Vatican'\n",
       "237. 'Venezuela'\n",
       "238. 'Vietnam'\n",
       "239. 'Wallis and Futuna'\n",
       "240. 'West Bank'\n",
       "241. 'Western Sahara'\n",
       "242. 'Yemen'\n",
       "243. 'Zambia'\n",
       "244. 'Zimbabwe'\n",
       "\n",
       "\n"
      ],
      "text/plain": [
       "[1] Uganda      South Sudan\n",
       "244 Levels: Afghanistan Aland Albania Algeria American Samoa Andorra ... Zimbabwe"
      ]
     },
     "metadata": {},
     "output_type": "display_data"
    }
   ],
   "source": [
    "identical(train_countries, test_countries)\n",
    "test_countries[!(test_countries %in% train_countries)]"
   ]
  },
  {
   "cell_type": "markdown",
   "id": "c94ecef2",
   "metadata": {},
   "source": [
    "#### Get bounding box for relevant countries"
   ]
  },
  {
   "cell_type": "code",
   "execution_count": 35,
   "id": "eb57155a",
   "metadata": {},
   "outputs": [],
   "source": [
    "r <-  getData('alt' , country=\"Mauritania\", level=0, mask=TRUE)\n",
    "r1 <- getData('alt' , country=\"Mali\", level=0, mask=TRUE)\n",
    "r2 <- getData('alt' , country=\"Somalia\", level=0, mask=TRUE)\n",
    "\n",
    "r3 <- getData('alt' , country=\"Egypt\", level=0, mask=TRUE)\n",
    "r4 <- getData('alt' , country=\"Morocco\", level=0, mask=TRUE)\n",
    "r5 <- getData('alt' , country=\"Algeria\", level=0, mask=TRUE)\n",
    "r6 <- getData('alt' , country=\"Sudan\", level=0, mask=TRUE)\n",
    "r7 <- getData('alt' , country=\"Niger\", level=0, mask=TRUE)\n",
    "r8 <- getData('alt' , country=\"Eritrea\", level=0, mask=TRUE)\n",
    "r9 <- getData('alt' , country=\"Senegal\", level=0, mask=TRUE)\n",
    "r10 <- getData('alt' , country=\"Libya\", level=0, mask=TRUE)\n",
    "# r11 <- getData('alt' , country=\"Western Sahara\", level=0, mask=TRUE)\n",
    "r12 <- getData('alt' , country=\"Tunisia\", level=0, mask=TRUE) # check\n",
    "r13 <- getData('alt' , country=\"Cape Verde\", level=0, mask=TRUE)\n",
    "r14 <- getData('alt' , country=\"Chad\", level=0, mask=TRUE)\n",
    "r15 <- getData('alt' , country=\"Ethiopia\", level=0, mask=TRUE)\n",
    "r16<- getData('alt' , country=\"Djibouti\", level=0, mask=TRUE)  # check\n",
    "r17<- getData('alt' , country=\"Kenya\", level=0, mask=TRUE)\n",
    "\n",
    "# combined_raster_mali_mauri <- mosaic(r,r1,r2,r3,r4,r5,r6,r7,r8,r9,r10,r11,r12,r13,r14,r15,r16,r17, fun = min)\n",
    "combined_raster <- mosaic(r,r1,r2,r3,r4,r5,r6,r7,r8,r9,r10,r12,r13,r14,r15,r16,r17, fun = min,  tolerance = 0.35)\n",
    "# combined_raster <- mosaic(r,r1, fun = min)"
   ]
  },
  {
   "cell_type": "code",
   "execution_count": 36,
   "id": "9024cc10",
   "metadata": {
    "scrolled": false
   },
   "outputs": [
    {
     "data": {
      "image/png": "[encoded data removed]",
      "text/plain": [
       "Plot with title “”"
      ]
     },
     "metadata": {},
     "output_type": "display_data"
    }
   ],
   "source": [
    "plot(combined_raster)"
   ]
  },
  {
   "cell_type": "code",
   "execution_count": 38,
   "id": "9d08b45a",
   "metadata": {},
   "outputs": [
    {
     "name": "stderr",
     "output_type": "stream",
     "text": [
      "Loading required package: maps\n"
     ]
    },
    {
     "data": {
      "image/png": "[encoded data removed]",
      "text/plain": [
       "plot without title"
      ]
     },
     "metadata": {},
     "output_type": "display_data"
    }
   ],
   "source": [
    "\n",
    "map(database = \"world\", regions =  c('Mauritania', 'Mali', 'Somalia','Egypt',\"Morocco\",\"Algeria\",\"Sudan\",\"Eritrea\",\"Senegal\",\"Libya\",\"Western Sahara\",\"Tunisia\",\"Niger\",\"Chad\",\"Ethiopia\",\"Djibouti\",\"Kenya\"),exact=TRUE)\n",
    "\n"
   ]
  },
  {
   "cell_type": "markdown",
   "id": "9f3c447c",
   "metadata": {},
   "source": [
    "# Generate Background Points\n",
    "Randomly generate bakcground points."
   ]
  },
  {
   "cell_type": "markdown",
   "id": "f29f2a92",
   "metadata": {},
   "source": [
    "## Randomly Generate x and y within country boundaries"
   ]
  },
  {
   "cell_type": "code",
   "execution_count": null,
   "id": "5c014e84",
   "metadata": {},
   "outputs": [],
   "source": [
    "library(dismo)\n",
    "library(tictoc)\n",
    "set.seed(42)\n",
    "tic()\n",
    "\n",
    "background_points <- randomPoints(combined_raster, nrow(train_only_presence))\n",
    "nrow(background_points)\n",
    "plot(background_points)\n",
    "\n",
    "toc()"
   ]
  },
  {
   "cell_type": "markdown",
   "id": "964a4ccc",
   "metadata": {},
   "source": [
    "## Generate random dates within date range of training data "
   ]
  },
  {
   "cell_type": "code",
   "execution_count": null,
   "id": "ec155248",
   "metadata": {},
   "outputs": [],
   "source": [
    "min_date = min(as.Date(training_data_dates$observation_date,format=\"%Y-%m-%d\"))\n",
    "max_date = max(as.Date(training_data_dates$observation_date,format=\"%Y-%m-%d\"))\n",
    "\n",
    "background = as.data.frame(background_points)\n",
    "background$date = sample(seq(min_date, max_date, by=\"day\"), nrow(background_points), replace=TRUE)"
   ]
  },
  {
   "cell_type": "code",
   "execution_count": null,
   "id": "2a8ad28f",
   "metadata": {},
   "outputs": [],
   "source": [
    "head(background_points)"
   ]
  },
  {
   "cell_type": "code",
   "execution_count": 182,
   "id": "4e19fa0e",
   "metadata": {},
   "outputs": [],
   "source": [
    "write.csv(x=background, file=\"background.csv\")"
   ]
  },
  {
   "cell_type": "markdown",
   "id": "e64149e1",
   "metadata": {},
   "source": [
    "## Plot Different Absences\n",
    "Plotting Pseudo absences."
   ]
  },
  {
   "cell_type": "code",
   "execution_count": 12,
   "id": "9f43bb6a",
   "metadata": {},
   "outputs": [],
   "source": [
    "plot_absence_presence <- function(whole_region,data,method,cex=3.5) {\n",
    "  pseudo_absence <- data[data$presence == \"0\", ][c(\"x\",\"y\")]\n",
    "  presence <- data[data$presence == \"1\", ][c(\"x\",\"y\")]\n",
    "\n",
    "#   title <- sprintf(\"%s (number of pseudo_absence/background: %s number of presence: %s)\",method, nrow(pseudo_absence),nrow(presence))\n",
    "  title <- method\n",
    "  file <- sprintf(\"../images/%s_sampling_size_%s.pdf\", method,cex)\n",
    "  pdf(file=file)\n",
    "#   map(database = \"world\", regions =  c('Mauritania', 'Mali', 'Somalia','Egypt',\"Morocco\",\"Algeria\",\"Sudan\",\"Niger\",\"Eritrea\",\"Senegal\",\"Libya\",\"Western Sahara\",\"Tunisia\",\"Cape Verde\",\"Chad\",\"Ethiopia\",\"Djibouti\",\"Kenya\"))\n",
    "  map(database = \"world\", regions =  c('Mauritania', 'Mali', 'Somalia','Egypt',\"Morocco\",\"Algeria\",\"Sudan\",\"Eritrea\",\"Senegal\",\"Libya\",\"Western Sahara\",\"Tunisia\",\"Niger\",\"Chad\",\"Ethiopia\",\"Djibouti\",\"Kenya\"),exact=TRUE)\n",
    "  points(pseudo_absence,col= \"red\", pch = \".\", cex = cex)\n",
    "  points(presence, col= \"blue\", pch = \".\", cex = cex)\n",
    "  dev.off()\n",
    "}"
   ]
  },
  {
   "cell_type": "code",
   "execution_count": 13,
   "id": "8b296111",
   "metadata": {},
   "outputs": [
    {
     "data": {
      "text/html": [
       "<strong>png:</strong> 2"
      ],
      "text/latex": [
       "\\textbf{png:} 2"
      ],
      "text/markdown": [
       "**png:** 2"
      ],
      "text/plain": [
       "png \n",
       "  2 "
      ]
     },
     "metadata": {},
     "output_type": "display_data"
    }
   ],
   "source": [
    "cex=1\n",
    "plot_absence_presence(combined_raster_mali_mauri,read.csv(\"../data/train_val_random.csv\", header=TRUE),\"RS\",cex=cex)"
   ]
  },
  {
   "cell_type": "code",
   "execution_count": 14,
   "id": "05c9fad5",
   "metadata": {},
   "outputs": [
    {
     "data": {
      "text/html": [
       "<strong>png:</strong> 2"
      ],
      "text/latex": [
       "\\textbf{png:} 2"
      ],
      "text/markdown": [
       "**png:** 2"
      ],
      "text/plain": [
       "png \n",
       "  2 "
      ]
     },
     "metadata": {},
     "output_type": "display_data"
    }
   ],
   "source": [
    "cex=1\n",
    "plot_absence_presence(combined_raster_mali_mauri,read.csv(\"../data/train_val_ep_random.csv\", header=TRUE),\"RSEP\",cex=cex)"
   ]
  },
  {
   "cell_type": "markdown",
   "id": "8c0e7da1",
   "metadata": {},
   "source": [
    "Plot background data"
   ]
  },
  {
   "cell_type": "code",
   "execution_count": 15,
   "id": "61547444",
   "metadata": {},
   "outputs": [
    {
     "data": {
      "text/html": [
       "<strong>png:</strong> 2"
      ],
      "text/latex": [
       "\\textbf{png:} 2"
      ],
      "text/markdown": [
       "**png:** 2"
      ],
      "text/plain": [
       "png \n",
       "  2 "
      ]
     },
     "metadata": {},
     "output_type": "display_data"
    }
   ],
   "source": [
    "cex=1\n",
    "# Read already generated background data\n",
    "background <- read.csv(\"../data/background.csv\", header=TRUE)\n",
    "\n",
    "background[,\"presence\"] = 0\n",
    "\n",
    "train <- read.csv(\"../data/train_val_random.csv\", header=TRUE)\n",
    "\n",
    "# Presense only train data\n",
    "train_presence <- train[train$presence == \"1\", ]\n",
    "\n",
    "# combine presence and background\n",
    "train <- rbind(train_presence[c(\"x\",\"y\",\"presence\")], background[c(\"x\",\"y\",\"presence\")]) \n",
    "plot_absence_presence(combined_raster_mali_mauri,train,\"BD\",cex=cex)"
   ]
  },
  {
   "cell_type": "markdown",
   "id": "1cf76a05",
   "metadata": {},
   "source": [
    "Plot all data together"
   ]
  },
  {
   "cell_type": "code",
   "execution_count": 16,
   "id": "f98d8bc9",
   "metadata": {},
   "outputs": [
    {
     "data": {
      "text/html": [
       "<strong>png:</strong> 2"
      ],
      "text/latex": [
       "\\textbf{png:} 2"
      ],
      "text/markdown": [
       "**png:** 2"
      ],
      "text/plain": [
       "png \n",
       "  2 "
      ]
     },
     "metadata": {},
     "output_type": "display_data"
    },
    {
     "data": {
      "text/html": [
       "<strong>png:</strong> 2"
      ],
      "text/latex": [
       "\\textbf{png:} 2"
      ],
      "text/markdown": [
       "**png:** 2"
      ],
      "text/plain": [
       "png \n",
       "  2 "
      ]
     },
     "metadata": {},
     "output_type": "display_data"
    },
    {
     "data": {
      "text/html": [
       "<strong>png:</strong> 2"
      ],
      "text/latex": [
       "\\textbf{png:} 2"
      ],
      "text/markdown": [
       "**png:** 2"
      ],
      "text/plain": [
       "png \n",
       "  2 "
      ]
     },
     "metadata": {},
     "output_type": "display_data"
    }
   ],
   "source": [
    "par(mfrow=c(2,2))\n",
    "cex=2\n",
    "plot_absence_presence(combined_raster_mali_mauri,read.csv(\"../data/train_val_random.csv\", header=TRUE),\"RS\",cex=cex)\n",
    "plot_absence_presence(combined_raster_mali_mauri,read.csv(\"../data/train_val_ep_random.csv\", header=TRUE),\"RSEP\",cex=cex)\n",
    "# plot_absence_presence(combined_raster_mali_mauri,read.csv(\"../data/train_val_ep_kmeans.csv\", header=TRUE),\"RSEP-KM\",cex=cex)\n",
    "\n",
    "\n",
    "# Read already generated background data\n",
    "background <- read.csv(\"../data/background.csv\", header=TRUE)\n",
    "\n",
    "background[,\"presence\"] = 0\n",
    "\n",
    "train <- read.csv(\"../data/train_val_random.csv\", header=TRUE)\n",
    "\n",
    "# Presense only train data\n",
    "train_presence <- train[train$presence == \"1\", ]\n",
    "\n",
    "# combine presence and background\n",
    "train <- rbind(train_presence[c(\"x\",\"y\",\"presence\")], background[c(\"x\",\"y\",\"presence\")]) \n",
    "plot_absence_presence(combined_raster_mali_mauri,train,\"BD\",cex=cex)"
   ]
  },
  {
   "cell_type": "code",
   "execution_count": null,
   "id": "9ae21f29",
   "metadata": {},
   "outputs": [],
   "source": []
  }
 ],
 "metadata": {
  "kernelspec": {
   "display_name": "R",
   "language": "R",
   "name": "ir"
  },
  "language_info": {
   "codemirror_mode": "r",
   "file_extension": ".r",
   "mimetype": "text/x-r-source",
   "name": "R",
   "pygments_lexer": "r",
   "version": "3.6.1"
  }
 },
 "nbformat": 4,
 "nbformat_minor": 5
}
