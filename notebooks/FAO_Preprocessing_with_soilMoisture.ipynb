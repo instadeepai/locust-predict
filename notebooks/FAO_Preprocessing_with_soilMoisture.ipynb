{
 "cells": [
  {
   "cell_type": "code",
   "execution_count": 2,
   "metadata": {
    "colab": {
     "base_uri": "https://localhost:8080/"
    },
    "id": "2eu3wwyu02Rm",
    "outputId": "ab69d0c9-d68a-4234-e456-4521f88d2b07"
   },
   "outputs": [],
   "source": [
    "# from google.colab import drive\n",
    "# drive.mount('/content/drive')"
   ]
  },
  {
   "cell_type": "code",
   "execution_count": 1,
   "metadata": {},
   "outputs": [
    {
     "name": "stdout",
     "output_type": "stream",
     "text": [
      "--2021-08-05 15:58:23--  ftp://ftp.cdc.noaa.gov/Datasets/cpcsoil/soilw.mon.mean.v2.nc\n",
      "           => ‘soilw.mon.mean.v2.nc’\n",
      "Resolving ftp.cdc.noaa.gov (ftp.cdc.noaa.gov)... 140.172.38.117\n",
      "Connecting to ftp.cdc.noaa.gov (ftp.cdc.noaa.gov)|140.172.38.117|:21... connected.\n",
      "Logging in as anonymous ... Logged in!\n",
      "==> SYST ... done.    ==> PWD ... done.\n",
      "==> TYPE I ... done.  ==> CWD (1) /Datasets/cpcsoil ... done.\n",
      "==> SIZE soilw.mon.mean.v2.nc ... 235871847\n",
      "==> PASV ... done.    ==> RETR soilw.mon.mean.v2.nc ... done.\n",
      "Length: 235871847 (225M) (unauthoritative)\n",
      "\n",
      "soilw.mon.mean.v2.n 100%[===================>] 224.94M  7.25MB/s    in 27s     \n",
      "\n",
      "2021-08-05 15:58:53 (8.40 MB/s) - ‘soilw.mon.mean.v2.nc’ saved [235871847]\n",
      "\n"
     ]
    }
   ],
   "source": [
    "# !wget ftp://ftp.cdc.noaa.gov/Datasets/cpcsoil/soilw.mon.mean.v2.nc"
   ]
  },
  {
   "cell_type": "code",
   "execution_count": 8,
   "metadata": {},
   "outputs": [],
   "source": [
    "# !pip install netcdf4 plotly seaborn"
   ]
  },
  {
   "cell_type": "code",
   "execution_count": null,
   "metadata": {
    "id": "jroXFQe_0ysh"
   },
   "outputs": [],
   "source": [
    "import numpy as np\n",
    "import pandas as pd\n",
    "from tqdm.notebook import tqdm\n",
    "\n",
    "import datetime\n",
    "from dateutil.relativedelta import relativedelta\n",
    "import matplotlib.pyplot as plt\n",
    "import plotly.express as px\n",
    "import seaborn as sns\n",
    "\n",
    "import ipywidgets as widgets\n",
    "from IPython.display import display\n",
    "from ipywidgets import IntProgress, HTML, VBox"
   ]
  },
  {
   "cell_type": "code",
   "execution_count": 9,
   "metadata": {
    "id": "LTqhAhyz0ysi"
   },
   "outputs": [],
   "source": [
    "Adults = pd.read_csv(\"Adults.csv\")\n",
    "Swarms  = pd.read_csv(\"Swarms.csv\")\n",
    "Hoppers = pd.read_csv(\"Hoppers.csv\")\n",
    "Ecology = pd.read_csv(\"Ecology.csv\")\n",
    "Control_Operations = pd.read_csv(\"Control_Operations.csv\")"
   ]
  },
  {
   "cell_type": "code",
   "execution_count": 10,
   "metadata": {
    "colab": {
     "base_uri": "https://localhost:8080/"
    },
    "id": "aCt9xtkJ0ysi",
    "outputId": "d44538ac-b56c-4a43-98e2-c0e33ca5e1c8"
   },
   "outputs": [
    {
     "name": "stdout",
     "output_type": "stream",
     "text": [
      "\n",
      "NATVEGCAT\n",
      "Green       227988\n",
      "Drying       86833\n",
      "Dry          70506\n",
      "Greening     36238\n",
      "Unknown      11520\n",
      "Name: NATVEGCAT, dtype: int64\n",
      "\n",
      "NATVEGDEN\n",
      "Moderate    202579\n",
      "Sparse      142929\n",
      "Dense        66730\n",
      "Unknown      20847\n",
      "Name: NATVEGDEN, dtype: int64\n",
      "\n",
      "CULTVEGCAT\n",
      "Unknown     431288\n",
      "Green         1342\n",
      "Dry            218\n",
      "Greening       145\n",
      "Drying          92\n",
      "Name: CULTVEGCAT, dtype: int64\n",
      "\n",
      "SOILMOIST\n",
      "Dry        209531\n",
      "Wet        184116\n",
      "Unknown     39438\n",
      "Name: SOILMOIST, dtype: int64\n",
      "\n",
      "IRRIGATION\n",
      "Unknown    429531\n",
      "No           3453\n",
      "Yes           101\n",
      "Name: IRRIGATION, dtype: int64\n",
      "\n",
      "MORSPECIES\n",
      "Unknown    417223\n",
      "No           9223\n",
      "Yes          6639\n",
      "Name: MORSPECIES, dtype: int64\n"
     ]
    }
   ],
   "source": [
    "ecology_columns = ['NATVEGCAT','NATVEGDEN','CULTVEGCAT','SOILMOIST','IRRIGATION','MORSPECIES']\n",
    "for col in ecology_columns:\n",
    "    print(f'\\n{col}')\n",
    "    print(Ecology[col].value_counts())"
   ]
  },
  {
   "cell_type": "code",
   "execution_count": 11,
   "metadata": {
    "id": "43mNVfzf0ysj"
   },
   "outputs": [],
   "source": [
    "fao_data = pd.concat([Ecology, Swarms, Hoppers, Adults])"
   ]
  },
  {
   "cell_type": "code",
   "execution_count": 12,
   "metadata": {},
   "outputs": [
    {
     "data": {
      "text/html": [
       "<div>\n",
       "<style scoped>\n",
       "    .dataframe tbody tr th:only-of-type {\n",
       "        vertical-align: middle;\n",
       "    }\n",
       "\n",
       "    .dataframe tbody tr th {\n",
       "        vertical-align: top;\n",
       "    }\n",
       "\n",
       "    .dataframe thead th {\n",
       "        text-align: right;\n",
       "    }\n",
       "</style>\n",
       "<table border=\"1\" class=\"dataframe\">\n",
       "  <thead>\n",
       "    <tr style=\"text-align: right;\">\n",
       "      <th></th>\n",
       "      <th>X</th>\n",
       "      <th>Y</th>\n",
       "    </tr>\n",
       "  </thead>\n",
       "  <tbody>\n",
       "    <tr>\n",
       "      <th>count</th>\n",
       "      <td>647397.000000</td>\n",
       "      <td>647397.000000</td>\n",
       "    </tr>\n",
       "    <tr>\n",
       "      <th>mean</th>\n",
       "      <td>28.684101</td>\n",
       "      <td>20.886411</td>\n",
       "    </tr>\n",
       "    <tr>\n",
       "      <th>std</th>\n",
       "      <td>30.821966</td>\n",
       "      <td>6.212712</td>\n",
       "    </tr>\n",
       "    <tr>\n",
       "      <th>min</th>\n",
       "      <td>-77.833333</td>\n",
       "      <td>-13.425000</td>\n",
       "    </tr>\n",
       "    <tr>\n",
       "      <th>25%</th>\n",
       "      <td>-3.865278</td>\n",
       "      <td>16.967000</td>\n",
       "    </tr>\n",
       "    <tr>\n",
       "      <th>50%</th>\n",
       "      <td>37.192778</td>\n",
       "      <td>20.055000</td>\n",
       "    </tr>\n",
       "    <tr>\n",
       "      <th>75%</th>\n",
       "      <td>49.688333</td>\n",
       "      <td>26.063333</td>\n",
       "    </tr>\n",
       "    <tr>\n",
       "      <th>max</th>\n",
       "      <td>85.950000</td>\n",
       "      <td>178.983889</td>\n",
       "    </tr>\n",
       "  </tbody>\n",
       "</table>\n",
       "</div>"
      ],
      "text/plain": [
       "                   X              Y\n",
       "count  647397.000000  647397.000000\n",
       "mean       28.684101      20.886411\n",
       "std        30.821966       6.212712\n",
       "min       -77.833333     -13.425000\n",
       "25%        -3.865278      16.967000\n",
       "50%        37.192778      20.055000\n",
       "75%        49.688333      26.063333\n",
       "max        85.950000     178.983889"
      ]
     },
     "execution_count": 12,
     "metadata": {},
     "output_type": "execute_result"
    }
   ],
   "source": [
    "fao_data[[\"X\", \"Y\"]].describe()"
   ]
  },
  {
   "cell_type": "code",
   "execution_count": 15,
   "metadata": {},
   "outputs": [
    {
     "data": {
      "text/html": [
       "<div>\n",
       "<style scoped>\n",
       "    .dataframe tbody tr th:only-of-type {\n",
       "        vertical-align: middle;\n",
       "    }\n",
       "\n",
       "    .dataframe tbody tr th {\n",
       "        vertical-align: top;\n",
       "    }\n",
       "\n",
       "    .dataframe thead th {\n",
       "        text-align: right;\n",
       "    }\n",
       "</style>\n",
       "<table border=\"1\" class=\"dataframe\">\n",
       "  <thead>\n",
       "    <tr style=\"text-align: right;\">\n",
       "      <th></th>\n",
       "      <th>X</th>\n",
       "      <th>Y</th>\n",
       "      <th>OBJECTID</th>\n",
       "      <th>STARTDATE</th>\n",
       "      <th>TmSTARTDAT</th>\n",
       "      <th>EXACTDATE</th>\n",
       "      <th>PARTMONTH</th>\n",
       "      <th>LOCNAME</th>\n",
       "      <th>AREAHA</th>\n",
       "      <th>LOCRELIAB</th>\n",
       "      <th>...</th>\n",
       "      <th>CTLQTY</th>\n",
       "      <th>CTLQTYU</th>\n",
       "      <th>CTLARTREA</th>\n",
       "      <th>CTLARTREAU</th>\n",
       "      <th>CTLAPPHAND</th>\n",
       "      <th>CTLAPPVEHI</th>\n",
       "      <th>CTLAPPAIR</th>\n",
       "      <th>CTLAPPMECH</th>\n",
       "      <th>CTLAPPUNK</th>\n",
       "      <th>CTLESTKILL</th>\n",
       "    </tr>\n",
       "  </thead>\n",
       "  <tbody>\n",
       "    <tr>\n",
       "      <th>15213</th>\n",
       "      <td>-15.157222</td>\n",
       "      <td>178.983889</td>\n",
       "      <td>15215</td>\n",
       "      <td>1999/11/14 00:00:00+00</td>\n",
       "      <td>00:00</td>\n",
       "      <td>Yes</td>\n",
       "      <td>NaN</td>\n",
       "      <td></td>\n",
       "      <td>2.0</td>\n",
       "      <td>Exact</td>\n",
       "      <td>...</td>\n",
       "      <td>NaN</td>\n",
       "      <td>NaN</td>\n",
       "      <td>NaN</td>\n",
       "      <td>NaN</td>\n",
       "      <td>NaN</td>\n",
       "      <td>NaN</td>\n",
       "      <td>NaN</td>\n",
       "      <td>NaN</td>\n",
       "      <td>NaN</td>\n",
       "      <td>NaN</td>\n",
       "    </tr>\n",
       "    <tr>\n",
       "      <th>25247</th>\n",
       "      <td>43.004167</td>\n",
       "      <td>153.932500</td>\n",
       "      <td>25249</td>\n",
       "      <td>2002/12/13 00:00:00+00</td>\n",
       "      <td>00:00</td>\n",
       "      <td>Yes</td>\n",
       "      <td>NaN</td>\n",
       "      <td></td>\n",
       "      <td>20.0</td>\n",
       "      <td>Exact</td>\n",
       "      <td>...</td>\n",
       "      <td>NaN</td>\n",
       "      <td>NaN</td>\n",
       "      <td>NaN</td>\n",
       "      <td>NaN</td>\n",
       "      <td>NaN</td>\n",
       "      <td>NaN</td>\n",
       "      <td>NaN</td>\n",
       "      <td>NaN</td>\n",
       "      <td>NaN</td>\n",
       "      <td>NaN</td>\n",
       "    </tr>\n",
       "  </tbody>\n",
       "</table>\n",
       "<p>2 rows × 158 columns</p>\n",
       "</div>"
      ],
      "text/plain": [
       "               X           Y  OBJECTID               STARTDATE TmSTARTDAT  \\\n",
       "15213 -15.157222  178.983889     15215  1999/11/14 00:00:00+00      00:00   \n",
       "25247  43.004167  153.932500     25249  2002/12/13 00:00:00+00      00:00   \n",
       "\n",
       "      EXACTDATE PARTMONTH LOCNAME  AREAHA LOCRELIAB  ... CTLQTY CTLQTYU  \\\n",
       "15213       Yes       NaN             2.0     Exact  ...    NaN     NaN   \n",
       "25247       Yes       NaN            20.0     Exact  ...    NaN     NaN   \n",
       "\n",
       "      CTLARTREA CTLARTREAU CTLAPPHAND CTLAPPVEHI CTLAPPAIR CTLAPPMECH  \\\n",
       "15213       NaN        NaN        NaN        NaN       NaN        NaN   \n",
       "25247       NaN        NaN        NaN        NaN       NaN        NaN   \n",
       "\n",
       "      CTLAPPUNK CTLESTKILL  \n",
       "15213       NaN        NaN  \n",
       "25247       NaN        NaN  \n",
       "\n",
       "[2 rows x 158 columns]"
      ]
     },
     "execution_count": 15,
     "metadata": {},
     "output_type": "execute_result"
    }
   ],
   "source": [
    "fao_data[fao_data[\"Y\"] > 90]#[\"CAT\"]"
   ]
  },
  {
   "cell_type": "code",
   "execution_count": null,
   "metadata": {},
   "outputs": [],
   "source": [
    "Ecology[Ecology[\"Y\"] < 90]#[\"CAT\"]"
   ]
  },
  {
   "cell_type": "code",
   "execution_count": 5,
   "metadata": {
    "id": "l7RhEn2L0ysj"
   },
   "outputs": [],
   "source": [
    "#convert date format from onbject to pandas datetime\n",
    "date_columns = ['STARTDATE', 'FINISHDATE', 'CTLSTDATE', 'CTLFNDATE']\n",
    "fao_data[date_columns] = fao_data[date_columns].apply(pd.to_datetime)"
   ]
  },
  {
   "cell_type": "code",
   "execution_count": 6,
   "metadata": {
    "id": "yF8kJsuG0ysj"
   },
   "outputs": [],
   "source": [
    "#Ensure that both Ad and Adult are categorized under the same category\n",
    "fao_data.loc[fao_data['CAT'] == 'Ad', 'CAT'] = 'Adult'"
   ]
  },
  {
   "cell_type": "code",
   "execution_count": 7,
   "metadata": {
    "id": "STNkKqUB0ysj"
   },
   "outputs": [],
   "source": [
    "month_name = ['January', 'February', 'March', 'April', 'May', 'June', 'July', 'August', 'September', 'October', 'November', 'December']"
   ]
  },
  {
   "cell_type": "code",
   "execution_count": 8,
   "metadata": {
    "colab": {
     "base_uri": "https://localhost:8080/"
    },
    "id": "C5-NGPED0ysk",
    "outputId": "6b80f7fb-86b7-418e-a52e-c59ebb6d5fea"
   },
   "outputs": [
    {
     "name": "stdout",
     "output_type": "stream",
     "text": [
      "Dropped 4398 rows with non-exact location. Remaining 642999 rows\n"
     ]
    }
   ],
   "source": [
    "before = len(fao_data)\n",
    "fao_data = fao_data[fao_data[\"LOCRELIAB\"] == \"Exact\"]\n",
    "\n",
    "print(f\"Dropped {before - len(fao_data)} rows with non-exact location. Remaining {len(fao_data)} rows\")"
   ]
  },
  {
   "cell_type": "code",
   "execution_count": 9,
   "metadata": {},
   "outputs": [],
   "source": [
    "lat_increment, lon_increment = (0.5, 0.5)\n",
    "\n",
    "lat_to_bucket_id_fao = lambda x: int((x+90)/lat_increment)\n",
    "lon_to_bucket_id_fao = lambda x: int((x+180)/lon_increment)\n",
    "lat_to_bucket_id_cpc = lambda x: int((x+90)/lat_increment)\n",
    "lon_to_bucket_id_cpc = lambda x: int((x)/lon_increment)\n",
    "\n",
    "bucket_id_to_lat_fao = lambda x: (x*lat_increment) - 90\n",
    "bucket_id_to_lon_fao = lambda x: (x*lon_increment) - 180\n",
    "bucket_id_to_lat_cpc = lambda x: (x*lat_increment) - 90\n",
    "bucket_id_to_lon_cpc = lambda x: (x*lon_increment)"
   ]
  },
  {
   "cell_type": "code",
   "execution_count": 10,
   "metadata": {
    "id": "LuspDORv0ysl"
   },
   "outputs": [],
   "source": [
    "#Replacing specific lat and lon of each row of data with its corresponding bucket_id\n",
    "\n",
    "discretize_time  = lambda x: datetime.date(year=x.year, month=x.month, day=1)\n",
    "\n",
    "truncated_data = fao_data.copy()\n",
    "truncated_data['lat_bucket_id'] = fao_data['Y'].apply(lat_to_bucket_id_fao)\n",
    "truncated_data['lon_bucket_id'] = fao_data['X'].apply(lon_to_bucket_id_fao)\n",
    "\n",
    "truncated_data['date'] = fao_data['STARTDATE'].apply(discretize_time).astype('datetime64[ns]')\n",
    "truncated_data[\"year\"] = fao_data['STARTDATE'].dt.year\n",
    "truncated_data[\"month\"] = fao_data['STARTDATE'].dt.month_name()\n",
    "# truncated_data[\"BREEDING\"] = truncated_data[\"BREEDING\"].fillna(0)"
   ]
  },
  {
   "cell_type": "code",
   "execution_count": 12,
   "metadata": {
    "id": "rrfeYryM0ysl"
   },
   "outputs": [],
   "source": [
    "aggregate_data = truncated_data.groupby(['date','lat_bucket_id','lon_bucket_id']).agg(\n",
    "# meta data\n",
    "    TIME = ('STARTDATE', lambda col: col.mean()), \n",
    "\n",
    "# data count\n",
    "    Count      = ('CAT', len),\n",
    "    Swarm      = ('CAT', lambda col: sum(col=='Swarm')),\n",
    "    Adult      = ('CAT', lambda col: sum(col=='Adult')),\n",
    "    Hopper     = ('CAT', lambda col: sum(col=='Hopper')),\n",
    "    Ecology    = ('CAT', lambda col: sum(col=='Ecology')),\n",
    "\n",
    "# Ecology data count\n",
    "    # NATVEGCAT___Ecology\n",
    "    NATVEGCAT_Green    = ('NATVEGCAT', lambda col: sum(col=='Green')), \n",
    "    NATVEGCAT_Drying   = ('NATVEGCAT', lambda col: sum(col=='Drying')), \n",
    "    NATVEGCAT_Dry      = ('NATVEGCAT', lambda col: sum(col=='Dry')), \n",
    "    NATVEGCAT_Greening = ('NATVEGCAT', lambda col: sum(col=='Greening')), \n",
    "\n",
    "    # NATVEGDEN___Ecology\n",
    "    NATVEGDEN_Moderate = ('NATVEGDEN', lambda col: sum(col=='Moderate')),\n",
    "    NATVEGDEN_Sparse   = ('NATVEGDEN', lambda col: sum(col=='Sparse')), \n",
    "    NATVEGDEN_Dense    = ('NATVEGDEN', lambda col: sum(col=='Dense')), \n",
    "\n",
    "    # SOILMOIST___Ecology\n",
    "    SOILMOIST_Dry      = ('SOILMOIST', lambda col: sum(col=='Dry')),\n",
    "    SOILMOIST_Wet      = ('SOILMOIST', lambda col: sum(col=='Wet')),\n",
    "\n",
    "    # BREEDING\n",
    "    BREEDING_yes = (\"BREEDING\", lambda col: sum(col==1)),\n",
    "    BREEDING_no = (\"BREEDING\", lambda col: sum(col==2)),\n",
    "    BREEDING_na = (\"BREEDING\", lambda col: sum(col==-1)),\n",
    ")"
   ]
  },
  {
   "cell_type": "code",
   "execution_count": 17,
   "metadata": {
    "id": "SqiYrP7b0ysm"
   },
   "outputs": [],
   "source": [
    "#Add month and day data\n",
    "aggregate_data = aggregate_data.reset_index()\n",
    "aggregate_data['month'] = aggregate_data['TIME'].dt.month_name()\n",
    "aggregate_data['day']   = aggregate_data['TIME'].dt.day\n",
    "aggregate_data['year']   = aggregate_data['TIME'].dt.year\n",
    "aggregate_data[\"lat\"] = aggregate_data[\"lat_bucket_id\"].apply(bucket_id_to_lat_fao)\n",
    "aggregate_data[\"lon\"] = aggregate_data[\"lon_bucket_id\"].apply(bucket_id_to_lon_fao)\n",
    "\n",
    "available_years = aggregate_data[\"year\"].unique().tolist()"
   ]
  },
  {
   "cell_type": "code",
   "execution_count": 17,
   "metadata": {
    "id": "-mv__Nkr0ysn"
   },
   "outputs": [],
   "source": [
    "def merge_soil_moisture(data, year):\n",
    "    merge_on = ['lat_bucket_id', 'lon_bucket_id', 'month', 'year']\n",
    "    cpc_data = pd.read_csv(f\"CPC Soil Moisture/cpc_soil_moisture_{year}.csv\")\n",
    "    cpc_data[\"lat_bucket_id\"] = cpc_data[\"lat\"].apply(lat_to_bucket_id_cpc)\n",
    "    cpc_data[\"lon_bucket_id\"] = cpc_data[\"lon\"].apply(lon_to_bucket_id_cpc)\n",
    "    cpc_data[\"time\"] = cpc_data[\"time\"].apply(pd.to_datetime)\n",
    "    cpc_data[\"month\"] = cpc_data[\"time\"].dt.month_name()\n",
    "    data = pd.merge(data, cpc_data[merge_on + ['soilw']], how=\"left\", on=merge_on, validate=\"one_to_one\")\n",
    "    return data"
   ]
  },
  {
   "cell_type": "code",
   "execution_count": 18,
   "metadata": {
    "id": "FRZizYWN0yso"
   },
   "outputs": [],
   "source": [
    "hover_data = ['Swarm', \n",
    "'Adult', \n",
    "'Hopper', \n",
    "\"NATVEGCAT_Green\",\n",
    "\"NATVEGCAT_Drying\",\n",
    "\"NATVEGCAT_Dry\",\n",
    "\"NATVEGCAT_Greening\",\n",
    "\"SOILMOIST_Dry\",\n",
    "\"SOILMOIST_Wet\",\n",
    "\"soilw\"\n",
    "\"BREEDING\"\n",
    "]\n",
    "\n",
    "plot_df = aggregate_data.reset_index()\n",
    "\n",
    "chunks = []\n",
    "\n",
    "for year in available_years:\n",
    "    chunks.append(merge_soil_moisture(plot_df[plot_df[\"year\"] == year], year))"
   ]
  },
  {
   "cell_type": "code",
   "execution_count": 19,
   "metadata": {},
   "outputs": [
    {
     "data": {
      "text/plain": [
       "37"
      ]
     },
     "execution_count": 19,
     "metadata": {},
     "output_type": "execute_result"
    }
   ],
   "source": [
    "len(chunks)"
   ]
  },
  {
   "cell_type": "code",
   "execution_count": 22,
   "metadata": {},
   "outputs": [],
   "source": [
    "fao_data_with_soilw2 = pd.merge(aggregate_data, soilw_data, how=\"left\", on=['lat_bucket_id', 'lon_bucket_id', 'month', 'year'], validate=\"one_to_one\")\n",
    "fao_data_with_soilw2.to_csv(\"fao_data_with_soilw2.csv\")"
   ]
  },
  {
   "cell_type": "code",
   "execution_count": 19,
   "metadata": {},
   "outputs": [],
   "source": [
    "fao_data_with_soilw = pd.read_csv(\"fao_data_with_soilw.csv\")\n",
    "soilw_data = fao_data_with_soilw[['lat_bucket_id', 'lon_bucket_id', 'month', 'year', 'soilw']]"
   ]
  },
  {
   "cell_type": "code",
   "execution_count": 20,
   "metadata": {},
   "outputs": [
    {
     "data": {
      "text/html": [
       "<div>\n",
       "<style scoped>\n",
       "    .dataframe tbody tr th:only-of-type {\n",
       "        vertical-align: middle;\n",
       "    }\n",
       "\n",
       "    .dataframe tbody tr th {\n",
       "        vertical-align: top;\n",
       "    }\n",
       "\n",
       "    .dataframe thead th {\n",
       "        text-align: right;\n",
       "    }\n",
       "</style>\n",
       "<table border=\"1\" class=\"dataframe\">\n",
       "  <thead>\n",
       "    <tr style=\"text-align: right;\">\n",
       "      <th></th>\n",
       "      <th>lat_bucket_id</th>\n",
       "      <th>lon_bucket_id</th>\n",
       "      <th>month</th>\n",
       "      <th>year</th>\n",
       "      <th>soilw</th>\n",
       "    </tr>\n",
       "  </thead>\n",
       "  <tbody>\n",
       "    <tr>\n",
       "      <th>0</th>\n",
       "      <td>199</td>\n",
       "      <td>453</td>\n",
       "      <td>January</td>\n",
       "      <td>1985</td>\n",
       "      <td>NaN</td>\n",
       "    </tr>\n",
       "    <tr>\n",
       "      <th>1</th>\n",
       "      <td>199</td>\n",
       "      <td>454</td>\n",
       "      <td>January</td>\n",
       "      <td>1985</td>\n",
       "      <td>NaN</td>\n",
       "    </tr>\n",
       "    <tr>\n",
       "      <th>2</th>\n",
       "      <td>200</td>\n",
       "      <td>450</td>\n",
       "      <td>January</td>\n",
       "      <td>1985</td>\n",
       "      <td>NaN</td>\n",
       "    </tr>\n",
       "    <tr>\n",
       "      <th>3</th>\n",
       "      <td>200</td>\n",
       "      <td>452</td>\n",
       "      <td>January</td>\n",
       "      <td>1985</td>\n",
       "      <td>NaN</td>\n",
       "    </tr>\n",
       "    <tr>\n",
       "      <th>4</th>\n",
       "      <td>200</td>\n",
       "      <td>457</td>\n",
       "      <td>January</td>\n",
       "      <td>1985</td>\n",
       "      <td>NaN</td>\n",
       "    </tr>\n",
       "    <tr>\n",
       "      <th>...</th>\n",
       "      <td>...</td>\n",
       "      <td>...</td>\n",
       "      <td>...</td>\n",
       "      <td>...</td>\n",
       "      <td>...</td>\n",
       "    </tr>\n",
       "    <tr>\n",
       "      <th>91123</th>\n",
       "      <td>237</td>\n",
       "      <td>509</td>\n",
       "      <td>July</td>\n",
       "      <td>2021</td>\n",
       "      <td>NaN</td>\n",
       "    </tr>\n",
       "    <tr>\n",
       "      <th>91124</th>\n",
       "      <td>237</td>\n",
       "      <td>510</td>\n",
       "      <td>July</td>\n",
       "      <td>2021</td>\n",
       "      <td>NaN</td>\n",
       "    </tr>\n",
       "    <tr>\n",
       "      <th>91125</th>\n",
       "      <td>238</td>\n",
       "      <td>506</td>\n",
       "      <td>July</td>\n",
       "      <td>2021</td>\n",
       "      <td>NaN</td>\n",
       "    </tr>\n",
       "    <tr>\n",
       "      <th>91126</th>\n",
       "      <td>238</td>\n",
       "      <td>507</td>\n",
       "      <td>July</td>\n",
       "      <td>2021</td>\n",
       "      <td>NaN</td>\n",
       "    </tr>\n",
       "    <tr>\n",
       "      <th>91127</th>\n",
       "      <td>239</td>\n",
       "      <td>507</td>\n",
       "      <td>July</td>\n",
       "      <td>2021</td>\n",
       "      <td>NaN</td>\n",
       "    </tr>\n",
       "  </tbody>\n",
       "</table>\n",
       "<p>91128 rows × 5 columns</p>\n",
       "</div>"
      ],
      "text/plain": [
       "       lat_bucket_id  lon_bucket_id    month  year  soilw\n",
       "0                199            453  January  1985    NaN\n",
       "1                199            454  January  1985    NaN\n",
       "2                200            450  January  1985    NaN\n",
       "3                200            452  January  1985    NaN\n",
       "4                200            457  January  1985    NaN\n",
       "...              ...            ...      ...   ...    ...\n",
       "91123            237            509     July  2021    NaN\n",
       "91124            237            510     July  2021    NaN\n",
       "91125            238            506     July  2021    NaN\n",
       "91126            238            507     July  2021    NaN\n",
       "91127            239            507     July  2021    NaN\n",
       "\n",
       "[91128 rows x 5 columns]"
      ]
     },
     "execution_count": 20,
     "metadata": {},
     "output_type": "execute_result"
    }
   ],
   "source": [
    "soilw_data"
   ]
  },
  {
   "cell_type": "code",
   "execution_count": 21,
   "metadata": {},
   "outputs": [],
   "source": [
    "pd.concat(chunks).to_csv(\"fao_data_with_soilw.csv\")"
   ]
  },
  {
   "cell_type": "code",
   "execution_count": 27,
   "metadata": {
    "colab": {
     "base_uri": "https://localhost:8080/",
     "height": 49,
     "referenced_widgets": [
      "0ee76327db66449798db2a3edb065552",
      "e2c15f2f126a4f83aea6584d19e6258f",
      "ca3f218b58fa4edf983cacf56d099969",
      "de4a6505299f429aa4f4ce632cf58024",
      "245345bd5dc04107bcf9017b13c4e2fb",
      "8e0e0b084f5b4ccba953f879c137b2b1",
      "da711f3b8a644f0bb03fb11ccc15787d",
      "37383df5799c4432b868a6c49c7ee9ad",
      "7bad1fe5766944ed9c3480d519d779fa",
      "ffd2cd1ea4b9456280fd04f679a51e6a"
     ]
    },
    "id": "utozV4PW0yso",
    "outputId": "fe4c0c6f-b8d7-4543-c6ab-f1612fc5c5e0"
   },
   "outputs": [
    {
     "data": {
      "application/vnd.jupyter.widget-view+json": {
       "model_id": "9b095d700cdd4e508a8863a1a7ae3f14",
       "version_major": 2,
       "version_minor": 0
      },
      "text/plain": [
       "HBox(children=(Dropdown(description='Month', options=('January', 'February', 'March', 'April', 'May', 'June', …"
      ]
     },
     "metadata": {},
     "output_type": "display_data"
    },
    {
     "data": {
      "application/vnd.jupyter.widget-view+json": {
       "model_id": "1c88e6389d0c428092a5f57789ac6871",
       "version_major": 2,
       "version_minor": 0
      },
      "text/plain": [
       "Output()"
      ]
     },
     "metadata": {},
     "output_type": "display_data"
    }
   ],
   "source": [
    "def display_map(month, year):\n",
    "    data_to_plot = plot_df[(plot_df[\"month\"] == month) & (plot_df[\"year\"] == year)]\n",
    "    data_to_plot = merge_soil_moisture(data_to_plot, year)\n",
    "    fig = px.scatter_mapbox(lat='lat', lon='lon',\n",
    "                          size  = 2 * (data_to_plot[\"month\"] == month),\n",
    "                          data_frame = data_to_plot,\n",
    "                          hover_data=hover_data,\n",
    "                          size_max=15, zoom=2\n",
    "                          )\n",
    "    fig.update_layout(mapbox_style=\"open-street-map\")\n",
    "    fig.update_layout(margin={\"r\":0,\"t\":0,\"l\":0,\"b\":0})\n",
    "    fig.show()\n",
    "\n",
    "month = widgets.Dropdown(\n",
    "    options=month_name,\n",
    "    value='January',\n",
    "    description='Month',\n",
    "    disabled=False,\n",
    ")\n",
    "year = widgets.Dropdown(\n",
    "    options=available_years,\n",
    "    value=available_years[0],\n",
    "    description='Year',\n",
    "    disabled=False,\n",
    ")\n",
    "\n",
    "\n",
    "ui = widgets.HBox([month, year])\n",
    "out = widgets.interactive_output(display_map, {\"month\":month, \"year\":year})\n",
    "\n",
    "display(ui, out)"
   ]
  },
  {
   "cell_type": "markdown",
   "metadata": {
    "id": "jmwljM6l7ouI"
   },
   "source": [
    "## Reading Soil Moisture Dataset"
   ]
  },
  {
   "cell_type": "code",
   "execution_count": 1,
   "metadata": {
    "id": "IG5sEJzcSE2o"
   },
   "outputs": [],
   "source": [
    "import numpy as np\n",
    "import pandas as pd\n",
    "import netCDF4 as nc\n",
    "from datetime import date, timedelta\n",
    "\n",
    "def get_date(days):\n",
    "    start = date(1800,1,1)\n",
    "    delta = timedelta(days)     \n",
    "    new_date = start + delta\n",
    "    return pd.to_datetime(new_date)\n",
    "\n",
    "def cartesian(arrays, out=None):\n",
    "    \"\"\"\n",
    "    Generate a cartesian product of input arrays.\n",
    "    Parameters\n",
    "    ----------\n",
    "    arrays : list of array-like\n",
    "        1-D arrays to form the cartesian product of.\n",
    "    out : ndarray\n",
    "        Array to place the cartesian product in.\n",
    "    Returns\n",
    "    -------\n",
    "    out : ndarray\n",
    "        2-D array of shape (M, len(arrays)) containing cartesian products\n",
    "        formed of input arrays.\n",
    "    Examples\n",
    "    --------\n",
    "    >>> cartesian(([1, 2, 3], [4, 5], [6, 7]))\n",
    "    array([[1, 4, 6],\n",
    "           [1, 4, 7],\n",
    "           [1, 5, 6],\n",
    "           [1, 5, 7],\n",
    "           [2, 4, 6],\n",
    "           [2, 4, 7],\n",
    "           [2, 5, 6],\n",
    "           [2, 5, 7],\n",
    "           [3, 4, 6],\n",
    "           [3, 4, 7],\n",
    "           [3, 5, 6],\n",
    "           [3, 5, 7]])\n",
    "    \"\"\"\n",
    "\n",
    "    arrays = [np.asarray(x) for x in arrays]\n",
    "    dtype = arrays[0].dtype\n",
    "\n",
    "    n = np.prod([x.size for x in arrays])\n",
    "    if out is None:\n",
    "        out = np.zeros([n, len(arrays)], dtype=dtype)\n",
    "\n",
    "    m = int(n / arrays[0].size)\n",
    "    out[:,0] = np.repeat(arrays[0], m)\n",
    "    if arrays[1:]:\n",
    "        cartesian(arrays[1:], out=out[0:m,1:])\n",
    "        for j in range(1, arrays[0].size):\n",
    "            out[j*m:(j+1)*m,1:] = out[0:m,1:]\n",
    "    return out"
   ]
  },
  {
   "cell_type": "code",
   "execution_count": 2,
   "metadata": {
    "id": "DNBTlMU67y1Q"
   },
   "outputs": [],
   "source": [
    "soil_moisture_ds = nc.Dataset(\"soilw.mon.mean.v2.nc\")"
   ]
  },
  {
   "cell_type": "code",
   "execution_count": 3,
   "metadata": {
    "colab": {
     "base_uri": "https://localhost:8080/"
    },
    "id": "GuIAusxL79Vb",
    "outputId": "7d860e66-699f-42c0-a27c-45dd14f91005"
   },
   "outputs": [
    {
     "data": {
      "text/plain": [
       "<class 'netCDF4._netCDF4.Dataset'>\n",
       "root group (NETCDF4_CLASSIC data model, file format HDF5):\n",
       "    Conventions: CF-1.0\n",
       "    title: CPC Soil Moisture\n",
       "    institution: NOAA/ESRL PSD\n",
       "    dataset_title: CPC Soil Moisture\n",
       "    history: Wed Oct 18 15:13:37 2017: ncks -d time,,-2 soilw.mon.mean.x.nc soilw.mon.mean.xx.nc\n",
       "Wed Oct 18 15:12:08 2017: ncks -d time,,-3 soilw.mon.mean.nc soilw.mon.mean.x.nc\n",
       "CPC Soil Moisture\n",
       " Obtained on Nov 2004 from CPC's website\n",
       " and written to netCDF by Cathy Smith 12/2004.\n",
       " he CPC Global monthly soil moisture dataset is a 1/2 degree resolution grid from 1948 to the present.\n",
       " The file is written in COARDS and CF compliant netCDF at NOAA ESRL/PSD https://www.esrl.noaa.gov/psd/ \n",
       " Converted to chunked, deflated non-packed NetCDF4 Jul 2014\n",
       "    NCO: 4.6.9\n",
       "    References: https://www.psl.noaa.gov/data/gridded/data.cpcsoil.html\n",
       "    dimensions(sizes): lat(360), lon(720), time(882)\n",
       "    variables(dimensions): float32 lat(lat), float32 lon(lon), float32 soilw(time, lat, lon), float64 time(time)\n",
       "    groups: "
      ]
     },
     "execution_count": 3,
     "metadata": {},
     "output_type": "execute_result"
    }
   ],
   "source": [
    "soil_moisture_ds"
   ]
  },
  {
   "cell_type": "code",
   "execution_count": 30,
   "metadata": {
    "colab": {
     "base_uri": "https://localhost:8080/"
    },
    "id": "tHMPLu-S8EN9",
    "outputId": "ff1f9d36-110e-4f2e-dc28-1ebf3bafe833"
   },
   "outputs": [
    {
     "name": "stdout",
     "output_type": "stream",
     "text": [
      "<class 'netCDF4._netCDF4.Dimension'>: name = 'lat', size = 360\n",
      "<class 'netCDF4._netCDF4.Dimension'>: name = 'lon', size = 720\n",
      "<class 'netCDF4._netCDF4.Dimension'> (unlimited): name = 'time', size = 882\n"
     ]
    }
   ],
   "source": [
    "for dim in soil_moisture_ds.dimensions.values():\n",
    "    print(dim)"
   ]
  },
  {
   "cell_type": "code",
   "execution_count": 31,
   "metadata": {
    "colab": {
     "base_uri": "https://localhost:8080/"
    },
    "id": "Kv03uaal8GhI",
    "outputId": "9c01c311-fd77-4377-9183-3a91c5ea056c"
   },
   "outputs": [
    {
     "data": {
      "text/plain": [
       "<class 'netCDF4._netCDF4.Variable'>\n",
       "float32 lat(lat)\n",
       "    long_name: Latitude\n",
       "    units: degrees_north\n",
       "    actual_range: [ 89.75 -89.75]\n",
       "    standard_name: latitude\n",
       "    axis: Y\n",
       "    coordinate_defines: point\n",
       "unlimited dimensions: \n",
       "current shape = (360,)\n",
       "filling on, default _FillValue of 9.969209968386869e+36 used"
      ]
     },
     "execution_count": 31,
     "metadata": {},
     "output_type": "execute_result"
    }
   ],
   "source": [
    "soil_moisture_ds[\"lat\"]"
   ]
  },
  {
   "cell_type": "code",
   "execution_count": 32,
   "metadata": {
    "colab": {
     "base_uri": "https://localhost:8080/"
    },
    "id": "tGbHkywV8M1e",
    "outputId": "f332da4a-5c84-43df-b2b5-b2f9f7547c30"
   },
   "outputs": [
    {
     "data": {
      "text/plain": [
       "<class 'netCDF4._netCDF4.Variable'>\n",
       "float32 lon(lon)\n",
       "    long_name: Longitude\n",
       "    units: degrees_east\n",
       "    actual_range: [2.5000e-01 3.5975e+02]\n",
       "    standard_name: longitude\n",
       "    axis: X\n",
       "    coordinate_defines: point\n",
       "unlimited dimensions: \n",
       "current shape = (720,)\n",
       "filling on, default _FillValue of 9.969209968386869e+36 used"
      ]
     },
     "execution_count": 32,
     "metadata": {},
     "output_type": "execute_result"
    }
   ],
   "source": [
    "soil_moisture_ds[\"lon\"]"
   ]
  },
  {
   "cell_type": "code",
   "execution_count": 33,
   "metadata": {
    "colab": {
     "base_uri": "https://localhost:8080/"
    },
    "id": "wTcUpKsZf7Gw",
    "outputId": "1b898698-6e0b-4d66-dcbd-d0432a9ce782",
    "scrolled": true
   },
   "outputs": [
    {
     "data": {
      "text/plain": [
       "masked_array(data=[ 89.75,  89.25,  88.75,  88.25,  87.75,  87.25,  86.75,\n",
       "                    86.25,  85.75,  85.25,  84.75,  84.25,  83.75,  83.25,\n",
       "                    82.75,  82.25,  81.75,  81.25,  80.75,  80.25,  79.75,\n",
       "                    79.25,  78.75,  78.25,  77.75,  77.25,  76.75,  76.25,\n",
       "                    75.75,  75.25,  74.75,  74.25,  73.75,  73.25,  72.75,\n",
       "                    72.25,  71.75,  71.25,  70.75,  70.25,  69.75,  69.25,\n",
       "                    68.75,  68.25,  67.75,  67.25,  66.75,  66.25,  65.75,\n",
       "                    65.25,  64.75,  64.25,  63.75,  63.25,  62.75,  62.25,\n",
       "                    61.75,  61.25,  60.75,  60.25,  59.75,  59.25,  58.75,\n",
       "                    58.25,  57.75,  57.25,  56.75,  56.25,  55.75,  55.25,\n",
       "                    54.75,  54.25,  53.75,  53.25,  52.75,  52.25,  51.75,\n",
       "                    51.25,  50.75,  50.25,  49.75,  49.25,  48.75,  48.25,\n",
       "                    47.75,  47.25,  46.75,  46.25,  45.75,  45.25,  44.75,\n",
       "                    44.25,  43.75,  43.25,  42.75,  42.25,  41.75,  41.25,\n",
       "                    40.75,  40.25,  39.75,  39.25,  38.75,  38.25,  37.75,\n",
       "                    37.25,  36.75,  36.25,  35.75,  35.25,  34.75,  34.25,\n",
       "                    33.75,  33.25,  32.75,  32.25,  31.75,  31.25,  30.75,\n",
       "                    30.25,  29.75,  29.25,  28.75,  28.25,  27.75,  27.25,\n",
       "                    26.75,  26.25,  25.75,  25.25,  24.75,  24.25,  23.75,\n",
       "                    23.25,  22.75,  22.25,  21.75,  21.25,  20.75,  20.25,\n",
       "                    19.75,  19.25,  18.75,  18.25,  17.75,  17.25,  16.75,\n",
       "                    16.25,  15.75,  15.25,  14.75,  14.25,  13.75,  13.25,\n",
       "                    12.75,  12.25,  11.75,  11.25,  10.75,  10.25,   9.75,\n",
       "                     9.25,   8.75,   8.25,   7.75,   7.25,   6.75,   6.25,\n",
       "                     5.75,   5.25,   4.75,   4.25,   3.75,   3.25,   2.75,\n",
       "                     2.25,   1.75,   1.25,   0.75,   0.25,  -0.25,  -0.75,\n",
       "                    -1.25,  -1.75,  -2.25,  -2.75,  -3.25,  -3.75,  -4.25,\n",
       "                    -4.75,  -5.25,  -5.75,  -6.25,  -6.75,  -7.25,  -7.75,\n",
       "                    -8.25,  -8.75,  -9.25,  -9.75, -10.25, -10.75, -11.25,\n",
       "                   -11.75, -12.25, -12.75, -13.25, -13.75, -14.25, -14.75,\n",
       "                   -15.25, -15.75, -16.25, -16.75, -17.25, -17.75, -18.25,\n",
       "                   -18.75, -19.25, -19.75, -20.25, -20.75, -21.25, -21.75,\n",
       "                   -22.25, -22.75, -23.25, -23.75, -24.25, -24.75, -25.25,\n",
       "                   -25.75, -26.25, -26.75, -27.25, -27.75, -28.25, -28.75,\n",
       "                   -29.25, -29.75, -30.25, -30.75, -31.25, -31.75, -32.25,\n",
       "                   -32.75, -33.25, -33.75, -34.25, -34.75, -35.25, -35.75,\n",
       "                   -36.25, -36.75, -37.25, -37.75, -38.25, -38.75, -39.25,\n",
       "                   -39.75, -40.25, -40.75, -41.25, -41.75, -42.25, -42.75,\n",
       "                   -43.25, -43.75, -44.25, -44.75, -45.25, -45.75, -46.25,\n",
       "                   -46.75, -47.25, -47.75, -48.25, -48.75, -49.25, -49.75,\n",
       "                   -50.25, -50.75, -51.25, -51.75, -52.25, -52.75, -53.25,\n",
       "                   -53.75, -54.25, -54.75, -55.25, -55.75, -56.25, -56.75,\n",
       "                   -57.25, -57.75, -58.25, -58.75, -59.25, -59.75, -60.25,\n",
       "                   -60.75, -61.25, -61.75, -62.25, -62.75, -63.25, -63.75,\n",
       "                   -64.25, -64.75, -65.25, -65.75, -66.25, -66.75, -67.25,\n",
       "                   -67.75, -68.25, -68.75, -69.25, -69.75, -70.25, -70.75,\n",
       "                   -71.25, -71.75, -72.25, -72.75, -73.25, -73.75, -74.25,\n",
       "                   -74.75, -75.25, -75.75, -76.25, -76.75, -77.25, -77.75,\n",
       "                   -78.25, -78.75, -79.25, -79.75, -80.25, -80.75, -81.25,\n",
       "                   -81.75, -82.25, -82.75, -83.25, -83.75, -84.25, -84.75,\n",
       "                   -85.25, -85.75, -86.25, -86.75, -87.25, -87.75, -88.25,\n",
       "                   -88.75, -89.25, -89.75],\n",
       "             mask=False,\n",
       "       fill_value=1e+20,\n",
       "            dtype=float32)"
      ]
     },
     "execution_count": 33,
     "metadata": {},
     "output_type": "execute_result"
    }
   ],
   "source": [
    "soil_moisture_ds[\"lat\"][:]"
   ]
  },
  {
   "cell_type": "code",
   "execution_count": 34,
   "metadata": {
    "colab": {
     "base_uri": "https://localhost:8080/"
    },
    "id": "Pyk93Hr8gRs_",
    "outputId": "791a1281-3644-493d-c326-31c040aec7ab"
   },
   "outputs": [
    {
     "data": {
      "text/plain": [
       "(882,)"
      ]
     },
     "execution_count": 34,
     "metadata": {},
     "output_type": "execute_result"
    }
   ],
   "source": [
    "soil_moisture_ds[\"time\"][:].filled().shape"
   ]
  },
  {
   "cell_type": "code",
   "execution_count": 35,
   "metadata": {
    "colab": {
     "base_uri": "https://localhost:8080/"
    },
    "id": "ky7DFWg28N-j",
    "outputId": "82540f5d-a184-4769-8392-e1643eada648"
   },
   "outputs": [
    {
     "data": {
      "text/plain": [
       "<class 'netCDF4._netCDF4.Variable'>\n",
       "float64 time(time)\n",
       "    long_name: Time\n",
       "    units: days since 1800-01-01 00:00:0.0\n",
       "    delta_t: 0000-01-00 00:00:00\n",
       "    avg_period: 0000-01-00 00:00:00\n",
       "    standard_name: time\n",
       "    axis: T\n",
       "    bounds: time_bnds\n",
       "    coordinate_defines: start\n",
       "    prev_avg_period: 0000-00-01 00:00:00\n",
       "    actual_range: [54055. 80870.]\n",
       "unlimited dimensions: time\n",
       "current shape = (882,)\n",
       "filling on, default _FillValue of 9.969209968386869e+36 used"
      ]
     },
     "execution_count": 35,
     "metadata": {},
     "output_type": "execute_result"
    }
   ],
   "source": [
    "soil_moisture_ds[\"time\"]"
   ]
  },
  {
   "cell_type": "code",
   "execution_count": 36,
   "metadata": {
    "colab": {
     "base_uri": "https://localhost:8080/"
    },
    "id": "HnEWGGT-8PLm",
    "outputId": "ba0b089e-e2a9-4a95-8b3c-2a7d744ba696"
   },
   "outputs": [
    {
     "data": {
      "text/plain": [
       "<class 'netCDF4._netCDF4.Variable'>\n",
       "float32 soilw(time, lat, lon)\n",
       "    long_name: Model-Calculated Monthly Mean Soil Moisture\n",
       "    missing_value: -9.96921e+36\n",
       "    units: mm\n",
       "    valid_range: [   0. 1000.]\n",
       "    dataset: CPC Monthly Soil Moisture\n",
       "    var_desc: Soil Moisture\n",
       "    level_desc: Surface\n",
       "    statistic: Monthly Mean\n",
       "    parent_stat: Other\n",
       "    standard_name: lwe_thickness_of_soil_moisture_content\n",
       "    cell_methods: time: mean (monthly from values)\n",
       "    actual_range: [0.000000e+00 9.999318e+29]\n",
       "unlimited dimensions: time\n",
       "current shape = (882, 360, 720)\n",
       "filling on, default _FillValue of 9.969209968386869e+36 used"
      ]
     },
     "execution_count": 36,
     "metadata": {},
     "output_type": "execute_result"
    }
   ],
   "source": [
    "soil_moisture_ds[\"soilw\"]"
   ]
  },
  {
   "cell_type": "code",
   "execution_count": 4,
   "metadata": {
    "id": "58NnpFBQ8TNw"
   },
   "outputs": [
    {
     "ename": "KeyboardInterrupt",
     "evalue": "",
     "output_type": "error",
     "traceback": [
      "\u001b[0;31m---------------------------------------------------------------------------\u001b[0m",
      "\u001b[0;31mAttributeError\u001b[0m                            Traceback (most recent call last)",
      "\u001b[0;32m/opt/conda/lib/python3.8/site-packages/numpy/core/fromnumeric.py\u001b[0m in \u001b[0;36mndim\u001b[0;34m(a)\u001b[0m\n\u001b[1;32m   3107\u001b[0m     \u001b[0;32mtry\u001b[0m\u001b[0;34m:\u001b[0m\u001b[0;34m\u001b[0m\u001b[0;34m\u001b[0m\u001b[0m\n\u001b[0;32m-> 3108\u001b[0;31m         \u001b[0;32mreturn\u001b[0m \u001b[0ma\u001b[0m\u001b[0;34m.\u001b[0m\u001b[0mndim\u001b[0m\u001b[0;34m\u001b[0m\u001b[0;34m\u001b[0m\u001b[0m\n\u001b[0m\u001b[1;32m   3109\u001b[0m     \u001b[0;32mexcept\u001b[0m \u001b[0mAttributeError\u001b[0m\u001b[0;34m:\u001b[0m\u001b[0;34m\u001b[0m\u001b[0;34m\u001b[0m\u001b[0m\n",
      "\u001b[0;31mAttributeError\u001b[0m: 'Timestamp' object has no attribute 'ndim'",
      "\nDuring handling of the above exception, another exception occurred:\n",
      "\u001b[0;31mKeyboardInterrupt\u001b[0m                         Traceback (most recent call last)",
      "\u001b[0;32m<ipython-input-4-1a3521bc9cd2>\u001b[0m in \u001b[0;36m<module>\u001b[0;34m\u001b[0m\n\u001b[1;32m      7\u001b[0m })\n\u001b[1;32m      8\u001b[0m \u001b[0;34m\u001b[0m\u001b[0m\n\u001b[0;32m----> 9\u001b[0;31m \u001b[0mcpc_soil_moisture\u001b[0m\u001b[0;34m[\u001b[0m\u001b[0;34m\"time\"\u001b[0m\u001b[0;34m]\u001b[0m \u001b[0;34m=\u001b[0m \u001b[0mcpc_soil_moisture\u001b[0m\u001b[0;34m[\u001b[0m\u001b[0;34m\"time\"\u001b[0m\u001b[0;34m]\u001b[0m\u001b[0;34m.\u001b[0m\u001b[0mapply\u001b[0m\u001b[0;34m(\u001b[0m\u001b[0mget_date\u001b[0m\u001b[0;34m)\u001b[0m\u001b[0;34m\u001b[0m\u001b[0;34m\u001b[0m\u001b[0m\n\u001b[0m\u001b[1;32m     10\u001b[0m \u001b[0mcpc_soil_moisture\u001b[0m \u001b[0;34m=\u001b[0m \u001b[0mcpc_soil_moisture\u001b[0m\u001b[0;34m[\u001b[0m\u001b[0mcpc_soil_moisture\u001b[0m\u001b[0;34m[\u001b[0m\u001b[0;34m\"soilw\"\u001b[0m\u001b[0;34m]\u001b[0m\u001b[0;34m.\u001b[0m\u001b[0mnotna\u001b[0m\u001b[0;34m(\u001b[0m\u001b[0;34m)\u001b[0m\u001b[0;34m]\u001b[0m\u001b[0;34m\u001b[0m\u001b[0;34m\u001b[0m\u001b[0m\n\u001b[1;32m     11\u001b[0m \u001b[0;31m# cpc_soil_moisture.to_csv(\"cpc_soil_moisture.csv\")\u001b[0m\u001b[0;34m\u001b[0m\u001b[0;34m\u001b[0m\u001b[0;34m\u001b[0m\u001b[0m\n",
      "\u001b[0;32m/opt/conda/lib/python3.8/site-packages/pandas/core/series.py\u001b[0m in \u001b[0;36mapply\u001b[0;34m(self, func, convert_dtype, args, **kwds)\u001b[0m\n\u001b[1;32m   4210\u001b[0m             \u001b[0;32melse\u001b[0m\u001b[0;34m:\u001b[0m\u001b[0;34m\u001b[0m\u001b[0;34m\u001b[0m\u001b[0m\n\u001b[1;32m   4211\u001b[0m                 \u001b[0mvalues\u001b[0m \u001b[0;34m=\u001b[0m \u001b[0mself\u001b[0m\u001b[0;34m.\u001b[0m\u001b[0mastype\u001b[0m\u001b[0;34m(\u001b[0m\u001b[0mobject\u001b[0m\u001b[0;34m)\u001b[0m\u001b[0;34m.\u001b[0m\u001b[0m_values\u001b[0m\u001b[0;34m\u001b[0m\u001b[0;34m\u001b[0m\u001b[0m\n\u001b[0;32m-> 4212\u001b[0;31m                 \u001b[0mmapped\u001b[0m \u001b[0;34m=\u001b[0m \u001b[0mlib\u001b[0m\u001b[0;34m.\u001b[0m\u001b[0mmap_infer\u001b[0m\u001b[0;34m(\u001b[0m\u001b[0mvalues\u001b[0m\u001b[0;34m,\u001b[0m \u001b[0mf\u001b[0m\u001b[0;34m,\u001b[0m \u001b[0mconvert\u001b[0m\u001b[0;34m=\u001b[0m\u001b[0mconvert_dtype\u001b[0m\u001b[0;34m)\u001b[0m\u001b[0;34m\u001b[0m\u001b[0;34m\u001b[0m\u001b[0m\n\u001b[0m\u001b[1;32m   4213\u001b[0m \u001b[0;34m\u001b[0m\u001b[0m\n\u001b[1;32m   4214\u001b[0m         \u001b[0;32mif\u001b[0m \u001b[0mlen\u001b[0m\u001b[0;34m(\u001b[0m\u001b[0mmapped\u001b[0m\u001b[0;34m)\u001b[0m \u001b[0;32mand\u001b[0m \u001b[0misinstance\u001b[0m\u001b[0;34m(\u001b[0m\u001b[0mmapped\u001b[0m\u001b[0;34m[\u001b[0m\u001b[0;36m0\u001b[0m\u001b[0;34m]\u001b[0m\u001b[0;34m,\u001b[0m \u001b[0mSeries\u001b[0m\u001b[0;34m)\u001b[0m\u001b[0;34m:\u001b[0m\u001b[0;34m\u001b[0m\u001b[0;34m\u001b[0m\u001b[0m\n",
      "\u001b[0;32mpandas/_libs/lib.pyx\u001b[0m in \u001b[0;36mpandas._libs.lib.map_infer\u001b[0;34m()\u001b[0m\n",
      "\u001b[0;32m<ipython-input-1-1967d7babfb8>\u001b[0m in \u001b[0;36mget_date\u001b[0;34m(days)\u001b[0m\n\u001b[1;32m      8\u001b[0m     \u001b[0mdelta\u001b[0m \u001b[0;34m=\u001b[0m \u001b[0mtimedelta\u001b[0m\u001b[0;34m(\u001b[0m\u001b[0mdays\u001b[0m\u001b[0;34m)\u001b[0m\u001b[0;34m\u001b[0m\u001b[0;34m\u001b[0m\u001b[0m\n\u001b[1;32m      9\u001b[0m     \u001b[0mnew_date\u001b[0m \u001b[0;34m=\u001b[0m \u001b[0mstart\u001b[0m \u001b[0;34m+\u001b[0m \u001b[0mdelta\u001b[0m\u001b[0;34m\u001b[0m\u001b[0;34m\u001b[0m\u001b[0m\n\u001b[0;32m---> 10\u001b[0;31m     \u001b[0;32mreturn\u001b[0m \u001b[0mpd\u001b[0m\u001b[0;34m.\u001b[0m\u001b[0mto_datetime\u001b[0m\u001b[0;34m(\u001b[0m\u001b[0mnew_date\u001b[0m\u001b[0;34m)\u001b[0m\u001b[0;34m\u001b[0m\u001b[0;34m\u001b[0m\u001b[0m\n\u001b[0m\u001b[1;32m     11\u001b[0m \u001b[0;34m\u001b[0m\u001b[0m\n\u001b[1;32m     12\u001b[0m \u001b[0;32mdef\u001b[0m \u001b[0mcartesian\u001b[0m\u001b[0;34m(\u001b[0m\u001b[0marrays\u001b[0m\u001b[0;34m,\u001b[0m \u001b[0mout\u001b[0m\u001b[0;34m=\u001b[0m\u001b[0;32mNone\u001b[0m\u001b[0;34m)\u001b[0m\u001b[0;34m:\u001b[0m\u001b[0;34m\u001b[0m\u001b[0;34m\u001b[0m\u001b[0m\n",
      "\u001b[0;32m/opt/conda/lib/python3.8/site-packages/pandas/core/tools/datetimes.py\u001b[0m in \u001b[0;36mto_datetime\u001b[0;34m(arg, errors, dayfirst, yearfirst, utc, format, exact, unit, infer_datetime_format, origin, cache)\u001b[0m\n\u001b[1;32m    828\u001b[0m             \u001b[0mresult\u001b[0m \u001b[0;34m=\u001b[0m \u001b[0mconvert_listlike\u001b[0m\u001b[0;34m(\u001b[0m\u001b[0marg\u001b[0m\u001b[0;34m,\u001b[0m \u001b[0mformat\u001b[0m\u001b[0;34m)\u001b[0m\u001b[0;34m\u001b[0m\u001b[0;34m\u001b[0m\u001b[0m\n\u001b[1;32m    829\u001b[0m     \u001b[0;32melse\u001b[0m\u001b[0;34m:\u001b[0m\u001b[0;34m\u001b[0m\u001b[0;34m\u001b[0m\u001b[0m\n\u001b[0;32m--> 830\u001b[0;31m         \u001b[0mresult\u001b[0m \u001b[0;34m=\u001b[0m \u001b[0mconvert_listlike\u001b[0m\u001b[0;34m(\u001b[0m\u001b[0mnp\u001b[0m\u001b[0;34m.\u001b[0m\u001b[0marray\u001b[0m\u001b[0;34m(\u001b[0m\u001b[0;34m[\u001b[0m\u001b[0marg\u001b[0m\u001b[0;34m]\u001b[0m\u001b[0;34m)\u001b[0m\u001b[0;34m,\u001b[0m \u001b[0mformat\u001b[0m\u001b[0;34m)\u001b[0m\u001b[0;34m[\u001b[0m\u001b[0;36m0\u001b[0m\u001b[0;34m]\u001b[0m\u001b[0;34m\u001b[0m\u001b[0;34m\u001b[0m\u001b[0m\n\u001b[0m\u001b[1;32m    831\u001b[0m \u001b[0;34m\u001b[0m\u001b[0m\n\u001b[1;32m    832\u001b[0m     \u001b[0;32mreturn\u001b[0m \u001b[0mresult\u001b[0m\u001b[0;34m\u001b[0m\u001b[0;34m\u001b[0m\u001b[0m\n",
      "\u001b[0;32m/opt/conda/lib/python3.8/site-packages/pandas/core/indexes/extension.py\u001b[0m in \u001b[0;36m__getitem__\u001b[0;34m(self, key)\u001b[0m\n\u001b[1;32m    221\u001b[0m \u001b[0;34m\u001b[0m\u001b[0m\n\u001b[1;32m    222\u001b[0m         \u001b[0;31m# Includes cases where we get a 2D ndarray back for MPL compat\u001b[0m\u001b[0;34m\u001b[0m\u001b[0;34m\u001b[0m\u001b[0;34m\u001b[0m\u001b[0m\n\u001b[0;32m--> 223\u001b[0;31m         \u001b[0mdeprecate_ndim_indexing\u001b[0m\u001b[0;34m(\u001b[0m\u001b[0mresult\u001b[0m\u001b[0;34m)\u001b[0m\u001b[0;34m\u001b[0m\u001b[0;34m\u001b[0m\u001b[0m\n\u001b[0m\u001b[1;32m    224\u001b[0m         \u001b[0;32mreturn\u001b[0m \u001b[0mresult\u001b[0m\u001b[0;34m\u001b[0m\u001b[0;34m\u001b[0m\u001b[0m\n\u001b[1;32m    225\u001b[0m \u001b[0;34m\u001b[0m\u001b[0m\n",
      "\u001b[0;32m/opt/conda/lib/python3.8/site-packages/pandas/core/indexers.py\u001b[0m in \u001b[0;36mdeprecate_ndim_indexing\u001b[0;34m(result, stacklevel)\u001b[0m\n\u001b[1;32m    305\u001b[0m     (Deprecation GH#30588).\n\u001b[1;32m    306\u001b[0m     \"\"\"\n\u001b[0;32m--> 307\u001b[0;31m     \u001b[0;32mif\u001b[0m \u001b[0mnp\u001b[0m\u001b[0;34m.\u001b[0m\u001b[0mndim\u001b[0m\u001b[0;34m(\u001b[0m\u001b[0mresult\u001b[0m\u001b[0;34m)\u001b[0m \u001b[0;34m>\u001b[0m \u001b[0;36m1\u001b[0m\u001b[0;34m:\u001b[0m\u001b[0;34m\u001b[0m\u001b[0;34m\u001b[0m\u001b[0m\n\u001b[0m\u001b[1;32m    308\u001b[0m         warnings.warn(\n\u001b[1;32m    309\u001b[0m             \u001b[0;34m\"Support for multi-dimensional indexing (e.g. `obj[:, None]`) \"\u001b[0m\u001b[0;34m\u001b[0m\u001b[0;34m\u001b[0m\u001b[0m\n",
      "\u001b[0;32m<__array_function__ internals>\u001b[0m in \u001b[0;36mndim\u001b[0;34m(*args, **kwargs)\u001b[0m\n",
      "\u001b[0;32m/opt/conda/lib/python3.8/site-packages/numpy/core/fromnumeric.py\u001b[0m in \u001b[0;36mndim\u001b[0;34m(a)\u001b[0m\n\u001b[1;32m   3108\u001b[0m         \u001b[0;32mreturn\u001b[0m \u001b[0ma\u001b[0m\u001b[0;34m.\u001b[0m\u001b[0mndim\u001b[0m\u001b[0;34m\u001b[0m\u001b[0;34m\u001b[0m\u001b[0m\n\u001b[1;32m   3109\u001b[0m     \u001b[0;32mexcept\u001b[0m \u001b[0mAttributeError\u001b[0m\u001b[0;34m:\u001b[0m\u001b[0;34m\u001b[0m\u001b[0;34m\u001b[0m\u001b[0m\n\u001b[0;32m-> 3110\u001b[0;31m         \u001b[0;32mreturn\u001b[0m \u001b[0masarray\u001b[0m\u001b[0;34m(\u001b[0m\u001b[0ma\u001b[0m\u001b[0;34m)\u001b[0m\u001b[0;34m.\u001b[0m\u001b[0mndim\u001b[0m\u001b[0;34m\u001b[0m\u001b[0;34m\u001b[0m\u001b[0m\n\u001b[0m\u001b[1;32m   3111\u001b[0m \u001b[0;34m\u001b[0m\u001b[0m\n\u001b[1;32m   3112\u001b[0m \u001b[0;34m\u001b[0m\u001b[0m\n",
      "\u001b[0;32m/opt/conda/lib/python3.8/site-packages/numpy/core/_asarray.py\u001b[0m in \u001b[0;36masarray\u001b[0;34m(a, dtype, order)\u001b[0m\n\u001b[1;32m     81\u001b[0m \u001b[0;34m\u001b[0m\u001b[0m\n\u001b[1;32m     82\u001b[0m     \"\"\"\n\u001b[0;32m---> 83\u001b[0;31m     \u001b[0;32mreturn\u001b[0m \u001b[0marray\u001b[0m\u001b[0;34m(\u001b[0m\u001b[0ma\u001b[0m\u001b[0;34m,\u001b[0m \u001b[0mdtype\u001b[0m\u001b[0;34m,\u001b[0m \u001b[0mcopy\u001b[0m\u001b[0;34m=\u001b[0m\u001b[0;32mFalse\u001b[0m\u001b[0;34m,\u001b[0m \u001b[0morder\u001b[0m\u001b[0;34m=\u001b[0m\u001b[0morder\u001b[0m\u001b[0;34m)\u001b[0m\u001b[0;34m\u001b[0m\u001b[0;34m\u001b[0m\u001b[0m\n\u001b[0m\u001b[1;32m     84\u001b[0m \u001b[0;34m\u001b[0m\u001b[0m\n\u001b[1;32m     85\u001b[0m \u001b[0;34m\u001b[0m\u001b[0m\n",
      "\u001b[0;31mKeyboardInterrupt\u001b[0m: "
     ]
    }
   ],
   "source": [
    "time_lat_lon = cartesian([soil_moisture_ds[\"time\"][:].filled(), soil_moisture_ds[\"lat\"][:].filled(), soil_moisture_ds[\"lon\"][:].filled()])\n",
    "cpc_soil_moisture = pd.DataFrame({\n",
    "    \"time\": time_lat_lon[:, 0],\n",
    "    \"lat\": time_lat_lon[:, 1],\n",
    "    \"lon\": time_lat_lon[:, 2],\n",
    "    \"soilw\": soil_moisture_ds[\"soilw\"][:].reshape(-1)\n",
    "})\n",
    "\n",
    "cpc_soil_moisture[\"time\"] = cpc_soil_moisture[\"time\"].apply(get_date)\n",
    "cpc_soil_moisture = cpc_soil_moisture[cpc_soil_moisture[\"soilw\"].notna()]\n",
    "# cpc_soil_moisture.to_csv(\"cpc_soil_moisture.csv\")"
   ]
  },
  {
   "cell_type": "code",
   "execution_count": null,
   "metadata": {},
   "outputs": [],
   "source": [
    "cpc_soil_moisture"
   ]
  },
  {
   "cell_type": "code",
   "execution_count": 41,
   "metadata": {
    "id": "sw3WRDxx8hFu"
   },
   "outputs": [],
   "source": []
  },
  {
   "cell_type": "code",
   "execution_count": 44,
   "metadata": {},
   "outputs": [],
   "source": [
    "# Save csv file for each year into \"CPC Soil Moisture\" folder\n",
    "\n",
    "cpc_soil_moisture[\"year\"] = cpc_soil_moisture[\"time\"].dt.year\n",
    "for year in cpc_soil_moisture[\"year\"].unique():\n",
    "    data_for_year = cpc_soil_moisture[cpc_soil_moisture[\"year\"] == year]\n",
    "    data_for_year.to_csv(f\"CPC Soil Moisture/cpc_soil_moisture_{year}.csv\")"
   ]
  },
  {
   "cell_type": "code",
   "execution_count": 2,
   "metadata": {},
   "outputs": [],
   "source": []
  },
  {
   "cell_type": "code",
   "execution_count": 4,
   "metadata": {},
   "outputs": [],
   "source": [
    "cpc_soil_moisture_1985 = pd.read_csv(\"CPC Soil Moisture/cpc_soil_moisture_1985.csv\")\n",
    "cpc_soil_moisture_1985[\"lat_bucket_id\"] = cpc_soil_moisture_1985[\"lat\"].apply(lat_to_bucket_id_cpc)\n",
    "cpc_soil_moisture_1985[\"lon_bucket_id\"] = cpc_soil_moisture_1985[\"lon\"].apply(lon_to_bucket_id_cpc)\n",
    "cpc_soil_moisture_1985[\"time\"] = cpc_soil_moisture_1985[\"time\"].apply(pd.to_datetime)\n",
    "cpc_soil_moisture_1985[\"month\"] = cpc_soil_moisture_1985[\"time\"].dt.month_name()"
   ]
  },
  {
   "cell_type": "code",
   "execution_count": 8,
   "metadata": {},
   "outputs": [],
   "source": []
  },
  {
   "cell_type": "code",
   "execution_count": 28,
   "metadata": {},
   "outputs": [],
   "source": [
    "fao_1985 = aggregate_data[aggregate_data[\"YEAR\"] == 1985].reset_index().rename(columns={\"NAMED MONTH\":\"month\", \"YEAR\":\"year\"})\n",
    "merge_on = ['lat_bucket_id', 'lon_bucket_id', 'month', 'year']\n",
    "fao_1985_with_soilw = pd.merge(fao_1985, cpc_soil_moisture_1985[['lat_bucket_id', 'lon_bucket_id', 'month', 'year', 'soilw']], how=\"left\", on=merge_on, validate=\"one_to_one\")"
   ]
  },
  {
   "cell_type": "code",
   "execution_count": 29,
   "metadata": {},
   "outputs": [],
   "source": [
    "def merge_soil_moisture(data, year):\n",
    "    merge_on = ['lat_bucket_id', 'lon_bucket_id', 'month', 'year']\n",
    "    cpc_data = pd.read_csv(f\"CPC Soil Moisture/cpc_soil_moisture_{year}.csv\")\n",
    "    cpc_data[\"lat_bucket_id\"] = cpc_data[\"lat\"].apply(lat_to_bucket_id_cpc)\n",
    "    cpc_data[\"lon_bucket_id\"] = cpc_data[\"lon\"].apply(lon_to_bucket_id_cpc)\n",
    "    cpc_data[\"time\"] = cpc_data[\"time\"].apply(pd.to_datetime)\n",
    "    cpc_data[\"month\"] = cpc_data[\"time\"].dt.month_name()\n",
    "    data = pd.merge(data, cpc_data[merge_on + ['soilw']], how=\"left\", on=merge_on, validate=\"one_to_one\")\n",
    "    return data"
   ]
  },
  {
   "cell_type": "markdown",
   "metadata": {},
   "source": [
    "# Reading and Preprocessing ISRIC Data"
   ]
  },
  {
   "cell_type": "code",
   "execution_count": 25,
   "metadata": {},
   "outputs": [],
   "source": [
    "# read remote vrt dataset into a local tif file\n",
    "\n",
    "from pathlib import Path\n",
    "import rasterio\n",
    "\n",
    "# the destination file \n",
    "data = Path.cwd() / 'data'\n",
    "data.mkdir(exist_ok=True, parents=True)\n",
    "dst = str(data/'clay_0-5cm_mean.tif')\n",
    "\n",
    "# create the downloading url in 3 steps\n",
    "sg_layer = 'clay/clay_0-5cm_mean.vrt'\n",
    "location = f'https://files.isric.org/soilgrids/latest/data/{sg_layer}'\n",
    "sg_url = f'/vsicurl?max_retry=3&retry_delay=1&list_dir=no&url={location}'\n",
    "chunks = []\n",
    "\n",
    "with rasterio.open(sg_url) as src:\n",
    "    \n",
    "    kwds = src.profile\n",
    "    tags = src.tags() # Add soilgrids tags with creation info.\n",
    "    kwds['driver'] = 'GTiff'\n",
    "    kwds['tiled'] = True\n",
    "    kwds['compress'] = 'deflate' # lzw or deflate\n",
    "    kwds['dtype']: 'int16' # soilgrids datatype\n",
    "    kwds['nodata'] = -32768 # default nodata\n",
    "\n",
    "    with rasterio.open(dst, 'w', **kwds) as dst:\n",
    "        for ji, window in src.block_windows(1):\n",
    "            dst.update_tags(**tags)\n",
    "            dst.write(src.read(window=window), window=window)"
   ]
  },
  {
   "cell_type": "code",
   "execution_count": 15,
   "metadata": {},
   "outputs": [],
   "source": [
    "# read and process large local tif file\n",
    "\n",
    "import geopandas as gpd\n",
    "import numpy as np\n",
    "import pandas as pd\n",
    "import rasterio as rio\n",
    "\n",
    "def preprocess_large_tif(tif_filename):\n",
    "    chunks = []\n",
    "    chunk_id = 0\n",
    "    with rio.Env():\n",
    "        with rio.open(tif_filename) as src:\n",
    "            crs = src.crs\n",
    "            for ji, window in src.block_windows(1): #600k\n",
    "                # create 1D coordinate arrays (coordinates of the pixel center)\n",
    "                xmin, ymax = np.around(src.xy(window.col_off, window.row_off), 9)  # src.xy(0, 0)\n",
    "                xmax, ymin = np.around(src.xy(window.width-1, window.height-1), 9)  # src.xy(src.width-1, src.height-1)\n",
    "                x = np.linspace(xmin, xmax, window.width)\n",
    "                y = np.linspace(ymax, ymin, window.height)  # max -> min so coords are top -> bottom\n",
    "\n",
    "                # create 2D arrays\n",
    "                xs, ys = np.meshgrid(x, y)\n",
    "                zs = src.read(1, window=window)\n",
    "\n",
    "                # Apply NoData mask\n",
    "                mask = src.read_masks(1, window=window) > 0\n",
    "                xs, ys, zs = xs[mask], ys[mask], zs[mask]\n",
    "\n",
    "                data = {\"X\": pd.Series(xs.ravel()),\n",
    "                        \"Y\": pd.Series(ys.ravel()),\n",
    "                        \"Z\": pd.Series(zs.ravel())}\n",
    "\n",
    "                df = pd.DataFrame(data=data)\n",
    "                geometry = gpd.points_from_xy(df.X, df.Y)\n",
    "                gdf = gpd.GeoDataFrame(df, crs=crs, geometry=geometry)\n",
    "                gdf = gdf.to_crs(\"EPSG:4326\")\n",
    "                gdf[\"lat\"] = gdf.geometry.y\n",
    "                gdf[\"lon\"] = gdf.geometry.x\n",
    "                if len(gdf) > 0:\n",
    "                    chunks.append(gdf)\n",
    "                if ((len(chunks) % 10000) == 0) and (len(chunks) > 0):\n",
    "                    chunk_id += 1\n",
    "                    pd.concat(chunks).reset_index().to_csv(f\"clay_0_5cm_{chunk_id}.csv\")\n",
    "                    chunks = []\n",
    "    pd.concat(chunks).reset_index().to_csv(f\"clay_0_5cm_{chunk_id}.csv\")"
   ]
  },
  {
   "cell_type": "code",
   "execution_count": 16,
   "metadata": {},
   "outputs": [
    {
     "ename": "KeyboardInterrupt",
     "evalue": "",
     "output_type": "error",
     "traceback": [
      "\u001b[0;31m---------------------------------------------------------------------------\u001b[0m",
      "\u001b[0;31mKeyboardInterrupt\u001b[0m                         Traceback (most recent call last)",
      "\u001b[0;32m<ipython-input-16-b8f1dda3cc2d>\u001b[0m in \u001b[0;36m<module>\u001b[0;34m\u001b[0m\n\u001b[0;32m----> 1\u001b[0;31m \u001b[0mpreprocess_large_tif\u001b[0m\u001b[0;34m(\u001b[0m\u001b[0;34m'data/clay_0-5cm_mean.tif'\u001b[0m\u001b[0;34m)\u001b[0m\u001b[0;34m\u001b[0m\u001b[0;34m\u001b[0m\u001b[0m\n\u001b[0m",
      "\u001b[0;32m<ipython-input-15-061edee98ced>\u001b[0m in \u001b[0;36mpreprocess_large_tif\u001b[0;34m(tif_filename)\u001b[0m\n\u001b[1;32m     34\u001b[0m                 \u001b[0mgeometry\u001b[0m \u001b[0;34m=\u001b[0m \u001b[0mgpd\u001b[0m\u001b[0;34m.\u001b[0m\u001b[0mpoints_from_xy\u001b[0m\u001b[0;34m(\u001b[0m\u001b[0mdf\u001b[0m\u001b[0;34m.\u001b[0m\u001b[0mX\u001b[0m\u001b[0;34m,\u001b[0m \u001b[0mdf\u001b[0m\u001b[0;34m.\u001b[0m\u001b[0mY\u001b[0m\u001b[0;34m)\u001b[0m\u001b[0;34m\u001b[0m\u001b[0;34m\u001b[0m\u001b[0m\n\u001b[1;32m     35\u001b[0m                 \u001b[0mgdf\u001b[0m \u001b[0;34m=\u001b[0m \u001b[0mgpd\u001b[0m\u001b[0;34m.\u001b[0m\u001b[0mGeoDataFrame\u001b[0m\u001b[0;34m(\u001b[0m\u001b[0mdf\u001b[0m\u001b[0;34m,\u001b[0m \u001b[0mcrs\u001b[0m\u001b[0;34m=\u001b[0m\u001b[0mcrs\u001b[0m\u001b[0;34m,\u001b[0m \u001b[0mgeometry\u001b[0m\u001b[0;34m=\u001b[0m\u001b[0mgeometry\u001b[0m\u001b[0;34m)\u001b[0m\u001b[0;34m\u001b[0m\u001b[0;34m\u001b[0m\u001b[0m\n\u001b[0;32m---> 36\u001b[0;31m                 \u001b[0mgdf\u001b[0m \u001b[0;34m=\u001b[0m \u001b[0mgdf\u001b[0m\u001b[0;34m.\u001b[0m\u001b[0mto_crs\u001b[0m\u001b[0;34m(\u001b[0m\u001b[0;34m\"EPSG:4326\"\u001b[0m\u001b[0;34m)\u001b[0m\u001b[0;34m\u001b[0m\u001b[0;34m\u001b[0m\u001b[0m\n\u001b[0m\u001b[1;32m     37\u001b[0m                 \u001b[0mgdf\u001b[0m\u001b[0;34m[\u001b[0m\u001b[0;34m\"lat\"\u001b[0m\u001b[0;34m]\u001b[0m \u001b[0;34m=\u001b[0m \u001b[0mgdf\u001b[0m\u001b[0;34m.\u001b[0m\u001b[0mgeometry\u001b[0m\u001b[0;34m.\u001b[0m\u001b[0my\u001b[0m\u001b[0;34m\u001b[0m\u001b[0;34m\u001b[0m\u001b[0m\n\u001b[1;32m     38\u001b[0m                 \u001b[0mgdf\u001b[0m\u001b[0;34m[\u001b[0m\u001b[0;34m\"lon\"\u001b[0m\u001b[0;34m]\u001b[0m \u001b[0;34m=\u001b[0m \u001b[0mgdf\u001b[0m\u001b[0;34m.\u001b[0m\u001b[0mgeometry\u001b[0m\u001b[0;34m.\u001b[0m\u001b[0mx\u001b[0m\u001b[0;34m\u001b[0m\u001b[0;34m\u001b[0m\u001b[0m\n",
      "\u001b[0;32m/opt/conda/lib/python3.8/site-packages/geopandas/geodataframe.py\u001b[0m in \u001b[0;36mto_crs\u001b[0;34m(self, crs, epsg, inplace)\u001b[0m\n\u001b[1;32m   1245\u001b[0m         \u001b[0;32melse\u001b[0m\u001b[0;34m:\u001b[0m\u001b[0;34m\u001b[0m\u001b[0;34m\u001b[0m\u001b[0m\n\u001b[1;32m   1246\u001b[0m             \u001b[0mdf\u001b[0m \u001b[0;34m=\u001b[0m \u001b[0mself\u001b[0m\u001b[0;34m.\u001b[0m\u001b[0mcopy\u001b[0m\u001b[0;34m(\u001b[0m\u001b[0;34m)\u001b[0m\u001b[0;34m\u001b[0m\u001b[0;34m\u001b[0m\u001b[0m\n\u001b[0;32m-> 1247\u001b[0;31m         \u001b[0mgeom\u001b[0m \u001b[0;34m=\u001b[0m \u001b[0mdf\u001b[0m\u001b[0;34m.\u001b[0m\u001b[0mgeometry\u001b[0m\u001b[0;34m.\u001b[0m\u001b[0mto_crs\u001b[0m\u001b[0;34m(\u001b[0m\u001b[0mcrs\u001b[0m\u001b[0;34m=\u001b[0m\u001b[0mcrs\u001b[0m\u001b[0;34m,\u001b[0m \u001b[0mepsg\u001b[0m\u001b[0;34m=\u001b[0m\u001b[0mepsg\u001b[0m\u001b[0;34m)\u001b[0m\u001b[0;34m\u001b[0m\u001b[0;34m\u001b[0m\u001b[0m\n\u001b[0m\u001b[1;32m   1248\u001b[0m         \u001b[0mdf\u001b[0m\u001b[0;34m.\u001b[0m\u001b[0mgeometry\u001b[0m \u001b[0;34m=\u001b[0m \u001b[0mgeom\u001b[0m\u001b[0;34m\u001b[0m\u001b[0;34m\u001b[0m\u001b[0m\n\u001b[1;32m   1249\u001b[0m         \u001b[0mdf\u001b[0m\u001b[0;34m.\u001b[0m\u001b[0mcrs\u001b[0m \u001b[0;34m=\u001b[0m \u001b[0mgeom\u001b[0m\u001b[0;34m.\u001b[0m\u001b[0mcrs\u001b[0m\u001b[0;34m\u001b[0m\u001b[0;34m\u001b[0m\u001b[0m\n",
      "\u001b[0;32m/opt/conda/lib/python3.8/site-packages/geopandas/geoseries.py\u001b[0m in \u001b[0;36mto_crs\u001b[0;34m(self, crs, epsg)\u001b[0m\n\u001b[1;32m   1026\u001b[0m         \"\"\"\n\u001b[1;32m   1027\u001b[0m         return GeoSeries(\n\u001b[0;32m-> 1028\u001b[0;31m             \u001b[0mself\u001b[0m\u001b[0;34m.\u001b[0m\u001b[0mvalues\u001b[0m\u001b[0;34m.\u001b[0m\u001b[0mto_crs\u001b[0m\u001b[0;34m(\u001b[0m\u001b[0mcrs\u001b[0m\u001b[0;34m=\u001b[0m\u001b[0mcrs\u001b[0m\u001b[0;34m,\u001b[0m \u001b[0mepsg\u001b[0m\u001b[0;34m=\u001b[0m\u001b[0mepsg\u001b[0m\u001b[0;34m)\u001b[0m\u001b[0;34m,\u001b[0m \u001b[0mindex\u001b[0m\u001b[0;34m=\u001b[0m\u001b[0mself\u001b[0m\u001b[0;34m.\u001b[0m\u001b[0mindex\u001b[0m\u001b[0;34m,\u001b[0m \u001b[0mname\u001b[0m\u001b[0;34m=\u001b[0m\u001b[0mself\u001b[0m\u001b[0;34m.\u001b[0m\u001b[0mname\u001b[0m\u001b[0;34m\u001b[0m\u001b[0;34m\u001b[0m\u001b[0m\n\u001b[0m\u001b[1;32m   1029\u001b[0m         )\n\u001b[1;32m   1030\u001b[0m \u001b[0;34m\u001b[0m\u001b[0m\n",
      "\u001b[0;32m/opt/conda/lib/python3.8/site-packages/geopandas/array.py\u001b[0m in \u001b[0;36mto_crs\u001b[0;34m(self, crs, epsg)\u001b[0m\n\u001b[1;32m    795\u001b[0m         \u001b[0mtransformer\u001b[0m \u001b[0;34m=\u001b[0m \u001b[0mTransformer\u001b[0m\u001b[0;34m.\u001b[0m\u001b[0mfrom_crs\u001b[0m\u001b[0;34m(\u001b[0m\u001b[0mself\u001b[0m\u001b[0;34m.\u001b[0m\u001b[0mcrs\u001b[0m\u001b[0;34m,\u001b[0m \u001b[0mcrs\u001b[0m\u001b[0;34m,\u001b[0m \u001b[0malways_xy\u001b[0m\u001b[0;34m=\u001b[0m\u001b[0;32mTrue\u001b[0m\u001b[0;34m)\u001b[0m\u001b[0;34m\u001b[0m\u001b[0;34m\u001b[0m\u001b[0m\n\u001b[1;32m    796\u001b[0m \u001b[0;34m\u001b[0m\u001b[0m\n\u001b[0;32m--> 797\u001b[0;31m         \u001b[0mnew_data\u001b[0m \u001b[0;34m=\u001b[0m \u001b[0mvectorized\u001b[0m\u001b[0;34m.\u001b[0m\u001b[0mtransform\u001b[0m\u001b[0;34m(\u001b[0m\u001b[0mself\u001b[0m\u001b[0;34m.\u001b[0m\u001b[0mdata\u001b[0m\u001b[0;34m,\u001b[0m \u001b[0mtransformer\u001b[0m\u001b[0;34m.\u001b[0m\u001b[0mtransform\u001b[0m\u001b[0;34m)\u001b[0m\u001b[0;34m\u001b[0m\u001b[0;34m\u001b[0m\u001b[0m\n\u001b[0m\u001b[1;32m    798\u001b[0m         \u001b[0;32mreturn\u001b[0m \u001b[0mGeometryArray\u001b[0m\u001b[0;34m(\u001b[0m\u001b[0mnew_data\u001b[0m\u001b[0;34m,\u001b[0m \u001b[0mcrs\u001b[0m\u001b[0;34m=\u001b[0m\u001b[0mcrs\u001b[0m\u001b[0;34m)\u001b[0m\u001b[0;34m\u001b[0m\u001b[0;34m\u001b[0m\u001b[0m\n\u001b[1;32m    799\u001b[0m \u001b[0;34m\u001b[0m\u001b[0m\n",
      "\u001b[0;32m/opt/conda/lib/python3.8/site-packages/geopandas/_vectorized.py\u001b[0m in \u001b[0;36mtransform\u001b[0;34m(data, func)\u001b[0m\n\u001b[1;32m    945\u001b[0m                 \u001b[0mresult\u001b[0m\u001b[0;34m[\u001b[0m\u001b[0mi\u001b[0m\u001b[0;34m]\u001b[0m \u001b[0;34m=\u001b[0m \u001b[0mgeom\u001b[0m\u001b[0;34m\u001b[0m\u001b[0;34m\u001b[0m\u001b[0m\n\u001b[1;32m    946\u001b[0m             \u001b[0;32melse\u001b[0m\u001b[0;34m:\u001b[0m\u001b[0;34m\u001b[0m\u001b[0;34m\u001b[0m\u001b[0m\n\u001b[0;32m--> 947\u001b[0;31m                 \u001b[0mresult\u001b[0m\u001b[0;34m[\u001b[0m\u001b[0mi\u001b[0m\u001b[0;34m]\u001b[0m \u001b[0;34m=\u001b[0m \u001b[0mtransform\u001b[0m\u001b[0;34m(\u001b[0m\u001b[0mfunc\u001b[0m\u001b[0;34m,\u001b[0m \u001b[0mgeom\u001b[0m\u001b[0;34m)\u001b[0m\u001b[0;34m\u001b[0m\u001b[0;34m\u001b[0m\u001b[0m\n\u001b[0m\u001b[1;32m    948\u001b[0m \u001b[0;34m\u001b[0m\u001b[0m\n\u001b[1;32m    949\u001b[0m         \u001b[0;32mreturn\u001b[0m \u001b[0mresult\u001b[0m\u001b[0;34m\u001b[0m\u001b[0;34m\u001b[0m\u001b[0m\n",
      "\u001b[0;32m/opt/conda/lib/python3.8/site-packages/shapely/ops.py\u001b[0m in \u001b[0;36mtransform\u001b[0;34m(func, geom)\u001b[0m\n\u001b[1;32m    235\u001b[0m         \u001b[0;32mtry\u001b[0m\u001b[0;34m:\u001b[0m\u001b[0;34m\u001b[0m\u001b[0;34m\u001b[0m\u001b[0m\n\u001b[1;32m    236\u001b[0m             \u001b[0;32mif\u001b[0m \u001b[0mgeom\u001b[0m\u001b[0;34m.\u001b[0m\u001b[0mtype\u001b[0m \u001b[0;32min\u001b[0m \u001b[0;34m(\u001b[0m\u001b[0;34m'Point'\u001b[0m\u001b[0;34m,\u001b[0m \u001b[0;34m'LineString'\u001b[0m\u001b[0;34m,\u001b[0m \u001b[0;34m'LinearRing'\u001b[0m\u001b[0;34m)\u001b[0m\u001b[0;34m:\u001b[0m\u001b[0;34m\u001b[0m\u001b[0;34m\u001b[0m\u001b[0m\n\u001b[0;32m--> 237\u001b[0;31m                 \u001b[0;32mreturn\u001b[0m \u001b[0mtype\u001b[0m\u001b[0;34m(\u001b[0m\u001b[0mgeom\u001b[0m\u001b[0;34m)\u001b[0m\u001b[0;34m(\u001b[0m\u001b[0mzip\u001b[0m\u001b[0;34m(\u001b[0m\u001b[0;34m*\u001b[0m\u001b[0mfunc\u001b[0m\u001b[0;34m(\u001b[0m\u001b[0;34m*\u001b[0m\u001b[0mizip\u001b[0m\u001b[0;34m(\u001b[0m\u001b[0;34m*\u001b[0m\u001b[0mgeom\u001b[0m\u001b[0;34m.\u001b[0m\u001b[0mcoords\u001b[0m\u001b[0;34m)\u001b[0m\u001b[0;34m)\u001b[0m\u001b[0;34m)\u001b[0m\u001b[0;34m)\u001b[0m\u001b[0;34m\u001b[0m\u001b[0;34m\u001b[0m\u001b[0m\n\u001b[0m\u001b[1;32m    238\u001b[0m             \u001b[0;32melif\u001b[0m \u001b[0mgeom\u001b[0m\u001b[0;34m.\u001b[0m\u001b[0mtype\u001b[0m \u001b[0;34m==\u001b[0m \u001b[0;34m'Polygon'\u001b[0m\u001b[0;34m:\u001b[0m\u001b[0;34m\u001b[0m\u001b[0;34m\u001b[0m\u001b[0m\n\u001b[1;32m    239\u001b[0m                 shell = type(geom.exterior)(\n",
      "\u001b[0;32m/opt/conda/lib/python3.8/site-packages/shapely/coords.py\u001b[0m in \u001b[0;36m__len__\u001b[0;34m(self)\u001b[0m\n\u001b[1;32m     49\u001b[0m         \u001b[0mself\u001b[0m\u001b[0;34m.\u001b[0m\u001b[0m_update\u001b[0m\u001b[0;34m(\u001b[0m\u001b[0;34m)\u001b[0m\u001b[0;34m\u001b[0m\u001b[0;34m\u001b[0m\u001b[0m\n\u001b[1;32m     50\u001b[0m         \u001b[0mcs_len\u001b[0m \u001b[0;34m=\u001b[0m \u001b[0mc_uint\u001b[0m\u001b[0;34m(\u001b[0m\u001b[0;36m0\u001b[0m\u001b[0;34m)\u001b[0m\u001b[0;34m\u001b[0m\u001b[0;34m\u001b[0m\u001b[0m\n\u001b[0;32m---> 51\u001b[0;31m         \u001b[0mlgeos\u001b[0m\u001b[0;34m.\u001b[0m\u001b[0mGEOSCoordSeq_getSize\u001b[0m\u001b[0;34m(\u001b[0m\u001b[0mself\u001b[0m\u001b[0;34m.\u001b[0m\u001b[0m_cseq\u001b[0m\u001b[0;34m,\u001b[0m \u001b[0mbyref\u001b[0m\u001b[0;34m(\u001b[0m\u001b[0mcs_len\u001b[0m\u001b[0;34m)\u001b[0m\u001b[0;34m)\u001b[0m\u001b[0;34m\u001b[0m\u001b[0;34m\u001b[0m\u001b[0m\n\u001b[0m\u001b[1;32m     52\u001b[0m         \u001b[0;32mreturn\u001b[0m \u001b[0mcs_len\u001b[0m\u001b[0;34m.\u001b[0m\u001b[0mvalue\u001b[0m\u001b[0;34m\u001b[0m\u001b[0;34m\u001b[0m\u001b[0m\n\u001b[1;32m     53\u001b[0m \u001b[0;34m\u001b[0m\u001b[0m\n",
      "\u001b[0;31mKeyboardInterrupt\u001b[0m: "
     ]
    }
   ],
   "source": [
    "preprocess_large_tif('data/clay_0-5cm_mean.tif')"
   ]
  },
  {
   "cell_type": "code",
   "execution_count": 17,
   "metadata": {},
   "outputs": [],
   "source": [
    "df = pd.read_csv(\"clay_0_5cm_1.csv\")"
   ]
  },
  {
   "cell_type": "code",
   "execution_count": 18,
   "metadata": {},
   "outputs": [
    {
     "data": {
      "text/plain": [
       "0.0"
      ]
     },
     "execution_count": 18,
     "metadata": {},
     "output_type": "execute_result"
    }
   ],
   "source": [
    "len(df[df[\"Z\"] == 0]) / len(df)"
   ]
  },
  {
   "cell_type": "code",
   "execution_count": null,
   "metadata": {},
   "outputs": [],
   "source": []
  },
  {
   "cell_type": "code",
   "execution_count": null,
   "metadata": {},
   "outputs": [],
   "source": [
    "import rasterio as rio\n",
    "with rio.open('data/clay_0-5cm_mean.tif') as src:\n",
    "    windows = [window for ij, window in src.block_windows()]"
   ]
  },
  {
   "cell_type": "code",
   "execution_count": null,
   "metadata": {},
   "outputs": [],
   "source": [
    "# read remote vrt dataset, preprocess into a geopandas dataframe\n",
    "\n",
    "import geopandas as gpd\n",
    "import numpy as np\n",
    "import pandas as pd\n",
    "import rasterio as rio\n",
    "\n",
    "def preprocess_remote_vrt(vrt_dataset_path): # e.g 'clay/clay_0-5cm_mean.vrt'\n",
    "    location = f'https://files.isric.org/soilgrids/latest/data/{vrt_dataset_path}'\n",
    "    sg_url = f'/vsicurl?max_retry=3&retry_delay=1&list_dir=no&url={location}'\n",
    "    chunks = []\n",
    "\n",
    "    with rio.Env():\n",
    "        with rasterio.open(sg_url) as src:\n",
    "            crs = src.crs\n",
    "            for ji, window in src.block_windows(1):\n",
    "                # create 1D coordinate arrays (coordinates of the pixel center)\n",
    "                xmin, ymax = np.around(src.xy(window.col_off, window.row_off), 9)  # src.xy(0, 0)\n",
    "                xmax, ymin = np.around(src.xy(window.width-1, window.height-1), 9)  # src.xy(src.width-1, src.height-1)\n",
    "                x = np.linspace(xmin, xmax, window.width)\n",
    "                y = np.linspace(ymax, ymin, window.height)  # max -> min so coords are top -> bottom\n",
    "\n",
    "                # create 2D arrays\n",
    "                xs, ys = np.meshgrid(x, y)\n",
    "                zs = src.read(1, window=window)\n",
    "\n",
    "                # Apply NoData mask\n",
    "                mask = src.read_masks(1, window=window) > 0\n",
    "                xs, ys, zs = xs[mask], ys[mask], zs[mask]\n",
    "\n",
    "                data = {\"X\": pd.Series(xs.ravel()),\n",
    "                        \"Y\": pd.Series(ys.ravel()),\n",
    "                        \"Z\": pd.Series(zs.ravel())}\n",
    "\n",
    "                df = pd.DataFrame(data=data)\n",
    "                geometry = gpd.points_from_xy(df.X, df.Y)\n",
    "                gdf = gpd.GeoDataFrame(df, crs=crs, geometry=geometry)\n",
    "                gdf = gdf.to_crs(\"EPSG:4326\")\n",
    "                gdf[\"lat\"] = gdf.geometry.y\n",
    "                gdf[\"lon\"] = gdf.geometry.x\n",
    "                chunks.append(gdf)\n",
    "    return gpd.concat(chunks).reset_index()"
   ]
  },
  {
   "cell_type": "code",
   "execution_count": null,
   "metadata": {},
   "outputs": [],
   "source": [
    "import rasterio as rio\n",
    "import numpy as np\n",
    "import pandas as pd\n",
    "import geopandas as gpd\n",
    "\n",
    "chunks = []\n",
    "with rio.Env():\n",
    "    with rio.open('data/clay_0-5cm_mean.tif') as src:\n",
    "        crs = src.crs\n",
    "        for ji, window in src.block_windows(1):\n",
    "            # create 1D coordinate arrays (coordinates of the pixel center)\n",
    "            xmin, ymax = np.around(src.xy(window.col_off, window.row_off), 9)  # src.xy(0, 0)\n",
    "            xmax, ymin = np.around(src.xy(window.width-1, window.height-1), 9)  # src.xy(src.width-1, src.height-1)\n",
    "            x = np.linspace(xmin, xmax, window.width)\n",
    "            y = np.linspace(ymax, ymin, window.height)  # max -> min so coords are top -> bottom\n",
    "\n",
    "\n",
    "\n",
    "            # create 2D arrays\n",
    "            xs, ys = np.meshgrid(x, y)\n",
    "            zs = src.read(1, window=window)\n",
    "\n",
    "            # Apply NoData mask\n",
    "            mask = src.read_masks(1, window=window) > 0\n",
    "            xs, ys, zs = xs[mask], ys[mask], zs[mask]\n",
    "\n",
    "            data = {\"X\": pd.Series(xs.ravel()),\n",
    "                    \"Y\": pd.Series(ys.ravel()),\n",
    "                    \"Z\": pd.Series(zs.ravel())}\n",
    "\n",
    "            df = pd.DataFrame(data=data)\n",
    "            geometry = gpd.points_from_xy(df.X, df.Y)\n",
    "            gdf = gpd.GeoDataFrame(df, crs=crs, geometry=geometry)\n",
    "            gdf = gdf.to_crs(\"EPSG:4326\")\n",
    "            gdf[\"lat\"] = gdf.geometry.y\n",
    "            gdf[\"lon\"] = gdf.geometry.x\n",
    "            chunks.append(gdf)\n",
    "#             if len(chunks) == 100:\n",
    "#                 break"
   ]
  },
  {
   "cell_type": "code",
   "execution_count": 50,
   "metadata": {},
   "outputs": [
    {
     "data": {
      "text/html": [
       "<div>\n",
       "<style scoped>\n",
       "    .dataframe tbody tr th:only-of-type {\n",
       "        vertical-align: middle;\n",
       "    }\n",
       "\n",
       "    .dataframe tbody tr th {\n",
       "        vertical-align: top;\n",
       "    }\n",
       "\n",
       "    .dataframe thead th {\n",
       "        text-align: right;\n",
       "    }\n",
       "</style>\n",
       "<table border=\"1\" class=\"dataframe\">\n",
       "  <thead>\n",
       "    <tr style=\"text-align: right;\">\n",
       "      <th></th>\n",
       "      <th>X</th>\n",
       "      <th>Y</th>\n",
       "      <th>Z</th>\n",
       "      <th>geometry</th>\n",
       "      <th>lat</th>\n",
       "      <th>lon</th>\n",
       "    </tr>\n",
       "  </thead>\n",
       "  <tbody>\n",
       "  </tbody>\n",
       "</table>\n",
       "</div>"
      ],
      "text/plain": [
       "Empty GeoDataFrame\n",
       "Columns: [X, Y, Z, geometry, lat, lon]\n",
       "Index: []"
      ]
     },
     "execution_count": 50,
     "metadata": {},
     "output_type": "execute_result"
    }
   ],
   "source": [
    "pd.concat(chunks)"
   ]
  },
  {
   "cell_type": "code",
   "execution_count": null,
   "metadata": {},
   "outputs": [],
   "source": [
    "def add_coordinate_buckets(data, lat_increment=0.5, lon_increment=0.5):\n",
    "    lat_to_bucket_id = lambda x: int((x+90)/lat_increment)\n",
    "    lon_to_bucket_id = lambda x: int((x+180)/lon_increment)\n",
    "\n",
    "    bucket_id_to_lat = lambda x: (x*lat_increment) - 90\n",
    "    bucket_id_to_lon = lambda x: (x*lon_increment) - 180\n",
    "\n",
    "    data['lat_bucket_id'] = data['Y'].apply(lat_to_bucket_id)\n",
    "    data['lon_bucket_id'] = data['X'].apply(lon_to_bucket_id)\n",
    "    return data"
   ]
  },
  {
   "cell_type": "markdown",
   "metadata": {},
   "source": [
    "# Reading and Preprocessing SMELLS dataset"
   ]
  },
  {
   "cell_type": "code",
   "execution_count": null,
   "metadata": {},
   "outputs": [],
   "source": [
    "import geopandas as gpd\n",
    "import numpy as np\n",
    "import pandas as pd\n",
    "import rasterio as rio\n",
    "import glob\n",
    "import os\n",
    "\n",
    "def preprocess_smells_dataset(dataset_root_dir):\n",
    "        chunks = []\n",
    "        files = glob.glob(os.path.join(dataset_root_dir, \"*\", \"*.tif\"))\n",
    "        for file in files:\n",
    "                time = os.path.split(file)[-1].split(\".\")[0].split(\"_\")[-1]\n",
    "                year = int(time[:4])\n",
    "                month = int(time[4:6])\n",
    "                dekad = int(time[-1])\n",
    "\n",
    "                with rio.Env():\n",
    "                        with rio.open(file) as src:\n",
    "                                crs = src.crs\n",
    "\n",
    "                                # create 1D coordinate arrays (coordinates of the pixel center)\n",
    "                                xmin, ymax = np.around(src.xy(0.00, 0.00), 4)  # src.xy(0, 0)\n",
    "                                xmax, ymin = np.around(src.xy(src.height-1, src.width-1), 4)  # src.xy(src.width-1, src.height-1)\n",
    "                                x = np.linspace(xmin, xmax, src.width)\n",
    "                                y = np.linspace(ymax, ymin, src.height)  # max -> min so coords are top -> bottom\n",
    "\n",
    "\n",
    "\n",
    "                                # create 2D arrays\n",
    "                                xs, ys = np.meshgrid(x, y)\n",
    "                                zs = src.read(1)\n",
    "\n",
    "                                # Apply NoData mask\n",
    "                                mask = src.read_masks(1) > 0\n",
    "                                xs, ys, zs = xs[mask], ys[mask], zs[mask]\n",
    "\n",
    "                        data = {\"X\": pd.Series(xs.ravel()),\n",
    "                                \"Y\": pd.Series(ys.ravel()),\n",
    "                                \"Z\": pd.Series(zs.ravel()),\n",
    "                                }\n",
    "\n",
    "                        df = pd.DataFrame(data=data)\n",
    "                        df[\"year\"] = year\n",
    "                        df[\"month\"] = month\n",
    "                        df[\"dekad\"] = dekad\n",
    "                        chunks.append(df)\n",
    "        return pd.concat(chunks).reset_index()"
   ]
  },
  {
   "cell_type": "code",
   "execution_count": null,
   "metadata": {},
   "outputs": [],
   "source": [
    "smells_dataset = preprocess_smells_dataset(\"data/SMELLS Dataset\")"
   ]
  }
 ],
 "metadata": {
  "colab": {
   "name": "FAO Preprocessing.ipynb",
   "provenance": []
  },
  "interpreter": {
   "hash": "dca0ade3e726a953b501b15e8e990130d2b7799f14cfd9f4271676035ebe5511"
  },
  "kernelspec": {
   "display_name": "Python 3",
   "language": "python",
   "name": "python3"
  },
  "language_info": {
   "codemirror_mode": {
    "name": "ipython",
    "version": 3
   },
   "file_extension": ".py",
   "mimetype": "text/x-python",
   "name": "python",
   "nbconvert_exporter": "python",
   "pygments_lexer": "ipython3",
   "version": "3.8.5"
  },
  "widgets": {
   "application/vnd.jupyter.widget-state+json": {
    "0ee76327db66449798db2a3edb065552": {
     "model_module": "@jupyter-widgets/controls",
     "model_name": "HBoxModel",
     "state": {
      "_dom_classes": [],
      "_model_module": "@jupyter-widgets/controls",
      "_model_module_version": "1.5.0",
      "_model_name": "HBoxModel",
      "_view_count": null,
      "_view_module": "@jupyter-widgets/controls",
      "_view_module_version": "1.5.0",
      "_view_name": "HBoxView",
      "box_style": "",
      "children": [
       "IPY_MODEL_ca3f218b58fa4edf983cacf56d099969",
       "IPY_MODEL_de4a6505299f429aa4f4ce632cf58024"
      ],
      "layout": "IPY_MODEL_e2c15f2f126a4f83aea6584d19e6258f"
     }
    },
    "245345bd5dc04107bcf9017b13c4e2fb": {
     "model_module": "@jupyter-widgets/controls",
     "model_name": "DescriptionStyleModel",
     "state": {
      "_model_module": "@jupyter-widgets/controls",
      "_model_module_version": "1.5.0",
      "_model_name": "DescriptionStyleModel",
      "_view_count": null,
      "_view_module": "@jupyter-widgets/base",
      "_view_module_version": "1.2.0",
      "_view_name": "StyleView",
      "description_width": ""
     }
    },
    "37383df5799c4432b868a6c49c7ee9ad": {
     "model_module": "@jupyter-widgets/base",
     "model_name": "LayoutModel",
     "state": {
      "_model_module": "@jupyter-widgets/base",
      "_model_module_version": "1.2.0",
      "_model_name": "LayoutModel",
      "_view_count": null,
      "_view_module": "@jupyter-widgets/base",
      "_view_module_version": "1.2.0",
      "_view_name": "LayoutView",
      "align_content": null,
      "align_items": null,
      "align_self": null,
      "border": null,
      "bottom": null,
      "display": null,
      "flex": null,
      "flex_flow": null,
      "grid_area": null,
      "grid_auto_columns": null,
      "grid_auto_flow": null,
      "grid_auto_rows": null,
      "grid_column": null,
      "grid_gap": null,
      "grid_row": null,
      "grid_template_areas": null,
      "grid_template_columns": null,
      "grid_template_rows": null,
      "height": null,
      "justify_content": null,
      "justify_items": null,
      "left": null,
      "margin": null,
      "max_height": null,
      "max_width": null,
      "min_height": null,
      "min_width": null,
      "object_fit": null,
      "object_position": null,
      "order": null,
      "overflow": null,
      "overflow_x": null,
      "overflow_y": null,
      "padding": null,
      "right": null,
      "top": null,
      "visibility": null,
      "width": null
     }
    },
    "7bad1fe5766944ed9c3480d519d779fa": {
     "model_module": "@jupyter-widgets/output",
     "model_name": "OutputModel",
     "state": {
      "_dom_classes": [],
      "_model_module": "@jupyter-widgets/output",
      "_model_module_version": "1.0.0",
      "_model_name": "OutputModel",
      "_view_count": null,
      "_view_module": "@jupyter-widgets/output",
      "_view_module_version": "1.0.0",
      "_view_name": "OutputView",
      "layout": "IPY_MODEL_ffd2cd1ea4b9456280fd04f679a51e6a",
      "msg_id": "",
      "outputs": [
       {
        "metadata": {
         "tags": []
        },
        "output_type": "display_data",
        "text/html": "<html>\n<head><meta charset=\"utf-8\" /></head>\n<body>\n    <div>\n            <script src=\"https://cdnjs.cloudflare.com/ajax/libs/mathjax/2.7.5/MathJax.js?config=TeX-AMS-MML_SVG\"></script><script type=\"text/javascript\">if (window.MathJax) {MathJax.Hub.Config({SVG: {font: \"STIX-Web\"}});}</script>\n                <script type=\"text/javascript\">window.PlotlyConfig = {MathJaxConfig: 'local'};</script>\n        <script src=\"https://cdn.plot.ly/plotly-latest.min.js\"></script>    \n            <div id=\"1e906f4d-beff-49ae-b30b-95fa13e7d5e9\" class=\"plotly-graph-div\" style=\"height:525px; width:100%;\"></div>\n            <script type=\"text/javascript\">\n                \n                    window.PLOTLYENV=window.PLOTLYENV || {};\n                    \n                if (document.getElementById(\"1e906f4d-beff-49ae-b30b-95fa13e7d5e9\")) {\n                    Plotly.newPlot(\n                        '1e906f4d-beff-49ae-b30b-95fa13e7d5e9',\n                        [{\"customdata\": [[0, 0, 0, 1, 0, 0, 0, 0, 0], [0, 0, 0, 1, 0, 0, 0, 0, 0], [0, 0, 0, 1, 0, 0, 0, 0, 0], [0, 0, 0, 1, 0, 0, 0, 0, 0], [0, 0, 0, 0, 0, 1, 0, 1, 0], [0, 1, 0, 10, 0, 0, 0, 0, 0], [0, 0, 0, 2, 0, 0, 0, 0, 0], [0, 0, 0, 0, 0, 1, 0, 1, 0], [0, 1, 0, 1, 0, 0, 0, 1, 0], [0, 1, 0, 0, 0, 0, 0, 0, 0], [0, 1, 0, 0, 0, 0, 0, 0, 0], [0, 0, 0, 1, 0, 0, 0, 0, 1], [0, 1, 0, 4, 0, 0, 0, 1, 1], [0, 0, 0, 0, 0, 2, 0, 2, 0], [0, 3, 0, 4, 0, 1, 5, 8, 0], [0, 5, 0, 5, 0, 1, 1, 5, 0], [0, 1, 0, 0, 0, 0, 0, 0, 0], [0, 0, 0, 0, 0, 0, 0, 0, 1], [0, 1, 0, 0, 0, 0, 0, 0, 0]], \"hoverlabel\": {\"namelength\": 0}, \"hovertemplate\": \"size=%{marker.size}<br>Swarm=%{customdata[0]}<br>Adult=%{customdata[1]}<br>Hopper=%{customdata[2]}<br>NATVEGCAT_Green=%{customdata[3]}<br>NATVEGCAT_Drying=%{customdata[4]}<br>NATVEGCAT_Dry=%{customdata[5]}<br>NATVEGCAT_Greening=%{customdata[6]}<br>SOILMOIST_Dry=%{customdata[7]}<br>SOILMOIST_Wet=%{customdata[8]}<br>Y=%{lat}<br>X=%{lon}\", \"lat\": [21.208600000020002, 28.904955555580006, 21.208600000020002, 25.056777777800004, 21.208600000020002, 17.360422222240004, 19.284511111130005, 28.904955555580006, 9.66406666668, 13.512244444460006, 15.436333333350003, 9.66406666668, 9.66406666668, 13.512244444460006, 9.66406666668, 9.66406666668, 23.132688888910007, 26.98086666669, 26.98086666669], \"legendgroup\": \"\", \"lon\": [-13.957833333129997, -9.044333333140003, 0.7826666668400009, 8.97183333349001, 35.17716666676999, 36.8150000001, 36.8150000001, 38.45283333342999, 41.728500000089994, 41.728500000089994, 41.728500000089994, 43.36633333342, 45.00416666675001, 45.00416666675001, 46.64200000008, 48.27983333341001, 54.83116666673, 54.83116666673, 71.20950000003002], \"marker\": {\"color\": \"#636efa\", \"size\": [2, 2, 2, 2, 2, 2, 2, 2, 2, 2, 2, 2, 2, 2, 2, 2, 2, 2, 2], \"sizemode\": \"area\", \"sizeref\": 0.008888888888888889}, \"mode\": \"markers\", \"name\": \"\", \"showlegend\": false, \"subplot\": \"mapbox\", \"type\": \"scattermapbox\"}],\n                        {\"legend\": {\"itemsizing\": \"constant\", \"tracegroupgap\": 0}, \"mapbox\": {\"center\": {\"lat\": 18.474368421071063, \"lon\": 35.177166666770006}, \"domain\": {\"x\": [0.0, 1.0], \"y\": [0.0, 1.0]}, \"style\": \"open-street-map\", \"zoom\": 2}, \"margin\": {\"b\": 0, \"l\": 0, \"r\": 0, \"t\": 0}, \"template\": {\"data\": {\"bar\": [{\"error_x\": {\"color\": \"#2a3f5f\"}, \"error_y\": {\"color\": \"#2a3f5f\"}, \"marker\": {\"line\": {\"color\": \"#E5ECF6\", \"width\": 0.5}}, \"type\": \"bar\"}], \"barpolar\": [{\"marker\": {\"line\": {\"color\": \"#E5ECF6\", \"width\": 0.5}}, \"type\": \"barpolar\"}], \"carpet\": [{\"aaxis\": {\"endlinecolor\": \"#2a3f5f\", \"gridcolor\": \"white\", \"linecolor\": \"white\", \"minorgridcolor\": \"white\", \"startlinecolor\": \"#2a3f5f\"}, \"baxis\": {\"endlinecolor\": \"#2a3f5f\", \"gridcolor\": \"white\", \"linecolor\": \"white\", \"minorgridcolor\": \"white\", \"startlinecolor\": \"#2a3f5f\"}, \"type\": \"carpet\"}], \"choropleth\": [{\"colorbar\": {\"outlinewidth\": 0, \"ticks\": \"\"}, \"type\": \"choropleth\"}], \"contour\": [{\"colorbar\": {\"outlinewidth\": 0, \"ticks\": \"\"}, \"colorscale\": [[0.0, \"#0d0887\"], [0.1111111111111111, \"#46039f\"], [0.2222222222222222, \"#7201a8\"], [0.3333333333333333, \"#9c179e\"], [0.4444444444444444, \"#bd3786\"], [0.5555555555555556, \"#d8576b\"], [0.6666666666666666, \"#ed7953\"], [0.7777777777777778, \"#fb9f3a\"], [0.8888888888888888, \"#fdca26\"], [1.0, \"#f0f921\"]], \"type\": \"contour\"}], \"contourcarpet\": [{\"colorbar\": {\"outlinewidth\": 0, \"ticks\": \"\"}, \"type\": \"contourcarpet\"}], \"heatmap\": [{\"colorbar\": {\"outlinewidth\": 0, \"ticks\": \"\"}, \"colorscale\": [[0.0, \"#0d0887\"], [0.1111111111111111, \"#46039f\"], [0.2222222222222222, \"#7201a8\"], [0.3333333333333333, \"#9c179e\"], [0.4444444444444444, \"#bd3786\"], [0.5555555555555556, \"#d8576b\"], [0.6666666666666666, \"#ed7953\"], [0.7777777777777778, \"#fb9f3a\"], [0.8888888888888888, \"#fdca26\"], [1.0, \"#f0f921\"]], \"type\": \"heatmap\"}], \"heatmapgl\": [{\"colorbar\": {\"outlinewidth\": 0, \"ticks\": \"\"}, \"colorscale\": [[0.0, \"#0d0887\"], [0.1111111111111111, \"#46039f\"], [0.2222222222222222, \"#7201a8\"], [0.3333333333333333, \"#9c179e\"], [0.4444444444444444, \"#bd3786\"], [0.5555555555555556, \"#d8576b\"], [0.6666666666666666, \"#ed7953\"], [0.7777777777777778, \"#fb9f3a\"], [0.8888888888888888, \"#fdca26\"], [1.0, \"#f0f921\"]], \"type\": \"heatmapgl\"}], \"histogram\": [{\"marker\": {\"colorbar\": {\"outlinewidth\": 0, \"ticks\": \"\"}}, \"type\": \"histogram\"}], \"histogram2d\": [{\"colorbar\": {\"outlinewidth\": 0, \"ticks\": \"\"}, \"colorscale\": [[0.0, \"#0d0887\"], [0.1111111111111111, \"#46039f\"], [0.2222222222222222, \"#7201a8\"], [0.3333333333333333, \"#9c179e\"], [0.4444444444444444, \"#bd3786\"], [0.5555555555555556, \"#d8576b\"], [0.6666666666666666, \"#ed7953\"], [0.7777777777777778, \"#fb9f3a\"], [0.8888888888888888, \"#fdca26\"], [1.0, \"#f0f921\"]], \"type\": \"histogram2d\"}], \"histogram2dcontour\": [{\"colorbar\": {\"outlinewidth\": 0, \"ticks\": \"\"}, \"colorscale\": [[0.0, \"#0d0887\"], [0.1111111111111111, \"#46039f\"], [0.2222222222222222, \"#7201a8\"], [0.3333333333333333, \"#9c179e\"], [0.4444444444444444, \"#bd3786\"], [0.5555555555555556, \"#d8576b\"], [0.6666666666666666, \"#ed7953\"], [0.7777777777777778, \"#fb9f3a\"], [0.8888888888888888, \"#fdca26\"], [1.0, \"#f0f921\"]], \"type\": \"histogram2dcontour\"}], \"mesh3d\": [{\"colorbar\": {\"outlinewidth\": 0, \"ticks\": \"\"}, \"type\": \"mesh3d\"}], \"parcoords\": [{\"line\": {\"colorbar\": {\"outlinewidth\": 0, \"ticks\": \"\"}}, \"type\": \"parcoords\"}], \"pie\": [{\"automargin\": true, \"type\": \"pie\"}], \"scatter\": [{\"marker\": {\"colorbar\": {\"outlinewidth\": 0, \"ticks\": \"\"}}, \"type\": \"scatter\"}], \"scatter3d\": [{\"line\": {\"colorbar\": {\"outlinewidth\": 0, \"ticks\": \"\"}}, \"marker\": {\"colorbar\": {\"outlinewidth\": 0, \"ticks\": \"\"}}, \"type\": \"scatter3d\"}], \"scattercarpet\": [{\"marker\": {\"colorbar\": {\"outlinewidth\": 0, \"ticks\": \"\"}}, \"type\": \"scattercarpet\"}], \"scattergeo\": [{\"marker\": {\"colorbar\": {\"outlinewidth\": 0, \"ticks\": \"\"}}, \"type\": \"scattergeo\"}], \"scattergl\": [{\"marker\": {\"colorbar\": {\"outlinewidth\": 0, \"ticks\": \"\"}}, \"type\": \"scattergl\"}], \"scattermapbox\": [{\"marker\": {\"colorbar\": {\"outlinewidth\": 0, \"ticks\": \"\"}}, \"type\": \"scattermapbox\"}], \"scatterpolar\": [{\"marker\": {\"colorbar\": {\"outlinewidth\": 0, \"ticks\": \"\"}}, \"type\": \"scatterpolar\"}], \"scatterpolargl\": [{\"marker\": {\"colorbar\": {\"outlinewidth\": 0, \"ticks\": \"\"}}, \"type\": \"scatterpolargl\"}], \"scatterternary\": [{\"marker\": {\"colorbar\": {\"outlinewidth\": 0, \"ticks\": \"\"}}, \"type\": \"scatterternary\"}], \"surface\": [{\"colorbar\": {\"outlinewidth\": 0, \"ticks\": \"\"}, \"colorscale\": [[0.0, \"#0d0887\"], [0.1111111111111111, \"#46039f\"], [0.2222222222222222, \"#7201a8\"], [0.3333333333333333, \"#9c179e\"], [0.4444444444444444, \"#bd3786\"], [0.5555555555555556, \"#d8576b\"], [0.6666666666666666, \"#ed7953\"], [0.7777777777777778, \"#fb9f3a\"], [0.8888888888888888, \"#fdca26\"], [1.0, \"#f0f921\"]], \"type\": \"surface\"}], \"table\": [{\"cells\": {\"fill\": {\"color\": \"#EBF0F8\"}, \"line\": {\"color\": \"white\"}}, \"header\": {\"fill\": {\"color\": \"#C8D4E3\"}, \"line\": {\"color\": \"white\"}}, \"type\": \"table\"}]}, \"layout\": {\"annotationdefaults\": {\"arrowcolor\": \"#2a3f5f\", \"arrowhead\": 0, \"arrowwidth\": 1}, \"coloraxis\": {\"colorbar\": {\"outlinewidth\": 0, \"ticks\": \"\"}}, \"colorscale\": {\"diverging\": [[0, \"#8e0152\"], [0.1, \"#c51b7d\"], [0.2, \"#de77ae\"], [0.3, \"#f1b6da\"], [0.4, \"#fde0ef\"], [0.5, \"#f7f7f7\"], [0.6, \"#e6f5d0\"], [0.7, \"#b8e186\"], [0.8, \"#7fbc41\"], [0.9, \"#4d9221\"], [1, \"#276419\"]], \"sequential\": [[0.0, \"#0d0887\"], [0.1111111111111111, \"#46039f\"], [0.2222222222222222, \"#7201a8\"], [0.3333333333333333, \"#9c179e\"], [0.4444444444444444, \"#bd3786\"], [0.5555555555555556, \"#d8576b\"], [0.6666666666666666, \"#ed7953\"], [0.7777777777777778, \"#fb9f3a\"], [0.8888888888888888, \"#fdca26\"], [1.0, \"#f0f921\"]], \"sequentialminus\": [[0.0, \"#0d0887\"], [0.1111111111111111, \"#46039f\"], [0.2222222222222222, \"#7201a8\"], [0.3333333333333333, \"#9c179e\"], [0.4444444444444444, \"#bd3786\"], [0.5555555555555556, \"#d8576b\"], [0.6666666666666666, \"#ed7953\"], [0.7777777777777778, \"#fb9f3a\"], [0.8888888888888888, \"#fdca26\"], [1.0, \"#f0f921\"]]}, \"colorway\": [\"#636efa\", \"#EF553B\", \"#00cc96\", \"#ab63fa\", \"#FFA15A\", \"#19d3f3\", \"#FF6692\", \"#B6E880\", \"#FF97FF\", \"#FECB52\"], \"font\": {\"color\": \"#2a3f5f\"}, \"geo\": {\"bgcolor\": \"white\", \"lakecolor\": \"white\", \"landcolor\": \"#E5ECF6\", \"showlakes\": true, \"showland\": true, \"subunitcolor\": \"white\"}, \"hoverlabel\": {\"align\": \"left\"}, \"hovermode\": \"closest\", \"mapbox\": {\"style\": \"light\"}, \"paper_bgcolor\": \"white\", \"plot_bgcolor\": \"#E5ECF6\", \"polar\": {\"angularaxis\": {\"gridcolor\": \"white\", \"linecolor\": \"white\", \"ticks\": \"\"}, \"bgcolor\": \"#E5ECF6\", \"radialaxis\": {\"gridcolor\": \"white\", \"linecolor\": \"white\", \"ticks\": \"\"}}, \"scene\": {\"xaxis\": {\"backgroundcolor\": \"#E5ECF6\", \"gridcolor\": \"white\", \"gridwidth\": 2, \"linecolor\": \"white\", \"showbackground\": true, \"ticks\": \"\", \"zerolinecolor\": \"white\"}, \"yaxis\": {\"backgroundcolor\": \"#E5ECF6\", \"gridcolor\": \"white\", \"gridwidth\": 2, \"linecolor\": \"white\", \"showbackground\": true, \"ticks\": \"\", \"zerolinecolor\": \"white\"}, \"zaxis\": {\"backgroundcolor\": \"#E5ECF6\", \"gridcolor\": \"white\", \"gridwidth\": 2, \"linecolor\": \"white\", \"showbackground\": true, \"ticks\": \"\", \"zerolinecolor\": \"white\"}}, \"shapedefaults\": {\"line\": {\"color\": \"#2a3f5f\"}}, \"ternary\": {\"aaxis\": {\"gridcolor\": \"white\", \"linecolor\": \"white\", \"ticks\": \"\"}, \"baxis\": {\"gridcolor\": \"white\", \"linecolor\": \"white\", \"ticks\": \"\"}, \"bgcolor\": \"#E5ECF6\", \"caxis\": {\"gridcolor\": \"white\", \"linecolor\": \"white\", \"ticks\": \"\"}}, \"title\": {\"x\": 0.05}, \"xaxis\": {\"automargin\": true, \"gridcolor\": \"white\", \"linecolor\": \"white\", \"ticks\": \"\", \"title\": {\"standoff\": 15}, \"zerolinecolor\": \"white\", \"zerolinewidth\": 2}, \"yaxis\": {\"automargin\": true, \"gridcolor\": \"white\", \"linecolor\": \"white\", \"ticks\": \"\", \"title\": {\"standoff\": 15}, \"zerolinecolor\": \"white\", \"zerolinewidth\": 2}}}},\n                        {\"responsive\": true}\n                    ).then(function(){\n                            \nvar gd = document.getElementById('1e906f4d-beff-49ae-b30b-95fa13e7d5e9');\nvar x = new MutationObserver(function (mutations, observer) {{\n        var display = window.getComputedStyle(gd).display;\n        if (!display || display === 'none') {{\n            console.log([gd, 'removed!']);\n            Plotly.purge(gd);\n            observer.disconnect();\n        }}\n}});\n\n// Listen for the removal of the full notebook cells\nvar notebookContainer = gd.closest('#notebook-container');\nif (notebookContainer) {{\n    x.observe(notebookContainer, {childList: true});\n}}\n\n// Listen for the clearing of the current output cell\nvar outputEl = gd.closest('.output');\nif (outputEl) {{\n    x.observe(outputEl, {childList: true});\n}}\n\n                        })\n                };\n                \n            </script>\n        </div>\n</body>\n</html>"
       }
      ]
     }
    },
    "8e0e0b084f5b4ccba953f879c137b2b1": {
     "model_module": "@jupyter-widgets/base",
     "model_name": "LayoutModel",
     "state": {
      "_model_module": "@jupyter-widgets/base",
      "_model_module_version": "1.2.0",
      "_model_name": "LayoutModel",
      "_view_count": null,
      "_view_module": "@jupyter-widgets/base",
      "_view_module_version": "1.2.0",
      "_view_name": "LayoutView",
      "align_content": null,
      "align_items": null,
      "align_self": null,
      "border": null,
      "bottom": null,
      "display": null,
      "flex": null,
      "flex_flow": null,
      "grid_area": null,
      "grid_auto_columns": null,
      "grid_auto_flow": null,
      "grid_auto_rows": null,
      "grid_column": null,
      "grid_gap": null,
      "grid_row": null,
      "grid_template_areas": null,
      "grid_template_columns": null,
      "grid_template_rows": null,
      "height": null,
      "justify_content": null,
      "justify_items": null,
      "left": null,
      "margin": null,
      "max_height": null,
      "max_width": null,
      "min_height": null,
      "min_width": null,
      "object_fit": null,
      "object_position": null,
      "order": null,
      "overflow": null,
      "overflow_x": null,
      "overflow_y": null,
      "padding": null,
      "right": null,
      "top": null,
      "visibility": null,
      "width": null
     }
    },
    "ca3f218b58fa4edf983cacf56d099969": {
     "model_module": "@jupyter-widgets/controls",
     "model_name": "DropdownModel",
     "state": {
      "_dom_classes": [],
      "_model_module": "@jupyter-widgets/controls",
      "_model_module_version": "1.5.0",
      "_model_name": "DropdownModel",
      "_options_labels": [
       "January",
       "February",
       "March",
       "April",
       "May",
       "June",
       "July",
       "August",
       "September",
       "October",
       "November",
       "December"
      ],
      "_view_count": null,
      "_view_module": "@jupyter-widgets/controls",
      "_view_module_version": "1.5.0",
      "_view_name": "DropdownView",
      "description": "Month",
      "description_tooltip": null,
      "disabled": false,
      "index": 0,
      "layout": "IPY_MODEL_8e0e0b084f5b4ccba953f879c137b2b1",
      "style": "IPY_MODEL_245345bd5dc04107bcf9017b13c4e2fb"
     }
    },
    "da711f3b8a644f0bb03fb11ccc15787d": {
     "model_module": "@jupyter-widgets/controls",
     "model_name": "DescriptionStyleModel",
     "state": {
      "_model_module": "@jupyter-widgets/controls",
      "_model_module_version": "1.5.0",
      "_model_name": "DescriptionStyleModel",
      "_view_count": null,
      "_view_module": "@jupyter-widgets/base",
      "_view_module_version": "1.2.0",
      "_view_name": "StyleView",
      "description_width": ""
     }
    },
    "de4a6505299f429aa4f4ce632cf58024": {
     "model_module": "@jupyter-widgets/controls",
     "model_name": "DropdownModel",
     "state": {
      "_dom_classes": [],
      "_model_module": "@jupyter-widgets/controls",
      "_model_module_version": "1.5.0",
      "_model_name": "DropdownModel",
      "_options_labels": [
       "1985",
       "1986",
       "1987",
       "1988",
       "1989",
       "1990",
       "1991",
       "1992",
       "1993",
       "1994",
       "1995",
       "1996",
       "1997",
       "1998",
       "1999",
       "2000",
       "2001",
       "2002",
       "2003",
       "2004",
       "2005",
       "2006",
       "2007",
       "2008",
       "2009",
       "2010",
       "2011",
       "2012",
       "2013",
       "2014",
       "2015",
       "2016",
       "2017",
       "2018",
       "2019",
       "2020",
       "2021"
      ],
      "_view_count": null,
      "_view_module": "@jupyter-widgets/controls",
      "_view_module_version": "1.5.0",
      "_view_name": "DropdownView",
      "description": "Year",
      "description_tooltip": null,
      "disabled": false,
      "index": 0,
      "layout": "IPY_MODEL_37383df5799c4432b868a6c49c7ee9ad",
      "style": "IPY_MODEL_da711f3b8a644f0bb03fb11ccc15787d"
     }
    },
    "e2c15f2f126a4f83aea6584d19e6258f": {
     "model_module": "@jupyter-widgets/base",
     "model_name": "LayoutModel",
     "state": {
      "_model_module": "@jupyter-widgets/base",
      "_model_module_version": "1.2.0",
      "_model_name": "LayoutModel",
      "_view_count": null,
      "_view_module": "@jupyter-widgets/base",
      "_view_module_version": "1.2.0",
      "_view_name": "LayoutView",
      "align_content": null,
      "align_items": null,
      "align_self": null,
      "border": null,
      "bottom": null,
      "display": null,
      "flex": null,
      "flex_flow": null,
      "grid_area": null,
      "grid_auto_columns": null,
      "grid_auto_flow": null,
      "grid_auto_rows": null,
      "grid_column": null,
      "grid_gap": null,
      "grid_row": null,
      "grid_template_areas": null,
      "grid_template_columns": null,
      "grid_template_rows": null,
      "height": null,
      "justify_content": null,
      "justify_items": null,
      "left": null,
      "margin": null,
      "max_height": null,
      "max_width": null,
      "min_height": null,
      "min_width": null,
      "object_fit": null,
      "object_position": null,
      "order": null,
      "overflow": null,
      "overflow_x": null,
      "overflow_y": null,
      "padding": null,
      "right": null,
      "top": null,
      "visibility": null,
      "width": null
     }
    },
    "ffd2cd1ea4b9456280fd04f679a51e6a": {
     "model_module": "@jupyter-widgets/base",
     "model_name": "LayoutModel",
     "state": {
      "_model_module": "@jupyter-widgets/base",
      "_model_module_version": "1.2.0",
      "_model_name": "LayoutModel",
      "_view_count": null,
      "_view_module": "@jupyter-widgets/base",
      "_view_module_version": "1.2.0",
      "_view_name": "LayoutView",
      "align_content": null,
      "align_items": null,
      "align_self": null,
      "border": null,
      "bottom": null,
      "display": null,
      "flex": null,
      "flex_flow": null,
      "grid_area": null,
      "grid_auto_columns": null,
      "grid_auto_flow": null,
      "grid_auto_rows": null,
      "grid_column": null,
      "grid_gap": null,
      "grid_row": null,
      "grid_template_areas": null,
      "grid_template_columns": null,
      "grid_template_rows": null,
      "height": null,
      "justify_content": null,
      "justify_items": null,
      "left": null,
      "margin": null,
      "max_height": null,
      "max_width": null,
      "min_height": null,
      "min_width": null,
      "object_fit": null,
      "object_position": null,
      "order": null,
      "overflow": null,
      "overflow_x": null,
      "overflow_y": null,
      "padding": null,
      "right": null,
      "top": null,
      "visibility": null,
      "width": null
     }
    }
   }
  }
 },
 "nbformat": 4,
 "nbformat_minor": 1
}
