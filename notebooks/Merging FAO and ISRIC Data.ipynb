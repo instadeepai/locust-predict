{
 "cells": [
  {
   "cell_type": "code",
   "execution_count": null,
   "metadata": {},
   "outputs": [],
   "source": [
    "import numpy as np\n",
    "import pandas as pd\n",
    "import dask.dataframe as dd\n",
    "from tqdm.notebook import tqdm\n",
    "\n",
    "import datetime\n",
    "from dateutil.relativedelta import relativedelta\n",
    "import matplotlib.pyplot as plt\n",
    "import plotly.express as px\n",
    "import seaborn as sns\n",
    "\n",
    "import ipywidgets as widgets\n",
    "from IPython.display import display\n",
    "from ipywidgets import IntProgress, HTML, VBox\n",
    "\n",
    "import warnings\n",
    "warnings.filterwarnings(\"ignore\")"
   ]
  },
  {
   "cell_type": "code",
   "execution_count": 4,
   "metadata": {},
   "outputs": [],
   "source": [
    "Adults = pd.read_csv(\"Adults.csv\")\n",
    "Swarms  = pd.read_csv(\"Swarms.csv\")\n",
    "Hoppers = pd.read_csv(\"Hoppers.csv\")\n",
    "Ecology = pd.read_csv(\"Ecology.csv\")\n",
    "Control_Operations = pd.read_csv(\"Control_Operations.csv\")"
   ]
  },
  {
   "cell_type": "code",
   "execution_count": 5,
   "metadata": {},
   "outputs": [],
   "source": [
    "fao_data = pd.concat([Ecology, Swarms, Hoppers, Adults])"
   ]
  },
  {
   "cell_type": "code",
   "execution_count": 6,
   "metadata": {},
   "outputs": [],
   "source": [
    "#convert date format from onbject to pandas datetime\n",
    "date_columns = ['STARTDATE', 'FINISHDATE', 'CTLSTDATE', 'CTLFNDATE']\n",
    "fao_data[date_columns] = fao_data[date_columns].apply(pd.to_datetime)"
   ]
  },
  {
   "cell_type": "code",
   "execution_count": 7,
   "metadata": {},
   "outputs": [],
   "source": [
    "#Ensure that both Ad and Adult are categorized under the same category\n",
    "fao_data.loc[fao_data['CAT'] == 'Ad', 'CAT'] = 'Adult'"
   ]
  },
  {
   "cell_type": "code",
   "execution_count": 8,
   "metadata": {},
   "outputs": [],
   "source": [
    "fao_data[\"TIME\"] = fao_data[\"STARTDATE\"]"
   ]
  },
  {
   "cell_type": "code",
   "execution_count": 9,
   "metadata": {},
   "outputs": [],
   "source": [
    "month_name = ['January', 'February', 'March', 'April', 'May', 'June', 'July', 'August', 'September', 'October', 'November', 'December']"
   ]
  },
  {
   "cell_type": "code",
   "execution_count": 10,
   "metadata": {},
   "outputs": [],
   "source": [
    "resx, resy = (0.01, 0.01)\n",
    "\n",
    "lat_to_bucket_id = lambda x: int((x+90)/resy)\n",
    "lon_to_bucket_id = lambda x: int((x+180)/resx)\n",
    "\n",
    "bucket_id_to_lat = lambda x: (x*resy) - 90\n",
    "bucket_id_to_lon = lambda x: (x*resx) - 180"
   ]
  },
  {
   "cell_type": "code",
   "execution_count": 10,
   "metadata": {},
   "outputs": [],
   "source": [
    "#Replacing specific lat and lon of each row of data with its corresponding bucket_id\n",
    "\n",
    "truncated_data = fao_data.copy()\n",
    "truncated_data['lat_bucket_id'] = fao_data['Y'].apply(lat_to_bucket_id)\n",
    "truncated_data['lon_bucket_id'] = fao_data['X'].apply(lon_to_bucket_id)\n",
    "\n",
    "truncated_data['date'] = fao_data['STARTDATE']\n",
    "truncated_data[\"year\"] = fao_data['STARTDATE'].dt.year\n",
    "truncated_data[\"month\"] = fao_data['STARTDATE'].dt.month_name()"
   ]
  },
  {
   "cell_type": "code",
   "execution_count": 9,
   "metadata": {},
   "outputs": [],
   "source": [
    "aggregate_data = truncated_data.groupby(['date','lat_bucket_id','lon_bucket_id']).agg(\n",
    "# meta data\n",
    "    TIME = ('STARTDATE', lambda col: col.mean()), \n",
    "\n",
    "# data count\n",
    "    Count      = ('CAT', len),\n",
    "    Swarm      = ('CAT', lambda col: sum(col=='Swarm')),\n",
    "    Adult      = ('CAT', lambda col: sum(col=='Adult')),\n",
    "    Hopper     = ('CAT', lambda col: sum(col=='Hopper')),\n",
    "    Ecology    = ('CAT', lambda col: sum(col=='Ecology')),\n",
    "\n",
    "# Ecology data count\n",
    "    # NATVEGCAT___Ecology\n",
    "    NATVEGCAT_Green    = ('NATVEGCAT', lambda col: sum(col=='Green')), \n",
    "    NATVEGCAT_Drying   = ('NATVEGCAT', lambda col: sum(col=='Drying')), \n",
    "    NATVEGCAT_Dry      = ('NATVEGCAT', lambda col: sum(col=='Dry')), \n",
    "    NATVEGCAT_Greening = ('NATVEGCAT', lambda col: sum(col=='Greening')), \n",
    "\n",
    "    # NATVEGDEN___Ecology\n",
    "    NATVEGDEN_Moderate = ('NATVEGDEN', lambda col: sum(col=='Moderate')),\n",
    "    NATVEGDEN_Sparse   = ('NATVEGDEN', lambda col: sum(col=='Sparse')), \n",
    "    NATVEGDEN_Dense    = ('NATVEGDEN', lambda col: sum(col=='Dense')), \n",
    "\n",
    "    # SOILMOIST___Ecology\n",
    "    SOILMOIST_Dry      = ('SOILMOIST', lambda col: sum(col=='Dry')),\n",
    "    SOILMOIST_Wet      = ('SOILMOIST', lambda col: sum(col=='Wet')),\n",
    "\n",
    "    # BREEDING\n",
    "    BREEDING_yes = (\"BREEDING\", lambda col: sum(col==1)),\n",
    "    BREEDING_no = (\"BREEDING\", lambda col: sum(col==2)),\n",
    "    BREEDING_na = (\"BREEDING\", lambda col: sum(col==-1)),\n",
    ")"
   ]
  },
  {
   "cell_type": "code",
   "execution_count": 11,
   "metadata": {},
   "outputs": [],
   "source": [
    "#Add month and day data\n",
    "aggregate_data = truncated_data #aggregate_data.reset_index()\n",
    "aggregate_data['month'] = aggregate_data['TIME'].dt.month_name()\n",
    "aggregate_data['day']   = aggregate_data['TIME'].dt.day\n",
    "aggregate_data['year']   = aggregate_data['TIME'].dt.year\n",
    "aggregate_data[\"lat\"] = aggregate_data[\"lat_bucket_id\"].apply(bucket_id_to_lat)\n",
    "aggregate_data[\"lon\"] = aggregate_data[\"lon_bucket_id\"].apply(bucket_id_to_lon)\n",
    "\n",
    "available_years = aggregate_data[\"year\"].unique().tolist()"
   ]
  },
  {
   "cell_type": "markdown",
   "metadata": {},
   "source": [
    "# Merge ISRIC Data"
   ]
  },
  {
   "cell_type": "code",
   "execution_count": 3,
   "metadata": {},
   "outputs": [
    {
     "ename": "NameError",
     "evalue": "name 'aggregate_data' is not defined",
     "output_type": "error",
     "traceback": [
      "\u001b[0;31m---------------------------------------------------------------------------\u001b[0m",
      "\u001b[0;31mNameError\u001b[0m                                 Traceback (most recent call last)",
      "\u001b[0;32m<ipython-input-3-dffd485e743b>\u001b[0m in \u001b[0;36m<module>\u001b[0;34m\u001b[0m\n\u001b[1;32m     11\u001b[0m     \u001b[0;32mreturn\u001b[0m \u001b[0mdata\u001b[0m\u001b[0;34m.\u001b[0m\u001b[0mreset_index\u001b[0m\u001b[0;34m(\u001b[0m\u001b[0;34m)\u001b[0m\u001b[0;34m.\u001b[0m\u001b[0mset_index\u001b[0m\u001b[0;34m(\u001b[0m\u001b[0;34m\"lat_bucket_id\"\u001b[0m\u001b[0;34m)\u001b[0m\u001b[0;34m\u001b[0m\u001b[0;34m\u001b[0m\u001b[0m\n\u001b[1;32m     12\u001b[0m \u001b[0;34m\u001b[0m\u001b[0m\n\u001b[0;32m---> 13\u001b[0;31m \u001b[0maggregate_data\u001b[0m \u001b[0;34m=\u001b[0m \u001b[0mdd\u001b[0m\u001b[0;34m.\u001b[0m\u001b[0mfrom_pandas\u001b[0m\u001b[0;34m(\u001b[0m\u001b[0maggregate_data\u001b[0m\u001b[0;34m,\u001b[0m \u001b[0mnpartitions\u001b[0m\u001b[0;34m=\u001b[0m\u001b[0;36m1\u001b[0m\u001b[0;34m)\u001b[0m\u001b[0;34m\u001b[0m\u001b[0;34m\u001b[0m\u001b[0m\n\u001b[0m",
      "\u001b[0;31mNameError\u001b[0m: name 'aggregate_data' is not defined"
     ]
    }
   ],
   "source": [
    "def preprocess_isric_data(filename):\n",
    "    data = dd.read_csv(filename)\n",
    "    data[\"lat_bucket_id\"] = data[\"y\"].apply(lat_to_bucket_id)\n",
    "    data[\"lon_bucket_id\"] = data[\"x\"].apply(lon_to_bucket_id)\n",
    "    data = data.drop([\"band\", 'y', 'x'], axis=1)\n",
    "    data_column = None\n",
    "    for col in data.columns:\n",
    "        if \"mean\" in col:\n",
    "            data_column = col\n",
    "    data = data.groupby(['lat_bucket_id','lon_bucket_id']).agg(np.max)\n",
    "    return data.reset_index().set_index(\"lat_bucket_id\")\n",
    "\n",
    "aggregate_data = dd.from_pandas(aggregate_data, npartitions=1)"
   ]
  },
  {
   "cell_type": "code",
   "execution_count": 13,
   "metadata": {},
   "outputs": [],
   "source": [
    "clay_0_5cm = preprocess_isric_data(\"data/fao_clay_0_5cm_mean.csv\")\n",
    "fao_data_with_isric = dd.merge(aggregate_data, clay_0_5cm, how=\"left\", on=['lat_bucket_id', 'lon_bucket_id']).compute()\n",
    "del clay_0_5cm"
   ]
  },
  {
   "cell_type": "code",
   "execution_count": 14,
   "metadata": {},
   "outputs": [],
   "source": [
    "clay_5_15cm = preprocess_isric_data(\"data/fao_clay_5_15cm_mean.csv\")\n",
    "fao_data_with_isric = dd.merge(dd.from_pandas(fao_data_with_isric, npartitions=1), clay_5_15cm, how=\"left\", on=['lat_bucket_id', 'lon_bucket_id']).compute()\n",
    "del clay_5_15cm"
   ]
  },
  {
   "cell_type": "code",
   "execution_count": 15,
   "metadata": {},
   "outputs": [],
   "source": [
    "sand_0_5cm = preprocess_isric_data(\"data/fao_sand_0_5cm_mean.csv\")\n",
    "fao_data_with_isric = dd.merge(dd.from_pandas(fao_data_with_isric, npartitions=1), sand_0_5cm, how=\"left\", on=['lat_bucket_id', 'lon_bucket_id']).compute()\n",
    "del sand_0_5cm"
   ]
  },
  {
   "cell_type": "code",
   "execution_count": 16,
   "metadata": {},
   "outputs": [],
   "source": [
    "sand_5_15cm = preprocess_isric_data(\"data/fao_sand_5_15cm_mean.csv\")\n",
    "fao_data_with_isric = dd.merge(dd.from_pandas(fao_data_with_isric, npartitions=1), sand_5_15cm, how=\"left\", on=['lat_bucket_id', 'lon_bucket_id']).compute()\n",
    "del sand_5_15cm"
   ]
  },
  {
   "cell_type": "code",
   "execution_count": 17,
   "metadata": {},
   "outputs": [],
   "source": [
    "silt_0_5cm = preprocess_isric_data(\"data/fao_silt_0_5cm_mean.csv\")\n",
    "fao_data_with_isric = dd.merge(dd.from_pandas(fao_data_with_isric, npartitions=1), silt_0_5cm, how=\"left\", on=['lat_bucket_id', 'lon_bucket_id']).compute()\n",
    "del silt_0_5cm"
   ]
  },
  {
   "cell_type": "code",
   "execution_count": 18,
   "metadata": {},
   "outputs": [],
   "source": [
    "silt_5_15cm = preprocess_isric_data(\"data/fao_silt_5_15cm_mean.csv\")\n",
    "fao_data_with_isric = dd.merge(dd.from_pandas(fao_data_with_isric, npartitions=1), silt_5_15cm, how=\"left\", on=['lat_bucket_id', 'lon_bucket_id']).compute()\n",
    "del silt_5_15cm"
   ]
  },
  {
   "cell_type": "code",
   "execution_count": 19,
   "metadata": {},
   "outputs": [],
   "source": [
    "fao_data_with_isric.to_csv(\"fao_data_with_isric_raw.csv\")"
   ]
  },
  {
   "cell_type": "code",
   "execution_count": null,
   "metadata": {},
   "outputs": [],
   "source": [
    "def preprocess_isric_data(filename):\n",
    "    data = dd.read_csv(filename)\n",
    "    data[\"lat_bucket_id\"] = data[\"y\"].apply(lat_to_bucket_id)\n",
    "    data[\"lon_bucket_id\"] = data[\"x\"].apply(lon_to_bucket_id)\n",
    "    data = data.drop([\"band\", 'y', 'x'], axis=1)\n",
    "    data_column = None\n",
    "    for col in data.columns:\n",
    "        if \"mean\" in col:\n",
    "            data_column = col\n",
    "    data = data.groupby(['lat_bucket_id','lon_bucket_id']).agg(np.max)\n",
    "    return data.compute() #reset_index().set_index(\"lat_bucket_id\")"
   ]
  },
  {
   "cell_type": "code",
   "execution_count": null,
   "metadata": {},
   "outputs": [],
   "source": [
    "clay_5_15cm = preprocess_isric_data(\"data/fao_clay_5_15cm_mean.csv\")\n",
    "sand_5_15cm = preprocess_isric_data(\"data/fao_sand_5_15cm_mean.csv\")\n",
    "silt_5_15cm = preprocess_isric_data(\"data/fao_silt_5_15cm_mean.csv\")"
   ]
  },
  {
   "cell_type": "code",
   "execution_count": null,
   "metadata": {},
   "outputs": [],
   "source": [
    "soil_profile = clay_5_15cm\n",
    "del clay_5_15cm"
   ]
  },
  {
   "cell_type": "code",
   "execution_count": null,
   "metadata": {},
   "outputs": [],
   "source": [
    "soil_profile[\"sand_5_15cm\"] = sand_5_15cm[\"sand_5_15cm\"]\n",
    "del sand_5_15cm"
   ]
  },
  {
   "cell_type": "code",
   "execution_count": 13,
   "metadata": {},
   "outputs": [],
   "source": [
    "soil_profile[\"silt_5_15cm\"] = silt_5_15cm[\"silt_5_15cm\"]\n",
    "del silt_5_15cm"
   ]
  },
  {
   "cell_type": "code",
   "execution_count": null,
   "metadata": {},
   "outputs": [],
   "source": [
    "soil_profile = soil_profile.compute()"
   ]
  },
  {
   "cell_type": "code",
   "execution_count": null,
   "metadata": {},
   "outputs": [],
   "source": [
    "del clay_5_15cm\n",
    "del sand_5_15cm\n",
    "\n",
    "soil_profile = dd.concat([soil_profile, silt_5_15cm], axis=1).compute()"
   ]
  },
  {
   "cell_type": "code",
   "execution_count": 13,
   "metadata": {},
   "outputs": [
    {
     "data": {
      "text/html": [
       "<div>\n",
       "<style scoped>\n",
       "    .dataframe tbody tr th:only-of-type {\n",
       "        vertical-align: middle;\n",
       "    }\n",
       "\n",
       "    .dataframe tbody tr th {\n",
       "        vertical-align: top;\n",
       "    }\n",
       "\n",
       "    .dataframe thead th {\n",
       "        text-align: right;\n",
       "    }\n",
       "</style>\n",
       "<table border=\"1\" class=\"dataframe\">\n",
       "  <thead>\n",
       "    <tr style=\"text-align: right;\">\n",
       "      <th></th>\n",
       "      <th></th>\n",
       "      <th>sand_5-15cm_mean</th>\n",
       "    </tr>\n",
       "    <tr>\n",
       "      <th>lat_bucket_id</th>\n",
       "      <th>lon_bucket_id</th>\n",
       "      <th></th>\n",
       "    </tr>\n",
       "  </thead>\n",
       "  <tbody>\n",
       "    <tr>\n",
       "      <th rowspan=\"5\" valign=\"top\">7600</th>\n",
       "      <th>10200</th>\n",
       "      <td>0</td>\n",
       "    </tr>\n",
       "    <tr>\n",
       "      <th>10201</th>\n",
       "      <td>0</td>\n",
       "    </tr>\n",
       "    <tr>\n",
       "      <th>10202</th>\n",
       "      <td>0</td>\n",
       "    </tr>\n",
       "    <tr>\n",
       "      <th>10203</th>\n",
       "      <td>0</td>\n",
       "    </tr>\n",
       "    <tr>\n",
       "      <th>10204</th>\n",
       "      <td>0</td>\n",
       "    </tr>\n",
       "    <tr>\n",
       "      <th>...</th>\n",
       "      <th>...</th>\n",
       "      <td>...</td>\n",
       "    </tr>\n",
       "    <tr>\n",
       "      <th rowspan=\"5\" valign=\"top\">13765</th>\n",
       "      <th>26595</th>\n",
       "      <td>372</td>\n",
       "    </tr>\n",
       "    <tr>\n",
       "      <th>26596</th>\n",
       "      <td>355</td>\n",
       "    </tr>\n",
       "    <tr>\n",
       "      <th>26597</th>\n",
       "      <td>348</td>\n",
       "    </tr>\n",
       "    <tr>\n",
       "      <th>26598</th>\n",
       "      <td>351</td>\n",
       "    </tr>\n",
       "    <tr>\n",
       "      <th>26599</th>\n",
       "      <td>344</td>\n",
       "    </tr>\n",
       "  </tbody>\n",
       "</table>\n",
       "<p>102310000 rows × 1 columns</p>\n",
       "</div>"
      ],
      "text/plain": [
       "                             sand_5-15cm_mean\n",
       "lat_bucket_id lon_bucket_id                  \n",
       "7600          10200                         0\n",
       "              10201                         0\n",
       "              10202                         0\n",
       "              10203                         0\n",
       "              10204                         0\n",
       "...                                       ...\n",
       "13765         26595                       372\n",
       "              26596                       355\n",
       "              26597                       348\n",
       "              26598                       351\n",
       "              26599                       344\n",
       "\n",
       "[102310000 rows x 1 columns]"
      ]
     },
     "execution_count": 13,
     "metadata": {},
     "output_type": "execute_result"
    }
   ],
   "source": [
    "sand_5_15cm"
   ]
  },
  {
   "cell_type": "code",
   "execution_count": 16,
   "metadata": {},
   "outputs": [
    {
     "data": {
      "text/html": [
       "<div>\n",
       "<style scoped>\n",
       "    .dataframe tbody tr th:only-of-type {\n",
       "        vertical-align: middle;\n",
       "    }\n",
       "\n",
       "    .dataframe tbody tr th {\n",
       "        vertical-align: top;\n",
       "    }\n",
       "\n",
       "    .dataframe thead th {\n",
       "        text-align: right;\n",
       "    }\n",
       "</style>\n",
       "<table border=\"1\" class=\"dataframe\">\n",
       "  <thead>\n",
       "    <tr style=\"text-align: right;\">\n",
       "      <th></th>\n",
       "      <th></th>\n",
       "      <th>silt_5-15cm_mean</th>\n",
       "    </tr>\n",
       "    <tr>\n",
       "      <th>lat_bucket_id</th>\n",
       "      <th>lon_bucket_id</th>\n",
       "      <th></th>\n",
       "    </tr>\n",
       "  </thead>\n",
       "  <tbody>\n",
       "    <tr>\n",
       "      <th rowspan=\"5\" valign=\"top\">7600</th>\n",
       "      <th>10200</th>\n",
       "      <td>0</td>\n",
       "    </tr>\n",
       "    <tr>\n",
       "      <th>10201</th>\n",
       "      <td>0</td>\n",
       "    </tr>\n",
       "    <tr>\n",
       "      <th>10202</th>\n",
       "      <td>0</td>\n",
       "    </tr>\n",
       "    <tr>\n",
       "      <th>10203</th>\n",
       "      <td>0</td>\n",
       "    </tr>\n",
       "    <tr>\n",
       "      <th>10204</th>\n",
       "      <td>0</td>\n",
       "    </tr>\n",
       "    <tr>\n",
       "      <th>...</th>\n",
       "      <th>...</th>\n",
       "      <td>...</td>\n",
       "    </tr>\n",
       "    <tr>\n",
       "      <th rowspan=\"5\" valign=\"top\">13581</th>\n",
       "      <th>26595</th>\n",
       "      <td>0</td>\n",
       "    </tr>\n",
       "    <tr>\n",
       "      <th>26596</th>\n",
       "      <td>0</td>\n",
       "    </tr>\n",
       "    <tr>\n",
       "      <th>26597</th>\n",
       "      <td>0</td>\n",
       "    </tr>\n",
       "    <tr>\n",
       "      <th>26598</th>\n",
       "      <td>0</td>\n",
       "    </tr>\n",
       "    <tr>\n",
       "      <th>26599</th>\n",
       "      <td>0</td>\n",
       "    </tr>\n",
       "  </tbody>\n",
       "</table>\n",
       "<p>106574000 rows × 1 columns</p>\n",
       "</div>"
      ],
      "text/plain": [
       "                             silt_5-15cm_mean\n",
       "lat_bucket_id lon_bucket_id                  \n",
       "7600          10200                         0\n",
       "              10201                         0\n",
       "              10202                         0\n",
       "              10203                         0\n",
       "              10204                         0\n",
       "...                                       ...\n",
       "13581         26595                         0\n",
       "              26596                         0\n",
       "              26597                         0\n",
       "              26598                         0\n",
       "              26599                         0\n",
       "\n",
       "[106574000 rows x 1 columns]"
      ]
     },
     "execution_count": 16,
     "metadata": {},
     "output_type": "execute_result"
    }
   ],
   "source": [
    "silt_5_15cm"
   ]
  },
  {
   "cell_type": "code",
   "execution_count": 2,
   "metadata": {},
   "outputs": [
    {
     "ename": "NameError",
     "evalue": "name 'pd' is not defined",
     "output_type": "error",
     "traceback": [
      "\u001b[0;31m---------------------------------------------------------------------------\u001b[0m",
      "\u001b[0;31mNameError\u001b[0m                                 Traceback (most recent call last)",
      "\u001b[0;32m<ipython-input-2-663d04d1dd50>\u001b[0m in \u001b[0;36m<module>\u001b[0;34m\u001b[0m\n\u001b[0;32m----> 1\u001b[0;31m \u001b[0msoil_profile\u001b[0m \u001b[0;34m=\u001b[0m \u001b[0mpd\u001b[0m\u001b[0;34m.\u001b[0m\u001b[0mconcat\u001b[0m\u001b[0;34m(\u001b[0m\u001b[0;34m[\u001b[0m\u001b[0msand_5_15cm\u001b[0m\u001b[0;34m,\u001b[0m \u001b[0mclay_5_15cm\u001b[0m\u001b[0;34m,\u001b[0m \u001b[0msilt_5_15cm\u001b[0m\u001b[0;34m]\u001b[0m\u001b[0;34m,\u001b[0m \u001b[0maxis\u001b[0m\u001b[0;34m=\u001b[0m\u001b[0;36m1\u001b[0m\u001b[0;34m)\u001b[0m\u001b[0;34m\u001b[0m\u001b[0;34m\u001b[0m\u001b[0m\n\u001b[0m",
      "\u001b[0;31mNameError\u001b[0m: name 'pd' is not defined"
     ]
    }
   ],
   "source": [
    "soil_profile = pd.concat([sand_5_15cm, clay_5_15cm, silt_5_15cm], axis=1)"
   ]
  },
  {
   "cell_type": "code",
   "execution_count": 1,
   "metadata": {},
   "outputs": [
    {
     "ename": "NameError",
     "evalue": "name 'soil_profile' is not defined",
     "output_type": "error",
     "traceback": [
      "\u001b[0;31m---------------------------------------------------------------------------\u001b[0m",
      "\u001b[0;31mNameError\u001b[0m                                 Traceback (most recent call last)",
      "\u001b[0;32m<ipython-input-1-aff5913b8f02>\u001b[0m in \u001b[0;36m<module>\u001b[0;34m\u001b[0m\n\u001b[0;32m----> 1\u001b[0;31m \u001b[0msoil_profile\u001b[0m\u001b[0;34m\u001b[0m\u001b[0;34m\u001b[0m\u001b[0m\n\u001b[0m",
      "\u001b[0;31mNameError\u001b[0m: name 'soil_profile' is not defined"
     ]
    }
   ],
   "source": [
    "soil_profile"
   ]
  },
  {
   "cell_type": "code",
   "execution_count": null,
   "metadata": {},
   "outputs": [],
   "source": []
  }
 ],
 "metadata": {
  "kernelspec": {
   "display_name": "Python 3",
   "language": "python",
   "name": "python3"
  },
  "language_info": {
   "codemirror_mode": {
    "name": "ipython",
    "version": 3
   },
   "file_extension": ".py",
   "mimetype": "text/x-python",
   "name": "python",
   "nbconvert_exporter": "python",
   "pygments_lexer": "ipython3",
   "version": "3.8.5"
  }
 },
 "nbformat": 4,
 "nbformat_minor": 4
}
