{
 "cells": [
  {
   "cell_type": "markdown",
   "metadata": {},
   "source": [
    "# Locust Prediction Modelling\n",
    "\n",
    "Notes:\n",
    "\n",
    "- `observation_date` is already encoded as `year`, `month`, `day`, separately\n",
    "- The `dekad` variables are used for pseudo-absence generation"
   ]
  },
  {
   "cell_type": "code",
   "execution_count": 1,
   "metadata": {},
   "outputs": [],
   "source": [
    "import pandas as pd\n",
    "import numpy as np\n",
    "import matplotlib.pyplot as plt"
   ]
  },
  {
   "cell_type": "code",
   "execution_count": 2,
   "metadata": {},
   "outputs": [
    {
     "data": {
      "text/html": [
       "<div>\n",
       "<style scoped>\n",
       "    .dataframe tbody tr th:only-of-type {\n",
       "        vertical-align: middle;\n",
       "    }\n",
       "\n",
       "    .dataframe tbody tr th {\n",
       "        vertical-align: top;\n",
       "    }\n",
       "\n",
       "    .dataframe thead th {\n",
       "        text-align: right;\n",
       "    }\n",
       "</style>\n",
       "<table border=\"1\" class=\"dataframe\">\n",
       "  <thead>\n",
       "    <tr style=\"text-align: right;\">\n",
       "      <th></th>\n",
       "      <th>Unnamed: 0.1</th>\n",
       "      <th>x</th>\n",
       "      <th>y</th>\n",
       "      <th>presence</th>\n",
       "      <th>method</th>\n",
       "      <th>year</th>\n",
       "      <th>month</th>\n",
       "      <th>day</th>\n",
       "      <th>clay_0.5cm_mean</th>\n",
       "      <th>clay_5.15cm_mean</th>\n",
       "      <th>...</th>\n",
       "      <th>SoilMoi0_10cm_inst_95</th>\n",
       "      <th>SoilMoi10_40cm_inst_95</th>\n",
       "      <th>SoilTMP0_10cm_inst_95</th>\n",
       "      <th>SoilTMP10_40cm_inst_95</th>\n",
       "      <th>Tveg_tavg_95</th>\n",
       "      <th>Wind_f_inst_95</th>\n",
       "      <th>Rainf_f_tavg_95</th>\n",
       "      <th>Tair_f_inst_95</th>\n",
       "      <th>Qair_f_inst_95</th>\n",
       "      <th>Psurf_f_inst_95</th>\n",
       "    </tr>\n",
       "  </thead>\n",
       "  <tbody>\n",
       "    <tr>\n",
       "      <th>0</th>\n",
       "      <td>0</td>\n",
       "      <td>-13.899444</td>\n",
       "      <td>19.156944</td>\n",
       "      <td>1</td>\n",
       "      <td>random</td>\n",
       "      <td>2000</td>\n",
       "      <td>11</td>\n",
       "      <td>27</td>\n",
       "      <td>213.0</td>\n",
       "      <td>218.0</td>\n",
       "      <td>...</td>\n",
       "      <td>21.949375</td>\n",
       "      <td>72.536621</td>\n",
       "      <td>309.327972</td>\n",
       "      <td>308.586700</td>\n",
       "      <td>0.0</td>\n",
       "      <td>2.366373</td>\n",
       "      <td>0.0</td>\n",
       "      <td>308.427795</td>\n",
       "      <td>0.006704</td>\n",
       "      <td>98936.21875</td>\n",
       "    </tr>\n",
       "    <tr>\n",
       "      <th>1</th>\n",
       "      <td>1</td>\n",
       "      <td>-13.910278</td>\n",
       "      <td>19.144444</td>\n",
       "      <td>1</td>\n",
       "      <td>random</td>\n",
       "      <td>2000</td>\n",
       "      <td>11</td>\n",
       "      <td>27</td>\n",
       "      <td>212.0</td>\n",
       "      <td>217.0</td>\n",
       "      <td>...</td>\n",
       "      <td>21.949375</td>\n",
       "      <td>72.536621</td>\n",
       "      <td>309.327972</td>\n",
       "      <td>308.586700</td>\n",
       "      <td>0.0</td>\n",
       "      <td>2.366373</td>\n",
       "      <td>0.0</td>\n",
       "      <td>308.427795</td>\n",
       "      <td>0.006704</td>\n",
       "      <td>98936.21875</td>\n",
       "    </tr>\n",
       "    <tr>\n",
       "      <th>2</th>\n",
       "      <td>2</td>\n",
       "      <td>-13.923056</td>\n",
       "      <td>19.146667</td>\n",
       "      <td>1</td>\n",
       "      <td>random</td>\n",
       "      <td>2000</td>\n",
       "      <td>11</td>\n",
       "      <td>27</td>\n",
       "      <td>210.0</td>\n",
       "      <td>215.0</td>\n",
       "      <td>...</td>\n",
       "      <td>21.949375</td>\n",
       "      <td>72.536621</td>\n",
       "      <td>309.327972</td>\n",
       "      <td>308.586700</td>\n",
       "      <td>0.0</td>\n",
       "      <td>2.366373</td>\n",
       "      <td>0.0</td>\n",
       "      <td>308.427795</td>\n",
       "      <td>0.006704</td>\n",
       "      <td>98936.21875</td>\n",
       "    </tr>\n",
       "    <tr>\n",
       "      <th>3</th>\n",
       "      <td>3</td>\n",
       "      <td>-12.945833</td>\n",
       "      <td>19.146389</td>\n",
       "      <td>1</td>\n",
       "      <td>random</td>\n",
       "      <td>2000</td>\n",
       "      <td>11</td>\n",
       "      <td>28</td>\n",
       "      <td>175.0</td>\n",
       "      <td>190.0</td>\n",
       "      <td>...</td>\n",
       "      <td>21.541126</td>\n",
       "      <td>71.466125</td>\n",
       "      <td>308.702087</td>\n",
       "      <td>309.064667</td>\n",
       "      <td>0.0</td>\n",
       "      <td>3.542690</td>\n",
       "      <td>0.0</td>\n",
       "      <td>307.616486</td>\n",
       "      <td>0.010070</td>\n",
       "      <td>99162.62500</td>\n",
       "    </tr>\n",
       "    <tr>\n",
       "      <th>4</th>\n",
       "      <td>4</td>\n",
       "      <td>-12.949722</td>\n",
       "      <td>19.133056</td>\n",
       "      <td>1</td>\n",
       "      <td>random</td>\n",
       "      <td>2000</td>\n",
       "      <td>11</td>\n",
       "      <td>28</td>\n",
       "      <td>180.0</td>\n",
       "      <td>191.0</td>\n",
       "      <td>...</td>\n",
       "      <td>21.541126</td>\n",
       "      <td>71.466125</td>\n",
       "      <td>308.702087</td>\n",
       "      <td>309.064667</td>\n",
       "      <td>0.0</td>\n",
       "      <td>3.542690</td>\n",
       "      <td>0.0</td>\n",
       "      <td>307.616486</td>\n",
       "      <td>0.010070</td>\n",
       "      <td>99162.62500</td>\n",
       "    </tr>\n",
       "  </tbody>\n",
       "</table>\n",
       "<p>5 rows × 1167 columns</p>\n",
       "</div>"
      ],
      "text/plain": [
       "   Unnamed: 0.1          x          y  presence  method  year  month  day  \\\n",
       "0             0 -13.899444  19.156944         1  random  2000     11   27   \n",
       "1             1 -13.910278  19.144444         1  random  2000     11   27   \n",
       "2             2 -13.923056  19.146667         1  random  2000     11   27   \n",
       "3             3 -12.945833  19.146389         1  random  2000     11   28   \n",
       "4             4 -12.949722  19.133056         1  random  2000     11   28   \n",
       "\n",
       "   clay_0.5cm_mean  clay_5.15cm_mean  ...  SoilMoi0_10cm_inst_95  \\\n",
       "0            213.0             218.0  ...              21.949375   \n",
       "1            212.0             217.0  ...              21.949375   \n",
       "2            210.0             215.0  ...              21.949375   \n",
       "3            175.0             190.0  ...              21.541126   \n",
       "4            180.0             191.0  ...              21.541126   \n",
       "\n",
       "   SoilMoi10_40cm_inst_95  SoilTMP0_10cm_inst_95  SoilTMP10_40cm_inst_95  \\\n",
       "0               72.536621             309.327972              308.586700   \n",
       "1               72.536621             309.327972              308.586700   \n",
       "2               72.536621             309.327972              308.586700   \n",
       "3               71.466125             308.702087              309.064667   \n",
       "4               71.466125             308.702087              309.064667   \n",
       "\n",
       "  Tveg_tavg_95  Wind_f_inst_95  Rainf_f_tavg_95  Tair_f_inst_95  \\\n",
       "0          0.0        2.366373              0.0      308.427795   \n",
       "1          0.0        2.366373              0.0      308.427795   \n",
       "2          0.0        2.366373              0.0      308.427795   \n",
       "3          0.0        3.542690              0.0      307.616486   \n",
       "4          0.0        3.542690              0.0      307.616486   \n",
       "\n",
       "   Qair_f_inst_95  Psurf_f_inst_95  \n",
       "0        0.006704      98936.21875  \n",
       "1        0.006704      98936.21875  \n",
       "2        0.006704      98936.21875  \n",
       "3        0.010070      99162.62500  \n",
       "4        0.010070      99162.62500  \n",
       "\n",
       "[5 rows x 1167 columns]"
      ]
     },
     "execution_count": 2,
     "metadata": {},
     "output_type": "execute_result"
    }
   ],
   "source": [
    "data_train = pd.read_csv(\"../data/train_val_random.csv\", index_col=0)\n",
    "data_test = pd.read_csv(\"../data/test_random.csv\", index_col=0)\n",
    "data_train.head()"
   ]
  },
  {
   "cell_type": "code",
   "execution_count": 3,
   "metadata": {},
   "outputs": [
    {
     "name": "stdout",
     "output_type": "stream",
     "text": [
      "Train missing 0 columns\n",
      "Test missing 0 columns\n"
     ]
    }
   ],
   "source": [
    "# assert len(data_train.drop(columns=\"presence\").columns), len(data_test.columns)\n",
    "missing_in_train = [n for n in data_test.columns if n not in data_train.columns]\n",
    "missing_in_test = [n for n in data_train.columns if n not in data_test.columns]\n",
    "missing_in_background = [n for n in background.columns if n not in background.columns]\n",
    "\n",
    "print(f\"Train missing {len(missing_in_train)} columns\")\n",
    "print(f\"Test missing {len(missing_in_test)} columns\")\n",
    "print(f\"Background missing {len(missing_in_background)} columns\")\n",
    "\n",
    "data_test = data_test.drop(columns=missing_in_train)\n",
    "data_train = data_train.drop(columns=missing_in_test)"
   ]
  },
  {
   "cell_type": "code",
   "execution_count": 4,
   "metadata": {},
   "outputs": [
    {
     "name": "stdout",
     "output_type": "stream",
     "text": [
      "Objects: ['method', 'observation_date']\n",
      "Categoricals: ['Unnamed: 0.1', 'presence', 'year', 'month', 'day']\n",
      "Floats: ['x', 'y', 'clay_0.5cm_mean', 'clay_5.15cm_mean', 'sand_0.5cm_mean', 'sand_5.15cm_mean', 'silt_0.5cm_mean', 'silt_5.15cm_mean', 'AvgSurfT_inst_0', 'Albedo_inst_0']\n"
     ]
    },
    {
     "name": "stderr",
     "output_type": "stream",
     "text": [
      "/tmp/ipykernel_511806/3237200483.py:2: DeprecationWarning: `np.object` is a deprecated alias for the builtin `object`. To silence this warning, use `object` by itself. Doing this will not modify any behavior and is safe. \n",
      "Deprecated in NumPy 1.20; for more details and guidance: https://numpy.org/devdocs/release/1.20.0-notes.html#deprecations\n",
      "  objects = data_train.select_dtypes(np.object).columns.tolist()\n",
      "/tmp/ipykernel_511806/3237200483.py:3: DeprecationWarning: `np.float` is a deprecated alias for the builtin `float`. To silence this warning, use `float` by itself. Doing this will not modify any behavior and is safe. If you specifically wanted the numpy scalar type, use `np.float64` here.\n",
      "Deprecated in NumPy 1.20; for more details and guidance: https://numpy.org/devdocs/release/1.20.0-notes.html#deprecations\n",
      "  floats = data_train.select_dtypes(np.float).columns.tolist()\n"
     ]
    }
   ],
   "source": [
    "cats = data_train.select_dtypes(np.integer).columns.tolist()\n",
    "objects = data_train.select_dtypes(np.object).columns.tolist()\n",
    "floats = data_train.select_dtypes(np.float).columns.tolist()\n",
    "assert len(cats) + len(objects) + len(floats) == len(data_train.columns)\n",
    "\n",
    "print(\"Objects:\", objects)\n",
    "print(\"Categoricals:\", cats)\n",
    "print(\"Floats:\", floats[:10])"
   ]
  },
  {
   "cell_type": "code",
   "execution_count": 5,
   "metadata": {},
   "outputs": [
    {
     "name": "stdout",
     "output_type": "stream",
     "text": [
      "<class 'pandas.core.frame.DataFrame'>\n",
      "Int64Index: 33246 entries, 0 to 76512\n",
      "Columns: 1167 entries, Unnamed: 0.1 to Psurf_f_inst_95\n",
      "dtypes: float64(1160), int64(5), object(2)\n",
      "memory usage: 296.3+ MB\n"
     ]
    }
   ],
   "source": [
    "data_train.info(verbose=False)"
   ]
  },
  {
   "cell_type": "code",
   "execution_count": 6,
   "metadata": {},
   "outputs": [],
   "source": [
    "# Check for NAN values\n",
    "nans = data_train.isnull().sum()\n",
    "# [(k,v,d) for k,v,d in zip(nans.keys(), nans.values, data_train.dtypes) if v>0]"
   ]
  },
  {
   "cell_type": "code",
   "execution_count": 7,
   "metadata": {},
   "outputs": [],
   "source": [
    "# Fill NAN values with median\n",
    "# for col in data_train.columns:\n",
    "#     n_train_nans = pd.isnull(data_train[col]).sum()\n",
    "#     n_test_nans = pd.isnull(data_test[col]).sum()\n",
    "#     if data_train[col].dtype == np.float:\n",
    "#         m = data_train[col].median()\n",
    "#         if n_train_nans:\n",
    "#             data_train[col] = data_train[col].fillna(m)\n",
    "#         if n_test_nans:\n",
    "#             data_test[col] = data_test[col].fillna(m)\n",
    "\n",
    "data_train.dropna(inplace=True)\n",
    "data_test.dropna(inplace=True)\n",
    "background.dropna(inplace=True)\n",
    "\n",
    "assert not data_train.isnull().sum().sum()\n",
    "assert not data_test.isnull().sum().sum()"
   ]
  },
  {
   "cell_type": "code",
   "execution_count": 8,
   "metadata": {},
   "outputs": [],
   "source": [
    "non_temporal_columns = ['sand_0.5cm_mean', 'sand_5.15cm_mean',] #'clay_0.5cm_mean', 'clay_5.15cm_mean', 'silt_0.5cm_mean', 'silt_5.15cm_mean']\n",
    "temporal_variables = [\n",
    "    'AvgSurfT_inst', \n",
    "#     'Albedo_inst', \n",
    "    'SoilMoi0_10cm_inst', \n",
    "    'SoilMoi10_40cm_inst', \n",
    "    'SoilTMP0_10cm_inst', \n",
    "    'SoilTMP10_40cm_inst', \n",
    "#     'Tveg_tavg', \n",
    "#     'Wind_f_inst', \n",
    "#     'Rainf_f_tavg', \n",
    "#     'Tair_f_inst',\n",
    "#     'Qair_f_inst', \n",
    "#     'Psurf_f_inst'\n",
    "]\n",
    "\n",
    "def grouplen(sequence, chunk_size):\n",
    "    return list(zip(*[iter(sequence)] * chunk_size))\n",
    "\n",
    "def preprocess_data(data, start_day=7, days=6, drop_true_absence=True, bucketize=True):\n",
    "    \"\"\"Bucketize temporal columns\"\"\"\n",
    "    if drop_true_absence:\n",
    "        data = data[data['presence'] != 2]\n",
    "    dfs = []\n",
    "    for temp_variable in temporal_variables:\n",
    "        if bucketize:\n",
    "            columns = [f\"{temp_variable}_{i}\" for i in range(start_day, 95+1)]\n",
    "            chunks = grouplen(columns, days)\n",
    "            agg_list = list(map(lambda x: data[list(x)].mean(axis=1), chunks))\n",
    "            df = pd.concat(agg_list, axis=1)\n",
    "            df.columns = [f\"{temp_variable}_bucket_{i}\" for i in range(1, df.shape[1]+1)]\n",
    "        else:\n",
    "            columns = [f\"{temp_variable}_{i}\" for i in range(start_day, 95+1)]\n",
    "            df = data[columns]\n",
    "        dfs.append(df)\n",
    "    dfs.append(data[non_temporal_columns])\n",
    "    return pd.concat(dfs, axis=1), data['presence']"
   ]
  },
  {
   "cell_type": "code",
   "execution_count": 9,
   "metadata": {},
   "outputs": [],
   "source": [
    "# drops = [\"observation_date\", \"date\", \"Unnamed: 0.1\", \"presence\"]\n",
    "\n",
    "# def process_targets(data):\n",
    "#     target = data.presence.copy()\n",
    "#     data = data.drop(columns=drops)\n",
    "#     counts = list(zip(*np.unique(target, return_counts=True)))\n",
    "#     print(\"Counts:\", counts)\n",
    "    \n",
    "#     # merge pseudo-absence and true absence\n",
    "#     target.loc[target == 2] = 0\n",
    "#     return data, target"
   ]
  },
  {
   "cell_type": "code",
   "execution_count": 10,
   "metadata": {},
   "outputs": [
    {
     "name": "stdout",
     "output_type": "stream",
     "text": [
      "Train features: (32823, 178), Train labels: (32823,)\n",
      "Test features: (6885, 178), Test labels: (6885,)\n"
     ]
    }
   ],
   "source": [
    "data_train, train_target = preprocess_data(data_train)\n",
    "data_test, test_target = preprocess_data(data_test)\n",
    "\n",
    "print(f\"Train features: {data_train.shape}, Train labels: {train_target.shape}\")\n",
    "print(f\"Test features: {data_test.shape}, Test labels: {test_target.shape}\")"
   ]
  },
  {
   "cell_type": "code",
   "execution_count": 77,
   "metadata": {},
   "outputs": [],
   "source": [
    "data_train[\"presence\"] = train_target\n",
    "data_test[\"presence\"] = test_target\n",
    "data_background[\"presence\"] = background_target"
   ]
  },
  {
   "cell_type": "code",
   "execution_count": 78,
   "metadata": {},
   "outputs": [],
   "source": [
    "data_background.to_csv(\"../data/preprocessed_background_data_updated.csv_full.csv\")"
   ]
  },
  {
   "cell_type": "code",
   "execution_count": 79,
   "metadata": {},
   "outputs": [],
   "source": [
    "data_train.to_csv(\"../data/preprocessed_train_val_random.csv\")"
   ]
  },
  {
   "cell_type": "code",
   "execution_count": 80,
   "metadata": {},
   "outputs": [],
   "source": [
    "data_test.to_csv(\"../data/preprocessed_test_random.csv\")"
   ]
  },
  {
   "cell_type": "markdown",
   "metadata": {},
   "source": [
    "## Modelling"
   ]
  },
  {
   "cell_type": "code",
   "execution_count": 11,
   "metadata": {},
   "outputs": [],
   "source": [
    "from sklearn.model_selection import train_test_split\n",
    "from sklearn import preprocessing, metrics\n",
    "from sklearn.ensemble import RandomForestClassifier\n",
    "from sklearn.linear_model import LogisticRegression\n",
    "import xgboost as xgb"
   ]
  },
  {
   "cell_type": "code",
   "execution_count": 12,
   "metadata": {},
   "outputs": [],
   "source": [
    "def evaluate(trues, preds, probs):\n",
    "    labels = ['absence', 'presence']\n",
    "    results = {}\n",
    "    results['accuracy'] = metrics.accuracy_score(trues, preds)\n",
    "    results['confusion_matrix'] = metrics.confusion_matrix(trues, preds)\n",
    "    results['kappa'] = metrics.cohen_kappa_score(trues, preds)\n",
    "    results['f1'] = metrics.f1_score(trues, preds)\n",
    "    results['auc'] = metrics.roc_auc_score(trues, probs)\n",
    "    \n",
    "    print(metrics.classification_report(trues, preds, target_names=labels))\n",
    "    return results"
   ]
  },
  {
   "cell_type": "code",
   "execution_count": 13,
   "metadata": {},
   "outputs": [],
   "source": [
    "# Probably should split data sooner\n",
    "seed = 111\n",
    "train_x, val_x, train_y, val_y = train_test_split(\n",
    "    data_train, train_target, test_size=0.2, random_state=seed)"
   ]
  },
  {
   "cell_type": "markdown",
   "metadata": {},
   "source": [
    "## Logistic Regression"
   ]
  },
  {
   "cell_type": "code",
   "execution_count": 14,
   "metadata": {},
   "outputs": [],
   "source": [
    "# Scale the dataset\n",
    "scaler = preprocessing.StandardScaler()\n",
    "train_x_scaled = scaler.fit_transform(train_x)\n",
    "val_x_scaled = scaler.transform(val_x)\n",
    "test_x_scaled = scaler.transform(data_test)"
   ]
  },
  {
   "cell_type": "code",
   "execution_count": 15,
   "metadata": {},
   "outputs": [
    {
     "name": "stderr",
     "output_type": "stream",
     "text": [
      "/usr/lib/python3/dist-packages/sklearn/linear_model/_logistic.py:938: ConvergenceWarning: lbfgs failed to converge (status=1):\n",
      "STOP: TOTAL NO. of ITERATIONS REACHED LIMIT.\n",
      "\n",
      "Increase the number of iterations (max_iter) or scale the data as shown in:\n",
      "    https://scikit-learn.org/stable/modules/preprocessing.html\n",
      "Please also refer to the documentation for alternative solver options:\n",
      "    https://scikit-learn.org/stable/modules/linear_model.html#logistic-regression\n",
      "  n_iter_i = _check_optimize_result(\n"
     ]
    }
   ],
   "source": [
    "model = LogisticRegression()\n",
    "model.fit(train_x_scaled, train_y);"
   ]
  },
  {
   "cell_type": "code",
   "execution_count": 16,
   "metadata": {},
   "outputs": [
    {
     "name": "stdout",
     "output_type": "stream",
     "text": [
      "              precision    recall  f1-score   support\n",
      "\n",
      "     absence       0.66      0.40      0.50      2359\n",
      "    presence       0.72      0.89      0.80      4206\n",
      "\n",
      "    accuracy                           0.71      6565\n",
      "   macro avg       0.69      0.64      0.65      6565\n",
      "weighted avg       0.70      0.71      0.69      6565\n",
      "\n"
     ]
    }
   ],
   "source": [
    "y_preds = model.predict(val_x_scaled)\n",
    "y_probs = model.predict_proba(val_x_scaled)[:, 1]\n",
    "logistic_val_results = evaluate(val_y, y_preds, y_probs)"
   ]
  },
  {
   "cell_type": "code",
   "execution_count": 17,
   "metadata": {},
   "outputs": [
    {
     "name": "stdout",
     "output_type": "stream",
     "text": [
      "              precision    recall  f1-score   support\n",
      "\n",
      "     absence       0.49      0.52      0.50      1232\n",
      "    presence       0.89      0.88      0.89      5653\n",
      "\n",
      "    accuracy                           0.82      6885\n",
      "   macro avg       0.69      0.70      0.70      6885\n",
      "weighted avg       0.82      0.82      0.82      6885\n",
      "\n"
     ]
    }
   ],
   "source": [
    "y_preds = model.predict(test_x_scaled)\n",
    "y_probs = model.predict_proba(test_x_scaled)[:, 1]\n",
    "logistic_test_results = evaluate(test_target, y_preds, y_probs)"
   ]
  },
  {
   "cell_type": "code",
   "execution_count": 18,
   "metadata": {},
   "outputs": [
    {
     "data": {
      "text/plain": [
       "[(-1.5817677782900852, 'Tair_f_inst_bucket_16'),\n",
       " (1.4095284713943972, 'SoilTMP10_40cm_inst_bucket_16'),\n",
       " (1.2249959374559176, 'sand_0.5cm_mean'),\n",
       " (-1.149305523201153, 'Tair_f_inst_bucket_2'),\n",
       " (-1.1325072029398453, 'Tair_f_inst_bucket_1'),\n",
       " (-1.042188801310214, 'sand_5.15cm_mean'),\n",
       " (-1.006401287019596, 'Tair_f_inst_bucket_3'),\n",
       " (-0.9745902109473867, 'Tair_f_inst_bucket_14'),\n",
       " (-0.9349365050001243, 'Tair_f_inst_bucket_15'),\n",
       " (-0.8802094437176424, 'Psurf_f_inst_bucket_11')]"
      ]
     },
     "execution_count": 18,
     "metadata": {},
     "output_type": "execute_result"
    }
   ],
   "source": [
    "# Feature importance\n",
    "weights = model.coef_[0].tolist()\n",
    "features = list(zip(weights, data_train.columns))\n",
    "list(sorted(features, key=lambda x: abs(x[0]), reverse=True))[:10]"
   ]
  },
  {
   "cell_type": "markdown",
   "metadata": {},
   "source": [
    "### XGBoost"
   ]
  },
  {
   "cell_type": "code",
   "execution_count": 19,
   "metadata": {},
   "outputs": [],
   "source": [
    "train_xgb = xgb.DMatrix(train_x, label=train_y)\n",
    "val_xgb = xgb.DMatrix(val_x, label=val_y)\n",
    "test_xgb = xgb.DMatrix(data_test)"
   ]
  },
  {
   "cell_type": "code",
   "execution_count": 20,
   "metadata": {},
   "outputs": [
    {
     "name": "stdout",
     "output_type": "stream",
     "text": [
      "[18:52:50] WARNING: ../src/learner.cc:1095: Starting in XGBoost 1.3.0, the default evaluation metric used with the objective 'binary:logistic' was changed from 'error' to 'logloss'. Explicitly set eval_metric if you'd like to restore the old behavior.\n",
      "              precision    recall  f1-score   support\n",
      "\n",
      "     absence       0.75      0.56      0.65      2359\n",
      "    presence       0.79      0.90      0.84      4206\n",
      "\n",
      "    accuracy                           0.78      6565\n",
      "   macro avg       0.77      0.73      0.74      6565\n",
      "weighted avg       0.77      0.78      0.77      6565\n",
      "\n"
     ]
    }
   ],
   "source": [
    "params = {'max_depth': 5, 'eta': 0.3, 'objective': 'binary:logistic', 'subsample': 0.7}\n",
    "model = xgb.train(params, train_xgb)\n",
    "y_probs = model.predict(val_xgb)\n",
    "y_preds = y_probs.round()\n",
    "xgb_val_results = evaluate(val_y, y_preds, y_probs)"
   ]
  },
  {
   "cell_type": "code",
   "execution_count": 21,
   "metadata": {},
   "outputs": [
    {
     "name": "stdout",
     "output_type": "stream",
     "text": [
      "              precision    recall  f1-score   support\n",
      "\n",
      "     absence       0.39      0.40      0.39      1232\n",
      "    presence       0.87      0.86      0.86      5653\n",
      "\n",
      "    accuracy                           0.78      6885\n",
      "   macro avg       0.63      0.63      0.63      6885\n",
      "weighted avg       0.78      0.78      0.78      6885\n",
      "\n"
     ]
    }
   ],
   "source": [
    "y_probs = model.predict(test_xgb)\n",
    "y_preds = y_probs.round()\n",
    "xgb_test_results = evaluate(test_target, y_preds, y_probs)"
   ]
  },
  {
   "cell_type": "markdown",
   "metadata": {},
   "source": [
    "#### Feature Importance"
   ]
  },
  {
   "cell_type": "code",
   "execution_count": 22,
   "metadata": {},
   "outputs": [
    {
     "data": {
      "image/png": "[encoded data removed]",
      "text/plain": [
       "<Figure size 864x864 with 1 Axes>"
      ]
     },
     "metadata": {
      "needs_background": "light"
     },
     "output_type": "display_data"
    }
   ],
   "source": [
    "f,a = plt.subplots(figsize=(12,12))\n",
    "xgb.plot_importance(model, height=0.5, figure=f, ax=a, max_num_features=15);"
   ]
  },
  {
   "cell_type": "markdown",
   "metadata": {},
   "source": [
    "### Random Forest"
   ]
  },
  {
   "cell_type": "code",
   "execution_count": 23,
   "metadata": {},
   "outputs": [
    {
     "data": {
      "text/plain": [
       "RandomForestClassifier(bootstrap=True, ccp_alpha=0.0, class_weight=None,\n",
       "                       criterion='gini', max_depth=5, max_features='auto',\n",
       "                       max_leaf_nodes=None, max_samples=None,\n",
       "                       min_impurity_decrease=0.0, min_impurity_split=None,\n",
       "                       min_samples_leaf=50, min_samples_split=2,\n",
       "                       min_weight_fraction_leaf=0.0, n_estimators=500,\n",
       "                       n_jobs=None, oob_score=False, random_state=None,\n",
       "                       verbose=0, warm_start=False)"
      ]
     },
     "execution_count": 23,
     "metadata": {},
     "output_type": "execute_result"
    }
   ],
   "source": [
    "model = RandomForestClassifier(n_estimators=500, max_depth=5, min_samples_leaf=50)\n",
    "model.fit(train_x, train_y)"
   ]
  },
  {
   "cell_type": "code",
   "execution_count": 24,
   "metadata": {},
   "outputs": [
    {
     "name": "stdout",
     "output_type": "stream",
     "text": [
      "              precision    recall  f1-score   support\n",
      "\n",
      "     absence       0.68      0.49      0.57      2359\n",
      "    presence       0.75      0.87      0.81      4206\n",
      "\n",
      "    accuracy                           0.73      6565\n",
      "   macro avg       0.72      0.68      0.69      6565\n",
      "weighted avg       0.73      0.73      0.72      6565\n",
      "\n"
     ]
    }
   ],
   "source": [
    "y_preds = model.predict(val_x)\n",
    "y_probs = model.predict_proba(val_x)[:, 1]\n",
    "rf_val_results = evaluate(val_y, y_preds, y_probs)"
   ]
  },
  {
   "cell_type": "code",
   "execution_count": 25,
   "metadata": {},
   "outputs": [
    {
     "name": "stdout",
     "output_type": "stream",
     "text": [
      "              precision    recall  f1-score   support\n",
      "\n",
      "     absence       0.04      0.02      0.02      1232\n",
      "    presence       0.81      0.92      0.86      5653\n",
      "\n",
      "    accuracy                           0.75      6885\n",
      "   macro avg       0.42      0.47      0.44      6885\n",
      "weighted avg       0.67      0.75      0.71      6885\n",
      "\n"
     ]
    }
   ],
   "source": [
    "y_preds = model.predict(data_test)\n",
    "y_probs = model.predict_proba(data_test)[:, 1]\n",
    "rf_test_results = evaluate(test_target, y_preds, y_probs)"
   ]
  },
  {
   "cell_type": "markdown",
   "metadata": {},
   "source": [
    "## Results"
   ]
  },
  {
   "cell_type": "markdown",
   "metadata": {},
   "source": [
    "### Validation"
   ]
  },
  {
   "cell_type": "code",
   "execution_count": 27,
   "metadata": {},
   "outputs": [
    {
     "data": {
      "text/html": [
       "<div>\n",
       "<style scoped>\n",
       "    .dataframe tbody tr th:only-of-type {\n",
       "        vertical-align: middle;\n",
       "    }\n",
       "\n",
       "    .dataframe tbody tr th {\n",
       "        vertical-align: top;\n",
       "    }\n",
       "\n",
       "    .dataframe thead th {\n",
       "        text-align: right;\n",
       "    }\n",
       "</style>\n",
       "<table border=\"1\" class=\"dataframe\">\n",
       "  <thead>\n",
       "    <tr style=\"text-align: right;\">\n",
       "      <th></th>\n",
       "      <th>Logistic</th>\n",
       "      <th>XGBoost</th>\n",
       "      <th>Random Forest</th>\n",
       "    </tr>\n",
       "  </thead>\n",
       "  <tbody>\n",
       "    <tr>\n",
       "      <th>accuracy</th>\n",
       "      <td>0.711196</td>\n",
       "      <td>0.777304</td>\n",
       "      <td>0.73374</td>\n",
       "    </tr>\n",
       "    <tr>\n",
       "      <th>confusion_matrix</th>\n",
       "      <td>[[941, 1418], [478, 3728]]</td>\n",
       "      <td>[[1331, 1028], [434, 3772]]</td>\n",
       "      <td>[[1159, 1200], [548, 3658]]</td>\n",
       "    </tr>\n",
       "    <tr>\n",
       "      <th>kappa</th>\n",
       "      <td>0.312601</td>\n",
       "      <td>0.488017</td>\n",
       "      <td>0.384344</td>\n",
       "    </tr>\n",
       "    <tr>\n",
       "      <th>f1</th>\n",
       "      <td>0.797263</td>\n",
       "      <td>0.837664</td>\n",
       "      <td>0.807149</td>\n",
       "    </tr>\n",
       "    <tr>\n",
       "      <th>auc</th>\n",
       "      <td>0.738416</td>\n",
       "      <td>0.851092</td>\n",
       "      <td>0.808497</td>\n",
       "    </tr>\n",
       "  </tbody>\n",
       "</table>\n",
       "</div>"
      ],
      "text/plain": [
       "                                    Logistic                      XGBoost  \\\n",
       "accuracy                            0.711196                     0.777304   \n",
       "confusion_matrix  [[941, 1418], [478, 3728]]  [[1331, 1028], [434, 3772]]   \n",
       "kappa                               0.312601                     0.488017   \n",
       "f1                                  0.797263                     0.837664   \n",
       "auc                                 0.738416                     0.851092   \n",
       "\n",
       "                                Random Forest  \n",
       "accuracy                              0.73374  \n",
       "confusion_matrix  [[1159, 1200], [548, 3658]]  \n",
       "kappa                                0.384344  \n",
       "f1                                   0.807149  \n",
       "auc                                  0.808497  "
      ]
     },
     "execution_count": 27,
     "metadata": {},
     "output_type": "execute_result"
    }
   ],
   "source": [
    "val_results = pd.DataFrame({\n",
    "    \"Logistic\": logistic_val_results, \n",
    "    \"XGBoost\": xgb_val_results, \n",
    "    \"Random Forest\": rf_val_results,\n",
    "})\n",
    "val_results"
   ]
  },
  {
   "cell_type": "markdown",
   "metadata": {},
   "source": [
    "### Test"
   ]
  },
  {
   "cell_type": "code",
   "execution_count": 28,
   "metadata": {},
   "outputs": [
    {
     "data": {
      "text/html": [
       "<div>\n",
       "<style scoped>\n",
       "    .dataframe tbody tr th:only-of-type {\n",
       "        vertical-align: middle;\n",
       "    }\n",
       "\n",
       "    .dataframe tbody tr th {\n",
       "        vertical-align: top;\n",
       "    }\n",
       "\n",
       "    .dataframe thead th {\n",
       "        text-align: right;\n",
       "    }\n",
       "</style>\n",
       "<table border=\"1\" class=\"dataframe\">\n",
       "  <thead>\n",
       "    <tr style=\"text-align: right;\">\n",
       "      <th></th>\n",
       "      <th>Logistic</th>\n",
       "      <th>XGBoost</th>\n",
       "      <th>Random Forest</th>\n",
       "    </tr>\n",
       "  </thead>\n",
       "  <tbody>\n",
       "    <tr>\n",
       "      <th>accuracy</th>\n",
       "      <td>0.818301</td>\n",
       "      <td>0.77894</td>\n",
       "      <td>0.754103</td>\n",
       "    </tr>\n",
       "    <tr>\n",
       "      <th>confusion_matrix</th>\n",
       "      <td>[[636, 596], [655, 4998]]</td>\n",
       "      <td>[[490, 742], [780, 4873]]</td>\n",
       "      <td>[[19, 1213], [480, 5173]]</td>\n",
       "    </tr>\n",
       "    <tr>\n",
       "      <th>kappa</th>\n",
       "      <td>0.393007</td>\n",
       "      <td>0.256652</td>\n",
       "      <td>-0.0905567</td>\n",
       "    </tr>\n",
       "    <tr>\n",
       "      <th>f1</th>\n",
       "      <td>0.88877</td>\n",
       "      <td>0.864927</td>\n",
       "      <td>0.859374</td>\n",
       "    </tr>\n",
       "    <tr>\n",
       "      <th>auc</th>\n",
       "      <td>0.716195</td>\n",
       "      <td>0.714422</td>\n",
       "      <td>0.692537</td>\n",
       "    </tr>\n",
       "  </tbody>\n",
       "</table>\n",
       "</div>"
      ],
      "text/plain": [
       "                                   Logistic                    XGBoost  \\\n",
       "accuracy                           0.818301                    0.77894   \n",
       "confusion_matrix  [[636, 596], [655, 4998]]  [[490, 742], [780, 4873]]   \n",
       "kappa                              0.393007                   0.256652   \n",
       "f1                                  0.88877                   0.864927   \n",
       "auc                                0.716195                   0.714422   \n",
       "\n",
       "                              Random Forest  \n",
       "accuracy                           0.754103  \n",
       "confusion_matrix  [[19, 1213], [480, 5173]]  \n",
       "kappa                            -0.0905567  \n",
       "f1                                 0.859374  \n",
       "auc                                0.692537  "
      ]
     },
     "execution_count": 28,
     "metadata": {},
     "output_type": "execute_result"
    }
   ],
   "source": [
    "test_results = pd.DataFrame({\n",
    "    \"Logistic\": logistic_test_results, \n",
    "    \"XGBoost\": xgb_test_results, \n",
    "    \"Random Forest\": rf_test_results,\n",
    "})\n",
    "test_results"
   ]
  }
 ],
 "metadata": {
  "interpreter": {
   "hash": "dca0ade3e726a953b501b15e8e990130d2b7799f14cfd9f4271676035ebe5511"
  },
  "kernelspec": {
   "display_name": "Python 3",
   "language": "python",
   "name": "python3"
  },
  "language_info": {
   "codemirror_mode": {
    "name": "ipython",
    "version": 3
   },
   "file_extension": ".py",
   "mimetype": "text/x-python",
   "name": "python",
   "nbconvert_exporter": "python",
   "pygments_lexer": "ipython3",
   "version": "3.8.10"
  }
 },
 "nbformat": 4,
 "nbformat_minor": 4
}
