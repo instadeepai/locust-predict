{
 "cells": [
  {
   "cell_type": "markdown",
   "metadata": {},
   "source": [
    "# Locust Prediction Modelling\n",
    "\n",
    "Notes:\n",
    "\n",
    "- `observation_date` is already encoded as `year`, `month`, `day`, separately\n",
    "- The `dekad` variables are used for pseudo-absence generation"
   ]
  },
  {
   "cell_type": "code",
   "execution_count": 1,
   "metadata": {},
   "outputs": [],
   "source": [
    "import pandas as pd\n",
    "import numpy as np\n",
    "import matplotlib.pyplot as plt"
   ]
  },
  {
   "cell_type": "code",
   "execution_count": 2,
   "metadata": {},
   "outputs": [
    {
     "data": {
      "text/html": [
       "<div>\n",
       "<style scoped>\n",
       "    .dataframe tbody tr th:only-of-type {\n",
       "        vertical-align: middle;\n",
       "    }\n",
       "\n",
       "    .dataframe tbody tr th {\n",
       "        vertical-align: top;\n",
       "    }\n",
       "\n",
       "    .dataframe thead th {\n",
       "        text-align: right;\n",
       "    }\n",
       "</style>\n",
       "<table border=\"1\" class=\"dataframe\">\n",
       "  <thead>\n",
       "    <tr style=\"text-align: right;\">\n",
       "      <th></th>\n",
       "      <th>date</th>\n",
       "      <th>lat_bucket_id</th>\n",
       "      <th>lon_bucket_id</th>\n",
       "      <th>Unnamed: 0.1</th>\n",
       "      <th>x</th>\n",
       "      <th>y</th>\n",
       "      <th>presence</th>\n",
       "      <th>year</th>\n",
       "      <th>month</th>\n",
       "      <th>day</th>\n",
       "      <th>...</th>\n",
       "      <th>SoilMoi0_10cm_inst_95</th>\n",
       "      <th>SoilMoi10_40cm_inst_95</th>\n",
       "      <th>SoilTMP0_10cm_inst_95</th>\n",
       "      <th>SoilTMP10_40cm_inst_95</th>\n",
       "      <th>Tveg_tavg_95</th>\n",
       "      <th>Wind_f_inst_95</th>\n",
       "      <th>Rainf_f_tavg_95</th>\n",
       "      <th>Tair_f_inst_95</th>\n",
       "      <th>Qair_f_inst_95</th>\n",
       "      <th>Psurf_f_inst_95</th>\n",
       "    </tr>\n",
       "  </thead>\n",
       "  <tbody>\n",
       "    <tr>\n",
       "      <th>0</th>\n",
       "      <td>2000-01-11</td>\n",
       "      <td>442</td>\n",
       "      <td>658</td>\n",
       "      <td>1</td>\n",
       "      <td>-15.455833</td>\n",
       "      <td>20.581944</td>\n",
       "      <td>1</td>\n",
       "      <td>2000</td>\n",
       "      <td>1</td>\n",
       "      <td>11</td>\n",
       "      <td>...</td>\n",
       "      <td>NaN</td>\n",
       "      <td>NaN</td>\n",
       "      <td>NaN</td>\n",
       "      <td>NaN</td>\n",
       "      <td>NaN</td>\n",
       "      <td>NaN</td>\n",
       "      <td>NaN</td>\n",
       "      <td>NaN</td>\n",
       "      <td>NaN</td>\n",
       "      <td>NaN</td>\n",
       "    </tr>\n",
       "    <tr>\n",
       "      <th>1</th>\n",
       "      <td>2000-01-29</td>\n",
       "      <td>461</td>\n",
       "      <td>676</td>\n",
       "      <td>2</td>\n",
       "      <td>-10.933333</td>\n",
       "      <td>25.383333</td>\n",
       "      <td>1</td>\n",
       "      <td>2000</td>\n",
       "      <td>1</td>\n",
       "      <td>29</td>\n",
       "      <td>...</td>\n",
       "      <td>NaN</td>\n",
       "      <td>NaN</td>\n",
       "      <td>NaN</td>\n",
       "      <td>NaN</td>\n",
       "      <td>NaN</td>\n",
       "      <td>NaN</td>\n",
       "      <td>NaN</td>\n",
       "      <td>NaN</td>\n",
       "      <td>NaN</td>\n",
       "      <td>NaN</td>\n",
       "    </tr>\n",
       "    <tr>\n",
       "      <th>2</th>\n",
       "      <td>2000-01-04</td>\n",
       "      <td>437</td>\n",
       "      <td>655</td>\n",
       "      <td>3</td>\n",
       "      <td>-16.045278</td>\n",
       "      <td>19.471111</td>\n",
       "      <td>1</td>\n",
       "      <td>2000</td>\n",
       "      <td>1</td>\n",
       "      <td>4</td>\n",
       "      <td>...</td>\n",
       "      <td>NaN</td>\n",
       "      <td>NaN</td>\n",
       "      <td>NaN</td>\n",
       "      <td>NaN</td>\n",
       "      <td>NaN</td>\n",
       "      <td>NaN</td>\n",
       "      <td>NaN</td>\n",
       "      <td>NaN</td>\n",
       "      <td>NaN</td>\n",
       "      <td>NaN</td>\n",
       "    </tr>\n",
       "    <tr>\n",
       "      <th>3</th>\n",
       "      <td>2000-01-02</td>\n",
       "      <td>435</td>\n",
       "      <td>660</td>\n",
       "      <td>4</td>\n",
       "      <td>-14.760833</td>\n",
       "      <td>18.966389</td>\n",
       "      <td>1</td>\n",
       "      <td>2000</td>\n",
       "      <td>1</td>\n",
       "      <td>2</td>\n",
       "      <td>...</td>\n",
       "      <td>NaN</td>\n",
       "      <td>NaN</td>\n",
       "      <td>NaN</td>\n",
       "      <td>NaN</td>\n",
       "      <td>NaN</td>\n",
       "      <td>NaN</td>\n",
       "      <td>NaN</td>\n",
       "      <td>NaN</td>\n",
       "      <td>NaN</td>\n",
       "      <td>NaN</td>\n",
       "    </tr>\n",
       "    <tr>\n",
       "      <th>4</th>\n",
       "      <td>2000-01-17</td>\n",
       "      <td>442</td>\n",
       "      <td>658</td>\n",
       "      <td>5</td>\n",
       "      <td>-15.440278</td>\n",
       "      <td>20.643056</td>\n",
       "      <td>1</td>\n",
       "      <td>2000</td>\n",
       "      <td>1</td>\n",
       "      <td>17</td>\n",
       "      <td>...</td>\n",
       "      <td>NaN</td>\n",
       "      <td>NaN</td>\n",
       "      <td>NaN</td>\n",
       "      <td>NaN</td>\n",
       "      <td>NaN</td>\n",
       "      <td>NaN</td>\n",
       "      <td>NaN</td>\n",
       "      <td>NaN</td>\n",
       "      <td>NaN</td>\n",
       "      <td>NaN</td>\n",
       "    </tr>\n",
       "  </tbody>\n",
       "</table>\n",
       "<p>5 rows × 1172 columns</p>\n",
       "</div>"
      ],
      "text/plain": [
       "         date  lat_bucket_id  lon_bucket_id  Unnamed: 0.1          x  \\\n",
       "0  2000-01-11            442            658             1 -15.455833   \n",
       "1  2000-01-29            461            676             2 -10.933333   \n",
       "2  2000-01-04            437            655             3 -16.045278   \n",
       "3  2000-01-02            435            660             4 -14.760833   \n",
       "4  2000-01-17            442            658             5 -15.440278   \n",
       "\n",
       "           y  presence  year  month  day  ...  SoilMoi0_10cm_inst_95  \\\n",
       "0  20.581944         1  2000      1   11  ...                    NaN   \n",
       "1  25.383333         1  2000      1   29  ...                    NaN   \n",
       "2  19.471111         1  2000      1    4  ...                    NaN   \n",
       "3  18.966389         1  2000      1    2  ...                    NaN   \n",
       "4  20.643056         1  2000      1   17  ...                    NaN   \n",
       "\n",
       "   SoilMoi10_40cm_inst_95  SoilTMP0_10cm_inst_95  SoilTMP10_40cm_inst_95  \\\n",
       "0                     NaN                    NaN                     NaN   \n",
       "1                     NaN                    NaN                     NaN   \n",
       "2                     NaN                    NaN                     NaN   \n",
       "3                     NaN                    NaN                     NaN   \n",
       "4                     NaN                    NaN                     NaN   \n",
       "\n",
       "   Tveg_tavg_95  Wind_f_inst_95  Rainf_f_tavg_95  Tair_f_inst_95  \\\n",
       "0           NaN             NaN              NaN             NaN   \n",
       "1           NaN             NaN              NaN             NaN   \n",
       "2           NaN             NaN              NaN             NaN   \n",
       "3           NaN             NaN              NaN             NaN   \n",
       "4           NaN             NaN              NaN             NaN   \n",
       "\n",
       "   Qair_f_inst_95 Psurf_f_inst_95  \n",
       "0             NaN             NaN  \n",
       "1             NaN             NaN  \n",
       "2             NaN             NaN  \n",
       "3             NaN             NaN  \n",
       "4             NaN             NaN  \n",
       "\n",
       "[5 rows x 1172 columns]"
      ]
     },
     "execution_count": 2,
     "metadata": {},
     "output_type": "execute_result"
    }
   ],
   "source": [
    "data_train = pd.read_csv(\"../data/train_val_random.csv\", index_col=0)\n",
    "data_test = pd.read_csv(\"../data/test_random.csv\", index_col=0)\n",
    "data_train.head()"
   ]
  },
  {
   "cell_type": "code",
   "execution_count": 3,
   "metadata": {},
   "outputs": [
    {
     "name": "stdout",
     "output_type": "stream",
     "text": [
      "Train missing 15 columns\n",
      "Test missing 0 columns\n"
     ]
    }
   ],
   "source": [
    "# assert len(data_train.drop(columns=\"presence\").columns), len(data_test.columns)\n",
    "missing_in_train = [n for n in data_test.columns if n not in data_train.columns]\n",
    "missing_in_test = [n for n in data_train.columns if n not in data_test.columns]\n",
    "\n",
    "print(f\"Train missing {len(missing_in_train)} columns\")\n",
    "print(f\"Test missing {len(missing_in_test)} columns\")\n",
    "\n",
    "data_test = data_test.drop(columns=missing_in_train)\n",
    "data_train = data_train.drop(columns=missing_in_test)"
   ]
  },
  {
   "cell_type": "code",
   "execution_count": 4,
   "metadata": {},
   "outputs": [
    {
     "name": "stdout",
     "output_type": "stream",
     "text": [
      "Objects: ['date', 'observation_date']\n",
      "Categoricals: ['lat_bucket_id', 'lon_bucket_id', 'Unnamed: 0.1', 'presence', 'year', 'month', 'day']\n",
      "Floats: ['x', 'y', 'SoilMoi0_10cm_inst_dekad1', 'SoilMoi0_10cm_inst_dekad2', 'SoilMoi0_10cm_inst_dekad3', 'clay_0.5cm_mean', 'clay_5.15cm_mean', 'sand_0.5cm_mean', 'sand_5.15cm_mean', 'silt_0.5cm_mean']\n"
     ]
    }
   ],
   "source": [
    "cats = data_train.select_dtypes(np.integer).columns.tolist()\n",
    "objects = data_train.select_dtypes(np.object).columns.tolist()\n",
    "floats = data_train.select_dtypes(np.float).columns.tolist()\n",
    "assert len(cats) + len(objects) + len(floats) == len(data_train.columns)\n",
    "\n",
    "print(\"Objects:\", objects)\n",
    "print(\"Categoricals:\", cats)\n",
    "print(\"Floats:\", floats[:10])"
   ]
  },
  {
   "cell_type": "code",
   "execution_count": 5,
   "metadata": {},
   "outputs": [
    {
     "name": "stdout",
     "output_type": "stream",
     "text": [
      "<class 'pandas.core.frame.DataFrame'>\n",
      "Int64Index: 16159 entries, 0 to 16158\n",
      "Columns: 1172 entries, date to Psurf_f_inst_95\n",
      "dtypes: float64(1163), int64(7), object(2)\n",
      "memory usage: 144.6+ MB\n"
     ]
    }
   ],
   "source": [
    "data_train.info(verbose=False)"
   ]
  },
  {
   "cell_type": "code",
   "execution_count": 6,
   "metadata": {},
   "outputs": [],
   "source": [
    "# Check for NAN values\n",
    "nans = data_train.isnull().sum()\n",
    "# [(k,v,d) for k,v,d in zip(nans.keys(), nans.values, data_train.dtypes) if v>0]"
   ]
  },
  {
   "cell_type": "code",
   "execution_count": 7,
   "metadata": {},
   "outputs": [],
   "source": [
    "# Fill NAN values with median\n",
    "for col in data_train.columns:\n",
    "    n_train_nans = pd.isnull(data_train[col]).sum()\n",
    "    n_test_nans = pd.isnull(data_test[col]).sum()\n",
    "    if data_train[col].dtype == np.float:\n",
    "        m = data_train[col].median()\n",
    "        if n_train_nans:\n",
    "            data_train[col] = data_train[col].fillna(m)\n",
    "        if n_test_nans:\n",
    "            data_test[col] = data_test[col].fillna(m)\n",
    "        \n",
    "assert not data_train.isnull().sum().sum()\n",
    "assert not data_test.isnull().sum().sum()"
   ]
  },
  {
   "cell_type": "code",
   "execution_count": 8,
   "metadata": {},
   "outputs": [],
   "source": [
    "drops = [\"observation_date\", \"date\", \"Unnamed: 0.1\", \"presence\"]\n",
    "\n",
    "def process_targets(data):\n",
    "    target = data.presence.copy()\n",
    "    data = data.drop(columns=drops)\n",
    "    counts = list(zip(*np.unique(target, return_counts=True)))\n",
    "    print(\"Counts:\", counts)\n",
    "    \n",
    "    # merge pseudo-absence and true absence\n",
    "    target.loc[target == 2] = 0\n",
    "    return data, target"
   ]
  },
  {
   "cell_type": "code",
   "execution_count": 9,
   "metadata": {},
   "outputs": [
    {
     "name": "stdout",
     "output_type": "stream",
     "text": [
      "Counts: [(0, 8060), (1, 8086), (2, 13)]\n",
      "Counts: [(0, 903), (1, 913)]\n"
     ]
    }
   ],
   "source": [
    "data_train, train_target = process_targets(data_train)\n",
    "data_test, test_target = process_targets(data_test)"
   ]
  },
  {
   "cell_type": "markdown",
   "metadata": {},
   "source": [
    "## Modelling"
   ]
  },
  {
   "cell_type": "code",
   "execution_count": 10,
   "metadata": {},
   "outputs": [],
   "source": [
    "from sklearn.model_selection import train_test_split\n",
    "from sklearn import preprocessing, metrics\n",
    "from sklearn.ensemble import RandomForestClassifier\n",
    "from sklearn.linear_model import LogisticRegression\n",
    "import xgboost as xgb"
   ]
  },
  {
   "cell_type": "code",
   "execution_count": 11,
   "metadata": {},
   "outputs": [],
   "source": [
    "def evaluate(trues, preds):\n",
    "    labels = ['absence', 'presence']\n",
    "    results = {}\n",
    "    results['accuracy'] = metrics.accuracy_score(trues, preds)\n",
    "    results['confusion_matrix'] = metrics.confusion_matrix(trues, preds)\n",
    "    results['kappa'] = metrics.cohen_kappa_score(trues, preds)\n",
    "    results['f1'] = metrics.f1_score(trues, preds)\n",
    "    \n",
    "    print(metrics.classification_report(trues, preds, target_names=labels))\n",
    "    return results"
   ]
  },
  {
   "cell_type": "code",
   "execution_count": 12,
   "metadata": {},
   "outputs": [],
   "source": [
    "# Probably should split data sooner\n",
    "seed = 111\n",
    "train_x, val_x, train_y, val_y = train_test_split(\n",
    "    data_train, train_target, test_size=0.2, random_state=seed)"
   ]
  },
  {
   "cell_type": "markdown",
   "metadata": {},
   "source": [
    "## Logistic Regression"
   ]
  },
  {
   "cell_type": "code",
   "execution_count": 13,
   "metadata": {},
   "outputs": [],
   "source": [
    "# Scale the dataset\n",
    "scaler = preprocessing.MinMaxScaler()\n",
    "train_x_scaled = scaler.fit_transform(train_x)\n",
    "val_x_scaled = scaler.transform(val_x)\n",
    "test_x_scaled = scaler.transform(data_test)"
   ]
  },
  {
   "cell_type": "code",
   "execution_count": 14,
   "metadata": {},
   "outputs": [
    {
     "name": "stderr",
     "output_type": "stream",
     "text": [
      "/usr/lib/python3/dist-packages/sklearn/linear_model/_logistic.py:938: ConvergenceWarning: lbfgs failed to converge (status=1):\n",
      "STOP: TOTAL NO. of ITERATIONS REACHED LIMIT.\n",
      "\n",
      "Increase the number of iterations (max_iter) or scale the data as shown in:\n",
      "    https://scikit-learn.org/stable/modules/preprocessing.html\n",
      "Please also refer to the documentation for alternative solver options:\n",
      "    https://scikit-learn.org/stable/modules/linear_model.html#logistic-regression\n",
      "  n_iter_i = _check_optimize_result(\n"
     ]
    }
   ],
   "source": [
    "model = LogisticRegression()\n",
    "model.fit(train_x_scaled, train_y);"
   ]
  },
  {
   "cell_type": "code",
   "execution_count": 15,
   "metadata": {},
   "outputs": [
    {
     "name": "stdout",
     "output_type": "stream",
     "text": [
      "              precision    recall  f1-score   support\n",
      "\n",
      "     absence       0.92      0.84      0.88      1633\n",
      "    presence       0.85      0.93      0.89      1599\n",
      "\n",
      "    accuracy                           0.88      3232\n",
      "   macro avg       0.89      0.88      0.88      3232\n",
      "weighted avg       0.89      0.88      0.88      3232\n",
      "\n"
     ]
    }
   ],
   "source": [
    "y_preds = model.predict(val_x_scaled)\n",
    "logistic_val_results = evaluate(val_y, y_preds)"
   ]
  },
  {
   "cell_type": "code",
   "execution_count": 16,
   "metadata": {},
   "outputs": [
    {
     "name": "stdout",
     "output_type": "stream",
     "text": [
      "              precision    recall  f1-score   support\n",
      "\n",
      "     absence       0.79      0.92      0.85       903\n",
      "    presence       0.91      0.76      0.83       913\n",
      "\n",
      "    accuracy                           0.84      1816\n",
      "   macro avg       0.85      0.84      0.84      1816\n",
      "weighted avg       0.85      0.84      0.84      1816\n",
      "\n"
     ]
    }
   ],
   "source": [
    "y_preds = model.predict(test_x_scaled)\n",
    "logistic_test_results = evaluate(test_target, y_preds)"
   ]
  },
  {
   "cell_type": "code",
   "execution_count": 17,
   "metadata": {},
   "outputs": [
    {
     "data": {
      "text/plain": [
       "[(-3.4399134108506852, 'lon_bucket_id'),\n",
       " (-3.4179008001962425, 'x'),\n",
       " (2.367783184280772, 'silt_0.5cm_mean'),\n",
       " (-2.3417928297516855, 'clay_0.5cm_mean'),\n",
       " (2.2481972688345975, 'silt_5.15cm_mean'),\n",
       " (-1.918868508286905, 'year'),\n",
       " (1.9047577431626894, 'sand_0.5cm_mean'),\n",
       " (1.5800484610807395, 'sand_5.15cm_mean'),\n",
       " (-1.540163935318407, 'clay_5.15cm_mean'),\n",
       " (-1.4229362385405269, 'y')]"
      ]
     },
     "execution_count": 17,
     "metadata": {},
     "output_type": "execute_result"
    }
   ],
   "source": [
    "# Feature importance\n",
    "weights = model.coef_[0].tolist()\n",
    "features = list(zip(weights, data_train.columns))\n",
    "list(sorted(features, key=lambda x: abs(x[0]), reverse=True))[:10]"
   ]
  },
  {
   "cell_type": "markdown",
   "metadata": {},
   "source": [
    "### XGBoost"
   ]
  },
  {
   "cell_type": "code",
   "execution_count": 18,
   "metadata": {},
   "outputs": [],
   "source": [
    "train_xgb = xgb.DMatrix(train_x, label=train_y)\n",
    "val_xgb = xgb.DMatrix(val_x, label=val_y)\n",
    "test_xgb = xgb.DMatrix(data_test)"
   ]
  },
  {
   "cell_type": "code",
   "execution_count": 19,
   "metadata": {},
   "outputs": [
    {
     "name": "stdout",
     "output_type": "stream",
     "text": [
      "[14:10:49] WARNING: ../src/learner.cc:1095: Starting in XGBoost 1.3.0, the default evaluation metric used with the objective 'binary:logistic' was changed from 'error' to 'logloss'. Explicitly set eval_metric if you'd like to restore the old behavior.\n",
      "              precision    recall  f1-score   support\n",
      "\n",
      "     absence       0.93      0.90      0.92      1633\n",
      "    presence       0.90      0.93      0.92      1599\n",
      "\n",
      "    accuracy                           0.92      3232\n",
      "   macro avg       0.92      0.92      0.92      3232\n",
      "weighted avg       0.92      0.92      0.92      3232\n",
      "\n"
     ]
    }
   ],
   "source": [
    "params = {'max_depth': 2, 'eta': 1, 'objective': 'binary:logistic'}\n",
    "model = xgb.train(params, train_xgb)\n",
    "y_preds = model.predict(val_xgb).round(0)\n",
    "xgb_val_results = evaluate(val_y, y_preds)"
   ]
  },
  {
   "cell_type": "code",
   "execution_count": 20,
   "metadata": {},
   "outputs": [
    {
     "name": "stdout",
     "output_type": "stream",
     "text": [
      "              precision    recall  f1-score   support\n",
      "\n",
      "     absence       0.96      0.90      0.93       903\n",
      "    presence       0.91      0.96      0.93       913\n",
      "\n",
      "    accuracy                           0.93      1816\n",
      "   macro avg       0.93      0.93      0.93      1816\n",
      "weighted avg       0.93      0.93      0.93      1816\n",
      "\n"
     ]
    }
   ],
   "source": [
    "y_preds = model.predict(test_xgb).round(0)\n",
    "xgb_test_results = evaluate(test_target, y_preds)"
   ]
  },
  {
   "cell_type": "markdown",
   "metadata": {},
   "source": [
    "#### Feature Importance"
   ]
  },
  {
   "cell_type": "code",
   "execution_count": 21,
   "metadata": {},
   "outputs": [
    {
     "data": {
      "image/png": "[encoded data removed]",
      "text/plain": [
       "<Figure size 864x864 with 1 Axes>"
      ]
     },
     "metadata": {
      "needs_background": "light"
     },
     "output_type": "display_data"
    }
   ],
   "source": [
    "f,a = plt.subplots(figsize=(12,12))\n",
    "xgb.plot_importance(model, height=0.5, figure=f, ax=a);"
   ]
  },
  {
   "cell_type": "markdown",
   "metadata": {},
   "source": [
    "### Random Forest"
   ]
  },
  {
   "cell_type": "code",
   "execution_count": 22,
   "metadata": {},
   "outputs": [
    {
     "data": {
      "text/plain": [
       "RandomForestClassifier(bootstrap=True, ccp_alpha=0.0, class_weight=None,\n",
       "                       criterion='gini', max_depth=None, max_features='auto',\n",
       "                       max_leaf_nodes=None, max_samples=None,\n",
       "                       min_impurity_decrease=0.0, min_impurity_split=None,\n",
       "                       min_samples_leaf=1, min_samples_split=2,\n",
       "                       min_weight_fraction_leaf=0.0, n_estimators=100,\n",
       "                       n_jobs=None, oob_score=False, random_state=None,\n",
       "                       verbose=0, warm_start=False)"
      ]
     },
     "execution_count": 22,
     "metadata": {},
     "output_type": "execute_result"
    }
   ],
   "source": [
    "model = RandomForestClassifier()\n",
    "model.fit(train_x, train_y)"
   ]
  },
  {
   "cell_type": "code",
   "execution_count": 23,
   "metadata": {},
   "outputs": [
    {
     "name": "stdout",
     "output_type": "stream",
     "text": [
      "              precision    recall  f1-score   support\n",
      "\n",
      "     absence       0.97      0.95      0.96      1633\n",
      "    presence       0.95      0.97      0.96      1599\n",
      "\n",
      "    accuracy                           0.96      3232\n",
      "   macro avg       0.96      0.96      0.96      3232\n",
      "weighted avg       0.96      0.96      0.96      3232\n",
      "\n"
     ]
    }
   ],
   "source": [
    "y_preds = model.predict(val_x)\n",
    "rf_val_results = evaluate(val_y, y_preds)"
   ]
  },
  {
   "cell_type": "code",
   "execution_count": 24,
   "metadata": {},
   "outputs": [
    {
     "name": "stdout",
     "output_type": "stream",
     "text": [
      "              precision    recall  f1-score   support\n",
      "\n",
      "     absence       0.93      0.94      0.94       903\n",
      "    presence       0.94      0.93      0.94       913\n",
      "\n",
      "    accuracy                           0.94      1816\n",
      "   macro avg       0.94      0.94      0.94      1816\n",
      "weighted avg       0.94      0.94      0.94      1816\n",
      "\n"
     ]
    }
   ],
   "source": [
    "y_preds = model.predict(data_test)\n",
    "rf_test_results = evaluate(test_target, y_preds)"
   ]
  },
  {
   "cell_type": "markdown",
   "metadata": {},
   "source": [
    "## Results"
   ]
  },
  {
   "cell_type": "markdown",
   "metadata": {},
   "source": [
    "### Validation"
   ]
  },
  {
   "cell_type": "code",
   "execution_count": 25,
   "metadata": {},
   "outputs": [
    {
     "data": {
      "text/html": [
       "<div>\n",
       "<style scoped>\n",
       "    .dataframe tbody tr th:only-of-type {\n",
       "        vertical-align: middle;\n",
       "    }\n",
       "\n",
       "    .dataframe tbody tr th {\n",
       "        vertical-align: top;\n",
       "    }\n",
       "\n",
       "    .dataframe thead th {\n",
       "        text-align: right;\n",
       "    }\n",
       "</style>\n",
       "<table border=\"1\" class=\"dataframe\">\n",
       "  <thead>\n",
       "    <tr style=\"text-align: right;\">\n",
       "      <th></th>\n",
       "      <th>Logistic</th>\n",
       "      <th>XGBoost</th>\n",
       "      <th>Random Forest</th>\n",
       "    </tr>\n",
       "  </thead>\n",
       "  <tbody>\n",
       "    <tr>\n",
       "      <th>accuracy</th>\n",
       "      <td>0.882735</td>\n",
       "      <td>0.917389</td>\n",
       "      <td>0.957302</td>\n",
       "    </tr>\n",
       "    <tr>\n",
       "      <th>confusion_matrix</th>\n",
       "      <td>[[1366, 267], [112, 1487]]</td>\n",
       "      <td>[[1470, 163], [104, 1495]]</td>\n",
       "      <td>[[1549, 84], [54, 1545]]</td>\n",
       "    </tr>\n",
       "    <tr>\n",
       "      <th>kappa</th>\n",
       "      <td>0.765681</td>\n",
       "      <td>0.834822</td>\n",
       "      <td>0.914611</td>\n",
       "    </tr>\n",
       "    <tr>\n",
       "      <th>f1</th>\n",
       "      <td>0.886967</td>\n",
       "      <td>0.918023</td>\n",
       "      <td>0.957249</td>\n",
       "    </tr>\n",
       "  </tbody>\n",
       "</table>\n",
       "</div>"
      ],
      "text/plain": [
       "                                    Logistic                     XGBoost  \\\n",
       "accuracy                            0.882735                    0.917389   \n",
       "confusion_matrix  [[1366, 267], [112, 1487]]  [[1470, 163], [104, 1495]]   \n",
       "kappa                               0.765681                    0.834822   \n",
       "f1                                  0.886967                    0.918023   \n",
       "\n",
       "                             Random Forest  \n",
       "accuracy                          0.957302  \n",
       "confusion_matrix  [[1549, 84], [54, 1545]]  \n",
       "kappa                             0.914611  \n",
       "f1                                0.957249  "
      ]
     },
     "execution_count": 25,
     "metadata": {},
     "output_type": "execute_result"
    }
   ],
   "source": [
    "val_results = pd.DataFrame({\n",
    "    \"Logistic\": logistic_val_results, \n",
    "    \"XGBoost\": xgb_val_results, \n",
    "    \"Random Forest\": rf_val_results,\n",
    "})\n",
    "val_results"
   ]
  },
  {
   "cell_type": "markdown",
   "metadata": {},
   "source": [
    "### Test"
   ]
  },
  {
   "cell_type": "code",
   "execution_count": 26,
   "metadata": {},
   "outputs": [
    {
     "data": {
      "text/html": [
       "<div>\n",
       "<style scoped>\n",
       "    .dataframe tbody tr th:only-of-type {\n",
       "        vertical-align: middle;\n",
       "    }\n",
       "\n",
       "    .dataframe tbody tr th {\n",
       "        vertical-align: top;\n",
       "    }\n",
       "\n",
       "    .dataframe thead th {\n",
       "        text-align: right;\n",
       "    }\n",
       "</style>\n",
       "<table border=\"1\" class=\"dataframe\">\n",
       "  <thead>\n",
       "    <tr style=\"text-align: right;\">\n",
       "      <th></th>\n",
       "      <th>Logistic</th>\n",
       "      <th>XGBoost</th>\n",
       "      <th>Random Forest</th>\n",
       "    </tr>\n",
       "  </thead>\n",
       "  <tbody>\n",
       "    <tr>\n",
       "      <th>accuracy</th>\n",
       "      <td>0.839758</td>\n",
       "      <td>0.930617</td>\n",
       "      <td>0.937225</td>\n",
       "    </tr>\n",
       "    <tr>\n",
       "      <th>confusion_matrix</th>\n",
       "      <td>[[831, 72], [219, 694]]</td>\n",
       "      <td>[[813, 90], [36, 877]]</td>\n",
       "      <td>[[850, 53], [61, 852]]</td>\n",
       "    </tr>\n",
       "    <tr>\n",
       "      <th>kappa</th>\n",
       "      <td>0.679791</td>\n",
       "      <td>0.861184</td>\n",
       "      <td>0.874452</td>\n",
       "    </tr>\n",
       "    <tr>\n",
       "      <th>f1</th>\n",
       "      <td>0.826683</td>\n",
       "      <td>0.932979</td>\n",
       "      <td>0.937294</td>\n",
       "    </tr>\n",
       "  </tbody>\n",
       "</table>\n",
       "</div>"
      ],
      "text/plain": [
       "                                 Logistic                 XGBoost  \\\n",
       "accuracy                         0.839758                0.930617   \n",
       "confusion_matrix  [[831, 72], [219, 694]]  [[813, 90], [36, 877]]   \n",
       "kappa                            0.679791                0.861184   \n",
       "f1                               0.826683                0.932979   \n",
       "\n",
       "                           Random Forest  \n",
       "accuracy                        0.937225  \n",
       "confusion_matrix  [[850, 53], [61, 852]]  \n",
       "kappa                           0.874452  \n",
       "f1                              0.937294  "
      ]
     },
     "execution_count": 26,
     "metadata": {},
     "output_type": "execute_result"
    }
   ],
   "source": [
    "test_results = pd.DataFrame({\n",
    "    \"Logistic\": logistic_test_results, \n",
    "    \"XGBoost\": xgb_test_results, \n",
    "    \"Random Forest\": rf_test_results,\n",
    "})\n",
    "test_results"
   ]
  },
  {
   "cell_type": "markdown",
   "metadata": {},
   "source": [
    "## Interpretation"
   ]
  },
  {
   "cell_type": "code",
   "execution_count": null,
   "metadata": {},
   "outputs": [],
   "source": []
  }
 ],
 "metadata": {
  "kernelspec": {
   "display_name": "Python 3",
   "language": "python",
   "name": "python3"
  },
  "language_info": {
   "codemirror_mode": {
    "name": "ipython",
    "version": 3
   },
   "file_extension": ".py",
   "mimetype": "text/x-python",
   "name": "python",
   "nbconvert_exporter": "python",
   "pygments_lexer": "ipython3",
   "version": "3.8.10"
  }
 },
 "nbformat": 4,
 "nbformat_minor": 4
}
