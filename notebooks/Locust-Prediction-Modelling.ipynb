{
 "cells": [
  {
   "cell_type": "markdown",
   "source": [
    "# Locust Prediction Modelling\n",
    "\n",
    "Notes:\n",
    "\n",
    "- `observation_date` is already encoded as `year`, `month`, `day`, separately\n",
    "- The `dekad` variables are used for pseudo-absence generation"
   ],
   "metadata": {}
  },
  {
   "cell_type": "code",
   "execution_count": 1,
   "source": [
    "import pandas as pd\n",
    "import numpy as np\n",
    "import matplotlib.pyplot as plt"
   ],
   "outputs": [],
   "metadata": {}
  },
  {
   "cell_type": "code",
   "execution_count": 2,
   "source": [
    "data_train = pd.read_csv(\"../data/train_val_random.csv\", index_col=0)\n",
    "data_test = pd.read_csv(\"../data/test_random.csv\", index_col=0)\n",
    "data_train.head()"
   ],
   "outputs": [
    {
     "output_type": "execute_result",
     "data": {
      "text/plain": [
       "           x          y  presence  year  month  day  clay_0.5cm_mean  \\\n",
       "0 -13.899444  19.156944         1  2000     11   27         0.199897   \n",
       "1 -13.910278  19.144444         1  2000     11   27         0.200571   \n",
       "2 -13.923056  19.146667         1  2000     11   27         0.200300   \n",
       "3 -12.945833  19.146389         1  2000     11   28         0.201479   \n",
       "4 -12.949722  19.133056         1  2000     11   28         0.202332   \n",
       "\n",
       "   clay_5.15cm_mean  sand_0.5cm_mean  sand_5.15cm_mean  ...  \\\n",
       "0          0.207781         0.587636          0.580589  ...   \n",
       "1          0.208502         0.587100          0.579985  ...   \n",
       "2          0.208099         0.586820          0.579769  ...   \n",
       "3          0.211707         0.580777          0.574105  ...   \n",
       "4          0.212883         0.580030          0.573147  ...   \n",
       "\n",
       "   SoilMoi0_10cm_inst_95  SoilMoi10_40cm_inst_95 SoilTMP0_10cm_inst_95  \\\n",
       "0              21.949375               72.536621            309.327972   \n",
       "1              21.949375               72.536621            309.327972   \n",
       "2              21.949375               72.536621            309.327972   \n",
       "3              21.541126               71.466125            308.702087   \n",
       "4              21.541126               71.466125            308.702087   \n",
       "\n",
       "   SoilTMP10_40cm_inst_95  Tveg_tavg_95  Wind_f_inst_95  Rainf_f_tavg_95  \\\n",
       "0              308.586700           0.0        2.366373              0.0   \n",
       "1              308.586700           0.0        2.366373              0.0   \n",
       "2              308.586700           0.0        2.366373              0.0   \n",
       "3              309.064667           0.0        3.542690              0.0   \n",
       "4              309.064667           0.0        3.542690              0.0   \n",
       "\n",
       "   Tair_f_inst_95  Qair_f_inst_95  Psurf_f_inst_95  \n",
       "0      308.427795        0.006704      98936.21875  \n",
       "1      308.427795        0.006704      98936.21875  \n",
       "2      308.427795        0.006704      98936.21875  \n",
       "3      307.616486        0.010070      99162.62500  \n",
       "4      307.616486        0.010070      99162.62500  \n",
       "\n",
       "[5 rows x 1165 columns]"
      ],
      "text/html": [
       "<div>\n",
       "<style scoped>\n",
       "    .dataframe tbody tr th:only-of-type {\n",
       "        vertical-align: middle;\n",
       "    }\n",
       "\n",
       "    .dataframe tbody tr th {\n",
       "        vertical-align: top;\n",
       "    }\n",
       "\n",
       "    .dataframe thead th {\n",
       "        text-align: right;\n",
       "    }\n",
       "</style>\n",
       "<table border=\"1\" class=\"dataframe\">\n",
       "  <thead>\n",
       "    <tr style=\"text-align: right;\">\n",
       "      <th></th>\n",
       "      <th>x</th>\n",
       "      <th>y</th>\n",
       "      <th>presence</th>\n",
       "      <th>year</th>\n",
       "      <th>month</th>\n",
       "      <th>day</th>\n",
       "      <th>clay_0.5cm_mean</th>\n",
       "      <th>clay_5.15cm_mean</th>\n",
       "      <th>sand_0.5cm_mean</th>\n",
       "      <th>sand_5.15cm_mean</th>\n",
       "      <th>...</th>\n",
       "      <th>SoilMoi0_10cm_inst_95</th>\n",
       "      <th>SoilMoi10_40cm_inst_95</th>\n",
       "      <th>SoilTMP0_10cm_inst_95</th>\n",
       "      <th>SoilTMP10_40cm_inst_95</th>\n",
       "      <th>Tveg_tavg_95</th>\n",
       "      <th>Wind_f_inst_95</th>\n",
       "      <th>Rainf_f_tavg_95</th>\n",
       "      <th>Tair_f_inst_95</th>\n",
       "      <th>Qair_f_inst_95</th>\n",
       "      <th>Psurf_f_inst_95</th>\n",
       "    </tr>\n",
       "  </thead>\n",
       "  <tbody>\n",
       "    <tr>\n",
       "      <th>0</th>\n",
       "      <td>-13.899444</td>\n",
       "      <td>19.156944</td>\n",
       "      <td>1</td>\n",
       "      <td>2000</td>\n",
       "      <td>11</td>\n",
       "      <td>27</td>\n",
       "      <td>0.199897</td>\n",
       "      <td>0.207781</td>\n",
       "      <td>0.587636</td>\n",
       "      <td>0.580589</td>\n",
       "      <td>...</td>\n",
       "      <td>21.949375</td>\n",
       "      <td>72.536621</td>\n",
       "      <td>309.327972</td>\n",
       "      <td>308.586700</td>\n",
       "      <td>0.0</td>\n",
       "      <td>2.366373</td>\n",
       "      <td>0.0</td>\n",
       "      <td>308.427795</td>\n",
       "      <td>0.006704</td>\n",
       "      <td>98936.21875</td>\n",
       "    </tr>\n",
       "    <tr>\n",
       "      <th>1</th>\n",
       "      <td>-13.910278</td>\n",
       "      <td>19.144444</td>\n",
       "      <td>1</td>\n",
       "      <td>2000</td>\n",
       "      <td>11</td>\n",
       "      <td>27</td>\n",
       "      <td>0.200571</td>\n",
       "      <td>0.208502</td>\n",
       "      <td>0.587100</td>\n",
       "      <td>0.579985</td>\n",
       "      <td>...</td>\n",
       "      <td>21.949375</td>\n",
       "      <td>72.536621</td>\n",
       "      <td>309.327972</td>\n",
       "      <td>308.586700</td>\n",
       "      <td>0.0</td>\n",
       "      <td>2.366373</td>\n",
       "      <td>0.0</td>\n",
       "      <td>308.427795</td>\n",
       "      <td>0.006704</td>\n",
       "      <td>98936.21875</td>\n",
       "    </tr>\n",
       "    <tr>\n",
       "      <th>2</th>\n",
       "      <td>-13.923056</td>\n",
       "      <td>19.146667</td>\n",
       "      <td>1</td>\n",
       "      <td>2000</td>\n",
       "      <td>11</td>\n",
       "      <td>27</td>\n",
       "      <td>0.200300</td>\n",
       "      <td>0.208099</td>\n",
       "      <td>0.586820</td>\n",
       "      <td>0.579769</td>\n",
       "      <td>...</td>\n",
       "      <td>21.949375</td>\n",
       "      <td>72.536621</td>\n",
       "      <td>309.327972</td>\n",
       "      <td>308.586700</td>\n",
       "      <td>0.0</td>\n",
       "      <td>2.366373</td>\n",
       "      <td>0.0</td>\n",
       "      <td>308.427795</td>\n",
       "      <td>0.006704</td>\n",
       "      <td>98936.21875</td>\n",
       "    </tr>\n",
       "    <tr>\n",
       "      <th>3</th>\n",
       "      <td>-12.945833</td>\n",
       "      <td>19.146389</td>\n",
       "      <td>1</td>\n",
       "      <td>2000</td>\n",
       "      <td>11</td>\n",
       "      <td>28</td>\n",
       "      <td>0.201479</td>\n",
       "      <td>0.211707</td>\n",
       "      <td>0.580777</td>\n",
       "      <td>0.574105</td>\n",
       "      <td>...</td>\n",
       "      <td>21.541126</td>\n",
       "      <td>71.466125</td>\n",
       "      <td>308.702087</td>\n",
       "      <td>309.064667</td>\n",
       "      <td>0.0</td>\n",
       "      <td>3.542690</td>\n",
       "      <td>0.0</td>\n",
       "      <td>307.616486</td>\n",
       "      <td>0.010070</td>\n",
       "      <td>99162.62500</td>\n",
       "    </tr>\n",
       "    <tr>\n",
       "      <th>4</th>\n",
       "      <td>-12.949722</td>\n",
       "      <td>19.133056</td>\n",
       "      <td>1</td>\n",
       "      <td>2000</td>\n",
       "      <td>11</td>\n",
       "      <td>28</td>\n",
       "      <td>0.202332</td>\n",
       "      <td>0.212883</td>\n",
       "      <td>0.580030</td>\n",
       "      <td>0.573147</td>\n",
       "      <td>...</td>\n",
       "      <td>21.541126</td>\n",
       "      <td>71.466125</td>\n",
       "      <td>308.702087</td>\n",
       "      <td>309.064667</td>\n",
       "      <td>0.0</td>\n",
       "      <td>3.542690</td>\n",
       "      <td>0.0</td>\n",
       "      <td>307.616486</td>\n",
       "      <td>0.010070</td>\n",
       "      <td>99162.62500</td>\n",
       "    </tr>\n",
       "  </tbody>\n",
       "</table>\n",
       "<p>5 rows × 1165 columns</p>\n",
       "</div>"
      ]
     },
     "metadata": {},
     "execution_count": 2
    }
   ],
   "metadata": {}
  },
  {
   "cell_type": "code",
   "execution_count": 3,
   "source": [
    "# assert len(data_train.drop(columns=\"presence\").columns), len(data_test.columns)\n",
    "missing_in_train = [n for n in data_test.columns if n not in data_train.columns]\n",
    "missing_in_test = [n for n in data_train.columns if n not in data_test.columns]\n",
    "\n",
    "print(f\"Train missing {len(missing_in_train)} columns\")\n",
    "print(f\"Test missing {len(missing_in_test)} columns\")\n",
    "\n",
    "data_test = data_test.drop(columns=missing_in_train)\n",
    "data_train = data_train.drop(columns=missing_in_test)"
   ],
   "outputs": [
    {
     "output_type": "stream",
     "name": "stdout",
     "text": [
      "Train missing 0 columns\n",
      "Test missing 0 columns\n"
     ]
    }
   ],
   "metadata": {}
  },
  {
   "cell_type": "code",
   "execution_count": 4,
   "source": [
    "cats = data_train.select_dtypes(np.integer).columns.tolist()\n",
    "objects = data_train.select_dtypes(np.object).columns.tolist()\n",
    "floats = data_train.select_dtypes(np.float).columns.tolist()\n",
    "assert len(cats) + len(objects) + len(floats) == len(data_train.columns)\n",
    "\n",
    "print(\"Objects:\", objects)\n",
    "print(\"Categoricals:\", cats)\n",
    "print(\"Floats:\", floats[:10])"
   ],
   "outputs": [
    {
     "output_type": "stream",
     "name": "stdout",
     "text": [
      "Objects: ['observation_date']\n",
      "Categoricals: ['presence', 'year', 'month', 'day']\n",
      "Floats: ['x', 'y', 'clay_0.5cm_mean', 'clay_5.15cm_mean', 'sand_0.5cm_mean', 'sand_5.15cm_mean', 'silt_0.5cm_mean', 'silt_5.15cm_mean', 'AvgSurfT_inst_0', 'Albedo_inst_0']\n"
     ]
    }
   ],
   "metadata": {}
  },
  {
   "cell_type": "code",
   "execution_count": 5,
   "source": [
    "data_train.info(verbose=False)"
   ],
   "outputs": [
    {
     "output_type": "stream",
     "name": "stdout",
     "text": [
      "<class 'pandas.core.frame.DataFrame'>\n",
      "Int64Index: 22102 entries, 0 to 22101\n",
      "Columns: 1165 entries, x to Psurf_f_inst_95\n",
      "dtypes: float64(1160), int64(4), object(1)\n",
      "memory usage: 196.6+ MB\n"
     ]
    }
   ],
   "metadata": {}
  },
  {
   "cell_type": "code",
   "execution_count": 6,
   "source": [
    "# Check for NAN values\n",
    "nans = data_train.isnull().sum()\n",
    "# [(k,v,d) for k,v,d in zip(nans.keys(), nans.values, data_train.dtypes) if v>0]"
   ],
   "outputs": [],
   "metadata": {}
  },
  {
   "cell_type": "code",
   "execution_count": 7,
   "source": [
    "# Fill NAN values with median\n",
    "# for col in data_train.columns:\n",
    "#     n_train_nans = pd.isnull(data_train[col]).sum()\n",
    "#     n_test_nans = pd.isnull(data_test[col]).sum()\n",
    "#     if data_train[col].dtype == np.float:\n",
    "#         m = data_train[col].median()\n",
    "#         if n_train_nans:\n",
    "#             data_train[col] = data_train[col].fillna(m)\n",
    "#         if n_test_nans:\n",
    "#             data_test[col] = data_test[col].fillna(m)\n",
    "\n",
    "data_train.dropna(inplace=True)\n",
    "data_test.dropna(inplace=True)\n",
    "\n",
    "assert not data_train.isnull().sum().sum()\n",
    "assert not data_test.isnull().sum().sum()"
   ],
   "outputs": [],
   "metadata": {}
  },
  {
   "cell_type": "code",
   "execution_count": 8,
   "source": [
    "non_temporal_columns = ['sand_0.5cm_mean', 'sand_5.15cm_mean']\n",
    "temporal_variables = [\n",
    "    'AvgSurfT_inst', \n",
    "    # 'Albedo_inst', \n",
    "    'SoilMoi0_10cm_inst', \n",
    "    'SoilMoi10_40cm_inst', \n",
    "    'SoilTMP0_10cm_inst', \n",
    "    'SoilTMP10_40cm_inst', \n",
    "    'Tveg_tavg', \n",
    "    'Wind_f_inst', \n",
    "    'Rainf_f_tavg', \n",
    "    'Tair_f_inst',\n",
    "    'Qair_f_inst', \n",
    "    'Psurf_f_inst'\n",
    "]\n",
    "\n",
    "def grouplen(sequence, chunk_size):\n",
    "    return list(zip(*[iter(sequence)] * chunk_size))\n",
    "\n",
    "def preprocess_data(data, days=6, drop_true_absence=True):\n",
    "    \"\"\"Bucketize temporal columns\"\"\"\n",
    "    if drop_true_absence:\n",
    "        data = data[data['presence'] != 2]\n",
    "    dfs = []\n",
    "    for temp_variable in temporal_variables:\n",
    "        chunks = grouplen([col for col in data.columns if temp_variable in col], days)\n",
    "        agg_list = list(map(lambda x: data[list(x)].mean(axis=1), chunks))\n",
    "        df = pd.concat(agg_list, axis=1)\n",
    "        df.columns = [f\"{temp_variable}_bucket_{i}\" for i in range(1, df.shape[1]+1)]\n",
    "        dfs.append(df)\n",
    "    dfs.append(data[non_temporal_columns])\n",
    "    return pd.concat(dfs, axis=1), data['presence']"
   ],
   "outputs": [],
   "metadata": {}
  },
  {
   "cell_type": "code",
   "execution_count": 9,
   "source": [
    "# drops = [\"observation_date\", \"date\", \"Unnamed: 0.1\", \"presence\"]\n",
    "\n",
    "# def process_targets(data):\n",
    "#     target = data.presence.copy()\n",
    "#     data = data.drop(columns=drops)\n",
    "#     counts = list(zip(*np.unique(target, return_counts=True)))\n",
    "#     print(\"Counts:\", counts)\n",
    "    \n",
    "#     # merge pseudo-absence and true absence\n",
    "#     target.loc[target == 2] = 0\n",
    "#     return data, target"
   ],
   "outputs": [],
   "metadata": {}
  },
  {
   "cell_type": "code",
   "execution_count": 10,
   "source": [
    "data_train, train_target = preprocess_data(data_train)\n",
    "data_test, test_target = preprocess_data(data_test)\n",
    "\n",
    "print(f\"Train features: {data_train.shape}, Train labels: {train_target.shape}\")\n",
    "print(f\"Test features: {data_test.shape}, Test labels: {test_target.shape}\")"
   ],
   "outputs": [
    {
     "output_type": "stream",
     "name": "stdout",
     "text": [
      "Train features: (21939, 178), Train labels: (21939,)\n",
      "Test features: (3253, 178), Test labels: (3253,)\n"
     ]
    }
   ],
   "metadata": {}
  },
  {
   "cell_type": "markdown",
   "source": [
    "## Modelling"
   ],
   "metadata": {}
  },
  {
   "cell_type": "code",
   "execution_count": 11,
   "source": [
    "from sklearn.model_selection import train_test_split\n",
    "from sklearn import preprocessing, metrics\n",
    "from sklearn.ensemble import RandomForestClassifier\n",
    "from sklearn.linear_model import LogisticRegression\n",
    "import xgboost as xgb"
   ],
   "outputs": [],
   "metadata": {}
  },
  {
   "cell_type": "code",
   "execution_count": 12,
   "source": [
    "def evaluate(trues, preds):\n",
    "    labels = ['absence', 'presence']\n",
    "    results = {}\n",
    "    results['accuracy'] = metrics.accuracy_score(trues, preds)\n",
    "    results['confusion_matrix'] = metrics.confusion_matrix(trues, preds)\n",
    "    results['kappa'] = metrics.cohen_kappa_score(trues, preds)\n",
    "    results['f1'] = metrics.f1_score(trues, preds)\n",
    "    \n",
    "    print(metrics.classification_report(trues, preds, target_names=labels))\n",
    "    return results"
   ],
   "outputs": [],
   "metadata": {}
  },
  {
   "cell_type": "code",
   "execution_count": 13,
   "source": [
    "# Probably should split data sooner\n",
    "seed = 111\n",
    "train_x, val_x, train_y, val_y = train_test_split(\n",
    "    data_train, train_target, test_size=0.2, random_state=seed)"
   ],
   "outputs": [],
   "metadata": {}
  },
  {
   "cell_type": "markdown",
   "source": [
    "## Logistic Regression"
   ],
   "metadata": {}
  },
  {
   "cell_type": "code",
   "execution_count": 14,
   "source": [
    "# Scale the dataset\n",
    "scaler = preprocessing.StandardScaler()\n",
    "train_x_scaled = scaler.fit_transform(train_x)\n",
    "val_x_scaled = scaler.transform(val_x)\n",
    "test_x_scaled = scaler.transform(data_test)"
   ],
   "outputs": [],
   "metadata": {}
  },
  {
   "cell_type": "code",
   "execution_count": 15,
   "source": [
    "model = LogisticRegression()\n",
    "model.fit(train_x_scaled, train_y);"
   ],
   "outputs": [
    {
     "output_type": "stream",
     "name": "stderr",
     "text": [
      "/opt/anaconda3/lib/python3.8/site-packages/sklearn/linear_model/_logistic.py:762: ConvergenceWarning: lbfgs failed to converge (status=1):\n",
      "STOP: TOTAL NO. of ITERATIONS REACHED LIMIT.\n",
      "\n",
      "Increase the number of iterations (max_iter) or scale the data as shown in:\n",
      "    https://scikit-learn.org/stable/modules/preprocessing.html\n",
      "Please also refer to the documentation for alternative solver options:\n",
      "    https://scikit-learn.org/stable/modules/linear_model.html#logistic-regression\n",
      "  n_iter_i = _check_optimize_result(\n"
     ]
    }
   ],
   "metadata": {}
  },
  {
   "cell_type": "code",
   "execution_count": 16,
   "source": [
    "y_preds = model.predict(val_x_scaled)\n",
    "logistic_val_results = evaluate(val_y, y_preds)"
   ],
   "outputs": [
    {
     "output_type": "stream",
     "name": "stdout",
     "text": [
      "              precision    recall  f1-score   support\n",
      "\n",
      "     absence       0.68      0.65      0.67      2203\n",
      "    presence       0.66      0.70      0.68      2185\n",
      "\n",
      "    accuracy                           0.67      4388\n",
      "   macro avg       0.67      0.67      0.67      4388\n",
      "weighted avg       0.67      0.67      0.67      4388\n",
      "\n"
     ]
    }
   ],
   "metadata": {}
  },
  {
   "cell_type": "code",
   "execution_count": 17,
   "source": [
    "y_preds = model.predict(test_x_scaled)\n",
    "logistic_test_results = evaluate(test_target, y_preds)"
   ],
   "outputs": [
    {
     "output_type": "stream",
     "name": "stdout",
     "text": [
      "              precision    recall  f1-score   support\n",
      "\n",
      "     absence       0.62      0.57      0.59      1622\n",
      "    presence       0.60      0.65      0.62      1631\n",
      "\n",
      "    accuracy                           0.61      3253\n",
      "   macro avg       0.61      0.61      0.61      3253\n",
      "weighted avg       0.61      0.61      0.61      3253\n",
      "\n"
     ]
    }
   ],
   "metadata": {}
  },
  {
   "cell_type": "code",
   "execution_count": 18,
   "source": [
    "# Feature importance\n",
    "weights = model.coef_[0].tolist()\n",
    "features = list(zip(weights, data_train.columns))\n",
    "list(sorted(features, key=lambda x: abs(x[0]), reverse=True))[:10]"
   ],
   "outputs": [
    {
     "output_type": "execute_result",
     "data": {
      "text/plain": [
       "[(-2.374349886192004, 'Tair_f_inst_bucket_1'),\n",
       " (-2.236262381664064, 'Tair_f_inst_bucket_16'),\n",
       " (-2.2037302707663686, 'Tair_f_inst_bucket_14'),\n",
       " (-2.1374466969142527, 'Tair_f_inst_bucket_3'),\n",
       " (-1.9740319101053778, 'SoilMoi10_40cm_inst_bucket_16'),\n",
       " (-1.894907100711929, 'Tair_f_inst_bucket_13'),\n",
       " (-1.8923226128272956, 'Tair_f_inst_bucket_2'),\n",
       " (-1.8794192249226789, 'Tair_f_inst_bucket_4'),\n",
       " (-1.7271461707781475, 'Tair_f_inst_bucket_15'),\n",
       " (1.5524804236313827, 'sand_0.5cm_mean')]"
      ]
     },
     "metadata": {},
     "execution_count": 18
    }
   ],
   "metadata": {}
  },
  {
   "cell_type": "markdown",
   "source": [
    "### XGBoost"
   ],
   "metadata": {}
  },
  {
   "cell_type": "code",
   "execution_count": 19,
   "source": [
    "train_xgb = xgb.DMatrix(train_x, label=train_y)\n",
    "val_xgb = xgb.DMatrix(val_x, label=val_y)\n",
    "test_xgb = xgb.DMatrix(data_test)"
   ],
   "outputs": [],
   "metadata": {}
  },
  {
   "cell_type": "code",
   "execution_count": 20,
   "source": [
    "params = {'max_depth': 5, 'eta': 1.0, 'objective': 'binary:logistic'}\n",
    "model = xgb.train(params, train_xgb)\n",
    "y_preds = model.predict(val_xgb).round(0)\n",
    "xgb_val_results = evaluate(val_y, y_preds)"
   ],
   "outputs": [
    {
     "output_type": "stream",
     "name": "stdout",
     "text": [
      "[12:48:41] WARNING: /opt/concourse/worker/volumes/live/7a2b9f41-3287-451b-6691-43e9a6c0910f/volume/xgboost-split_1619728204606/work/src/learner.cc:1061: Starting in XGBoost 1.3.0, the default evaluation metric used with the objective 'binary:logistic' was changed from 'error' to 'logloss'. Explicitly set eval_metric if you'd like to restore the old behavior.\n",
      "              precision    recall  f1-score   support\n",
      "\n",
      "     absence       0.80      0.77      0.79      2203\n",
      "    presence       0.78      0.81      0.79      2185\n",
      "\n",
      "    accuracy                           0.79      4388\n",
      "   macro avg       0.79      0.79      0.79      4388\n",
      "weighted avg       0.79      0.79      0.79      4388\n",
      "\n"
     ]
    }
   ],
   "metadata": {}
  },
  {
   "cell_type": "code",
   "execution_count": 21,
   "source": [
    "y_preds = model.predict(test_xgb).round(0)\n",
    "xgb_test_results = evaluate(test_target, y_preds)"
   ],
   "outputs": [
    {
     "output_type": "stream",
     "name": "stdout",
     "text": [
      "              precision    recall  f1-score   support\n",
      "\n",
      "     absence       0.64      0.72      0.68      1622\n",
      "    presence       0.68      0.61      0.64      1631\n",
      "\n",
      "    accuracy                           0.66      3253\n",
      "   macro avg       0.66      0.66      0.66      3253\n",
      "weighted avg       0.66      0.66      0.66      3253\n",
      "\n"
     ]
    }
   ],
   "metadata": {}
  },
  {
   "cell_type": "markdown",
   "source": [
    "#### Feature Importance"
   ],
   "metadata": {}
  },
  {
   "cell_type": "code",
   "execution_count": 28,
   "source": [
    "f,a = plt.subplots(figsize=(12,12))\n",
    "xgb.plot_importance(model, height=0.5, figure=f, ax=a);"
   ],
   "outputs": [
    {
     "output_type": "error",
     "ename": "ValueError",
     "evalue": "tree must be Booster, XGBModel or dict instance",
     "traceback": [
      "\u001b[0;31m---------------------------------------------------------------------------\u001b[0m",
      "\u001b[0;31mValueError\u001b[0m                                Traceback (most recent call last)",
      "\u001b[0;32m<ipython-input-28-b1319cb46123>\u001b[0m in \u001b[0;36m<module>\u001b[0;34m\u001b[0m\n\u001b[1;32m      1\u001b[0m \u001b[0mf\u001b[0m\u001b[0;34m,\u001b[0m\u001b[0ma\u001b[0m \u001b[0;34m=\u001b[0m \u001b[0mplt\u001b[0m\u001b[0;34m.\u001b[0m\u001b[0msubplots\u001b[0m\u001b[0;34m(\u001b[0m\u001b[0mfigsize\u001b[0m\u001b[0;34m=\u001b[0m\u001b[0;34m(\u001b[0m\u001b[0;36m12\u001b[0m\u001b[0;34m,\u001b[0m\u001b[0;36m12\u001b[0m\u001b[0;34m)\u001b[0m\u001b[0;34m)\u001b[0m\u001b[0;34m\u001b[0m\u001b[0;34m\u001b[0m\u001b[0m\n\u001b[0;32m----> 2\u001b[0;31m \u001b[0mxgb\u001b[0m\u001b[0;34m.\u001b[0m\u001b[0mplot_importance\u001b[0m\u001b[0;34m(\u001b[0m\u001b[0mmodel\u001b[0m\u001b[0;34m,\u001b[0m \u001b[0mheight\u001b[0m\u001b[0;34m=\u001b[0m\u001b[0;36m0.5\u001b[0m\u001b[0;34m,\u001b[0m \u001b[0mfigure\u001b[0m\u001b[0;34m=\u001b[0m\u001b[0mf\u001b[0m\u001b[0;34m,\u001b[0m \u001b[0max\u001b[0m\u001b[0;34m=\u001b[0m\u001b[0ma\u001b[0m\u001b[0;34m)\u001b[0m\u001b[0;34m;\u001b[0m\u001b[0;34m\u001b[0m\u001b[0;34m\u001b[0m\u001b[0m\n\u001b[0m",
      "\u001b[0;32m/opt/anaconda3/lib/python3.8/site-packages/xgboost/plotting.py\u001b[0m in \u001b[0;36mplot_importance\u001b[0;34m(booster, ax, height, xlim, ylim, title, xlabel, ylabel, fmap, importance_type, max_num_features, grid, show_values, **kwargs)\u001b[0m\n\u001b[1;32m     68\u001b[0m         \u001b[0mimportance\u001b[0m \u001b[0;34m=\u001b[0m \u001b[0mbooster\u001b[0m\u001b[0;34m\u001b[0m\u001b[0;34m\u001b[0m\u001b[0m\n\u001b[1;32m     69\u001b[0m     \u001b[0;32melse\u001b[0m\u001b[0;34m:\u001b[0m\u001b[0;34m\u001b[0m\u001b[0;34m\u001b[0m\u001b[0m\n\u001b[0;32m---> 70\u001b[0;31m         \u001b[0;32mraise\u001b[0m \u001b[0mValueError\u001b[0m\u001b[0;34m(\u001b[0m\u001b[0;34m'tree must be Booster, XGBModel or dict instance'\u001b[0m\u001b[0;34m)\u001b[0m\u001b[0;34m\u001b[0m\u001b[0;34m\u001b[0m\u001b[0m\n\u001b[0m\u001b[1;32m     71\u001b[0m \u001b[0;34m\u001b[0m\u001b[0m\n\u001b[1;32m     72\u001b[0m     \u001b[0;32mif\u001b[0m \u001b[0;32mnot\u001b[0m \u001b[0mimportance\u001b[0m\u001b[0;34m:\u001b[0m\u001b[0;34m\u001b[0m\u001b[0;34m\u001b[0m\u001b[0m\n",
      "\u001b[0;31mValueError\u001b[0m: tree must be Booster, XGBModel or dict instance"
     ]
    },
    {
     "output_type": "display_data",
     "data": {
      "text/plain": [
       "<Figure size 864x864 with 1 Axes>"
      ],
      "image/svg+xml": "<?xml version=\"1.0\" encoding=\"utf-8\" standalone=\"no\"?>\n<!DOCTYPE svg PUBLIC \"-//W3C//DTD SVG 1.1//EN\"\n  \"http://www.w3.org/Graphics/SVG/1.1/DTD/svg11.dtd\">\n<!-- Created with matplotlib (https://matplotlib.org/) -->\n<svg height=\"687.197344pt\" version=\"1.1\" viewBox=\"0 0 714.854687 687.197344\" width=\"714.854687pt\" xmlns=\"http://www.w3.org/2000/svg\" xmlns:xlink=\"http://www.w3.org/1999/xlink\">\n <metadata>\n  <rdf:RDF xmlns:cc=\"http://creativecommons.org/ns#\" xmlns:dc=\"http://purl.org/dc/elements/1.1/\" xmlns:rdf=\"http://www.w3.org/1999/02/22-rdf-syntax-ns#\">\n   <cc:Work>\n    <dc:type rdf:resource=\"http://purl.org/dc/dcmitype/StillImage\"/>\n    <dc:date>2021-09-22T12:50:24.213182</dc:date>\n    <dc:format>image/svg+xml</dc:format>\n    <dc:creator>\n     <cc:Agent>\n      <dc:title>Matplotlib v3.3.2, https://matplotlib.org/</dc:title>\n     </cc:Agent>\n    </dc:creator>\n   </cc:Work>\n  </rdf:RDF>\n </metadata>\n <defs>\n  <style type=\"text/css\">*{stroke-linecap:butt;stroke-linejoin:round;}</style>\n </defs>\n <g id=\"figure_1\">\n  <g id=\"patch_1\">\n   <path d=\"M 0 687.197344 \nL 714.854687 687.197344 \nL 714.854687 0 \nL 0 0 \nz\n\" style=\"fill:none;\"/>\n  </g>\n  <g id=\"axes_1\">\n   <g id=\"patch_2\">\n    <path d=\"M 30.103125 663.319219 \nL 699.703125 663.319219 \nL 699.703125 10.999219 \nL 30.103125 10.999219 \nz\n\" style=\"fill:#ffffff;\"/>\n   </g>\n   <g id=\"matplotlib.axis_1\">\n    <g id=\"xtick_1\">\n     <g id=\"line2d_1\">\n      <defs>\n       <path d=\"M 0 0 \nL 0 3.5 \n\" id=\"m3be9f9ead9\" style=\"stroke:#000000;stroke-width:0.8;\"/>\n      </defs>\n      <g>\n       <use style=\"stroke:#000000;stroke-width:0.8;\" x=\"30.103125\" xlink:href=\"#m3be9f9ead9\" y=\"663.319219\"/>\n      </g>\n     </g>\n     <g id=\"text_1\">\n      <!-- 0.0 -->\n      <g transform=\"translate(22.151563 677.917656)scale(0.1 -0.1)\">\n       <defs>\n        <path d=\"M 31.78125 66.40625 \nQ 24.171875 66.40625 20.328125 58.90625 \nQ 16.5 51.421875 16.5 36.375 \nQ 16.5 21.390625 20.328125 13.890625 \nQ 24.171875 6.390625 31.78125 6.390625 \nQ 39.453125 6.390625 43.28125 13.890625 \nQ 47.125 21.390625 47.125 36.375 \nQ 47.125 51.421875 43.28125 58.90625 \nQ 39.453125 66.40625 31.78125 66.40625 \nz\nM 31.78125 74.21875 \nQ 44.046875 74.21875 50.515625 64.515625 \nQ 56.984375 54.828125 56.984375 36.375 \nQ 56.984375 17.96875 50.515625 8.265625 \nQ 44.046875 -1.421875 31.78125 -1.421875 \nQ 19.53125 -1.421875 13.0625 8.265625 \nQ 6.59375 17.96875 6.59375 36.375 \nQ 6.59375 54.828125 13.0625 64.515625 \nQ 19.53125 74.21875 31.78125 74.21875 \nz\n\" id=\"DejaVuSans-48\"/>\n        <path d=\"M 10.6875 12.40625 \nL 21 12.40625 \nL 21 0 \nL 10.6875 0 \nz\n\" id=\"DejaVuSans-46\"/>\n       </defs>\n       <use xlink:href=\"#DejaVuSans-48\"/>\n       <use x=\"63.623047\" xlink:href=\"#DejaVuSans-46\"/>\n       <use x=\"95.410156\" xlink:href=\"#DejaVuSans-48\"/>\n      </g>\n     </g>\n    </g>\n    <g id=\"xtick_2\">\n     <g id=\"line2d_2\">\n      <g>\n       <use style=\"stroke:#000000;stroke-width:0.8;\" x=\"164.023125\" xlink:href=\"#m3be9f9ead9\" y=\"663.319219\"/>\n      </g>\n     </g>\n     <g id=\"text_2\">\n      <!-- 0.2 -->\n      <g transform=\"translate(156.071563 677.917656)scale(0.1 -0.1)\">\n       <defs>\n        <path d=\"M 19.1875 8.296875 \nL 53.609375 8.296875 \nL 53.609375 0 \nL 7.328125 0 \nL 7.328125 8.296875 \nQ 12.9375 14.109375 22.625 23.890625 \nQ 32.328125 33.6875 34.8125 36.53125 \nQ 39.546875 41.84375 41.421875 45.53125 \nQ 43.3125 49.21875 43.3125 52.78125 \nQ 43.3125 58.59375 39.234375 62.25 \nQ 35.15625 65.921875 28.609375 65.921875 \nQ 23.96875 65.921875 18.8125 64.3125 \nQ 13.671875 62.703125 7.8125 59.421875 \nL 7.8125 69.390625 \nQ 13.765625 71.78125 18.9375 73 \nQ 24.125 74.21875 28.421875 74.21875 \nQ 39.75 74.21875 46.484375 68.546875 \nQ 53.21875 62.890625 53.21875 53.421875 \nQ 53.21875 48.921875 51.53125 44.890625 \nQ 49.859375 40.875 45.40625 35.40625 \nQ 44.1875 33.984375 37.640625 27.21875 \nQ 31.109375 20.453125 19.1875 8.296875 \nz\n\" id=\"DejaVuSans-50\"/>\n       </defs>\n       <use xlink:href=\"#DejaVuSans-48\"/>\n       <use x=\"63.623047\" xlink:href=\"#DejaVuSans-46\"/>\n       <use x=\"95.410156\" xlink:href=\"#DejaVuSans-50\"/>\n      </g>\n     </g>\n    </g>\n    <g id=\"xtick_3\">\n     <g id=\"line2d_3\">\n      <g>\n       <use style=\"stroke:#000000;stroke-width:0.8;\" x=\"297.943125\" xlink:href=\"#m3be9f9ead9\" y=\"663.319219\"/>\n      </g>\n     </g>\n     <g id=\"text_3\">\n      <!-- 0.4 -->\n      <g transform=\"translate(289.991562 677.917656)scale(0.1 -0.1)\">\n       <defs>\n        <path d=\"M 37.796875 64.3125 \nL 12.890625 25.390625 \nL 37.796875 25.390625 \nz\nM 35.203125 72.90625 \nL 47.609375 72.90625 \nL 47.609375 25.390625 \nL 58.015625 25.390625 \nL 58.015625 17.1875 \nL 47.609375 17.1875 \nL 47.609375 0 \nL 37.796875 0 \nL 37.796875 17.1875 \nL 4.890625 17.1875 \nL 4.890625 26.703125 \nz\n\" id=\"DejaVuSans-52\"/>\n       </defs>\n       <use xlink:href=\"#DejaVuSans-48\"/>\n       <use x=\"63.623047\" xlink:href=\"#DejaVuSans-46\"/>\n       <use x=\"95.410156\" xlink:href=\"#DejaVuSans-52\"/>\n      </g>\n     </g>\n    </g>\n    <g id=\"xtick_4\">\n     <g id=\"line2d_4\">\n      <g>\n       <use style=\"stroke:#000000;stroke-width:0.8;\" x=\"431.863125\" xlink:href=\"#m3be9f9ead9\" y=\"663.319219\"/>\n      </g>\n     </g>\n     <g id=\"text_4\">\n      <!-- 0.6 -->\n      <g transform=\"translate(423.911563 677.917656)scale(0.1 -0.1)\">\n       <defs>\n        <path d=\"M 33.015625 40.375 \nQ 26.375 40.375 22.484375 35.828125 \nQ 18.609375 31.296875 18.609375 23.390625 \nQ 18.609375 15.53125 22.484375 10.953125 \nQ 26.375 6.390625 33.015625 6.390625 \nQ 39.65625 6.390625 43.53125 10.953125 \nQ 47.40625 15.53125 47.40625 23.390625 \nQ 47.40625 31.296875 43.53125 35.828125 \nQ 39.65625 40.375 33.015625 40.375 \nz\nM 52.59375 71.296875 \nL 52.59375 62.3125 \nQ 48.875 64.0625 45.09375 64.984375 \nQ 41.3125 65.921875 37.59375 65.921875 \nQ 27.828125 65.921875 22.671875 59.328125 \nQ 17.53125 52.734375 16.796875 39.40625 \nQ 19.671875 43.65625 24.015625 45.921875 \nQ 28.375 48.1875 33.59375 48.1875 \nQ 44.578125 48.1875 50.953125 41.515625 \nQ 57.328125 34.859375 57.328125 23.390625 \nQ 57.328125 12.15625 50.6875 5.359375 \nQ 44.046875 -1.421875 33.015625 -1.421875 \nQ 20.359375 -1.421875 13.671875 8.265625 \nQ 6.984375 17.96875 6.984375 36.375 \nQ 6.984375 53.65625 15.1875 63.9375 \nQ 23.390625 74.21875 37.203125 74.21875 \nQ 40.921875 74.21875 44.703125 73.484375 \nQ 48.484375 72.75 52.59375 71.296875 \nz\n\" id=\"DejaVuSans-54\"/>\n       </defs>\n       <use xlink:href=\"#DejaVuSans-48\"/>\n       <use x=\"63.623047\" xlink:href=\"#DejaVuSans-46\"/>\n       <use x=\"95.410156\" xlink:href=\"#DejaVuSans-54\"/>\n      </g>\n     </g>\n    </g>\n    <g id=\"xtick_5\">\n     <g id=\"line2d_5\">\n      <g>\n       <use style=\"stroke:#000000;stroke-width:0.8;\" x=\"565.783125\" xlink:href=\"#m3be9f9ead9\" y=\"663.319219\"/>\n      </g>\n     </g>\n     <g id=\"text_5\">\n      <!-- 0.8 -->\n      <g transform=\"translate(557.831563 677.917656)scale(0.1 -0.1)\">\n       <defs>\n        <path d=\"M 31.78125 34.625 \nQ 24.75 34.625 20.71875 30.859375 \nQ 16.703125 27.09375 16.703125 20.515625 \nQ 16.703125 13.921875 20.71875 10.15625 \nQ 24.75 6.390625 31.78125 6.390625 \nQ 38.8125 6.390625 42.859375 10.171875 \nQ 46.921875 13.96875 46.921875 20.515625 \nQ 46.921875 27.09375 42.890625 30.859375 \nQ 38.875 34.625 31.78125 34.625 \nz\nM 21.921875 38.8125 \nQ 15.578125 40.375 12.03125 44.71875 \nQ 8.5 49.078125 8.5 55.328125 \nQ 8.5 64.0625 14.71875 69.140625 \nQ 20.953125 74.21875 31.78125 74.21875 \nQ 42.671875 74.21875 48.875 69.140625 \nQ 55.078125 64.0625 55.078125 55.328125 \nQ 55.078125 49.078125 51.53125 44.71875 \nQ 48 40.375 41.703125 38.8125 \nQ 48.828125 37.15625 52.796875 32.3125 \nQ 56.78125 27.484375 56.78125 20.515625 \nQ 56.78125 9.90625 50.3125 4.234375 \nQ 43.84375 -1.421875 31.78125 -1.421875 \nQ 19.734375 -1.421875 13.25 4.234375 \nQ 6.78125 9.90625 6.78125 20.515625 \nQ 6.78125 27.484375 10.78125 32.3125 \nQ 14.796875 37.15625 21.921875 38.8125 \nz\nM 18.3125 54.390625 \nQ 18.3125 48.734375 21.84375 45.5625 \nQ 25.390625 42.390625 31.78125 42.390625 \nQ 38.140625 42.390625 41.71875 45.5625 \nQ 45.3125 48.734375 45.3125 54.390625 \nQ 45.3125 60.0625 41.71875 63.234375 \nQ 38.140625 66.40625 31.78125 66.40625 \nQ 25.390625 66.40625 21.84375 63.234375 \nQ 18.3125 60.0625 18.3125 54.390625 \nz\n\" id=\"DejaVuSans-56\"/>\n       </defs>\n       <use xlink:href=\"#DejaVuSans-48\"/>\n       <use x=\"63.623047\" xlink:href=\"#DejaVuSans-46\"/>\n       <use x=\"95.410156\" xlink:href=\"#DejaVuSans-56\"/>\n      </g>\n     </g>\n    </g>\n    <g id=\"xtick_6\">\n     <g id=\"line2d_6\">\n      <g>\n       <use style=\"stroke:#000000;stroke-width:0.8;\" x=\"699.703125\" xlink:href=\"#m3be9f9ead9\" y=\"663.319219\"/>\n      </g>\n     </g>\n     <g id=\"text_6\">\n      <!-- 1.0 -->\n      <g transform=\"translate(691.751562 677.917656)scale(0.1 -0.1)\">\n       <defs>\n        <path d=\"M 12.40625 8.296875 \nL 28.515625 8.296875 \nL 28.515625 63.921875 \nL 10.984375 60.40625 \nL 10.984375 69.390625 \nL 28.421875 72.90625 \nL 38.28125 72.90625 \nL 38.28125 8.296875 \nL 54.390625 8.296875 \nL 54.390625 0 \nL 12.40625 0 \nz\n\" id=\"DejaVuSans-49\"/>\n       </defs>\n       <use xlink:href=\"#DejaVuSans-49\"/>\n       <use x=\"63.623047\" xlink:href=\"#DejaVuSans-46\"/>\n       <use x=\"95.410156\" xlink:href=\"#DejaVuSans-48\"/>\n      </g>\n     </g>\n    </g>\n   </g>\n   <g id=\"matplotlib.axis_2\">\n    <g id=\"ytick_1\">\n     <g id=\"line2d_7\">\n      <defs>\n       <path d=\"M 0 0 \nL -3.5 0 \n\" id=\"me1ae6847d7\" style=\"stroke:#000000;stroke-width:0.8;\"/>\n      </defs>\n      <g>\n       <use style=\"stroke:#000000;stroke-width:0.8;\" x=\"30.103125\" xlink:href=\"#me1ae6847d7\" y=\"663.319219\"/>\n      </g>\n     </g>\n     <g id=\"text_7\">\n      <!-- 0.0 -->\n      <g transform=\"translate(7.2 667.118437)scale(0.1 -0.1)\">\n       <use xlink:href=\"#DejaVuSans-48\"/>\n       <use x=\"63.623047\" xlink:href=\"#DejaVuSans-46\"/>\n       <use x=\"95.410156\" xlink:href=\"#DejaVuSans-48\"/>\n      </g>\n     </g>\n    </g>\n    <g id=\"ytick_2\">\n     <g id=\"line2d_8\">\n      <g>\n       <use style=\"stroke:#000000;stroke-width:0.8;\" x=\"30.103125\" xlink:href=\"#me1ae6847d7\" y=\"532.855219\"/>\n      </g>\n     </g>\n     <g id=\"text_8\">\n      <!-- 0.2 -->\n      <g transform=\"translate(7.2 536.654437)scale(0.1 -0.1)\">\n       <use xlink:href=\"#DejaVuSans-48\"/>\n       <use x=\"63.623047\" xlink:href=\"#DejaVuSans-46\"/>\n       <use x=\"95.410156\" xlink:href=\"#DejaVuSans-50\"/>\n      </g>\n     </g>\n    </g>\n    <g id=\"ytick_3\">\n     <g id=\"line2d_9\">\n      <g>\n       <use style=\"stroke:#000000;stroke-width:0.8;\" x=\"30.103125\" xlink:href=\"#me1ae6847d7\" y=\"402.391219\"/>\n      </g>\n     </g>\n     <g id=\"text_9\">\n      <!-- 0.4 -->\n      <g transform=\"translate(7.2 406.190437)scale(0.1 -0.1)\">\n       <use xlink:href=\"#DejaVuSans-48\"/>\n       <use x=\"63.623047\" xlink:href=\"#DejaVuSans-46\"/>\n       <use x=\"95.410156\" xlink:href=\"#DejaVuSans-52\"/>\n      </g>\n     </g>\n    </g>\n    <g id=\"ytick_4\">\n     <g id=\"line2d_10\">\n      <g>\n       <use style=\"stroke:#000000;stroke-width:0.8;\" x=\"30.103125\" xlink:href=\"#me1ae6847d7\" y=\"271.927219\"/>\n      </g>\n     </g>\n     <g id=\"text_10\">\n      <!-- 0.6 -->\n      <g transform=\"translate(7.2 275.726437)scale(0.1 -0.1)\">\n       <use xlink:href=\"#DejaVuSans-48\"/>\n       <use x=\"63.623047\" xlink:href=\"#DejaVuSans-46\"/>\n       <use x=\"95.410156\" xlink:href=\"#DejaVuSans-54\"/>\n      </g>\n     </g>\n    </g>\n    <g id=\"ytick_5\">\n     <g id=\"line2d_11\">\n      <g>\n       <use style=\"stroke:#000000;stroke-width:0.8;\" x=\"30.103125\" xlink:href=\"#me1ae6847d7\" y=\"141.463219\"/>\n      </g>\n     </g>\n     <g id=\"text_11\">\n      <!-- 0.8 -->\n      <g transform=\"translate(7.2 145.262437)scale(0.1 -0.1)\">\n       <use xlink:href=\"#DejaVuSans-48\"/>\n       <use x=\"63.623047\" xlink:href=\"#DejaVuSans-46\"/>\n       <use x=\"95.410156\" xlink:href=\"#DejaVuSans-56\"/>\n      </g>\n     </g>\n    </g>\n    <g id=\"ytick_6\">\n     <g id=\"line2d_12\">\n      <g>\n       <use style=\"stroke:#000000;stroke-width:0.8;\" x=\"30.103125\" xlink:href=\"#me1ae6847d7\" y=\"10.999219\"/>\n      </g>\n     </g>\n     <g id=\"text_12\">\n      <!-- 1.0 -->\n      <g transform=\"translate(7.2 14.798437)scale(0.1 -0.1)\">\n       <use xlink:href=\"#DejaVuSans-49\"/>\n       <use x=\"63.623047\" xlink:href=\"#DejaVuSans-46\"/>\n       <use x=\"95.410156\" xlink:href=\"#DejaVuSans-48\"/>\n      </g>\n     </g>\n    </g>\n   </g>\n   <g id=\"patch_3\">\n    <path d=\"M 30.103125 663.319219 \nL 30.103125 10.999219 \n\" style=\"fill:none;stroke:#000000;stroke-linecap:square;stroke-linejoin:miter;stroke-width:0.8;\"/>\n   </g>\n   <g id=\"patch_4\">\n    <path d=\"M 699.703125 663.319219 \nL 699.703125 10.999219 \n\" style=\"fill:none;stroke:#000000;stroke-linecap:square;stroke-linejoin:miter;stroke-width:0.8;\"/>\n   </g>\n   <g id=\"patch_5\">\n    <path d=\"M 30.103125 663.319219 \nL 699.703125 663.319219 \n\" style=\"fill:none;stroke:#000000;stroke-linecap:square;stroke-linejoin:miter;stroke-width:0.8;\"/>\n   </g>\n   <g id=\"patch_6\">\n    <path d=\"M 30.103125 10.999219 \nL 699.703125 10.999219 \n\" style=\"fill:none;stroke:#000000;stroke-linecap:square;stroke-linejoin:miter;stroke-width:0.8;\"/>\n   </g>\n  </g>\n </g>\n</svg>\n",
      "image/png": "[encoded data removed]"
     },
     "metadata": {
      "needs_background": "light"
     }
    }
   ],
   "metadata": {}
  },
  {
   "cell_type": "markdown",
   "source": [
    "### Random Forest"
   ],
   "metadata": {}
  },
  {
   "cell_type": "code",
   "execution_count": 23,
   "source": [
    "model = RandomForestClassifier(n_estimators=100, max_depth=5)\n",
    "model.fit(train_x, train_y)"
   ],
   "outputs": [
    {
     "output_type": "execute_result",
     "data": {
      "text/plain": [
       "RandomForestClassifier(max_depth=5)"
      ]
     },
     "metadata": {},
     "execution_count": 23
    }
   ],
   "metadata": {}
  },
  {
   "cell_type": "code",
   "execution_count": 24,
   "source": [
    "y_preds = model.predict(val_x)\n",
    "rf_val_results = evaluate(val_y, y_preds)"
   ],
   "outputs": [
    {
     "output_type": "stream",
     "name": "stdout",
     "text": [
      "              precision    recall  f1-score   support\n",
      "\n",
      "     absence       0.76      0.69      0.72      2203\n",
      "    presence       0.71      0.78      0.74      2185\n",
      "\n",
      "    accuracy                           0.73      4388\n",
      "   macro avg       0.74      0.73      0.73      4388\n",
      "weighted avg       0.74      0.73      0.73      4388\n",
      "\n"
     ]
    }
   ],
   "metadata": {}
  },
  {
   "cell_type": "code",
   "execution_count": 25,
   "source": [
    "y_preds = model.predict(data_test)\n",
    "rf_test_results = evaluate(test_target, y_preds)"
   ],
   "outputs": [
    {
     "output_type": "stream",
     "name": "stdout",
     "text": [
      "              precision    recall  f1-score   support\n",
      "\n",
      "     absence       0.67      0.58      0.62      1622\n",
      "    presence       0.63      0.71      0.67      1631\n",
      "\n",
      "    accuracy                           0.65      3253\n",
      "   macro avg       0.65      0.65      0.65      3253\n",
      "weighted avg       0.65      0.65      0.65      3253\n",
      "\n"
     ]
    }
   ],
   "metadata": {}
  },
  {
   "cell_type": "markdown",
   "source": [
    "## Results"
   ],
   "metadata": {}
  },
  {
   "cell_type": "markdown",
   "source": [
    "### Validation"
   ],
   "metadata": {}
  },
  {
   "cell_type": "code",
   "execution_count": 26,
   "source": [
    "val_results = pd.DataFrame({\n",
    "    \"Logistic\": logistic_val_results, \n",
    "    \"XGBoost\": xgb_val_results, \n",
    "    \"Random Forest\": rf_val_results,\n",
    "})\n",
    "val_results"
   ],
   "outputs": [
    {
     "output_type": "execute_result",
     "data": {
      "text/plain": [
       "                                    Logistic                     XGBoost  \\\n",
       "accuracy                            0.672516                    0.789881   \n",
       "confusion_matrix  [[1432, 771], [666, 1519]]  [[1694, 509], [413, 1772]]   \n",
       "kappa                               0.345149                    0.579831   \n",
       "f1                                  0.678883                    0.793551   \n",
       "\n",
       "                               Random Forest  \n",
       "accuracy                            0.732908  \n",
       "confusion_matrix  [[1512, 691], [481, 1704]]  \n",
       "kappa                               0.466017  \n",
       "f1                                  0.744105  "
      ],
      "text/html": [
       "<div>\n",
       "<style scoped>\n",
       "    .dataframe tbody tr th:only-of-type {\n",
       "        vertical-align: middle;\n",
       "    }\n",
       "\n",
       "    .dataframe tbody tr th {\n",
       "        vertical-align: top;\n",
       "    }\n",
       "\n",
       "    .dataframe thead th {\n",
       "        text-align: right;\n",
       "    }\n",
       "</style>\n",
       "<table border=\"1\" class=\"dataframe\">\n",
       "  <thead>\n",
       "    <tr style=\"text-align: right;\">\n",
       "      <th></th>\n",
       "      <th>Logistic</th>\n",
       "      <th>XGBoost</th>\n",
       "      <th>Random Forest</th>\n",
       "    </tr>\n",
       "  </thead>\n",
       "  <tbody>\n",
       "    <tr>\n",
       "      <th>accuracy</th>\n",
       "      <td>0.672516</td>\n",
       "      <td>0.789881</td>\n",
       "      <td>0.732908</td>\n",
       "    </tr>\n",
       "    <tr>\n",
       "      <th>confusion_matrix</th>\n",
       "      <td>[[1432, 771], [666, 1519]]</td>\n",
       "      <td>[[1694, 509], [413, 1772]]</td>\n",
       "      <td>[[1512, 691], [481, 1704]]</td>\n",
       "    </tr>\n",
       "    <tr>\n",
       "      <th>kappa</th>\n",
       "      <td>0.345149</td>\n",
       "      <td>0.579831</td>\n",
       "      <td>0.466017</td>\n",
       "    </tr>\n",
       "    <tr>\n",
       "      <th>f1</th>\n",
       "      <td>0.678883</td>\n",
       "      <td>0.793551</td>\n",
       "      <td>0.744105</td>\n",
       "    </tr>\n",
       "  </tbody>\n",
       "</table>\n",
       "</div>"
      ]
     },
     "metadata": {},
     "execution_count": 26
    }
   ],
   "metadata": {}
  },
  {
   "cell_type": "markdown",
   "source": [
    "### Test"
   ],
   "metadata": {}
  },
  {
   "cell_type": "code",
   "execution_count": 27,
   "source": [
    "test_results = pd.DataFrame({\n",
    "    \"Logistic\": logistic_test_results, \n",
    "    \"XGBoost\": xgb_test_results, \n",
    "    \"Random Forest\": rf_test_results,\n",
    "})\n",
    "test_results"
   ],
   "outputs": [
    {
     "output_type": "execute_result",
     "data": {
      "text/plain": [
       "                                   Logistic                    XGBoost  \\\n",
       "accuracy                           0.609899                   0.661236   \n",
       "confusion_matrix  [[932, 690], [579, 1052]]  [[1163, 459], [643, 988]]   \n",
       "kappa                              0.219644                   0.322678   \n",
       "f1                                 0.623777                   0.641975   \n",
       "\n",
       "                              Random Forest  \n",
       "accuracy                           0.647095  \n",
       "confusion_matrix  [[941, 681], [467, 1164]]  \n",
       "kappa                              0.293928  \n",
       "f1                                 0.669735  "
      ],
      "text/html": [
       "<div>\n",
       "<style scoped>\n",
       "    .dataframe tbody tr th:only-of-type {\n",
       "        vertical-align: middle;\n",
       "    }\n",
       "\n",
       "    .dataframe tbody tr th {\n",
       "        vertical-align: top;\n",
       "    }\n",
       "\n",
       "    .dataframe thead th {\n",
       "        text-align: right;\n",
       "    }\n",
       "</style>\n",
       "<table border=\"1\" class=\"dataframe\">\n",
       "  <thead>\n",
       "    <tr style=\"text-align: right;\">\n",
       "      <th></th>\n",
       "      <th>Logistic</th>\n",
       "      <th>XGBoost</th>\n",
       "      <th>Random Forest</th>\n",
       "    </tr>\n",
       "  </thead>\n",
       "  <tbody>\n",
       "    <tr>\n",
       "      <th>accuracy</th>\n",
       "      <td>0.609899</td>\n",
       "      <td>0.661236</td>\n",
       "      <td>0.647095</td>\n",
       "    </tr>\n",
       "    <tr>\n",
       "      <th>confusion_matrix</th>\n",
       "      <td>[[932, 690], [579, 1052]]</td>\n",
       "      <td>[[1163, 459], [643, 988]]</td>\n",
       "      <td>[[941, 681], [467, 1164]]</td>\n",
       "    </tr>\n",
       "    <tr>\n",
       "      <th>kappa</th>\n",
       "      <td>0.219644</td>\n",
       "      <td>0.322678</td>\n",
       "      <td>0.293928</td>\n",
       "    </tr>\n",
       "    <tr>\n",
       "      <th>f1</th>\n",
       "      <td>0.623777</td>\n",
       "      <td>0.641975</td>\n",
       "      <td>0.669735</td>\n",
       "    </tr>\n",
       "  </tbody>\n",
       "</table>\n",
       "</div>"
      ]
     },
     "metadata": {},
     "execution_count": 27
    }
   ],
   "metadata": {}
  },
  {
   "cell_type": "markdown",
   "source": [
    "## Interpretation"
   ],
   "metadata": {}
  },
  {
   "cell_type": "code",
   "execution_count": null,
   "source": [],
   "outputs": [],
   "metadata": {}
  }
 ],
 "metadata": {
  "kernelspec": {
   "name": "python3",
   "display_name": "Python 3.8.5 64-bit ('base': conda)"
  },
  "language_info": {
   "codemirror_mode": {
    "name": "ipython",
    "version": 3
   },
   "file_extension": ".py",
   "mimetype": "text/x-python",
   "name": "python",
   "nbconvert_exporter": "python",
   "pygments_lexer": "ipython3",
   "version": "3.8.5"
  },
  "interpreter": {
   "hash": "dca0ade3e726a953b501b15e8e990130d2b7799f14cfd9f4271676035ebe5511"
  }
 },
 "nbformat": 4,
 "nbformat_minor": 4
}