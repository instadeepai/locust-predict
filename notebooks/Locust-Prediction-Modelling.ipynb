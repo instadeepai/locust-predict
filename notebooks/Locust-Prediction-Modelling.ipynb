{
 "cells": [
  {
   "cell_type": "markdown",
   "metadata": {},
   "source": [
    "# Locust Prediction Modelling"
   ]
  },
  {
   "cell_type": "code",
   "execution_count": 1,
   "metadata": {},
   "outputs": [],
   "source": [
    "import pandas as pd\n",
    "import numpy as np\n",
    "import matplotlib.pyplot as plt"
   ]
  },
  {
   "cell_type": "code",
   "execution_count": 2,
   "metadata": {},
   "outputs": [
    {
     "data": {
      "text/html": [
       "<div>\n",
       "<style scoped>\n",
       "    .dataframe tbody tr th:only-of-type {\n",
       "        vertical-align: middle;\n",
       "    }\n",
       "\n",
       "    .dataframe tbody tr th {\n",
       "        vertical-align: top;\n",
       "    }\n",
       "\n",
       "    .dataframe thead th {\n",
       "        text-align: right;\n",
       "    }\n",
       "</style>\n",
       "<table border=\"1\" class=\"dataframe\">\n",
       "  <thead>\n",
       "    <tr style=\"text-align: right;\">\n",
       "      <th></th>\n",
       "      <th>date</th>\n",
       "      <th>lat_bucket_id</th>\n",
       "      <th>lon_bucket_id</th>\n",
       "      <th>Unnamed: 0.1</th>\n",
       "      <th>x</th>\n",
       "      <th>y</th>\n",
       "      <th>presence</th>\n",
       "      <th>year</th>\n",
       "      <th>month</th>\n",
       "      <th>day</th>\n",
       "      <th>...</th>\n",
       "      <th>SoilMoi10_40cm_inst_86</th>\n",
       "      <th>SoilMoi10_40cm_inst_87</th>\n",
       "      <th>SoilMoi10_40cm_inst_88</th>\n",
       "      <th>SoilMoi10_40cm_inst_89</th>\n",
       "      <th>SoilMoi10_40cm_inst_90</th>\n",
       "      <th>SoilMoi10_40cm_inst_91</th>\n",
       "      <th>SoilMoi10_40cm_inst_92</th>\n",
       "      <th>SoilMoi10_40cm_inst_93</th>\n",
       "      <th>SoilMoi10_40cm_inst_94</th>\n",
       "      <th>SoilMoi10_40cm_inst_95</th>\n",
       "    </tr>\n",
       "  </thead>\n",
       "  <tbody>\n",
       "    <tr>\n",
       "      <th>0</th>\n",
       "      <td>2000-11-27</td>\n",
       "      <td>436</td>\n",
       "      <td>664</td>\n",
       "      <td>1</td>\n",
       "      <td>-13.899444</td>\n",
       "      <td>19.156944</td>\n",
       "      <td>1</td>\n",
       "      <td>2000</td>\n",
       "      <td>11</td>\n",
       "      <td>27</td>\n",
       "      <td>...</td>\n",
       "      <td>67.015625</td>\n",
       "      <td>67.230621</td>\n",
       "      <td>67.496002</td>\n",
       "      <td>67.826996</td>\n",
       "      <td>68.244873</td>\n",
       "      <td>68.757751</td>\n",
       "      <td>69.410629</td>\n",
       "      <td>70.233627</td>\n",
       "      <td>71.263626</td>\n",
       "      <td>72.536621</td>\n",
       "    </tr>\n",
       "    <tr>\n",
       "      <th>1</th>\n",
       "      <td>2000-11-27</td>\n",
       "      <td>436</td>\n",
       "      <td>664</td>\n",
       "      <td>2</td>\n",
       "      <td>-13.910278</td>\n",
       "      <td>19.144444</td>\n",
       "      <td>1</td>\n",
       "      <td>2000</td>\n",
       "      <td>11</td>\n",
       "      <td>27</td>\n",
       "      <td>...</td>\n",
       "      <td>67.015625</td>\n",
       "      <td>67.230621</td>\n",
       "      <td>67.496002</td>\n",
       "      <td>67.826996</td>\n",
       "      <td>68.244873</td>\n",
       "      <td>68.757751</td>\n",
       "      <td>69.410629</td>\n",
       "      <td>70.233627</td>\n",
       "      <td>71.263626</td>\n",
       "      <td>72.536621</td>\n",
       "    </tr>\n",
       "    <tr>\n",
       "      <th>2</th>\n",
       "      <td>2000-11-27</td>\n",
       "      <td>436</td>\n",
       "      <td>664</td>\n",
       "      <td>3</td>\n",
       "      <td>-13.923056</td>\n",
       "      <td>19.146667</td>\n",
       "      <td>1</td>\n",
       "      <td>2000</td>\n",
       "      <td>11</td>\n",
       "      <td>27</td>\n",
       "      <td>...</td>\n",
       "      <td>67.015625</td>\n",
       "      <td>67.230621</td>\n",
       "      <td>67.496002</td>\n",
       "      <td>67.826996</td>\n",
       "      <td>68.244873</td>\n",
       "      <td>68.757751</td>\n",
       "      <td>69.410629</td>\n",
       "      <td>70.233627</td>\n",
       "      <td>71.263626</td>\n",
       "      <td>72.536621</td>\n",
       "    </tr>\n",
       "    <tr>\n",
       "      <th>3</th>\n",
       "      <td>2000-11-28</td>\n",
       "      <td>436</td>\n",
       "      <td>668</td>\n",
       "      <td>4</td>\n",
       "      <td>-12.945833</td>\n",
       "      <td>19.146389</td>\n",
       "      <td>1</td>\n",
       "      <td>2000</td>\n",
       "      <td>11</td>\n",
       "      <td>28</td>\n",
       "      <td>...</td>\n",
       "      <td>65.580627</td>\n",
       "      <td>65.858994</td>\n",
       "      <td>66.182617</td>\n",
       "      <td>66.567749</td>\n",
       "      <td>67.029999</td>\n",
       "      <td>67.595627</td>\n",
       "      <td>68.282242</td>\n",
       "      <td>69.129501</td>\n",
       "      <td>70.175125</td>\n",
       "      <td>71.466125</td>\n",
       "    </tr>\n",
       "    <tr>\n",
       "      <th>4</th>\n",
       "      <td>2000-11-28</td>\n",
       "      <td>436</td>\n",
       "      <td>668</td>\n",
       "      <td>5</td>\n",
       "      <td>-12.949722</td>\n",
       "      <td>19.133056</td>\n",
       "      <td>1</td>\n",
       "      <td>2000</td>\n",
       "      <td>11</td>\n",
       "      <td>28</td>\n",
       "      <td>...</td>\n",
       "      <td>65.580627</td>\n",
       "      <td>65.858994</td>\n",
       "      <td>66.182617</td>\n",
       "      <td>66.567749</td>\n",
       "      <td>67.029999</td>\n",
       "      <td>67.595627</td>\n",
       "      <td>68.282242</td>\n",
       "      <td>69.129501</td>\n",
       "      <td>70.175125</td>\n",
       "      <td>71.466125</td>\n",
       "    </tr>\n",
       "  </tbody>\n",
       "</table>\n",
       "<p>5 rows × 120 columns</p>\n",
       "</div>"
      ],
      "text/plain": [
       "         date  lat_bucket_id  lon_bucket_id  Unnamed: 0.1          x  \\\n",
       "0  2000-11-27            436            664             1 -13.899444   \n",
       "1  2000-11-27            436            664             2 -13.910278   \n",
       "2  2000-11-27            436            664             3 -13.923056   \n",
       "3  2000-11-28            436            668             4 -12.945833   \n",
       "4  2000-11-28            436            668             5 -12.949722   \n",
       "\n",
       "           y  presence  year  month  day  ... SoilMoi10_40cm_inst_86  \\\n",
       "0  19.156944         1  2000     11   27  ...              67.015625   \n",
       "1  19.144444         1  2000     11   27  ...              67.015625   \n",
       "2  19.146667         1  2000     11   27  ...              67.015625   \n",
       "3  19.146389         1  2000     11   28  ...              65.580627   \n",
       "4  19.133056         1  2000     11   28  ...              65.580627   \n",
       "\n",
       "   SoilMoi10_40cm_inst_87  SoilMoi10_40cm_inst_88  SoilMoi10_40cm_inst_89  \\\n",
       "0               67.230621               67.496002               67.826996   \n",
       "1               67.230621               67.496002               67.826996   \n",
       "2               67.230621               67.496002               67.826996   \n",
       "3               65.858994               66.182617               66.567749   \n",
       "4               65.858994               66.182617               66.567749   \n",
       "\n",
       "   SoilMoi10_40cm_inst_90  SoilMoi10_40cm_inst_91  SoilMoi10_40cm_inst_92  \\\n",
       "0               68.244873               68.757751               69.410629   \n",
       "1               68.244873               68.757751               69.410629   \n",
       "2               68.244873               68.757751               69.410629   \n",
       "3               67.029999               67.595627               68.282242   \n",
       "4               67.029999               67.595627               68.282242   \n",
       "\n",
       "   SoilMoi10_40cm_inst_93  SoilMoi10_40cm_inst_94  SoilMoi10_40cm_inst_95  \n",
       "0               70.233627               71.263626               72.536621  \n",
       "1               70.233627               71.263626               72.536621  \n",
       "2               70.233627               71.263626               72.536621  \n",
       "3               69.129501               70.175125               71.466125  \n",
       "4               69.129501               70.175125               71.466125  \n",
       "\n",
       "[5 rows x 120 columns]"
      ]
     },
     "execution_count": 2,
     "metadata": {},
     "output_type": "execute_result"
    }
   ],
   "source": [
    "data = pd.read_csv(\"../data/nasa_dataset_v0_full.csv\", index_col=0)\n",
    "data.head()"
   ]
  },
  {
   "cell_type": "code",
   "execution_count": 3,
   "metadata": {},
   "outputs": [
    {
     "name": "stdout",
     "output_type": "stream",
     "text": [
      "<class 'pandas.core.frame.DataFrame'>\n",
      "Int64Index: 16995 entries, 0 to 16994\n",
      "Data columns (total 120 columns):\n",
      "date                      object\n",
      "lat_bucket_id             int64\n",
      "lon_bucket_id             int64\n",
      "Unnamed: 0.1              int64\n",
      "x                         float64\n",
      "y                         float64\n",
      "presence                  int64\n",
      "year                      int64\n",
      "month                     int64\n",
      "day                       int64\n",
      "country                   object\n",
      "dekad1_0_10               float64\n",
      "dekad1_10_40              float64\n",
      "dekad2_0_10               float64\n",
      "dekad2_10_40              float64\n",
      "dekad3_0_10               float64\n",
      "dekad3_10_40              float64\n",
      "clay_0.5cm_mean           float64\n",
      "clay_5.15cm_mean          float64\n",
      "sand_0.5cm_mean           float64\n",
      "sand_5.15cm_mean          float64\n",
      "silt_0.5cm_mean           float64\n",
      "silt_5.15cm_mean          float64\n",
      "observation_date          object\n",
      "SoilMoi10_40cm_inst_0     float64\n",
      "SoilMoi10_40cm_inst_1     float64\n",
      "SoilMoi10_40cm_inst_2     float64\n",
      "SoilMoi10_40cm_inst_3     float64\n",
      "SoilMoi10_40cm_inst_4     float64\n",
      "SoilMoi10_40cm_inst_5     float64\n",
      "SoilMoi10_40cm_inst_6     float64\n",
      "SoilMoi10_40cm_inst_7     float64\n",
      "SoilMoi10_40cm_inst_8     float64\n",
      "SoilMoi10_40cm_inst_9     float64\n",
      "SoilMoi10_40cm_inst_10    float64\n",
      "SoilMoi10_40cm_inst_11    float64\n",
      "SoilMoi10_40cm_inst_12    float64\n",
      "SoilMoi10_40cm_inst_13    float64\n",
      "SoilMoi10_40cm_inst_14    float64\n",
      "SoilMoi10_40cm_inst_15    float64\n",
      "SoilMoi10_40cm_inst_16    float64\n",
      "SoilMoi10_40cm_inst_17    float64\n",
      "SoilMoi10_40cm_inst_18    float64\n",
      "SoilMoi10_40cm_inst_19    float64\n",
      "SoilMoi10_40cm_inst_20    float64\n",
      "SoilMoi10_40cm_inst_21    float64\n",
      "SoilMoi10_40cm_inst_22    float64\n",
      "SoilMoi10_40cm_inst_23    float64\n",
      "SoilMoi10_40cm_inst_24    float64\n",
      "SoilMoi10_40cm_inst_25    float64\n",
      "SoilMoi10_40cm_inst_26    float64\n",
      "SoilMoi10_40cm_inst_27    float64\n",
      "SoilMoi10_40cm_inst_28    float64\n",
      "SoilMoi10_40cm_inst_29    float64\n",
      "SoilMoi10_40cm_inst_30    float64\n",
      "SoilMoi10_40cm_inst_31    float64\n",
      "SoilMoi10_40cm_inst_32    float64\n",
      "SoilMoi10_40cm_inst_33    float64\n",
      "SoilMoi10_40cm_inst_34    float64\n",
      "SoilMoi10_40cm_inst_35    float64\n",
      "SoilMoi10_40cm_inst_36    float64\n",
      "SoilMoi10_40cm_inst_37    float64\n",
      "SoilMoi10_40cm_inst_38    float64\n",
      "SoilMoi10_40cm_inst_39    float64\n",
      "SoilMoi10_40cm_inst_40    float64\n",
      "SoilMoi10_40cm_inst_41    float64\n",
      "SoilMoi10_40cm_inst_42    float64\n",
      "SoilMoi10_40cm_inst_43    float64\n",
      "SoilMoi10_40cm_inst_44    float64\n",
      "SoilMoi10_40cm_inst_45    float64\n",
      "SoilMoi10_40cm_inst_46    float64\n",
      "SoilMoi10_40cm_inst_47    float64\n",
      "SoilMoi10_40cm_inst_48    float64\n",
      "SoilMoi10_40cm_inst_49    float64\n",
      "SoilMoi10_40cm_inst_50    float64\n",
      "SoilMoi10_40cm_inst_51    float64\n",
      "SoilMoi10_40cm_inst_52    float64\n",
      "SoilMoi10_40cm_inst_53    float64\n",
      "SoilMoi10_40cm_inst_54    float64\n",
      "SoilMoi10_40cm_inst_55    float64\n",
      "SoilMoi10_40cm_inst_56    float64\n",
      "SoilMoi10_40cm_inst_57    float64\n",
      "SoilMoi10_40cm_inst_58    float64\n",
      "SoilMoi10_40cm_inst_59    float64\n",
      "SoilMoi10_40cm_inst_60    float64\n",
      "SoilMoi10_40cm_inst_61    float64\n",
      "SoilMoi10_40cm_inst_62    float64\n",
      "SoilMoi10_40cm_inst_63    float64\n",
      "SoilMoi10_40cm_inst_64    float64\n",
      "SoilMoi10_40cm_inst_65    float64\n",
      "SoilMoi10_40cm_inst_66    float64\n",
      "SoilMoi10_40cm_inst_67    float64\n",
      "SoilMoi10_40cm_inst_68    float64\n",
      "SoilMoi10_40cm_inst_69    float64\n",
      "SoilMoi10_40cm_inst_70    float64\n",
      "SoilMoi10_40cm_inst_71    float64\n",
      "SoilMoi10_40cm_inst_72    float64\n",
      "SoilMoi10_40cm_inst_73    float64\n",
      "SoilMoi10_40cm_inst_74    float64\n",
      "SoilMoi10_40cm_inst_75    float64\n",
      "SoilMoi10_40cm_inst_76    float64\n",
      "SoilMoi10_40cm_inst_77    float64\n",
      "SoilMoi10_40cm_inst_78    float64\n",
      "SoilMoi10_40cm_inst_79    float64\n",
      "SoilMoi10_40cm_inst_80    float64\n",
      "SoilMoi10_40cm_inst_81    float64\n",
      "SoilMoi10_40cm_inst_82    float64\n",
      "SoilMoi10_40cm_inst_83    float64\n",
      "SoilMoi10_40cm_inst_84    float64\n",
      "SoilMoi10_40cm_inst_85    float64\n",
      "SoilMoi10_40cm_inst_86    float64\n",
      "SoilMoi10_40cm_inst_87    float64\n",
      "SoilMoi10_40cm_inst_88    float64\n",
      "SoilMoi10_40cm_inst_89    float64\n",
      "SoilMoi10_40cm_inst_90    float64\n",
      "SoilMoi10_40cm_inst_91    float64\n",
      "SoilMoi10_40cm_inst_92    float64\n",
      "SoilMoi10_40cm_inst_93    float64\n",
      "SoilMoi10_40cm_inst_94    float64\n",
      "SoilMoi10_40cm_inst_95    float64\n",
      "dtypes: float64(110), int64(7), object(3)\n",
      "memory usage: 15.7+ MB\n"
     ]
    }
   ],
   "source": [
    "# Add surface temperature\n",
    "# observation_date is encoded as year, month, day, separately\n",
    "# What is \"Unnamed: 0.1\" Looks like indices?\n",
    "# What are \"dekad1_0_10\"? Rename?\n",
    "# Pseudo absence labels missing?\n",
    "data.info(verbose=True)"
   ]
  },
  {
   "cell_type": "code",
   "execution_count": 4,
   "metadata": {},
   "outputs": [],
   "source": [
    "# Check for NAN values\n",
    "nans = data.isnull().sum()\n",
    "# list(zip(nans.keys(), nans.values, data.dtypes))"
   ]
  },
  {
   "cell_type": "code",
   "execution_count": 5,
   "metadata": {},
   "outputs": [],
   "source": [
    "# Fill NAN values with median\n",
    "for col in data.columns:\n",
    "    n = pd.isnull(data[col]).sum()\n",
    "    if n:\n",
    "        m = data[col].median()\n",
    "        # print(f\"Column {col} missing {n} values. Filling with {m}\")\n",
    "        data[col] = data[col].fillna(m)\n",
    "        \n",
    "assert not data.isnull().sum().sum()"
   ]
  },
  {
   "cell_type": "code",
   "execution_count": 6,
   "metadata": {},
   "outputs": [],
   "source": [
    "target = data.presence\n",
    "data = data.drop(columns=[\"observation_date\", \"date\", \"Unnamed: 0.1\", \"presence\", \"country\"])"
   ]
  },
  {
   "cell_type": "code",
   "execution_count": 7,
   "metadata": {},
   "outputs": [
    {
     "data": {
      "text/plain": [
       "(array([8473, 8522]), array([0. , 0.5, 1. ]))"
      ]
     },
     "execution_count": 7,
     "metadata": {},
     "output_type": "execute_result"
    }
   ],
   "source": [
    "np.histogram(target, 2)"
   ]
  },
  {
   "cell_type": "markdown",
   "metadata": {},
   "source": [
    "## Modelling"
   ]
  },
  {
   "cell_type": "code",
   "execution_count": 8,
   "metadata": {},
   "outputs": [],
   "source": [
    "from sklearn.model_selection import train_test_split\n",
    "from sklearn import preprocessing, metrics\n",
    "from sklearn.ensemble import RandomForestClassifier\n",
    "from sklearn.linear_model import LogisticRegression\n",
    "import xgboost as xgb"
   ]
  },
  {
   "cell_type": "code",
   "execution_count": 9,
   "metadata": {},
   "outputs": [],
   "source": [
    "def evaluate(trues, preds):\n",
    "    labels = ['absence', 'presence']\n",
    "    results = {}\n",
    "    results['accuracy'] = metrics.accuracy_score(trues, preds)\n",
    "    results['confusion_matrix'] = metrics.confusion_matrix(trues, preds)\n",
    "    results['kappa'] = metrics.cohen_kappa_score(trues, preds)\n",
    "    results['f1'] = metrics.f1_score(trues, preds)\n",
    "    \n",
    "    print(metrics.classification_report(trues, preds, target_names=labels))\n",
    "    return results"
   ]
  },
  {
   "cell_type": "code",
   "execution_count": 10,
   "metadata": {},
   "outputs": [],
   "source": [
    "# Probably should split data sooner\n",
    "seed = 111\n",
    "train_x, val_x, train_y, val_y = train_test_split(data, target, test_size=0.2, random_state=seed)"
   ]
  },
  {
   "cell_type": "markdown",
   "metadata": {},
   "source": [
    "## Logistic Regression"
   ]
  },
  {
   "cell_type": "code",
   "execution_count": 11,
   "metadata": {},
   "outputs": [],
   "source": [
    "# Scale the dataset\n",
    "scaler = preprocessing.MinMaxScaler()\n",
    "train_x_scaled = scaler.fit_transform(train_x)\n",
    "val_x_scaled = scaler.transform(val_x)"
   ]
  },
  {
   "cell_type": "code",
   "execution_count": 12,
   "metadata": {},
   "outputs": [
    {
     "name": "stderr",
     "output_type": "stream",
     "text": [
      "/usr/lib/python3/dist-packages/sklearn/linear_model/_logistic.py:938: ConvergenceWarning: lbfgs failed to converge (status=1):\n",
      "STOP: TOTAL NO. of ITERATIONS REACHED LIMIT.\n",
      "\n",
      "Increase the number of iterations (max_iter) or scale the data as shown in:\n",
      "    https://scikit-learn.org/stable/modules/preprocessing.html\n",
      "Please also refer to the documentation for alternative solver options:\n",
      "    https://scikit-learn.org/stable/modules/linear_model.html#logistic-regression\n",
      "  n_iter_i = _check_optimize_result(\n"
     ]
    }
   ],
   "source": [
    "model = LogisticRegression()\n",
    "model.fit(train_x_scaled, train_y);"
   ]
  },
  {
   "cell_type": "code",
   "execution_count": 13,
   "metadata": {},
   "outputs": [
    {
     "name": "stdout",
     "output_type": "stream",
     "text": [
      "              precision    recall  f1-score   support\n",
      "\n",
      "     absence       0.90      0.80      0.84      1698\n",
      "    presence       0.82      0.91      0.86      1701\n",
      "\n",
      "    accuracy                           0.85      3399\n",
      "   macro avg       0.86      0.85      0.85      3399\n",
      "weighted avg       0.86      0.85      0.85      3399\n",
      "\n"
     ]
    }
   ],
   "source": [
    "y_preds = model.predict(val_x_scaled)\n",
    "logistic_results = evaluate(val_y, y_preds)"
   ]
  },
  {
   "cell_type": "code",
   "execution_count": 14,
   "metadata": {},
   "outputs": [
    {
     "data": {
      "text/plain": [
       "{'accuracy': 0.852603706972639,\n",
       " 'confusion_matrix': array([[1350,  348],\n",
       "        [ 153, 1548]]),\n",
       " 'kappa': 0.7051773273977491,\n",
       " 'f1': 0.8607172643869891}"
      ]
     },
     "execution_count": 14,
     "metadata": {},
     "output_type": "execute_result"
    }
   ],
   "source": [
    "logistic_results"
   ]
  },
  {
   "cell_type": "code",
   "execution_count": 15,
   "metadata": {},
   "outputs": [
    {
     "data": {
      "text/plain": [
       "[(-4.239130155074375, 'dekad3_0_10'),\n",
       " (-3.983337239529381, 'lon_bucket_id'),\n",
       " (-3.1299099313734904, 'x'),\n",
       " (2.893073174185937, 'dekad3_10_40'),\n",
       " (1.8404532683464463, 'SoilMoi10_40cm_inst_0'),\n",
       " (1.6922197323534907, 'sand_5.15cm_mean'),\n",
       " (1.6255759838539716, 'SoilMoi10_40cm_inst_1'),\n",
       " (1.3699330762259976, 'dekad1_10_40'),\n",
       " (-1.2668391677563189, 'SoilMoi10_40cm_inst_29'),\n",
       " (1.1996034128489994, 'dekad2_10_40')]"
      ]
     },
     "execution_count": 15,
     "metadata": {},
     "output_type": "execute_result"
    }
   ],
   "source": [
    "# Feature importance\n",
    "weights = model.coef_[0].tolist()\n",
    "features = list(zip(weights, data.columns))\n",
    "list(sorted(features, key=lambda x: abs(x[0]), reverse=True))[:10]"
   ]
  },
  {
   "cell_type": "markdown",
   "metadata": {},
   "source": [
    "### XGBoost"
   ]
  },
  {
   "cell_type": "code",
   "execution_count": 16,
   "metadata": {},
   "outputs": [],
   "source": [
    "train_xgb = xgb.DMatrix(train_x, label=train_y)\n",
    "val_xgb = xgb.DMatrix(val_x, label=val_y)\n",
    "# evallist = [(data_tr, 'train'), (data_cv, 'valid')]"
   ]
  },
  {
   "cell_type": "code",
   "execution_count": 17,
   "metadata": {},
   "outputs": [
    {
     "name": "stdout",
     "output_type": "stream",
     "text": [
      "[13:31:08] WARNING: ../src/learner.cc:1095: Starting in XGBoost 1.3.0, the default evaluation metric used with the objective 'binary:logistic' was changed from 'error' to 'logloss'. Explicitly set eval_metric if you'd like to restore the old behavior.\n"
     ]
    }
   ],
   "source": [
    "params = {'max_depth': 2, 'eta': 1, 'objective': 'binary:logistic'}\n",
    "model = xgb.train(params, train_xgb)\n",
    "y_preds = model.predict(val_xgb).round(0)"
   ]
  },
  {
   "cell_type": "code",
   "execution_count": 18,
   "metadata": {},
   "outputs": [
    {
     "name": "stdout",
     "output_type": "stream",
     "text": [
      "              precision    recall  f1-score   support\n",
      "\n",
      "     absence       0.91      0.88      0.90      1698\n",
      "    presence       0.88      0.91      0.90      1701\n",
      "\n",
      "    accuracy                           0.90      3399\n",
      "   macro avg       0.90      0.90      0.90      3399\n",
      "weighted avg       0.90      0.90      0.90      3399\n",
      "\n"
     ]
    }
   ],
   "source": [
    "xgb_results = evaluate(val_y, y_preds)"
   ]
  },
  {
   "cell_type": "code",
   "execution_count": 19,
   "metadata": {},
   "outputs": [
    {
     "data": {
      "text/plain": [
       "{'accuracy': 0.8967343336275375,\n",
       " 'confusion_matrix': array([[1496,  202],\n",
       "        [ 149, 1552]]),\n",
       " 'kappa': 0.7934628214589721,\n",
       " 'f1': 0.8984081041968163}"
      ]
     },
     "execution_count": 19,
     "metadata": {},
     "output_type": "execute_result"
    }
   ],
   "source": [
    "xgb_results"
   ]
  },
  {
   "cell_type": "markdown",
   "metadata": {},
   "source": [
    "#### Feature Importance"
   ]
  },
  {
   "cell_type": "code",
   "execution_count": 20,
   "metadata": {},
   "outputs": [
    {
     "data": {
      "text/plain": [
       "<matplotlib.axes._subplots.AxesSubplot at 0x7f3d5dfc1790>"
      ]
     },
     "execution_count": 20,
     "metadata": {},
     "output_type": "execute_result"
    },
    {
     "data": {
      "image/png": "[encoded data removed]",
      "text/plain": [
       "<Figure size 1080x1080 with 1 Axes>"
      ]
     },
     "metadata": {
      "needs_background": "light"
     },
     "output_type": "display_data"
    }
   ],
   "source": [
    "f,a = plt.subplots(figsize=(15,15))\n",
    "xgb.plot_importance(model, height=0.5, figure=f, ax=a)"
   ]
  },
  {
   "cell_type": "markdown",
   "metadata": {},
   "source": [
    "### Random Forest"
   ]
  },
  {
   "cell_type": "code",
   "execution_count": 21,
   "metadata": {},
   "outputs": [
    {
     "data": {
      "text/plain": [
       "RandomForestClassifier(bootstrap=True, ccp_alpha=0.0, class_weight=None,\n",
       "                       criterion='gini', max_depth=None, max_features='auto',\n",
       "                       max_leaf_nodes=None, max_samples=None,\n",
       "                       min_impurity_decrease=0.0, min_impurity_split=None,\n",
       "                       min_samples_leaf=1, min_samples_split=2,\n",
       "                       min_weight_fraction_leaf=0.0, n_estimators=100,\n",
       "                       n_jobs=None, oob_score=False, random_state=None,\n",
       "                       verbose=0, warm_start=False)"
      ]
     },
     "execution_count": 21,
     "metadata": {},
     "output_type": "execute_result"
    }
   ],
   "source": [
    "model = RandomForestClassifier()\n",
    "model.fit(train_x, train_y)"
   ]
  },
  {
   "cell_type": "code",
   "execution_count": 22,
   "metadata": {},
   "outputs": [],
   "source": [
    "y_preds = model.predict(val_x)\n",
    "y_probs = model.predict_proba(val_x)"
   ]
  },
  {
   "cell_type": "code",
   "execution_count": 23,
   "metadata": {},
   "outputs": [
    {
     "name": "stdout",
     "output_type": "stream",
     "text": [
      "              precision    recall  f1-score   support\n",
      "\n",
      "     absence       0.97      0.95      0.96      1698\n",
      "    presence       0.95      0.97      0.96      1701\n",
      "\n",
      "    accuracy                           0.96      3399\n",
      "   macro avg       0.96      0.96      0.96      3399\n",
      "weighted avg       0.96      0.96      0.96      3399\n",
      "\n"
     ]
    }
   ],
   "source": [
    "rf_results = evaluate(val_y, y_preds)"
   ]
  },
  {
   "cell_type": "code",
   "execution_count": 24,
   "metadata": {},
   "outputs": [
    {
     "data": {
      "text/plain": [
       "{'accuracy': 0.9596940276551927,\n",
       " 'confusion_matrix': array([[1614,   84],\n",
       "        [  53, 1648]]),\n",
       " 'kappa': 0.9193866946836174,\n",
       " 'f1': 0.9600932129332944}"
      ]
     },
     "execution_count": 24,
     "metadata": {},
     "output_type": "execute_result"
    }
   ],
   "source": [
    "rf_results"
   ]
  },
  {
   "cell_type": "markdown",
   "metadata": {},
   "source": [
    "## Interpretation"
   ]
  },
  {
   "cell_type": "code",
   "execution_count": null,
   "metadata": {},
   "outputs": [],
   "source": []
  }
 ],
 "metadata": {
  "kernelspec": {
   "display_name": "Python 3",
   "language": "python",
   "name": "python3"
  },
  "language_info": {
   "codemirror_mode": {
    "name": "ipython",
    "version": 3
   },
   "file_extension": ".py",
   "mimetype": "text/x-python",
   "name": "python",
   "nbconvert_exporter": "python",
   "pygments_lexer": "ipython3",
   "version": "3.8.10"
  }
 },
 "nbformat": 4,
 "nbformat_minor": 4
}
