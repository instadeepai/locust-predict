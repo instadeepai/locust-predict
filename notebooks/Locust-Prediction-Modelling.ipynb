{
 "cells": [
  {
   "cell_type": "markdown",
   "source": [
    "# Locust Prediction Modelling\n",
    "\n",
    "Notes:\n",
    "\n",
    "- `observation_date` is already encoded as `year`, `month`, `day`, separately\n",
    "- The `dekad` variables are used for pseudo-absence generation"
   ],
   "metadata": {}
  },
  {
   "cell_type": "code",
   "execution_count": 1,
   "source": [
    "import pandas as pd\n",
    "import numpy as np\n",
    "import matplotlib.pyplot as plt"
   ],
   "outputs": [],
   "metadata": {}
  },
  {
   "cell_type": "code",
   "execution_count": 2,
   "source": [
    "data_train = pd.read_csv(\"../data/train_val_random.csv\", index_col=0)\n",
    "data_test = pd.read_csv(\"../data/test_random.csv\", index_col=0)\n",
    "data_train.head()"
   ],
   "outputs": [
    {
     "output_type": "execute_result",
     "data": {
      "text/plain": [
       "           x          y  presence  year  month  day  clay_0.5cm_mean  \\\n",
       "0 -13.899444  19.156944         1  2000     11   27         0.199897   \n",
       "1 -13.910278  19.144444         1  2000     11   27         0.200571   \n",
       "2 -13.923056  19.146667         1  2000     11   27         0.200300   \n",
       "3 -12.945833  19.146389         1  2000     11   28         0.201479   \n",
       "4 -12.949722  19.133056         1  2000     11   28         0.202332   \n",
       "\n",
       "   clay_5.15cm_mean  sand_0.5cm_mean  sand_5.15cm_mean  ...  \\\n",
       "0          0.207781         0.587636          0.580589  ...   \n",
       "1          0.208502         0.587100          0.579985  ...   \n",
       "2          0.208099         0.586820          0.579769  ...   \n",
       "3          0.211707         0.580777          0.574105  ...   \n",
       "4          0.212883         0.580030          0.573147  ...   \n",
       "\n",
       "   SoilMoi0_10cm_inst_95  SoilMoi10_40cm_inst_95 SoilTMP0_10cm_inst_95  \\\n",
       "0              21.949375               72.536621            309.327972   \n",
       "1              21.949375               72.536621            309.327972   \n",
       "2              21.949375               72.536621            309.327972   \n",
       "3              21.541126               71.466125            308.702087   \n",
       "4              21.541126               71.466125            308.702087   \n",
       "\n",
       "   SoilTMP10_40cm_inst_95  Tveg_tavg_95  Wind_f_inst_95  Rainf_f_tavg_95  \\\n",
       "0              308.586700           0.0        2.366373              0.0   \n",
       "1              308.586700           0.0        2.366373              0.0   \n",
       "2              308.586700           0.0        2.366373              0.0   \n",
       "3              309.064667           0.0        3.542690              0.0   \n",
       "4              309.064667           0.0        3.542690              0.0   \n",
       "\n",
       "   Tair_f_inst_95  Qair_f_inst_95  Psurf_f_inst_95  \n",
       "0      308.427795        0.006704      98936.21875  \n",
       "1      308.427795        0.006704      98936.21875  \n",
       "2      308.427795        0.006704      98936.21875  \n",
       "3      307.616486        0.010070      99162.62500  \n",
       "4      307.616486        0.010070      99162.62500  \n",
       "\n",
       "[5 rows x 1165 columns]"
      ],
      "text/html": [
       "<div>\n",
       "<style scoped>\n",
       "    .dataframe tbody tr th:only-of-type {\n",
       "        vertical-align: middle;\n",
       "    }\n",
       "\n",
       "    .dataframe tbody tr th {\n",
       "        vertical-align: top;\n",
       "    }\n",
       "\n",
       "    .dataframe thead th {\n",
       "        text-align: right;\n",
       "    }\n",
       "</style>\n",
       "<table border=\"1\" class=\"dataframe\">\n",
       "  <thead>\n",
       "    <tr style=\"text-align: right;\">\n",
       "      <th></th>\n",
       "      <th>x</th>\n",
       "      <th>y</th>\n",
       "      <th>presence</th>\n",
       "      <th>year</th>\n",
       "      <th>month</th>\n",
       "      <th>day</th>\n",
       "      <th>clay_0.5cm_mean</th>\n",
       "      <th>clay_5.15cm_mean</th>\n",
       "      <th>sand_0.5cm_mean</th>\n",
       "      <th>sand_5.15cm_mean</th>\n",
       "      <th>...</th>\n",
       "      <th>SoilMoi0_10cm_inst_95</th>\n",
       "      <th>SoilMoi10_40cm_inst_95</th>\n",
       "      <th>SoilTMP0_10cm_inst_95</th>\n",
       "      <th>SoilTMP10_40cm_inst_95</th>\n",
       "      <th>Tveg_tavg_95</th>\n",
       "      <th>Wind_f_inst_95</th>\n",
       "      <th>Rainf_f_tavg_95</th>\n",
       "      <th>Tair_f_inst_95</th>\n",
       "      <th>Qair_f_inst_95</th>\n",
       "      <th>Psurf_f_inst_95</th>\n",
       "    </tr>\n",
       "  </thead>\n",
       "  <tbody>\n",
       "    <tr>\n",
       "      <th>0</th>\n",
       "      <td>-13.899444</td>\n",
       "      <td>19.156944</td>\n",
       "      <td>1</td>\n",
       "      <td>2000</td>\n",
       "      <td>11</td>\n",
       "      <td>27</td>\n",
       "      <td>0.199897</td>\n",
       "      <td>0.207781</td>\n",
       "      <td>0.587636</td>\n",
       "      <td>0.580589</td>\n",
       "      <td>...</td>\n",
       "      <td>21.949375</td>\n",
       "      <td>72.536621</td>\n",
       "      <td>309.327972</td>\n",
       "      <td>308.586700</td>\n",
       "      <td>0.0</td>\n",
       "      <td>2.366373</td>\n",
       "      <td>0.0</td>\n",
       "      <td>308.427795</td>\n",
       "      <td>0.006704</td>\n",
       "      <td>98936.21875</td>\n",
       "    </tr>\n",
       "    <tr>\n",
       "      <th>1</th>\n",
       "      <td>-13.910278</td>\n",
       "      <td>19.144444</td>\n",
       "      <td>1</td>\n",
       "      <td>2000</td>\n",
       "      <td>11</td>\n",
       "      <td>27</td>\n",
       "      <td>0.200571</td>\n",
       "      <td>0.208502</td>\n",
       "      <td>0.587100</td>\n",
       "      <td>0.579985</td>\n",
       "      <td>...</td>\n",
       "      <td>21.949375</td>\n",
       "      <td>72.536621</td>\n",
       "      <td>309.327972</td>\n",
       "      <td>308.586700</td>\n",
       "      <td>0.0</td>\n",
       "      <td>2.366373</td>\n",
       "      <td>0.0</td>\n",
       "      <td>308.427795</td>\n",
       "      <td>0.006704</td>\n",
       "      <td>98936.21875</td>\n",
       "    </tr>\n",
       "    <tr>\n",
       "      <th>2</th>\n",
       "      <td>-13.923056</td>\n",
       "      <td>19.146667</td>\n",
       "      <td>1</td>\n",
       "      <td>2000</td>\n",
       "      <td>11</td>\n",
       "      <td>27</td>\n",
       "      <td>0.200300</td>\n",
       "      <td>0.208099</td>\n",
       "      <td>0.586820</td>\n",
       "      <td>0.579769</td>\n",
       "      <td>...</td>\n",
       "      <td>21.949375</td>\n",
       "      <td>72.536621</td>\n",
       "      <td>309.327972</td>\n",
       "      <td>308.586700</td>\n",
       "      <td>0.0</td>\n",
       "      <td>2.366373</td>\n",
       "      <td>0.0</td>\n",
       "      <td>308.427795</td>\n",
       "      <td>0.006704</td>\n",
       "      <td>98936.21875</td>\n",
       "    </tr>\n",
       "    <tr>\n",
       "      <th>3</th>\n",
       "      <td>-12.945833</td>\n",
       "      <td>19.146389</td>\n",
       "      <td>1</td>\n",
       "      <td>2000</td>\n",
       "      <td>11</td>\n",
       "      <td>28</td>\n",
       "      <td>0.201479</td>\n",
       "      <td>0.211707</td>\n",
       "      <td>0.580777</td>\n",
       "      <td>0.574105</td>\n",
       "      <td>...</td>\n",
       "      <td>21.541126</td>\n",
       "      <td>71.466125</td>\n",
       "      <td>308.702087</td>\n",
       "      <td>309.064667</td>\n",
       "      <td>0.0</td>\n",
       "      <td>3.542690</td>\n",
       "      <td>0.0</td>\n",
       "      <td>307.616486</td>\n",
       "      <td>0.010070</td>\n",
       "      <td>99162.62500</td>\n",
       "    </tr>\n",
       "    <tr>\n",
       "      <th>4</th>\n",
       "      <td>-12.949722</td>\n",
       "      <td>19.133056</td>\n",
       "      <td>1</td>\n",
       "      <td>2000</td>\n",
       "      <td>11</td>\n",
       "      <td>28</td>\n",
       "      <td>0.202332</td>\n",
       "      <td>0.212883</td>\n",
       "      <td>0.580030</td>\n",
       "      <td>0.573147</td>\n",
       "      <td>...</td>\n",
       "      <td>21.541126</td>\n",
       "      <td>71.466125</td>\n",
       "      <td>308.702087</td>\n",
       "      <td>309.064667</td>\n",
       "      <td>0.0</td>\n",
       "      <td>3.542690</td>\n",
       "      <td>0.0</td>\n",
       "      <td>307.616486</td>\n",
       "      <td>0.010070</td>\n",
       "      <td>99162.62500</td>\n",
       "    </tr>\n",
       "  </tbody>\n",
       "</table>\n",
       "<p>5 rows × 1165 columns</p>\n",
       "</div>"
      ]
     },
     "metadata": {},
     "execution_count": 2
    }
   ],
   "metadata": {}
  },
  {
   "cell_type": "code",
   "execution_count": 3,
   "source": [
    "# assert len(data_train.drop(columns=\"presence\").columns), len(data_test.columns)\n",
    "missing_in_train = [n for n in data_test.columns if n not in data_train.columns]\n",
    "missing_in_test = [n for n in data_train.columns if n not in data_test.columns]\n",
    "\n",
    "print(f\"Train missing {len(missing_in_train)} columns\")\n",
    "print(f\"Test missing {len(missing_in_test)} columns\")\n",
    "\n",
    "data_test = data_test.drop(columns=missing_in_train)\n",
    "data_train = data_train.drop(columns=missing_in_test)"
   ],
   "outputs": [
    {
     "output_type": "stream",
     "name": "stdout",
     "text": [
      "Train missing 0 columns\n",
      "Test missing 0 columns\n"
     ]
    }
   ],
   "metadata": {}
  },
  {
   "cell_type": "code",
   "execution_count": 4,
   "source": [
    "cats = data_train.select_dtypes(np.integer).columns.tolist()\n",
    "objects = data_train.select_dtypes(np.object).columns.tolist()\n",
    "floats = data_train.select_dtypes(np.float).columns.tolist()\n",
    "assert len(cats) + len(objects) + len(floats) == len(data_train.columns)\n",
    "\n",
    "print(\"Objects:\", objects)\n",
    "print(\"Categoricals:\", cats)\n",
    "print(\"Floats:\", floats[:10])"
   ],
   "outputs": [
    {
     "output_type": "stream",
     "name": "stdout",
     "text": [
      "Objects: ['observation_date']\n",
      "Categoricals: ['presence', 'year', 'month', 'day']\n",
      "Floats: ['x', 'y', 'clay_0.5cm_mean', 'clay_5.15cm_mean', 'sand_0.5cm_mean', 'sand_5.15cm_mean', 'silt_0.5cm_mean', 'silt_5.15cm_mean', 'AvgSurfT_inst_0', 'Albedo_inst_0']\n"
     ]
    }
   ],
   "metadata": {}
  },
  {
   "cell_type": "code",
   "execution_count": 5,
   "source": [
    "data_train.info(verbose=False)"
   ],
   "outputs": [
    {
     "output_type": "stream",
     "name": "stdout",
     "text": [
      "<class 'pandas.core.frame.DataFrame'>\n",
      "Int64Index: 22102 entries, 0 to 22101\n",
      "Columns: 1165 entries, x to Psurf_f_inst_95\n",
      "dtypes: float64(1160), int64(4), object(1)\n",
      "memory usage: 196.6+ MB\n"
     ]
    }
   ],
   "metadata": {}
  },
  {
   "cell_type": "code",
   "execution_count": 6,
   "source": [
    "# Check for NAN values\n",
    "nans = data_train.isnull().sum()\n",
    "# [(k,v,d) for k,v,d in zip(nans.keys(), nans.values, data_train.dtypes) if v>0]"
   ],
   "outputs": [],
   "metadata": {}
  },
  {
   "cell_type": "code",
   "execution_count": 7,
   "source": [
    "# Fill NAN values with median\n",
    "# for col in data_train.columns:\n",
    "#     n_train_nans = pd.isnull(data_train[col]).sum()\n",
    "#     n_test_nans = pd.isnull(data_test[col]).sum()\n",
    "#     if data_train[col].dtype == np.float:\n",
    "#         m = data_train[col].median()\n",
    "#         if n_train_nans:\n",
    "#             data_train[col] = data_train[col].fillna(m)\n",
    "#         if n_test_nans:\n",
    "#             data_test[col] = data_test[col].fillna(m)\n",
    "\n",
    "data_train.dropna(inplace=True)\n",
    "data_test.dropna(inplace=True)\n",
    "\n",
    "assert not data_train.isnull().sum().sum()\n",
    "assert not data_test.isnull().sum().sum()"
   ],
   "outputs": [],
   "metadata": {}
  },
  {
   "cell_type": "code",
   "execution_count": 8,
   "source": [
    "non_temporal_columns = ['sand_0.5cm_mean', 'sand_5.15cm_mean']\n",
    "temporal_variables = [\n",
    "    'AvgSurfT_inst', \n",
    "    # 'Albedo_inst', \n",
    "    'SoilMoi0_10cm_inst', \n",
    "    'SoilMoi10_40cm_inst', \n",
    "    'SoilTMP0_10cm_inst', \n",
    "    'SoilTMP10_40cm_inst', \n",
    "    'Tveg_tavg', \n",
    "    'Wind_f_inst', \n",
    "    'Rainf_f_tavg', \n",
    "    'Tair_f_inst',\n",
    "    'Qair_f_inst', \n",
    "    'Psurf_f_inst'\n",
    "]\n",
    "\n",
    "def grouplen(sequence, chunk_size):\n",
    "    return list(zip(*[iter(sequence)] * chunk_size))\n",
    "\n",
    "def preprocess_data(data, days=6, drop_true_absence=True):\n",
    "    \"\"\"Bucketize temporal columns\"\"\"\n",
    "    if drop_true_absence:\n",
    "        data = data[data['presence'] != 2]\n",
    "    dfs = []\n",
    "    for temp_variable in temporal_variables:\n",
    "        chunks = grouplen([col for col in data.columns if temp_variable in col], days)\n",
    "        agg_list = list(map(lambda x: data[list(x)].min(axis=1), chunks))\n",
    "        df = pd.concat(agg_list, axis=1)\n",
    "        df.columns = [f\"{temp_variable}_bucket_{i}\" for i in range(1, df.shape[1]+1)]\n",
    "        dfs.append(df)\n",
    "    dfs.append(data[non_temporal_columns])\n",
    "    return pd.concat(dfs, axis=1), data['presence']"
   ],
   "outputs": [],
   "metadata": {}
  },
  {
   "cell_type": "code",
   "execution_count": 9,
   "source": [
    "# drops = [\"observation_date\", \"date\", \"Unnamed: 0.1\", \"presence\"]\n",
    "\n",
    "# def process_targets(data):\n",
    "#     target = data.presence.copy()\n",
    "#     data = data.drop(columns=drops)\n",
    "#     counts = list(zip(*np.unique(target, return_counts=True)))\n",
    "#     print(\"Counts:\", counts)\n",
    "    \n",
    "#     # merge pseudo-absence and true absence\n",
    "#     target.loc[target == 2] = 0\n",
    "#     return data, target"
   ],
   "outputs": [],
   "metadata": {}
  },
  {
   "cell_type": "code",
   "execution_count": 10,
   "source": [
    "data_train, train_target = preprocess_data(data_train)\n",
    "data_test, test_target = preprocess_data(data_test)\n",
    "\n",
    "print(f\"Train features: {data_train.shape}, Train labels: {train_target.shape}\")\n",
    "print(f\"Test features: {data_test.shape}, Test labels: {test_target.shape}\")"
   ],
   "outputs": [
    {
     "output_type": "stream",
     "name": "stdout",
     "text": [
      "Train features: (21939, 178), Train labels: (21939,)\n",
      "Test features: (3253, 178), Test labels: (3253,)\n"
     ]
    }
   ],
   "metadata": {}
  },
  {
   "cell_type": "markdown",
   "source": [
    "## Modelling"
   ],
   "metadata": {}
  },
  {
   "cell_type": "code",
   "execution_count": 11,
   "source": [
    "from sklearn.model_selection import train_test_split\n",
    "from sklearn import preprocessing, metrics\n",
    "from sklearn.ensemble import RandomForestClassifier\n",
    "from sklearn.linear_model import LogisticRegression\n",
    "import xgboost as xgb"
   ],
   "outputs": [],
   "metadata": {}
  },
  {
   "cell_type": "code",
   "execution_count": 12,
   "source": [
    "def evaluate(trues, preds):\n",
    "    labels = ['absence', 'presence']\n",
    "    results = {}\n",
    "    results['accuracy'] = metrics.accuracy_score(trues, preds)\n",
    "    results['confusion_matrix'] = metrics.confusion_matrix(trues, preds)\n",
    "    results['kappa'] = metrics.cohen_kappa_score(trues, preds)\n",
    "    results['f1'] = metrics.f1_score(trues, preds)\n",
    "    \n",
    "    print(metrics.classification_report(trues, preds, target_names=labels))\n",
    "    return results"
   ],
   "outputs": [],
   "metadata": {}
  },
  {
   "cell_type": "code",
   "execution_count": 13,
   "source": [
    "# Probably should split data sooner\n",
    "seed = 111\n",
    "train_x, val_x, train_y, val_y = train_test_split(\n",
    "    data_train, train_target, test_size=0.2, random_state=seed)"
   ],
   "outputs": [],
   "metadata": {}
  },
  {
   "cell_type": "markdown",
   "source": [
    "## Logistic Regression"
   ],
   "metadata": {}
  },
  {
   "cell_type": "code",
   "execution_count": 14,
   "source": [
    "# Scale the dataset\n",
    "scaler = preprocessing.MinMaxScaler()\n",
    "train_x_scaled = scaler.fit_transform(train_x)\n",
    "val_x_scaled = scaler.transform(val_x)\n",
    "test_x_scaled = scaler.transform(data_test)"
   ],
   "outputs": [],
   "metadata": {}
  },
  {
   "cell_type": "code",
   "execution_count": 15,
   "source": [
    "model = LogisticRegression()\n",
    "model.fit(train_x_scaled, train_y);"
   ],
   "outputs": [
    {
     "output_type": "stream",
     "name": "stderr",
     "text": [
      "/opt/anaconda3/lib/python3.8/site-packages/sklearn/linear_model/_logistic.py:762: ConvergenceWarning: lbfgs failed to converge (status=1):\n",
      "STOP: TOTAL NO. of ITERATIONS REACHED LIMIT.\n",
      "\n",
      "Increase the number of iterations (max_iter) or scale the data as shown in:\n",
      "    https://scikit-learn.org/stable/modules/preprocessing.html\n",
      "Please also refer to the documentation for alternative solver options:\n",
      "    https://scikit-learn.org/stable/modules/linear_model.html#logistic-regression\n",
      "  n_iter_i = _check_optimize_result(\n"
     ]
    }
   ],
   "metadata": {}
  },
  {
   "cell_type": "code",
   "execution_count": 16,
   "source": [
    "y_preds = model.predict(val_x_scaled)\n",
    "logistic_val_results = evaluate(val_y, y_preds)"
   ],
   "outputs": [
    {
     "output_type": "stream",
     "name": "stdout",
     "text": [
      "              precision    recall  f1-score   support\n",
      "\n",
      "     absence       0.69      0.64      0.66      2203\n",
      "    presence       0.66      0.70      0.68      2185\n",
      "\n",
      "    accuracy                           0.67      4388\n",
      "   macro avg       0.67      0.67      0.67      4388\n",
      "weighted avg       0.67      0.67      0.67      4388\n",
      "\n"
     ]
    }
   ],
   "metadata": {}
  },
  {
   "cell_type": "code",
   "execution_count": 17,
   "source": [
    "y_preds = model.predict(test_x_scaled)\n",
    "logistic_test_results = evaluate(test_target, y_preds)"
   ],
   "outputs": [
    {
     "output_type": "stream",
     "name": "stdout",
     "text": [
      "              precision    recall  f1-score   support\n",
      "\n",
      "     absence       0.64      0.66      0.65      1622\n",
      "    presence       0.65      0.62      0.64      1631\n",
      "\n",
      "    accuracy                           0.64      3253\n",
      "   macro avg       0.64      0.64      0.64      3253\n",
      "weighted avg       0.64      0.64      0.64      3253\n",
      "\n"
     ]
    }
   ],
   "metadata": {}
  },
  {
   "cell_type": "code",
   "execution_count": 18,
   "source": [
    "# Feature importance\n",
    "weights = model.coef_[0].tolist()\n",
    "features = list(zip(weights, data_train.columns))\n",
    "list(sorted(features, key=lambda x: abs(x[0]), reverse=True))[:10]"
   ],
   "outputs": [
    {
     "output_type": "execute_result",
     "data": {
      "text/plain": [
       "[(-3.081228319849832, 'Tair_f_inst_bucket_1'),\n",
       " (-2.606354029877095, 'SoilMoi10_40cm_inst_bucket_15'),\n",
       " (-2.4109677379062577, 'Tveg_tavg_bucket_11'),\n",
       " (-2.4003722845895674, 'Tair_f_inst_bucket_15'),\n",
       " (-2.2968336448680247, 'SoilMoi10_40cm_inst_bucket_16'),\n",
       " (-2.2567275910271283, 'Tair_f_inst_bucket_13'),\n",
       " (-2.1484228174758027, 'Tair_f_inst_bucket_2'),\n",
       " (1.950515639157716, 'SoilMoi0_10cm_inst_bucket_2'),\n",
       " (1.8720371714819257, 'sand_0.5cm_mean'),\n",
       " (-1.8266625791668452, 'Tair_f_inst_bucket_3')]"
      ]
     },
     "metadata": {},
     "execution_count": 18
    }
   ],
   "metadata": {}
  },
  {
   "cell_type": "markdown",
   "source": [
    "### XGBoost"
   ],
   "metadata": {}
  },
  {
   "cell_type": "code",
   "execution_count": 19,
   "source": [
    "train_xgb = xgb.DMatrix(train_x, label=train_y)\n",
    "val_xgb = xgb.DMatrix(val_x, label=val_y)\n",
    "test_xgb = xgb.DMatrix(data_test)"
   ],
   "outputs": [],
   "metadata": {}
  },
  {
   "cell_type": "code",
   "execution_count": 20,
   "source": [
    "params = {'max_depth': 2, 'eta': 1, 'objective': 'binary:logistic'}\n",
    "model = xgb.train(params, train_xgb)\n",
    "y_preds = model.predict(val_xgb).round(0)\n",
    "xgb_val_results = evaluate(val_y, y_preds)"
   ],
   "outputs": [
    {
     "output_type": "stream",
     "name": "stdout",
     "text": [
      "[11:55:58] WARNING: /opt/concourse/worker/volumes/live/7a2b9f41-3287-451b-6691-43e9a6c0910f/volume/xgboost-split_1619728204606/work/src/learner.cc:1061: Starting in XGBoost 1.3.0, the default evaluation metric used with the objective 'binary:logistic' was changed from 'error' to 'logloss'. Explicitly set eval_metric if you'd like to restore the old behavior.\n",
      "              precision    recall  f1-score   support\n",
      "\n",
      "     absence       0.76      0.71      0.74      2203\n",
      "    presence       0.73      0.77      0.75      2185\n",
      "\n",
      "    accuracy                           0.74      4388\n",
      "   macro avg       0.75      0.74      0.74      4388\n",
      "weighted avg       0.75      0.74      0.74      4388\n",
      "\n"
     ]
    }
   ],
   "metadata": {}
  },
  {
   "cell_type": "code",
   "execution_count": 21,
   "source": [
    "y_preds = model.predict(test_xgb).round(0)\n",
    "xgb_test_results = evaluate(test_target, y_preds)"
   ],
   "outputs": [
    {
     "output_type": "stream",
     "name": "stdout",
     "text": [
      "              precision    recall  f1-score   support\n",
      "\n",
      "     absence       0.64      0.63      0.63      1622\n",
      "    presence       0.64      0.65      0.64      1631\n",
      "\n",
      "    accuracy                           0.64      3253\n",
      "   macro avg       0.64      0.64      0.64      3253\n",
      "weighted avg       0.64      0.64      0.64      3253\n",
      "\n"
     ]
    }
   ],
   "metadata": {}
  },
  {
   "cell_type": "markdown",
   "source": [
    "#### Feature Importance"
   ],
   "metadata": {}
  },
  {
   "cell_type": "code",
   "execution_count": 22,
   "source": [
    "f,a = plt.subplots(figsize=(12,12))\n",
    "xgb.plot_importance(model, height=0.5, figure=f, ax=a);"
   ],
   "outputs": [
    {
     "output_type": "display_data",
     "data": {
      "text/plain": [
       "<Figure size 864x864 with 1 Axes>"
      ],
      "image/svg+xml": "<?xml version=\"1.0\" encoding=\"utf-8\" standalone=\"no\"?>\n<!DOCTYPE svg PUBLIC \"-//W3C//DTD SVG 1.1//EN\"\n  \"http://www.w3.org/Graphics/SVG/1.1/DTD/svg11.dtd\">\n<!-- Created with matplotlib (https://matplotlib.org/) -->\n<svg height=\"712.194375pt\" version=\"1.1\" viewBox=\"0 0 966.484091 712.194375\" width=\"966.484091pt\" xmlns=\"http://www.w3.org/2000/svg\" xmlns:xlink=\"http://www.w3.org/1999/xlink\">\n <metadata>\n  <rdf:RDF xmlns:cc=\"http://creativecommons.org/ns#\" xmlns:dc=\"http://purl.org/dc/elements/1.1/\" xmlns:rdf=\"http://www.w3.org/1999/02/22-rdf-syntax-ns#\">\n   <cc:Work>\n    <dc:type rdf:resource=\"http://purl.org/dc/dcmitype/StillImage\"/>\n    <dc:date>2021-09-22T11:55:58.942897</dc:date>\n    <dc:format>image/svg+xml</dc:format>\n    <dc:creator>\n     <cc:Agent>\n      <dc:title>Matplotlib v3.3.2, https://matplotlib.org/</dc:title>\n     </cc:Agent>\n    </dc:creator>\n   </cc:Work>\n  </rdf:RDF>\n </metadata>\n <defs>\n  <style type=\"text/css\">*{stroke-linecap:butt;stroke-linejoin:round;}</style>\n </defs>\n <g id=\"figure_1\">\n  <g id=\"patch_1\">\n   <path d=\"M 0 712.194375 \nL 966.484091 712.194375 \nL 966.484091 0 \nL 0 0 \nz\n\" style=\"fill:none;\"/>\n  </g>\n  <g id=\"axes_1\">\n   <g id=\"patch_2\">\n    <path d=\"M 192.0125 674.638125 \nL 861.6125 674.638125 \nL 861.6125 22.318125 \nL 192.0125 22.318125 \nz\n\" style=\"fill:#ffffff;\"/>\n   </g>\n   <g id=\"patch_3\">\n    <path clip-path=\"url(#p5bdb625ffe)\" d=\"M 192.0125 654.253125 \nL 344.194318 654.253125 \nL 344.194318 640.663125 \nL 192.0125 640.663125 \nz\n\" style=\"fill:#1f77b4;\"/>\n   </g>\n   <g id=\"patch_4\">\n    <path clip-path=\"url(#p5bdb625ffe)\" d=\"M 192.0125 627.073125 \nL 344.194318 627.073125 \nL 344.194318 613.483125 \nL 192.0125 613.483125 \nz\n\" style=\"fill:#1f77b4;\"/>\n   </g>\n   <g id=\"patch_5\">\n    <path clip-path=\"url(#p5bdb625ffe)\" d=\"M 192.0125 599.893125 \nL 344.194318 599.893125 \nL 344.194318 586.303125 \nL 192.0125 586.303125 \nz\n\" style=\"fill:#1f77b4;\"/>\n   </g>\n   <g id=\"patch_6\">\n    <path clip-path=\"url(#p5bdb625ffe)\" d=\"M 192.0125 572.713125 \nL 344.194318 572.713125 \nL 344.194318 559.123125 \nL 192.0125 559.123125 \nz\n\" style=\"fill:#1f77b4;\"/>\n   </g>\n   <g id=\"patch_7\">\n    <path clip-path=\"url(#p5bdb625ffe)\" d=\"M 192.0125 545.533125 \nL 344.194318 545.533125 \nL 344.194318 531.943125 \nL 192.0125 531.943125 \nz\n\" style=\"fill:#1f77b4;\"/>\n   </g>\n   <g id=\"patch_8\">\n    <path clip-path=\"url(#p5bdb625ffe)\" d=\"M 192.0125 518.353125 \nL 344.194318 518.353125 \nL 344.194318 504.763125 \nL 192.0125 504.763125 \nz\n\" style=\"fill:#1f77b4;\"/>\n   </g>\n   <g id=\"patch_9\">\n    <path clip-path=\"url(#p5bdb625ffe)\" d=\"M 192.0125 491.173125 \nL 344.194318 491.173125 \nL 344.194318 477.583125 \nL 192.0125 477.583125 \nz\n\" style=\"fill:#1f77b4;\"/>\n   </g>\n   <g id=\"patch_10\">\n    <path clip-path=\"url(#p5bdb625ffe)\" d=\"M 192.0125 463.993125 \nL 344.194318 463.993125 \nL 344.194318 450.403125 \nL 192.0125 450.403125 \nz\n\" style=\"fill:#1f77b4;\"/>\n   </g>\n   <g id=\"patch_11\">\n    <path clip-path=\"url(#p5bdb625ffe)\" d=\"M 192.0125 436.813125 \nL 344.194318 436.813125 \nL 344.194318 423.223125 \nL 192.0125 423.223125 \nz\n\" style=\"fill:#1f77b4;\"/>\n   </g>\n   <g id=\"patch_12\">\n    <path clip-path=\"url(#p5bdb625ffe)\" d=\"M 192.0125 409.633125 \nL 344.194318 409.633125 \nL 344.194318 396.043125 \nL 192.0125 396.043125 \nz\n\" style=\"fill:#1f77b4;\"/>\n   </g>\n   <g id=\"patch_13\">\n    <path clip-path=\"url(#p5bdb625ffe)\" d=\"M 192.0125 382.453125 \nL 344.194318 382.453125 \nL 344.194318 368.863125 \nL 192.0125 368.863125 \nz\n\" style=\"fill:#1f77b4;\"/>\n   </g>\n   <g id=\"patch_14\">\n    <path clip-path=\"url(#p5bdb625ffe)\" d=\"M 192.0125 355.273125 \nL 344.194318 355.273125 \nL 344.194318 341.683125 \nL 192.0125 341.683125 \nz\n\" style=\"fill:#1f77b4;\"/>\n   </g>\n   <g id=\"patch_15\">\n    <path clip-path=\"url(#p5bdb625ffe)\" d=\"M 192.0125 328.093125 \nL 344.194318 328.093125 \nL 344.194318 314.503125 \nL 192.0125 314.503125 \nz\n\" style=\"fill:#1f77b4;\"/>\n   </g>\n   <g id=\"patch_16\">\n    <path clip-path=\"url(#p5bdb625ffe)\" d=\"M 192.0125 300.913125 \nL 344.194318 300.913125 \nL 344.194318 287.323125 \nL 192.0125 287.323125 \nz\n\" style=\"fill:#1f77b4;\"/>\n   </g>\n   <g id=\"patch_17\">\n    <path clip-path=\"url(#p5bdb625ffe)\" d=\"M 192.0125 273.733125 \nL 344.194318 273.733125 \nL 344.194318 260.143125 \nL 192.0125 260.143125 \nz\n\" style=\"fill:#1f77b4;\"/>\n   </g>\n   <g id=\"patch_18\">\n    <path clip-path=\"url(#p5bdb625ffe)\" d=\"M 192.0125 246.553125 \nL 344.194318 246.553125 \nL 344.194318 232.963125 \nL 192.0125 232.963125 \nz\n\" style=\"fill:#1f77b4;\"/>\n   </g>\n   <g id=\"patch_19\">\n    <path clip-path=\"url(#p5bdb625ffe)\" d=\"M 192.0125 219.373125 \nL 344.194318 219.373125 \nL 344.194318 205.783125 \nL 192.0125 205.783125 \nz\n\" style=\"fill:#1f77b4;\"/>\n   </g>\n   <g id=\"patch_20\">\n    <path clip-path=\"url(#p5bdb625ffe)\" d=\"M 192.0125 192.193125 \nL 344.194318 192.193125 \nL 344.194318 178.603125 \nL 192.0125 178.603125 \nz\n\" style=\"fill:#1f77b4;\"/>\n   </g>\n   <g id=\"patch_21\">\n    <path clip-path=\"url(#p5bdb625ffe)\" d=\"M 192.0125 165.013125 \nL 344.194318 165.013125 \nL 344.194318 151.423125 \nL 192.0125 151.423125 \nz\n\" style=\"fill:#1f77b4;\"/>\n   </g>\n   <g id=\"patch_22\">\n    <path clip-path=\"url(#p5bdb625ffe)\" d=\"M 192.0125 137.833125 \nL 496.376136 137.833125 \nL 496.376136 124.243125 \nL 192.0125 124.243125 \nz\n\" style=\"fill:#1f77b4;\"/>\n   </g>\n   <g id=\"patch_23\">\n    <path clip-path=\"url(#p5bdb625ffe)\" d=\"M 192.0125 110.653125 \nL 496.376136 110.653125 \nL 496.376136 97.063125 \nL 192.0125 97.063125 \nz\n\" style=\"fill:#1f77b4;\"/>\n   </g>\n   <g id=\"patch_24\">\n    <path clip-path=\"url(#p5bdb625ffe)\" d=\"M 192.0125 83.473125 \nL 648.557955 83.473125 \nL 648.557955 69.883125 \nL 192.0125 69.883125 \nz\n\" style=\"fill:#1f77b4;\"/>\n   </g>\n   <g id=\"patch_25\">\n    <path clip-path=\"url(#p5bdb625ffe)\" d=\"M 192.0125 56.293125 \nL 800.739773 56.293125 \nL 800.739773 42.703125 \nL 192.0125 42.703125 \nz\n\" style=\"fill:#1f77b4;\"/>\n   </g>\n   <g id=\"matplotlib.axis_1\">\n    <g id=\"xtick_1\">\n     <g id=\"line2d_1\">\n      <path clip-path=\"url(#p5bdb625ffe)\" d=\"M 192.0125 674.638125 \nL 192.0125 22.318125 \n\" style=\"fill:none;stroke:#b0b0b0;stroke-linecap:square;stroke-width:0.8;\"/>\n     </g>\n     <g id=\"line2d_2\">\n      <defs>\n       <path d=\"M 0 0 \nL 0 3.5 \n\" id=\"mc88cb3af5f\" style=\"stroke:#000000;stroke-width:0.8;\"/>\n      </defs>\n      <g>\n       <use style=\"stroke:#000000;stroke-width:0.8;\" x=\"192.0125\" xlink:href=\"#mc88cb3af5f\" y=\"674.638125\"/>\n      </g>\n     </g>\n     <g id=\"text_1\">\n      <!-- 0.0 -->\n      <g transform=\"translate(184.060938 689.236562)scale(0.1 -0.1)\">\n       <defs>\n        <path d=\"M 31.78125 66.40625 \nQ 24.171875 66.40625 20.328125 58.90625 \nQ 16.5 51.421875 16.5 36.375 \nQ 16.5 21.390625 20.328125 13.890625 \nQ 24.171875 6.390625 31.78125 6.390625 \nQ 39.453125 6.390625 43.28125 13.890625 \nQ 47.125 21.390625 47.125 36.375 \nQ 47.125 51.421875 43.28125 58.90625 \nQ 39.453125 66.40625 31.78125 66.40625 \nz\nM 31.78125 74.21875 \nQ 44.046875 74.21875 50.515625 64.515625 \nQ 56.984375 54.828125 56.984375 36.375 \nQ 56.984375 17.96875 50.515625 8.265625 \nQ 44.046875 -1.421875 31.78125 -1.421875 \nQ 19.53125 -1.421875 13.0625 8.265625 \nQ 6.59375 17.96875 6.59375 36.375 \nQ 6.59375 54.828125 13.0625 64.515625 \nQ 19.53125 74.21875 31.78125 74.21875 \nz\n\" id=\"DejaVuSans-48\"/>\n        <path d=\"M 10.6875 12.40625 \nL 21 12.40625 \nL 21 0 \nL 10.6875 0 \nz\n\" id=\"DejaVuSans-46\"/>\n       </defs>\n       <use xlink:href=\"#DejaVuSans-48\"/>\n       <use x=\"63.623047\" xlink:href=\"#DejaVuSans-46\"/>\n       <use x=\"95.410156\" xlink:href=\"#DejaVuSans-48\"/>\n      </g>\n     </g>\n    </g>\n    <g id=\"xtick_2\">\n     <g id=\"line2d_3\">\n      <path clip-path=\"url(#p5bdb625ffe)\" d=\"M 268.103409 674.638125 \nL 268.103409 22.318125 \n\" style=\"fill:none;stroke:#b0b0b0;stroke-linecap:square;stroke-width:0.8;\"/>\n     </g>\n     <g id=\"line2d_4\">\n      <g>\n       <use style=\"stroke:#000000;stroke-width:0.8;\" x=\"268.103409\" xlink:href=\"#mc88cb3af5f\" y=\"674.638125\"/>\n      </g>\n     </g>\n     <g id=\"text_2\">\n      <!-- 0.5 -->\n      <g transform=\"translate(260.151847 689.236562)scale(0.1 -0.1)\">\n       <defs>\n        <path d=\"M 10.796875 72.90625 \nL 49.515625 72.90625 \nL 49.515625 64.59375 \nL 19.828125 64.59375 \nL 19.828125 46.734375 \nQ 21.96875 47.46875 24.109375 47.828125 \nQ 26.265625 48.1875 28.421875 48.1875 \nQ 40.625 48.1875 47.75 41.5 \nQ 54.890625 34.8125 54.890625 23.390625 \nQ 54.890625 11.625 47.5625 5.09375 \nQ 40.234375 -1.421875 26.90625 -1.421875 \nQ 22.3125 -1.421875 17.546875 -0.640625 \nQ 12.796875 0.140625 7.71875 1.703125 \nL 7.71875 11.625 \nQ 12.109375 9.234375 16.796875 8.0625 \nQ 21.484375 6.890625 26.703125 6.890625 \nQ 35.15625 6.890625 40.078125 11.328125 \nQ 45.015625 15.765625 45.015625 23.390625 \nQ 45.015625 31 40.078125 35.4375 \nQ 35.15625 39.890625 26.703125 39.890625 \nQ 22.75 39.890625 18.8125 39.015625 \nQ 14.890625 38.140625 10.796875 36.28125 \nz\n\" id=\"DejaVuSans-53\"/>\n       </defs>\n       <use xlink:href=\"#DejaVuSans-48\"/>\n       <use x=\"63.623047\" xlink:href=\"#DejaVuSans-46\"/>\n       <use x=\"95.410156\" xlink:href=\"#DejaVuSans-53\"/>\n      </g>\n     </g>\n    </g>\n    <g id=\"xtick_3\">\n     <g id=\"line2d_5\">\n      <path clip-path=\"url(#p5bdb625ffe)\" d=\"M 344.194318 674.638125 \nL 344.194318 22.318125 \n\" style=\"fill:none;stroke:#b0b0b0;stroke-linecap:square;stroke-width:0.8;\"/>\n     </g>\n     <g id=\"line2d_6\">\n      <g>\n       <use style=\"stroke:#000000;stroke-width:0.8;\" x=\"344.194318\" xlink:href=\"#mc88cb3af5f\" y=\"674.638125\"/>\n      </g>\n     </g>\n     <g id=\"text_3\">\n      <!-- 1.0 -->\n      <g transform=\"translate(336.242756 689.236562)scale(0.1 -0.1)\">\n       <defs>\n        <path d=\"M 12.40625 8.296875 \nL 28.515625 8.296875 \nL 28.515625 63.921875 \nL 10.984375 60.40625 \nL 10.984375 69.390625 \nL 28.421875 72.90625 \nL 38.28125 72.90625 \nL 38.28125 8.296875 \nL 54.390625 8.296875 \nL 54.390625 0 \nL 12.40625 0 \nz\n\" id=\"DejaVuSans-49\"/>\n       </defs>\n       <use xlink:href=\"#DejaVuSans-49\"/>\n       <use x=\"63.623047\" xlink:href=\"#DejaVuSans-46\"/>\n       <use x=\"95.410156\" xlink:href=\"#DejaVuSans-48\"/>\n      </g>\n     </g>\n    </g>\n    <g id=\"xtick_4\">\n     <g id=\"line2d_7\">\n      <path clip-path=\"url(#p5bdb625ffe)\" d=\"M 420.285227 674.638125 \nL 420.285227 22.318125 \n\" style=\"fill:none;stroke:#b0b0b0;stroke-linecap:square;stroke-width:0.8;\"/>\n     </g>\n     <g id=\"line2d_8\">\n      <g>\n       <use style=\"stroke:#000000;stroke-width:0.8;\" x=\"420.285227\" xlink:href=\"#mc88cb3af5f\" y=\"674.638125\"/>\n      </g>\n     </g>\n     <g id=\"text_4\">\n      <!-- 1.5 -->\n      <g transform=\"translate(412.333665 689.236562)scale(0.1 -0.1)\">\n       <use xlink:href=\"#DejaVuSans-49\"/>\n       <use x=\"63.623047\" xlink:href=\"#DejaVuSans-46\"/>\n       <use x=\"95.410156\" xlink:href=\"#DejaVuSans-53\"/>\n      </g>\n     </g>\n    </g>\n    <g id=\"xtick_5\">\n     <g id=\"line2d_9\">\n      <path clip-path=\"url(#p5bdb625ffe)\" d=\"M 496.376136 674.638125 \nL 496.376136 22.318125 \n\" style=\"fill:none;stroke:#b0b0b0;stroke-linecap:square;stroke-width:0.8;\"/>\n     </g>\n     <g id=\"line2d_10\">\n      <g>\n       <use style=\"stroke:#000000;stroke-width:0.8;\" x=\"496.376136\" xlink:href=\"#mc88cb3af5f\" y=\"674.638125\"/>\n      </g>\n     </g>\n     <g id=\"text_5\">\n      <!-- 2.0 -->\n      <g transform=\"translate(488.424574 689.236562)scale(0.1 -0.1)\">\n       <defs>\n        <path d=\"M 19.1875 8.296875 \nL 53.609375 8.296875 \nL 53.609375 0 \nL 7.328125 0 \nL 7.328125 8.296875 \nQ 12.9375 14.109375 22.625 23.890625 \nQ 32.328125 33.6875 34.8125 36.53125 \nQ 39.546875 41.84375 41.421875 45.53125 \nQ 43.3125 49.21875 43.3125 52.78125 \nQ 43.3125 58.59375 39.234375 62.25 \nQ 35.15625 65.921875 28.609375 65.921875 \nQ 23.96875 65.921875 18.8125 64.3125 \nQ 13.671875 62.703125 7.8125 59.421875 \nL 7.8125 69.390625 \nQ 13.765625 71.78125 18.9375 73 \nQ 24.125 74.21875 28.421875 74.21875 \nQ 39.75 74.21875 46.484375 68.546875 \nQ 53.21875 62.890625 53.21875 53.421875 \nQ 53.21875 48.921875 51.53125 44.890625 \nQ 49.859375 40.875 45.40625 35.40625 \nQ 44.1875 33.984375 37.640625 27.21875 \nQ 31.109375 20.453125 19.1875 8.296875 \nz\n\" id=\"DejaVuSans-50\"/>\n       </defs>\n       <use xlink:href=\"#DejaVuSans-50\"/>\n       <use x=\"63.623047\" xlink:href=\"#DejaVuSans-46\"/>\n       <use x=\"95.410156\" xlink:href=\"#DejaVuSans-48\"/>\n      </g>\n     </g>\n    </g>\n    <g id=\"xtick_6\">\n     <g id=\"line2d_11\">\n      <path clip-path=\"url(#p5bdb625ffe)\" d=\"M 572.467045 674.638125 \nL 572.467045 22.318125 \n\" style=\"fill:none;stroke:#b0b0b0;stroke-linecap:square;stroke-width:0.8;\"/>\n     </g>\n     <g id=\"line2d_12\">\n      <g>\n       <use style=\"stroke:#000000;stroke-width:0.8;\" x=\"572.467045\" xlink:href=\"#mc88cb3af5f\" y=\"674.638125\"/>\n      </g>\n     </g>\n     <g id=\"text_6\">\n      <!-- 2.5 -->\n      <g transform=\"translate(564.515483 689.236562)scale(0.1 -0.1)\">\n       <use xlink:href=\"#DejaVuSans-50\"/>\n       <use x=\"63.623047\" xlink:href=\"#DejaVuSans-46\"/>\n       <use x=\"95.410156\" xlink:href=\"#DejaVuSans-53\"/>\n      </g>\n     </g>\n    </g>\n    <g id=\"xtick_7\">\n     <g id=\"line2d_13\">\n      <path clip-path=\"url(#p5bdb625ffe)\" d=\"M 648.557955 674.638125 \nL 648.557955 22.318125 \n\" style=\"fill:none;stroke:#b0b0b0;stroke-linecap:square;stroke-width:0.8;\"/>\n     </g>\n     <g id=\"line2d_14\">\n      <g>\n       <use style=\"stroke:#000000;stroke-width:0.8;\" x=\"648.557955\" xlink:href=\"#mc88cb3af5f\" y=\"674.638125\"/>\n      </g>\n     </g>\n     <g id=\"text_7\">\n      <!-- 3.0 -->\n      <g transform=\"translate(640.606392 689.236562)scale(0.1 -0.1)\">\n       <defs>\n        <path d=\"M 40.578125 39.3125 \nQ 47.65625 37.796875 51.625 33 \nQ 55.609375 28.21875 55.609375 21.1875 \nQ 55.609375 10.40625 48.1875 4.484375 \nQ 40.765625 -1.421875 27.09375 -1.421875 \nQ 22.515625 -1.421875 17.65625 -0.515625 \nQ 12.796875 0.390625 7.625 2.203125 \nL 7.625 11.71875 \nQ 11.71875 9.328125 16.59375 8.109375 \nQ 21.484375 6.890625 26.8125 6.890625 \nQ 36.078125 6.890625 40.9375 10.546875 \nQ 45.796875 14.203125 45.796875 21.1875 \nQ 45.796875 27.640625 41.28125 31.265625 \nQ 36.765625 34.90625 28.71875 34.90625 \nL 20.21875 34.90625 \nL 20.21875 43.015625 \nL 29.109375 43.015625 \nQ 36.375 43.015625 40.234375 45.921875 \nQ 44.09375 48.828125 44.09375 54.296875 \nQ 44.09375 59.90625 40.109375 62.90625 \nQ 36.140625 65.921875 28.71875 65.921875 \nQ 24.65625 65.921875 20.015625 65.03125 \nQ 15.375 64.15625 9.8125 62.3125 \nL 9.8125 71.09375 \nQ 15.4375 72.65625 20.34375 73.4375 \nQ 25.25 74.21875 29.59375 74.21875 \nQ 40.828125 74.21875 47.359375 69.109375 \nQ 53.90625 64.015625 53.90625 55.328125 \nQ 53.90625 49.265625 50.4375 45.09375 \nQ 46.96875 40.921875 40.578125 39.3125 \nz\n\" id=\"DejaVuSans-51\"/>\n       </defs>\n       <use xlink:href=\"#DejaVuSans-51\"/>\n       <use x=\"63.623047\" xlink:href=\"#DejaVuSans-46\"/>\n       <use x=\"95.410156\" xlink:href=\"#DejaVuSans-48\"/>\n      </g>\n     </g>\n    </g>\n    <g id=\"xtick_8\">\n     <g id=\"line2d_15\">\n      <path clip-path=\"url(#p5bdb625ffe)\" d=\"M 724.648864 674.638125 \nL 724.648864 22.318125 \n\" style=\"fill:none;stroke:#b0b0b0;stroke-linecap:square;stroke-width:0.8;\"/>\n     </g>\n     <g id=\"line2d_16\">\n      <g>\n       <use style=\"stroke:#000000;stroke-width:0.8;\" x=\"724.648864\" xlink:href=\"#mc88cb3af5f\" y=\"674.638125\"/>\n      </g>\n     </g>\n     <g id=\"text_8\">\n      <!-- 3.5 -->\n      <g transform=\"translate(716.697301 689.236562)scale(0.1 -0.1)\">\n       <use xlink:href=\"#DejaVuSans-51\"/>\n       <use x=\"63.623047\" xlink:href=\"#DejaVuSans-46\"/>\n       <use x=\"95.410156\" xlink:href=\"#DejaVuSans-53\"/>\n      </g>\n     </g>\n    </g>\n    <g id=\"xtick_9\">\n     <g id=\"line2d_17\">\n      <path clip-path=\"url(#p5bdb625ffe)\" d=\"M 800.739773 674.638125 \nL 800.739773 22.318125 \n\" style=\"fill:none;stroke:#b0b0b0;stroke-linecap:square;stroke-width:0.8;\"/>\n     </g>\n     <g id=\"line2d_18\">\n      <g>\n       <use style=\"stroke:#000000;stroke-width:0.8;\" x=\"800.739773\" xlink:href=\"#mc88cb3af5f\" y=\"674.638125\"/>\n      </g>\n     </g>\n     <g id=\"text_9\">\n      <!-- 4.0 -->\n      <g transform=\"translate(792.78821 689.236562)scale(0.1 -0.1)\">\n       <defs>\n        <path d=\"M 37.796875 64.3125 \nL 12.890625 25.390625 \nL 37.796875 25.390625 \nz\nM 35.203125 72.90625 \nL 47.609375 72.90625 \nL 47.609375 25.390625 \nL 58.015625 25.390625 \nL 58.015625 17.1875 \nL 47.609375 17.1875 \nL 47.609375 0 \nL 37.796875 0 \nL 37.796875 17.1875 \nL 4.890625 17.1875 \nL 4.890625 26.703125 \nz\n\" id=\"DejaVuSans-52\"/>\n       </defs>\n       <use xlink:href=\"#DejaVuSans-52\"/>\n       <use x=\"63.623047\" xlink:href=\"#DejaVuSans-46\"/>\n       <use x=\"95.410156\" xlink:href=\"#DejaVuSans-48\"/>\n      </g>\n     </g>\n    </g>\n    <g id=\"text_10\">\n     <!-- F score -->\n     <g transform=\"translate(508.914844 702.914687)scale(0.1 -0.1)\">\n      <defs>\n       <path d=\"M 9.8125 72.90625 \nL 51.703125 72.90625 \nL 51.703125 64.59375 \nL 19.671875 64.59375 \nL 19.671875 43.109375 \nL 48.578125 43.109375 \nL 48.578125 34.8125 \nL 19.671875 34.8125 \nL 19.671875 0 \nL 9.8125 0 \nz\n\" id=\"DejaVuSans-70\"/>\n       <path id=\"DejaVuSans-32\"/>\n       <path d=\"M 44.28125 53.078125 \nL 44.28125 44.578125 \nQ 40.484375 46.53125 36.375 47.5 \nQ 32.28125 48.484375 27.875 48.484375 \nQ 21.1875 48.484375 17.84375 46.4375 \nQ 14.5 44.390625 14.5 40.28125 \nQ 14.5 37.15625 16.890625 35.375 \nQ 19.28125 33.59375 26.515625 31.984375 \nL 29.59375 31.296875 \nQ 39.15625 29.25 43.1875 25.515625 \nQ 47.21875 21.78125 47.21875 15.09375 \nQ 47.21875 7.46875 41.1875 3.015625 \nQ 35.15625 -1.421875 24.609375 -1.421875 \nQ 20.21875 -1.421875 15.453125 -0.5625 \nQ 10.6875 0.296875 5.421875 2 \nL 5.421875 11.28125 \nQ 10.40625 8.6875 15.234375 7.390625 \nQ 20.0625 6.109375 24.8125 6.109375 \nQ 31.15625 6.109375 34.5625 8.28125 \nQ 37.984375 10.453125 37.984375 14.40625 \nQ 37.984375 18.0625 35.515625 20.015625 \nQ 33.0625 21.96875 24.703125 23.78125 \nL 21.578125 24.515625 \nQ 13.234375 26.265625 9.515625 29.90625 \nQ 5.8125 33.546875 5.8125 39.890625 \nQ 5.8125 47.609375 11.28125 51.796875 \nQ 16.75 56 26.8125 56 \nQ 31.78125 56 36.171875 55.265625 \nQ 40.578125 54.546875 44.28125 53.078125 \nz\n\" id=\"DejaVuSans-115\"/>\n       <path d=\"M 48.78125 52.59375 \nL 48.78125 44.1875 \nQ 44.96875 46.296875 41.140625 47.34375 \nQ 37.3125 48.390625 33.40625 48.390625 \nQ 24.65625 48.390625 19.8125 42.84375 \nQ 14.984375 37.3125 14.984375 27.296875 \nQ 14.984375 17.28125 19.8125 11.734375 \nQ 24.65625 6.203125 33.40625 6.203125 \nQ 37.3125 6.203125 41.140625 7.25 \nQ 44.96875 8.296875 48.78125 10.40625 \nL 48.78125 2.09375 \nQ 45.015625 0.34375 40.984375 -0.53125 \nQ 36.96875 -1.421875 32.421875 -1.421875 \nQ 20.0625 -1.421875 12.78125 6.34375 \nQ 5.515625 14.109375 5.515625 27.296875 \nQ 5.515625 40.671875 12.859375 48.328125 \nQ 20.21875 56 33.015625 56 \nQ 37.15625 56 41.109375 55.140625 \nQ 45.0625 54.296875 48.78125 52.59375 \nz\n\" id=\"DejaVuSans-99\"/>\n       <path d=\"M 30.609375 48.390625 \nQ 23.390625 48.390625 19.1875 42.75 \nQ 14.984375 37.109375 14.984375 27.296875 \nQ 14.984375 17.484375 19.15625 11.84375 \nQ 23.34375 6.203125 30.609375 6.203125 \nQ 37.796875 6.203125 41.984375 11.859375 \nQ 46.1875 17.53125 46.1875 27.296875 \nQ 46.1875 37.015625 41.984375 42.703125 \nQ 37.796875 48.390625 30.609375 48.390625 \nz\nM 30.609375 56 \nQ 42.328125 56 49.015625 48.375 \nQ 55.71875 40.765625 55.71875 27.296875 \nQ 55.71875 13.875 49.015625 6.21875 \nQ 42.328125 -1.421875 30.609375 -1.421875 \nQ 18.84375 -1.421875 12.171875 6.21875 \nQ 5.515625 13.875 5.515625 27.296875 \nQ 5.515625 40.765625 12.171875 48.375 \nQ 18.84375 56 30.609375 56 \nz\n\" id=\"DejaVuSans-111\"/>\n       <path d=\"M 41.109375 46.296875 \nQ 39.59375 47.171875 37.8125 47.578125 \nQ 36.03125 48 33.890625 48 \nQ 26.265625 48 22.1875 43.046875 \nQ 18.109375 38.09375 18.109375 28.8125 \nL 18.109375 0 \nL 9.078125 0 \nL 9.078125 54.6875 \nL 18.109375 54.6875 \nL 18.109375 46.1875 \nQ 20.953125 51.171875 25.484375 53.578125 \nQ 30.03125 56 36.53125 56 \nQ 37.453125 56 38.578125 55.875 \nQ 39.703125 55.765625 41.0625 55.515625 \nz\n\" id=\"DejaVuSans-114\"/>\n       <path d=\"M 56.203125 29.59375 \nL 56.203125 25.203125 \nL 14.890625 25.203125 \nQ 15.484375 15.921875 20.484375 11.0625 \nQ 25.484375 6.203125 34.421875 6.203125 \nQ 39.59375 6.203125 44.453125 7.46875 \nQ 49.3125 8.734375 54.109375 11.28125 \nL 54.109375 2.78125 \nQ 49.265625 0.734375 44.1875 -0.34375 \nQ 39.109375 -1.421875 33.890625 -1.421875 \nQ 20.796875 -1.421875 13.15625 6.1875 \nQ 5.515625 13.8125 5.515625 26.8125 \nQ 5.515625 40.234375 12.765625 48.109375 \nQ 20.015625 56 32.328125 56 \nQ 43.359375 56 49.78125 48.890625 \nQ 56.203125 41.796875 56.203125 29.59375 \nz\nM 47.21875 32.234375 \nQ 47.125 39.59375 43.09375 43.984375 \nQ 39.0625 48.390625 32.421875 48.390625 \nQ 24.90625 48.390625 20.390625 44.140625 \nQ 15.875 39.890625 15.1875 32.171875 \nz\n\" id=\"DejaVuSans-101\"/>\n      </defs>\n      <use xlink:href=\"#DejaVuSans-70\"/>\n      <use x=\"57.519531\" xlink:href=\"#DejaVuSans-32\"/>\n      <use x=\"89.306641\" xlink:href=\"#DejaVuSans-115\"/>\n      <use x=\"141.40625\" xlink:href=\"#DejaVuSans-99\"/>\n      <use x=\"196.386719\" xlink:href=\"#DejaVuSans-111\"/>\n      <use x=\"257.568359\" xlink:href=\"#DejaVuSans-114\"/>\n      <use x=\"296.431641\" xlink:href=\"#DejaVuSans-101\"/>\n     </g>\n    </g>\n   </g>\n   <g id=\"matplotlib.axis_2\">\n    <g id=\"ytick_1\">\n     <g id=\"line2d_19\">\n      <path clip-path=\"url(#p5bdb625ffe)\" d=\"M 192.0125 647.458125 \nL 861.6125 647.458125 \n\" style=\"fill:none;stroke:#b0b0b0;stroke-linecap:square;stroke-width:0.8;\"/>\n     </g>\n     <g id=\"line2d_20\">\n      <defs>\n       <path d=\"M 0 0 \nL -3.5 0 \n\" id=\"mc23b270d6d\" style=\"stroke:#000000;stroke-width:0.8;\"/>\n      </defs>\n      <g>\n       <use style=\"stroke:#000000;stroke-width:0.8;\" x=\"192.0125\" xlink:href=\"#mc23b270d6d\" y=\"647.458125\"/>\n      </g>\n     </g>\n     <g id=\"text_11\">\n      <!-- SoilMoi10_40cm_inst_bucket_3 -->\n      <g transform=\"translate(30.48125 651.257344)scale(0.1 -0.1)\">\n       <defs>\n        <path d=\"M 53.515625 70.515625 \nL 53.515625 60.890625 \nQ 47.90625 63.578125 42.921875 64.890625 \nQ 37.9375 66.21875 33.296875 66.21875 \nQ 25.25 66.21875 20.875 63.09375 \nQ 16.5 59.96875 16.5 54.203125 \nQ 16.5 49.359375 19.40625 46.890625 \nQ 22.3125 44.4375 30.421875 42.921875 \nL 36.375 41.703125 \nQ 47.40625 39.59375 52.65625 34.296875 \nQ 57.90625 29 57.90625 20.125 \nQ 57.90625 9.515625 50.796875 4.046875 \nQ 43.703125 -1.421875 29.984375 -1.421875 \nQ 24.8125 -1.421875 18.96875 -0.25 \nQ 13.140625 0.921875 6.890625 3.21875 \nL 6.890625 13.375 \nQ 12.890625 10.015625 18.65625 8.296875 \nQ 24.421875 6.59375 29.984375 6.59375 \nQ 38.421875 6.59375 43.015625 9.90625 \nQ 47.609375 13.234375 47.609375 19.390625 \nQ 47.609375 24.75 44.3125 27.78125 \nQ 41.015625 30.8125 33.5 32.328125 \nL 27.484375 33.5 \nQ 16.453125 35.6875 11.515625 40.375 \nQ 6.59375 45.0625 6.59375 53.421875 \nQ 6.59375 63.09375 13.40625 68.65625 \nQ 20.21875 74.21875 32.171875 74.21875 \nQ 37.3125 74.21875 42.625 73.28125 \nQ 47.953125 72.359375 53.515625 70.515625 \nz\n\" id=\"DejaVuSans-83\"/>\n        <path d=\"M 9.421875 54.6875 \nL 18.40625 54.6875 \nL 18.40625 0 \nL 9.421875 0 \nz\nM 9.421875 75.984375 \nL 18.40625 75.984375 \nL 18.40625 64.59375 \nL 9.421875 64.59375 \nz\n\" id=\"DejaVuSans-105\"/>\n        <path d=\"M 9.421875 75.984375 \nL 18.40625 75.984375 \nL 18.40625 0 \nL 9.421875 0 \nz\n\" id=\"DejaVuSans-108\"/>\n        <path d=\"M 9.8125 72.90625 \nL 24.515625 72.90625 \nL 43.109375 23.296875 \nL 61.8125 72.90625 \nL 76.515625 72.90625 \nL 76.515625 0 \nL 66.890625 0 \nL 66.890625 64.015625 \nL 48.09375 14.015625 \nL 38.1875 14.015625 \nL 19.390625 64.015625 \nL 19.390625 0 \nL 9.8125 0 \nz\n\" id=\"DejaVuSans-77\"/>\n        <path d=\"M 50.984375 -16.609375 \nL 50.984375 -23.578125 \nL -0.984375 -23.578125 \nL -0.984375 -16.609375 \nz\n\" id=\"DejaVuSans-95\"/>\n        <path d=\"M 52 44.1875 \nQ 55.375 50.25 60.0625 53.125 \nQ 64.75 56 71.09375 56 \nQ 79.640625 56 84.28125 50.015625 \nQ 88.921875 44.046875 88.921875 33.015625 \nL 88.921875 0 \nL 79.890625 0 \nL 79.890625 32.71875 \nQ 79.890625 40.578125 77.09375 44.375 \nQ 74.3125 48.1875 68.609375 48.1875 \nQ 61.625 48.1875 57.5625 43.546875 \nQ 53.515625 38.921875 53.515625 30.90625 \nL 53.515625 0 \nL 44.484375 0 \nL 44.484375 32.71875 \nQ 44.484375 40.625 41.703125 44.40625 \nQ 38.921875 48.1875 33.109375 48.1875 \nQ 26.21875 48.1875 22.15625 43.53125 \nQ 18.109375 38.875 18.109375 30.90625 \nL 18.109375 0 \nL 9.078125 0 \nL 9.078125 54.6875 \nL 18.109375 54.6875 \nL 18.109375 46.1875 \nQ 21.1875 51.21875 25.484375 53.609375 \nQ 29.78125 56 35.6875 56 \nQ 41.65625 56 45.828125 52.96875 \nQ 50 49.953125 52 44.1875 \nz\n\" id=\"DejaVuSans-109\"/>\n        <path d=\"M 54.890625 33.015625 \nL 54.890625 0 \nL 45.90625 0 \nL 45.90625 32.71875 \nQ 45.90625 40.484375 42.875 44.328125 \nQ 39.84375 48.1875 33.796875 48.1875 \nQ 26.515625 48.1875 22.3125 43.546875 \nQ 18.109375 38.921875 18.109375 30.90625 \nL 18.109375 0 \nL 9.078125 0 \nL 9.078125 54.6875 \nL 18.109375 54.6875 \nL 18.109375 46.1875 \nQ 21.34375 51.125 25.703125 53.5625 \nQ 30.078125 56 35.796875 56 \nQ 45.21875 56 50.046875 50.171875 \nQ 54.890625 44.34375 54.890625 33.015625 \nz\n\" id=\"DejaVuSans-110\"/>\n        <path d=\"M 18.3125 70.21875 \nL 18.3125 54.6875 \nL 36.8125 54.6875 \nL 36.8125 47.703125 \nL 18.3125 47.703125 \nL 18.3125 18.015625 \nQ 18.3125 11.328125 20.140625 9.421875 \nQ 21.96875 7.515625 27.59375 7.515625 \nL 36.8125 7.515625 \nL 36.8125 0 \nL 27.59375 0 \nQ 17.1875 0 13.234375 3.875 \nQ 9.28125 7.765625 9.28125 18.015625 \nL 9.28125 47.703125 \nL 2.6875 47.703125 \nL 2.6875 54.6875 \nL 9.28125 54.6875 \nL 9.28125 70.21875 \nz\n\" id=\"DejaVuSans-116\"/>\n        <path d=\"M 48.6875 27.296875 \nQ 48.6875 37.203125 44.609375 42.84375 \nQ 40.53125 48.484375 33.40625 48.484375 \nQ 26.265625 48.484375 22.1875 42.84375 \nQ 18.109375 37.203125 18.109375 27.296875 \nQ 18.109375 17.390625 22.1875 11.75 \nQ 26.265625 6.109375 33.40625 6.109375 \nQ 40.53125 6.109375 44.609375 11.75 \nQ 48.6875 17.390625 48.6875 27.296875 \nz\nM 18.109375 46.390625 \nQ 20.953125 51.265625 25.265625 53.625 \nQ 29.59375 56 35.59375 56 \nQ 45.5625 56 51.78125 48.09375 \nQ 58.015625 40.1875 58.015625 27.296875 \nQ 58.015625 14.40625 51.78125 6.484375 \nQ 45.5625 -1.421875 35.59375 -1.421875 \nQ 29.59375 -1.421875 25.265625 0.953125 \nQ 20.953125 3.328125 18.109375 8.203125 \nL 18.109375 0 \nL 9.078125 0 \nL 9.078125 75.984375 \nL 18.109375 75.984375 \nz\n\" id=\"DejaVuSans-98\"/>\n        <path d=\"M 8.5 21.578125 \nL 8.5 54.6875 \nL 17.484375 54.6875 \nL 17.484375 21.921875 \nQ 17.484375 14.15625 20.5 10.265625 \nQ 23.53125 6.390625 29.59375 6.390625 \nQ 36.859375 6.390625 41.078125 11.03125 \nQ 45.3125 15.671875 45.3125 23.6875 \nL 45.3125 54.6875 \nL 54.296875 54.6875 \nL 54.296875 0 \nL 45.3125 0 \nL 45.3125 8.40625 \nQ 42.046875 3.421875 37.71875 1 \nQ 33.40625 -1.421875 27.6875 -1.421875 \nQ 18.265625 -1.421875 13.375 4.4375 \nQ 8.5 10.296875 8.5 21.578125 \nz\nM 31.109375 56 \nz\n\" id=\"DejaVuSans-117\"/>\n        <path d=\"M 9.078125 75.984375 \nL 18.109375 75.984375 \nL 18.109375 31.109375 \nL 44.921875 54.6875 \nL 56.390625 54.6875 \nL 27.390625 29.109375 \nL 57.625 0 \nL 45.90625 0 \nL 18.109375 26.703125 \nL 18.109375 0 \nL 9.078125 0 \nz\n\" id=\"DejaVuSans-107\"/>\n       </defs>\n       <use xlink:href=\"#DejaVuSans-83\"/>\n       <use x=\"63.476562\" xlink:href=\"#DejaVuSans-111\"/>\n       <use x=\"124.658203\" xlink:href=\"#DejaVuSans-105\"/>\n       <use x=\"152.441406\" xlink:href=\"#DejaVuSans-108\"/>\n       <use x=\"180.224609\" xlink:href=\"#DejaVuSans-77\"/>\n       <use x=\"266.503906\" xlink:href=\"#DejaVuSans-111\"/>\n       <use x=\"327.685547\" xlink:href=\"#DejaVuSans-105\"/>\n       <use x=\"355.46875\" xlink:href=\"#DejaVuSans-49\"/>\n       <use x=\"419.091797\" xlink:href=\"#DejaVuSans-48\"/>\n       <use x=\"482.714844\" xlink:href=\"#DejaVuSans-95\"/>\n       <use x=\"532.714844\" xlink:href=\"#DejaVuSans-52\"/>\n       <use x=\"596.337891\" xlink:href=\"#DejaVuSans-48\"/>\n       <use x=\"659.960938\" xlink:href=\"#DejaVuSans-99\"/>\n       <use x=\"714.941406\" xlink:href=\"#DejaVuSans-109\"/>\n       <use x=\"812.353516\" xlink:href=\"#DejaVuSans-95\"/>\n       <use x=\"862.353516\" xlink:href=\"#DejaVuSans-105\"/>\n       <use x=\"890.136719\" xlink:href=\"#DejaVuSans-110\"/>\n       <use x=\"953.515625\" xlink:href=\"#DejaVuSans-115\"/>\n       <use x=\"1005.615234\" xlink:href=\"#DejaVuSans-116\"/>\n       <use x=\"1044.824219\" xlink:href=\"#DejaVuSans-95\"/>\n       <use x=\"1094.824219\" xlink:href=\"#DejaVuSans-98\"/>\n       <use x=\"1158.300781\" xlink:href=\"#DejaVuSans-117\"/>\n       <use x=\"1221.679688\" xlink:href=\"#DejaVuSans-99\"/>\n       <use x=\"1276.660156\" xlink:href=\"#DejaVuSans-107\"/>\n       <use x=\"1330.945312\" xlink:href=\"#DejaVuSans-101\"/>\n       <use x=\"1392.46875\" xlink:href=\"#DejaVuSans-116\"/>\n       <use x=\"1431.677734\" xlink:href=\"#DejaVuSans-95\"/>\n       <use x=\"1481.677734\" xlink:href=\"#DejaVuSans-51\"/>\n      </g>\n     </g>\n    </g>\n    <g id=\"ytick_2\">\n     <g id=\"line2d_21\">\n      <path clip-path=\"url(#p5bdb625ffe)\" d=\"M 192.0125 620.278125 \nL 861.6125 620.278125 \n\" style=\"fill:none;stroke:#b0b0b0;stroke-linecap:square;stroke-width:0.8;\"/>\n     </g>\n     <g id=\"line2d_22\">\n      <g>\n       <use style=\"stroke:#000000;stroke-width:0.8;\" x=\"192.0125\" xlink:href=\"#mc23b270d6d\" y=\"620.278125\"/>\n      </g>\n     </g>\n     <g id=\"text_12\">\n      <!-- SoilMoi10_40cm_inst_bucket_9 -->\n      <g transform=\"translate(30.48125 624.077344)scale(0.1 -0.1)\">\n       <defs>\n        <path d=\"M 10.984375 1.515625 \nL 10.984375 10.5 \nQ 14.703125 8.734375 18.5 7.8125 \nQ 22.3125 6.890625 25.984375 6.890625 \nQ 35.75 6.890625 40.890625 13.453125 \nQ 46.046875 20.015625 46.78125 33.40625 \nQ 43.953125 29.203125 39.59375 26.953125 \nQ 35.25 24.703125 29.984375 24.703125 \nQ 19.046875 24.703125 12.671875 31.3125 \nQ 6.296875 37.9375 6.296875 49.421875 \nQ 6.296875 60.640625 12.9375 67.421875 \nQ 19.578125 74.21875 30.609375 74.21875 \nQ 43.265625 74.21875 49.921875 64.515625 \nQ 56.59375 54.828125 56.59375 36.375 \nQ 56.59375 19.140625 48.40625 8.859375 \nQ 40.234375 -1.421875 26.421875 -1.421875 \nQ 22.703125 -1.421875 18.890625 -0.6875 \nQ 15.09375 0.046875 10.984375 1.515625 \nz\nM 30.609375 32.421875 \nQ 37.25 32.421875 41.125 36.953125 \nQ 45.015625 41.5 45.015625 49.421875 \nQ 45.015625 57.28125 41.125 61.84375 \nQ 37.25 66.40625 30.609375 66.40625 \nQ 23.96875 66.40625 20.09375 61.84375 \nQ 16.21875 57.28125 16.21875 49.421875 \nQ 16.21875 41.5 20.09375 36.953125 \nQ 23.96875 32.421875 30.609375 32.421875 \nz\n\" id=\"DejaVuSans-57\"/>\n       </defs>\n       <use xlink:href=\"#DejaVuSans-83\"/>\n       <use x=\"63.476562\" xlink:href=\"#DejaVuSans-111\"/>\n       <use x=\"124.658203\" xlink:href=\"#DejaVuSans-105\"/>\n       <use x=\"152.441406\" xlink:href=\"#DejaVuSans-108\"/>\n       <use x=\"180.224609\" xlink:href=\"#DejaVuSans-77\"/>\n       <use x=\"266.503906\" xlink:href=\"#DejaVuSans-111\"/>\n       <use x=\"327.685547\" xlink:href=\"#DejaVuSans-105\"/>\n       <use x=\"355.46875\" xlink:href=\"#DejaVuSans-49\"/>\n       <use x=\"419.091797\" xlink:href=\"#DejaVuSans-48\"/>\n       <use x=\"482.714844\" xlink:href=\"#DejaVuSans-95\"/>\n       <use x=\"532.714844\" xlink:href=\"#DejaVuSans-52\"/>\n       <use x=\"596.337891\" xlink:href=\"#DejaVuSans-48\"/>\n       <use x=\"659.960938\" xlink:href=\"#DejaVuSans-99\"/>\n       <use x=\"714.941406\" xlink:href=\"#DejaVuSans-109\"/>\n       <use x=\"812.353516\" xlink:href=\"#DejaVuSans-95\"/>\n       <use x=\"862.353516\" xlink:href=\"#DejaVuSans-105\"/>\n       <use x=\"890.136719\" xlink:href=\"#DejaVuSans-110\"/>\n       <use x=\"953.515625\" xlink:href=\"#DejaVuSans-115\"/>\n       <use x=\"1005.615234\" xlink:href=\"#DejaVuSans-116\"/>\n       <use x=\"1044.824219\" xlink:href=\"#DejaVuSans-95\"/>\n       <use x=\"1094.824219\" xlink:href=\"#DejaVuSans-98\"/>\n       <use x=\"1158.300781\" xlink:href=\"#DejaVuSans-117\"/>\n       <use x=\"1221.679688\" xlink:href=\"#DejaVuSans-99\"/>\n       <use x=\"1276.660156\" xlink:href=\"#DejaVuSans-107\"/>\n       <use x=\"1330.945312\" xlink:href=\"#DejaVuSans-101\"/>\n       <use x=\"1392.46875\" xlink:href=\"#DejaVuSans-116\"/>\n       <use x=\"1431.677734\" xlink:href=\"#DejaVuSans-95\"/>\n       <use x=\"1481.677734\" xlink:href=\"#DejaVuSans-57\"/>\n      </g>\n     </g>\n    </g>\n    <g id=\"ytick_3\">\n     <g id=\"line2d_23\">\n      <path clip-path=\"url(#p5bdb625ffe)\" d=\"M 192.0125 593.098125 \nL 861.6125 593.098125 \n\" style=\"fill:none;stroke:#b0b0b0;stroke-linecap:square;stroke-width:0.8;\"/>\n     </g>\n     <g id=\"line2d_24\">\n      <g>\n       <use style=\"stroke:#000000;stroke-width:0.8;\" x=\"192.0125\" xlink:href=\"#mc23b270d6d\" y=\"593.098125\"/>\n      </g>\n     </g>\n     <g id=\"text_13\">\n      <!-- Tveg_tavg_bucket_1 -->\n      <g transform=\"translate(83.120313 596.897344)scale(0.1 -0.1)\">\n       <defs>\n        <path d=\"M -0.296875 72.90625 \nL 61.375 72.90625 \nL 61.375 64.59375 \nL 35.5 64.59375 \nL 35.5 0 \nL 25.59375 0 \nL 25.59375 64.59375 \nL -0.296875 64.59375 \nz\n\" id=\"DejaVuSans-84\"/>\n        <path d=\"M 2.984375 54.6875 \nL 12.5 54.6875 \nL 29.59375 8.796875 \nL 46.6875 54.6875 \nL 56.203125 54.6875 \nL 35.6875 0 \nL 23.484375 0 \nz\n\" id=\"DejaVuSans-118\"/>\n        <path d=\"M 45.40625 27.984375 \nQ 45.40625 37.75 41.375 43.109375 \nQ 37.359375 48.484375 30.078125 48.484375 \nQ 22.859375 48.484375 18.828125 43.109375 \nQ 14.796875 37.75 14.796875 27.984375 \nQ 14.796875 18.265625 18.828125 12.890625 \nQ 22.859375 7.515625 30.078125 7.515625 \nQ 37.359375 7.515625 41.375 12.890625 \nQ 45.40625 18.265625 45.40625 27.984375 \nz\nM 54.390625 6.78125 \nQ 54.390625 -7.171875 48.1875 -13.984375 \nQ 42 -20.796875 29.203125 -20.796875 \nQ 24.46875 -20.796875 20.265625 -20.09375 \nQ 16.0625 -19.390625 12.109375 -17.921875 \nL 12.109375 -9.1875 \nQ 16.0625 -11.328125 19.921875 -12.34375 \nQ 23.78125 -13.375 27.78125 -13.375 \nQ 36.625 -13.375 41.015625 -8.765625 \nQ 45.40625 -4.15625 45.40625 5.171875 \nL 45.40625 9.625 \nQ 42.625 4.78125 38.28125 2.390625 \nQ 33.9375 0 27.875 0 \nQ 17.828125 0 11.671875 7.65625 \nQ 5.515625 15.328125 5.515625 27.984375 \nQ 5.515625 40.671875 11.671875 48.328125 \nQ 17.828125 56 27.875 56 \nQ 33.9375 56 38.28125 53.609375 \nQ 42.625 51.21875 45.40625 46.390625 \nL 45.40625 54.6875 \nL 54.390625 54.6875 \nz\n\" id=\"DejaVuSans-103\"/>\n        <path d=\"M 34.28125 27.484375 \nQ 23.390625 27.484375 19.1875 25 \nQ 14.984375 22.515625 14.984375 16.5 \nQ 14.984375 11.71875 18.140625 8.90625 \nQ 21.296875 6.109375 26.703125 6.109375 \nQ 34.1875 6.109375 38.703125 11.40625 \nQ 43.21875 16.703125 43.21875 25.484375 \nL 43.21875 27.484375 \nz\nM 52.203125 31.203125 \nL 52.203125 0 \nL 43.21875 0 \nL 43.21875 8.296875 \nQ 40.140625 3.328125 35.546875 0.953125 \nQ 30.953125 -1.421875 24.3125 -1.421875 \nQ 15.921875 -1.421875 10.953125 3.296875 \nQ 6 8.015625 6 15.921875 \nQ 6 25.140625 12.171875 29.828125 \nQ 18.359375 34.515625 30.609375 34.515625 \nL 43.21875 34.515625 \nL 43.21875 35.40625 \nQ 43.21875 41.609375 39.140625 45 \nQ 35.0625 48.390625 27.6875 48.390625 \nQ 23 48.390625 18.546875 47.265625 \nQ 14.109375 46.140625 10.015625 43.890625 \nL 10.015625 52.203125 \nQ 14.9375 54.109375 19.578125 55.046875 \nQ 24.21875 56 28.609375 56 \nQ 40.484375 56 46.34375 49.84375 \nQ 52.203125 43.703125 52.203125 31.203125 \nz\n\" id=\"DejaVuSans-97\"/>\n       </defs>\n       <use xlink:href=\"#DejaVuSans-84\"/>\n       <use x=\"61.083984\" xlink:href=\"#DejaVuSans-118\"/>\n       <use x=\"120.263672\" xlink:href=\"#DejaVuSans-101\"/>\n       <use x=\"181.787109\" xlink:href=\"#DejaVuSans-103\"/>\n       <use x=\"245.263672\" xlink:href=\"#DejaVuSans-95\"/>\n       <use x=\"295.263672\" xlink:href=\"#DejaVuSans-116\"/>\n       <use x=\"334.472656\" xlink:href=\"#DejaVuSans-97\"/>\n       <use x=\"395.751953\" xlink:href=\"#DejaVuSans-118\"/>\n       <use x=\"454.931641\" xlink:href=\"#DejaVuSans-103\"/>\n       <use x=\"518.408203\" xlink:href=\"#DejaVuSans-95\"/>\n       <use x=\"568.408203\" xlink:href=\"#DejaVuSans-98\"/>\n       <use x=\"631.884766\" xlink:href=\"#DejaVuSans-117\"/>\n       <use x=\"695.263672\" xlink:href=\"#DejaVuSans-99\"/>\n       <use x=\"750.244141\" xlink:href=\"#DejaVuSans-107\"/>\n       <use x=\"804.529297\" xlink:href=\"#DejaVuSans-101\"/>\n       <use x=\"866.052734\" xlink:href=\"#DejaVuSans-116\"/>\n       <use x=\"905.261719\" xlink:href=\"#DejaVuSans-95\"/>\n       <use x=\"955.261719\" xlink:href=\"#DejaVuSans-49\"/>\n      </g>\n     </g>\n    </g>\n    <g id=\"ytick_4\">\n     <g id=\"line2d_25\">\n      <path clip-path=\"url(#p5bdb625ffe)\" d=\"M 192.0125 565.918125 \nL 861.6125 565.918125 \n\" style=\"fill:none;stroke:#b0b0b0;stroke-linecap:square;stroke-width:0.8;\"/>\n     </g>\n     <g id=\"line2d_26\">\n      <g>\n       <use style=\"stroke:#000000;stroke-width:0.8;\" x=\"192.0125\" xlink:href=\"#mc23b270d6d\" y=\"565.918125\"/>\n      </g>\n     </g>\n     <g id=\"text_14\">\n      <!-- SoilMoi0_10cm_inst_bucket_9 -->\n      <g transform=\"translate(36.84375 569.717344)scale(0.1 -0.1)\">\n       <use xlink:href=\"#DejaVuSans-83\"/>\n       <use x=\"63.476562\" xlink:href=\"#DejaVuSans-111\"/>\n       <use x=\"124.658203\" xlink:href=\"#DejaVuSans-105\"/>\n       <use x=\"152.441406\" xlink:href=\"#DejaVuSans-108\"/>\n       <use x=\"180.224609\" xlink:href=\"#DejaVuSans-77\"/>\n       <use x=\"266.503906\" xlink:href=\"#DejaVuSans-111\"/>\n       <use x=\"327.685547\" xlink:href=\"#DejaVuSans-105\"/>\n       <use x=\"355.46875\" xlink:href=\"#DejaVuSans-48\"/>\n       <use x=\"419.091797\" xlink:href=\"#DejaVuSans-95\"/>\n       <use x=\"469.091797\" xlink:href=\"#DejaVuSans-49\"/>\n       <use x=\"532.714844\" xlink:href=\"#DejaVuSans-48\"/>\n       <use x=\"596.337891\" xlink:href=\"#DejaVuSans-99\"/>\n       <use x=\"651.318359\" xlink:href=\"#DejaVuSans-109\"/>\n       <use x=\"748.730469\" xlink:href=\"#DejaVuSans-95\"/>\n       <use x=\"798.730469\" xlink:href=\"#DejaVuSans-105\"/>\n       <use x=\"826.513672\" xlink:href=\"#DejaVuSans-110\"/>\n       <use x=\"889.892578\" xlink:href=\"#DejaVuSans-115\"/>\n       <use x=\"941.992188\" xlink:href=\"#DejaVuSans-116\"/>\n       <use x=\"981.201172\" xlink:href=\"#DejaVuSans-95\"/>\n       <use x=\"1031.201172\" xlink:href=\"#DejaVuSans-98\"/>\n       <use x=\"1094.677734\" xlink:href=\"#DejaVuSans-117\"/>\n       <use x=\"1158.056641\" xlink:href=\"#DejaVuSans-99\"/>\n       <use x=\"1213.037109\" xlink:href=\"#DejaVuSans-107\"/>\n       <use x=\"1267.322266\" xlink:href=\"#DejaVuSans-101\"/>\n       <use x=\"1328.845703\" xlink:href=\"#DejaVuSans-116\"/>\n       <use x=\"1368.054688\" xlink:href=\"#DejaVuSans-95\"/>\n       <use x=\"1418.054688\" xlink:href=\"#DejaVuSans-57\"/>\n      </g>\n     </g>\n    </g>\n    <g id=\"ytick_5\">\n     <g id=\"line2d_27\">\n      <path clip-path=\"url(#p5bdb625ffe)\" d=\"M 192.0125 538.738125 \nL 861.6125 538.738125 \n\" style=\"fill:none;stroke:#b0b0b0;stroke-linecap:square;stroke-width:0.8;\"/>\n     </g>\n     <g id=\"line2d_28\">\n      <g>\n       <use style=\"stroke:#000000;stroke-width:0.8;\" x=\"192.0125\" xlink:href=\"#mc23b270d6d\" y=\"538.738125\"/>\n      </g>\n     </g>\n     <g id=\"text_15\">\n      <!-- Wind_f_inst_bucket_15 -->\n      <g transform=\"translate(71.709375 542.537344)scale(0.1 -0.1)\">\n       <defs>\n        <path d=\"M 3.328125 72.90625 \nL 13.28125 72.90625 \nL 28.609375 11.28125 \nL 43.890625 72.90625 \nL 54.984375 72.90625 \nL 70.3125 11.28125 \nL 85.59375 72.90625 \nL 95.609375 72.90625 \nL 77.296875 0 \nL 64.890625 0 \nL 49.515625 63.28125 \nL 33.984375 0 \nL 21.578125 0 \nz\n\" id=\"DejaVuSans-87\"/>\n        <path d=\"M 45.40625 46.390625 \nL 45.40625 75.984375 \nL 54.390625 75.984375 \nL 54.390625 0 \nL 45.40625 0 \nL 45.40625 8.203125 \nQ 42.578125 3.328125 38.25 0.953125 \nQ 33.9375 -1.421875 27.875 -1.421875 \nQ 17.96875 -1.421875 11.734375 6.484375 \nQ 5.515625 14.40625 5.515625 27.296875 \nQ 5.515625 40.1875 11.734375 48.09375 \nQ 17.96875 56 27.875 56 \nQ 33.9375 56 38.25 53.625 \nQ 42.578125 51.265625 45.40625 46.390625 \nz\nM 14.796875 27.296875 \nQ 14.796875 17.390625 18.875 11.75 \nQ 22.953125 6.109375 30.078125 6.109375 \nQ 37.203125 6.109375 41.296875 11.75 \nQ 45.40625 17.390625 45.40625 27.296875 \nQ 45.40625 37.203125 41.296875 42.84375 \nQ 37.203125 48.484375 30.078125 48.484375 \nQ 22.953125 48.484375 18.875 42.84375 \nQ 14.796875 37.203125 14.796875 27.296875 \nz\n\" id=\"DejaVuSans-100\"/>\n        <path d=\"M 37.109375 75.984375 \nL 37.109375 68.5 \nL 28.515625 68.5 \nQ 23.6875 68.5 21.796875 66.546875 \nQ 19.921875 64.59375 19.921875 59.515625 \nL 19.921875 54.6875 \nL 34.71875 54.6875 \nL 34.71875 47.703125 \nL 19.921875 47.703125 \nL 19.921875 0 \nL 10.890625 0 \nL 10.890625 47.703125 \nL 2.296875 47.703125 \nL 2.296875 54.6875 \nL 10.890625 54.6875 \nL 10.890625 58.5 \nQ 10.890625 67.625 15.140625 71.796875 \nQ 19.390625 75.984375 28.609375 75.984375 \nz\n\" id=\"DejaVuSans-102\"/>\n       </defs>\n       <use xlink:href=\"#DejaVuSans-87\"/>\n       <use x=\"96.626953\" xlink:href=\"#DejaVuSans-105\"/>\n       <use x=\"124.410156\" xlink:href=\"#DejaVuSans-110\"/>\n       <use x=\"187.789062\" xlink:href=\"#DejaVuSans-100\"/>\n       <use x=\"251.265625\" xlink:href=\"#DejaVuSans-95\"/>\n       <use x=\"301.265625\" xlink:href=\"#DejaVuSans-102\"/>\n       <use x=\"336.470703\" xlink:href=\"#DejaVuSans-95\"/>\n       <use x=\"386.470703\" xlink:href=\"#DejaVuSans-105\"/>\n       <use x=\"414.253906\" xlink:href=\"#DejaVuSans-110\"/>\n       <use x=\"477.632812\" xlink:href=\"#DejaVuSans-115\"/>\n       <use x=\"529.732422\" xlink:href=\"#DejaVuSans-116\"/>\n       <use x=\"568.941406\" xlink:href=\"#DejaVuSans-95\"/>\n       <use x=\"618.941406\" xlink:href=\"#DejaVuSans-98\"/>\n       <use x=\"682.417969\" xlink:href=\"#DejaVuSans-117\"/>\n       <use x=\"745.796875\" xlink:href=\"#DejaVuSans-99\"/>\n       <use x=\"800.777344\" xlink:href=\"#DejaVuSans-107\"/>\n       <use x=\"855.0625\" xlink:href=\"#DejaVuSans-101\"/>\n       <use x=\"916.585938\" xlink:href=\"#DejaVuSans-116\"/>\n       <use x=\"955.794922\" xlink:href=\"#DejaVuSans-95\"/>\n       <use x=\"1005.794922\" xlink:href=\"#DejaVuSans-49\"/>\n       <use x=\"1069.417969\" xlink:href=\"#DejaVuSans-53\"/>\n      </g>\n     </g>\n    </g>\n    <g id=\"ytick_6\">\n     <g id=\"line2d_29\">\n      <path clip-path=\"url(#p5bdb625ffe)\" d=\"M 192.0125 511.558125 \nL 861.6125 511.558125 \n\" style=\"fill:none;stroke:#b0b0b0;stroke-linecap:square;stroke-width:0.8;\"/>\n     </g>\n     <g id=\"line2d_30\">\n      <g>\n       <use style=\"stroke:#000000;stroke-width:0.8;\" x=\"192.0125\" xlink:href=\"#mc23b270d6d\" y=\"511.558125\"/>\n      </g>\n     </g>\n     <g id=\"text_16\">\n      <!-- Qair_f_inst_bucket_2 -->\n      <g transform=\"translate(82.309375 515.357344)scale(0.1 -0.1)\">\n       <defs>\n        <path d=\"M 39.40625 66.21875 \nQ 28.65625 66.21875 22.328125 58.203125 \nQ 16.015625 50.203125 16.015625 36.375 \nQ 16.015625 22.609375 22.328125 14.59375 \nQ 28.65625 6.59375 39.40625 6.59375 \nQ 50.140625 6.59375 56.421875 14.59375 \nQ 62.703125 22.609375 62.703125 36.375 \nQ 62.703125 50.203125 56.421875 58.203125 \nQ 50.140625 66.21875 39.40625 66.21875 \nz\nM 53.21875 1.3125 \nL 66.21875 -12.890625 \nL 54.296875 -12.890625 \nL 43.5 -1.21875 \nQ 41.890625 -1.3125 41.03125 -1.359375 \nQ 40.1875 -1.421875 39.40625 -1.421875 \nQ 24.03125 -1.421875 14.8125 8.859375 \nQ 5.609375 19.140625 5.609375 36.375 \nQ 5.609375 53.65625 14.8125 63.9375 \nQ 24.03125 74.21875 39.40625 74.21875 \nQ 54.734375 74.21875 63.90625 63.9375 \nQ 73.09375 53.65625 73.09375 36.375 \nQ 73.09375 23.6875 67.984375 14.640625 \nQ 62.890625 5.609375 53.21875 1.3125 \nz\n\" id=\"DejaVuSans-81\"/>\n       </defs>\n       <use xlink:href=\"#DejaVuSans-81\"/>\n       <use x=\"78.710938\" xlink:href=\"#DejaVuSans-97\"/>\n       <use x=\"139.990234\" xlink:href=\"#DejaVuSans-105\"/>\n       <use x=\"167.773438\" xlink:href=\"#DejaVuSans-114\"/>\n       <use x=\"208.886719\" xlink:href=\"#DejaVuSans-95\"/>\n       <use x=\"258.886719\" xlink:href=\"#DejaVuSans-102\"/>\n       <use x=\"294.091797\" xlink:href=\"#DejaVuSans-95\"/>\n       <use x=\"344.091797\" xlink:href=\"#DejaVuSans-105\"/>\n       <use x=\"371.875\" xlink:href=\"#DejaVuSans-110\"/>\n       <use x=\"435.253906\" xlink:href=\"#DejaVuSans-115\"/>\n       <use x=\"487.353516\" xlink:href=\"#DejaVuSans-116\"/>\n       <use x=\"526.5625\" xlink:href=\"#DejaVuSans-95\"/>\n       <use x=\"576.5625\" xlink:href=\"#DejaVuSans-98\"/>\n       <use x=\"640.039062\" xlink:href=\"#DejaVuSans-117\"/>\n       <use x=\"703.417969\" xlink:href=\"#DejaVuSans-99\"/>\n       <use x=\"758.398438\" xlink:href=\"#DejaVuSans-107\"/>\n       <use x=\"812.683594\" xlink:href=\"#DejaVuSans-101\"/>\n       <use x=\"874.207031\" xlink:href=\"#DejaVuSans-116\"/>\n       <use x=\"913.416016\" xlink:href=\"#DejaVuSans-95\"/>\n       <use x=\"963.416016\" xlink:href=\"#DejaVuSans-50\"/>\n      </g>\n     </g>\n    </g>\n    <g id=\"ytick_7\">\n     <g id=\"line2d_31\">\n      <path clip-path=\"url(#p5bdb625ffe)\" d=\"M 192.0125 484.378125 \nL 861.6125 484.378125 \n\" style=\"fill:none;stroke:#b0b0b0;stroke-linecap:square;stroke-width:0.8;\"/>\n     </g>\n     <g id=\"line2d_32\">\n      <g>\n       <use style=\"stroke:#000000;stroke-width:0.8;\" x=\"192.0125\" xlink:href=\"#mc23b270d6d\" y=\"484.378125\"/>\n      </g>\n     </g>\n     <g id=\"text_17\">\n      <!-- Tveg_tavg_bucket_13 -->\n      <g transform=\"translate(76.757813 488.177344)scale(0.1 -0.1)\">\n       <use xlink:href=\"#DejaVuSans-84\"/>\n       <use x=\"61.083984\" xlink:href=\"#DejaVuSans-118\"/>\n       <use x=\"120.263672\" xlink:href=\"#DejaVuSans-101\"/>\n       <use x=\"181.787109\" xlink:href=\"#DejaVuSans-103\"/>\n       <use x=\"245.263672\" xlink:href=\"#DejaVuSans-95\"/>\n       <use x=\"295.263672\" xlink:href=\"#DejaVuSans-116\"/>\n       <use x=\"334.472656\" xlink:href=\"#DejaVuSans-97\"/>\n       <use x=\"395.751953\" xlink:href=\"#DejaVuSans-118\"/>\n       <use x=\"454.931641\" xlink:href=\"#DejaVuSans-103\"/>\n       <use x=\"518.408203\" xlink:href=\"#DejaVuSans-95\"/>\n       <use x=\"568.408203\" xlink:href=\"#DejaVuSans-98\"/>\n       <use x=\"631.884766\" xlink:href=\"#DejaVuSans-117\"/>\n       <use x=\"695.263672\" xlink:href=\"#DejaVuSans-99\"/>\n       <use x=\"750.244141\" xlink:href=\"#DejaVuSans-107\"/>\n       <use x=\"804.529297\" xlink:href=\"#DejaVuSans-101\"/>\n       <use x=\"866.052734\" xlink:href=\"#DejaVuSans-116\"/>\n       <use x=\"905.261719\" xlink:href=\"#DejaVuSans-95\"/>\n       <use x=\"955.261719\" xlink:href=\"#DejaVuSans-49\"/>\n       <use x=\"1018.884766\" xlink:href=\"#DejaVuSans-51\"/>\n      </g>\n     </g>\n    </g>\n    <g id=\"ytick_8\">\n     <g id=\"line2d_33\">\n      <path clip-path=\"url(#p5bdb625ffe)\" d=\"M 192.0125 457.198125 \nL 861.6125 457.198125 \n\" style=\"fill:none;stroke:#b0b0b0;stroke-linecap:square;stroke-width:0.8;\"/>\n     </g>\n     <g id=\"line2d_34\">\n      <g>\n       <use style=\"stroke:#000000;stroke-width:0.8;\" x=\"192.0125\" xlink:href=\"#mc23b270d6d\" y=\"457.198125\"/>\n      </g>\n     </g>\n     <g id=\"text_18\">\n      <!-- SoilTMP10_40cm_inst_bucket_15 -->\n      <g transform=\"translate(20.878125 460.997344)scale(0.1 -0.1)\">\n       <defs>\n        <path d=\"M 19.671875 64.796875 \nL 19.671875 37.40625 \nL 32.078125 37.40625 \nQ 38.96875 37.40625 42.71875 40.96875 \nQ 46.484375 44.53125 46.484375 51.125 \nQ 46.484375 57.671875 42.71875 61.234375 \nQ 38.96875 64.796875 32.078125 64.796875 \nz\nM 9.8125 72.90625 \nL 32.078125 72.90625 \nQ 44.34375 72.90625 50.609375 67.359375 \nQ 56.890625 61.8125 56.890625 51.125 \nQ 56.890625 40.328125 50.609375 34.8125 \nQ 44.34375 29.296875 32.078125 29.296875 \nL 19.671875 29.296875 \nL 19.671875 0 \nL 9.8125 0 \nz\n\" id=\"DejaVuSans-80\"/>\n       </defs>\n       <use xlink:href=\"#DejaVuSans-83\"/>\n       <use x=\"63.476562\" xlink:href=\"#DejaVuSans-111\"/>\n       <use x=\"124.658203\" xlink:href=\"#DejaVuSans-105\"/>\n       <use x=\"152.441406\" xlink:href=\"#DejaVuSans-108\"/>\n       <use x=\"180.224609\" xlink:href=\"#DejaVuSans-84\"/>\n       <use x=\"241.308594\" xlink:href=\"#DejaVuSans-77\"/>\n       <use x=\"327.587891\" xlink:href=\"#DejaVuSans-80\"/>\n       <use x=\"387.890625\" xlink:href=\"#DejaVuSans-49\"/>\n       <use x=\"451.513672\" xlink:href=\"#DejaVuSans-48\"/>\n       <use x=\"515.136719\" xlink:href=\"#DejaVuSans-95\"/>\n       <use x=\"565.136719\" xlink:href=\"#DejaVuSans-52\"/>\n       <use x=\"628.759766\" xlink:href=\"#DejaVuSans-48\"/>\n       <use x=\"692.382812\" xlink:href=\"#DejaVuSans-99\"/>\n       <use x=\"747.363281\" xlink:href=\"#DejaVuSans-109\"/>\n       <use x=\"844.775391\" xlink:href=\"#DejaVuSans-95\"/>\n       <use x=\"894.775391\" xlink:href=\"#DejaVuSans-105\"/>\n       <use x=\"922.558594\" xlink:href=\"#DejaVuSans-110\"/>\n       <use x=\"985.9375\" xlink:href=\"#DejaVuSans-115\"/>\n       <use x=\"1038.037109\" xlink:href=\"#DejaVuSans-116\"/>\n       <use x=\"1077.246094\" xlink:href=\"#DejaVuSans-95\"/>\n       <use x=\"1127.246094\" xlink:href=\"#DejaVuSans-98\"/>\n       <use x=\"1190.722656\" xlink:href=\"#DejaVuSans-117\"/>\n       <use x=\"1254.101562\" xlink:href=\"#DejaVuSans-99\"/>\n       <use x=\"1309.082031\" xlink:href=\"#DejaVuSans-107\"/>\n       <use x=\"1363.367188\" xlink:href=\"#DejaVuSans-101\"/>\n       <use x=\"1424.890625\" xlink:href=\"#DejaVuSans-116\"/>\n       <use x=\"1464.099609\" xlink:href=\"#DejaVuSans-95\"/>\n       <use x=\"1514.099609\" xlink:href=\"#DejaVuSans-49\"/>\n       <use x=\"1577.722656\" xlink:href=\"#DejaVuSans-53\"/>\n      </g>\n     </g>\n    </g>\n    <g id=\"ytick_9\">\n     <g id=\"line2d_35\">\n      <path clip-path=\"url(#p5bdb625ffe)\" d=\"M 192.0125 430.018125 \nL 861.6125 430.018125 \n\" style=\"fill:none;stroke:#b0b0b0;stroke-linecap:square;stroke-width:0.8;\"/>\n     </g>\n     <g id=\"line2d_36\">\n      <g>\n       <use style=\"stroke:#000000;stroke-width:0.8;\" x=\"192.0125\" xlink:href=\"#mc23b270d6d\" y=\"430.018125\"/>\n      </g>\n     </g>\n     <g id=\"text_19\">\n      <!-- SoilMoi10_40cm_inst_bucket_15 -->\n      <g transform=\"translate(24.11875 433.817344)scale(0.1 -0.1)\">\n       <use xlink:href=\"#DejaVuSans-83\"/>\n       <use x=\"63.476562\" xlink:href=\"#DejaVuSans-111\"/>\n       <use x=\"124.658203\" xlink:href=\"#DejaVuSans-105\"/>\n       <use x=\"152.441406\" xlink:href=\"#DejaVuSans-108\"/>\n       <use x=\"180.224609\" xlink:href=\"#DejaVuSans-77\"/>\n       <use x=\"266.503906\" xlink:href=\"#DejaVuSans-111\"/>\n       <use x=\"327.685547\" xlink:href=\"#DejaVuSans-105\"/>\n       <use x=\"355.46875\" xlink:href=\"#DejaVuSans-49\"/>\n       <use x=\"419.091797\" xlink:href=\"#DejaVuSans-48\"/>\n       <use x=\"482.714844\" xlink:href=\"#DejaVuSans-95\"/>\n       <use x=\"532.714844\" xlink:href=\"#DejaVuSans-52\"/>\n       <use x=\"596.337891\" xlink:href=\"#DejaVuSans-48\"/>\n       <use x=\"659.960938\" xlink:href=\"#DejaVuSans-99\"/>\n       <use x=\"714.941406\" xlink:href=\"#DejaVuSans-109\"/>\n       <use x=\"812.353516\" xlink:href=\"#DejaVuSans-95\"/>\n       <use x=\"862.353516\" xlink:href=\"#DejaVuSans-105\"/>\n       <use x=\"890.136719\" xlink:href=\"#DejaVuSans-110\"/>\n       <use x=\"953.515625\" xlink:href=\"#DejaVuSans-115\"/>\n       <use x=\"1005.615234\" xlink:href=\"#DejaVuSans-116\"/>\n       <use x=\"1044.824219\" xlink:href=\"#DejaVuSans-95\"/>\n       <use x=\"1094.824219\" xlink:href=\"#DejaVuSans-98\"/>\n       <use x=\"1158.300781\" xlink:href=\"#DejaVuSans-117\"/>\n       <use x=\"1221.679688\" xlink:href=\"#DejaVuSans-99\"/>\n       <use x=\"1276.660156\" xlink:href=\"#DejaVuSans-107\"/>\n       <use x=\"1330.945312\" xlink:href=\"#DejaVuSans-101\"/>\n       <use x=\"1392.46875\" xlink:href=\"#DejaVuSans-116\"/>\n       <use x=\"1431.677734\" xlink:href=\"#DejaVuSans-95\"/>\n       <use x=\"1481.677734\" xlink:href=\"#DejaVuSans-49\"/>\n       <use x=\"1545.300781\" xlink:href=\"#DejaVuSans-53\"/>\n      </g>\n     </g>\n    </g>\n    <g id=\"ytick_10\">\n     <g id=\"line2d_37\">\n      <path clip-path=\"url(#p5bdb625ffe)\" d=\"M 192.0125 402.838125 \nL 861.6125 402.838125 \n\" style=\"fill:none;stroke:#b0b0b0;stroke-linecap:square;stroke-width:0.8;\"/>\n     </g>\n     <g id=\"line2d_38\">\n      <g>\n       <use style=\"stroke:#000000;stroke-width:0.8;\" x=\"192.0125\" xlink:href=\"#mc23b270d6d\" y=\"402.838125\"/>\n      </g>\n     </g>\n     <g id=\"text_20\">\n      <!-- Psurf_f_inst_bucket_7 -->\n      <g transform=\"translate(78.165625 406.637344)scale(0.1 -0.1)\">\n       <defs>\n        <path d=\"M 8.203125 72.90625 \nL 55.078125 72.90625 \nL 55.078125 68.703125 \nL 28.609375 0 \nL 18.3125 0 \nL 43.21875 64.59375 \nL 8.203125 64.59375 \nz\n\" id=\"DejaVuSans-55\"/>\n       </defs>\n       <use xlink:href=\"#DejaVuSans-80\"/>\n       <use x=\"58.552734\" xlink:href=\"#DejaVuSans-115\"/>\n       <use x=\"110.652344\" xlink:href=\"#DejaVuSans-117\"/>\n       <use x=\"174.03125\" xlink:href=\"#DejaVuSans-114\"/>\n       <use x=\"215.144531\" xlink:href=\"#DejaVuSans-102\"/>\n       <use x=\"250.349609\" xlink:href=\"#DejaVuSans-95\"/>\n       <use x=\"300.349609\" xlink:href=\"#DejaVuSans-102\"/>\n       <use x=\"335.554688\" xlink:href=\"#DejaVuSans-95\"/>\n       <use x=\"385.554688\" xlink:href=\"#DejaVuSans-105\"/>\n       <use x=\"413.337891\" xlink:href=\"#DejaVuSans-110\"/>\n       <use x=\"476.716797\" xlink:href=\"#DejaVuSans-115\"/>\n       <use x=\"528.816406\" xlink:href=\"#DejaVuSans-116\"/>\n       <use x=\"568.025391\" xlink:href=\"#DejaVuSans-95\"/>\n       <use x=\"618.025391\" xlink:href=\"#DejaVuSans-98\"/>\n       <use x=\"681.501953\" xlink:href=\"#DejaVuSans-117\"/>\n       <use x=\"744.880859\" xlink:href=\"#DejaVuSans-99\"/>\n       <use x=\"799.861328\" xlink:href=\"#DejaVuSans-107\"/>\n       <use x=\"854.146484\" xlink:href=\"#DejaVuSans-101\"/>\n       <use x=\"915.669922\" xlink:href=\"#DejaVuSans-116\"/>\n       <use x=\"954.878906\" xlink:href=\"#DejaVuSans-95\"/>\n       <use x=\"1004.878906\" xlink:href=\"#DejaVuSans-55\"/>\n      </g>\n     </g>\n    </g>\n    <g id=\"ytick_11\">\n     <g id=\"line2d_39\">\n      <path clip-path=\"url(#p5bdb625ffe)\" d=\"M 192.0125 375.658125 \nL 861.6125 375.658125 \n\" style=\"fill:none;stroke:#b0b0b0;stroke-linecap:square;stroke-width:0.8;\"/>\n     </g>\n     <g id=\"line2d_40\">\n      <g>\n       <use style=\"stroke:#000000;stroke-width:0.8;\" x=\"192.0125\" xlink:href=\"#mc23b270d6d\" y=\"375.658125\"/>\n      </g>\n     </g>\n     <g id=\"text_21\">\n      <!-- SoilMoi10_40cm_inst_bucket_14 -->\n      <g transform=\"translate(24.11875 379.457344)scale(0.1 -0.1)\">\n       <use xlink:href=\"#DejaVuSans-83\"/>\n       <use x=\"63.476562\" xlink:href=\"#DejaVuSans-111\"/>\n       <use x=\"124.658203\" xlink:href=\"#DejaVuSans-105\"/>\n       <use x=\"152.441406\" xlink:href=\"#DejaVuSans-108\"/>\n       <use x=\"180.224609\" xlink:href=\"#DejaVuSans-77\"/>\n       <use x=\"266.503906\" xlink:href=\"#DejaVuSans-111\"/>\n       <use x=\"327.685547\" xlink:href=\"#DejaVuSans-105\"/>\n       <use x=\"355.46875\" xlink:href=\"#DejaVuSans-49\"/>\n       <use x=\"419.091797\" xlink:href=\"#DejaVuSans-48\"/>\n       <use x=\"482.714844\" xlink:href=\"#DejaVuSans-95\"/>\n       <use x=\"532.714844\" xlink:href=\"#DejaVuSans-52\"/>\n       <use x=\"596.337891\" xlink:href=\"#DejaVuSans-48\"/>\n       <use x=\"659.960938\" xlink:href=\"#DejaVuSans-99\"/>\n       <use x=\"714.941406\" xlink:href=\"#DejaVuSans-109\"/>\n       <use x=\"812.353516\" xlink:href=\"#DejaVuSans-95\"/>\n       <use x=\"862.353516\" xlink:href=\"#DejaVuSans-105\"/>\n       <use x=\"890.136719\" xlink:href=\"#DejaVuSans-110\"/>\n       <use x=\"953.515625\" xlink:href=\"#DejaVuSans-115\"/>\n       <use x=\"1005.615234\" xlink:href=\"#DejaVuSans-116\"/>\n       <use x=\"1044.824219\" xlink:href=\"#DejaVuSans-95\"/>\n       <use x=\"1094.824219\" xlink:href=\"#DejaVuSans-98\"/>\n       <use x=\"1158.300781\" xlink:href=\"#DejaVuSans-117\"/>\n       <use x=\"1221.679688\" xlink:href=\"#DejaVuSans-99\"/>\n       <use x=\"1276.660156\" xlink:href=\"#DejaVuSans-107\"/>\n       <use x=\"1330.945312\" xlink:href=\"#DejaVuSans-101\"/>\n       <use x=\"1392.46875\" xlink:href=\"#DejaVuSans-116\"/>\n       <use x=\"1431.677734\" xlink:href=\"#DejaVuSans-95\"/>\n       <use x=\"1481.677734\" xlink:href=\"#DejaVuSans-49\"/>\n       <use x=\"1545.300781\" xlink:href=\"#DejaVuSans-52\"/>\n      </g>\n     </g>\n    </g>\n    <g id=\"ytick_12\">\n     <g id=\"line2d_41\">\n      <path clip-path=\"url(#p5bdb625ffe)\" d=\"M 192.0125 348.478125 \nL 861.6125 348.478125 \n\" style=\"fill:none;stroke:#b0b0b0;stroke-linecap:square;stroke-width:0.8;\"/>\n     </g>\n     <g id=\"line2d_42\">\n      <g>\n       <use style=\"stroke:#000000;stroke-width:0.8;\" x=\"192.0125\" xlink:href=\"#mc23b270d6d\" y=\"348.478125\"/>\n      </g>\n     </g>\n     <g id=\"text_22\">\n      <!-- SoilMoi10_40cm_inst_bucket_16 -->\n      <g transform=\"translate(24.11875 352.277344)scale(0.1 -0.1)\">\n       <defs>\n        <path d=\"M 33.015625 40.375 \nQ 26.375 40.375 22.484375 35.828125 \nQ 18.609375 31.296875 18.609375 23.390625 \nQ 18.609375 15.53125 22.484375 10.953125 \nQ 26.375 6.390625 33.015625 6.390625 \nQ 39.65625 6.390625 43.53125 10.953125 \nQ 47.40625 15.53125 47.40625 23.390625 \nQ 47.40625 31.296875 43.53125 35.828125 \nQ 39.65625 40.375 33.015625 40.375 \nz\nM 52.59375 71.296875 \nL 52.59375 62.3125 \nQ 48.875 64.0625 45.09375 64.984375 \nQ 41.3125 65.921875 37.59375 65.921875 \nQ 27.828125 65.921875 22.671875 59.328125 \nQ 17.53125 52.734375 16.796875 39.40625 \nQ 19.671875 43.65625 24.015625 45.921875 \nQ 28.375 48.1875 33.59375 48.1875 \nQ 44.578125 48.1875 50.953125 41.515625 \nQ 57.328125 34.859375 57.328125 23.390625 \nQ 57.328125 12.15625 50.6875 5.359375 \nQ 44.046875 -1.421875 33.015625 -1.421875 \nQ 20.359375 -1.421875 13.671875 8.265625 \nQ 6.984375 17.96875 6.984375 36.375 \nQ 6.984375 53.65625 15.1875 63.9375 \nQ 23.390625 74.21875 37.203125 74.21875 \nQ 40.921875 74.21875 44.703125 73.484375 \nQ 48.484375 72.75 52.59375 71.296875 \nz\n\" id=\"DejaVuSans-54\"/>\n       </defs>\n       <use xlink:href=\"#DejaVuSans-83\"/>\n       <use x=\"63.476562\" xlink:href=\"#DejaVuSans-111\"/>\n       <use x=\"124.658203\" xlink:href=\"#DejaVuSans-105\"/>\n       <use x=\"152.441406\" xlink:href=\"#DejaVuSans-108\"/>\n       <use x=\"180.224609\" xlink:href=\"#DejaVuSans-77\"/>\n       <use x=\"266.503906\" xlink:href=\"#DejaVuSans-111\"/>\n       <use x=\"327.685547\" xlink:href=\"#DejaVuSans-105\"/>\n       <use x=\"355.46875\" xlink:href=\"#DejaVuSans-49\"/>\n       <use x=\"419.091797\" xlink:href=\"#DejaVuSans-48\"/>\n       <use x=\"482.714844\" xlink:href=\"#DejaVuSans-95\"/>\n       <use x=\"532.714844\" xlink:href=\"#DejaVuSans-52\"/>\n       <use x=\"596.337891\" xlink:href=\"#DejaVuSans-48\"/>\n       <use x=\"659.960938\" xlink:href=\"#DejaVuSans-99\"/>\n       <use x=\"714.941406\" xlink:href=\"#DejaVuSans-109\"/>\n       <use x=\"812.353516\" xlink:href=\"#DejaVuSans-95\"/>\n       <use x=\"862.353516\" xlink:href=\"#DejaVuSans-105\"/>\n       <use x=\"890.136719\" xlink:href=\"#DejaVuSans-110\"/>\n       <use x=\"953.515625\" xlink:href=\"#DejaVuSans-115\"/>\n       <use x=\"1005.615234\" xlink:href=\"#DejaVuSans-116\"/>\n       <use x=\"1044.824219\" xlink:href=\"#DejaVuSans-95\"/>\n       <use x=\"1094.824219\" xlink:href=\"#DejaVuSans-98\"/>\n       <use x=\"1158.300781\" xlink:href=\"#DejaVuSans-117\"/>\n       <use x=\"1221.679688\" xlink:href=\"#DejaVuSans-99\"/>\n       <use x=\"1276.660156\" xlink:href=\"#DejaVuSans-107\"/>\n       <use x=\"1330.945312\" xlink:href=\"#DejaVuSans-101\"/>\n       <use x=\"1392.46875\" xlink:href=\"#DejaVuSans-116\"/>\n       <use x=\"1431.677734\" xlink:href=\"#DejaVuSans-95\"/>\n       <use x=\"1481.677734\" xlink:href=\"#DejaVuSans-49\"/>\n       <use x=\"1545.300781\" xlink:href=\"#DejaVuSans-54\"/>\n      </g>\n     </g>\n    </g>\n    <g id=\"ytick_13\">\n     <g id=\"line2d_43\">\n      <path clip-path=\"url(#p5bdb625ffe)\" d=\"M 192.0125 321.298125 \nL 861.6125 321.298125 \n\" style=\"fill:none;stroke:#b0b0b0;stroke-linecap:square;stroke-width:0.8;\"/>\n     </g>\n     <g id=\"line2d_44\">\n      <g>\n       <use style=\"stroke:#000000;stroke-width:0.8;\" x=\"192.0125\" xlink:href=\"#mc23b270d6d\" y=\"321.298125\"/>\n      </g>\n     </g>\n     <g id=\"text_23\">\n      <!-- AvgSurfT_inst_bucket_1 -->\n      <g transform=\"translate(66.773438 325.097344)scale(0.1 -0.1)\">\n       <defs>\n        <path d=\"M 34.1875 63.1875 \nL 20.796875 26.90625 \nL 47.609375 26.90625 \nz\nM 28.609375 72.90625 \nL 39.796875 72.90625 \nL 67.578125 0 \nL 57.328125 0 \nL 50.6875 18.703125 \nL 17.828125 18.703125 \nL 11.1875 0 \nL 0.78125 0 \nz\n\" id=\"DejaVuSans-65\"/>\n       </defs>\n       <use xlink:href=\"#DejaVuSans-65\"/>\n       <use x=\"62.533203\" xlink:href=\"#DejaVuSans-118\"/>\n       <use x=\"121.712891\" xlink:href=\"#DejaVuSans-103\"/>\n       <use x=\"185.189453\" xlink:href=\"#DejaVuSans-83\"/>\n       <use x=\"248.666016\" xlink:href=\"#DejaVuSans-117\"/>\n       <use x=\"312.044922\" xlink:href=\"#DejaVuSans-114\"/>\n       <use x=\"353.158203\" xlink:href=\"#DejaVuSans-102\"/>\n       <use x=\"388.363281\" xlink:href=\"#DejaVuSans-84\"/>\n       <use x=\"449.447266\" xlink:href=\"#DejaVuSans-95\"/>\n       <use x=\"499.447266\" xlink:href=\"#DejaVuSans-105\"/>\n       <use x=\"527.230469\" xlink:href=\"#DejaVuSans-110\"/>\n       <use x=\"590.609375\" xlink:href=\"#DejaVuSans-115\"/>\n       <use x=\"642.708984\" xlink:href=\"#DejaVuSans-116\"/>\n       <use x=\"681.917969\" xlink:href=\"#DejaVuSans-95\"/>\n       <use x=\"731.917969\" xlink:href=\"#DejaVuSans-98\"/>\n       <use x=\"795.394531\" xlink:href=\"#DejaVuSans-117\"/>\n       <use x=\"858.773438\" xlink:href=\"#DejaVuSans-99\"/>\n       <use x=\"913.753906\" xlink:href=\"#DejaVuSans-107\"/>\n       <use x=\"968.039062\" xlink:href=\"#DejaVuSans-101\"/>\n       <use x=\"1029.5625\" xlink:href=\"#DejaVuSans-116\"/>\n       <use x=\"1068.771484\" xlink:href=\"#DejaVuSans-95\"/>\n       <use x=\"1118.771484\" xlink:href=\"#DejaVuSans-49\"/>\n      </g>\n     </g>\n    </g>\n    <g id=\"ytick_14\">\n     <g id=\"line2d_45\">\n      <path clip-path=\"url(#p5bdb625ffe)\" d=\"M 192.0125 294.118125 \nL 861.6125 294.118125 \n\" style=\"fill:none;stroke:#b0b0b0;stroke-linecap:square;stroke-width:0.8;\"/>\n     </g>\n     <g id=\"line2d_46\">\n      <g>\n       <use style=\"stroke:#000000;stroke-width:0.8;\" x=\"192.0125\" xlink:href=\"#mc23b270d6d\" y=\"294.118125\"/>\n      </g>\n     </g>\n     <g id=\"text_24\">\n      <!-- Wind_f_inst_bucket_1 -->\n      <g transform=\"translate(78.071875 297.917344)scale(0.1 -0.1)\">\n       <use xlink:href=\"#DejaVuSans-87\"/>\n       <use x=\"96.626953\" xlink:href=\"#DejaVuSans-105\"/>\n       <use x=\"124.410156\" xlink:href=\"#DejaVuSans-110\"/>\n       <use x=\"187.789062\" xlink:href=\"#DejaVuSans-100\"/>\n       <use x=\"251.265625\" xlink:href=\"#DejaVuSans-95\"/>\n       <use x=\"301.265625\" xlink:href=\"#DejaVuSans-102\"/>\n       <use x=\"336.470703\" xlink:href=\"#DejaVuSans-95\"/>\n       <use x=\"386.470703\" xlink:href=\"#DejaVuSans-105\"/>\n       <use x=\"414.253906\" xlink:href=\"#DejaVuSans-110\"/>\n       <use x=\"477.632812\" xlink:href=\"#DejaVuSans-115\"/>\n       <use x=\"529.732422\" xlink:href=\"#DejaVuSans-116\"/>\n       <use x=\"568.941406\" xlink:href=\"#DejaVuSans-95\"/>\n       <use x=\"618.941406\" xlink:href=\"#DejaVuSans-98\"/>\n       <use x=\"682.417969\" xlink:href=\"#DejaVuSans-117\"/>\n       <use x=\"745.796875\" xlink:href=\"#DejaVuSans-99\"/>\n       <use x=\"800.777344\" xlink:href=\"#DejaVuSans-107\"/>\n       <use x=\"855.0625\" xlink:href=\"#DejaVuSans-101\"/>\n       <use x=\"916.585938\" xlink:href=\"#DejaVuSans-116\"/>\n       <use x=\"955.794922\" xlink:href=\"#DejaVuSans-95\"/>\n       <use x=\"1005.794922\" xlink:href=\"#DejaVuSans-49\"/>\n      </g>\n     </g>\n    </g>\n    <g id=\"ytick_15\">\n     <g id=\"line2d_47\">\n      <path clip-path=\"url(#p5bdb625ffe)\" d=\"M 192.0125 266.938125 \nL 861.6125 266.938125 \n\" style=\"fill:none;stroke:#b0b0b0;stroke-linecap:square;stroke-width:0.8;\"/>\n     </g>\n     <g id=\"line2d_48\">\n      <g>\n       <use style=\"stroke:#000000;stroke-width:0.8;\" x=\"192.0125\" xlink:href=\"#mc23b270d6d\" y=\"266.938125\"/>\n      </g>\n     </g>\n     <g id=\"text_25\">\n      <!-- Psurf_f_inst_bucket_10 -->\n      <g transform=\"translate(71.803125 270.737344)scale(0.1 -0.1)\">\n       <use xlink:href=\"#DejaVuSans-80\"/>\n       <use x=\"58.552734\" xlink:href=\"#DejaVuSans-115\"/>\n       <use x=\"110.652344\" xlink:href=\"#DejaVuSans-117\"/>\n       <use x=\"174.03125\" xlink:href=\"#DejaVuSans-114\"/>\n       <use x=\"215.144531\" xlink:href=\"#DejaVuSans-102\"/>\n       <use x=\"250.349609\" xlink:href=\"#DejaVuSans-95\"/>\n       <use x=\"300.349609\" xlink:href=\"#DejaVuSans-102\"/>\n       <use x=\"335.554688\" xlink:href=\"#DejaVuSans-95\"/>\n       <use x=\"385.554688\" xlink:href=\"#DejaVuSans-105\"/>\n       <use x=\"413.337891\" xlink:href=\"#DejaVuSans-110\"/>\n       <use x=\"476.716797\" xlink:href=\"#DejaVuSans-115\"/>\n       <use x=\"528.816406\" xlink:href=\"#DejaVuSans-116\"/>\n       <use x=\"568.025391\" xlink:href=\"#DejaVuSans-95\"/>\n       <use x=\"618.025391\" xlink:href=\"#DejaVuSans-98\"/>\n       <use x=\"681.501953\" xlink:href=\"#DejaVuSans-117\"/>\n       <use x=\"744.880859\" xlink:href=\"#DejaVuSans-99\"/>\n       <use x=\"799.861328\" xlink:href=\"#DejaVuSans-107\"/>\n       <use x=\"854.146484\" xlink:href=\"#DejaVuSans-101\"/>\n       <use x=\"915.669922\" xlink:href=\"#DejaVuSans-116\"/>\n       <use x=\"954.878906\" xlink:href=\"#DejaVuSans-95\"/>\n       <use x=\"1004.878906\" xlink:href=\"#DejaVuSans-49\"/>\n       <use x=\"1068.501953\" xlink:href=\"#DejaVuSans-48\"/>\n      </g>\n     </g>\n    </g>\n    <g id=\"ytick_16\">\n     <g id=\"line2d_49\">\n      <path clip-path=\"url(#p5bdb625ffe)\" d=\"M 192.0125 239.758125 \nL 861.6125 239.758125 \n\" style=\"fill:none;stroke:#b0b0b0;stroke-linecap:square;stroke-width:0.8;\"/>\n     </g>\n     <g id=\"line2d_50\">\n      <g>\n       <use style=\"stroke:#000000;stroke-width:0.8;\" x=\"192.0125\" xlink:href=\"#mc23b270d6d\" y=\"239.758125\"/>\n      </g>\n     </g>\n     <g id=\"text_26\">\n      <!-- Tveg_tavg_bucket_11 -->\n      <g transform=\"translate(76.757813 243.557344)scale(0.1 -0.1)\">\n       <use xlink:href=\"#DejaVuSans-84\"/>\n       <use x=\"61.083984\" xlink:href=\"#DejaVuSans-118\"/>\n       <use x=\"120.263672\" xlink:href=\"#DejaVuSans-101\"/>\n       <use x=\"181.787109\" xlink:href=\"#DejaVuSans-103\"/>\n       <use x=\"245.263672\" xlink:href=\"#DejaVuSans-95\"/>\n       <use x=\"295.263672\" xlink:href=\"#DejaVuSans-116\"/>\n       <use x=\"334.472656\" xlink:href=\"#DejaVuSans-97\"/>\n       <use x=\"395.751953\" xlink:href=\"#DejaVuSans-118\"/>\n       <use x=\"454.931641\" xlink:href=\"#DejaVuSans-103\"/>\n       <use x=\"518.408203\" xlink:href=\"#DejaVuSans-95\"/>\n       <use x=\"568.408203\" xlink:href=\"#DejaVuSans-98\"/>\n       <use x=\"631.884766\" xlink:href=\"#DejaVuSans-117\"/>\n       <use x=\"695.263672\" xlink:href=\"#DejaVuSans-99\"/>\n       <use x=\"750.244141\" xlink:href=\"#DejaVuSans-107\"/>\n       <use x=\"804.529297\" xlink:href=\"#DejaVuSans-101\"/>\n       <use x=\"866.052734\" xlink:href=\"#DejaVuSans-116\"/>\n       <use x=\"905.261719\" xlink:href=\"#DejaVuSans-95\"/>\n       <use x=\"955.261719\" xlink:href=\"#DejaVuSans-49\"/>\n       <use x=\"1018.884766\" xlink:href=\"#DejaVuSans-49\"/>\n      </g>\n     </g>\n    </g>\n    <g id=\"ytick_17\">\n     <g id=\"line2d_51\">\n      <path clip-path=\"url(#p5bdb625ffe)\" d=\"M 192.0125 212.578125 \nL 861.6125 212.578125 \n\" style=\"fill:none;stroke:#b0b0b0;stroke-linecap:square;stroke-width:0.8;\"/>\n     </g>\n     <g id=\"line2d_52\">\n      <g>\n       <use style=\"stroke:#000000;stroke-width:0.8;\" x=\"192.0125\" xlink:href=\"#mc23b270d6d\" y=\"212.578125\"/>\n      </g>\n     </g>\n     <g id=\"text_27\">\n      <!-- SoilMoi0_10cm_inst_bucket_3 -->\n      <g transform=\"translate(36.84375 216.377344)scale(0.1 -0.1)\">\n       <use xlink:href=\"#DejaVuSans-83\"/>\n       <use x=\"63.476562\" xlink:href=\"#DejaVuSans-111\"/>\n       <use x=\"124.658203\" xlink:href=\"#DejaVuSans-105\"/>\n       <use x=\"152.441406\" xlink:href=\"#DejaVuSans-108\"/>\n       <use x=\"180.224609\" xlink:href=\"#DejaVuSans-77\"/>\n       <use x=\"266.503906\" xlink:href=\"#DejaVuSans-111\"/>\n       <use x=\"327.685547\" xlink:href=\"#DejaVuSans-105\"/>\n       <use x=\"355.46875\" xlink:href=\"#DejaVuSans-48\"/>\n       <use x=\"419.091797\" xlink:href=\"#DejaVuSans-95\"/>\n       <use x=\"469.091797\" xlink:href=\"#DejaVuSans-49\"/>\n       <use x=\"532.714844\" xlink:href=\"#DejaVuSans-48\"/>\n       <use x=\"596.337891\" xlink:href=\"#DejaVuSans-99\"/>\n       <use x=\"651.318359\" xlink:href=\"#DejaVuSans-109\"/>\n       <use x=\"748.730469\" xlink:href=\"#DejaVuSans-95\"/>\n       <use x=\"798.730469\" xlink:href=\"#DejaVuSans-105\"/>\n       <use x=\"826.513672\" xlink:href=\"#DejaVuSans-110\"/>\n       <use x=\"889.892578\" xlink:href=\"#DejaVuSans-115\"/>\n       <use x=\"941.992188\" xlink:href=\"#DejaVuSans-116\"/>\n       <use x=\"981.201172\" xlink:href=\"#DejaVuSans-95\"/>\n       <use x=\"1031.201172\" xlink:href=\"#DejaVuSans-98\"/>\n       <use x=\"1094.677734\" xlink:href=\"#DejaVuSans-117\"/>\n       <use x=\"1158.056641\" xlink:href=\"#DejaVuSans-99\"/>\n       <use x=\"1213.037109\" xlink:href=\"#DejaVuSans-107\"/>\n       <use x=\"1267.322266\" xlink:href=\"#DejaVuSans-101\"/>\n       <use x=\"1328.845703\" xlink:href=\"#DejaVuSans-116\"/>\n       <use x=\"1368.054688\" xlink:href=\"#DejaVuSans-95\"/>\n       <use x=\"1418.054688\" xlink:href=\"#DejaVuSans-51\"/>\n      </g>\n     </g>\n    </g>\n    <g id=\"ytick_18\">\n     <g id=\"line2d_53\">\n      <path clip-path=\"url(#p5bdb625ffe)\" d=\"M 192.0125 185.398125 \nL 861.6125 185.398125 \n\" style=\"fill:none;stroke:#b0b0b0;stroke-linecap:square;stroke-width:0.8;\"/>\n     </g>\n     <g id=\"line2d_54\">\n      <g>\n       <use style=\"stroke:#000000;stroke-width:0.8;\" x=\"192.0125\" xlink:href=\"#mc23b270d6d\" y=\"185.398125\"/>\n      </g>\n     </g>\n     <g id=\"text_28\">\n      <!-- SoilTMP0_10cm_inst_bucket_8 -->\n      <g transform=\"translate(33.603125 189.197344)scale(0.1 -0.1)\">\n       <defs>\n        <path d=\"M 31.78125 34.625 \nQ 24.75 34.625 20.71875 30.859375 \nQ 16.703125 27.09375 16.703125 20.515625 \nQ 16.703125 13.921875 20.71875 10.15625 \nQ 24.75 6.390625 31.78125 6.390625 \nQ 38.8125 6.390625 42.859375 10.171875 \nQ 46.921875 13.96875 46.921875 20.515625 \nQ 46.921875 27.09375 42.890625 30.859375 \nQ 38.875 34.625 31.78125 34.625 \nz\nM 21.921875 38.8125 \nQ 15.578125 40.375 12.03125 44.71875 \nQ 8.5 49.078125 8.5 55.328125 \nQ 8.5 64.0625 14.71875 69.140625 \nQ 20.953125 74.21875 31.78125 74.21875 \nQ 42.671875 74.21875 48.875 69.140625 \nQ 55.078125 64.0625 55.078125 55.328125 \nQ 55.078125 49.078125 51.53125 44.71875 \nQ 48 40.375 41.703125 38.8125 \nQ 48.828125 37.15625 52.796875 32.3125 \nQ 56.78125 27.484375 56.78125 20.515625 \nQ 56.78125 9.90625 50.3125 4.234375 \nQ 43.84375 -1.421875 31.78125 -1.421875 \nQ 19.734375 -1.421875 13.25 4.234375 \nQ 6.78125 9.90625 6.78125 20.515625 \nQ 6.78125 27.484375 10.78125 32.3125 \nQ 14.796875 37.15625 21.921875 38.8125 \nz\nM 18.3125 54.390625 \nQ 18.3125 48.734375 21.84375 45.5625 \nQ 25.390625 42.390625 31.78125 42.390625 \nQ 38.140625 42.390625 41.71875 45.5625 \nQ 45.3125 48.734375 45.3125 54.390625 \nQ 45.3125 60.0625 41.71875 63.234375 \nQ 38.140625 66.40625 31.78125 66.40625 \nQ 25.390625 66.40625 21.84375 63.234375 \nQ 18.3125 60.0625 18.3125 54.390625 \nz\n\" id=\"DejaVuSans-56\"/>\n       </defs>\n       <use xlink:href=\"#DejaVuSans-83\"/>\n       <use x=\"63.476562\" xlink:href=\"#DejaVuSans-111\"/>\n       <use x=\"124.658203\" xlink:href=\"#DejaVuSans-105\"/>\n       <use x=\"152.441406\" xlink:href=\"#DejaVuSans-108\"/>\n       <use x=\"180.224609\" xlink:href=\"#DejaVuSans-84\"/>\n       <use x=\"241.308594\" xlink:href=\"#DejaVuSans-77\"/>\n       <use x=\"327.587891\" xlink:href=\"#DejaVuSans-80\"/>\n       <use x=\"387.890625\" xlink:href=\"#DejaVuSans-48\"/>\n       <use x=\"451.513672\" xlink:href=\"#DejaVuSans-95\"/>\n       <use x=\"501.513672\" xlink:href=\"#DejaVuSans-49\"/>\n       <use x=\"565.136719\" xlink:href=\"#DejaVuSans-48\"/>\n       <use x=\"628.759766\" xlink:href=\"#DejaVuSans-99\"/>\n       <use x=\"683.740234\" xlink:href=\"#DejaVuSans-109\"/>\n       <use x=\"781.152344\" xlink:href=\"#DejaVuSans-95\"/>\n       <use x=\"831.152344\" xlink:href=\"#DejaVuSans-105\"/>\n       <use x=\"858.935547\" xlink:href=\"#DejaVuSans-110\"/>\n       <use x=\"922.314453\" xlink:href=\"#DejaVuSans-115\"/>\n       <use x=\"974.414062\" xlink:href=\"#DejaVuSans-116\"/>\n       <use x=\"1013.623047\" xlink:href=\"#DejaVuSans-95\"/>\n       <use x=\"1063.623047\" xlink:href=\"#DejaVuSans-98\"/>\n       <use x=\"1127.099609\" xlink:href=\"#DejaVuSans-117\"/>\n       <use x=\"1190.478516\" xlink:href=\"#DejaVuSans-99\"/>\n       <use x=\"1245.458984\" xlink:href=\"#DejaVuSans-107\"/>\n       <use x=\"1299.744141\" xlink:href=\"#DejaVuSans-101\"/>\n       <use x=\"1361.267578\" xlink:href=\"#DejaVuSans-116\"/>\n       <use x=\"1400.476562\" xlink:href=\"#DejaVuSans-95\"/>\n       <use x=\"1450.476562\" xlink:href=\"#DejaVuSans-56\"/>\n      </g>\n     </g>\n    </g>\n    <g id=\"ytick_19\">\n     <g id=\"line2d_55\">\n      <path clip-path=\"url(#p5bdb625ffe)\" d=\"M 192.0125 158.218125 \nL 861.6125 158.218125 \n\" style=\"fill:none;stroke:#b0b0b0;stroke-linecap:square;stroke-width:0.8;\"/>\n     </g>\n     <g id=\"line2d_56\">\n      <g>\n       <use style=\"stroke:#000000;stroke-width:0.8;\" x=\"192.0125\" xlink:href=\"#mc23b270d6d\" y=\"158.218125\"/>\n      </g>\n     </g>\n     <g id=\"text_29\">\n      <!-- Tair_f_inst_bucket_14 -->\n      <g transform=\"translate(79.360938 162.017344)scale(0.1 -0.1)\">\n       <use xlink:href=\"#DejaVuSans-84\"/>\n       <use x=\"44.583984\" xlink:href=\"#DejaVuSans-97\"/>\n       <use x=\"105.863281\" xlink:href=\"#DejaVuSans-105\"/>\n       <use x=\"133.646484\" xlink:href=\"#DejaVuSans-114\"/>\n       <use x=\"174.759766\" xlink:href=\"#DejaVuSans-95\"/>\n       <use x=\"224.759766\" xlink:href=\"#DejaVuSans-102\"/>\n       <use x=\"259.964844\" xlink:href=\"#DejaVuSans-95\"/>\n       <use x=\"309.964844\" xlink:href=\"#DejaVuSans-105\"/>\n       <use x=\"337.748047\" xlink:href=\"#DejaVuSans-110\"/>\n       <use x=\"401.126953\" xlink:href=\"#DejaVuSans-115\"/>\n       <use x=\"453.226562\" xlink:href=\"#DejaVuSans-116\"/>\n       <use x=\"492.435547\" xlink:href=\"#DejaVuSans-95\"/>\n       <use x=\"542.435547\" xlink:href=\"#DejaVuSans-98\"/>\n       <use x=\"605.912109\" xlink:href=\"#DejaVuSans-117\"/>\n       <use x=\"669.291016\" xlink:href=\"#DejaVuSans-99\"/>\n       <use x=\"724.271484\" xlink:href=\"#DejaVuSans-107\"/>\n       <use x=\"778.556641\" xlink:href=\"#DejaVuSans-101\"/>\n       <use x=\"840.080078\" xlink:href=\"#DejaVuSans-116\"/>\n       <use x=\"879.289062\" xlink:href=\"#DejaVuSans-95\"/>\n       <use x=\"929.289062\" xlink:href=\"#DejaVuSans-49\"/>\n       <use x=\"992.912109\" xlink:href=\"#DejaVuSans-52\"/>\n      </g>\n     </g>\n    </g>\n    <g id=\"ytick_20\">\n     <g id=\"line2d_57\">\n      <path clip-path=\"url(#p5bdb625ffe)\" d=\"M 192.0125 131.038125 \nL 861.6125 131.038125 \n\" style=\"fill:none;stroke:#b0b0b0;stroke-linecap:square;stroke-width:0.8;\"/>\n     </g>\n     <g id=\"line2d_58\">\n      <g>\n       <use style=\"stroke:#000000;stroke-width:0.8;\" x=\"192.0125\" xlink:href=\"#mc23b270d6d\" y=\"131.038125\"/>\n      </g>\n     </g>\n     <g id=\"text_30\">\n      <!-- Psurf_f_inst_bucket_16 -->\n      <g transform=\"translate(71.803125 134.837344)scale(0.1 -0.1)\">\n       <use xlink:href=\"#DejaVuSans-80\"/>\n       <use x=\"58.552734\" xlink:href=\"#DejaVuSans-115\"/>\n       <use x=\"110.652344\" xlink:href=\"#DejaVuSans-117\"/>\n       <use x=\"174.03125\" xlink:href=\"#DejaVuSans-114\"/>\n       <use x=\"215.144531\" xlink:href=\"#DejaVuSans-102\"/>\n       <use x=\"250.349609\" xlink:href=\"#DejaVuSans-95\"/>\n       <use x=\"300.349609\" xlink:href=\"#DejaVuSans-102\"/>\n       <use x=\"335.554688\" xlink:href=\"#DejaVuSans-95\"/>\n       <use x=\"385.554688\" xlink:href=\"#DejaVuSans-105\"/>\n       <use x=\"413.337891\" xlink:href=\"#DejaVuSans-110\"/>\n       <use x=\"476.716797\" xlink:href=\"#DejaVuSans-115\"/>\n       <use x=\"528.816406\" xlink:href=\"#DejaVuSans-116\"/>\n       <use x=\"568.025391\" xlink:href=\"#DejaVuSans-95\"/>\n       <use x=\"618.025391\" xlink:href=\"#DejaVuSans-98\"/>\n       <use x=\"681.501953\" xlink:href=\"#DejaVuSans-117\"/>\n       <use x=\"744.880859\" xlink:href=\"#DejaVuSans-99\"/>\n       <use x=\"799.861328\" xlink:href=\"#DejaVuSans-107\"/>\n       <use x=\"854.146484\" xlink:href=\"#DejaVuSans-101\"/>\n       <use x=\"915.669922\" xlink:href=\"#DejaVuSans-116\"/>\n       <use x=\"954.878906\" xlink:href=\"#DejaVuSans-95\"/>\n       <use x=\"1004.878906\" xlink:href=\"#DejaVuSans-49\"/>\n       <use x=\"1068.501953\" xlink:href=\"#DejaVuSans-54\"/>\n      </g>\n     </g>\n    </g>\n    <g id=\"ytick_21\">\n     <g id=\"line2d_59\">\n      <path clip-path=\"url(#p5bdb625ffe)\" d=\"M 192.0125 103.858125 \nL 861.6125 103.858125 \n\" style=\"fill:none;stroke:#b0b0b0;stroke-linecap:square;stroke-width:0.8;\"/>\n     </g>\n     <g id=\"line2d_60\">\n      <g>\n       <use style=\"stroke:#000000;stroke-width:0.8;\" x=\"192.0125\" xlink:href=\"#mc23b270d6d\" y=\"103.858125\"/>\n      </g>\n     </g>\n     <g id=\"text_31\">\n      <!-- sand_5.15cm_mean -->\n      <g transform=\"translate(85.125 107.657344)scale(0.1 -0.1)\">\n       <use xlink:href=\"#DejaVuSans-115\"/>\n       <use x=\"52.099609\" xlink:href=\"#DejaVuSans-97\"/>\n       <use x=\"113.378906\" xlink:href=\"#DejaVuSans-110\"/>\n       <use x=\"176.757812\" xlink:href=\"#DejaVuSans-100\"/>\n       <use x=\"240.234375\" xlink:href=\"#DejaVuSans-95\"/>\n       <use x=\"290.234375\" xlink:href=\"#DejaVuSans-53\"/>\n       <use x=\"353.857422\" xlink:href=\"#DejaVuSans-46\"/>\n       <use x=\"385.644531\" xlink:href=\"#DejaVuSans-49\"/>\n       <use x=\"449.267578\" xlink:href=\"#DejaVuSans-53\"/>\n       <use x=\"512.890625\" xlink:href=\"#DejaVuSans-99\"/>\n       <use x=\"567.871094\" xlink:href=\"#DejaVuSans-109\"/>\n       <use x=\"665.283203\" xlink:href=\"#DejaVuSans-95\"/>\n       <use x=\"715.283203\" xlink:href=\"#DejaVuSans-109\"/>\n       <use x=\"812.695312\" xlink:href=\"#DejaVuSans-101\"/>\n       <use x=\"874.21875\" xlink:href=\"#DejaVuSans-97\"/>\n       <use x=\"935.498047\" xlink:href=\"#DejaVuSans-110\"/>\n      </g>\n     </g>\n    </g>\n    <g id=\"ytick_22\">\n     <g id=\"line2d_61\">\n      <path clip-path=\"url(#p5bdb625ffe)\" d=\"M 192.0125 76.678125 \nL 861.6125 76.678125 \n\" style=\"fill:none;stroke:#b0b0b0;stroke-linecap:square;stroke-width:0.8;\"/>\n     </g>\n     <g id=\"line2d_62\">\n      <g>\n       <use style=\"stroke:#000000;stroke-width:0.8;\" x=\"192.0125\" xlink:href=\"#mc23b270d6d\" y=\"76.678125\"/>\n      </g>\n     </g>\n     <g id=\"text_32\">\n      <!-- SoilMoi10_40cm_inst_bucket_1 -->\n      <g transform=\"translate(30.48125 80.477344)scale(0.1 -0.1)\">\n       <use xlink:href=\"#DejaVuSans-83\"/>\n       <use x=\"63.476562\" xlink:href=\"#DejaVuSans-111\"/>\n       <use x=\"124.658203\" xlink:href=\"#DejaVuSans-105\"/>\n       <use x=\"152.441406\" xlink:href=\"#DejaVuSans-108\"/>\n       <use x=\"180.224609\" xlink:href=\"#DejaVuSans-77\"/>\n       <use x=\"266.503906\" xlink:href=\"#DejaVuSans-111\"/>\n       <use x=\"327.685547\" xlink:href=\"#DejaVuSans-105\"/>\n       <use x=\"355.46875\" xlink:href=\"#DejaVuSans-49\"/>\n       <use x=\"419.091797\" xlink:href=\"#DejaVuSans-48\"/>\n       <use x=\"482.714844\" xlink:href=\"#DejaVuSans-95\"/>\n       <use x=\"532.714844\" xlink:href=\"#DejaVuSans-52\"/>\n       <use x=\"596.337891\" xlink:href=\"#DejaVuSans-48\"/>\n       <use x=\"659.960938\" xlink:href=\"#DejaVuSans-99\"/>\n       <use x=\"714.941406\" xlink:href=\"#DejaVuSans-109\"/>\n       <use x=\"812.353516\" xlink:href=\"#DejaVuSans-95\"/>\n       <use x=\"862.353516\" xlink:href=\"#DejaVuSans-105\"/>\n       <use x=\"890.136719\" xlink:href=\"#DejaVuSans-110\"/>\n       <use x=\"953.515625\" xlink:href=\"#DejaVuSans-115\"/>\n       <use x=\"1005.615234\" xlink:href=\"#DejaVuSans-116\"/>\n       <use x=\"1044.824219\" xlink:href=\"#DejaVuSans-95\"/>\n       <use x=\"1094.824219\" xlink:href=\"#DejaVuSans-98\"/>\n       <use x=\"1158.300781\" xlink:href=\"#DejaVuSans-117\"/>\n       <use x=\"1221.679688\" xlink:href=\"#DejaVuSans-99\"/>\n       <use x=\"1276.660156\" xlink:href=\"#DejaVuSans-107\"/>\n       <use x=\"1330.945312\" xlink:href=\"#DejaVuSans-101\"/>\n       <use x=\"1392.46875\" xlink:href=\"#DejaVuSans-116\"/>\n       <use x=\"1431.677734\" xlink:href=\"#DejaVuSans-95\"/>\n       <use x=\"1481.677734\" xlink:href=\"#DejaVuSans-49\"/>\n      </g>\n     </g>\n    </g>\n    <g id=\"ytick_23\">\n     <g id=\"line2d_63\">\n      <path clip-path=\"url(#p5bdb625ffe)\" d=\"M 192.0125 49.498125 \nL 861.6125 49.498125 \n\" style=\"fill:none;stroke:#b0b0b0;stroke-linecap:square;stroke-width:0.8;\"/>\n     </g>\n     <g id=\"line2d_64\">\n      <g>\n       <use style=\"stroke:#000000;stroke-width:0.8;\" x=\"192.0125\" xlink:href=\"#mc23b270d6d\" y=\"49.498125\"/>\n      </g>\n     </g>\n     <g id=\"text_33\">\n      <!-- sand_0.5cm_mean -->\n      <g transform=\"translate(91.4875 53.297344)scale(0.1 -0.1)\">\n       <use xlink:href=\"#DejaVuSans-115\"/>\n       <use x=\"52.099609\" xlink:href=\"#DejaVuSans-97\"/>\n       <use x=\"113.378906\" xlink:href=\"#DejaVuSans-110\"/>\n       <use x=\"176.757812\" xlink:href=\"#DejaVuSans-100\"/>\n       <use x=\"240.234375\" xlink:href=\"#DejaVuSans-95\"/>\n       <use x=\"290.234375\" xlink:href=\"#DejaVuSans-48\"/>\n       <use x=\"353.857422\" xlink:href=\"#DejaVuSans-46\"/>\n       <use x=\"385.644531\" xlink:href=\"#DejaVuSans-53\"/>\n       <use x=\"449.267578\" xlink:href=\"#DejaVuSans-99\"/>\n       <use x=\"504.248047\" xlink:href=\"#DejaVuSans-109\"/>\n       <use x=\"601.660156\" xlink:href=\"#DejaVuSans-95\"/>\n       <use x=\"651.660156\" xlink:href=\"#DejaVuSans-109\"/>\n       <use x=\"749.072266\" xlink:href=\"#DejaVuSans-101\"/>\n       <use x=\"810.595703\" xlink:href=\"#DejaVuSans-97\"/>\n       <use x=\"871.875\" xlink:href=\"#DejaVuSans-110\"/>\n      </g>\n     </g>\n    </g>\n    <g id=\"text_34\">\n     <!-- Features -->\n     <g transform=\"translate(14.798438 369.972656)rotate(-90)scale(0.1 -0.1)\">\n      <use xlink:href=\"#DejaVuSans-70\"/>\n      <use x=\"52.019531\" xlink:href=\"#DejaVuSans-101\"/>\n      <use x=\"113.542969\" xlink:href=\"#DejaVuSans-97\"/>\n      <use x=\"174.822266\" xlink:href=\"#DejaVuSans-116\"/>\n      <use x=\"214.03125\" xlink:href=\"#DejaVuSans-117\"/>\n      <use x=\"277.410156\" xlink:href=\"#DejaVuSans-114\"/>\n      <use x=\"316.273438\" xlink:href=\"#DejaVuSans-101\"/>\n      <use x=\"377.796875\" xlink:href=\"#DejaVuSans-115\"/>\n     </g>\n    </g>\n   </g>\n   <g id=\"patch_26\">\n    <path d=\"M 192.0125 674.638125 \nL 192.0125 22.318125 \n\" style=\"fill:none;stroke:#000000;stroke-linecap:square;stroke-linejoin:miter;stroke-width:0.8;\"/>\n   </g>\n   <g id=\"patch_27\">\n    <path d=\"M 861.6125 674.638125 \nL 861.6125 22.318125 \n\" style=\"fill:none;stroke:#000000;stroke-linecap:square;stroke-linejoin:miter;stroke-width:0.8;\"/>\n   </g>\n   <g id=\"patch_28\">\n    <path d=\"M 192.0125 674.638125 \nL 861.6125 674.638125 \n\" style=\"fill:none;stroke:#000000;stroke-linecap:square;stroke-linejoin:miter;stroke-width:0.8;\"/>\n   </g>\n   <g id=\"patch_29\">\n    <path d=\"M 192.0125 22.318125 \nL 861.6125 22.318125 \n\" style=\"fill:none;stroke:#000000;stroke-linecap:square;stroke-linejoin:miter;stroke-width:0.8;\"/>\n   </g>\n   <g id=\"text_35\">\n    <!-- 1 -->\n    <g transform=\"translate(496.376136 650.2175)scale(0.1 -0.1)\">\n     <use xlink:href=\"#DejaVuSans-49\"/>\n    </g>\n   </g>\n   <g id=\"text_36\">\n    <!-- 1 -->\n    <g transform=\"translate(496.376136 623.0375)scale(0.1 -0.1)\">\n     <use xlink:href=\"#DejaVuSans-49\"/>\n    </g>\n   </g>\n   <g id=\"text_37\">\n    <!-- 1 -->\n    <g transform=\"translate(496.376136 595.8575)scale(0.1 -0.1)\">\n     <use xlink:href=\"#DejaVuSans-49\"/>\n    </g>\n   </g>\n   <g id=\"text_38\">\n    <!-- 1 -->\n    <g transform=\"translate(496.376136 568.6775)scale(0.1 -0.1)\">\n     <use xlink:href=\"#DejaVuSans-49\"/>\n    </g>\n   </g>\n   <g id=\"text_39\">\n    <!-- 1 -->\n    <g transform=\"translate(496.376136 541.4975)scale(0.1 -0.1)\">\n     <use xlink:href=\"#DejaVuSans-49\"/>\n    </g>\n   </g>\n   <g id=\"text_40\">\n    <!-- 1 -->\n    <g transform=\"translate(496.376136 514.3175)scale(0.1 -0.1)\">\n     <use xlink:href=\"#DejaVuSans-49\"/>\n    </g>\n   </g>\n   <g id=\"text_41\">\n    <!-- 1 -->\n    <g transform=\"translate(496.376136 487.1375)scale(0.1 -0.1)\">\n     <use xlink:href=\"#DejaVuSans-49\"/>\n    </g>\n   </g>\n   <g id=\"text_42\">\n    <!-- 1 -->\n    <g transform=\"translate(496.376136 459.9575)scale(0.1 -0.1)\">\n     <use xlink:href=\"#DejaVuSans-49\"/>\n    </g>\n   </g>\n   <g id=\"text_43\">\n    <!-- 1 -->\n    <g transform=\"translate(496.376136 432.7775)scale(0.1 -0.1)\">\n     <use xlink:href=\"#DejaVuSans-49\"/>\n    </g>\n   </g>\n   <g id=\"text_44\">\n    <!-- 1 -->\n    <g transform=\"translate(496.376136 405.5975)scale(0.1 -0.1)\">\n     <use xlink:href=\"#DejaVuSans-49\"/>\n    </g>\n   </g>\n   <g id=\"text_45\">\n    <!-- 1 -->\n    <g transform=\"translate(496.376136 378.4175)scale(0.1 -0.1)\">\n     <use xlink:href=\"#DejaVuSans-49\"/>\n    </g>\n   </g>\n   <g id=\"text_46\">\n    <!-- 1 -->\n    <g transform=\"translate(496.376136 351.2375)scale(0.1 -0.1)\">\n     <use xlink:href=\"#DejaVuSans-49\"/>\n    </g>\n   </g>\n   <g id=\"text_47\">\n    <!-- 1 -->\n    <g transform=\"translate(496.376136 324.0575)scale(0.1 -0.1)\">\n     <use xlink:href=\"#DejaVuSans-49\"/>\n    </g>\n   </g>\n   <g id=\"text_48\">\n    <!-- 1 -->\n    <g transform=\"translate(496.376136 296.8775)scale(0.1 -0.1)\">\n     <use xlink:href=\"#DejaVuSans-49\"/>\n    </g>\n   </g>\n   <g id=\"text_49\">\n    <!-- 1 -->\n    <g transform=\"translate(496.376136 269.6975)scale(0.1 -0.1)\">\n     <use xlink:href=\"#DejaVuSans-49\"/>\n    </g>\n   </g>\n   <g id=\"text_50\">\n    <!-- 1 -->\n    <g transform=\"translate(496.376136 242.5175)scale(0.1 -0.1)\">\n     <use xlink:href=\"#DejaVuSans-49\"/>\n    </g>\n   </g>\n   <g id=\"text_51\">\n    <!-- 1 -->\n    <g transform=\"translate(496.376136 215.3375)scale(0.1 -0.1)\">\n     <use xlink:href=\"#DejaVuSans-49\"/>\n    </g>\n   </g>\n   <g id=\"text_52\">\n    <!-- 1 -->\n    <g transform=\"translate(496.376136 188.1575)scale(0.1 -0.1)\">\n     <use xlink:href=\"#DejaVuSans-49\"/>\n    </g>\n   </g>\n   <g id=\"text_53\">\n    <!-- 1 -->\n    <g transform=\"translate(496.376136 160.9775)scale(0.1 -0.1)\">\n     <use xlink:href=\"#DejaVuSans-49\"/>\n    </g>\n   </g>\n   <g id=\"text_54\">\n    <!-- 2 -->\n    <g transform=\"translate(648.557955 133.7975)scale(0.1 -0.1)\">\n     <use xlink:href=\"#DejaVuSans-50\"/>\n    </g>\n   </g>\n   <g id=\"text_55\">\n    <!-- 2 -->\n    <g transform=\"translate(648.557955 106.6175)scale(0.1 -0.1)\">\n     <use xlink:href=\"#DejaVuSans-50\"/>\n    </g>\n   </g>\n   <g id=\"text_56\">\n    <!-- 3 -->\n    <g transform=\"translate(800.739773 79.4375)scale(0.1 -0.1)\">\n     <use xlink:href=\"#DejaVuSans-51\"/>\n    </g>\n   </g>\n   <g id=\"text_57\">\n    <!-- 4 -->\n    <g transform=\"translate(952.921591 52.2575)scale(0.1 -0.1)\">\n     <use xlink:href=\"#DejaVuSans-52\"/>\n    </g>\n   </g>\n   <g id=\"text_58\">\n    <!-- Feature importance -->\n    <g transform=\"translate(467.957188 16.318125)scale(0.12 -0.12)\">\n     <defs>\n      <path d=\"M 18.109375 8.203125 \nL 18.109375 -20.796875 \nL 9.078125 -20.796875 \nL 9.078125 54.6875 \nL 18.109375 54.6875 \nL 18.109375 46.390625 \nQ 20.953125 51.265625 25.265625 53.625 \nQ 29.59375 56 35.59375 56 \nQ 45.5625 56 51.78125 48.09375 \nQ 58.015625 40.1875 58.015625 27.296875 \nQ 58.015625 14.40625 51.78125 6.484375 \nQ 45.5625 -1.421875 35.59375 -1.421875 \nQ 29.59375 -1.421875 25.265625 0.953125 \nQ 20.953125 3.328125 18.109375 8.203125 \nz\nM 48.6875 27.296875 \nQ 48.6875 37.203125 44.609375 42.84375 \nQ 40.53125 48.484375 33.40625 48.484375 \nQ 26.265625 48.484375 22.1875 42.84375 \nQ 18.109375 37.203125 18.109375 27.296875 \nQ 18.109375 17.390625 22.1875 11.75 \nQ 26.265625 6.109375 33.40625 6.109375 \nQ 40.53125 6.109375 44.609375 11.75 \nQ 48.6875 17.390625 48.6875 27.296875 \nz\n\" id=\"DejaVuSans-112\"/>\n     </defs>\n     <use xlink:href=\"#DejaVuSans-70\"/>\n     <use x=\"52.019531\" xlink:href=\"#DejaVuSans-101\"/>\n     <use x=\"113.542969\" xlink:href=\"#DejaVuSans-97\"/>\n     <use x=\"174.822266\" xlink:href=\"#DejaVuSans-116\"/>\n     <use x=\"214.03125\" xlink:href=\"#DejaVuSans-117\"/>\n     <use x=\"277.410156\" xlink:href=\"#DejaVuSans-114\"/>\n     <use x=\"316.273438\" xlink:href=\"#DejaVuSans-101\"/>\n     <use x=\"377.796875\" xlink:href=\"#DejaVuSans-32\"/>\n     <use x=\"409.583984\" xlink:href=\"#DejaVuSans-105\"/>\n     <use x=\"437.367188\" xlink:href=\"#DejaVuSans-109\"/>\n     <use x=\"534.779297\" xlink:href=\"#DejaVuSans-112\"/>\n     <use x=\"598.255859\" xlink:href=\"#DejaVuSans-111\"/>\n     <use x=\"659.4375\" xlink:href=\"#DejaVuSans-114\"/>\n     <use x=\"700.550781\" xlink:href=\"#DejaVuSans-116\"/>\n     <use x=\"739.759766\" xlink:href=\"#DejaVuSans-97\"/>\n     <use x=\"801.039062\" xlink:href=\"#DejaVuSans-110\"/>\n     <use x=\"864.417969\" xlink:href=\"#DejaVuSans-99\"/>\n     <use x=\"919.398438\" xlink:href=\"#DejaVuSans-101\"/>\n    </g>\n   </g>\n  </g>\n </g>\n <defs>\n  <clipPath id=\"p5bdb625ffe\">\n   <rect height=\"652.32\" width=\"669.6\" x=\"192.0125\" y=\"22.318125\"/>\n  </clipPath>\n </defs>\n</svg>\n",
      "image/png": "[encoded data removed]"
     },
     "metadata": {
      "needs_background": "light"
     }
    }
   ],
   "metadata": {}
  },
  {
   "cell_type": "markdown",
   "source": [
    "### Random Forest"
   ],
   "metadata": {}
  },
  {
   "cell_type": "code",
   "execution_count": 23,
   "source": [
    "model = RandomForestClassifier()\n",
    "model.fit(train_x, train_y)"
   ],
   "outputs": [],
   "metadata": {}
  },
  {
   "cell_type": "code",
   "execution_count": null,
   "source": [
    "y_preds = model.predict(val_x)\n",
    "rf_val_results = evaluate(val_y, y_preds)"
   ],
   "outputs": [
    {
     "output_type": "stream",
     "name": "stdout",
     "text": [
      "              precision    recall  f1-score   support\n",
      "\n",
      "     absence       0.88      0.88      0.88      2203\n",
      "    presence       0.88      0.88      0.88      2185\n",
      "\n",
      "    accuracy                           0.88      4388\n",
      "   macro avg       0.88      0.88      0.88      4388\n",
      "weighted avg       0.88      0.88      0.88      4388\n",
      "\n"
     ]
    }
   ],
   "metadata": {}
  },
  {
   "cell_type": "code",
   "execution_count": null,
   "source": [
    "y_preds = model.predict(data_test)\n",
    "rf_test_results = evaluate(test_target, y_preds)"
   ],
   "outputs": [
    {
     "output_type": "stream",
     "name": "stdout",
     "text": [
      "              precision    recall  f1-score   support\n",
      "\n",
      "     absence       0.55      0.85      0.67      1622\n",
      "    presence       0.68      0.32      0.44      1631\n",
      "\n",
      "    accuracy                           0.58      3253\n",
      "   macro avg       0.62      0.59      0.55      3253\n",
      "weighted avg       0.62      0.58      0.55      3253\n",
      "\n"
     ]
    }
   ],
   "metadata": {}
  },
  {
   "cell_type": "markdown",
   "source": [
    "## Results"
   ],
   "metadata": {}
  },
  {
   "cell_type": "markdown",
   "source": [
    "### Validation"
   ],
   "metadata": {}
  },
  {
   "cell_type": "code",
   "execution_count": null,
   "source": [
    "val_results = pd.DataFrame({\n",
    "    \"Logistic\": logistic_val_results, \n",
    "    \"XGBoost\": xgb_val_results, \n",
    "    \"Random Forest\": rf_val_results,\n",
    "})\n",
    "val_results"
   ],
   "outputs": [
    {
     "output_type": "execute_result",
     "data": {
      "text/plain": [
       "                                    Logistic                     XGBoost  \\\n",
       "accuracy                            0.592981                    0.714904   \n",
       "confusion_matrix  [[1277, 926], [860, 1325]]  [[1522, 681], [570, 1615]]   \n",
       "kappa                               0.186048                    0.429917   \n",
       "f1                                  0.597385                    0.720821   \n",
       "\n",
       "                               Random Forest  \n",
       "accuracy                            0.881951  \n",
       "confusion_matrix  [[1938, 265], [253, 1932]]  \n",
       "kappa                               0.763903  \n",
       "f1                                  0.881789  "
      ],
      "text/html": [
       "<div>\n",
       "<style scoped>\n",
       "    .dataframe tbody tr th:only-of-type {\n",
       "        vertical-align: middle;\n",
       "    }\n",
       "\n",
       "    .dataframe tbody tr th {\n",
       "        vertical-align: top;\n",
       "    }\n",
       "\n",
       "    .dataframe thead th {\n",
       "        text-align: right;\n",
       "    }\n",
       "</style>\n",
       "<table border=\"1\" class=\"dataframe\">\n",
       "  <thead>\n",
       "    <tr style=\"text-align: right;\">\n",
       "      <th></th>\n",
       "      <th>Logistic</th>\n",
       "      <th>XGBoost</th>\n",
       "      <th>Random Forest</th>\n",
       "    </tr>\n",
       "  </thead>\n",
       "  <tbody>\n",
       "    <tr>\n",
       "      <th>accuracy</th>\n",
       "      <td>0.592981</td>\n",
       "      <td>0.714904</td>\n",
       "      <td>0.881951</td>\n",
       "    </tr>\n",
       "    <tr>\n",
       "      <th>confusion_matrix</th>\n",
       "      <td>[[1277, 926], [860, 1325]]</td>\n",
       "      <td>[[1522, 681], [570, 1615]]</td>\n",
       "      <td>[[1938, 265], [253, 1932]]</td>\n",
       "    </tr>\n",
       "    <tr>\n",
       "      <th>kappa</th>\n",
       "      <td>0.186048</td>\n",
       "      <td>0.429917</td>\n",
       "      <td>0.763903</td>\n",
       "    </tr>\n",
       "    <tr>\n",
       "      <th>f1</th>\n",
       "      <td>0.597385</td>\n",
       "      <td>0.720821</td>\n",
       "      <td>0.881789</td>\n",
       "    </tr>\n",
       "  </tbody>\n",
       "</table>\n",
       "</div>"
      ]
     },
     "metadata": {},
     "execution_count": 26
    }
   ],
   "metadata": {}
  },
  {
   "cell_type": "markdown",
   "source": [
    "### Test"
   ],
   "metadata": {}
  },
  {
   "cell_type": "code",
   "execution_count": null,
   "source": [
    "test_results = pd.DataFrame({\n",
    "    \"Logistic\": logistic_test_results, \n",
    "    \"XGBoost\": xgb_test_results, \n",
    "    \"Random Forest\": rf_test_results,\n",
    "})\n",
    "test_results"
   ],
   "outputs": [
    {
     "output_type": "execute_result",
     "data": {
      "text/plain": [
       "                                   Logistic                    XGBoost  \\\n",
       "accuracy                           0.535813                   0.636028   \n",
       "confusion_matrix  [[655, 967], [543, 1088]]  [[868, 754], [430, 1201]]   \n",
       "kappa                              0.070949                    0.27165   \n",
       "f1                                 0.590342                   0.669827   \n",
       "\n",
       "                               Random Forest  \n",
       "accuracy                            0.584998  \n",
       "confusion_matrix  [[1380, 242], [1108, 523]]  \n",
       "kappa                               0.171211  \n",
       "f1                                  0.436561  "
      ],
      "text/html": [
       "<div>\n",
       "<style scoped>\n",
       "    .dataframe tbody tr th:only-of-type {\n",
       "        vertical-align: middle;\n",
       "    }\n",
       "\n",
       "    .dataframe tbody tr th {\n",
       "        vertical-align: top;\n",
       "    }\n",
       "\n",
       "    .dataframe thead th {\n",
       "        text-align: right;\n",
       "    }\n",
       "</style>\n",
       "<table border=\"1\" class=\"dataframe\">\n",
       "  <thead>\n",
       "    <tr style=\"text-align: right;\">\n",
       "      <th></th>\n",
       "      <th>Logistic</th>\n",
       "      <th>XGBoost</th>\n",
       "      <th>Random Forest</th>\n",
       "    </tr>\n",
       "  </thead>\n",
       "  <tbody>\n",
       "    <tr>\n",
       "      <th>accuracy</th>\n",
       "      <td>0.535813</td>\n",
       "      <td>0.636028</td>\n",
       "      <td>0.584998</td>\n",
       "    </tr>\n",
       "    <tr>\n",
       "      <th>confusion_matrix</th>\n",
       "      <td>[[655, 967], [543, 1088]]</td>\n",
       "      <td>[[868, 754], [430, 1201]]</td>\n",
       "      <td>[[1380, 242], [1108, 523]]</td>\n",
       "    </tr>\n",
       "    <tr>\n",
       "      <th>kappa</th>\n",
       "      <td>0.070949</td>\n",
       "      <td>0.27165</td>\n",
       "      <td>0.171211</td>\n",
       "    </tr>\n",
       "    <tr>\n",
       "      <th>f1</th>\n",
       "      <td>0.590342</td>\n",
       "      <td>0.669827</td>\n",
       "      <td>0.436561</td>\n",
       "    </tr>\n",
       "  </tbody>\n",
       "</table>\n",
       "</div>"
      ]
     },
     "metadata": {},
     "execution_count": 27
    }
   ],
   "metadata": {}
  },
  {
   "cell_type": "markdown",
   "source": [
    "## Interpretation"
   ],
   "metadata": {}
  },
  {
   "cell_type": "code",
   "execution_count": null,
   "source": [],
   "outputs": [],
   "metadata": {}
  }
 ],
 "metadata": {
  "kernelspec": {
   "name": "python3",
   "display_name": "Python 3.8.5 64-bit ('base': conda)"
  },
  "language_info": {
   "codemirror_mode": {
    "name": "ipython",
    "version": 3
   },
   "file_extension": ".py",
   "mimetype": "text/x-python",
   "name": "python",
   "nbconvert_exporter": "python",
   "pygments_lexer": "ipython3",
   "version": "3.8.5"
  },
  "interpreter": {
   "hash": "dca0ade3e726a953b501b15e8e990130d2b7799f14cfd9f4271676035ebe5511"
  }
 },
 "nbformat": 4,
 "nbformat_minor": 4
}