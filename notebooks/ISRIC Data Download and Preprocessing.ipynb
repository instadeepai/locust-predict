{
 "cells": [
  {
   "cell_type": "code",
   "execution_count": 1,
   "metadata": {},
   "outputs": [],
   "source": [
    "# !pip install soilgrids"
   ]
  },
  {
   "cell_type": "code",
   "execution_count": 2,
   "metadata": {},
   "outputs": [],
   "source": [
    "import numpy as np\n",
    "import pandas as pd\n",
    "import time\n",
    "from itertools import product\n",
    "from soilgrids import SoilGrids\n",
    "import os"
   ]
  },
  {
   "cell_type": "code",
   "execution_count": null,
   "metadata": {},
   "outputs": [],
   "source": []
  },
  {
   "cell_type": "code",
   "execution_count": 3,
   "metadata": {},
   "outputs": [],
   "source": [
    "def grid_space(bbox, num_boxes):\n",
    "    \"\"\"Breaks a big rectangle into smaller ones.\n",
    "    \n",
    "    Given the bbox coordinates of a rectangle,\n",
    "    it breaks it down into smaller squares and\n",
    "    returns a list of bbox coordinates.\n",
    "    \"\"\"\n",
    "    xmin, ymin, xmax, ymax = bbox\n",
    "    x_values = np.linspace(xmin, xmax, num_boxes+1)\n",
    "    y_values = np.linspace(ymin, ymax, num_boxes+1)\n",
    "    min_edges = list(product(range(num_boxes), range(num_boxes)))\n",
    "    max_edges = []\n",
    "\n",
    "    for edge in min_edges:\n",
    "        max_edges.append((edge[0]+1, edge[1]+1))\n",
    "\n",
    "    boxes = []\n",
    "    for min_edge, max_edge in zip(min_edges, max_edges):\n",
    "        boxes.append((x_values[min_edge[0]], y_values[min_edge[1]], x_values[max_edge[0]], y_values[max_edge[1]]))\n",
    "    return boxes\n",
    "\n",
    "\n",
    "def get_soil_grids(bbox, service_id, coverage_id, resolution, out_filename, retries=3):\n",
    "    soil_grids = SoilGrids()\n",
    "    status = False\n",
    "    df = None\n",
    "    _retries = retries\n",
    "    while _retries > 0:\n",
    "        try:\n",
    "            data = soil_grids.get_coverage_data(service_id=service_id, coverage_id=coverage_id,\n",
    "                                               west=bbox[0], south=bbox[1], east=bbox[2], north=bbox[3],\n",
    "                                               width=(bbox[2]-bbox[0])/resolution, height=(bbox[3]-bbox[1])/resolution,\n",
    "                                               crs='urn:ogc:def:crs:EPSG::4326', output=out_filename)\n",
    "            df = data.to_dataframe(coverage_id)\n",
    "            status = True\n",
    "            break\n",
    "        except:\n",
    "            _retries -= 1\n",
    "            status = False\n",
    "            time.sleep(1)\n",
    "    return df, status"
   ]
  },
  {
   "cell_type": "code",
   "execution_count": 4,
   "metadata": {},
   "outputs": [],
   "source": [
    "fao_bbox = [-78, -14, 86, 51]\n",
    "bboxes = grid_space(fao_bbox, 5)"
   ]
  },
  {
   "cell_type": "code",
   "execution_count": 5,
   "metadata": {},
   "outputs": [
    {
     "data": {
      "text/plain": [
       "[(-78.0, -14.0, -45.2, -1.0),\n",
       " (-78.0, -1.0, -45.2, 12.0),\n",
       " (-78.0, 12.0, -45.2, 25.0),\n",
       " (-78.0, 25.0, -45.2, 38.0),\n",
       " (-78.0, 38.0, -45.2, 51.0),\n",
       " (-45.2, -14.0, -12.400000000000006, -1.0),\n",
       " (-45.2, -1.0, -12.400000000000006, 12.0),\n",
       " (-45.2, 12.0, -12.400000000000006, 25.0),\n",
       " (-45.2, 25.0, -12.400000000000006, 38.0),\n",
       " (-45.2, 38.0, -12.400000000000006, 51.0),\n",
       " (-12.400000000000006, -14.0, 20.39999999999999, -1.0),\n",
       " (-12.400000000000006, -1.0, 20.39999999999999, 12.0),\n",
       " (-12.400000000000006, 12.0, 20.39999999999999, 25.0),\n",
       " (-12.400000000000006, 25.0, 20.39999999999999, 38.0),\n",
       " (-12.400000000000006, 38.0, 20.39999999999999, 51.0),\n",
       " (20.39999999999999, -14.0, 53.19999999999999, -1.0),\n",
       " (20.39999999999999, -1.0, 53.19999999999999, 12.0),\n",
       " (20.39999999999999, 12.0, 53.19999999999999, 25.0),\n",
       " (20.39999999999999, 25.0, 53.19999999999999, 38.0),\n",
       " (20.39999999999999, 38.0, 53.19999999999999, 51.0),\n",
       " (53.19999999999999, -14.0, 86.0, -1.0),\n",
       " (53.19999999999999, -1.0, 86.0, 12.0),\n",
       " (53.19999999999999, 12.0, 86.0, 25.0),\n",
       " (53.19999999999999, 25.0, 86.0, 38.0),\n",
       " (53.19999999999999, 38.0, 86.0, 51.0)]"
      ]
     },
     "execution_count": 5,
     "metadata": {},
     "output_type": "execute_result"
    }
   ],
   "source": [
    "bboxes"
   ]
  },
  {
   "cell_type": "markdown",
   "metadata": {},
   "source": [
    "# Clay 0-5 cm"
   ]
  },
  {
   "cell_type": "code",
   "execution_count": 6,
   "metadata": {},
   "outputs": [],
   "source": [
    "service_id = \"clay\"\n",
    "coverage_id = \"clay_0-5cm_mean\"\n",
    "resolution = 0.01 # in degrees\n",
    "\n",
    "os.makedirs(f\"ISRIC Data/{coverage_id}\", exist_ok=True)"
   ]
  },
  {
   "cell_type": "code",
   "execution_count": null,
   "metadata": {},
   "outputs": [],
   "source": [
    "chunks = dict()\n",
    "\n",
    "for idx, bbox in enumerate(bboxes):\n",
    "    filename = f\"ISRIC Data/{coverage_id}/{coverage_id}_{idx}.tif\"\n",
    "    df, status = get_soil_grids(bbox, service_id, coverage_id, resolution, filename)\n",
    "    chunks[bbox] = df\n",
    "\n",
    "bboxes_not_found = []\n",
    "for bbox, value in chunks.items():\n",
    "    if value is None:\n",
    "        bboxes_not_found.append(bbox)\n",
    "\n",
    "for idx, bbox in enumerate(bboxes_not_found):\n",
    "    filename = f\"ISRIC Data/{coverage_id}/{coverage_id}_{idx}.tif\"\n",
    "    df, status = get_soil_grids(bbox, service_id, coverage_id, resolution, filename, retries=5)\n",
    "    chunks[bbox] = df"
   ]
  },
  {
   "cell_type": "code",
   "execution_count": null,
   "metadata": {},
   "outputs": [],
   "source": [
    "bboxes_not_found = []\n",
    "for bbox, value in chunks.items():\n",
    "    if value is None:\n",
    "        bboxes_not_found.append(bbox)\n",
    "len(bboxes_not_found)"
   ]
  },
  {
   "cell_type": "code",
   "execution_count": null,
   "metadata": {},
   "outputs": [],
   "source": [
    "# clay_0_5cm_mean = pd.concat(chunks.values())\n",
    "# clay_0_5cm_mean.to_csv(\"data/fao_clay_0_5cm_mean.csv\")"
   ]
  },
  {
   "cell_type": "markdown",
   "metadata": {},
   "source": [
    "# Clay 5-15 cm"
   ]
  },
  {
   "cell_type": "code",
   "execution_count": null,
   "metadata": {},
   "outputs": [],
   "source": [
    "service_id = \"clay\"\n",
    "coverage_id = \"clay_5-15cm_mean\"\n",
    "resolution = 0.01 # in degrees\n",
    "\n",
    "os.makedirs(f\"ISRIC Data/{coverage_id}\", exist_ok=True)"
   ]
  },
  {
   "cell_type": "code",
   "execution_count": null,
   "metadata": {},
   "outputs": [],
   "source": [
    "chunks = dict()\n",
    "\n",
    "for idx, bbox in enumerate(bboxes):\n",
    "    filename = f\"ISRIC Data/{coverage_id}/{coverage_id}_{idx}.tif\"\n",
    "    df, status = get_soil_grids(bbox, service_id, coverage_id, resolution, filename)\n",
    "    chunks[bbox] = df\n",
    "\n",
    "bboxes_not_found = []\n",
    "for bbox, value in chunks.items():\n",
    "    if value is None:\n",
    "        bboxes_not_found.append(bbox)\n",
    "\n",
    "for idx, bbox in enumerate(bboxes_not_found):\n",
    "    filename = f\"ISRIC Data/{coverage_id}/{coverage_id}_{idx}.tif\"\n",
    "    df, status = get_soil_grids(bbox, service_id, coverage_id, resolution, filename, retries=5)\n",
    "    chunks[bbox] = df"
   ]
  },
  {
   "cell_type": "code",
   "execution_count": null,
   "metadata": {},
   "outputs": [],
   "source": [
    "bboxes_not_found = []\n",
    "for bbox, value in chunks.items():\n",
    "    if value is None:\n",
    "        bboxes_not_found.append(bbox)\n",
    "len(bboxes_not_found)"
   ]
  },
  {
   "cell_type": "code",
   "execution_count": null,
   "metadata": {},
   "outputs": [],
   "source": [
    "# clay_5_15cm_mean = pd.concat(chunks.values())\n",
    "# clay_5_15cm_mean.to_csv(\"data/fao_clay_5_15cm_mean.csv\")"
   ]
  },
  {
   "cell_type": "code",
   "execution_count": null,
   "metadata": {},
   "outputs": [],
   "source": [
    "# del chunks\n",
    "# del clay_5_15cm_mean"
   ]
  },
  {
   "cell_type": "markdown",
   "metadata": {},
   "source": [
    "# Sand 0-5 cm"
   ]
  },
  {
   "cell_type": "code",
   "execution_count": null,
   "metadata": {},
   "outputs": [],
   "source": [
    "service_id = \"sand\"\n",
    "coverage_id = \"sand_0-5cm_mean\"\n",
    "resolution = 0.01 # in degrees\n",
    "\n",
    "os.makedirs(f\"ISRIC Data/{coverage_id}\", exist_ok=True)"
   ]
  },
  {
   "cell_type": "code",
   "execution_count": null,
   "metadata": {},
   "outputs": [],
   "source": [
    "chunks = dict()\n",
    "\n",
    "for idx, bbox in enumerate(bboxes):\n",
    "    filename = f\"ISRIC Data/{coverage_id}/{coverage_id}_{idx}.tif\"\n",
    "    df, status = get_soil_grids(bbox, service_id, coverage_id, resolution, filename)\n",
    "    chunks[bbox] = df\n",
    "\n",
    "bboxes_not_found = []\n",
    "for bbox, value in chunks.items():\n",
    "    if value is None:\n",
    "        bboxes_not_found.append(bbox)\n",
    "\n",
    "for idx, bbox in enumerate(bboxes_not_found):\n",
    "    filename = f\"ISRIC Data/{coverage_id}/{coverage_id}_{idx}.tif\"\n",
    "    df, status = get_soil_grids(bbox, service_id, coverage_id, resolution, filename, retries=5)\n",
    "    chunks[bbox] = df"
   ]
  },
  {
   "cell_type": "code",
   "execution_count": null,
   "metadata": {},
   "outputs": [],
   "source": [
    "bboxes_not_found = []\n",
    "for bbox, value in chunks.items():\n",
    "    if value is None:\n",
    "        bboxes_not_found.append(bbox)\n",
    "len(bboxes_not_found)"
   ]
  },
  {
   "cell_type": "code",
   "execution_count": null,
   "metadata": {},
   "outputs": [],
   "source": [
    "# sand_0_5cm_mean = pd.concat(chunks.values())\n",
    "# sand_0_5cm_mean.to_csv(\"data/fao_sand_0_5cm_mean.csv\")"
   ]
  },
  {
   "cell_type": "code",
   "execution_count": null,
   "metadata": {},
   "outputs": [],
   "source": [
    "# del chunks\n",
    "# del sand_0_5cm_mean"
   ]
  },
  {
   "cell_type": "markdown",
   "metadata": {},
   "source": [
    "# Sand 5-15 cm"
   ]
  },
  {
   "cell_type": "code",
   "execution_count": null,
   "metadata": {},
   "outputs": [],
   "source": [
    "service_id = \"sand\"\n",
    "coverage_id = \"sand_5-15cm_mean\"\n",
    "resolution = 0.01 # in degrees\n",
    "\n",
    "os.makedirs(f\"ISRIC Data/{coverage_id}\", exist_ok=True)"
   ]
  },
  {
   "cell_type": "code",
   "execution_count": null,
   "metadata": {},
   "outputs": [],
   "source": [
    "chunks = dict()\n",
    "\n",
    "for idx, bbox in enumerate(bboxes):\n",
    "    filename = f\"ISRIC Data/{coverage_id}/{coverage_id}_{idx}.tif\"\n",
    "    df, status = get_soil_grids(bbox, service_id, coverage_id, resolution, filename)\n",
    "    chunks[bbox] = df\n",
    "\n",
    "bboxes_not_found = []\n",
    "for bbox, value in chunks.items():\n",
    "    if value is None:\n",
    "        bboxes_not_found.append(bbox)\n",
    "\n",
    "for idx, bbox in enumerate(bboxes_not_found):\n",
    "    filename = f\"ISRIC Data/{coverage_id}/{coverage_id}_{idx}.tif\"\n",
    "    df, status = get_soil_grids(bbox, service_id, coverage_id, resolution, filename, retries=5)\n",
    "    chunks[bbox] = df"
   ]
  },
  {
   "cell_type": "code",
   "execution_count": null,
   "metadata": {},
   "outputs": [],
   "source": [
    "bboxes_not_found = []\n",
    "for bbox, value in chunks.items():\n",
    "    if value is None:\n",
    "        bboxes_not_found.append(bbox)\n",
    "len(bboxes_not_found)"
   ]
  },
  {
   "cell_type": "code",
   "execution_count": null,
   "metadata": {},
   "outputs": [],
   "source": [
    "# sand_5_15cm_mean = pd.concat(chunks.values())\n",
    "# sand_5_15cm_mean.to_csv(\"data/fao_sand_5_15cm_mean.csv\")"
   ]
  },
  {
   "cell_type": "markdown",
   "metadata": {},
   "source": [
    "# Silt 0-5 cm"
   ]
  },
  {
   "cell_type": "code",
   "execution_count": null,
   "metadata": {},
   "outputs": [],
   "source": [
    "service_id = \"silt\"\n",
    "coverage_id = \"silt_0-5cm_mean\"\n",
    "resolution = 0.01 # in degrees\n",
    "\n",
    "os.makedirs(f\"ISRIC Data/{coverage_id}\", exist_ok=True)"
   ]
  },
  {
   "cell_type": "code",
   "execution_count": null,
   "metadata": {},
   "outputs": [],
   "source": [
    "chunks = dict()\n",
    "\n",
    "for idx, bbox in enumerate(bboxes):\n",
    "    filename = f\"ISRIC Data/{coverage_id}/{coverage_id}_{idx}.tif\"\n",
    "    df, status = get_soil_grids(bbox, service_id, coverage_id, resolution, filename)\n",
    "    chunks[bbox] = df\n",
    "\n",
    "bboxes_not_found = []\n",
    "for bbox, value in chunks.items():\n",
    "    if value is None:\n",
    "        bboxes_not_found.append(bbox)\n",
    "\n",
    "for idx, bbox in enumerate(bboxes_not_found):\n",
    "    filename = f\"ISRIC Data/{coverage_id}/{coverage_id}_{idx}.tif\"\n",
    "    df, status = get_soil_grids(bbox, service_id, coverage_id, resolution, filename, retries=5)\n",
    "    chunks[bbox] = df"
   ]
  },
  {
   "cell_type": "code",
   "execution_count": null,
   "metadata": {},
   "outputs": [],
   "source": [
    "bboxes_not_found = []\n",
    "for bbox, value in chunks.items():\n",
    "    if value is None:\n",
    "        bboxes_not_found.append(bbox)\n",
    "len(bboxes_not_found)"
   ]
  },
  {
   "cell_type": "code",
   "execution_count": null,
   "metadata": {},
   "outputs": [],
   "source": [
    "# silt_0_5cm_mean = pd.concat(chunks.values())\n",
    "# silt_0_5cm_mean.to_csv(\"data/fao_silt_0_5cm_mean.csv\")"
   ]
  },
  {
   "cell_type": "markdown",
   "metadata": {},
   "source": [
    "# Silt 5-15 cm"
   ]
  },
  {
   "cell_type": "code",
   "execution_count": null,
   "metadata": {},
   "outputs": [],
   "source": [
    "service_id = \"silt\"\n",
    "coverage_id = \"silt_5-15cm_mean\"\n",
    "resolution = 0.01 # in degrees\n",
    "\n",
    "os.makedirs(f\"ISRIC Data/{coverage_id}\", exist_ok=True)"
   ]
  },
  {
   "cell_type": "code",
   "execution_count": null,
   "metadata": {},
   "outputs": [],
   "source": [
    "chunks = dict()\n",
    "\n",
    "for idx, bbox in enumerate(bboxes):\n",
    "    filename = f\"ISRIC Data/{coverage_id}/{coverage_id}_{idx}.tif\"\n",
    "    df, status = get_soil_grids(bbox, service_id, coverage_id, resolution, filename)\n",
    "    chunks[bbox] = df\n",
    "\n",
    "bboxes_not_found = []\n",
    "for bbox, value in chunks.items():\n",
    "    if value is None:\n",
    "        bboxes_not_found.append(bbox)\n",
    "\n",
    "for idx, bbox in enumerate(bboxes_not_found):\n",
    "    filename = f\"ISRIC Data/{coverage_id}/{coverage_id}_{idx}.tif\"\n",
    "    df, status = get_soil_grids(bbox, service_id, coverage_id, resolution, filename, retries=5)\n",
    "    chunks[bbox] = df"
   ]
  },
  {
   "cell_type": "code",
   "execution_count": null,
   "metadata": {},
   "outputs": [],
   "source": [
    "bboxes_not_found = []\n",
    "for bbox, value in chunks.items():\n",
    "    if value is None:\n",
    "        bboxes_not_found.append(bbox)\n",
    "len(bboxes_not_found)"
   ]
  },
  {
   "cell_type": "code",
   "execution_count": null,
   "metadata": {},
   "outputs": [],
   "source": [
    "# silt_5_15cm_mean = pd.concat(chunks.values())\n",
    "# silt_5_15cm_mean.to_csv(\"data/fao_silt_5_15cm_mean.csv\")"
   ]
  },
  {
   "cell_type": "code",
   "execution_count": 66,
   "metadata": {},
   "outputs": [],
   "source": [
    "import rasterio\n",
    "from rasterio.merge import merge\n",
    "import glob\n",
    "import os\n",
    "\n",
    "def merge_raster_in_folder(src_dir, out_filename):\n",
    "    \"\"\"Merge all the raster (TIFF extension) within the given directory\"\"\"\n",
    "\n",
    "    # create list of raster files in source folder\n",
    "    rasters = []\n",
    "    for file in glob.glob(f\"{src_dir}/*.tif\"):\n",
    "        rasters.append(file)\n",
    "\n",
    "    # create list of raster objects from the list of raster filename\n",
    "    sources = [rasterio.open(raster) for raster in rasters]\n",
    "    assert len(rasters) == 25, 'Incomplete folder'\n",
    "    src_crs = sources[0].profile['crs']\n",
    "    # create array representing all source rasters mosaicked together\n",
    "    dest_array, out_transform = merge(sources)\n",
    "    \n",
    "    with rasterio.Env():\n",
    "\n",
    "        dest_profile = {\n",
    "            \"driver\": 'GTiff',\n",
    "            \"height\": dest_array.shape[1],\n",
    "            \"width\": dest_array.shape[2],\n",
    "            \"count\": 1,\n",
    "            \"dtype\": dest_array.dtype,\n",
    "            \"crs\": src_crs,\n",
    "            \"transform\": out_transform,\n",
    "            \"compress\":'lzw',\n",
    "        }\n",
    "\n",
    "        with rasterio.open(out_filename, 'w', **dest_profile) as dst:\n",
    "            dst.write(dest_array[0], 1)"
   ]
  },
  {
   "cell_type": "code",
   "execution_count": 63,
   "metadata": {
    "collapsed": true
   },
   "outputs": [
    {
     "name": "stdout",
     "output_type": "stream",
     "text": [
      "['/experiments/Locusts/ISRIC Data/clay_0-5cm_mean/clay_0-5cm_mean_16.tif', '/experiments/Locusts/ISRIC Data/clay_0-5cm_mean/clay_0-5cm_mean_20.tif', '/experiments/Locusts/ISRIC Data/clay_0-5cm_mean/clay_0-5cm_mean_10.tif', '/experiments/Locusts/ISRIC Data/clay_0-5cm_mean/clay_0-5cm_mean_6.tif', '/experiments/Locusts/ISRIC Data/clay_0-5cm_mean/clay_0-5cm_mean_13.tif', '/experiments/Locusts/ISRIC Data/clay_0-5cm_mean/clay_0-5cm_mean_12.tif', '/experiments/Locusts/ISRIC Data/clay_0-5cm_mean/clay_0-5cm_mean_15.tif', '/experiments/Locusts/ISRIC Data/clay_0-5cm_mean/clay_0-5cm_mean_17.tif', '/experiments/Locusts/ISRIC Data/clay_0-5cm_mean/clay_0-5cm_mean_19.tif', '/experiments/Locusts/ISRIC Data/clay_0-5cm_mean/clay_0-5cm_mean_22.tif', '/experiments/Locusts/ISRIC Data/clay_0-5cm_mean/clay_0-5cm_mean_24.tif', '/experiments/Locusts/ISRIC Data/clay_0-5cm_mean/clay_0-5cm_mean_21.tif', '/experiments/Locusts/ISRIC Data/clay_0-5cm_mean/clay_0-5cm_mean_2.tif', '/experiments/Locusts/ISRIC Data/clay_0-5cm_mean/clay_0-5cm_mean_11.tif', '/experiments/Locusts/ISRIC Data/clay_0-5cm_mean/clay_0-5cm_mean_3.tif', '/experiments/Locusts/ISRIC Data/clay_0-5cm_mean/clay_0-5cm_mean_14.tif', '/experiments/Locusts/ISRIC Data/clay_0-5cm_mean/clay_0-5cm_mean_0.tif', '/experiments/Locusts/ISRIC Data/clay_0-5cm_mean/clay_0-5cm_mean_8.tif', '/experiments/Locusts/ISRIC Data/clay_0-5cm_mean/clay_0-5cm_mean_7.tif', '/experiments/Locusts/ISRIC Data/clay_0-5cm_mean/clay_0-5cm_mean_1.tif', '/experiments/Locusts/ISRIC Data/clay_0-5cm_mean/clay_0-5cm_mean_18.tif', '/experiments/Locusts/ISRIC Data/clay_0-5cm_mean/clay_0-5cm_mean_23.tif', '/experiments/Locusts/ISRIC Data/clay_0-5cm_mean/clay_0-5cm_mean_4.tif', '/experiments/Locusts/ISRIC Data/clay_0-5cm_mean/clay_0-5cm_mean_9.tif', '/experiments/Locusts/ISRIC Data/clay_0-5cm_mean/clay_0-5cm_mean_5.tif']\n",
      "25\n"
     ]
    }
   ],
   "source": [
    "merge_raster_in_folder('/experiments/Locusts/ISRIC Data/clay_0-5cm_mean', '/experiments/Locusts/ISRIC Data/full_isric_data/clay_0-5cm_mean.tif')"
   ]
  },
  {
   "cell_type": "code",
   "execution_count": 67,
   "metadata": {},
   "outputs": [],
   "source": [
    "merge_raster_in_folder('/experiments/Locusts/ISRIC Data/clay_5-15cm_mean', '/experiments/Locusts/ISRIC Data/full_isric_data/clay_5-15cm_mean.tif')\n"
   ]
  },
  {
   "cell_type": "code",
   "execution_count": 68,
   "metadata": {},
   "outputs": [],
   "source": [
    "merge_raster_in_folder('/experiments/Locusts/ISRIC Data/sand_0-5cm_mean', '/experiments/Locusts/ISRIC Data/full_isric_data/sand_0-5cm_mean.tif')"
   ]
  },
  {
   "cell_type": "code",
   "execution_count": 69,
   "metadata": {},
   "outputs": [],
   "source": [
    "merge_raster_in_folder('/experiments/Locusts/ISRIC Data/sand_5-15cm_mean', '/experiments/Locusts/ISRIC Data/full_isric_data/sand_5-15cm_mean.tif')"
   ]
  },
  {
   "cell_type": "code",
   "execution_count": 70,
   "metadata": {},
   "outputs": [],
   "source": [
    "merge_raster_in_folder('/experiments/Locusts/ISRIC Data/silt_0-5cm_mean', '/experiments/Locusts/ISRIC Data/full_isric_data/silt_0-5cm_mean.tif')"
   ]
  },
  {
   "cell_type": "code",
   "execution_count": 71,
   "metadata": {},
   "outputs": [],
   "source": [
    "merge_raster_in_folder('/experiments/Locusts/ISRIC Data/silt_5-15cm_mean', '/experiments/Locusts/ISRIC Data/full_isric_data/silt_5-15cm_mean.tif')"
   ]
  },
  {
   "cell_type": "code",
   "execution_count": 72,
   "metadata": {},
   "outputs": [],
   "source": [
    "os.chdir('/experiments/Locusts/ISRIC Data')"
   ]
  },
  {
   "cell_type": "code",
   "execution_count": 73,
   "metadata": {},
   "outputs": [],
   "source": [
    "!zip -r -q full_isric_data.zip \"full_isric_data\""
   ]
  },
  {
   "cell_type": "code",
   "execution_count": null,
   "metadata": {},
   "outputs": [],
   "source": []
  }
 ],
 "metadata": {
  "kernelspec": {
   "display_name": "Python 3",
   "language": "python",
   "name": "python3"
  },
  "language_info": {
   "codemirror_mode": {
    "name": "ipython",
    "version": 3
   },
   "file_extension": ".py",
   "mimetype": "text/x-python",
   "name": "python",
   "nbconvert_exporter": "python",
   "pygments_lexer": "ipython3",
   "version": "3.8.5"
  }
 },
 "nbformat": 4,
 "nbformat_minor": 4
}
