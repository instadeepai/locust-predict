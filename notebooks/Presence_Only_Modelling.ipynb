{
 "cells": [
  {
   "cell_type": "markdown",
   "id": "c3de15e1",
   "metadata": {},
   "source": [
    "# Presence only data modelling\n",
    "Build presence only models using presence and background data for training; and absence and pseudo-absence (until we get enough true absences) for evaluation. "
   ]
  },
  {
   "cell_type": "markdown",
   "id": "e35569e4",
   "metadata": {},
   "source": [
    "## Downloads and imports"
   ]
  },
  {
   "cell_type": "code",
   "execution_count": 16,
   "id": "076a5b85",
   "metadata": {},
   "outputs": [
    {
     "name": "stderr",
     "output_type": "stream",
     "text": [
      "also installing the dependencies ‘listenv’, ‘parallelly’, ‘future’, ‘warp’, ‘DiceDesign’, ‘glue’, ‘tidyselect’, ‘pillar’, ‘lhs’, ‘globals’, ‘tidyr’, ‘ipred’, ‘furrr’, ‘slider’, ‘ellipsis’, ‘pROC’, ‘cli’, ‘dials’, ‘dplyr’, ‘generics’, ‘GPfit’, ‘hardhat’, ‘lifecycle’, ‘parsnip’, ‘recipes’, ‘rlang’, ‘rsample’, ‘tibble’, ‘vctrs’, ‘workflows’, ‘yardstick’\n",
      "\n",
      "Updating HTML index of packages in '.Library'\n",
      "Making 'packages.html' ... done\n"
     ]
    }
   ],
   "source": [
    "install.packages(c(\"dismo\",\"maptools\",\"glmnet\",\"maxnet\",\"raster\",\"sp\",\"pryr\",\"tune\",\"tidyverse\",\"tictoc\",\"workflows\",\"ROCR\",\"MLmetrics\"))"
   ]
  },
  {
   "cell_type": "code",
   "execution_count": 1,
   "id": "eb05cb2d",
   "metadata": {},
   "outputs": [
    {
     "name": "stderr",
     "output_type": "stream",
     "text": [
      "Loading required package: Matrix\n",
      "Loaded glmnet 4.1-2\n",
      "Loading required package: raster\n",
      "Loading required package: sp\n",
      "── \u001b[1mAttaching packages\u001b[22m ─────────────────────────────────────── tidyverse 1.3.1 ──\n",
      "\u001b[32m✔\u001b[39m \u001b[34mggplot2\u001b[39m 3.3.5     \u001b[32m✔\u001b[39m \u001b[34mpurrr  \u001b[39m 0.3.4\n",
      "\u001b[32m✔\u001b[39m \u001b[34mtibble \u001b[39m 3.1.4     \u001b[32m✔\u001b[39m \u001b[34mdplyr  \u001b[39m 1.0.7\n",
      "\u001b[32m✔\u001b[39m \u001b[34mtidyr  \u001b[39m 1.1.4     \u001b[32m✔\u001b[39m \u001b[34mstringr\u001b[39m 1.4.0\n",
      "\u001b[32m✔\u001b[39m \u001b[34mreadr  \u001b[39m 2.0.2     \u001b[32m✔\u001b[39m \u001b[34mforcats\u001b[39m 0.5.1\n",
      "── \u001b[1mConflicts\u001b[22m ────────────────────────────────────────── tidyverse_conflicts() ──\n",
      "\u001b[31m✖\u001b[39m \u001b[34mtidyr\u001b[39m::\u001b[32mexpand()\u001b[39m  masks \u001b[34mMatrix\u001b[39m::expand()\n",
      "\u001b[31m✖\u001b[39m \u001b[34mtidyr\u001b[39m::\u001b[32mextract()\u001b[39m masks \u001b[34mraster\u001b[39m::extract()\n",
      "\u001b[31m✖\u001b[39m \u001b[34mdplyr\u001b[39m::\u001b[32mfilter()\u001b[39m  masks \u001b[34mstats\u001b[39m::filter()\n",
      "\u001b[31m✖\u001b[39m \u001b[34mdplyr\u001b[39m::\u001b[32mlag()\u001b[39m     masks \u001b[34mstats\u001b[39m::lag()\n",
      "\u001b[31m✖\u001b[39m \u001b[34mtidyr\u001b[39m::\u001b[32mpack()\u001b[39m    masks \u001b[34mMatrix\u001b[39m::pack()\n",
      "\u001b[31m✖\u001b[39m \u001b[34mdplyr\u001b[39m::\u001b[32mselect()\u001b[39m  masks \u001b[34mraster\u001b[39m::select()\n",
      "\u001b[31m✖\u001b[39m \u001b[34mtidyr\u001b[39m::\u001b[32munpack()\u001b[39m  masks \u001b[34mMatrix\u001b[39m::unpack()\n",
      "Registered S3 method overwritten by 'tune':\n",
      "  method                   from   \n",
      "  required_pkgs.model_spec parsnip\n",
      "\n",
      "Attaching package: ‘MLmetrics’\n",
      "\n",
      "The following object is masked from ‘package:base’:\n",
      "\n",
      "    Recall\n",
      "\n"
     ]
    }
   ],
   "source": [
    "library(maxnet)\n",
    "library(glmnet)\n",
    "library(dismo)\n",
    "library(tidyverse)   # packages for modeling and statistical analysis\n",
    "library(tune)         # For hyperparemeter tuning\n",
    "library(tictoc)       # for timimg\n",
    "library(workflows)    # streamline process\n",
    "library(parsnip)\n",
    "library(ROCR)\n",
    "library(MLmetrics)"
   ]
  },
  {
   "cell_type": "markdown",
   "id": "93523c18",
   "metadata": {},
   "source": [
    "## Helper functions"
   ]
  },
  {
   "cell_type": "code",
   "execution_count": 2,
   "id": "a88f8a85",
   "metadata": {},
   "outputs": [],
   "source": [
    "replace_na_with_mean <- function(dataframe) {\n",
    "    for(i in 1:ncol(dataframe)) {                                   # Replace NA in all columns\n",
    "        dataframe[ , i][is.na(dataframe[ , i])] <- mean(dataframe[ , i], na.rm = TRUE)\n",
    "    }\n",
    "    return(dataframe)\n",
    "}"
   ]
  },
  {
   "cell_type": "code",
   "execution_count": 3,
   "id": "c1366b15",
   "metadata": {},
   "outputs": [],
   "source": [
    "train_test_evaluate <- function(training_data,test_data,classes,regmult,plot_diagram) {\n",
    "    tic()\n",
    "    # Generate and normalize train data\n",
    "    train_x <- training_data[, -which(names(training_data) == \"presence\")]\n",
    "\n",
    "\n",
    "    ## Remove nans\n",
    "    train_x = replace_na_with_mean(train_x) \n",
    "    \n",
    "    ## Train model\n",
    "    maxent_model <- maxnet(training_data$presence, train_x, maxnet.formula(training_data$presence, train_x, classes=classes),regmult=regmult)\n",
    "    \n",
    "    # Generate and normalize test data\n",
    "    ## Ignore real absences for now - we eval on pseudo absences - ignore presence=2\n",
    "    test_data = test_data[test_data$presence %in% c(\"0\", \"1\"), ]\n",
    "\n",
    "    test_x <- test_data[, -which(names(test_data) == \"presence\")]\n",
    "\n",
    "    # Remove nans\n",
    "    test_x = replace_na_with_mean(test_x) \n",
    "\n",
    "    # Test model\n",
    "    test_pred = predict(maxent_model, test_x, clamp=T, type=\"cloglog\")\n",
    "    auc <- AUC(test_pred, test_data$presence)\n",
    "    accuracy <- Accuracy(ifelse(test_pred >= .5, 1, 0), test_data$presence)\n",
    "    f1 <- F1_Score(ifelse(test_pred >= .5, 1, 0), test_data$presence)\n",
    "    result_test <- data.frame(accuracy,f1,auc)\n",
    "    toc()\n",
    "    return(result_test)\n",
    "}"
   ]
  },
  {
   "cell_type": "markdown",
   "id": "fc7ef009",
   "metadata": {},
   "source": [
    "## Build models"
   ]
  },
  {
   "cell_type": "markdown",
   "id": "14e557c9",
   "metadata": {},
   "source": [
    "### Loading data "
   ]
  },
  {
   "cell_type": "code",
   "execution_count": 4,
   "id": "578fe992",
   "metadata": {},
   "outputs": [],
   "source": [
    "# Load preprocessed and scaled data\n",
    "train <- read.csv(\"../data/processed_and_scaled/scaled_train.csv\", header=TRUE)\n",
    "validation <- read.csv(\"../data/processed_and_scaled/scaled_val.csv\", header=TRUE)"
   ]
  },
  {
   "cell_type": "code",
   "execution_count": 5,
   "id": "5a641d44",
   "metadata": {},
   "outputs": [
    {
     "data": {
      "text/html": [
       "'Validation is 0.200018520233355 of train set. Presence points is 0.500462962962963, psuedo-absense/background is 0.499537037037037 '"
      ],
      "text/latex": [
       "'Validation is 0.200018520233355 of train set. Presence points is 0.500462962962963, psuedo-absense/background is 0.499537037037037 '"
      ],
      "text/markdown": [
       "'Validation is 0.200018520233355 of train set. Presence points is 0.500462962962963, psuedo-absense/background is 0.499537037037037 '"
      ],
      "text/plain": [
       "[1] \"Validation is 0.200018520233355 of train set. Presence points is 0.500462962962963, psuedo-absense/background is 0.499537037037037 \""
      ]
     },
     "metadata": {},
     "output_type": "display_data"
    }
   ],
   "source": [
    "sprintf(\"Validation is %s of train set. Presence points is %s, psuedo-absense/background is %s \", nrow(validation)/(nrow(train)+nrow(validation)),nrow(validation[validation$presence==\"1\",])/nrow(validation), nrow(validation[validation$presence==\"0\",])/nrow(validation))"
   ]
  },
  {
   "cell_type": "markdown",
   "id": "69dc32be",
   "metadata": {},
   "source": [
    "###  Hyperparam Search\n",
    "Use train and validation to find best hyparams"
   ]
  },
  {
   "cell_type": "code",
   "execution_count": null,
   "id": "c0c2f15b",
   "metadata": {},
   "outputs": [
    {
     "data": {
      "text/html": [
       "30"
      ],
      "text/latex": [
       "30"
      ],
      "text/markdown": [
       "30"
      ],
      "text/plain": [
       "[1] 30"
      ]
     },
     "metadata": {},
     "output_type": "display_data"
    }
   ],
   "source": [
    "# Create search grid\n",
    "search_grid <- expand.grid(classes=c(\"default\",\"l\",\"lq\"),regmult=seq(0.05, 1, by=0.10))\n",
    "nrow(search_grid)\n",
    "\n",
    "best_auc = 0\n",
    "# Loop through search grid and find best model and params\n",
    "for(row in 1:nrow(search_grid)){\n",
    "  tic()\n",
    "    \n",
    "  # Get vars\n",
    "  regmult <- search_grid$regmult[row]\n",
    "  classes <- search_grid$classes[row]\n",
    "    \n",
    "  cat(sprintf(\"Running config %s out of %s - reg mult:%s classes:%s \\n\", row,nrow(search_grid), regmult,classes))\n",
    "  result = train_test_evaluate(train,validation,classes,regmult,plot_diagram=FALSE)\n",
    "  if(best_auc < result$auc){\n",
    "   best_result <- result\n",
    "   best_class = classes\n",
    "   best_regmult = regmult\n",
    "   print(\"New best model\")\n",
    "   print(best_result)\n",
    "  }\n",
    "  \n",
    "  flush.console()\n",
    "  toc()\n",
    "}"
   ]
  },
  {
   "cell_type": "markdown",
   "id": "b0394f6e",
   "metadata": {},
   "source": [
    "Use best params found on test sets with different seeds"
   ]
  },
  {
   "cell_type": "code",
   "execution_count": null,
   "id": "7e6da085",
   "metadata": {},
   "outputs": [],
   "source": [
    "training_data = rbind(validation, train)\n",
    "\n",
    "all_results <- data.frame(index=integer(),accuracy=double(),f1=double(),\n",
    "                 auc=double()) \n",
    "\n",
    "for (i in 0:29){\n",
    "    tic()\n",
    "    test_filename <- sprintf(\"../data/processed_and_scaled/scaled_test_%s.csv\", i)\n",
    "    test_data <- read.csv(test_filename, header=TRUE)\n",
    "    \n",
    "    test_result <- train_test_evaluate(training_data,test_data,best_class,best_regmult,plot_diagram=FALSE)\n",
    "    test_result[, \"index\"] <- i\n",
    "    all_results = rbind(all_results, test_result)\n",
    "    \n",
    "    flush.console()\n",
    "    toc()\n",
    "}"
   ]
  },
  {
   "cell_type": "code",
   "execution_count": null,
   "id": "9a9a826f",
   "metadata": {},
   "outputs": [],
   "source": [
    "all_results<-all_results[,c(\"index\",\"accuracy\",\"f1\",\"auc\")]\n",
    "all_results"
   ]
  },
  {
   "cell_type": "code",
   "execution_count": null,
   "id": "7726a856",
   "metadata": {},
   "outputs": [],
   "source": [
    "write.csv(all_results,'maxent.csv',row.names=FALSE)"
   ]
  },
  {
   "cell_type": "code",
   "execution_count": null,
   "id": "9679de14",
   "metadata": {},
   "outputs": [],
   "source": []
  }
 ],
 "metadata": {
  "kernelspec": {
   "display_name": "R",
   "language": "R",
   "name": "ir"
  },
  "language_info": {
   "codemirror_mode": "r",
   "file_extension": ".r",
   "mimetype": "text/x-r-source",
   "name": "R",
   "pygments_lexer": "r",
   "version": "3.6.1"
  }
 },
 "nbformat": 4,
 "nbformat_minor": 5
}
