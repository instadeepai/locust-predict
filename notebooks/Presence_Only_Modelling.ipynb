{
 "cells": [
  {
   "cell_type": "markdown",
   "id": "c3de15e1",
   "metadata": {},
   "source": [
    "# Presence only data modelling\n",
    "Build presence only models using presence and background data for training; and absence and pseudo-absence (until we get enough true absences) for evaluation. "
   ]
  },
  {
   "cell_type": "markdown",
   "id": "ef729d4e",
   "metadata": {},
   "source": [
    "## Downloads and imports"
   ]
  },
  {
   "cell_type": "code",
   "execution_count": 16,
   "id": "076a5b85",
   "metadata": {},
   "outputs": [
    {
     "name": "stderr",
     "output_type": "stream",
     "text": [
      "also installing the dependencies ‘listenv’, ‘parallelly’, ‘future’, ‘warp’, ‘DiceDesign’, ‘glue’, ‘tidyselect’, ‘pillar’, ‘lhs’, ‘globals’, ‘tidyr’, ‘ipred’, ‘furrr’, ‘slider’, ‘ellipsis’, ‘pROC’, ‘cli’, ‘dials’, ‘dplyr’, ‘generics’, ‘GPfit’, ‘hardhat’, ‘lifecycle’, ‘parsnip’, ‘recipes’, ‘rlang’, ‘rsample’, ‘tibble’, ‘vctrs’, ‘workflows’, ‘yardstick’\n",
      "\n",
      "Updating HTML index of packages in '.Library'\n",
      "Making 'packages.html' ... done\n"
     ]
    }
   ],
   "source": [
    "install.packages(c(\"dismo\",\"maptools\",\"glmnet\",\"maxnet\",\"raster\",\"sp\",\"pryr\",\"tune\",\"tidyverse\",\"tictoc\",\"workflows\",\"ROCR\"))"
   ]
  },
  {
   "cell_type": "code",
   "execution_count": 1,
   "id": "eb05cb2d",
   "metadata": {},
   "outputs": [
    {
     "name": "stderr",
     "output_type": "stream",
     "text": [
      "Loading required package: Matrix\n",
      "Loaded glmnet 4.1-2\n",
      "Loading required package: raster\n",
      "Loading required package: sp\n",
      "── \u001b[1mAttaching packages\u001b[22m ─────────────────────────────────────── tidyverse 1.3.1 ──\n",
      "\u001b[32m✔\u001b[39m \u001b[34mggplot2\u001b[39m 3.3.5     \u001b[32m✔\u001b[39m \u001b[34mpurrr  \u001b[39m 0.3.4\n",
      "\u001b[32m✔\u001b[39m \u001b[34mtibble \u001b[39m 3.1.4     \u001b[32m✔\u001b[39m \u001b[34mdplyr  \u001b[39m 1.0.7\n",
      "\u001b[32m✔\u001b[39m \u001b[34mtidyr  \u001b[39m 1.1.4     \u001b[32m✔\u001b[39m \u001b[34mstringr\u001b[39m 1.4.0\n",
      "\u001b[32m✔\u001b[39m \u001b[34mreadr  \u001b[39m 2.0.2     \u001b[32m✔\u001b[39m \u001b[34mforcats\u001b[39m 0.5.1\n",
      "── \u001b[1mConflicts\u001b[22m ────────────────────────────────────────── tidyverse_conflicts() ──\n",
      "\u001b[31m✖\u001b[39m \u001b[34mtidyr\u001b[39m::\u001b[32mexpand()\u001b[39m  masks \u001b[34mMatrix\u001b[39m::expand()\n",
      "\u001b[31m✖\u001b[39m \u001b[34mtidyr\u001b[39m::\u001b[32mextract()\u001b[39m masks \u001b[34mraster\u001b[39m::extract()\n",
      "\u001b[31m✖\u001b[39m \u001b[34mdplyr\u001b[39m::\u001b[32mfilter()\u001b[39m  masks \u001b[34mstats\u001b[39m::filter()\n",
      "\u001b[31m✖\u001b[39m \u001b[34mdplyr\u001b[39m::\u001b[32mlag()\u001b[39m     masks \u001b[34mstats\u001b[39m::lag()\n",
      "\u001b[31m✖\u001b[39m \u001b[34mtidyr\u001b[39m::\u001b[32mpack()\u001b[39m    masks \u001b[34mMatrix\u001b[39m::pack()\n",
      "\u001b[31m✖\u001b[39m \u001b[34mdplyr\u001b[39m::\u001b[32mselect()\u001b[39m  masks \u001b[34mraster\u001b[39m::select()\n",
      "\u001b[31m✖\u001b[39m \u001b[34mtidyr\u001b[39m::\u001b[32munpack()\u001b[39m  masks \u001b[34mMatrix\u001b[39m::unpack()\n",
      "Registered S3 method overwritten by 'tune':\n",
      "  method                   from   \n",
      "  required_pkgs.model_spec parsnip\n"
     ]
    }
   ],
   "source": [
    "library(maxnet)\n",
    "library(glmnet)\n",
    "library(dismo)\n",
    "library(tidyverse)   # packages for modeling and statistical analysis\n",
    "library(tune)         # For hyperparemeter tuning\n",
    "library(tictoc)       # for timimg\n",
    "library(workflows)    # streamline process\n",
    "library(parsnip)\n",
    "library(ROCR)"
   ]
  },
  {
   "cell_type": "markdown",
   "id": "3c589f2c",
   "metadata": {},
   "source": [
    "## Helper functions"
   ]
  },
  {
   "cell_type": "code",
   "execution_count": 2,
   "id": "42e87a7c",
   "metadata": {},
   "outputs": [],
   "source": [
    "normalize <- function(x, min =0, max=1, na.rm = TRUE) {\n",
    "    X_std <- (x- min(x)) /(max(x)-min(x))\n",
    "    return(X_std * (max - min) + min)\n",
    "}"
   ]
  },
  {
   "cell_type": "code",
   "execution_count": 3,
   "id": "a88f8a85",
   "metadata": {},
   "outputs": [],
   "source": [
    "replace_na_with_mean <- function(dataframe) {\n",
    "    for(i in 1:ncol(dataframe)) {                                   # Replace NA in all columns\n",
    "        dataframe[ , i][is.na(dataframe[ , i])] <- mean(dataframe[ , i], na.rm = TRUE)\n",
    "    }\n",
    "    return(dataframe)\n",
    "}"
   ]
  },
  {
   "cell_type": "code",
   "execution_count": 4,
   "id": "c8782855",
   "metadata": {},
   "outputs": [],
   "source": [
    "train_test_evaluate <- function(training_data,test_data,classes,regmult,plot_diagram) {\n",
    "    tic()\n",
    "    # Generate and normalize train data\n",
    "    train_x <- training_data[, -which(names(training_data) == \"presence\")]\n",
    "\n",
    "    ## Remove nans\n",
    "    train_x = replace_na_with_mean(train_x) \n",
    "\n",
    "    ## Normalize \n",
    "    train_x = normalize(train_x)\n",
    "    \n",
    "    ## Train model\n",
    "    maxent_model <- maxnet(training_data$presence, train_x, maxnet.formula(training_data$presence, train_x, classes=classes),regmult=regmult)\n",
    "    \n",
    "    # Generate and normalize test data\n",
    "    ## Ignore real absences for now - we eval on pseudo absences - ignore presence=2\n",
    "    test_data = test_data[test_data$presence %in% c(\"0\", \"1\"), ]\n",
    "\n",
    "    test_x <- test_data[, -which(names(test_data) == \"presence\")]\n",
    "\n",
    "    # Remove nans\n",
    "    test_x = replace_na_with_mean(test_x) \n",
    "\n",
    "    # Normalize \n",
    "    test_x = normalize(test_x)\n",
    "\n",
    "    # Test model\n",
    "    result_test <- evaluate(test_x[test_data$presence == \"1\",],test_x[test_data$presence == \"0\",],maxent_model)\n",
    "    if(plot_diagram){\n",
    "        plot(result_test,'ROC')\n",
    "    }\n",
    "    toc()\n",
    "    return(result_test)\n",
    "}"
   ]
  },
  {
   "cell_type": "markdown",
   "id": "97d8fcd5",
   "metadata": {},
   "source": [
    "## Loading data "
   ]
  },
  {
   "cell_type": "code",
   "execution_count": 5,
   "id": "a83d8cc7",
   "metadata": {},
   "outputs": [],
   "source": [
    "# Load preprocessed data\n",
    "training_data <- read.csv(\"../data/preprocessed_train_val_random.csv\", header=TRUE)\n",
    "test_data  <- read.csv(\"../data/preprocessed_test_random.csv\", header=TRUE)\n",
    "\n",
    "\n",
    "# Presense only train data\n",
    "train_presence <- training_data[training_data$presence == \"1\", ]\n",
    "\n",
    "# Read already generated background data\n",
    "background_full <- read.csv(\"../data/preprocessed_background_data_updated.csv_full.csv\", header=TRUE)\n",
    "\n",
    "# combine presence and background\n",
    "training_data <- rbind(train_presence, background_full) "
   ]
  },
  {
   "cell_type": "code",
   "execution_count": 6,
   "id": "401a39d8",
   "metadata": {},
   "outputs": [],
   "source": [
    "# ignore first index column\n",
    "training_data = training_data[,2:ncol(training_data)]\n",
    "test_data = test_data[,2:ncol(test_data)]"
   ]
  },
  {
   "cell_type": "code",
   "execution_count": 7,
   "id": "851b39c3",
   "metadata": {},
   "outputs": [
    {
     "data": {
      "text/html": [
       "<table>\n",
       "<thead><tr><th scope=col>AvgSurfT_inst_bucket_1</th><th scope=col>AvgSurfT_inst_bucket_2</th><th scope=col>AvgSurfT_inst_bucket_3</th><th scope=col>AvgSurfT_inst_bucket_4</th><th scope=col>AvgSurfT_inst_bucket_5</th><th scope=col>AvgSurfT_inst_bucket_6</th><th scope=col>AvgSurfT_inst_bucket_7</th><th scope=col>AvgSurfT_inst_bucket_8</th><th scope=col>AvgSurfT_inst_bucket_9</th><th scope=col>AvgSurfT_inst_bucket_10</th><th scope=col>...</th><th scope=col>SoilTMP10_40cm_inst_bucket_8</th><th scope=col>SoilTMP10_40cm_inst_bucket_9</th><th scope=col>SoilTMP10_40cm_inst_bucket_10</th><th scope=col>SoilTMP10_40cm_inst_bucket_11</th><th scope=col>SoilTMP10_40cm_inst_bucket_12</th><th scope=col>SoilTMP10_40cm_inst_bucket_13</th><th scope=col>SoilTMP10_40cm_inst_bucket_14</th><th scope=col>sand_0.5cm_mean</th><th scope=col>sand_5.15cm_mean</th><th scope=col>presence</th></tr></thead>\n",
       "<tbody>\n",
       "\t<tr><td>301.2946 </td><td>300.7120 </td><td>301.1873 </td><td>303.9450 </td><td>300.6749 </td><td>302.7356 </td><td>304.7987 </td><td>303.9790 </td><td>306.4119 </td><td>308.0052 </td><td>...      </td><td>305.3548 </td><td>306.8133 </td><td>308.2266 </td><td>308.7590 </td><td>309.1228 </td><td>309.8650 </td><td>309.2894 </td><td>0.5876362</td><td>0.5805887</td><td>1        </td></tr>\n",
       "\t<tr><td>301.2946 </td><td>300.7120 </td><td>301.1873 </td><td>303.9450 </td><td>300.6749 </td><td>302.7356 </td><td>304.7987 </td><td>303.9790 </td><td>306.4119 </td><td>308.0052 </td><td>...      </td><td>305.3548 </td><td>306.8133 </td><td>308.2266 </td><td>308.7590 </td><td>309.1228 </td><td>309.8650 </td><td>309.2894 </td><td>0.5871003</td><td>0.5799854</td><td>1        </td></tr>\n",
       "\t<tr><td>301.2946 </td><td>300.7120 </td><td>301.1873 </td><td>303.9450 </td><td>300.6749 </td><td>302.7356 </td><td>304.7987 </td><td>303.9790 </td><td>306.4119 </td><td>308.0052 </td><td>...      </td><td>305.3548 </td><td>306.8133 </td><td>308.2266 </td><td>308.7590 </td><td>309.1228 </td><td>309.8650 </td><td>309.2894 </td><td>0.5868201</td><td>0.5797687</td><td>1        </td></tr>\n",
       "\t<tr><td>299.7526 </td><td>301.1066 </td><td>300.7033 </td><td>302.7293 </td><td>301.4368 </td><td>301.1487 </td><td>303.9104 </td><td>304.3420 </td><td>306.3383 </td><td>308.3056 </td><td>...      </td><td>305.2167 </td><td>307.0625 </td><td>308.6653 </td><td>308.9538 </td><td>309.1529 </td><td>310.0603 </td><td>309.6583 </td><td>0.5807767</td><td>0.5741047</td><td>1        </td></tr>\n",
       "\t<tr><td>299.7526 </td><td>301.1066 </td><td>300.7033 </td><td>302.7293 </td><td>301.4368 </td><td>301.1487 </td><td>303.9104 </td><td>304.3420 </td><td>306.3383 </td><td>308.3056 </td><td>...      </td><td>305.2167 </td><td>307.0625 </td><td>308.6653 </td><td>308.9538 </td><td>309.1529 </td><td>310.0603 </td><td>309.6583 </td><td>0.5800296</td><td>0.5731470</td><td>1        </td></tr>\n",
       "\t<tr><td>299.2820 </td><td>302.0430 </td><td>300.7356 </td><td>302.7871 </td><td>302.2794 </td><td>301.1952 </td><td>303.8422 </td><td>304.9244 </td><td>305.8410 </td><td>307.3593 </td><td>...      </td><td>305.3094 </td><td>306.6612 </td><td>307.7801 </td><td>308.5342 </td><td>308.8986 </td><td>309.6441 </td><td>309.5571 </td><td>0.5868835</td><td>0.5801188</td><td>1        </td></tr>\n",
       "</tbody>\n",
       "</table>\n"
      ],
      "text/latex": [
       "\\begin{tabular}{r|lllllllllllllllllllllllllllllllllllllllllllllllllllllllllllllllllllllllll}\n",
       " AvgSurfT\\_inst\\_bucket\\_1 & AvgSurfT\\_inst\\_bucket\\_2 & AvgSurfT\\_inst\\_bucket\\_3 & AvgSurfT\\_inst\\_bucket\\_4 & AvgSurfT\\_inst\\_bucket\\_5 & AvgSurfT\\_inst\\_bucket\\_6 & AvgSurfT\\_inst\\_bucket\\_7 & AvgSurfT\\_inst\\_bucket\\_8 & AvgSurfT\\_inst\\_bucket\\_9 & AvgSurfT\\_inst\\_bucket\\_10 & ... & SoilTMP10\\_40cm\\_inst\\_bucket\\_8 & SoilTMP10\\_40cm\\_inst\\_bucket\\_9 & SoilTMP10\\_40cm\\_inst\\_bucket\\_10 & SoilTMP10\\_40cm\\_inst\\_bucket\\_11 & SoilTMP10\\_40cm\\_inst\\_bucket\\_12 & SoilTMP10\\_40cm\\_inst\\_bucket\\_13 & SoilTMP10\\_40cm\\_inst\\_bucket\\_14 & sand\\_0.5cm\\_mean & sand\\_5.15cm\\_mean & presence\\\\\n",
       "\\hline\n",
       "\t 301.2946  & 300.7120  & 301.1873  & 303.9450  & 300.6749  & 302.7356  & 304.7987  & 303.9790  & 306.4119  & 308.0052  & ...       & 305.3548  & 306.8133  & 308.2266  & 308.7590  & 309.1228  & 309.8650  & 309.2894  & 0.5876362 & 0.5805887 & 1        \\\\\n",
       "\t 301.2946  & 300.7120  & 301.1873  & 303.9450  & 300.6749  & 302.7356  & 304.7987  & 303.9790  & 306.4119  & 308.0052  & ...       & 305.3548  & 306.8133  & 308.2266  & 308.7590  & 309.1228  & 309.8650  & 309.2894  & 0.5871003 & 0.5799854 & 1        \\\\\n",
       "\t 301.2946  & 300.7120  & 301.1873  & 303.9450  & 300.6749  & 302.7356  & 304.7987  & 303.9790  & 306.4119  & 308.0052  & ...       & 305.3548  & 306.8133  & 308.2266  & 308.7590  & 309.1228  & 309.8650  & 309.2894  & 0.5868201 & 0.5797687 & 1        \\\\\n",
       "\t 299.7526  & 301.1066  & 300.7033  & 302.7293  & 301.4368  & 301.1487  & 303.9104  & 304.3420  & 306.3383  & 308.3056  & ...       & 305.2167  & 307.0625  & 308.6653  & 308.9538  & 309.1529  & 310.0603  & 309.6583  & 0.5807767 & 0.5741047 & 1        \\\\\n",
       "\t 299.7526  & 301.1066  & 300.7033  & 302.7293  & 301.4368  & 301.1487  & 303.9104  & 304.3420  & 306.3383  & 308.3056  & ...       & 305.2167  & 307.0625  & 308.6653  & 308.9538  & 309.1529  & 310.0603  & 309.6583  & 0.5800296 & 0.5731470 & 1        \\\\\n",
       "\t 299.2820  & 302.0430  & 300.7356  & 302.7871  & 302.2794  & 301.1952  & 303.8422  & 304.9244  & 305.8410  & 307.3593  & ...       & 305.3094  & 306.6612  & 307.7801  & 308.5342  & 308.8986  & 309.6441  & 309.5571  & 0.5868835 & 0.5801188 & 1        \\\\\n",
       "\\end{tabular}\n"
      ],
      "text/markdown": [
       "\n",
       "| AvgSurfT_inst_bucket_1 | AvgSurfT_inst_bucket_2 | AvgSurfT_inst_bucket_3 | AvgSurfT_inst_bucket_4 | AvgSurfT_inst_bucket_5 | AvgSurfT_inst_bucket_6 | AvgSurfT_inst_bucket_7 | AvgSurfT_inst_bucket_8 | AvgSurfT_inst_bucket_9 | AvgSurfT_inst_bucket_10 | ... | SoilTMP10_40cm_inst_bucket_8 | SoilTMP10_40cm_inst_bucket_9 | SoilTMP10_40cm_inst_bucket_10 | SoilTMP10_40cm_inst_bucket_11 | SoilTMP10_40cm_inst_bucket_12 | SoilTMP10_40cm_inst_bucket_13 | SoilTMP10_40cm_inst_bucket_14 | sand_0.5cm_mean | sand_5.15cm_mean | presence |\n",
       "|---|---|---|---|---|---|---|---|---|---|---|---|---|---|---|---|---|---|---|---|---|\n",
       "| 301.2946  | 300.7120  | 301.1873  | 303.9450  | 300.6749  | 302.7356  | 304.7987  | 303.9790  | 306.4119  | 308.0052  | ...       | 305.3548  | 306.8133  | 308.2266  | 308.7590  | 309.1228  | 309.8650  | 309.2894  | 0.5876362 | 0.5805887 | 1         |\n",
       "| 301.2946  | 300.7120  | 301.1873  | 303.9450  | 300.6749  | 302.7356  | 304.7987  | 303.9790  | 306.4119  | 308.0052  | ...       | 305.3548  | 306.8133  | 308.2266  | 308.7590  | 309.1228  | 309.8650  | 309.2894  | 0.5871003 | 0.5799854 | 1         |\n",
       "| 301.2946  | 300.7120  | 301.1873  | 303.9450  | 300.6749  | 302.7356  | 304.7987  | 303.9790  | 306.4119  | 308.0052  | ...       | 305.3548  | 306.8133  | 308.2266  | 308.7590  | 309.1228  | 309.8650  | 309.2894  | 0.5868201 | 0.5797687 | 1         |\n",
       "| 299.7526  | 301.1066  | 300.7033  | 302.7293  | 301.4368  | 301.1487  | 303.9104  | 304.3420  | 306.3383  | 308.3056  | ...       | 305.2167  | 307.0625  | 308.6653  | 308.9538  | 309.1529  | 310.0603  | 309.6583  | 0.5807767 | 0.5741047 | 1         |\n",
       "| 299.7526  | 301.1066  | 300.7033  | 302.7293  | 301.4368  | 301.1487  | 303.9104  | 304.3420  | 306.3383  | 308.3056  | ...       | 305.2167  | 307.0625  | 308.6653  | 308.9538  | 309.1529  | 310.0603  | 309.6583  | 0.5800296 | 0.5731470 | 1         |\n",
       "| 299.2820  | 302.0430  | 300.7356  | 302.7871  | 302.2794  | 301.1952  | 303.8422  | 304.9244  | 305.8410  | 307.3593  | ...       | 305.3094  | 306.6612  | 307.7801  | 308.5342  | 308.8986  | 309.6441  | 309.5571  | 0.5868835 | 0.5801188 | 1         |\n",
       "\n"
      ],
      "text/plain": [
       "  AvgSurfT_inst_bucket_1 AvgSurfT_inst_bucket_2 AvgSurfT_inst_bucket_3\n",
       "1 301.2946               300.7120               301.1873              \n",
       "2 301.2946               300.7120               301.1873              \n",
       "3 301.2946               300.7120               301.1873              \n",
       "4 299.7526               301.1066               300.7033              \n",
       "5 299.7526               301.1066               300.7033              \n",
       "6 299.2820               302.0430               300.7356              \n",
       "  AvgSurfT_inst_bucket_4 AvgSurfT_inst_bucket_5 AvgSurfT_inst_bucket_6\n",
       "1 303.9450               300.6749               302.7356              \n",
       "2 303.9450               300.6749               302.7356              \n",
       "3 303.9450               300.6749               302.7356              \n",
       "4 302.7293               301.4368               301.1487              \n",
       "5 302.7293               301.4368               301.1487              \n",
       "6 302.7871               302.2794               301.1952              \n",
       "  AvgSurfT_inst_bucket_7 AvgSurfT_inst_bucket_8 AvgSurfT_inst_bucket_9\n",
       "1 304.7987               303.9790               306.4119              \n",
       "2 304.7987               303.9790               306.4119              \n",
       "3 304.7987               303.9790               306.4119              \n",
       "4 303.9104               304.3420               306.3383              \n",
       "5 303.9104               304.3420               306.3383              \n",
       "6 303.8422               304.9244               305.8410              \n",
       "  AvgSurfT_inst_bucket_10 ... SoilTMP10_40cm_inst_bucket_8\n",
       "1 308.0052                ... 305.3548                    \n",
       "2 308.0052                ... 305.3548                    \n",
       "3 308.0052                ... 305.3548                    \n",
       "4 308.3056                ... 305.2167                    \n",
       "5 308.3056                ... 305.2167                    \n",
       "6 307.3593                ... 305.3094                    \n",
       "  SoilTMP10_40cm_inst_bucket_9 SoilTMP10_40cm_inst_bucket_10\n",
       "1 306.8133                     308.2266                     \n",
       "2 306.8133                     308.2266                     \n",
       "3 306.8133                     308.2266                     \n",
       "4 307.0625                     308.6653                     \n",
       "5 307.0625                     308.6653                     \n",
       "6 306.6612                     307.7801                     \n",
       "  SoilTMP10_40cm_inst_bucket_11 SoilTMP10_40cm_inst_bucket_12\n",
       "1 308.7590                      309.1228                     \n",
       "2 308.7590                      309.1228                     \n",
       "3 308.7590                      309.1228                     \n",
       "4 308.9538                      309.1529                     \n",
       "5 308.9538                      309.1529                     \n",
       "6 308.5342                      308.8986                     \n",
       "  SoilTMP10_40cm_inst_bucket_13 SoilTMP10_40cm_inst_bucket_14 sand_0.5cm_mean\n",
       "1 309.8650                      309.2894                      0.5876362      \n",
       "2 309.8650                      309.2894                      0.5871003      \n",
       "3 309.8650                      309.2894                      0.5868201      \n",
       "4 310.0603                      309.6583                      0.5807767      \n",
       "5 310.0603                      309.6583                      0.5800296      \n",
       "6 309.6441                      309.5571                      0.5868835      \n",
       "  sand_5.15cm_mean presence\n",
       "1 0.5805887        1       \n",
       "2 0.5799854        1       \n",
       "3 0.5797687        1       \n",
       "4 0.5741047        1       \n",
       "5 0.5731470        1       \n",
       "6 0.5801188        1       "
      ]
     },
     "metadata": {},
     "output_type": "display_data"
    }
   ],
   "source": [
    "head(training_data)"
   ]
  },
  {
   "cell_type": "markdown",
   "id": "963265f0",
   "metadata": {},
   "source": [
    "## Build models"
   ]
  },
  {
   "cell_type": "markdown",
   "id": "7333c088",
   "metadata": {},
   "source": [
    "### V1 - Train, valdation, test split \n",
    "Version where we split train into train and validation for hyperparam tuning. "
   ]
  },
  {
   "cell_type": "code",
   "execution_count": 13,
   "id": "f7875801",
   "metadata": {},
   "outputs": [],
   "source": [
    "# Split train data into train and validation\n",
    "set.seed(42)\n",
    "## 75% of the sample size\n",
    "num_training_samples = nrow(training_data)\n",
    "smp_size <- floor(0.75 * num_training_samples)\n",
    "\n",
    "## set the seed to make your partition reproducible\n",
    "\n",
    "train_ind <- sample(seq_len(num_training_samples), size = smp_size)\n",
    "\n",
    "train      <- training_data[train_ind, ]\n",
    "validation <- training_data[-train_ind, ]"
   ]
  },
  {
   "cell_type": "code",
   "execution_count": 14,
   "id": "5a641d44",
   "metadata": {},
   "outputs": [
    {
     "data": {
      "text/html": [
       "'Validation is 0.250034389472236 of train set. Presence points is 0.505776636713736, psuedo-absense/background is 0.494223363286264 '"
      ],
      "text/latex": [
       "'Validation is 0.250034389472236 of train set. Presence points is 0.505776636713736, psuedo-absense/background is 0.494223363286264 '"
      ],
      "text/markdown": [
       "'Validation is 0.250034389472236 of train set. Presence points is 0.505776636713736, psuedo-absense/background is 0.494223363286264 '"
      ],
      "text/plain": [
       "[1] \"Validation is 0.250034389472236 of train set. Presence points is 0.505776636713736, psuedo-absense/background is 0.494223363286264 \""
      ]
     },
     "metadata": {},
     "output_type": "display_data"
    }
   ],
   "source": [
    "sprintf(\"Validation is %s of train set. Presence points is %s, psuedo-absense/background is %s \", nrow(validation)/(nrow(train)+nrow(validation)),nrow(validation[validation$presence==\"1\",])/nrow(validation), nrow(validation[validation$presence==\"0\",])/nrow(validation))"
   ]
  },
  {
   "cell_type": "markdown",
   "id": "69a7fa45",
   "metadata": {},
   "source": [
    "###  Hyperparam Search"
   ]
  },
  {
   "cell_type": "code",
   "execution_count": null,
   "id": "c0c2f15b",
   "metadata": {},
   "outputs": [
    {
     "data": {
      "text/html": [
       "42"
      ],
      "text/latex": [
       "42"
      ],
      "text/markdown": [
       "42"
      ],
      "text/plain": [
       "[1] 42"
      ]
     },
     "metadata": {},
     "output_type": "display_data"
    }
   ],
   "source": [
    "# Create search grid\n",
    "search_grid <- expand.grid(classes=c(\"default\",\"l\",\"p\",\"h\",\"t\",\"lq\"),regmult=seq(0.5, 10, by=1.5))\n",
    "nrow(search_grid)\n",
    "\n",
    "best_auc = 0\n",
    "# Loop through search grid and find best model and params\n",
    "for(row in 1:nrow(search_grid)){\n",
    "  tic()\n",
    "    \n",
    "  # Get vars\n",
    "  regmult <- search_grid$regmult[row]\n",
    "  classes <- search_grid$classes[row]\n",
    "    \n",
    "  cat(sprintf(\"Running config %s out of %s - reg mult:%s classes:%s \\n\", row,nrow(search_grid), regmult,classes))\n",
    "  result = train_test_evaluate(train,validation,classes,regmult,plot_diagram=FALSE)\n",
    "  print(result@auc,result@kappa)\n",
    "  if(best_auc < result@auc){\n",
    "   best_auc <- result@auc\n",
    "   best_model <- maxent_model\n",
    "   best_result <- result\n",
    "   best_class = classes\n",
    "   best_regmult = regmult\n",
    "   print(\"New best model\")\n",
    "  }\n",
    "  \n",
    "  flush.console()\n",
    "  toc()\n",
    "}"
   ]
  },
  {
   "cell_type": "markdown",
   "id": "68d957b2",
   "metadata": {},
   "source": [
    "Use best params found on test set"
   ]
  },
  {
   "cell_type": "code",
   "execution_count": null,
   "id": "1a65f459",
   "metadata": {},
   "outputs": [],
   "source": [
    "train_test_evaluate(training_data,test_data,best_class,best_regmult,plot_diagram=TRUE)"
   ]
  }
 ],
 "metadata": {
  "kernelspec": {
   "display_name": "R",
   "language": "R",
   "name": "ir"
  },
  "language_info": {
   "codemirror_mode": "r",
   "file_extension": ".r",
   "mimetype": "text/x-r-source",
   "name": "R",
   "pygments_lexer": "r",
   "version": "3.6.1"
  }
 },
 "nbformat": 4,
 "nbformat_minor": 5
}
