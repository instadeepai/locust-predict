{
 "cells": [
  {
   "cell_type": "markdown",
   "id": "c3de15e1",
   "metadata": {},
   "source": [
    "# Presence only data modelling\n",
    "Build presence only models using presence and background data for training; and absence and pseudo-absence for testing. "
   ]
  },
  {
   "cell_type": "markdown",
   "id": "e35569e4",
   "metadata": {},
   "source": [
    "## Downloads and imports"
   ]
  },
  {
   "cell_type": "code",
   "execution_count": null,
   "id": "156bea80",
   "metadata": {},
   "outputs": [],
   "source": [
    "# Install if you are are't running through docker\n",
    "# install.packages(c(\"dismo\",\"maxnet\",\"tictoc\",\"MLmetrics\",\"dplyr\"),repos = \"http://cran.us.r-project.org\")"
   ]
  },
  {
   "cell_type": "code",
   "execution_count": null,
   "id": "eb05cb2d",
   "metadata": {},
   "outputs": [],
   "source": [
    "library(maxnet)       \n",
    "library(tictoc)          \n",
    "library(MLmetrics)\n",
    "library(dplyr)"
   ]
  },
  {
   "cell_type": "markdown",
   "id": "93523c18",
   "metadata": {},
   "source": [
    "## Helper functions"
   ]
  },
  {
   "cell_type": "code",
   "execution_count": null,
   "id": "a88f8a85",
   "metadata": {},
   "outputs": [],
   "source": [
    "replace_na_with_mean <- function(dataframe) {\n",
    "    # Replace NA in all columns with mean of column\n",
    "    for(i in 1:ncol(dataframe)) {                                   \n",
    "        dataframe[ , i][is.na(dataframe[ , i])] <- mean(dataframe[ , i], na.rm = TRUE)\n",
    "    }\n",
    "    return(dataframe)\n",
    "}"
   ]
  },
  {
   "cell_type": "code",
   "execution_count": null,
   "id": "c1366b15",
   "metadata": {},
   "outputs": [],
   "source": [
    "train_test_evaluate <- function(training_data,test_data,classes,regmult,plot_diagram) {\n",
    "    # Generate and normalize train data\n",
    "    train_x <- training_data[, -which(names(training_data) == \"presence\")]\n",
    "\n",
    "\n",
    "    ## Remove nans\n",
    "    train_x = replace_na_with_mean(train_x) \n",
    "    \n",
    "    ## Train model\n",
    "    maxent_model_for_run <- maxnet(training_data$presence, train_x, maxnet.formula(training_data$presence, train_x, classes=classes),regmult=regmult)\n",
    "    \n",
    "    # Generate and normalize test data\n",
    "    ## Ignore real absences for now - we eval on pseudo absences - ignore presence=2\n",
    "    test_data = test_data[test_data$presence %in% c(\"0\", \"1\"), ]\n",
    "\n",
    "    test_x <- test_data[, -which(names(test_data) == \"presence\")]\n",
    "\n",
    "    # Remove nans\n",
    "    test_x = replace_na_with_mean(test_x) \n",
    "\n",
    "    # Test model\n",
    "    test_pred = predict(maxent_model_for_run, test_x, clamp=T, type=\"cloglog\")\n",
    "    auc <- AUC(y_pred=test_pred, y_true=test_data$presence)\n",
    "    accuracy <- Accuracy(y_pred=ifelse(test_pred >= .5, 1, 0), y_true=test_data$presence)\n",
    "    f1 <- F1_Score(y_pred=ifelse(test_pred >= .5, 1, 0), y_true=test_data$presence)\n",
    "    result_test <- data.frame(accuracy,f1,auc)\n",
    "\n",
    "    return(result_test)\n",
    "}\n",
    "\n",
    "train_test_evaluate_existing_model <- function(maxent_model,test_data,plot_diagram) {\n",
    "    tic()\n",
    "    # Generate and normalize test data\n",
    "    ## Ignore real absences for now - we eval on pseudo absences - ignore presence=2\n",
    "    test_data = test_data[test_data$presence %in% c(\"0\", \"1\"), ]\n",
    "\n",
    "    test_x <- test_data[, -which(names(test_data) == \"presence\")]\n",
    "\n",
    "    # Remove nans\n",
    "    test_x = replace_na_with_mean(test_x) \n",
    "\n",
    "    # Test model\n",
    "    test_pred = predict(maxent_model, test_x, clamp=T, type=\"cloglog\")\n",
    "    auc <- AUC(y_pred=test_pred, y_true=test_data$presence)\n",
    "    accuracy <- Accuracy(y_pred=ifelse(test_pred >= .5, 1, 0), y_true=test_data$presence)\n",
    "    f1 <- F1_Score(y_pred=ifelse(test_pred >= .5, 1, 0), y_true=test_data$presence)\n",
    "    result_test <- data.frame(accuracy,f1,auc)\n",
    "    toc()\n",
    "    return(result_test)\n",
    "}"
   ]
  },
  {
   "cell_type": "code",
   "execution_count": null,
   "id": "9576ebf1",
   "metadata": {},
   "outputs": [],
   "source": [
    "# randomly sample from dataframe\n",
    "sample_from_dataset <- function(dataset,sample_percentage) {\n",
    "    num_training_samples = nrow(dataset)\n",
    "    smp_size <- floor(sample_percentage * num_training_samples)\n",
    "    train_ind <- sample(seq_len(num_training_samples), size = smp_size)\n",
    "    return(dataset[train_ind, ])\n",
    "}"
   ]
  },
  {
   "cell_type": "markdown",
   "id": "fc7ef009",
   "metadata": {},
   "source": [
    "# Build models"
   ]
  },
  {
   "cell_type": "markdown",
   "id": "13a04abc",
   "metadata": {},
   "source": [
    "## Loading data"
   ]
  },
  {
   "cell_type": "code",
   "execution_count": null,
   "id": "835f317a",
   "metadata": {},
   "outputs": [],
   "source": [
    "# Load preprocessed and scaled data\n",
    "train <- read.csv(\"../data/presence_only/scaled_train.csv\", header=TRUE)\n",
    "validation <- read.csv(\"../data/presence_only/scaled_val.csv\", header=TRUE)\n"
   ]
  },
  {
   "cell_type": "code",
   "execution_count": null,
   "id": "9cf595ac",
   "metadata": {},
   "outputs": [],
   "source": [
    "sprintf(\"Validation is %s of train set. Presence points is %s, psuedo-absense/background is %s \", nrow(validation)/(nrow(train)+nrow(validation)),nrow(validation[validation$presence==\"1\",])/nrow(validation), nrow(validation[validation$presence==\"0\",])/nrow(validation))"
   ]
  },
  {
   "cell_type": "markdown",
   "id": "69dc32be",
   "metadata": {},
   "source": [
    "## Hyperparam Search (**Optional**)\n",
    "Use train and validation to find best hyparams"
   ]
  },
  {
   "cell_type": "markdown",
   "id": "48e3a0aa",
   "metadata": {},
   "source": [
    "#### Use the train and validation set to find good hyperparams (or a subset of train and validation if this takes too long)"
   ]
  },
  {
   "cell_type": "code",
   "execution_count": null,
   "id": "dcb006f0",
   "metadata": {
    "scrolled": false
   },
   "outputs": [],
   "source": [
    "# Only use some of the training data - this takes too long while all the training data\n",
    "train_sample = sample_from_dataset(train,0.25)\n",
    "validation_sample = validation\n",
    "\n",
    "print(nrow(train_sample))\n",
    "print(ncol(train_sample))\n",
    "\n",
    "# Create search grid\n",
    "search_grid <- expand.grid(classes=c(\"l\",\"lq\",\"lqh\",\"h\",\"t\",\"p\"),regmult=seq(0.25, 2, by=0.25))\n",
    "nrow(search_grid)\n",
    "\n",
    "best_auc = 0\n",
    "# Loop through search grid and find best model and params\n",
    "for(row in 1:nrow(search_grid)){\n",
    "  tic()\n",
    "    \n",
    "  # Get vars\n",
    "  regmult <- search_grid$regmult[row]\n",
    "  classes <- search_grid$classes[row]\n",
    "    \n",
    "  cat(sprintf(\"Running config %s out of %s - reg mult:%s classes:%s \\n\", row,nrow(search_grid), regmult,classes))\n",
    "  result = train_test_evaluate(train_sample,validation_sample,classes,regmult,plot_diagram=FALSE)\n",
    "  print(result)\n",
    "  if(best_auc < result$auc){\n",
    "   best_result <- result\n",
    "   best_class <- classes\n",
    "   best_regmult <- regmult\n",
    "   best_auc <-  result$auc\n",
    "   print(\"New best model\")\n",
    "   print(best_result)\n",
    "  }\n",
    "  \n",
    "  flush.console()\n",
    "  toc()\n",
    "}"
   ]
  },
  {
   "cell_type": "markdown",
   "id": "b0394f6e",
   "metadata": {},
   "source": [
    "#### Use best params found on train & val sets, and use those on the test set"
   ]
  },
  {
   "cell_type": "code",
   "execution_count": null,
   "id": "ed294692",
   "metadata": {},
   "outputs": [],
   "source": [
    "print(best_class)\n",
    "print(best_regmult)"
   ]
  },
  {
   "cell_type": "markdown",
   "id": "a459a958",
   "metadata": {},
   "source": [
    "# Run Best Configuration on Test Data slices"
   ]
  },
  {
   "cell_type": "markdown",
   "id": "a04b1ac6",
   "metadata": {},
   "source": [
    "Use these params if you are not running hyperparam tuning."
   ]
  },
  {
   "cell_type": "code",
   "execution_count": null,
   "id": "2dddaac7",
   "metadata": {},
   "outputs": [],
   "source": [
    "best_class <- \"l\"\n",
    "best_regmult <- 1 "
   ]
  },
  {
   "cell_type": "code",
   "execution_count": null,
   "id": "b798f635",
   "metadata": {},
   "outputs": [],
   "source": [
    "tic()\n",
    "training_data = rbind(validation, train)\n",
    "\n",
    "training_data_subset_cols <- training_data\n",
    "\n",
    "all_results <- data.frame(index=integer(),accuracy=double(),f1=double(),\n",
    "                 auc=double()) \n",
    "\n",
    "train_x <- training_data_subset_cols[, -which(names(training_data_subset_cols) == \"presence\")]\n",
    "\n",
    "## Remove nans\n",
    "train_x = replace_na_with_mean(train_x) \n",
    "\n",
    "## Train model\n",
    "maxent_model <- maxnet(training_data_subset_cols$presence, train_x, maxnet.formula(training_data_subset_cols$presence, train_x, classes=best_class),regmult=best_regmult)\n",
    "toc()\n",
    "\n",
    "for (i in seq(7, 700, by=7)){\n",
    "    tic()\n",
    "    test_filename <- sprintf(\"../data/test_data/test_scaled_seed_%s.csv\", i)\n",
    "    \n",
    "    test_data <- read.csv(test_filename, header=TRUE)\n",
    "    \n",
    "    test_data <- test_data \n",
    "    \n",
    "    test_result <- train_test_evaluate_existing_model(maxent_model,test_data,plot_diagram=FALSE)\n",
    "    test_result[, \"seed\"] <- i\n",
    "    all_results = rbind(all_results, test_result)\n",
    "    \n",
    "    flush.console()\n",
    "    toc()\n",
    "}\n",
    "\n",
    "print(all_results)\n",
    "results_filename <- sprintf(\"../results/presence-only/maxent_%s_class_%s_reg.csv\", best_class,best_regmult)\n",
    "write.csv(all_results,results_filename,row.names=FALSE)"
   ]
  },
  {
   "cell_type": "code",
   "execution_count": null,
   "id": "5667341c",
   "metadata": {},
   "outputs": [],
   "source": []
  }
 ],
 "metadata": {
  "kernelspec": {
   "display_name": "R",
   "language": "R",
   "name": "ir"
  },
  "language_info": {
   "codemirror_mode": "r",
   "file_extension": ".r",
   "mimetype": "text/x-r-source",
   "name": "R",
   "pygments_lexer": "r",
   "version": "4.1.1"
  }
 },
 "nbformat": 4,
 "nbformat_minor": 5
}
