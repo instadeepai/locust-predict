{
 "cells": [
  {
   "cell_type": "markdown",
   "id": "12df70a5",
   "metadata": {},
   "source": [
    "# Presence only data modelling - Generate Random Points and Plots\n",
    "This notebook generates the background data points required for presence only models. For more on background points, read [this](https://rspatial.org/raster/sdm/3_sdm_absence-background.html)."
   ]
  },
  {
   "cell_type": "markdown",
   "id": "ca124070",
   "metadata": {},
   "source": [
    "## Downloads and imports"
   ]
  },
  {
   "cell_type": "code",
   "execution_count": null,
   "id": "f770528d",
   "metadata": {},
   "outputs": [],
   "source": [
    "# Install if you are are't running through docker\n",
    "# install.packages(c(\"maxnet\",\"tictoc\",\"MLmetrics\",\"dplyr\",\"sp\",\"rworldmap\"),repos = \"http://cran.us.r-project.org\")\n",
    "# Manually install raster if you have problems with terra install\n",
    "# url <- \"https://cran.r-project.org/src/contrib/Archive/raster/raster_3.4-13.tar.gz\"\n",
    "# download.file(url, basename(url),  mode=\"wb\")\n",
    "# install.packages(basename(url), repos=NULL, type=\"source\")"
   ]
  },
  {
   "cell_type": "code",
   "execution_count": null,
   "id": "f41b4443",
   "metadata": {},
   "outputs": [],
   "source": [
    "library(maxnet)\n",
    "library(glmnet)\n",
    "library(sp)\n",
    "library(rworldmap)\n",
    "library(raster)\n",
    "require(maps)"
   ]
  },
  {
   "cell_type": "markdown",
   "id": "3a7ff13f",
   "metadata": {},
   "source": [
    "## Get data"
   ]
  },
  {
   "cell_type": "code",
   "execution_count": null,
   "id": "a09a7d8f",
   "metadata": {},
   "outputs": [],
   "source": [
    "train <- read.csv(\"../data/train_val_random.csv\", header=TRUE)\n",
    "test  <- read.csv(\"../data/test_random.csv\", header=TRUE)\n",
    "\n",
    "# Presense only train data\n",
    "train_only_presence <- train[train$presence == \"1\", ]"
   ]
  },
  {
   "cell_type": "code",
   "execution_count": null,
   "id": "8c9ffb1f",
   "metadata": {},
   "outputs": [],
   "source": [
    "training_data_dates <- train_only_presence[\"observation_date\"]"
   ]
  },
  {
   "cell_type": "markdown",
   "id": "ca11f333",
   "metadata": {},
   "source": [
    "## Get countries from coords \n",
    "https://stackoverflow.com/questions/14334970/convert-latitude-and-longitude-coordinates-to-country-name-in-r"
   ]
  },
  {
   "cell_type": "code",
   "execution_count": null,
   "id": "c673fef2",
   "metadata": {},
   "outputs": [],
   "source": [
    "# The single argument to this function, points, is a data.frame in which:\n",
    "#   - column 1 contains the longitude in degrees\n",
    "#   - column 2 contains the latitude in degrees\n",
    "coords2country = function(points)\n",
    "{  \n",
    "  countriesSP <- getMap(resolution='low')\n",
    "    \n",
    "  #setting CRS directly to that from rworldmap\n",
    "  pointsSP = SpatialPoints(points, proj4string=CRS(proj4string(countriesSP)))  \n",
    "\n",
    "\n",
    "  # use 'over' to get indices of the Polygons object containing each point \n",
    "  indices = over(pointsSP, countriesSP)\n",
    "    \n",
    "  print(unique(cbind(as.character(indices$ADMIN), as.character(indices$REGION))))\n",
    "\n",
    "  return((indices$ADMIN))\n",
    "}"
   ]
  },
  {
   "cell_type": "markdown",
   "id": "2ab3f4f3",
   "metadata": {},
   "source": [
    "#### List of countries in train data"
   ]
  },
  {
   "cell_type": "code",
   "execution_count": null,
   "id": "4f228093",
   "metadata": {},
   "outputs": [],
   "source": [
    "train_countries = unique(coords2country(train[c(\"x\",\"y\")]))"
   ]
  },
  {
   "cell_type": "code",
   "execution_count": null,
   "id": "0cc08b8a",
   "metadata": {},
   "outputs": [],
   "source": [
    "train_countries"
   ]
  },
  {
   "cell_type": "markdown",
   "id": "c94ecef2",
   "metadata": {},
   "source": [
    "#### Get bounding box for relevant countries"
   ]
  },
  {
   "cell_type": "code",
   "execution_count": null,
   "id": "eb57155a",
   "metadata": {},
   "outputs": [],
   "source": [
    "r <-  getData('alt' , country=\"Mauritania\", level=0, mask=TRUE)\n",
    "r1 <- getData('alt' , country=\"Mali\", level=0, mask=TRUE)\n",
    "r2 <- getData('alt' , country=\"Somalia\", level=0, mask=TRUE)\n",
    "\n",
    "r3 <- getData('alt' , country=\"Egypt\", level=0, mask=TRUE)\n",
    "r4 <- getData('alt' , country=\"Morocco\", level=0, mask=TRUE)\n",
    "r5 <- getData('alt' , country=\"Algeria\", level=0, mask=TRUE)\n",
    "r6 <- getData('alt' , country=\"Sudan\", level=0, mask=TRUE)\n",
    "r7 <- getData('alt' , country=\"Niger\", level=0, mask=TRUE)\n",
    "r8 <- getData('alt' , country=\"Eritrea\", level=0, mask=TRUE)\n",
    "r9 <- getData('alt' , country=\"Senegal\", level=0, mask=TRUE)\n",
    "r10 <- getData('alt' , country=\"Libya\", level=0, mask=TRUE)\n",
    "# r11 <- getData('alt' , country=\"Western Sahara\", level=0, mask=TRUE)\n",
    "r12 <- getData('alt' , country=\"Tunisia\", level=0, mask=TRUE) # check\n",
    "r13 <- getData('alt' , country=\"Cape Verde\", level=0, mask=TRUE)\n",
    "r14 <- getData('alt' , country=\"Chad\", level=0, mask=TRUE)\n",
    "r15 <- getData('alt' , country=\"Ethiopia\", level=0, mask=TRUE)\n",
    "r16<- getData('alt' , country=\"Djibouti\", level=0, mask=TRUE)  # check\n",
    "r17<- getData('alt' , country=\"Kenya\", level=0, mask=TRUE)\n",
    "\n",
    "combined_raster <- mosaic(r,r1,r2,r3,r4,r5,r6,r7,r8,r9,r10,r12,r13,r14,r15,r16,r17, fun = min,  tolerance = 0.35)"
   ]
  },
  {
   "cell_type": "code",
   "execution_count": null,
   "id": "9024cc10",
   "metadata": {
    "scrolled": false
   },
   "outputs": [],
   "source": [
    "plot(combined_raster)"
   ]
  },
  {
   "cell_type": "code",
   "execution_count": null,
   "id": "9d08b45a",
   "metadata": {},
   "outputs": [],
   "source": [
    "map(database = \"world\", regions =  c('Mauritania', 'Mali', 'Somalia','Egypt',\"Morocco\",\"Algeria\",\"Sudan\",\"Eritrea\",\"Senegal\",\"Libya\",\"Western Sahara\",\"Tunisia\",\"Niger\",\"Chad\",\"Ethiopia\",\"Djibouti\",\"Kenya\"),exact=TRUE)"
   ]
  },
  {
   "cell_type": "markdown",
   "id": "9f3c447c",
   "metadata": {},
   "source": [
    "# Generate Background Points\n",
    "Randomly generate bakcground points."
   ]
  },
  {
   "cell_type": "markdown",
   "id": "f29f2a92",
   "metadata": {},
   "source": [
    "## Randomly Generate x and y within country boundaries"
   ]
  },
  {
   "cell_type": "code",
   "execution_count": null,
   "id": "5c014e84",
   "metadata": {},
   "outputs": [],
   "source": [
    "library(dismo)\n",
    "library(tictoc)\n",
    "set.seed(42)\n",
    "tic()\n",
    "\n",
    "background_points <- randomPoints(combined_raster, nrow(train_only_presence))\n",
    "nrow(background_points)\n",
    "plot(background_points)\n",
    "\n",
    "toc()"
   ]
  },
  {
   "cell_type": "markdown",
   "id": "964a4ccc",
   "metadata": {},
   "source": [
    "## Generate random dates within date range of training data "
   ]
  },
  {
   "cell_type": "code",
   "execution_count": null,
   "id": "ec155248",
   "metadata": {},
   "outputs": [],
   "source": [
    "min_date = min(as.Date(training_data_dates$observation_date,format=\"%Y-%m-%d\"))\n",
    "max_date = max(as.Date(training_data_dates$observation_date,format=\"%Y-%m-%d\"))\n",
    "\n",
    "background = as.data.frame(background_points)\n",
    "background$date = sample(seq(min_date, max_date, by=\"day\"), nrow(background_points), replace=TRUE)"
   ]
  },
  {
   "cell_type": "code",
   "execution_count": null,
   "id": "2a8ad28f",
   "metadata": {},
   "outputs": [],
   "source": [
    "head(background_points)"
   ]
  },
  {
   "cell_type": "code",
   "execution_count": null,
   "id": "4e19fa0e",
   "metadata": {},
   "outputs": [],
   "source": [
    "write.csv(x=background, file=\"../data/presence_only/background/background_points.csv\")"
   ]
  },
  {
   "cell_type": "markdown",
   "id": "e64149e1",
   "metadata": {},
   "source": [
    "## Plot Different Absences\n",
    "Plotting Pseudo absences."
   ]
  },
  {
   "cell_type": "code",
   "execution_count": null,
   "id": "9f43bb6a",
   "metadata": {},
   "outputs": [],
   "source": [
    "plot_absence_presence <- function(whole_region,data,method,cex=3.5) {\n",
    "  pseudo_absence <- data[data$presence == \"0\", ][c(\"x\",\"y\")]\n",
    "  presence <- data[data$presence == \"1\", ][c(\"x\",\"y\")]\n",
    "\n",
    "  title <- method\n",
    "  file <- sprintf(\"../images/%s_sampling_size_%s.pdf\", method,cex)\n",
    "  pdf(file=file)\n",
    "  map(database = \"world\", regions =  c('Mauritania', 'Mali', 'Somalia','Egypt',\"Morocco\",\"Algeria\",\"Sudan\",\"Eritrea\",\"Senegal\",\"Libya\",\"Western Sahara\",\"Tunisia\",\"Niger\",\"Chad\",\"Ethiopia\",\"Djibouti\",\"Kenya\"),exact=TRUE)\n",
    "  points(pseudo_absence,col= \"red\", pch = \".\", cex = cex)\n",
    "  points(presence, col= \"blue\", pch = \".\", cex = cex)\n",
    "  dev.off()\n",
    "}"
   ]
  },
  {
   "cell_type": "code",
   "execution_count": null,
   "id": "8b296111",
   "metadata": {},
   "outputs": [],
   "source": [
    "cex=1\n",
    "plot_absence_presence(combined_raster_mali_mauri,read.csv(\"../data/train_val_random.csv\", header=TRUE),\"RS\",cex=cex)"
   ]
  },
  {
   "cell_type": "code",
   "execution_count": null,
   "id": "05c9fad5",
   "metadata": {},
   "outputs": [],
   "source": [
    "cex=1\n",
    "plot_absence_presence(combined_raster_mali_mauri,read.csv(\"../data/train_val_ep_random.csv\", header=TRUE),\"RSEP\",cex=cex)"
   ]
  },
  {
   "cell_type": "markdown",
   "id": "8c0e7da1",
   "metadata": {},
   "source": [
    "Plot background data"
   ]
  },
  {
   "cell_type": "code",
   "execution_count": null,
   "id": "61547444",
   "metadata": {},
   "outputs": [],
   "source": [
    "cex=1\n",
    "# Read already generated background data\n",
    "background <- read.csv(\"../data/presence_only/background/background_updated_full_data.csv\", header=TRUE)\n",
    "\n",
    "background[,\"presence\"] = 0\n",
    "\n",
    "train <- read.csv(\"../data/train_val_random.csv\", header=TRUE)\n",
    "\n",
    "# Presense only train data\n",
    "train_presence <- train[train$presence == \"1\", ]\n",
    "\n",
    "# combine presence and background\n",
    "train <- rbind(train_presence[c(\"x\",\"y\",\"presence\")], background[c(\"x\",\"y\",\"presence\")]) \n",
    "plot_absence_presence(combined_raster_mali_mauri,train,\"BD\",cex=cex)"
   ]
  },
  {
   "cell_type": "markdown",
   "id": "1cf76a05",
   "metadata": {},
   "source": [
    "Plot all data together"
   ]
  },
  {
   "cell_type": "code",
   "execution_count": null,
   "id": "f98d8bc9",
   "metadata": {},
   "outputs": [],
   "source": [
    "par(mfrow=c(2,2))\n",
    "cex=2\n",
    "plot_absence_presence(combined_raster_mali_mauri,read.csv(\"../data/train_val_random.csv\", header=TRUE),\"RS\",cex=cex)\n",
    "plot_absence_presence(combined_raster_mali_mauri,read.csv(\"../data/train_val_ep_random.csv\", header=TRUE),\"RSEP\",cex=cex)\n",
    "# plot_absence_presence(combined_raster_mali_mauri,read.csv(\"../data/train_val_ep_kmeans.csv\", header=TRUE),\"RSEP-KM\",cex=cex)\n",
    "\n",
    "\n",
    "# Read already generated background data\n",
    "background <- read.csv(\"../data/presence_only/background/background_updated_full_data.csv\", header=TRUE)\n",
    "\n",
    "background[,\"presence\"] = 0\n",
    "\n",
    "train <- read.csv(\"../data/train_val_random.csv\", header=TRUE)\n",
    "\n",
    "# Presense only train data\n",
    "train_presence <- train[train$presence == \"1\", ]\n",
    "\n",
    "# combine presence and background\n",
    "train <- rbind(train_presence[c(\"x\",\"y\",\"presence\")], background[c(\"x\",\"y\",\"presence\")]) \n",
    "plot_absence_presence(combined_raster_mali_mauri,train,\"BD\",cex=cex)"
   ]
  }
 ],
 "metadata": {
  "kernelspec": {
   "display_name": "R",
   "language": "R",
   "name": "ir"
  },
  "language_info": {
   "codemirror_mode": "r",
   "file_extension": ".r",
   "mimetype": "text/x-r-source",
   "name": "R",
   "pygments_lexer": "r",
   "version": "4.1.1"
  }
 },
 "nbformat": 4,
 "nbformat_minor": 5
}
